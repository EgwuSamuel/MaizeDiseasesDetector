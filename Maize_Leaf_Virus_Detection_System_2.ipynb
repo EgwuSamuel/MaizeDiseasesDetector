{
  "cells": [
    {
      "cell_type": "markdown",
      "metadata": {
        "id": "view-in-github",
        "colab_type": "text"
      },
      "source": [
        "<a href=\"https://colab.research.google.com/github/EgwuSamuel/MaizeDiseasesDetector/blob/main/Maize_Leaf_Virus_Detection_System_2.ipynb\" target=\"_parent\"><img src=\"https://colab.research.google.com/assets/colab-badge.svg\" alt=\"Open In Colab\"/></a>"
      ]
    },
    {
      "cell_type": "code",
      "execution_count": null,
      "metadata": {
        "colab": {
          "base_uri": "https://localhost:8080/"
        },
        "id": "hYKRoPN0nY83",
        "outputId": "9728fe67-0803-4177-a1c4-5a131c4ac666"
      },
      "outputs": [
        {
          "name": "stdout",
          "output_type": "stream",
          "text": [
            "Collecting ultralytics\n",
            "  Downloading ultralytics-8.3.111-py3-none-any.whl.metadata (37 kB)\n",
            "Requirement already satisfied: tensorflow in /usr/local/lib/python3.11/dist-packages (2.18.0)\n",
            "Requirement already satisfied: numpy<=2.1.1,>=1.23.0 in /usr/local/lib/python3.11/dist-packages (from ultralytics) (2.0.2)\n",
            "Requirement already satisfied: matplotlib>=3.3.0 in /usr/local/lib/python3.11/dist-packages (from ultralytics) (3.10.0)\n",
            "Requirement already satisfied: opencv-python>=4.6.0 in /usr/local/lib/python3.11/dist-packages (from ultralytics) (4.11.0.86)\n",
            "Requirement already satisfied: pillow>=7.1.2 in /usr/local/lib/python3.11/dist-packages (from ultralytics) (11.1.0)\n",
            "Requirement already satisfied: pyyaml>=5.3.1 in /usr/local/lib/python3.11/dist-packages (from ultralytics) (6.0.2)\n",
            "Requirement already satisfied: requests>=2.23.0 in /usr/local/lib/python3.11/dist-packages (from ultralytics) (2.32.3)\n",
            "Requirement already satisfied: scipy>=1.4.1 in /usr/local/lib/python3.11/dist-packages (from ultralytics) (1.14.1)\n",
            "Requirement already satisfied: torch>=1.8.0 in /usr/local/lib/python3.11/dist-packages (from ultralytics) (2.6.0+cu124)\n",
            "Requirement already satisfied: torchvision>=0.9.0 in /usr/local/lib/python3.11/dist-packages (from ultralytics) (0.21.0+cu124)\n",
            "Requirement already satisfied: tqdm>=4.64.0 in /usr/local/lib/python3.11/dist-packages (from ultralytics) (4.67.1)\n",
            "Requirement already satisfied: psutil in /usr/local/lib/python3.11/dist-packages (from ultralytics) (5.9.5)\n",
            "Requirement already satisfied: py-cpuinfo in /usr/local/lib/python3.11/dist-packages (from ultralytics) (9.0.0)\n",
            "Requirement already satisfied: pandas>=1.1.4 in /usr/local/lib/python3.11/dist-packages (from ultralytics) (2.2.2)\n",
            "Requirement already satisfied: seaborn>=0.11.0 in /usr/local/lib/python3.11/dist-packages (from ultralytics) (0.13.2)\n",
            "Collecting ultralytics-thop>=2.0.0 (from ultralytics)\n",
            "  Downloading ultralytics_thop-2.0.14-py3-none-any.whl.metadata (9.4 kB)\n",
            "Requirement already satisfied: absl-py>=1.0.0 in /usr/local/lib/python3.11/dist-packages (from tensorflow) (1.4.0)\n",
            "Requirement already satisfied: astunparse>=1.6.0 in /usr/local/lib/python3.11/dist-packages (from tensorflow) (1.6.3)\n",
            "Requirement already satisfied: flatbuffers>=24.3.25 in /usr/local/lib/python3.11/dist-packages (from tensorflow) (25.2.10)\n",
            "Requirement already satisfied: gast!=0.5.0,!=0.5.1,!=0.5.2,>=0.2.1 in /usr/local/lib/python3.11/dist-packages (from tensorflow) (0.6.0)\n",
            "Requirement already satisfied: google-pasta>=0.1.1 in /usr/local/lib/python3.11/dist-packages (from tensorflow) (0.2.0)\n",
            "Requirement already satisfied: libclang>=13.0.0 in /usr/local/lib/python3.11/dist-packages (from tensorflow) (18.1.1)\n",
            "Requirement already satisfied: opt-einsum>=2.3.2 in /usr/local/lib/python3.11/dist-packages (from tensorflow) (3.4.0)\n",
            "Requirement already satisfied: packaging in /usr/local/lib/python3.11/dist-packages (from tensorflow) (24.2)\n",
            "Requirement already satisfied: protobuf!=4.21.0,!=4.21.1,!=4.21.2,!=4.21.3,!=4.21.4,!=4.21.5,<6.0.0dev,>=3.20.3 in /usr/local/lib/python3.11/dist-packages (from tensorflow) (5.29.4)\n",
            "Requirement already satisfied: setuptools in /usr/local/lib/python3.11/dist-packages (from tensorflow) (75.2.0)\n",
            "Requirement already satisfied: six>=1.12.0 in /usr/local/lib/python3.11/dist-packages (from tensorflow) (1.17.0)\n",
            "Requirement already satisfied: termcolor>=1.1.0 in /usr/local/lib/python3.11/dist-packages (from tensorflow) (3.0.1)\n",
            "Requirement already satisfied: typing-extensions>=3.6.6 in /usr/local/lib/python3.11/dist-packages (from tensorflow) (4.13.2)\n",
            "Requirement already satisfied: wrapt>=1.11.0 in /usr/local/lib/python3.11/dist-packages (from tensorflow) (1.17.2)\n",
            "Requirement already satisfied: grpcio<2.0,>=1.24.3 in /usr/local/lib/python3.11/dist-packages (from tensorflow) (1.71.0)\n",
            "Requirement already satisfied: tensorboard<2.19,>=2.18 in /usr/local/lib/python3.11/dist-packages (from tensorflow) (2.18.0)\n",
            "Requirement already satisfied: keras>=3.5.0 in /usr/local/lib/python3.11/dist-packages (from tensorflow) (3.8.0)\n",
            "Requirement already satisfied: h5py>=3.11.0 in /usr/local/lib/python3.11/dist-packages (from tensorflow) (3.13.0)\n",
            "Requirement already satisfied: ml-dtypes<0.5.0,>=0.4.0 in /usr/local/lib/python3.11/dist-packages (from tensorflow) (0.4.1)\n",
            "Requirement already satisfied: tensorflow-io-gcs-filesystem>=0.23.1 in /usr/local/lib/python3.11/dist-packages (from tensorflow) (0.37.1)\n",
            "Requirement already satisfied: wheel<1.0,>=0.23.0 in /usr/local/lib/python3.11/dist-packages (from astunparse>=1.6.0->tensorflow) (0.45.1)\n",
            "Requirement already satisfied: rich in /usr/local/lib/python3.11/dist-packages (from keras>=3.5.0->tensorflow) (13.9.4)\n",
            "Requirement already satisfied: namex in /usr/local/lib/python3.11/dist-packages (from keras>=3.5.0->tensorflow) (0.0.8)\n",
            "Requirement already satisfied: optree in /usr/local/lib/python3.11/dist-packages (from keras>=3.5.0->tensorflow) (0.15.0)\n",
            "Requirement already satisfied: contourpy>=1.0.1 in /usr/local/lib/python3.11/dist-packages (from matplotlib>=3.3.0->ultralytics) (1.3.2)\n",
            "Requirement already satisfied: cycler>=0.10 in /usr/local/lib/python3.11/dist-packages (from matplotlib>=3.3.0->ultralytics) (0.12.1)\n",
            "Requirement already satisfied: fonttools>=4.22.0 in /usr/local/lib/python3.11/dist-packages (from matplotlib>=3.3.0->ultralytics) (4.57.0)\n",
            "Requirement already satisfied: kiwisolver>=1.3.1 in /usr/local/lib/python3.11/dist-packages (from matplotlib>=3.3.0->ultralytics) (1.4.8)\n",
            "Requirement already satisfied: pyparsing>=2.3.1 in /usr/local/lib/python3.11/dist-packages (from matplotlib>=3.3.0->ultralytics) (3.2.3)\n",
            "Requirement already satisfied: python-dateutil>=2.7 in /usr/local/lib/python3.11/dist-packages (from matplotlib>=3.3.0->ultralytics) (2.8.2)\n",
            "Requirement already satisfied: pytz>=2020.1 in /usr/local/lib/python3.11/dist-packages (from pandas>=1.1.4->ultralytics) (2025.2)\n",
            "Requirement already satisfied: tzdata>=2022.7 in /usr/local/lib/python3.11/dist-packages (from pandas>=1.1.4->ultralytics) (2025.2)\n",
            "Requirement already satisfied: charset-normalizer<4,>=2 in /usr/local/lib/python3.11/dist-packages (from requests>=2.23.0->ultralytics) (3.4.1)\n",
            "Requirement already satisfied: idna<4,>=2.5 in /usr/local/lib/python3.11/dist-packages (from requests>=2.23.0->ultralytics) (3.10)\n",
            "Requirement already satisfied: urllib3<3,>=1.21.1 in /usr/local/lib/python3.11/dist-packages (from requests>=2.23.0->ultralytics) (2.3.0)\n",
            "Requirement already satisfied: certifi>=2017.4.17 in /usr/local/lib/python3.11/dist-packages (from requests>=2.23.0->ultralytics) (2025.1.31)\n",
            "Requirement already satisfied: markdown>=2.6.8 in /usr/local/lib/python3.11/dist-packages (from tensorboard<2.19,>=2.18->tensorflow) (3.8)\n",
            "Requirement already satisfied: tensorboard-data-server<0.8.0,>=0.7.0 in /usr/local/lib/python3.11/dist-packages (from tensorboard<2.19,>=2.18->tensorflow) (0.7.2)\n",
            "Requirement already satisfied: werkzeug>=1.0.1 in /usr/local/lib/python3.11/dist-packages (from tensorboard<2.19,>=2.18->tensorflow) (3.1.3)\n",
            "Requirement already satisfied: filelock in /usr/local/lib/python3.11/dist-packages (from torch>=1.8.0->ultralytics) (3.18.0)\n",
            "Requirement already satisfied: networkx in /usr/local/lib/python3.11/dist-packages (from torch>=1.8.0->ultralytics) (3.4.2)\n",
            "Requirement already satisfied: jinja2 in /usr/local/lib/python3.11/dist-packages (from torch>=1.8.0->ultralytics) (3.1.6)\n",
            "Requirement already satisfied: fsspec in /usr/local/lib/python3.11/dist-packages (from torch>=1.8.0->ultralytics) (2025.3.2)\n",
            "Collecting nvidia-cuda-nvrtc-cu12==12.4.127 (from torch>=1.8.0->ultralytics)\n",
            "  Downloading nvidia_cuda_nvrtc_cu12-12.4.127-py3-none-manylinux2014_x86_64.whl.metadata (1.5 kB)\n",
            "Collecting nvidia-cuda-runtime-cu12==12.4.127 (from torch>=1.8.0->ultralytics)\n",
            "  Downloading nvidia_cuda_runtime_cu12-12.4.127-py3-none-manylinux2014_x86_64.whl.metadata (1.5 kB)\n",
            "Collecting nvidia-cuda-cupti-cu12==12.4.127 (from torch>=1.8.0->ultralytics)\n",
            "  Downloading nvidia_cuda_cupti_cu12-12.4.127-py3-none-manylinux2014_x86_64.whl.metadata (1.6 kB)\n",
            "Collecting nvidia-cudnn-cu12==9.1.0.70 (from torch>=1.8.0->ultralytics)\n",
            "  Downloading nvidia_cudnn_cu12-9.1.0.70-py3-none-manylinux2014_x86_64.whl.metadata (1.6 kB)\n",
            "Collecting nvidia-cublas-cu12==12.4.5.8 (from torch>=1.8.0->ultralytics)\n",
            "  Downloading nvidia_cublas_cu12-12.4.5.8-py3-none-manylinux2014_x86_64.whl.metadata (1.5 kB)\n",
            "Collecting nvidia-cufft-cu12==11.2.1.3 (from torch>=1.8.0->ultralytics)\n",
            "  Downloading nvidia_cufft_cu12-11.2.1.3-py3-none-manylinux2014_x86_64.whl.metadata (1.5 kB)\n",
            "Collecting nvidia-curand-cu12==10.3.5.147 (from torch>=1.8.0->ultralytics)\n",
            "  Downloading nvidia_curand_cu12-10.3.5.147-py3-none-manylinux2014_x86_64.whl.metadata (1.5 kB)\n",
            "Collecting nvidia-cusolver-cu12==11.6.1.9 (from torch>=1.8.0->ultralytics)\n",
            "  Downloading nvidia_cusolver_cu12-11.6.1.9-py3-none-manylinux2014_x86_64.whl.metadata (1.6 kB)\n",
            "Collecting nvidia-cusparse-cu12==12.3.1.170 (from torch>=1.8.0->ultralytics)\n",
            "  Downloading nvidia_cusparse_cu12-12.3.1.170-py3-none-manylinux2014_x86_64.whl.metadata (1.6 kB)\n",
            "Requirement already satisfied: nvidia-cusparselt-cu12==0.6.2 in /usr/local/lib/python3.11/dist-packages (from torch>=1.8.0->ultralytics) (0.6.2)\n",
            "Requirement already satisfied: nvidia-nccl-cu12==2.21.5 in /usr/local/lib/python3.11/dist-packages (from torch>=1.8.0->ultralytics) (2.21.5)\n",
            "Requirement already satisfied: nvidia-nvtx-cu12==12.4.127 in /usr/local/lib/python3.11/dist-packages (from torch>=1.8.0->ultralytics) (12.4.127)\n",
            "Collecting nvidia-nvjitlink-cu12==12.4.127 (from torch>=1.8.0->ultralytics)\n",
            "  Downloading nvidia_nvjitlink_cu12-12.4.127-py3-none-manylinux2014_x86_64.whl.metadata (1.5 kB)\n",
            "Requirement already satisfied: triton==3.2.0 in /usr/local/lib/python3.11/dist-packages (from torch>=1.8.0->ultralytics) (3.2.0)\n",
            "Requirement already satisfied: sympy==1.13.1 in /usr/local/lib/python3.11/dist-packages (from torch>=1.8.0->ultralytics) (1.13.1)\n",
            "Requirement already satisfied: mpmath<1.4,>=1.1.0 in /usr/local/lib/python3.11/dist-packages (from sympy==1.13.1->torch>=1.8.0->ultralytics) (1.3.0)\n",
            "Requirement already satisfied: MarkupSafe>=2.1.1 in /usr/local/lib/python3.11/dist-packages (from werkzeug>=1.0.1->tensorboard<2.19,>=2.18->tensorflow) (3.0.2)\n",
            "Requirement already satisfied: markdown-it-py>=2.2.0 in /usr/local/lib/python3.11/dist-packages (from rich->keras>=3.5.0->tensorflow) (3.0.0)\n",
            "Requirement already satisfied: pygments<3.0.0,>=2.13.0 in /usr/local/lib/python3.11/dist-packages (from rich->keras>=3.5.0->tensorflow) (2.18.0)\n",
            "Requirement already satisfied: mdurl~=0.1 in /usr/local/lib/python3.11/dist-packages (from markdown-it-py>=2.2.0->rich->keras>=3.5.0->tensorflow) (0.1.2)\n",
            "Downloading ultralytics-8.3.111-py3-none-any.whl (978 kB)\n",
            "\u001b[2K   \u001b[90m━━━━━━━━━━━━━━━━━━━━━━━━━━━━━━━━━━━━━━━━\u001b[0m \u001b[32m978.8/978.8 kB\u001b[0m \u001b[31m25.4 MB/s\u001b[0m eta \u001b[36m0:00:00\u001b[0m\n",
            "\u001b[?25hDownloading nvidia_cublas_cu12-12.4.5.8-py3-none-manylinux2014_x86_64.whl (363.4 MB)\n",
            "\u001b[2K   \u001b[90m━━━━━━━━━━━━━━━━━━━━━━━━━━━━━━━━━━━━━━━━\u001b[0m \u001b[32m363.4/363.4 MB\u001b[0m \u001b[31m4.7 MB/s\u001b[0m eta \u001b[36m0:00:00\u001b[0m\n",
            "\u001b[?25hDownloading nvidia_cuda_cupti_cu12-12.4.127-py3-none-manylinux2014_x86_64.whl (13.8 MB)\n",
            "\u001b[2K   \u001b[90m━━━━━━━━━━━━━━━━━━━━━━━━━━━━━━━━━━━━━━━━\u001b[0m \u001b[32m13.8/13.8 MB\u001b[0m \u001b[31m113.3 MB/s\u001b[0m eta \u001b[36m0:00:00\u001b[0m\n",
            "\u001b[?25hDownloading nvidia_cuda_nvrtc_cu12-12.4.127-py3-none-manylinux2014_x86_64.whl (24.6 MB)\n",
            "\u001b[2K   \u001b[90m━━━━━━━━━━━━━━━━━━━━━━━━━━━━━━━━━━━━━━━━\u001b[0m \u001b[32m24.6/24.6 MB\u001b[0m \u001b[31m94.8 MB/s\u001b[0m eta \u001b[36m0:00:00\u001b[0m\n",
            "\u001b[?25hDownloading nvidia_cuda_runtime_cu12-12.4.127-py3-none-manylinux2014_x86_64.whl (883 kB)\n",
            "\u001b[2K   \u001b[90m━━━━━━━━━━━━━━━━━━━━━━━━━━━━━━━━━━━━━━━━\u001b[0m \u001b[32m883.7/883.7 kB\u001b[0m \u001b[31m55.0 MB/s\u001b[0m eta \u001b[36m0:00:00\u001b[0m\n",
            "\u001b[?25hDownloading nvidia_cudnn_cu12-9.1.0.70-py3-none-manylinux2014_x86_64.whl (664.8 MB)\n",
            "\u001b[2K   \u001b[90m━━━━━━━━━━━━━━━━━━━━━━━━━━━━━━━━━━━━━━━━\u001b[0m \u001b[32m664.8/664.8 MB\u001b[0m \u001b[31m2.1 MB/s\u001b[0m eta \u001b[36m0:00:00\u001b[0m\n",
            "\u001b[?25hDownloading nvidia_cufft_cu12-11.2.1.3-py3-none-manylinux2014_x86_64.whl (211.5 MB)\n",
            "\u001b[2K   \u001b[90m━━━━━━━━━━━━━━━━━━━━━━━━━━━━━━━━━━━━━━━━\u001b[0m \u001b[32m211.5/211.5 MB\u001b[0m \u001b[31m5.8 MB/s\u001b[0m eta \u001b[36m0:00:00\u001b[0m\n",
            "\u001b[?25hDownloading nvidia_curand_cu12-10.3.5.147-py3-none-manylinux2014_x86_64.whl (56.3 MB)\n",
            "\u001b[2K   \u001b[90m━━━━━━━━━━━━━━━━━━━━━━━━━━━━━━━━━━━━━━━━\u001b[0m \u001b[32m56.3/56.3 MB\u001b[0m \u001b[31m13.0 MB/s\u001b[0m eta \u001b[36m0:00:00\u001b[0m\n",
            "\u001b[?25hDownloading nvidia_cusolver_cu12-11.6.1.9-py3-none-manylinux2014_x86_64.whl (127.9 MB)\n",
            "\u001b[2K   \u001b[90m━━━━━━━━━━━━━━━━━━━━━━━━━━━━━━━━━━━━━━━━\u001b[0m \u001b[32m127.9/127.9 MB\u001b[0m \u001b[31m7.5 MB/s\u001b[0m eta \u001b[36m0:00:00\u001b[0m\n",
            "\u001b[?25hDownloading nvidia_cusparse_cu12-12.3.1.170-py3-none-manylinux2014_x86_64.whl (207.5 MB)\n",
            "\u001b[2K   \u001b[90m━━━━━━━━━━━━━━━━━━━━━━━━━━━━━━━━━━━━━━━━\u001b[0m \u001b[32m207.5/207.5 MB\u001b[0m \u001b[31m6.4 MB/s\u001b[0m eta \u001b[36m0:00:00\u001b[0m\n",
            "\u001b[?25hDownloading nvidia_nvjitlink_cu12-12.4.127-py3-none-manylinux2014_x86_64.whl (21.1 MB)\n",
            "\u001b[2K   \u001b[90m━━━━━━━━━━━━━━━━━━━━━━━━━━━━━━━━━━━━━━━━\u001b[0m \u001b[32m21.1/21.1 MB\u001b[0m \u001b[31m102.8 MB/s\u001b[0m eta \u001b[36m0:00:00\u001b[0m\n",
            "\u001b[?25hDownloading ultralytics_thop-2.0.14-py3-none-any.whl (26 kB)\n",
            "Installing collected packages: nvidia-nvjitlink-cu12, nvidia-curand-cu12, nvidia-cufft-cu12, nvidia-cuda-runtime-cu12, nvidia-cuda-nvrtc-cu12, nvidia-cuda-cupti-cu12, nvidia-cublas-cu12, nvidia-cusparse-cu12, nvidia-cudnn-cu12, nvidia-cusolver-cu12, ultralytics-thop, ultralytics\n",
            "  Attempting uninstall: nvidia-nvjitlink-cu12\n",
            "    Found existing installation: nvidia-nvjitlink-cu12 12.5.82\n",
            "    Uninstalling nvidia-nvjitlink-cu12-12.5.82:\n",
            "      Successfully uninstalled nvidia-nvjitlink-cu12-12.5.82\n",
            "  Attempting uninstall: nvidia-curand-cu12\n",
            "    Found existing installation: nvidia-curand-cu12 10.3.6.82\n",
            "    Uninstalling nvidia-curand-cu12-10.3.6.82:\n",
            "      Successfully uninstalled nvidia-curand-cu12-10.3.6.82\n",
            "  Attempting uninstall: nvidia-cufft-cu12\n",
            "    Found existing installation: nvidia-cufft-cu12 11.2.3.61\n",
            "    Uninstalling nvidia-cufft-cu12-11.2.3.61:\n",
            "      Successfully uninstalled nvidia-cufft-cu12-11.2.3.61\n",
            "  Attempting uninstall: nvidia-cuda-runtime-cu12\n",
            "    Found existing installation: nvidia-cuda-runtime-cu12 12.5.82\n",
            "    Uninstalling nvidia-cuda-runtime-cu12-12.5.82:\n",
            "      Successfully uninstalled nvidia-cuda-runtime-cu12-12.5.82\n",
            "  Attempting uninstall: nvidia-cuda-nvrtc-cu12\n",
            "    Found existing installation: nvidia-cuda-nvrtc-cu12 12.5.82\n",
            "    Uninstalling nvidia-cuda-nvrtc-cu12-12.5.82:\n",
            "      Successfully uninstalled nvidia-cuda-nvrtc-cu12-12.5.82\n",
            "  Attempting uninstall: nvidia-cuda-cupti-cu12\n",
            "    Found existing installation: nvidia-cuda-cupti-cu12 12.5.82\n",
            "    Uninstalling nvidia-cuda-cupti-cu12-12.5.82:\n",
            "      Successfully uninstalled nvidia-cuda-cupti-cu12-12.5.82\n",
            "  Attempting uninstall: nvidia-cublas-cu12\n",
            "    Found existing installation: nvidia-cublas-cu12 12.5.3.2\n",
            "    Uninstalling nvidia-cublas-cu12-12.5.3.2:\n",
            "      Successfully uninstalled nvidia-cublas-cu12-12.5.3.2\n",
            "  Attempting uninstall: nvidia-cusparse-cu12\n",
            "    Found existing installation: nvidia-cusparse-cu12 12.5.1.3\n",
            "    Uninstalling nvidia-cusparse-cu12-12.5.1.3:\n",
            "      Successfully uninstalled nvidia-cusparse-cu12-12.5.1.3\n",
            "  Attempting uninstall: nvidia-cudnn-cu12\n",
            "    Found existing installation: nvidia-cudnn-cu12 9.3.0.75\n",
            "    Uninstalling nvidia-cudnn-cu12-9.3.0.75:\n",
            "      Successfully uninstalled nvidia-cudnn-cu12-9.3.0.75\n",
            "  Attempting uninstall: nvidia-cusolver-cu12\n",
            "    Found existing installation: nvidia-cusolver-cu12 11.6.3.83\n",
            "    Uninstalling nvidia-cusolver-cu12-11.6.3.83:\n",
            "      Successfully uninstalled nvidia-cusolver-cu12-11.6.3.83\n",
            "Successfully installed nvidia-cublas-cu12-12.4.5.8 nvidia-cuda-cupti-cu12-12.4.127 nvidia-cuda-nvrtc-cu12-12.4.127 nvidia-cuda-runtime-cu12-12.4.127 nvidia-cudnn-cu12-9.1.0.70 nvidia-cufft-cu12-11.2.1.3 nvidia-curand-cu12-10.3.5.147 nvidia-cusolver-cu12-11.6.1.9 nvidia-cusparse-cu12-12.3.1.170 nvidia-nvjitlink-cu12-12.4.127 ultralytics-8.3.111 ultralytics-thop-2.0.14\n",
            "Requirement already satisfied: ipywidgets in /usr/local/lib/python3.11/dist-packages (7.7.1)\n",
            "Requirement already satisfied: ipykernel>=4.5.1 in /usr/local/lib/python3.11/dist-packages (from ipywidgets) (6.17.1)\n",
            "Requirement already satisfied: ipython-genutils~=0.2.0 in /usr/local/lib/python3.11/dist-packages (from ipywidgets) (0.2.0)\n",
            "Requirement already satisfied: traitlets>=4.3.1 in /usr/local/lib/python3.11/dist-packages (from ipywidgets) (5.7.1)\n",
            "Requirement already satisfied: widgetsnbextension~=3.6.0 in /usr/local/lib/python3.11/dist-packages (from ipywidgets) (3.6.10)\n",
            "Requirement already satisfied: ipython>=4.0.0 in /usr/local/lib/python3.11/dist-packages (from ipywidgets) (7.34.0)\n",
            "Requirement already satisfied: jupyterlab-widgets>=1.0.0 in /usr/local/lib/python3.11/dist-packages (from ipywidgets) (3.0.14)\n",
            "Requirement already satisfied: debugpy>=1.0 in /usr/local/lib/python3.11/dist-packages (from ipykernel>=4.5.1->ipywidgets) (1.8.0)\n",
            "Requirement already satisfied: jupyter-client>=6.1.12 in /usr/local/lib/python3.11/dist-packages (from ipykernel>=4.5.1->ipywidgets) (6.1.12)\n",
            "Requirement already satisfied: matplotlib-inline>=0.1 in /usr/local/lib/python3.11/dist-packages (from ipykernel>=4.5.1->ipywidgets) (0.1.7)\n",
            "Requirement already satisfied: nest-asyncio in /usr/local/lib/python3.11/dist-packages (from ipykernel>=4.5.1->ipywidgets) (1.6.0)\n",
            "Requirement already satisfied: packaging in /usr/local/lib/python3.11/dist-packages (from ipykernel>=4.5.1->ipywidgets) (24.2)\n",
            "Requirement already satisfied: psutil in /usr/local/lib/python3.11/dist-packages (from ipykernel>=4.5.1->ipywidgets) (5.9.5)\n",
            "Requirement already satisfied: pyzmq>=17 in /usr/local/lib/python3.11/dist-packages (from ipykernel>=4.5.1->ipywidgets) (24.0.1)\n",
            "Requirement already satisfied: tornado>=6.1 in /usr/local/lib/python3.11/dist-packages (from ipykernel>=4.5.1->ipywidgets) (6.4.2)\n",
            "Requirement already satisfied: setuptools>=18.5 in /usr/local/lib/python3.11/dist-packages (from ipython>=4.0.0->ipywidgets) (75.2.0)\n",
            "Collecting jedi>=0.16 (from ipython>=4.0.0->ipywidgets)\n",
            "  Downloading jedi-0.19.2-py2.py3-none-any.whl.metadata (22 kB)\n",
            "Requirement already satisfied: decorator in /usr/local/lib/python3.11/dist-packages (from ipython>=4.0.0->ipywidgets) (4.4.2)\n",
            "Requirement already satisfied: pickleshare in /usr/local/lib/python3.11/dist-packages (from ipython>=4.0.0->ipywidgets) (0.7.5)\n",
            "Requirement already satisfied: prompt-toolkit!=3.0.0,!=3.0.1,<3.1.0,>=2.0.0 in /usr/local/lib/python3.11/dist-packages (from ipython>=4.0.0->ipywidgets) (3.0.51)\n",
            "Requirement already satisfied: pygments in /usr/local/lib/python3.11/dist-packages (from ipython>=4.0.0->ipywidgets) (2.18.0)\n",
            "Requirement already satisfied: backcall in /usr/local/lib/python3.11/dist-packages (from ipython>=4.0.0->ipywidgets) (0.2.0)\n",
            "Requirement already satisfied: pexpect>4.3 in /usr/local/lib/python3.11/dist-packages (from ipython>=4.0.0->ipywidgets) (4.9.0)\n",
            "Requirement already satisfied: notebook>=4.4.1 in /usr/local/lib/python3.11/dist-packages (from widgetsnbextension~=3.6.0->ipywidgets) (6.5.7)\n",
            "Requirement already satisfied: parso<0.9.0,>=0.8.4 in /usr/local/lib/python3.11/dist-packages (from jedi>=0.16->ipython>=4.0.0->ipywidgets) (0.8.4)\n",
            "Requirement already satisfied: jupyter-core>=4.6.0 in /usr/local/lib/python3.11/dist-packages (from jupyter-client>=6.1.12->ipykernel>=4.5.1->ipywidgets) (5.7.2)\n",
            "Requirement already satisfied: python-dateutil>=2.1 in /usr/local/lib/python3.11/dist-packages (from jupyter-client>=6.1.12->ipykernel>=4.5.1->ipywidgets) (2.8.2)\n",
            "Requirement already satisfied: jinja2 in /usr/local/lib/python3.11/dist-packages (from notebook>=4.4.1->widgetsnbextension~=3.6.0->ipywidgets) (3.1.6)\n",
            "Requirement already satisfied: argon2-cffi in /usr/local/lib/python3.11/dist-packages (from notebook>=4.4.1->widgetsnbextension~=3.6.0->ipywidgets) (23.1.0)\n",
            "Requirement already satisfied: nbformat in /usr/local/lib/python3.11/dist-packages (from notebook>=4.4.1->widgetsnbextension~=3.6.0->ipywidgets) (5.10.4)\n",
            "Requirement already satisfied: nbconvert>=5 in /usr/local/lib/python3.11/dist-packages (from notebook>=4.4.1->widgetsnbextension~=3.6.0->ipywidgets) (7.16.6)\n",
            "Requirement already satisfied: Send2Trash>=1.8.0 in /usr/local/lib/python3.11/dist-packages (from notebook>=4.4.1->widgetsnbextension~=3.6.0->ipywidgets) (1.8.3)\n",
            "Requirement already satisfied: terminado>=0.8.3 in /usr/local/lib/python3.11/dist-packages (from notebook>=4.4.1->widgetsnbextension~=3.6.0->ipywidgets) (0.18.1)\n",
            "Requirement already satisfied: prometheus-client in /usr/local/lib/python3.11/dist-packages (from notebook>=4.4.1->widgetsnbextension~=3.6.0->ipywidgets) (0.21.1)\n",
            "Requirement already satisfied: nbclassic>=0.4.7 in /usr/local/lib/python3.11/dist-packages (from notebook>=4.4.1->widgetsnbextension~=3.6.0->ipywidgets) (1.2.0)\n",
            "Requirement already satisfied: ptyprocess>=0.5 in /usr/local/lib/python3.11/dist-packages (from pexpect>4.3->ipython>=4.0.0->ipywidgets) (0.7.0)\n",
            "Requirement already satisfied: wcwidth in /usr/local/lib/python3.11/dist-packages (from prompt-toolkit!=3.0.0,!=3.0.1,<3.1.0,>=2.0.0->ipython>=4.0.0->ipywidgets) (0.2.13)\n",
            "Requirement already satisfied: platformdirs>=2.5 in /usr/local/lib/python3.11/dist-packages (from jupyter-core>=4.6.0->jupyter-client>=6.1.12->ipykernel>=4.5.1->ipywidgets) (4.3.7)\n",
            "Requirement already satisfied: notebook-shim>=0.2.3 in /usr/local/lib/python3.11/dist-packages (from nbclassic>=0.4.7->notebook>=4.4.1->widgetsnbextension~=3.6.0->ipywidgets) (0.2.4)\n",
            "Requirement already satisfied: beautifulsoup4 in /usr/local/lib/python3.11/dist-packages (from nbconvert>=5->notebook>=4.4.1->widgetsnbextension~=3.6.0->ipywidgets) (4.13.4)\n",
            "Requirement already satisfied: bleach!=5.0.0 in /usr/local/lib/python3.11/dist-packages (from bleach[css]!=5.0.0->nbconvert>=5->notebook>=4.4.1->widgetsnbextension~=3.6.0->ipywidgets) (6.2.0)\n",
            "Requirement already satisfied: defusedxml in /usr/local/lib/python3.11/dist-packages (from nbconvert>=5->notebook>=4.4.1->widgetsnbextension~=3.6.0->ipywidgets) (0.7.1)\n",
            "Requirement already satisfied: jupyterlab-pygments in /usr/local/lib/python3.11/dist-packages (from nbconvert>=5->notebook>=4.4.1->widgetsnbextension~=3.6.0->ipywidgets) (0.3.0)\n",
            "Requirement already satisfied: markupsafe>=2.0 in /usr/local/lib/python3.11/dist-packages (from nbconvert>=5->notebook>=4.4.1->widgetsnbextension~=3.6.0->ipywidgets) (3.0.2)\n",
            "Requirement already satisfied: mistune<4,>=2.0.3 in /usr/local/lib/python3.11/dist-packages (from nbconvert>=5->notebook>=4.4.1->widgetsnbextension~=3.6.0->ipywidgets) (3.1.3)\n",
            "Requirement already satisfied: nbclient>=0.5.0 in /usr/local/lib/python3.11/dist-packages (from nbconvert>=5->notebook>=4.4.1->widgetsnbextension~=3.6.0->ipywidgets) (0.10.2)\n",
            "Requirement already satisfied: pandocfilters>=1.4.1 in /usr/local/lib/python3.11/dist-packages (from nbconvert>=5->notebook>=4.4.1->widgetsnbextension~=3.6.0->ipywidgets) (1.5.1)\n",
            "Requirement already satisfied: fastjsonschema>=2.15 in /usr/local/lib/python3.11/dist-packages (from nbformat->notebook>=4.4.1->widgetsnbextension~=3.6.0->ipywidgets) (2.21.1)\n",
            "Requirement already satisfied: jsonschema>=2.6 in /usr/local/lib/python3.11/dist-packages (from nbformat->notebook>=4.4.1->widgetsnbextension~=3.6.0->ipywidgets) (4.23.0)\n",
            "Requirement already satisfied: six>=1.5 in /usr/local/lib/python3.11/dist-packages (from python-dateutil>=2.1->jupyter-client>=6.1.12->ipykernel>=4.5.1->ipywidgets) (1.17.0)\n",
            "Requirement already satisfied: argon2-cffi-bindings in /usr/local/lib/python3.11/dist-packages (from argon2-cffi->notebook>=4.4.1->widgetsnbextension~=3.6.0->ipywidgets) (21.2.0)\n",
            "Requirement already satisfied: webencodings in /usr/local/lib/python3.11/dist-packages (from bleach!=5.0.0->bleach[css]!=5.0.0->nbconvert>=5->notebook>=4.4.1->widgetsnbextension~=3.6.0->ipywidgets) (0.5.1)\n",
            "Requirement already satisfied: tinycss2<1.5,>=1.1.0 in /usr/local/lib/python3.11/dist-packages (from bleach[css]!=5.0.0->nbconvert>=5->notebook>=4.4.1->widgetsnbextension~=3.6.0->ipywidgets) (1.4.0)\n",
            "Requirement already satisfied: attrs>=22.2.0 in /usr/local/lib/python3.11/dist-packages (from jsonschema>=2.6->nbformat->notebook>=4.4.1->widgetsnbextension~=3.6.0->ipywidgets) (25.3.0)\n",
            "Requirement already satisfied: jsonschema-specifications>=2023.03.6 in /usr/local/lib/python3.11/dist-packages (from jsonschema>=2.6->nbformat->notebook>=4.4.1->widgetsnbextension~=3.6.0->ipywidgets) (2024.10.1)\n",
            "Requirement already satisfied: referencing>=0.28.4 in /usr/local/lib/python3.11/dist-packages (from jsonschema>=2.6->nbformat->notebook>=4.4.1->widgetsnbextension~=3.6.0->ipywidgets) (0.36.2)\n",
            "Requirement already satisfied: rpds-py>=0.7.1 in /usr/local/lib/python3.11/dist-packages (from jsonschema>=2.6->nbformat->notebook>=4.4.1->widgetsnbextension~=3.6.0->ipywidgets) (0.24.0)\n",
            "Requirement already satisfied: jupyter-server<3,>=1.8 in /usr/local/lib/python3.11/dist-packages (from notebook-shim>=0.2.3->nbclassic>=0.4.7->notebook>=4.4.1->widgetsnbextension~=3.6.0->ipywidgets) (1.16.0)\n",
            "Requirement already satisfied: cffi>=1.0.1 in /usr/local/lib/python3.11/dist-packages (from argon2-cffi-bindings->argon2-cffi->notebook>=4.4.1->widgetsnbextension~=3.6.0->ipywidgets) (1.17.1)\n",
            "Requirement already satisfied: soupsieve>1.2 in /usr/local/lib/python3.11/dist-packages (from beautifulsoup4->nbconvert>=5->notebook>=4.4.1->widgetsnbextension~=3.6.0->ipywidgets) (2.6)\n",
            "Requirement already satisfied: typing-extensions>=4.0.0 in /usr/local/lib/python3.11/dist-packages (from beautifulsoup4->nbconvert>=5->notebook>=4.4.1->widgetsnbextension~=3.6.0->ipywidgets) (4.13.2)\n",
            "Requirement already satisfied: pycparser in /usr/local/lib/python3.11/dist-packages (from cffi>=1.0.1->argon2-cffi-bindings->argon2-cffi->notebook>=4.4.1->widgetsnbextension~=3.6.0->ipywidgets) (2.22)\n",
            "Requirement already satisfied: anyio>=3.1.0 in /usr/local/lib/python3.11/dist-packages (from jupyter-server<3,>=1.8->notebook-shim>=0.2.3->nbclassic>=0.4.7->notebook>=4.4.1->widgetsnbextension~=3.6.0->ipywidgets) (4.9.0)\n",
            "Requirement already satisfied: websocket-client in /usr/local/lib/python3.11/dist-packages (from jupyter-server<3,>=1.8->notebook-shim>=0.2.3->nbclassic>=0.4.7->notebook>=4.4.1->widgetsnbextension~=3.6.0->ipywidgets) (1.8.0)\n",
            "Requirement already satisfied: idna>=2.8 in /usr/local/lib/python3.11/dist-packages (from anyio>=3.1.0->jupyter-server<3,>=1.8->notebook-shim>=0.2.3->nbclassic>=0.4.7->notebook>=4.4.1->widgetsnbextension~=3.6.0->ipywidgets) (3.10)\n",
            "Requirement already satisfied: sniffio>=1.1 in /usr/local/lib/python3.11/dist-packages (from anyio>=3.1.0->jupyter-server<3,>=1.8->notebook-shim>=0.2.3->nbclassic>=0.4.7->notebook>=4.4.1->widgetsnbextension~=3.6.0->ipywidgets) (1.3.1)\n",
            "Downloading jedi-0.19.2-py2.py3-none-any.whl (1.6 MB)\n",
            "\u001b[2K   \u001b[90m━━━━━━━━━━━━━━━━━━━━━━━━━━━━━━━━━━━━━━━━\u001b[0m \u001b[32m1.6/1.6 MB\u001b[0m \u001b[31m25.9 MB/s\u001b[0m eta \u001b[36m0:00:00\u001b[0m\n",
            "\u001b[?25hInstalling collected packages: jedi\n",
            "Successfully installed jedi-0.19.2\n",
            "Requirement already satisfied: ultralytics in /usr/local/lib/python3.11/dist-packages (8.3.111)\n",
            "Requirement already satisfied: numpy<=2.1.1,>=1.23.0 in /usr/local/lib/python3.11/dist-packages (from ultralytics) (2.0.2)\n",
            "Requirement already satisfied: matplotlib>=3.3.0 in /usr/local/lib/python3.11/dist-packages (from ultralytics) (3.10.0)\n",
            "Requirement already satisfied: opencv-python>=4.6.0 in /usr/local/lib/python3.11/dist-packages (from ultralytics) (4.11.0.86)\n",
            "Requirement already satisfied: pillow>=7.1.2 in /usr/local/lib/python3.11/dist-packages (from ultralytics) (11.1.0)\n",
            "Requirement already satisfied: pyyaml>=5.3.1 in /usr/local/lib/python3.11/dist-packages (from ultralytics) (6.0.2)\n",
            "Requirement already satisfied: requests>=2.23.0 in /usr/local/lib/python3.11/dist-packages (from ultralytics) (2.32.3)\n",
            "Requirement already satisfied: scipy>=1.4.1 in /usr/local/lib/python3.11/dist-packages (from ultralytics) (1.14.1)\n",
            "Requirement already satisfied: torch>=1.8.0 in /usr/local/lib/python3.11/dist-packages (from ultralytics) (2.6.0+cu124)\n",
            "Requirement already satisfied: torchvision>=0.9.0 in /usr/local/lib/python3.11/dist-packages (from ultralytics) (0.21.0+cu124)\n",
            "Requirement already satisfied: tqdm>=4.64.0 in /usr/local/lib/python3.11/dist-packages (from ultralytics) (4.67.1)\n",
            "Requirement already satisfied: psutil in /usr/local/lib/python3.11/dist-packages (from ultralytics) (5.9.5)\n",
            "Requirement already satisfied: py-cpuinfo in /usr/local/lib/python3.11/dist-packages (from ultralytics) (9.0.0)\n",
            "Requirement already satisfied: pandas>=1.1.4 in /usr/local/lib/python3.11/dist-packages (from ultralytics) (2.2.2)\n",
            "Requirement already satisfied: seaborn>=0.11.0 in /usr/local/lib/python3.11/dist-packages (from ultralytics) (0.13.2)\n",
            "Requirement already satisfied: ultralytics-thop>=2.0.0 in /usr/local/lib/python3.11/dist-packages (from ultralytics) (2.0.14)\n",
            "Requirement already satisfied: contourpy>=1.0.1 in /usr/local/lib/python3.11/dist-packages (from matplotlib>=3.3.0->ultralytics) (1.3.2)\n",
            "Requirement already satisfied: cycler>=0.10 in /usr/local/lib/python3.11/dist-packages (from matplotlib>=3.3.0->ultralytics) (0.12.1)\n",
            "Requirement already satisfied: fonttools>=4.22.0 in /usr/local/lib/python3.11/dist-packages (from matplotlib>=3.3.0->ultralytics) (4.57.0)\n",
            "Requirement already satisfied: kiwisolver>=1.3.1 in /usr/local/lib/python3.11/dist-packages (from matplotlib>=3.3.0->ultralytics) (1.4.8)\n",
            "Requirement already satisfied: packaging>=20.0 in /usr/local/lib/python3.11/dist-packages (from matplotlib>=3.3.0->ultralytics) (24.2)\n",
            "Requirement already satisfied: pyparsing>=2.3.1 in /usr/local/lib/python3.11/dist-packages (from matplotlib>=3.3.0->ultralytics) (3.2.3)\n",
            "Requirement already satisfied: python-dateutil>=2.7 in /usr/local/lib/python3.11/dist-packages (from matplotlib>=3.3.0->ultralytics) (2.8.2)\n",
            "Requirement already satisfied: pytz>=2020.1 in /usr/local/lib/python3.11/dist-packages (from pandas>=1.1.4->ultralytics) (2025.2)\n",
            "Requirement already satisfied: tzdata>=2022.7 in /usr/local/lib/python3.11/dist-packages (from pandas>=1.1.4->ultralytics) (2025.2)\n",
            "Requirement already satisfied: charset-normalizer<4,>=2 in /usr/local/lib/python3.11/dist-packages (from requests>=2.23.0->ultralytics) (3.4.1)\n",
            "Requirement already satisfied: idna<4,>=2.5 in /usr/local/lib/python3.11/dist-packages (from requests>=2.23.0->ultralytics) (3.10)\n",
            "Requirement already satisfied: urllib3<3,>=1.21.1 in /usr/local/lib/python3.11/dist-packages (from requests>=2.23.0->ultralytics) (2.3.0)\n",
            "Requirement already satisfied: certifi>=2017.4.17 in /usr/local/lib/python3.11/dist-packages (from requests>=2.23.0->ultralytics) (2025.1.31)\n",
            "Requirement already satisfied: filelock in /usr/local/lib/python3.11/dist-packages (from torch>=1.8.0->ultralytics) (3.18.0)\n",
            "Requirement already satisfied: typing-extensions>=4.10.0 in /usr/local/lib/python3.11/dist-packages (from torch>=1.8.0->ultralytics) (4.13.2)\n",
            "Requirement already satisfied: networkx in /usr/local/lib/python3.11/dist-packages (from torch>=1.8.0->ultralytics) (3.4.2)\n",
            "Requirement already satisfied: jinja2 in /usr/local/lib/python3.11/dist-packages (from torch>=1.8.0->ultralytics) (3.1.6)\n",
            "Requirement already satisfied: fsspec in /usr/local/lib/python3.11/dist-packages (from torch>=1.8.0->ultralytics) (2025.3.2)\n",
            "Requirement already satisfied: nvidia-cuda-nvrtc-cu12==12.4.127 in /usr/local/lib/python3.11/dist-packages (from torch>=1.8.0->ultralytics) (12.4.127)\n",
            "Requirement already satisfied: nvidia-cuda-runtime-cu12==12.4.127 in /usr/local/lib/python3.11/dist-packages (from torch>=1.8.0->ultralytics) (12.4.127)\n",
            "Requirement already satisfied: nvidia-cuda-cupti-cu12==12.4.127 in /usr/local/lib/python3.11/dist-packages (from torch>=1.8.0->ultralytics) (12.4.127)\n",
            "Requirement already satisfied: nvidia-cudnn-cu12==9.1.0.70 in /usr/local/lib/python3.11/dist-packages (from torch>=1.8.0->ultralytics) (9.1.0.70)\n",
            "Requirement already satisfied: nvidia-cublas-cu12==12.4.5.8 in /usr/local/lib/python3.11/dist-packages (from torch>=1.8.0->ultralytics) (12.4.5.8)\n",
            "Requirement already satisfied: nvidia-cufft-cu12==11.2.1.3 in /usr/local/lib/python3.11/dist-packages (from torch>=1.8.0->ultralytics) (11.2.1.3)\n",
            "Requirement already satisfied: nvidia-curand-cu12==10.3.5.147 in /usr/local/lib/python3.11/dist-packages (from torch>=1.8.0->ultralytics) (10.3.5.147)\n",
            "Requirement already satisfied: nvidia-cusolver-cu12==11.6.1.9 in /usr/local/lib/python3.11/dist-packages (from torch>=1.8.0->ultralytics) (11.6.1.9)\n",
            "Requirement already satisfied: nvidia-cusparse-cu12==12.3.1.170 in /usr/local/lib/python3.11/dist-packages (from torch>=1.8.0->ultralytics) (12.3.1.170)\n",
            "Requirement already satisfied: nvidia-cusparselt-cu12==0.6.2 in /usr/local/lib/python3.11/dist-packages (from torch>=1.8.0->ultralytics) (0.6.2)\n",
            "Requirement already satisfied: nvidia-nccl-cu12==2.21.5 in /usr/local/lib/python3.11/dist-packages (from torch>=1.8.0->ultralytics) (2.21.5)\n",
            "Requirement already satisfied: nvidia-nvtx-cu12==12.4.127 in /usr/local/lib/python3.11/dist-packages (from torch>=1.8.0->ultralytics) (12.4.127)\n",
            "Requirement already satisfied: nvidia-nvjitlink-cu12==12.4.127 in /usr/local/lib/python3.11/dist-packages (from torch>=1.8.0->ultralytics) (12.4.127)\n",
            "Requirement already satisfied: triton==3.2.0 in /usr/local/lib/python3.11/dist-packages (from torch>=1.8.0->ultralytics) (3.2.0)\n",
            "Requirement already satisfied: sympy==1.13.1 in /usr/local/lib/python3.11/dist-packages (from torch>=1.8.0->ultralytics) (1.13.1)\n",
            "Requirement already satisfied: mpmath<1.4,>=1.1.0 in /usr/local/lib/python3.11/dist-packages (from sympy==1.13.1->torch>=1.8.0->ultralytics) (1.3.0)\n",
            "Requirement already satisfied: six>=1.5 in /usr/local/lib/python3.11/dist-packages (from python-dateutil>=2.7->matplotlib>=3.3.0->ultralytics) (1.17.0)\n",
            "Requirement already satisfied: MarkupSafe>=2.0 in /usr/local/lib/python3.11/dist-packages (from jinja2->torch>=1.8.0->ultralytics) (3.0.2)\n"
          ]
        }
      ],
      "source": [
        "# Install specific versions of ultralytics and tensorflow\n",
        "!pip install ultralytics tensorflow\n",
        "\n",
        "# Install ipywidgets for interactive widgets in Jupyter notebooks\n",
        "!pip install ipywidgets\n",
        "\n",
        "# Upgrade ultralytics to the latest version\n",
        "!pip install --upgrade ultralytics"
      ]
    },
    {
      "cell_type": "code",
      "execution_count": null,
      "metadata": {
        "colab": {
          "base_uri": "https://localhost:8080/",
          "height": 1000
        },
        "id": "ctZullGHsrQo",
        "outputId": "82c767ce-1afe-4e95-c474-cae75dab7099"
      },
      "outputs": [
        {
          "data": {
            "text/html": [
              "\n",
              "     <input type=\"file\" id=\"files-8c40d339-6ff5-4b34-a90c-d671956570b3\" name=\"files[]\" multiple disabled\n",
              "        style=\"border:none\" />\n",
              "     <output id=\"result-8c40d339-6ff5-4b34-a90c-d671956570b3\">\n",
              "      Upload widget is only available when the cell has been executed in the\n",
              "      current browser session. Please rerun this cell to enable.\n",
              "      </output>\n",
              "      <script>// Copyright 2017 Google LLC\n",
              "//\n",
              "// Licensed under the Apache License, Version 2.0 (the \"License\");\n",
              "// you may not use this file except in compliance with the License.\n",
              "// You may obtain a copy of the License at\n",
              "//\n",
              "//      http://www.apache.org/licenses/LICENSE-2.0\n",
              "//\n",
              "// Unless required by applicable law or agreed to in writing, software\n",
              "// distributed under the License is distributed on an \"AS IS\" BASIS,\n",
              "// WITHOUT WARRANTIES OR CONDITIONS OF ANY KIND, either express or implied.\n",
              "// See the License for the specific language governing permissions and\n",
              "// limitations under the License.\n",
              "\n",
              "/**\n",
              " * @fileoverview Helpers for google.colab Python module.\n",
              " */\n",
              "(function(scope) {\n",
              "function span(text, styleAttributes = {}) {\n",
              "  const element = document.createElement('span');\n",
              "  element.textContent = text;\n",
              "  for (const key of Object.keys(styleAttributes)) {\n",
              "    element.style[key] = styleAttributes[key];\n",
              "  }\n",
              "  return element;\n",
              "}\n",
              "\n",
              "// Max number of bytes which will be uploaded at a time.\n",
              "const MAX_PAYLOAD_SIZE = 100 * 1024;\n",
              "\n",
              "function _uploadFiles(inputId, outputId) {\n",
              "  const steps = uploadFilesStep(inputId, outputId);\n",
              "  const outputElement = document.getElementById(outputId);\n",
              "  // Cache steps on the outputElement to make it available for the next call\n",
              "  // to uploadFilesContinue from Python.\n",
              "  outputElement.steps = steps;\n",
              "\n",
              "  return _uploadFilesContinue(outputId);\n",
              "}\n",
              "\n",
              "// This is roughly an async generator (not supported in the browser yet),\n",
              "// where there are multiple asynchronous steps and the Python side is going\n",
              "// to poll for completion of each step.\n",
              "// This uses a Promise to block the python side on completion of each step,\n",
              "// then passes the result of the previous step as the input to the next step.\n",
              "function _uploadFilesContinue(outputId) {\n",
              "  const outputElement = document.getElementById(outputId);\n",
              "  const steps = outputElement.steps;\n",
              "\n",
              "  const next = steps.next(outputElement.lastPromiseValue);\n",
              "  return Promise.resolve(next.value.promise).then((value) => {\n",
              "    // Cache the last promise value to make it available to the next\n",
              "    // step of the generator.\n",
              "    outputElement.lastPromiseValue = value;\n",
              "    return next.value.response;\n",
              "  });\n",
              "}\n",
              "\n",
              "/**\n",
              " * Generator function which is called between each async step of the upload\n",
              " * process.\n",
              " * @param {string} inputId Element ID of the input file picker element.\n",
              " * @param {string} outputId Element ID of the output display.\n",
              " * @return {!Iterable<!Object>} Iterable of next steps.\n",
              " */\n",
              "function* uploadFilesStep(inputId, outputId) {\n",
              "  const inputElement = document.getElementById(inputId);\n",
              "  inputElement.disabled = false;\n",
              "\n",
              "  const outputElement = document.getElementById(outputId);\n",
              "  outputElement.innerHTML = '';\n",
              "\n",
              "  const pickedPromise = new Promise((resolve) => {\n",
              "    inputElement.addEventListener('change', (e) => {\n",
              "      resolve(e.target.files);\n",
              "    });\n",
              "  });\n",
              "\n",
              "  const cancel = document.createElement('button');\n",
              "  inputElement.parentElement.appendChild(cancel);\n",
              "  cancel.textContent = 'Cancel upload';\n",
              "  const cancelPromise = new Promise((resolve) => {\n",
              "    cancel.onclick = () => {\n",
              "      resolve(null);\n",
              "    };\n",
              "  });\n",
              "\n",
              "  // Wait for the user to pick the files.\n",
              "  const files = yield {\n",
              "    promise: Promise.race([pickedPromise, cancelPromise]),\n",
              "    response: {\n",
              "      action: 'starting',\n",
              "    }\n",
              "  };\n",
              "\n",
              "  cancel.remove();\n",
              "\n",
              "  // Disable the input element since further picks are not allowed.\n",
              "  inputElement.disabled = true;\n",
              "\n",
              "  if (!files) {\n",
              "    return {\n",
              "      response: {\n",
              "        action: 'complete',\n",
              "      }\n",
              "    };\n",
              "  }\n",
              "\n",
              "  for (const file of files) {\n",
              "    const li = document.createElement('li');\n",
              "    li.append(span(file.name, {fontWeight: 'bold'}));\n",
              "    li.append(span(\n",
              "        `(${file.type || 'n/a'}) - ${file.size} bytes, ` +\n",
              "        `last modified: ${\n",
              "            file.lastModifiedDate ? file.lastModifiedDate.toLocaleDateString() :\n",
              "                                    'n/a'} - `));\n",
              "    const percent = span('0% done');\n",
              "    li.appendChild(percent);\n",
              "\n",
              "    outputElement.appendChild(li);\n",
              "\n",
              "    const fileDataPromise = new Promise((resolve) => {\n",
              "      const reader = new FileReader();\n",
              "      reader.onload = (e) => {\n",
              "        resolve(e.target.result);\n",
              "      };\n",
              "      reader.readAsArrayBuffer(file);\n",
              "    });\n",
              "    // Wait for the data to be ready.\n",
              "    let fileData = yield {\n",
              "      promise: fileDataPromise,\n",
              "      response: {\n",
              "        action: 'continue',\n",
              "      }\n",
              "    };\n",
              "\n",
              "    // Use a chunked sending to avoid message size limits. See b/62115660.\n",
              "    let position = 0;\n",
              "    do {\n",
              "      const length = Math.min(fileData.byteLength - position, MAX_PAYLOAD_SIZE);\n",
              "      const chunk = new Uint8Array(fileData, position, length);\n",
              "      position += length;\n",
              "\n",
              "      const base64 = btoa(String.fromCharCode.apply(null, chunk));\n",
              "      yield {\n",
              "        response: {\n",
              "          action: 'append',\n",
              "          file: file.name,\n",
              "          data: base64,\n",
              "        },\n",
              "      };\n",
              "\n",
              "      let percentDone = fileData.byteLength === 0 ?\n",
              "          100 :\n",
              "          Math.round((position / fileData.byteLength) * 100);\n",
              "      percent.textContent = `${percentDone}% done`;\n",
              "\n",
              "    } while (position < fileData.byteLength);\n",
              "  }\n",
              "\n",
              "  // All done.\n",
              "  yield {\n",
              "    response: {\n",
              "      action: 'complete',\n",
              "    }\n",
              "  };\n",
              "}\n",
              "\n",
              "scope.google = scope.google || {};\n",
              "scope.google.colab = scope.google.colab || {};\n",
              "scope.google.colab._files = {\n",
              "  _uploadFiles,\n",
              "  _uploadFilesContinue,\n",
              "};\n",
              "})(self);\n",
              "</script> "
            ],
            "text/plain": [
              "<IPython.core.display.HTML object>"
            ]
          },
          "metadata": {},
          "output_type": "display_data"
        },
        {
          "name": "stdout",
          "output_type": "stream",
          "text": [
            "\u001b[1;30;43mStreaming output truncated to the last 5000 lines.\u001b[0m\n",
            "  inflating: maize_leaf_data/data/Blight/Corn_Blight (106).jpg  \n",
            "  inflating: maize_leaf_data/data/Blight/Corn_Blight (1060).JPG  \n",
            "  inflating: maize_leaf_data/data/Blight/Corn_Blight (1061).JPG  \n",
            "  inflating: maize_leaf_data/data/Blight/Corn_Blight (1062).JPG  \n",
            "  inflating: maize_leaf_data/data/Blight/Corn_Blight (1063).JPG  \n",
            "  inflating: maize_leaf_data/data/Blight/Corn_Blight (1064).JPG  \n",
            "  inflating: maize_leaf_data/data/Blight/Corn_Blight (1065).JPG  \n",
            "  inflating: maize_leaf_data/data/Blight/Corn_Blight (1066).JPG  \n",
            "  inflating: maize_leaf_data/data/Blight/Corn_Blight (1067).JPG  \n",
            "  inflating: maize_leaf_data/data/Blight/Corn_Blight (1068).JPG  \n",
            "  inflating: maize_leaf_data/data/Blight/Corn_Blight (1069).JPG  \n",
            "  inflating: maize_leaf_data/data/Blight/Corn_Blight (107).jpg  \n",
            "  inflating: maize_leaf_data/data/Blight/Corn_Blight (1070).JPG  \n",
            "  inflating: maize_leaf_data/data/Blight/Corn_Blight (1071).JPG  \n",
            "  inflating: maize_leaf_data/data/Blight/Corn_Blight (1072).JPG  \n",
            "  inflating: maize_leaf_data/data/Blight/Corn_Blight (1073).jpg  \n",
            "  inflating: maize_leaf_data/data/Blight/Corn_Blight (1074).JPG  \n",
            "  inflating: maize_leaf_data/data/Blight/Corn_Blight (1075).JPG  \n",
            "  inflating: maize_leaf_data/data/Blight/Corn_Blight (1076).jpg  \n",
            "  inflating: maize_leaf_data/data/Blight/Corn_Blight (1077).JPG  \n",
            "  inflating: maize_leaf_data/data/Blight/Corn_Blight (1078).JPG  \n",
            "  inflating: maize_leaf_data/data/Blight/Corn_Blight (1079).JPG  \n",
            "  inflating: maize_leaf_data/data/Blight/Corn_Blight (108).jpg  \n",
            "  inflating: maize_leaf_data/data/Blight/Corn_Blight (1080).JPG  \n",
            "  inflating: maize_leaf_data/data/Blight/Corn_Blight (1081).jpg  \n",
            "  inflating: maize_leaf_data/data/Blight/Corn_Blight (1082).jpg  \n",
            "  inflating: maize_leaf_data/data/Blight/Corn_Blight (1083).JPG  \n",
            "  inflating: maize_leaf_data/data/Blight/Corn_Blight (1084).JPG  \n",
            "  inflating: maize_leaf_data/data/Blight/Corn_Blight (1085).JPG  \n",
            "  inflating: maize_leaf_data/data/Blight/Corn_Blight (1086).JPG  \n",
            "  inflating: maize_leaf_data/data/Blight/Corn_Blight (1087).JPG  \n",
            "  inflating: maize_leaf_data/data/Blight/Corn_Blight (1088).JPG  \n",
            "  inflating: maize_leaf_data/data/Blight/Corn_Blight (1089).JPG  \n",
            "  inflating: maize_leaf_data/data/Blight/Corn_Blight (109).jpg  \n",
            "  inflating: maize_leaf_data/data/Blight/Corn_Blight (1090).JPG  \n",
            "  inflating: maize_leaf_data/data/Blight/Corn_Blight (1091).JPG  \n",
            "  inflating: maize_leaf_data/data/Blight/Corn_Blight (1092).jpg  \n",
            "  inflating: maize_leaf_data/data/Blight/Corn_Blight (1093).JPG  \n",
            "  inflating: maize_leaf_data/data/Blight/Corn_Blight (1094).JPG  \n",
            "  inflating: maize_leaf_data/data/Blight/Corn_Blight (1095).JPG  \n",
            "  inflating: maize_leaf_data/data/Blight/Corn_Blight (1096).jpg  \n",
            "  inflating: maize_leaf_data/data/Blight/Corn_Blight (1097).jpg  \n",
            "  inflating: maize_leaf_data/data/Blight/Corn_Blight (1098).jpg  \n",
            "  inflating: maize_leaf_data/data/Blight/Corn_Blight (1099).jpg  \n",
            "  inflating: maize_leaf_data/data/Blight/Corn_Blight (11).jpg  \n",
            "  inflating: maize_leaf_data/data/Blight/Corn_Blight (110).jpg  \n",
            "  inflating: maize_leaf_data/data/Blight/Corn_Blight (1100).jpg  \n",
            "  inflating: maize_leaf_data/data/Blight/Corn_Blight (1101).jpg  \n",
            "  inflating: maize_leaf_data/data/Blight/Corn_Blight (1102).jpg  \n",
            "  inflating: maize_leaf_data/data/Blight/Corn_Blight (1103).jpg  \n",
            "  inflating: maize_leaf_data/data/Blight/Corn_Blight (1104).jpg  \n",
            "  inflating: maize_leaf_data/data/Blight/Corn_Blight (1105).jpg  \n",
            "  inflating: maize_leaf_data/data/Blight/Corn_Blight (1106).jpg  \n",
            "  inflating: maize_leaf_data/data/Blight/Corn_Blight (1107).jpg  \n",
            "  inflating: maize_leaf_data/data/Blight/Corn_Blight (1108).jpg  \n",
            "  inflating: maize_leaf_data/data/Blight/Corn_Blight (1109).jpg  \n",
            "  inflating: maize_leaf_data/data/Blight/Corn_Blight (111).JPG  \n",
            "  inflating: maize_leaf_data/data/Blight/Corn_Blight (1110).jpg  \n",
            "  inflating: maize_leaf_data/data/Blight/Corn_Blight (1111).jpg  \n",
            "  inflating: maize_leaf_data/data/Blight/Corn_Blight (1112).jpg  \n",
            "  inflating: maize_leaf_data/data/Blight/Corn_Blight (1113).jpg  \n",
            "  inflating: maize_leaf_data/data/Blight/Corn_Blight (1114).jpg  \n",
            "  inflating: maize_leaf_data/data/Blight/Corn_Blight (1115).jpg  \n",
            "  inflating: maize_leaf_data/data/Blight/Corn_Blight (1116).jpg  \n",
            "  inflating: maize_leaf_data/data/Blight/Corn_Blight (1117).jpg  \n",
            "  inflating: maize_leaf_data/data/Blight/Corn_Blight (1118).jpg  \n",
            "  inflating: maize_leaf_data/data/Blight/Corn_Blight (1119).jpg  \n",
            "  inflating: maize_leaf_data/data/Blight/Corn_Blight (112).JPG  \n",
            "  inflating: maize_leaf_data/data/Blight/Corn_Blight (1120).jpg  \n",
            "  inflating: maize_leaf_data/data/Blight/Corn_Blight (1121).jpg  \n",
            "  inflating: maize_leaf_data/data/Blight/Corn_Blight (1122).jpg  \n",
            "  inflating: maize_leaf_data/data/Blight/Corn_Blight (1123).jpg  \n",
            "  inflating: maize_leaf_data/data/Blight/Corn_Blight (1124).jpg  \n",
            "  inflating: maize_leaf_data/data/Blight/Corn_Blight (1125).jpg  \n",
            "  inflating: maize_leaf_data/data/Blight/Corn_Blight (1126).jpg  \n",
            "  inflating: maize_leaf_data/data/Blight/Corn_Blight (1127).jpg  \n",
            "  inflating: maize_leaf_data/data/Blight/Corn_Blight (1128).jpg  \n",
            "  inflating: maize_leaf_data/data/Blight/Corn_Blight (1129).jpg  \n",
            "  inflating: maize_leaf_data/data/Blight/Corn_Blight (113).JPG  \n",
            "  inflating: maize_leaf_data/data/Blight/Corn_Blight (1130).jpg  \n",
            "  inflating: maize_leaf_data/data/Blight/Corn_Blight (1131).jpg  \n",
            "  inflating: maize_leaf_data/data/Blight/Corn_Blight (1132).jpg  \n",
            "  inflating: maize_leaf_data/data/Blight/Corn_Blight (1133).jpg  \n",
            "  inflating: maize_leaf_data/data/Blight/Corn_Blight (1134).jpg  \n",
            "  inflating: maize_leaf_data/data/Blight/Corn_Blight (1135).jpg  \n",
            "  inflating: maize_leaf_data/data/Blight/Corn_Blight (1136).jpg  \n",
            "  inflating: maize_leaf_data/data/Blight/Corn_Blight (1137).jpg  \n",
            "  inflating: maize_leaf_data/data/Blight/Corn_Blight (1138).jpg  \n",
            "  inflating: maize_leaf_data/data/Blight/Corn_Blight (1139).jpg  \n",
            "  inflating: maize_leaf_data/data/Blight/Corn_Blight (114).JPG  \n",
            "  inflating: maize_leaf_data/data/Blight/Corn_Blight (1140).jpg  \n",
            "  inflating: maize_leaf_data/data/Blight/Corn_Blight (1141).jpg  \n",
            "  inflating: maize_leaf_data/data/Blight/Corn_Blight (1142).jpg  \n",
            "  inflating: maize_leaf_data/data/Blight/Corn_Blight (1143).jpg  \n",
            "  inflating: maize_leaf_data/data/Blight/Corn_Blight (1144).jpg  \n",
            "  inflating: maize_leaf_data/data/Blight/Corn_Blight (1145).jpg  \n",
            "  inflating: maize_leaf_data/data/Blight/Corn_Blight (115).JPG  \n",
            "  inflating: maize_leaf_data/data/Blight/Corn_Blight (116).JPG  \n",
            "  inflating: maize_leaf_data/data/Blight/Corn_Blight (117).JPG  \n",
            "  inflating: maize_leaf_data/data/Blight/Corn_Blight (118).JPG  \n",
            "  inflating: maize_leaf_data/data/Blight/Corn_Blight (119).JPG  \n",
            "  inflating: maize_leaf_data/data/Blight/Corn_Blight (12).jpg  \n",
            "  inflating: maize_leaf_data/data/Blight/Corn_Blight (120).JPG  \n",
            "  inflating: maize_leaf_data/data/Blight/Corn_Blight (121).JPG  \n",
            "  inflating: maize_leaf_data/data/Blight/Corn_Blight (122).JPG  \n",
            "  inflating: maize_leaf_data/data/Blight/Corn_Blight (123).JPG  \n",
            "  inflating: maize_leaf_data/data/Blight/Corn_Blight (124).JPG  \n",
            "  inflating: maize_leaf_data/data/Blight/Corn_Blight (125).jpg  \n",
            "  inflating: maize_leaf_data/data/Blight/Corn_Blight (126).JPG  \n",
            "  inflating: maize_leaf_data/data/Blight/Corn_Blight (127).JPG  \n",
            "  inflating: maize_leaf_data/data/Blight/Corn_Blight (128).JPG  \n",
            "  inflating: maize_leaf_data/data/Blight/Corn_Blight (129).JPG  \n",
            "  inflating: maize_leaf_data/data/Blight/Corn_Blight (13).jpg  \n",
            "  inflating: maize_leaf_data/data/Blight/Corn_Blight (130).jpg  \n",
            "  inflating: maize_leaf_data/data/Blight/Corn_Blight (131).JPG  \n",
            "  inflating: maize_leaf_data/data/Blight/Corn_Blight (132).JPG  \n",
            "  inflating: maize_leaf_data/data/Blight/Corn_Blight (133).JPG  \n",
            "  inflating: maize_leaf_data/data/Blight/Corn_Blight (134).jpg  \n",
            "  inflating: maize_leaf_data/data/Blight/Corn_Blight (135).JPG  \n",
            "  inflating: maize_leaf_data/data/Blight/Corn_Blight (136).JPG  \n",
            "  inflating: maize_leaf_data/data/Blight/Corn_Blight (137).JPG  \n",
            "  inflating: maize_leaf_data/data/Blight/Corn_Blight (138).JPG  \n",
            "  inflating: maize_leaf_data/data/Blight/Corn_Blight (139).jpg  \n",
            "  inflating: maize_leaf_data/data/Blight/Corn_Blight (14).jpg  \n",
            "  inflating: maize_leaf_data/data/Blight/Corn_Blight (140).JPG  \n",
            "  inflating: maize_leaf_data/data/Blight/Corn_Blight (141).JPG  \n",
            "  inflating: maize_leaf_data/data/Blight/Corn_Blight (142).JPG  \n",
            "  inflating: maize_leaf_data/data/Blight/Corn_Blight (143).JPG  \n",
            "  inflating: maize_leaf_data/data/Blight/Corn_Blight (144).jpg  \n",
            "  inflating: maize_leaf_data/data/Blight/Corn_Blight (145).JPG  \n",
            "  inflating: maize_leaf_data/data/Blight/Corn_Blight (146).JPG  \n",
            "  inflating: maize_leaf_data/data/Blight/Corn_Blight (147).jpg  \n",
            "  inflating: maize_leaf_data/data/Blight/Corn_Blight (148).JPG  \n",
            "  inflating: maize_leaf_data/data/Blight/Corn_Blight (149).JPG  \n",
            "  inflating: maize_leaf_data/data/Blight/Corn_Blight (15).jpg  \n",
            "  inflating: maize_leaf_data/data/Blight/Corn_Blight (150).JPG  \n",
            "  inflating: maize_leaf_data/data/Blight/Corn_Blight (151).JPG  \n",
            "  inflating: maize_leaf_data/data/Blight/Corn_Blight (152).JPG  \n",
            "  inflating: maize_leaf_data/data/Blight/Corn_Blight (153).JPG  \n",
            "  inflating: maize_leaf_data/data/Blight/Corn_Blight (154).JPG  \n",
            "  inflating: maize_leaf_data/data/Blight/Corn_Blight (155).JPG  \n",
            "  inflating: maize_leaf_data/data/Blight/Corn_Blight (156).JPG  \n",
            "  inflating: maize_leaf_data/data/Blight/Corn_Blight (157).JPG  \n",
            "  inflating: maize_leaf_data/data/Blight/Corn_Blight (158).JPG  \n",
            "  inflating: maize_leaf_data/data/Blight/Corn_Blight (159).JPG  \n",
            "  inflating: maize_leaf_data/data/Blight/Corn_Blight (16).jpg  \n",
            "  inflating: maize_leaf_data/data/Blight/Corn_Blight (160).JPG  \n",
            "  inflating: maize_leaf_data/data/Blight/Corn_Blight (161).JPG  \n",
            "  inflating: maize_leaf_data/data/Blight/Corn_Blight (162).jpg  \n",
            "  inflating: maize_leaf_data/data/Blight/Corn_Blight (163).JPG  \n",
            "  inflating: maize_leaf_data/data/Blight/Corn_Blight (164).JPG  \n",
            "  inflating: maize_leaf_data/data/Blight/Corn_Blight (165).jpg  \n",
            "  inflating: maize_leaf_data/data/Blight/Corn_Blight (166).JPG  \n",
            "  inflating: maize_leaf_data/data/Blight/Corn_Blight (167).JPG  \n",
            "  inflating: maize_leaf_data/data/Blight/Corn_Blight (168).JPG  \n",
            "  inflating: maize_leaf_data/data/Blight/Corn_Blight (169).JPG  \n",
            "  inflating: maize_leaf_data/data/Blight/Corn_Blight (17).jpg  \n",
            "  inflating: maize_leaf_data/data/Blight/Corn_Blight (170).JPG  \n",
            "  inflating: maize_leaf_data/data/Blight/Corn_Blight (171).JPG  \n",
            "  inflating: maize_leaf_data/data/Blight/Corn_Blight (172).JPG  \n",
            "  inflating: maize_leaf_data/data/Blight/Corn_Blight (173).JPG  \n",
            "  inflating: maize_leaf_data/data/Blight/Corn_Blight (174).JPG  \n",
            "  inflating: maize_leaf_data/data/Blight/Corn_Blight (175).jpg  \n",
            "  inflating: maize_leaf_data/data/Blight/Corn_Blight (176).jpg  \n",
            "  inflating: maize_leaf_data/data/Blight/Corn_Blight (177).JPG  \n",
            "  inflating: maize_leaf_data/data/Blight/Corn_Blight (178).jpg  \n",
            "  inflating: maize_leaf_data/data/Blight/Corn_Blight (179).JPG  \n",
            "  inflating: maize_leaf_data/data/Blight/Corn_Blight (18).jpg  \n",
            "  inflating: maize_leaf_data/data/Blight/Corn_Blight (180).JPG  \n",
            "  inflating: maize_leaf_data/data/Blight/Corn_Blight (181).JPG  \n",
            "  inflating: maize_leaf_data/data/Blight/Corn_Blight (182).JPG  \n",
            "  inflating: maize_leaf_data/data/Blight/Corn_Blight (183).JPG  \n",
            "  inflating: maize_leaf_data/data/Blight/Corn_Blight (184).JPG  \n",
            "  inflating: maize_leaf_data/data/Blight/Corn_Blight (185).JPG  \n",
            "  inflating: maize_leaf_data/data/Blight/Corn_Blight (186).JPG  \n",
            "  inflating: maize_leaf_data/data/Blight/Corn_Blight (187).JPG  \n",
            "  inflating: maize_leaf_data/data/Blight/Corn_Blight (188).JPG  \n",
            "  inflating: maize_leaf_data/data/Blight/Corn_Blight (189).JPG  \n",
            "  inflating: maize_leaf_data/data/Blight/Corn_Blight (19).jpg  \n",
            "  inflating: maize_leaf_data/data/Blight/Corn_Blight (190).JPG  \n",
            "  inflating: maize_leaf_data/data/Blight/Corn_Blight (191).JPG  \n",
            "  inflating: maize_leaf_data/data/Blight/Corn_Blight (192).JPG  \n",
            "  inflating: maize_leaf_data/data/Blight/Corn_Blight (193).JPG  \n",
            "  inflating: maize_leaf_data/data/Blight/Corn_Blight (194).JPG  \n",
            "  inflating: maize_leaf_data/data/Blight/Corn_Blight (195).JPG  \n",
            "  inflating: maize_leaf_data/data/Blight/Corn_Blight (196).JPG  \n",
            "  inflating: maize_leaf_data/data/Blight/Corn_Blight (197).JPG  \n",
            "  inflating: maize_leaf_data/data/Blight/Corn_Blight (198).JPG  \n",
            "  inflating: maize_leaf_data/data/Blight/Corn_Blight (199).JPG  \n",
            "  inflating: maize_leaf_data/data/Blight/Corn_Blight (2).jpg  \n",
            "  inflating: maize_leaf_data/data/Blight/Corn_Blight (20).jpg  \n",
            "  inflating: maize_leaf_data/data/Blight/Corn_Blight (200).JPG  \n",
            "  inflating: maize_leaf_data/data/Blight/Corn_Blight (201).JPG  \n",
            "  inflating: maize_leaf_data/data/Blight/Corn_Blight (202).JPG  \n",
            "  inflating: maize_leaf_data/data/Blight/Corn_Blight (203).JPG  \n",
            "  inflating: maize_leaf_data/data/Blight/Corn_Blight (204).jpg  \n",
            "  inflating: maize_leaf_data/data/Blight/Corn_Blight (205).JPG  \n",
            "  inflating: maize_leaf_data/data/Blight/Corn_Blight (206).JPG  \n",
            "  inflating: maize_leaf_data/data/Blight/Corn_Blight (207).JPG  \n",
            "  inflating: maize_leaf_data/data/Blight/Corn_Blight (208).jpg  \n",
            "  inflating: maize_leaf_data/data/Blight/Corn_Blight (209).JPG  \n",
            "  inflating: maize_leaf_data/data/Blight/Corn_Blight (21).jpg  \n",
            "  inflating: maize_leaf_data/data/Blight/Corn_Blight (210).JPG  \n",
            "  inflating: maize_leaf_data/data/Blight/Corn_Blight (211).JPG  \n",
            "  inflating: maize_leaf_data/data/Blight/Corn_Blight (212).JPG  \n",
            "  inflating: maize_leaf_data/data/Blight/Corn_Blight (213).JPG  \n",
            "  inflating: maize_leaf_data/data/Blight/Corn_Blight (214).JPG  \n",
            "  inflating: maize_leaf_data/data/Blight/Corn_Blight (215).JPG  \n",
            "  inflating: maize_leaf_data/data/Blight/Corn_Blight (216).JPG  \n",
            "  inflating: maize_leaf_data/data/Blight/Corn_Blight (217).JPG  \n",
            "  inflating: maize_leaf_data/data/Blight/Corn_Blight (218).JPG  \n",
            "  inflating: maize_leaf_data/data/Blight/Corn_Blight (219).JPG  \n",
            "  inflating: maize_leaf_data/data/Blight/Corn_Blight (22).jpg  \n",
            "  inflating: maize_leaf_data/data/Blight/Corn_Blight (220).JPG  \n",
            "  inflating: maize_leaf_data/data/Blight/Corn_Blight (221).JPG  \n",
            "  inflating: maize_leaf_data/data/Blight/Corn_Blight (222).JPG  \n",
            "  inflating: maize_leaf_data/data/Blight/Corn_Blight (223).JPG  \n",
            "  inflating: maize_leaf_data/data/Blight/Corn_Blight (224).JPG  \n",
            "  inflating: maize_leaf_data/data/Blight/Corn_Blight (225).JPG  \n",
            "  inflating: maize_leaf_data/data/Blight/Corn_Blight (226).JPG  \n",
            "  inflating: maize_leaf_data/data/Blight/Corn_Blight (227).JPG  \n",
            "  inflating: maize_leaf_data/data/Blight/Corn_Blight (228).JPG  \n",
            "  inflating: maize_leaf_data/data/Blight/Corn_Blight (229).JPG  \n",
            "  inflating: maize_leaf_data/data/Blight/Corn_Blight (23).jpg  \n",
            "  inflating: maize_leaf_data/data/Blight/Corn_Blight (230).JPG  \n",
            "  inflating: maize_leaf_data/data/Blight/Corn_Blight (231).JPG  \n",
            "  inflating: maize_leaf_data/data/Blight/Corn_Blight (232).JPG  \n",
            "  inflating: maize_leaf_data/data/Blight/Corn_Blight (233).JPG  \n",
            "  inflating: maize_leaf_data/data/Blight/Corn_Blight (234).JPG  \n",
            "  inflating: maize_leaf_data/data/Blight/Corn_Blight (235).JPG  \n",
            "  inflating: maize_leaf_data/data/Blight/Corn_Blight (236).JPG  \n",
            "  inflating: maize_leaf_data/data/Blight/Corn_Blight (237).JPG  \n",
            "  inflating: maize_leaf_data/data/Blight/Corn_Blight (238).JPG  \n",
            "  inflating: maize_leaf_data/data/Blight/Corn_Blight (239).JPG  \n",
            "  inflating: maize_leaf_data/data/Blight/Corn_Blight (24).jpg  \n",
            "  inflating: maize_leaf_data/data/Blight/Corn_Blight (240).JPG  \n",
            "  inflating: maize_leaf_data/data/Blight/Corn_Blight (241).JPG  \n",
            "  inflating: maize_leaf_data/data/Blight/Corn_Blight (242).JPG  \n",
            "  inflating: maize_leaf_data/data/Blight/Corn_Blight (243).JPG  \n",
            "  inflating: maize_leaf_data/data/Blight/Corn_Blight (244).JPG  \n",
            "  inflating: maize_leaf_data/data/Blight/Corn_Blight (245).JPG  \n",
            "  inflating: maize_leaf_data/data/Blight/Corn_Blight (246).jpg  \n",
            "  inflating: maize_leaf_data/data/Blight/Corn_Blight (247).JPG  \n",
            "  inflating: maize_leaf_data/data/Blight/Corn_Blight (248).JPG  \n",
            "  inflating: maize_leaf_data/data/Blight/Corn_Blight (249).JPG  \n",
            "  inflating: maize_leaf_data/data/Blight/Corn_Blight (25).jpg  \n",
            "  inflating: maize_leaf_data/data/Blight/Corn_Blight (250).JPG  \n",
            "  inflating: maize_leaf_data/data/Blight/Corn_Blight (251).JPG  \n",
            "  inflating: maize_leaf_data/data/Blight/Corn_Blight (252).JPG  \n",
            "  inflating: maize_leaf_data/data/Blight/Corn_Blight (253).JPG  \n",
            "  inflating: maize_leaf_data/data/Blight/Corn_Blight (254).JPG  \n",
            "  inflating: maize_leaf_data/data/Blight/Corn_Blight (255).JPG  \n",
            "  inflating: maize_leaf_data/data/Blight/Corn_Blight (256).JPG  \n",
            "  inflating: maize_leaf_data/data/Blight/Corn_Blight (257).JPG  \n",
            "  inflating: maize_leaf_data/data/Blight/Corn_Blight (258).JPG  \n",
            "  inflating: maize_leaf_data/data/Blight/Corn_Blight (259).jpg  \n",
            "  inflating: maize_leaf_data/data/Blight/Corn_Blight (26).jpg  \n",
            "  inflating: maize_leaf_data/data/Blight/Corn_Blight (260).JPG  \n",
            "  inflating: maize_leaf_data/data/Blight/Corn_Blight (261).JPG  \n",
            "  inflating: maize_leaf_data/data/Blight/Corn_Blight (262).JPG  \n",
            "  inflating: maize_leaf_data/data/Blight/Corn_Blight (263).JPG  \n",
            "  inflating: maize_leaf_data/data/Blight/Corn_Blight (264).jpg  \n",
            "  inflating: maize_leaf_data/data/Blight/Corn_Blight (265).JPG  \n",
            "  inflating: maize_leaf_data/data/Blight/Corn_Blight (266).JPG  \n",
            "  inflating: maize_leaf_data/data/Blight/Corn_Blight (267).JPG  \n",
            "  inflating: maize_leaf_data/data/Blight/Corn_Blight (268).JPG  \n",
            "  inflating: maize_leaf_data/data/Blight/Corn_Blight (269).JPG  \n",
            "  inflating: maize_leaf_data/data/Blight/Corn_Blight (27).jpg  \n",
            "  inflating: maize_leaf_data/data/Blight/Corn_Blight (270).JPG  \n",
            "  inflating: maize_leaf_data/data/Blight/Corn_Blight (271).JPG  \n",
            "  inflating: maize_leaf_data/data/Blight/Corn_Blight (272).JPG  \n",
            "  inflating: maize_leaf_data/data/Blight/Corn_Blight (273).JPG  \n",
            "  inflating: maize_leaf_data/data/Blight/Corn_Blight (274).JPG  \n",
            "  inflating: maize_leaf_data/data/Blight/Corn_Blight (275).jpg  \n",
            "  inflating: maize_leaf_data/data/Blight/Corn_Blight (276).JPG  \n",
            "  inflating: maize_leaf_data/data/Blight/Corn_Blight (277).JPG  \n",
            "  inflating: maize_leaf_data/data/Blight/Corn_Blight (278).JPG  \n",
            "  inflating: maize_leaf_data/data/Blight/Corn_Blight (279).JPG  \n",
            "  inflating: maize_leaf_data/data/Blight/Corn_Blight (28).jpg  \n",
            "  inflating: maize_leaf_data/data/Blight/Corn_Blight (280).JPG  \n",
            "  inflating: maize_leaf_data/data/Blight/Corn_Blight (281).JPG  \n",
            "  inflating: maize_leaf_data/data/Blight/Corn_Blight (282).JPG  \n",
            "  inflating: maize_leaf_data/data/Blight/Corn_Blight (283).JPG  \n",
            "  inflating: maize_leaf_data/data/Blight/Corn_Blight (284).jpg  \n",
            "  inflating: maize_leaf_data/data/Blight/Corn_Blight (285).JPG  \n",
            "  inflating: maize_leaf_data/data/Blight/Corn_Blight (286).jpg  \n",
            "  inflating: maize_leaf_data/data/Blight/Corn_Blight (287).JPG  \n",
            "  inflating: maize_leaf_data/data/Blight/Corn_Blight (288).JPG  \n",
            "  inflating: maize_leaf_data/data/Blight/Corn_Blight (289).JPG  \n",
            "  inflating: maize_leaf_data/data/Blight/Corn_Blight (29).jpg  \n",
            "  inflating: maize_leaf_data/data/Blight/Corn_Blight (290).JPG  \n",
            "  inflating: maize_leaf_data/data/Blight/Corn_Blight (291).JPG  \n",
            "  inflating: maize_leaf_data/data/Blight/Corn_Blight (292).JPG  \n",
            "  inflating: maize_leaf_data/data/Blight/Corn_Blight (293).JPG  \n",
            "  inflating: maize_leaf_data/data/Blight/Corn_Blight (294).JPG  \n",
            "  inflating: maize_leaf_data/data/Blight/Corn_Blight (295).JPG  \n",
            "  inflating: maize_leaf_data/data/Blight/Corn_Blight (296).JPG  \n",
            "  inflating: maize_leaf_data/data/Blight/Corn_Blight (297).JPG  \n",
            "  inflating: maize_leaf_data/data/Blight/Corn_Blight (298).JPG  \n",
            "  inflating: maize_leaf_data/data/Blight/Corn_Blight (299).JPG  \n",
            "  inflating: maize_leaf_data/data/Blight/Corn_Blight (3).jpg  \n",
            "  inflating: maize_leaf_data/data/Blight/Corn_Blight (30).jpg  \n",
            "  inflating: maize_leaf_data/data/Blight/Corn_Blight (300).JPG  \n",
            "  inflating: maize_leaf_data/data/Blight/Corn_Blight (301).JPG  \n",
            "  inflating: maize_leaf_data/data/Blight/Corn_Blight (302).JPG  \n",
            "  inflating: maize_leaf_data/data/Blight/Corn_Blight (303).jpg  \n",
            "  inflating: maize_leaf_data/data/Blight/Corn_Blight (304).jpg  \n",
            "  inflating: maize_leaf_data/data/Blight/Corn_Blight (305).JPG  \n",
            "  inflating: maize_leaf_data/data/Blight/Corn_Blight (306).JPG  \n",
            "  inflating: maize_leaf_data/data/Blight/Corn_Blight (307).jpg  \n",
            "  inflating: maize_leaf_data/data/Blight/Corn_Blight (308).JPG  \n",
            "  inflating: maize_leaf_data/data/Blight/Corn_Blight (309).jpg  \n",
            "  inflating: maize_leaf_data/data/Blight/Corn_Blight (31).jpg  \n",
            "  inflating: maize_leaf_data/data/Blight/Corn_Blight (310).JPG  \n",
            "  inflating: maize_leaf_data/data/Blight/Corn_Blight (311).JPG  \n",
            "  inflating: maize_leaf_data/data/Blight/Corn_Blight (312).JPG  \n",
            "  inflating: maize_leaf_data/data/Blight/Corn_Blight (313).JPG  \n",
            "  inflating: maize_leaf_data/data/Blight/Corn_Blight (314).JPG  \n",
            "  inflating: maize_leaf_data/data/Blight/Corn_Blight (315).JPG  \n",
            "  inflating: maize_leaf_data/data/Blight/Corn_Blight (316).JPG  \n",
            "  inflating: maize_leaf_data/data/Blight/Corn_Blight (317).jpg  \n",
            "  inflating: maize_leaf_data/data/Blight/Corn_Blight (318).JPG  \n",
            "  inflating: maize_leaf_data/data/Blight/Corn_Blight (319).JPG  \n",
            "  inflating: maize_leaf_data/data/Blight/Corn_Blight (32).jpg  \n",
            "  inflating: maize_leaf_data/data/Blight/Corn_Blight (320).JPG  \n",
            "  inflating: maize_leaf_data/data/Blight/Corn_Blight (321).JPG  \n",
            "  inflating: maize_leaf_data/data/Blight/Corn_Blight (322).JPG  \n",
            "  inflating: maize_leaf_data/data/Blight/Corn_Blight (323).jpg  \n",
            "  inflating: maize_leaf_data/data/Blight/Corn_Blight (324).JPG  \n",
            "  inflating: maize_leaf_data/data/Blight/Corn_Blight (325).JPG  \n",
            "  inflating: maize_leaf_data/data/Blight/Corn_Blight (326).JPG  \n",
            "  inflating: maize_leaf_data/data/Blight/Corn_Blight (327).JPG  \n",
            "  inflating: maize_leaf_data/data/Blight/Corn_Blight (328).JPG  \n",
            "  inflating: maize_leaf_data/data/Blight/Corn_Blight (329).JPG  \n",
            "  inflating: maize_leaf_data/data/Blight/Corn_Blight (33).jpg  \n",
            "  inflating: maize_leaf_data/data/Blight/Corn_Blight (330).JPG  \n",
            "  inflating: maize_leaf_data/data/Blight/Corn_Blight (331).JPG  \n",
            "  inflating: maize_leaf_data/data/Blight/Corn_Blight (332).JPG  \n",
            "  inflating: maize_leaf_data/data/Blight/Corn_Blight (333).JPG  \n",
            "  inflating: maize_leaf_data/data/Blight/Corn_Blight (334).JPG  \n",
            "  inflating: maize_leaf_data/data/Blight/Corn_Blight (335).JPG  \n",
            "  inflating: maize_leaf_data/data/Blight/Corn_Blight (336).JPG  \n",
            "  inflating: maize_leaf_data/data/Blight/Corn_Blight (337).JPG  \n",
            "  inflating: maize_leaf_data/data/Blight/Corn_Blight (338).JPG  \n",
            "  inflating: maize_leaf_data/data/Blight/Corn_Blight (339).jpg  \n",
            "  inflating: maize_leaf_data/data/Blight/Corn_Blight (34).jpg  \n",
            "  inflating: maize_leaf_data/data/Blight/Corn_Blight (340).JPG  \n",
            "  inflating: maize_leaf_data/data/Blight/Corn_Blight (341).JPG  \n",
            "  inflating: maize_leaf_data/data/Blight/Corn_Blight (342).JPG  \n",
            "  inflating: maize_leaf_data/data/Blight/Corn_Blight (343).JPG  \n",
            "  inflating: maize_leaf_data/data/Blight/Corn_Blight (344).JPG  \n",
            "  inflating: maize_leaf_data/data/Blight/Corn_Blight (345).JPG  \n",
            "  inflating: maize_leaf_data/data/Blight/Corn_Blight (346).JPG  \n",
            "  inflating: maize_leaf_data/data/Blight/Corn_Blight (347).JPG  \n",
            "  inflating: maize_leaf_data/data/Blight/Corn_Blight (348).jpg  \n",
            "  inflating: maize_leaf_data/data/Blight/Corn_Blight (349).JPG  \n",
            "  inflating: maize_leaf_data/data/Blight/Corn_Blight (35).jpg  \n",
            "  inflating: maize_leaf_data/data/Blight/Corn_Blight (350).JPG  \n",
            "  inflating: maize_leaf_data/data/Blight/Corn_Blight (351).JPG  \n",
            "  inflating: maize_leaf_data/data/Blight/Corn_Blight (352).JPG  \n",
            "  inflating: maize_leaf_data/data/Blight/Corn_Blight (353).JPG  \n",
            "  inflating: maize_leaf_data/data/Blight/Corn_Blight (354).JPG  \n",
            "  inflating: maize_leaf_data/data/Blight/Corn_Blight (355).JPG  \n",
            "  inflating: maize_leaf_data/data/Blight/Corn_Blight (356).JPG  \n",
            "  inflating: maize_leaf_data/data/Blight/Corn_Blight (357).JPG  \n",
            "  inflating: maize_leaf_data/data/Blight/Corn_Blight (358).JPG  \n",
            "  inflating: maize_leaf_data/data/Blight/Corn_Blight (359).JPG  \n",
            "  inflating: maize_leaf_data/data/Blight/Corn_Blight (36).jpg  \n",
            "  inflating: maize_leaf_data/data/Blight/Corn_Blight (360).JPG  \n",
            "  inflating: maize_leaf_data/data/Blight/Corn_Blight (361).JPG  \n",
            "  inflating: maize_leaf_data/data/Blight/Corn_Blight (362).JPG  \n",
            "  inflating: maize_leaf_data/data/Blight/Corn_Blight (363).JPG  \n",
            "  inflating: maize_leaf_data/data/Blight/Corn_Blight (364).JPG  \n",
            "  inflating: maize_leaf_data/data/Blight/Corn_Blight (365).JPG  \n",
            "  inflating: maize_leaf_data/data/Blight/Corn_Blight (366).JPG  \n",
            "  inflating: maize_leaf_data/data/Blight/Corn_Blight (367).JPG  \n",
            "  inflating: maize_leaf_data/data/Blight/Corn_Blight (368).JPG  \n",
            "  inflating: maize_leaf_data/data/Blight/Corn_Blight (369).JPG  \n",
            "  inflating: maize_leaf_data/data/Blight/Corn_Blight (37).jpg  \n",
            "  inflating: maize_leaf_data/data/Blight/Corn_Blight (370).JPG  \n",
            "  inflating: maize_leaf_data/data/Blight/Corn_Blight (371).JPG  \n",
            "  inflating: maize_leaf_data/data/Blight/Corn_Blight (372).JPG  \n",
            "  inflating: maize_leaf_data/data/Blight/Corn_Blight (373).JPG  \n",
            "  inflating: maize_leaf_data/data/Blight/Corn_Blight (374).JPG  \n",
            "  inflating: maize_leaf_data/data/Blight/Corn_Blight (375).JPG  \n",
            "  inflating: maize_leaf_data/data/Blight/Corn_Blight (376).JPG  \n",
            "  inflating: maize_leaf_data/data/Blight/Corn_Blight (377).JPG  \n",
            "  inflating: maize_leaf_data/data/Blight/Corn_Blight (378).JPG  \n",
            "  inflating: maize_leaf_data/data/Blight/Corn_Blight (379).JPG  \n",
            "  inflating: maize_leaf_data/data/Blight/Corn_Blight (38).jpg  \n",
            "  inflating: maize_leaf_data/data/Blight/Corn_Blight (380).JPG  \n",
            "  inflating: maize_leaf_data/data/Blight/Corn_Blight (381).JPG  \n",
            "  inflating: maize_leaf_data/data/Blight/Corn_Blight (382).JPG  \n",
            "  inflating: maize_leaf_data/data/Blight/Corn_Blight (383).JPG  \n",
            "  inflating: maize_leaf_data/data/Blight/Corn_Blight (384).jpg  \n",
            "  inflating: maize_leaf_data/data/Blight/Corn_Blight (385).JPG  \n",
            "  inflating: maize_leaf_data/data/Blight/Corn_Blight (386).JPG  \n",
            "  inflating: maize_leaf_data/data/Blight/Corn_Blight (387).JPG  \n",
            "  inflating: maize_leaf_data/data/Blight/Corn_Blight (388).JPG  \n",
            "  inflating: maize_leaf_data/data/Blight/Corn_Blight (389).JPG  \n",
            "  inflating: maize_leaf_data/data/Blight/Corn_Blight (39).jpg  \n",
            "  inflating: maize_leaf_data/data/Blight/Corn_Blight (390).JPG  \n",
            "  inflating: maize_leaf_data/data/Blight/Corn_Blight (391).JPG  \n",
            "  inflating: maize_leaf_data/data/Blight/Corn_Blight (392).JPG  \n",
            "  inflating: maize_leaf_data/data/Blight/Corn_Blight (393).JPG  \n",
            "  inflating: maize_leaf_data/data/Blight/Corn_Blight (394).JPG  \n",
            "  inflating: maize_leaf_data/data/Blight/Corn_Blight (395).JPG  \n",
            "  inflating: maize_leaf_data/data/Blight/Corn_Blight (396).JPG  \n",
            "  inflating: maize_leaf_data/data/Blight/Corn_Blight (397).JPG  \n",
            "  inflating: maize_leaf_data/data/Blight/Corn_Blight (398).JPG  \n",
            "  inflating: maize_leaf_data/data/Blight/Corn_Blight (399).jpg  \n",
            "  inflating: maize_leaf_data/data/Blight/Corn_Blight (4).jpg  \n",
            "  inflating: maize_leaf_data/data/Blight/Corn_Blight (40).jpg  \n",
            "  inflating: maize_leaf_data/data/Blight/Corn_Blight (400).JPG  \n",
            "  inflating: maize_leaf_data/data/Blight/Corn_Blight (401).JPG  \n",
            "  inflating: maize_leaf_data/data/Blight/Corn_Blight (402).JPG  \n",
            "  inflating: maize_leaf_data/data/Blight/Corn_Blight (403).JPG  \n",
            "  inflating: maize_leaf_data/data/Blight/Corn_Blight (404).jpg  \n",
            "  inflating: maize_leaf_data/data/Blight/Corn_Blight (405).JPG  \n",
            "  inflating: maize_leaf_data/data/Blight/Corn_Blight (406).JPG  \n",
            "  inflating: maize_leaf_data/data/Blight/Corn_Blight (407).JPG  \n",
            "  inflating: maize_leaf_data/data/Blight/Corn_Blight (408).JPG  \n",
            "  inflating: maize_leaf_data/data/Blight/Corn_Blight (409).JPG  \n",
            "  inflating: maize_leaf_data/data/Blight/Corn_Blight (41).jpg  \n",
            "  inflating: maize_leaf_data/data/Blight/Corn_Blight (410).JPG  \n",
            "  inflating: maize_leaf_data/data/Blight/Corn_Blight (411).JPG  \n",
            "  inflating: maize_leaf_data/data/Blight/Corn_Blight (412).JPG  \n",
            "  inflating: maize_leaf_data/data/Blight/Corn_Blight (413).JPG  \n",
            "  inflating: maize_leaf_data/data/Blight/Corn_Blight (414).JPG  \n",
            "  inflating: maize_leaf_data/data/Blight/Corn_Blight (415).jpg  \n",
            "  inflating: maize_leaf_data/data/Blight/Corn_Blight (416).JPG  \n",
            "  inflating: maize_leaf_data/data/Blight/Corn_Blight (417).JPG  \n",
            "  inflating: maize_leaf_data/data/Blight/Corn_Blight (418).JPG  \n",
            "  inflating: maize_leaf_data/data/Blight/Corn_Blight (419).JPG  \n",
            "  inflating: maize_leaf_data/data/Blight/Corn_Blight (42).jpg  \n",
            "  inflating: maize_leaf_data/data/Blight/Corn_Blight (420).JPG  \n",
            "  inflating: maize_leaf_data/data/Blight/Corn_Blight (421).JPG  \n",
            "  inflating: maize_leaf_data/data/Blight/Corn_Blight (422).jpg  \n",
            "  inflating: maize_leaf_data/data/Blight/Corn_Blight (423).jpg  \n",
            "  inflating: maize_leaf_data/data/Blight/Corn_Blight (424).JPG  \n",
            "  inflating: maize_leaf_data/data/Blight/Corn_Blight (425).JPG  \n",
            "  inflating: maize_leaf_data/data/Blight/Corn_Blight (426).JPG  \n",
            "  inflating: maize_leaf_data/data/Blight/Corn_Blight (427).JPG  \n",
            "  inflating: maize_leaf_data/data/Blight/Corn_Blight (428).JPG  \n",
            "  inflating: maize_leaf_data/data/Blight/Corn_Blight (429).JPG  \n",
            "  inflating: maize_leaf_data/data/Blight/Corn_Blight (43).jpg  \n",
            "  inflating: maize_leaf_data/data/Blight/Corn_Blight (430).JPG  \n",
            "  inflating: maize_leaf_data/data/Blight/Corn_Blight (431).JPG  \n",
            "  inflating: maize_leaf_data/data/Blight/Corn_Blight (432).JPG  \n",
            "  inflating: maize_leaf_data/data/Blight/Corn_Blight (433).jpg  \n",
            "  inflating: maize_leaf_data/data/Blight/Corn_Blight (434).JPG  \n",
            "  inflating: maize_leaf_data/data/Blight/Corn_Blight (435).JPG  \n",
            "  inflating: maize_leaf_data/data/Blight/Corn_Blight (436).JPG  \n",
            "  inflating: maize_leaf_data/data/Blight/Corn_Blight (437).JPG  \n",
            "  inflating: maize_leaf_data/data/Blight/Corn_Blight (438).jpg  \n",
            "  inflating: maize_leaf_data/data/Blight/Corn_Blight (439).jpg  \n",
            "  inflating: maize_leaf_data/data/Blight/Corn_Blight (44).jpg  \n",
            "  inflating: maize_leaf_data/data/Blight/Corn_Blight (440).JPG  \n",
            "  inflating: maize_leaf_data/data/Blight/Corn_Blight (441).JPG  \n",
            "  inflating: maize_leaf_data/data/Blight/Corn_Blight (442).JPG  \n",
            "  inflating: maize_leaf_data/data/Blight/Corn_Blight (443).JPG  \n",
            "  inflating: maize_leaf_data/data/Blight/Corn_Blight (444).JPG  \n",
            "  inflating: maize_leaf_data/data/Blight/Corn_Blight (445).JPG  \n",
            "  inflating: maize_leaf_data/data/Blight/Corn_Blight (446).JPG  \n",
            "  inflating: maize_leaf_data/data/Blight/Corn_Blight (447).JPG  \n",
            "  inflating: maize_leaf_data/data/Blight/Corn_Blight (448).JPG  \n",
            "  inflating: maize_leaf_data/data/Blight/Corn_Blight (449).JPG  \n",
            "  inflating: maize_leaf_data/data/Blight/Corn_Blight (45).jpg  \n",
            "  inflating: maize_leaf_data/data/Blight/Corn_Blight (450).JPG  \n",
            "  inflating: maize_leaf_data/data/Blight/Corn_Blight (451).JPG  \n",
            "  inflating: maize_leaf_data/data/Blight/Corn_Blight (452).JPG  \n",
            "  inflating: maize_leaf_data/data/Blight/Corn_Blight (453).JPG  \n",
            "  inflating: maize_leaf_data/data/Blight/Corn_Blight (454).JPG  \n",
            "  inflating: maize_leaf_data/data/Blight/Corn_Blight (455).JPG  \n",
            "  inflating: maize_leaf_data/data/Blight/Corn_Blight (456).JPG  \n",
            "  inflating: maize_leaf_data/data/Blight/Corn_Blight (457).JPG  \n",
            "  inflating: maize_leaf_data/data/Blight/Corn_Blight (458).JPG  \n",
            "  inflating: maize_leaf_data/data/Blight/Corn_Blight (459).JPG  \n",
            "  inflating: maize_leaf_data/data/Blight/Corn_Blight (46).jpg  \n",
            "  inflating: maize_leaf_data/data/Blight/Corn_Blight (460).JPG  \n",
            "  inflating: maize_leaf_data/data/Blight/Corn_Blight (461).JPG  \n",
            "  inflating: maize_leaf_data/data/Blight/Corn_Blight (462).JPG  \n",
            "  inflating: maize_leaf_data/data/Blight/Corn_Blight (463).JPG  \n",
            "  inflating: maize_leaf_data/data/Blight/Corn_Blight (464).JPG  \n",
            "  inflating: maize_leaf_data/data/Blight/Corn_Blight (465).JPG  \n",
            "  inflating: maize_leaf_data/data/Blight/Corn_Blight (466).JPG  \n",
            "  inflating: maize_leaf_data/data/Blight/Corn_Blight (467).JPG  \n",
            "  inflating: maize_leaf_data/data/Blight/Corn_Blight (468).JPG  \n",
            "  inflating: maize_leaf_data/data/Blight/Corn_Blight (469).JPG  \n",
            "  inflating: maize_leaf_data/data/Blight/Corn_Blight (47).jpg  \n",
            "  inflating: maize_leaf_data/data/Blight/Corn_Blight (470).JPG  \n",
            "  inflating: maize_leaf_data/data/Blight/Corn_Blight (471).JPG  \n",
            "  inflating: maize_leaf_data/data/Blight/Corn_Blight (472).JPG  \n",
            "  inflating: maize_leaf_data/data/Blight/Corn_Blight (473).JPG  \n",
            "  inflating: maize_leaf_data/data/Blight/Corn_Blight (474).JPG  \n",
            "  inflating: maize_leaf_data/data/Blight/Corn_Blight (475).JPG  \n",
            "  inflating: maize_leaf_data/data/Blight/Corn_Blight (476).JPG  \n",
            "  inflating: maize_leaf_data/data/Blight/Corn_Blight (477).JPG  \n",
            "  inflating: maize_leaf_data/data/Blight/Corn_Blight (478).JPG  \n",
            "  inflating: maize_leaf_data/data/Blight/Corn_Blight (479).JPG  \n",
            "  inflating: maize_leaf_data/data/Blight/Corn_Blight (48).jpg  \n",
            "  inflating: maize_leaf_data/data/Blight/Corn_Blight (480).JPG  \n",
            "  inflating: maize_leaf_data/data/Blight/Corn_Blight (481).JPG  \n",
            "  inflating: maize_leaf_data/data/Blight/Corn_Blight (482).JPG  \n",
            "  inflating: maize_leaf_data/data/Blight/Corn_Blight (483).JPG  \n",
            "  inflating: maize_leaf_data/data/Blight/Corn_Blight (484).JPG  \n",
            "  inflating: maize_leaf_data/data/Blight/Corn_Blight (485).JPG  \n",
            "  inflating: maize_leaf_data/data/Blight/Corn_Blight (486).JPG  \n",
            "  inflating: maize_leaf_data/data/Blight/Corn_Blight (487).JPG  \n",
            "  inflating: maize_leaf_data/data/Blight/Corn_Blight (488).JPG  \n",
            "  inflating: maize_leaf_data/data/Blight/Corn_Blight (489).JPG  \n",
            "  inflating: maize_leaf_data/data/Blight/Corn_Blight (49).jpg  \n",
            "  inflating: maize_leaf_data/data/Blight/Corn_Blight (490).jpg  \n",
            "  inflating: maize_leaf_data/data/Blight/Corn_Blight (491).jpg  \n",
            "  inflating: maize_leaf_data/data/Blight/Corn_Blight (492).JPG  \n",
            "  inflating: maize_leaf_data/data/Blight/Corn_Blight (493).JPG  \n",
            "  inflating: maize_leaf_data/data/Blight/Corn_Blight (494).JPG  \n",
            "  inflating: maize_leaf_data/data/Blight/Corn_Blight (495).JPG  \n",
            "  inflating: maize_leaf_data/data/Blight/Corn_Blight (496).JPG  \n",
            "  inflating: maize_leaf_data/data/Blight/Corn_Blight (497).JPG  \n",
            "  inflating: maize_leaf_data/data/Blight/Corn_Blight (498).jpg  \n",
            "  inflating: maize_leaf_data/data/Blight/Corn_Blight (499).JPG  \n",
            "  inflating: maize_leaf_data/data/Blight/Corn_Blight (5).jpg  \n",
            "  inflating: maize_leaf_data/data/Blight/Corn_Blight (50).jpg  \n",
            "  inflating: maize_leaf_data/data/Blight/Corn_Blight (500).JPG  \n",
            "  inflating: maize_leaf_data/data/Blight/Corn_Blight (501).JPG  \n",
            "  inflating: maize_leaf_data/data/Blight/Corn_Blight (502).JPG  \n",
            "  inflating: maize_leaf_data/data/Blight/Corn_Blight (503).JPG  \n",
            "  inflating: maize_leaf_data/data/Blight/Corn_Blight (504).JPG  \n",
            "  inflating: maize_leaf_data/data/Blight/Corn_Blight (505).JPG  \n",
            "  inflating: maize_leaf_data/data/Blight/Corn_Blight (506).JPG  \n",
            "  inflating: maize_leaf_data/data/Blight/Corn_Blight (507).JPG  \n",
            "  inflating: maize_leaf_data/data/Blight/Corn_Blight (508).JPG  \n",
            "  inflating: maize_leaf_data/data/Blight/Corn_Blight (509).JPG  \n",
            "  inflating: maize_leaf_data/data/Blight/Corn_Blight (51).jpg  \n",
            "  inflating: maize_leaf_data/data/Blight/Corn_Blight (510).jpg  \n",
            "  inflating: maize_leaf_data/data/Blight/Corn_Blight (511).JPG  \n",
            "  inflating: maize_leaf_data/data/Blight/Corn_Blight (512).JPG  \n",
            "  inflating: maize_leaf_data/data/Blight/Corn_Blight (513).JPG  \n",
            "  inflating: maize_leaf_data/data/Blight/Corn_Blight (514).JPG  \n",
            "  inflating: maize_leaf_data/data/Blight/Corn_Blight (515).JPG  \n",
            "  inflating: maize_leaf_data/data/Blight/Corn_Blight (516).JPG  \n",
            "  inflating: maize_leaf_data/data/Blight/Corn_Blight (517).JPG  \n",
            "  inflating: maize_leaf_data/data/Blight/Corn_Blight (518).JPG  \n",
            "  inflating: maize_leaf_data/data/Blight/Corn_Blight (519).JPG  \n",
            "  inflating: maize_leaf_data/data/Blight/Corn_Blight (52).jpg  \n",
            "  inflating: maize_leaf_data/data/Blight/Corn_Blight (520).JPG  \n",
            "  inflating: maize_leaf_data/data/Blight/Corn_Blight (521).JPG  \n",
            "  inflating: maize_leaf_data/data/Blight/Corn_Blight (522).JPG  \n",
            "  inflating: maize_leaf_data/data/Blight/Corn_Blight (523).JPG  \n",
            "  inflating: maize_leaf_data/data/Blight/Corn_Blight (524).JPG  \n",
            "  inflating: maize_leaf_data/data/Blight/Corn_Blight (525).JPG  \n",
            "  inflating: maize_leaf_data/data/Blight/Corn_Blight (526).JPG  \n",
            "  inflating: maize_leaf_data/data/Blight/Corn_Blight (527).JPG  \n",
            "  inflating: maize_leaf_data/data/Blight/Corn_Blight (528).JPG  \n",
            "  inflating: maize_leaf_data/data/Blight/Corn_Blight (529).JPG  \n",
            "  inflating: maize_leaf_data/data/Blight/Corn_Blight (53).jpg  \n",
            "  inflating: maize_leaf_data/data/Blight/Corn_Blight (530).JPG  \n",
            "  inflating: maize_leaf_data/data/Blight/Corn_Blight (531).JPG  \n",
            "  inflating: maize_leaf_data/data/Blight/Corn_Blight (532).JPG  \n",
            "  inflating: maize_leaf_data/data/Blight/Corn_Blight (533).JPG  \n",
            "  inflating: maize_leaf_data/data/Blight/Corn_Blight (534).JPG  \n",
            "  inflating: maize_leaf_data/data/Blight/Corn_Blight (535).JPG  \n",
            "  inflating: maize_leaf_data/data/Blight/Corn_Blight (536).JPG  \n",
            "  inflating: maize_leaf_data/data/Blight/Corn_Blight (537).JPG  \n",
            "  inflating: maize_leaf_data/data/Blight/Corn_Blight (538).JPG  \n",
            "  inflating: maize_leaf_data/data/Blight/Corn_Blight (539).JPG  \n",
            "  inflating: maize_leaf_data/data/Blight/Corn_Blight (54).jpg  \n",
            "  inflating: maize_leaf_data/data/Blight/Corn_Blight (540).jpg  \n",
            "  inflating: maize_leaf_data/data/Blight/Corn_Blight (541).jpg  \n",
            "  inflating: maize_leaf_data/data/Blight/Corn_Blight (542).jpg  \n",
            "  inflating: maize_leaf_data/data/Blight/Corn_Blight (543).JPG  \n",
            "  inflating: maize_leaf_data/data/Blight/Corn_Blight (544).JPG  \n",
            "  inflating: maize_leaf_data/data/Blight/Corn_Blight (545).JPG  \n",
            "  inflating: maize_leaf_data/data/Blight/Corn_Blight (546).JPG  \n",
            "  inflating: maize_leaf_data/data/Blight/Corn_Blight (547).JPG  \n",
            "  inflating: maize_leaf_data/data/Blight/Corn_Blight (548).JPG  \n",
            "  inflating: maize_leaf_data/data/Blight/Corn_Blight (549).JPG  \n",
            "  inflating: maize_leaf_data/data/Blight/Corn_Blight (55).jpg  \n",
            "  inflating: maize_leaf_data/data/Blight/Corn_Blight (550).jpg  \n",
            "  inflating: maize_leaf_data/data/Blight/Corn_Blight (551).JPG  \n",
            "  inflating: maize_leaf_data/data/Blight/Corn_Blight (552).JPG  \n",
            "  inflating: maize_leaf_data/data/Blight/Corn_Blight (553).JPG  \n",
            "  inflating: maize_leaf_data/data/Blight/Corn_Blight (554).JPG  \n",
            "  inflating: maize_leaf_data/data/Blight/Corn_Blight (555).JPG  \n",
            "  inflating: maize_leaf_data/data/Blight/Corn_Blight (556).JPG  \n",
            "  inflating: maize_leaf_data/data/Blight/Corn_Blight (557).jpg  \n",
            "  inflating: maize_leaf_data/data/Blight/Corn_Blight (558).JPG  \n",
            "  inflating: maize_leaf_data/data/Blight/Corn_Blight (559).JPG  \n",
            "  inflating: maize_leaf_data/data/Blight/Corn_Blight (56).jpg  \n",
            "  inflating: maize_leaf_data/data/Blight/Corn_Blight (560).JPG  \n",
            "  inflating: maize_leaf_data/data/Blight/Corn_Blight (561).jpg  \n",
            "  inflating: maize_leaf_data/data/Blight/Corn_Blight (562).JPG  \n",
            "  inflating: maize_leaf_data/data/Blight/Corn_Blight (563).JPG  \n",
            "  inflating: maize_leaf_data/data/Blight/Corn_Blight (564).JPG  \n",
            "  inflating: maize_leaf_data/data/Blight/Corn_Blight (565).JPG  \n",
            "  inflating: maize_leaf_data/data/Blight/Corn_Blight (566).JPG  \n",
            "  inflating: maize_leaf_data/data/Blight/Corn_Blight (567).JPG  \n",
            "  inflating: maize_leaf_data/data/Blight/Corn_Blight (568).JPG  \n",
            "  inflating: maize_leaf_data/data/Blight/Corn_Blight (569).JPG  \n",
            "  inflating: maize_leaf_data/data/Blight/Corn_Blight (57).jpg  \n",
            "  inflating: maize_leaf_data/data/Blight/Corn_Blight (570).JPG  \n",
            "  inflating: maize_leaf_data/data/Blight/Corn_Blight (571).JPG  \n",
            "  inflating: maize_leaf_data/data/Blight/Corn_Blight (572).JPG  \n",
            "  inflating: maize_leaf_data/data/Blight/Corn_Blight (573).JPG  \n",
            "  inflating: maize_leaf_data/data/Blight/Corn_Blight (574).JPG  \n",
            "  inflating: maize_leaf_data/data/Blight/Corn_Blight (575).JPG  \n",
            "  inflating: maize_leaf_data/data/Blight/Corn_Blight (576).JPG  \n",
            "  inflating: maize_leaf_data/data/Blight/Corn_Blight (577).JPG  \n",
            "  inflating: maize_leaf_data/data/Blight/Corn_Blight (578).JPG  \n",
            "  inflating: maize_leaf_data/data/Blight/Corn_Blight (579).JPG  \n",
            "  inflating: maize_leaf_data/data/Blight/Corn_Blight (58).jpg  \n",
            "  inflating: maize_leaf_data/data/Blight/Corn_Blight (580).jpg  \n",
            "  inflating: maize_leaf_data/data/Blight/Corn_Blight (581).JPG  \n",
            "  inflating: maize_leaf_data/data/Blight/Corn_Blight (582).jpg  \n",
            "  inflating: maize_leaf_data/data/Blight/Corn_Blight (583).JPG  \n",
            "  inflating: maize_leaf_data/data/Blight/Corn_Blight (584).JPG  \n",
            "  inflating: maize_leaf_data/data/Blight/Corn_Blight (585).JPG  \n",
            "  inflating: maize_leaf_data/data/Blight/Corn_Blight (586).JPG  \n",
            "  inflating: maize_leaf_data/data/Blight/Corn_Blight (587).JPG  \n",
            "  inflating: maize_leaf_data/data/Blight/Corn_Blight (588).JPG  \n",
            "  inflating: maize_leaf_data/data/Blight/Corn_Blight (589).JPG  \n",
            "  inflating: maize_leaf_data/data/Blight/Corn_Blight (59).jpg  \n",
            "  inflating: maize_leaf_data/data/Blight/Corn_Blight (590).JPG  \n",
            "  inflating: maize_leaf_data/data/Blight/Corn_Blight (591).jpg  \n",
            "  inflating: maize_leaf_data/data/Blight/Corn_Blight (592).JPG  \n",
            "  inflating: maize_leaf_data/data/Blight/Corn_Blight (593).JPG  \n",
            "  inflating: maize_leaf_data/data/Blight/Corn_Blight (594).JPG  \n",
            "  inflating: maize_leaf_data/data/Blight/Corn_Blight (595).JPG  \n",
            "  inflating: maize_leaf_data/data/Blight/Corn_Blight (596).JPG  \n",
            "  inflating: maize_leaf_data/data/Blight/Corn_Blight (597).jpg  \n",
            "  inflating: maize_leaf_data/data/Blight/Corn_Blight (598).JPG  \n",
            "  inflating: maize_leaf_data/data/Blight/Corn_Blight (599).JPG  \n",
            "  inflating: maize_leaf_data/data/Blight/Corn_Blight (6).jpg  \n",
            "  inflating: maize_leaf_data/data/Blight/Corn_Blight (60).jpg  \n",
            "  inflating: maize_leaf_data/data/Blight/Corn_Blight (600).jpg  \n",
            "  inflating: maize_leaf_data/data/Blight/Corn_Blight (601).jpg  \n",
            "  inflating: maize_leaf_data/data/Blight/Corn_Blight (602).JPG  \n",
            "  inflating: maize_leaf_data/data/Blight/Corn_Blight (603).JPG  \n",
            "  inflating: maize_leaf_data/data/Blight/Corn_Blight (604).JPG  \n",
            "  inflating: maize_leaf_data/data/Blight/Corn_Blight (605).JPG  \n",
            "  inflating: maize_leaf_data/data/Blight/Corn_Blight (606).JPG  \n",
            "  inflating: maize_leaf_data/data/Blight/Corn_Blight (607).JPG  \n",
            "  inflating: maize_leaf_data/data/Blight/Corn_Blight (608).JPG  \n",
            "  inflating: maize_leaf_data/data/Blight/Corn_Blight (609).JPG  \n",
            "  inflating: maize_leaf_data/data/Blight/Corn_Blight (61).jpg  \n",
            "  inflating: maize_leaf_data/data/Blight/Corn_Blight (610).JPG  \n",
            "  inflating: maize_leaf_data/data/Blight/Corn_Blight (611).JPG  \n",
            "  inflating: maize_leaf_data/data/Blight/Corn_Blight (612).JPG  \n",
            "  inflating: maize_leaf_data/data/Blight/Corn_Blight (613).JPG  \n",
            "  inflating: maize_leaf_data/data/Blight/Corn_Blight (614).JPG  \n",
            "  inflating: maize_leaf_data/data/Blight/Corn_Blight (615).JPG  \n",
            "  inflating: maize_leaf_data/data/Blight/Corn_Blight (616).JPG  \n",
            "  inflating: maize_leaf_data/data/Blight/Corn_Blight (617).JPG  \n",
            "  inflating: maize_leaf_data/data/Blight/Corn_Blight (618).JPG  \n",
            "  inflating: maize_leaf_data/data/Blight/Corn_Blight (619).JPG  \n",
            "  inflating: maize_leaf_data/data/Blight/Corn_Blight (62).jpg  \n",
            "  inflating: maize_leaf_data/data/Blight/Corn_Blight (620).JPG  \n",
            "  inflating: maize_leaf_data/data/Blight/Corn_Blight (621).JPG  \n",
            "  inflating: maize_leaf_data/data/Blight/Corn_Blight (622).JPG  \n",
            "  inflating: maize_leaf_data/data/Blight/Corn_Blight (623).JPG  \n",
            "  inflating: maize_leaf_data/data/Blight/Corn_Blight (624).JPG  \n",
            "  inflating: maize_leaf_data/data/Blight/Corn_Blight (625).JPG  \n",
            "  inflating: maize_leaf_data/data/Blight/Corn_Blight (626).JPG  \n",
            "  inflating: maize_leaf_data/data/Blight/Corn_Blight (627).JPG  \n",
            "  inflating: maize_leaf_data/data/Blight/Corn_Blight (628).JPG  \n",
            "  inflating: maize_leaf_data/data/Blight/Corn_Blight (629).JPG  \n",
            "  inflating: maize_leaf_data/data/Blight/Corn_Blight (63).jpg  \n",
            "  inflating: maize_leaf_data/data/Blight/Corn_Blight (630).JPG  \n",
            "  inflating: maize_leaf_data/data/Blight/Corn_Blight (631).JPG  \n",
            "  inflating: maize_leaf_data/data/Blight/Corn_Blight (632).JPG  \n",
            "  inflating: maize_leaf_data/data/Blight/Corn_Blight (633).JPG  \n",
            "  inflating: maize_leaf_data/data/Blight/Corn_Blight (634).JPG  \n",
            "  inflating: maize_leaf_data/data/Blight/Corn_Blight (635).JPG  \n",
            "  inflating: maize_leaf_data/data/Blight/Corn_Blight (636).jpg  \n",
            "  inflating: maize_leaf_data/data/Blight/Corn_Blight (637).JPG  \n",
            "  inflating: maize_leaf_data/data/Blight/Corn_Blight (638).jpg  \n",
            "  inflating: maize_leaf_data/data/Blight/Corn_Blight (639).JPG  \n",
            "  inflating: maize_leaf_data/data/Blight/Corn_Blight (64).jpg  \n",
            "  inflating: maize_leaf_data/data/Blight/Corn_Blight (640).JPG  \n",
            "  inflating: maize_leaf_data/data/Blight/Corn_Blight (641).JPG  \n",
            "  inflating: maize_leaf_data/data/Blight/Corn_Blight (642).JPG  \n",
            "  inflating: maize_leaf_data/data/Blight/Corn_Blight (643).JPG  \n",
            "  inflating: maize_leaf_data/data/Blight/Corn_Blight (644).JPG  \n",
            "  inflating: maize_leaf_data/data/Blight/Corn_Blight (645).JPG  \n",
            "  inflating: maize_leaf_data/data/Blight/Corn_Blight (646).jpg  \n",
            "  inflating: maize_leaf_data/data/Blight/Corn_Blight (647).JPG  \n",
            "  inflating: maize_leaf_data/data/Blight/Corn_Blight (648).JPG  \n",
            "  inflating: maize_leaf_data/data/Blight/Corn_Blight (649).JPG  \n",
            "  inflating: maize_leaf_data/data/Blight/Corn_Blight (65).jpg  \n",
            "  inflating: maize_leaf_data/data/Blight/Corn_Blight (650).jpg  \n",
            "  inflating: maize_leaf_data/data/Blight/Corn_Blight (651).JPG  \n",
            "  inflating: maize_leaf_data/data/Blight/Corn_Blight (652).JPG  \n",
            "  inflating: maize_leaf_data/data/Blight/Corn_Blight (653).JPG  \n",
            "  inflating: maize_leaf_data/data/Blight/Corn_Blight (654).JPG  \n",
            "  inflating: maize_leaf_data/data/Blight/Corn_Blight (655).jpg  \n",
            "  inflating: maize_leaf_data/data/Blight/Corn_Blight (656).JPG  \n",
            "  inflating: maize_leaf_data/data/Blight/Corn_Blight (657).JPG  \n",
            "  inflating: maize_leaf_data/data/Blight/Corn_Blight (658).JPG  \n",
            "  inflating: maize_leaf_data/data/Blight/Corn_Blight (659).JPG  \n",
            "  inflating: maize_leaf_data/data/Blight/Corn_Blight (66).jpg  \n",
            "  inflating: maize_leaf_data/data/Blight/Corn_Blight (660).JPG  \n",
            "  inflating: maize_leaf_data/data/Blight/Corn_Blight (661).jpg  \n",
            "  inflating: maize_leaf_data/data/Blight/Corn_Blight (662).JPG  \n",
            "  inflating: maize_leaf_data/data/Blight/Corn_Blight (663).JPG  \n",
            "  inflating: maize_leaf_data/data/Blight/Corn_Blight (664).JPG  \n",
            "  inflating: maize_leaf_data/data/Blight/Corn_Blight (665).JPG  \n",
            "  inflating: maize_leaf_data/data/Blight/Corn_Blight (666).JPG  \n",
            "  inflating: maize_leaf_data/data/Blight/Corn_Blight (667).JPG  \n",
            "  inflating: maize_leaf_data/data/Blight/Corn_Blight (668).JPG  \n",
            "  inflating: maize_leaf_data/data/Blight/Corn_Blight (669).JPG  \n",
            "  inflating: maize_leaf_data/data/Blight/Corn_Blight (67).jpg  \n",
            "  inflating: maize_leaf_data/data/Blight/Corn_Blight (670).JPG  \n",
            "  inflating: maize_leaf_data/data/Blight/Corn_Blight (671).JPG  \n",
            "  inflating: maize_leaf_data/data/Blight/Corn_Blight (672).JPG  \n",
            "  inflating: maize_leaf_data/data/Blight/Corn_Blight (673).JPG  \n",
            "  inflating: maize_leaf_data/data/Blight/Corn_Blight (674).JPG  \n",
            "  inflating: maize_leaf_data/data/Blight/Corn_Blight (675).JPG  \n",
            "  inflating: maize_leaf_data/data/Blight/Corn_Blight (676).JPG  \n",
            "  inflating: maize_leaf_data/data/Blight/Corn_Blight (677).jpg  \n",
            "  inflating: maize_leaf_data/data/Blight/Corn_Blight (678).jpg  \n",
            "  inflating: maize_leaf_data/data/Blight/Corn_Blight (679).JPG  \n",
            "  inflating: maize_leaf_data/data/Blight/Corn_Blight (68).jpg  \n",
            "  inflating: maize_leaf_data/data/Blight/Corn_Blight (680).JPG  \n",
            "  inflating: maize_leaf_data/data/Blight/Corn_Blight (681).JPG  \n",
            "  inflating: maize_leaf_data/data/Blight/Corn_Blight (682).JPG  \n",
            "  inflating: maize_leaf_data/data/Blight/Corn_Blight (683).JPG  \n",
            "  inflating: maize_leaf_data/data/Blight/Corn_Blight (684).JPG  \n",
            "  inflating: maize_leaf_data/data/Blight/Corn_Blight (685).JPG  \n",
            "  inflating: maize_leaf_data/data/Blight/Corn_Blight (686).JPG  \n",
            "  inflating: maize_leaf_data/data/Blight/Corn_Blight (687).JPG  \n",
            "  inflating: maize_leaf_data/data/Blight/Corn_Blight (688).JPG  \n",
            "  inflating: maize_leaf_data/data/Blight/Corn_Blight (689).JPG  \n",
            "  inflating: maize_leaf_data/data/Blight/Corn_Blight (69).jpg  \n",
            "  inflating: maize_leaf_data/data/Blight/Corn_Blight (690).JPG  \n",
            "  inflating: maize_leaf_data/data/Blight/Corn_Blight (691).JPG  \n",
            "  inflating: maize_leaf_data/data/Blight/Corn_Blight (692).JPG  \n",
            "  inflating: maize_leaf_data/data/Blight/Corn_Blight (693).JPG  \n",
            "  inflating: maize_leaf_data/data/Blight/Corn_Blight (694).JPG  \n",
            "  inflating: maize_leaf_data/data/Blight/Corn_Blight (695).JPG  \n",
            "  inflating: maize_leaf_data/data/Blight/Corn_Blight (696).JPG  \n",
            "  inflating: maize_leaf_data/data/Blight/Corn_Blight (697).JPG  \n",
            "  inflating: maize_leaf_data/data/Blight/Corn_Blight (698).JPG  \n",
            "  inflating: maize_leaf_data/data/Blight/Corn_Blight (699).JPG  \n",
            "  inflating: maize_leaf_data/data/Blight/Corn_Blight (7).jpg  \n",
            "  inflating: maize_leaf_data/data/Blight/Corn_Blight (70).jpg  \n",
            "  inflating: maize_leaf_data/data/Blight/Corn_Blight (700).JPG  \n",
            "  inflating: maize_leaf_data/data/Blight/Corn_Blight (701).JPG  \n",
            "  inflating: maize_leaf_data/data/Blight/Corn_Blight (702).JPG  \n",
            "  inflating: maize_leaf_data/data/Blight/Corn_Blight (703).jpg  \n",
            "  inflating: maize_leaf_data/data/Blight/Corn_Blight (704).JPG  \n",
            "  inflating: maize_leaf_data/data/Blight/Corn_Blight (705).JPG  \n",
            "  inflating: maize_leaf_data/data/Blight/Corn_Blight (706).JPG  \n",
            "  inflating: maize_leaf_data/data/Blight/Corn_Blight (707).JPG  \n",
            "  inflating: maize_leaf_data/data/Blight/Corn_Blight (708).JPG  \n",
            "  inflating: maize_leaf_data/data/Blight/Corn_Blight (709).jpg  \n",
            "  inflating: maize_leaf_data/data/Blight/Corn_Blight (71).jpg  \n",
            "  inflating: maize_leaf_data/data/Blight/Corn_Blight (710).JPG  \n",
            "  inflating: maize_leaf_data/data/Blight/Corn_Blight (711).JPG  \n",
            "  inflating: maize_leaf_data/data/Blight/Corn_Blight (712).JPG  \n",
            "  inflating: maize_leaf_data/data/Blight/Corn_Blight (713).jpg  \n",
            "  inflating: maize_leaf_data/data/Blight/Corn_Blight (714).JPG  \n",
            "  inflating: maize_leaf_data/data/Blight/Corn_Blight (715).JPG  \n",
            "  inflating: maize_leaf_data/data/Blight/Corn_Blight (716).JPG  \n",
            "  inflating: maize_leaf_data/data/Blight/Corn_Blight (717).JPG  \n",
            "  inflating: maize_leaf_data/data/Blight/Corn_Blight (718).jpg  \n",
            "  inflating: maize_leaf_data/data/Blight/Corn_Blight (719).JPG  \n",
            "  inflating: maize_leaf_data/data/Blight/Corn_Blight (72).jpg  \n",
            "  inflating: maize_leaf_data/data/Blight/Corn_Blight (720).jpg  \n",
            "  inflating: maize_leaf_data/data/Blight/Corn_Blight (721).JPG  \n",
            "  inflating: maize_leaf_data/data/Blight/Corn_Blight (722).JPG  \n",
            "  inflating: maize_leaf_data/data/Blight/Corn_Blight (723).jpg  \n",
            "  inflating: maize_leaf_data/data/Blight/Corn_Blight (724).JPG  \n",
            "  inflating: maize_leaf_data/data/Blight/Corn_Blight (725).JPG  \n",
            "  inflating: maize_leaf_data/data/Blight/Corn_Blight (726).JPG  \n",
            "  inflating: maize_leaf_data/data/Blight/Corn_Blight (727).JPG  \n",
            "  inflating: maize_leaf_data/data/Blight/Corn_Blight (728).JPG  \n",
            "  inflating: maize_leaf_data/data/Blight/Corn_Blight (729).JPG  \n",
            "  inflating: maize_leaf_data/data/Blight/Corn_Blight (73).jpg  \n",
            "  inflating: maize_leaf_data/data/Blight/Corn_Blight (730).JPG  \n",
            "  inflating: maize_leaf_data/data/Blight/Corn_Blight (731).JPG  \n",
            "  inflating: maize_leaf_data/data/Blight/Corn_Blight (732).JPG  \n",
            "  inflating: maize_leaf_data/data/Blight/Corn_Blight (733).JPG  \n",
            "  inflating: maize_leaf_data/data/Blight/Corn_Blight (734).JPG  \n",
            "  inflating: maize_leaf_data/data/Blight/Corn_Blight (735).jpg  \n",
            "  inflating: maize_leaf_data/data/Blight/Corn_Blight (736).JPG  \n",
            "  inflating: maize_leaf_data/data/Blight/Corn_Blight (737).JPG  \n",
            "  inflating: maize_leaf_data/data/Blight/Corn_Blight (738).JPG  \n",
            "  inflating: maize_leaf_data/data/Blight/Corn_Blight (739).JPG  \n",
            "  inflating: maize_leaf_data/data/Blight/Corn_Blight (74).jpg  \n",
            "  inflating: maize_leaf_data/data/Blight/Corn_Blight (740).JPG  \n",
            "  inflating: maize_leaf_data/data/Blight/Corn_Blight (741).JPG  \n",
            "  inflating: maize_leaf_data/data/Blight/Corn_Blight (742).JPG  \n",
            "  inflating: maize_leaf_data/data/Blight/Corn_Blight (743).jpg  \n",
            "  inflating: maize_leaf_data/data/Blight/Corn_Blight (744).JPG  \n",
            "  inflating: maize_leaf_data/data/Blight/Corn_Blight (745).JPG  \n",
            "  inflating: maize_leaf_data/data/Blight/Corn_Blight (746).JPG  \n",
            "  inflating: maize_leaf_data/data/Blight/Corn_Blight (747).JPG  \n",
            "  inflating: maize_leaf_data/data/Blight/Corn_Blight (748).JPG  \n",
            "  inflating: maize_leaf_data/data/Blight/Corn_Blight (749).JPG  \n",
            "  inflating: maize_leaf_data/data/Blight/Corn_Blight (75).jpg  \n",
            "  inflating: maize_leaf_data/data/Blight/Corn_Blight (750).JPG  \n",
            "  inflating: maize_leaf_data/data/Blight/Corn_Blight (751).JPG  \n",
            "  inflating: maize_leaf_data/data/Blight/Corn_Blight (752).JPG  \n",
            "  inflating: maize_leaf_data/data/Blight/Corn_Blight (753).JPG  \n",
            "  inflating: maize_leaf_data/data/Blight/Corn_Blight (754).jpg  \n",
            "  inflating: maize_leaf_data/data/Blight/Corn_Blight (755).JPG  \n",
            "  inflating: maize_leaf_data/data/Blight/Corn_Blight (756).JPG  \n",
            "  inflating: maize_leaf_data/data/Blight/Corn_Blight (757).JPG  \n",
            "  inflating: maize_leaf_data/data/Blight/Corn_Blight (758).JPG  \n",
            "  inflating: maize_leaf_data/data/Blight/Corn_Blight (759).JPG  \n",
            "  inflating: maize_leaf_data/data/Blight/Corn_Blight (76).jpg  \n",
            "  inflating: maize_leaf_data/data/Blight/Corn_Blight (760).JPG  \n",
            "  inflating: maize_leaf_data/data/Blight/Corn_Blight (761).JPG  \n",
            "  inflating: maize_leaf_data/data/Blight/Corn_Blight (762).JPG  \n",
            "  inflating: maize_leaf_data/data/Blight/Corn_Blight (763).JPG  \n",
            "  inflating: maize_leaf_data/data/Blight/Corn_Blight (764).JPG  \n",
            "  inflating: maize_leaf_data/data/Blight/Corn_Blight (765).JPG  \n",
            "  inflating: maize_leaf_data/data/Blight/Corn_Blight (766).JPG  \n",
            "  inflating: maize_leaf_data/data/Blight/Corn_Blight (767).JPG  \n",
            "  inflating: maize_leaf_data/data/Blight/Corn_Blight (768).JPG  \n",
            "  inflating: maize_leaf_data/data/Blight/Corn_Blight (769).JPG  \n",
            "  inflating: maize_leaf_data/data/Blight/Corn_Blight (77).jpg  \n",
            "  inflating: maize_leaf_data/data/Blight/Corn_Blight (770).JPG  \n",
            "  inflating: maize_leaf_data/data/Blight/Corn_Blight (771).JPG  \n",
            "  inflating: maize_leaf_data/data/Blight/Corn_Blight (772).JPG  \n",
            "  inflating: maize_leaf_data/data/Blight/Corn_Blight (773).JPG  \n",
            "  inflating: maize_leaf_data/data/Blight/Corn_Blight (774).JPG  \n",
            "  inflating: maize_leaf_data/data/Blight/Corn_Blight (775).JPG  \n",
            "  inflating: maize_leaf_data/data/Blight/Corn_Blight (776).JPG  \n",
            "  inflating: maize_leaf_data/data/Blight/Corn_Blight (777).JPG  \n",
            "  inflating: maize_leaf_data/data/Blight/Corn_Blight (778).JPG  \n",
            "  inflating: maize_leaf_data/data/Blight/Corn_Blight (779).JPG  \n",
            "  inflating: maize_leaf_data/data/Blight/Corn_Blight (78).jpg  \n",
            "  inflating: maize_leaf_data/data/Blight/Corn_Blight (780).JPG  \n",
            "  inflating: maize_leaf_data/data/Blight/Corn_Blight (781).JPG  \n",
            "  inflating: maize_leaf_data/data/Blight/Corn_Blight (782).JPG  \n",
            "  inflating: maize_leaf_data/data/Blight/Corn_Blight (783).JPG  \n",
            "  inflating: maize_leaf_data/data/Blight/Corn_Blight (784).jpg  \n",
            "  inflating: maize_leaf_data/data/Blight/Corn_Blight (785).JPG  \n",
            "  inflating: maize_leaf_data/data/Blight/Corn_Blight (786).JPG  \n",
            "  inflating: maize_leaf_data/data/Blight/Corn_Blight (787).JPG  \n",
            "  inflating: maize_leaf_data/data/Blight/Corn_Blight (788).JPG  \n",
            "  inflating: maize_leaf_data/data/Blight/Corn_Blight (789).JPG  \n",
            "  inflating: maize_leaf_data/data/Blight/Corn_Blight (79).jpg  \n",
            "  inflating: maize_leaf_data/data/Blight/Corn_Blight (790).JPG  \n",
            "  inflating: maize_leaf_data/data/Blight/Corn_Blight (791).JPG  \n",
            "  inflating: maize_leaf_data/data/Blight/Corn_Blight (792).JPG  \n",
            "  inflating: maize_leaf_data/data/Blight/Corn_Blight (793).JPG  \n",
            "  inflating: maize_leaf_data/data/Blight/Corn_Blight (794).JPG  \n",
            "  inflating: maize_leaf_data/data/Blight/Corn_Blight (795).JPG  \n",
            "  inflating: maize_leaf_data/data/Blight/Corn_Blight (796).JPG  \n",
            "  inflating: maize_leaf_data/data/Blight/Corn_Blight (797).jpg  \n",
            "  inflating: maize_leaf_data/data/Blight/Corn_Blight (798).JPG  \n",
            "  inflating: maize_leaf_data/data/Blight/Corn_Blight (799).JPG  \n",
            "  inflating: maize_leaf_data/data/Blight/Corn_Blight (8).jpg  \n",
            "  inflating: maize_leaf_data/data/Blight/Corn_Blight (80).jpg  \n",
            "  inflating: maize_leaf_data/data/Blight/Corn_Blight (800).JPG  \n",
            "  inflating: maize_leaf_data/data/Blight/Corn_Blight (801).JPG  \n",
            "  inflating: maize_leaf_data/data/Blight/Corn_Blight (802).JPG  \n",
            "  inflating: maize_leaf_data/data/Blight/Corn_Blight (803).JPG  \n",
            "  inflating: maize_leaf_data/data/Blight/Corn_Blight (804).JPG  \n",
            "  inflating: maize_leaf_data/data/Blight/Corn_Blight (805).JPG  \n",
            "  inflating: maize_leaf_data/data/Blight/Corn_Blight (806).JPG  \n",
            "  inflating: maize_leaf_data/data/Blight/Corn_Blight (807).JPG  \n",
            "  inflating: maize_leaf_data/data/Blight/Corn_Blight (808).JPG  \n",
            "  inflating: maize_leaf_data/data/Blight/Corn_Blight (809).JPG  \n",
            "  inflating: maize_leaf_data/data/Blight/Corn_Blight (81).jpg  \n",
            "  inflating: maize_leaf_data/data/Blight/Corn_Blight (810).JPG  \n",
            "  inflating: maize_leaf_data/data/Blight/Corn_Blight (811).JPG  \n",
            "  inflating: maize_leaf_data/data/Blight/Corn_Blight (812).JPG  \n",
            "  inflating: maize_leaf_data/data/Blight/Corn_Blight (813).JPG  \n",
            "  inflating: maize_leaf_data/data/Blight/Corn_Blight (814).JPG  \n",
            "  inflating: maize_leaf_data/data/Blight/Corn_Blight (815).JPG  \n",
            "  inflating: maize_leaf_data/data/Blight/Corn_Blight (816).JPG  \n",
            "  inflating: maize_leaf_data/data/Blight/Corn_Blight (817).JPG  \n",
            "  inflating: maize_leaf_data/data/Blight/Corn_Blight (818).JPG  \n",
            "  inflating: maize_leaf_data/data/Blight/Corn_Blight (819).JPG  \n",
            "  inflating: maize_leaf_data/data/Blight/Corn_Blight (82).jpg  \n",
            "  inflating: maize_leaf_data/data/Blight/Corn_Blight (820).jpg  \n",
            "  inflating: maize_leaf_data/data/Blight/Corn_Blight (821).JPG  \n",
            "  inflating: maize_leaf_data/data/Blight/Corn_Blight (822).JPG  \n",
            "  inflating: maize_leaf_data/data/Blight/Corn_Blight (823).JPG  \n",
            "  inflating: maize_leaf_data/data/Blight/Corn_Blight (824).JPG  \n",
            "  inflating: maize_leaf_data/data/Blight/Corn_Blight (825).JPG  \n",
            "  inflating: maize_leaf_data/data/Blight/Corn_Blight (826).JPG  \n",
            "  inflating: maize_leaf_data/data/Blight/Corn_Blight (827).JPG  \n",
            "  inflating: maize_leaf_data/data/Blight/Corn_Blight (828).JPG  \n",
            "  inflating: maize_leaf_data/data/Blight/Corn_Blight (829).JPG  \n",
            "  inflating: maize_leaf_data/data/Blight/Corn_Blight (83).jpg  \n",
            "  inflating: maize_leaf_data/data/Blight/Corn_Blight (830).jpg  \n",
            "  inflating: maize_leaf_data/data/Blight/Corn_Blight (831).jpg  \n",
            "  inflating: maize_leaf_data/data/Blight/Corn_Blight (832).JPG  \n",
            "  inflating: maize_leaf_data/data/Blight/Corn_Blight (833).JPG  \n",
            "  inflating: maize_leaf_data/data/Blight/Corn_Blight (834).JPG  \n",
            "  inflating: maize_leaf_data/data/Blight/Corn_Blight (835).JPG  \n",
            "  inflating: maize_leaf_data/data/Blight/Corn_Blight (836).JPG  \n",
            "  inflating: maize_leaf_data/data/Blight/Corn_Blight (837).JPG  \n",
            "  inflating: maize_leaf_data/data/Blight/Corn_Blight (838).JPG  \n",
            "  inflating: maize_leaf_data/data/Blight/Corn_Blight (839).JPG  \n",
            "  inflating: maize_leaf_data/data/Blight/Corn_Blight (84).jpg  \n",
            "  inflating: maize_leaf_data/data/Blight/Corn_Blight (840).JPG  \n",
            "  inflating: maize_leaf_data/data/Blight/Corn_Blight (841).JPG  \n",
            "  inflating: maize_leaf_data/data/Blight/Corn_Blight (842).JPG  \n",
            "  inflating: maize_leaf_data/data/Blight/Corn_Blight (843).JPG  \n",
            "  inflating: maize_leaf_data/data/Blight/Corn_Blight (844).JPG  \n",
            "  inflating: maize_leaf_data/data/Blight/Corn_Blight (845).JPG  \n",
            "  inflating: maize_leaf_data/data/Blight/Corn_Blight (846).jpg  \n",
            "  inflating: maize_leaf_data/data/Blight/Corn_Blight (847).JPG  \n",
            "  inflating: maize_leaf_data/data/Blight/Corn_Blight (848).JPG  \n",
            "  inflating: maize_leaf_data/data/Blight/Corn_Blight (849).JPG  \n",
            "  inflating: maize_leaf_data/data/Blight/Corn_Blight (85).jpg  \n",
            "  inflating: maize_leaf_data/data/Blight/Corn_Blight (850).JPG  \n",
            "  inflating: maize_leaf_data/data/Blight/Corn_Blight (851).jpg  \n",
            "  inflating: maize_leaf_data/data/Blight/Corn_Blight (852).JPG  \n",
            "  inflating: maize_leaf_data/data/Blight/Corn_Blight (853).jpg  \n",
            "  inflating: maize_leaf_data/data/Blight/Corn_Blight (854).JPG  \n",
            "  inflating: maize_leaf_data/data/Blight/Corn_Blight (855).JPG  \n",
            "  inflating: maize_leaf_data/data/Blight/Corn_Blight (856).JPG  \n",
            "  inflating: maize_leaf_data/data/Blight/Corn_Blight (857).JPG  \n",
            "  inflating: maize_leaf_data/data/Blight/Corn_Blight (858).JPG  \n",
            "  inflating: maize_leaf_data/data/Blight/Corn_Blight (859).JPG  \n",
            "  inflating: maize_leaf_data/data/Blight/Corn_Blight (86).jpg  \n",
            "  inflating: maize_leaf_data/data/Blight/Corn_Blight (860).JPG  \n",
            "  inflating: maize_leaf_data/data/Blight/Corn_Blight (861).JPG  \n",
            "  inflating: maize_leaf_data/data/Blight/Corn_Blight (862).JPG  \n",
            "  inflating: maize_leaf_data/data/Blight/Corn_Blight (863).JPG  \n",
            "  inflating: maize_leaf_data/data/Blight/Corn_Blight (864).JPG  \n",
            "  inflating: maize_leaf_data/data/Blight/Corn_Blight (865).JPG  \n",
            "  inflating: maize_leaf_data/data/Blight/Corn_Blight (866).JPG  \n",
            "  inflating: maize_leaf_data/data/Blight/Corn_Blight (867).JPG  \n",
            "  inflating: maize_leaf_data/data/Blight/Corn_Blight (868).JPG  \n",
            "  inflating: maize_leaf_data/data/Blight/Corn_Blight (869).JPG  \n",
            "  inflating: maize_leaf_data/data/Blight/Corn_Blight (87).jpg  \n",
            "  inflating: maize_leaf_data/data/Blight/Corn_Blight (870).JPG  \n",
            "  inflating: maize_leaf_data/data/Blight/Corn_Blight (871).JPG  \n",
            "  inflating: maize_leaf_data/data/Blight/Corn_Blight (872).JPG  \n",
            "  inflating: maize_leaf_data/data/Blight/Corn_Blight (873).JPG  \n",
            "  inflating: maize_leaf_data/data/Blight/Corn_Blight (874).JPG  \n",
            "  inflating: maize_leaf_data/data/Blight/Corn_Blight (875).JPG  \n",
            "  inflating: maize_leaf_data/data/Blight/Corn_Blight (876).jpg  \n",
            "  inflating: maize_leaf_data/data/Blight/Corn_Blight (877).jpg  \n",
            "  inflating: maize_leaf_data/data/Blight/Corn_Blight (878).JPG  \n",
            "  inflating: maize_leaf_data/data/Blight/Corn_Blight (879).JPG  \n",
            "  inflating: maize_leaf_data/data/Blight/Corn_Blight (88).jpg  \n",
            "  inflating: maize_leaf_data/data/Blight/Corn_Blight (880).JPG  \n",
            "  inflating: maize_leaf_data/data/Blight/Corn_Blight (881).JPG  \n",
            "  inflating: maize_leaf_data/data/Blight/Corn_Blight (882).JPG  \n",
            "  inflating: maize_leaf_data/data/Blight/Corn_Blight (883).JPG  \n",
            "  inflating: maize_leaf_data/data/Blight/Corn_Blight (884).JPG  \n",
            "  inflating: maize_leaf_data/data/Blight/Corn_Blight (885).JPG  \n",
            "  inflating: maize_leaf_data/data/Blight/Corn_Blight (886).JPG  \n",
            "  inflating: maize_leaf_data/data/Blight/Corn_Blight (887).JPG  \n",
            "  inflating: maize_leaf_data/data/Blight/Corn_Blight (888).JPG  \n",
            "  inflating: maize_leaf_data/data/Blight/Corn_Blight (889).JPG  \n",
            "  inflating: maize_leaf_data/data/Blight/Corn_Blight (89).jpg  \n",
            "  inflating: maize_leaf_data/data/Blight/Corn_Blight (890).jpg  \n",
            "  inflating: maize_leaf_data/data/Blight/Corn_Blight (891).JPG  \n",
            "  inflating: maize_leaf_data/data/Blight/Corn_Blight (892).JPG  \n",
            "  inflating: maize_leaf_data/data/Blight/Corn_Blight (893).JPG  \n",
            "  inflating: maize_leaf_data/data/Blight/Corn_Blight (894).JPG  \n",
            "  inflating: maize_leaf_data/data/Blight/Corn_Blight (895).JPG  \n",
            "  inflating: maize_leaf_data/data/Blight/Corn_Blight (896).JPG  \n",
            "  inflating: maize_leaf_data/data/Blight/Corn_Blight (897).JPG  \n",
            "  inflating: maize_leaf_data/data/Blight/Corn_Blight (898).jpg  \n",
            "  inflating: maize_leaf_data/data/Blight/Corn_Blight (899).JPG  \n",
            "  inflating: maize_leaf_data/data/Blight/Corn_Blight (9).jpg  \n",
            "  inflating: maize_leaf_data/data/Blight/Corn_Blight (90).jpg  \n",
            "  inflating: maize_leaf_data/data/Blight/Corn_Blight (900).JPG  \n",
            "  inflating: maize_leaf_data/data/Blight/Corn_Blight (901).jpg  \n",
            "  inflating: maize_leaf_data/data/Blight/Corn_Blight (902).JPG  \n",
            "  inflating: maize_leaf_data/data/Blight/Corn_Blight (903).JPG  \n",
            "  inflating: maize_leaf_data/data/Blight/Corn_Blight (904).JPG  \n",
            "  inflating: maize_leaf_data/data/Blight/Corn_Blight (905).JPG  \n",
            "  inflating: maize_leaf_data/data/Blight/Corn_Blight (906).jpg  \n",
            "  inflating: maize_leaf_data/data/Blight/Corn_Blight (907).JPG  \n",
            "  inflating: maize_leaf_data/data/Blight/Corn_Blight (908).JPG  \n",
            "  inflating: maize_leaf_data/data/Blight/Corn_Blight (909).jpg  \n",
            "  inflating: maize_leaf_data/data/Blight/Corn_Blight (91).jpg  \n",
            "  inflating: maize_leaf_data/data/Blight/Corn_Blight (910).JPG  \n",
            "  inflating: maize_leaf_data/data/Blight/Corn_Blight (911).JPG  \n",
            "  inflating: maize_leaf_data/data/Blight/Corn_Blight (912).JPG  \n",
            "  inflating: maize_leaf_data/data/Blight/Corn_Blight (913).jpg  \n",
            "  inflating: maize_leaf_data/data/Blight/Corn_Blight (914).JPG  \n",
            "  inflating: maize_leaf_data/data/Blight/Corn_Blight (915).jpg  \n",
            "  inflating: maize_leaf_data/data/Blight/Corn_Blight (916).JPG  \n",
            "  inflating: maize_leaf_data/data/Blight/Corn_Blight (917).JPG  \n",
            "  inflating: maize_leaf_data/data/Blight/Corn_Blight (918).JPG  \n",
            "  inflating: maize_leaf_data/data/Blight/Corn_Blight (919).JPG  \n",
            "  inflating: maize_leaf_data/data/Blight/Corn_Blight (92).jpg  \n",
            "  inflating: maize_leaf_data/data/Blight/Corn_Blight (920).JPG  \n",
            "  inflating: maize_leaf_data/data/Blight/Corn_Blight (921).JPG  \n",
            "  inflating: maize_leaf_data/data/Blight/Corn_Blight (922).JPG  \n",
            "  inflating: maize_leaf_data/data/Blight/Corn_Blight (923).JPG  \n",
            "  inflating: maize_leaf_data/data/Blight/Corn_Blight (924).JPG  \n",
            "  inflating: maize_leaf_data/data/Blight/Corn_Blight (925).JPG  \n",
            "  inflating: maize_leaf_data/data/Blight/Corn_Blight (926).jpg  \n",
            "  inflating: maize_leaf_data/data/Blight/Corn_Blight (927).JPG  \n",
            "  inflating: maize_leaf_data/data/Blight/Corn_Blight (928).jpg  \n",
            "  inflating: maize_leaf_data/data/Blight/Corn_Blight (929).JPG  \n",
            "  inflating: maize_leaf_data/data/Blight/Corn_Blight (93).jpg  \n",
            "  inflating: maize_leaf_data/data/Blight/Corn_Blight (930).JPG  \n",
            "  inflating: maize_leaf_data/data/Blight/Corn_Blight (931).JPG  \n",
            "  inflating: maize_leaf_data/data/Blight/Corn_Blight (932).JPG  \n",
            "  inflating: maize_leaf_data/data/Blight/Corn_Blight (933).jpg  \n",
            "  inflating: maize_leaf_data/data/Blight/Corn_Blight (934).JPG  \n",
            "  inflating: maize_leaf_data/data/Blight/Corn_Blight (935).JPG  \n",
            "  inflating: maize_leaf_data/data/Blight/Corn_Blight (936).JPG  \n",
            "  inflating: maize_leaf_data/data/Blight/Corn_Blight (937).JPG  \n",
            "  inflating: maize_leaf_data/data/Blight/Corn_Blight (938).JPG  \n",
            "  inflating: maize_leaf_data/data/Blight/Corn_Blight (939).JPG  \n",
            "  inflating: maize_leaf_data/data/Blight/Corn_Blight (94).jpg  \n",
            "  inflating: maize_leaf_data/data/Blight/Corn_Blight (940).JPG  \n",
            "  inflating: maize_leaf_data/data/Blight/Corn_Blight (941).JPG  \n",
            "  inflating: maize_leaf_data/data/Blight/Corn_Blight (942).JPG  \n",
            "  inflating: maize_leaf_data/data/Blight/Corn_Blight (943).JPG  \n",
            "  inflating: maize_leaf_data/data/Blight/Corn_Blight (944).JPG  \n",
            "  inflating: maize_leaf_data/data/Blight/Corn_Blight (945).JPG  \n",
            "  inflating: maize_leaf_data/data/Blight/Corn_Blight (946).JPG  \n",
            "  inflating: maize_leaf_data/data/Blight/Corn_Blight (947).JPG  \n",
            "  inflating: maize_leaf_data/data/Blight/Corn_Blight (948).JPG  \n",
            "  inflating: maize_leaf_data/data/Blight/Corn_Blight (949).JPG  \n",
            "  inflating: maize_leaf_data/data/Blight/Corn_Blight (95).jpg  \n",
            "  inflating: maize_leaf_data/data/Blight/Corn_Blight (950).JPG  \n",
            "  inflating: maize_leaf_data/data/Blight/Corn_Blight (951).JPG  \n",
            "  inflating: maize_leaf_data/data/Blight/Corn_Blight (952).JPG  \n",
            "  inflating: maize_leaf_data/data/Blight/Corn_Blight (953).JPG  \n",
            "  inflating: maize_leaf_data/data/Blight/Corn_Blight (954).JPG  \n",
            "  inflating: maize_leaf_data/data/Blight/Corn_Blight (955).JPG  \n",
            "  inflating: maize_leaf_data/data/Blight/Corn_Blight (956).JPG  \n",
            "  inflating: maize_leaf_data/data/Blight/Corn_Blight (957).jpg  \n",
            "  inflating: maize_leaf_data/data/Blight/Corn_Blight (958).JPG  \n",
            "  inflating: maize_leaf_data/data/Blight/Corn_Blight (959).jpg  \n",
            "  inflating: maize_leaf_data/data/Blight/Corn_Blight (96).jpg  \n",
            "  inflating: maize_leaf_data/data/Blight/Corn_Blight (960).jpg  \n",
            "  inflating: maize_leaf_data/data/Blight/Corn_Blight (961).JPG  \n",
            "  inflating: maize_leaf_data/data/Blight/Corn_Blight (962).JPG  \n",
            "  inflating: maize_leaf_data/data/Blight/Corn_Blight (963).JPG  \n",
            "  inflating: maize_leaf_data/data/Blight/Corn_Blight (964).JPG  \n",
            "  inflating: maize_leaf_data/data/Blight/Corn_Blight (965).JPG  \n",
            "  inflating: maize_leaf_data/data/Blight/Corn_Blight (966).jpg  \n",
            "  inflating: maize_leaf_data/data/Blight/Corn_Blight (967).JPG  \n",
            "  inflating: maize_leaf_data/data/Blight/Corn_Blight (968).jpg  \n",
            "  inflating: maize_leaf_data/data/Blight/Corn_Blight (969).JPG  \n",
            "  inflating: maize_leaf_data/data/Blight/Corn_Blight (97).jpg  \n",
            "  inflating: maize_leaf_data/data/Blight/Corn_Blight (970).JPG  \n",
            "  inflating: maize_leaf_data/data/Blight/Corn_Blight (971).JPG  \n",
            "  inflating: maize_leaf_data/data/Blight/Corn_Blight (972).JPG  \n",
            "  inflating: maize_leaf_data/data/Blight/Corn_Blight (973).jpg  \n",
            "  inflating: maize_leaf_data/data/Blight/Corn_Blight (974).JPG  \n",
            "  inflating: maize_leaf_data/data/Blight/Corn_Blight (975).JPG  \n",
            "  inflating: maize_leaf_data/data/Blight/Corn_Blight (976).JPG  \n",
            "  inflating: maize_leaf_data/data/Blight/Corn_Blight (977).JPG  \n",
            "  inflating: maize_leaf_data/data/Blight/Corn_Blight (978).jpg  \n",
            "  inflating: maize_leaf_data/data/Blight/Corn_Blight (979).JPG  \n",
            "  inflating: maize_leaf_data/data/Blight/Corn_Blight (98).jpg  \n",
            "  inflating: maize_leaf_data/data/Blight/Corn_Blight (980).JPG  \n",
            "  inflating: maize_leaf_data/data/Blight/Corn_Blight (981).JPG  \n",
            "  inflating: maize_leaf_data/data/Blight/Corn_Blight (982).JPG  \n",
            "  inflating: maize_leaf_data/data/Blight/Corn_Blight (983).jpg  \n",
            "  inflating: maize_leaf_data/data/Blight/Corn_Blight (984).JPG  \n",
            "  inflating: maize_leaf_data/data/Blight/Corn_Blight (985).JPG  \n",
            "  inflating: maize_leaf_data/data/Blight/Corn_Blight (986).JPG  \n",
            "  inflating: maize_leaf_data/data/Blight/Corn_Blight (987).JPG  \n",
            "  inflating: maize_leaf_data/data/Blight/Corn_Blight (988).JPG  \n",
            "  inflating: maize_leaf_data/data/Blight/Corn_Blight (989).JPG  \n",
            "  inflating: maize_leaf_data/data/Blight/Corn_Blight (99).jpg  \n",
            "  inflating: maize_leaf_data/data/Blight/Corn_Blight (990).jpg  \n",
            "  inflating: maize_leaf_data/data/Blight/Corn_Blight (991).JPG  \n",
            "  inflating: maize_leaf_data/data/Blight/Corn_Blight (992).JPG  \n",
            "  inflating: maize_leaf_data/data/Blight/Corn_Blight (993).JPG  \n",
            "  inflating: maize_leaf_data/data/Blight/Corn_Blight (994).JPG  \n",
            "  inflating: maize_leaf_data/data/Blight/Corn_Blight (995).JPG  \n",
            "  inflating: maize_leaf_data/data/Blight/Corn_Blight (996).JPG  \n",
            "  inflating: maize_leaf_data/data/Blight/Corn_Blight (997).JPG  \n",
            "  inflating: maize_leaf_data/data/Blight/Corn_Blight (998).JPG  \n",
            "  inflating: maize_leaf_data/data/Blight/Corn_Blight (999).JPG  \n",
            "  inflating: maize_leaf_data/data/Common_Rust/Corn_Common_Rust (1).jpg  \n",
            "  inflating: maize_leaf_data/data/Common_Rust/Corn_Common_Rust (10).jpg  \n",
            "  inflating: maize_leaf_data/data/Common_Rust/Corn_Common_Rust (100).JPG  \n",
            "  inflating: maize_leaf_data/data/Common_Rust/Corn_Common_Rust (1000).JPG  \n",
            "  inflating: maize_leaf_data/data/Common_Rust/Corn_Common_Rust (1001).JPG  \n",
            "  inflating: maize_leaf_data/data/Common_Rust/Corn_Common_Rust (1002).JPG  \n",
            "  inflating: maize_leaf_data/data/Common_Rust/Corn_Common_Rust (1003).JPG  \n",
            "  inflating: maize_leaf_data/data/Common_Rust/Corn_Common_Rust (1004).JPG  \n",
            "  inflating: maize_leaf_data/data/Common_Rust/Corn_Common_Rust (1005).JPG  \n",
            "  inflating: maize_leaf_data/data/Common_Rust/Corn_Common_Rust (1006).JPG  \n",
            "  inflating: maize_leaf_data/data/Common_Rust/Corn_Common_Rust (1007).JPG  \n",
            "  inflating: maize_leaf_data/data/Common_Rust/Corn_Common_Rust (1008).JPG  \n",
            "  inflating: maize_leaf_data/data/Common_Rust/Corn_Common_Rust (1009).JPG  \n",
            "  inflating: maize_leaf_data/data/Common_Rust/Corn_Common_Rust (101).JPG  \n",
            "  inflating: maize_leaf_data/data/Common_Rust/Corn_Common_Rust (1010).JPG  \n",
            "  inflating: maize_leaf_data/data/Common_Rust/Corn_Common_Rust (1011).JPG  \n",
            "  inflating: maize_leaf_data/data/Common_Rust/Corn_Common_Rust (1012).JPG  \n",
            "  inflating: maize_leaf_data/data/Common_Rust/Corn_Common_Rust (1013).JPG  \n",
            "  inflating: maize_leaf_data/data/Common_Rust/Corn_Common_Rust (1014).JPG  \n",
            "  inflating: maize_leaf_data/data/Common_Rust/Corn_Common_Rust (1015).JPG  \n",
            "  inflating: maize_leaf_data/data/Common_Rust/Corn_Common_Rust (1016).JPG  \n",
            "  inflating: maize_leaf_data/data/Common_Rust/Corn_Common_Rust (1017).JPG  \n",
            "  inflating: maize_leaf_data/data/Common_Rust/Corn_Common_Rust (1018).JPG  \n",
            "  inflating: maize_leaf_data/data/Common_Rust/Corn_Common_Rust (1019).JPG  \n",
            "  inflating: maize_leaf_data/data/Common_Rust/Corn_Common_Rust (102).JPG  \n",
            "  inflating: maize_leaf_data/data/Common_Rust/Corn_Common_Rust (1020).JPG  \n",
            "  inflating: maize_leaf_data/data/Common_Rust/Corn_Common_Rust (1021).JPG  \n",
            "  inflating: maize_leaf_data/data/Common_Rust/Corn_Common_Rust (1022).JPG  \n",
            "  inflating: maize_leaf_data/data/Common_Rust/Corn_Common_Rust (1023).JPG  \n",
            "  inflating: maize_leaf_data/data/Common_Rust/Corn_Common_Rust (1024).JPG  \n",
            "  inflating: maize_leaf_data/data/Common_Rust/Corn_Common_Rust (1025).JPG  \n",
            "  inflating: maize_leaf_data/data/Common_Rust/Corn_Common_Rust (1026).JPG  \n",
            "  inflating: maize_leaf_data/data/Common_Rust/Corn_Common_Rust (1027).JPG  \n",
            "  inflating: maize_leaf_data/data/Common_Rust/Corn_Common_Rust (1028).JPG  \n",
            "  inflating: maize_leaf_data/data/Common_Rust/Corn_Common_Rust (1029).JPG  \n",
            "  inflating: maize_leaf_data/data/Common_Rust/Corn_Common_Rust (103).JPG  \n",
            "  inflating: maize_leaf_data/data/Common_Rust/Corn_Common_Rust (1030).JPG  \n",
            "  inflating: maize_leaf_data/data/Common_Rust/Corn_Common_Rust (1031).JPG  \n",
            "  inflating: maize_leaf_data/data/Common_Rust/Corn_Common_Rust (1032).JPG  \n",
            "  inflating: maize_leaf_data/data/Common_Rust/Corn_Common_Rust (1033).JPG  \n",
            "  inflating: maize_leaf_data/data/Common_Rust/Corn_Common_Rust (1034).JPG  \n",
            "  inflating: maize_leaf_data/data/Common_Rust/Corn_Common_Rust (1035).JPG  \n",
            "  inflating: maize_leaf_data/data/Common_Rust/Corn_Common_Rust (1036).JPG  \n",
            "  inflating: maize_leaf_data/data/Common_Rust/Corn_Common_Rust (1037).JPG  \n",
            "  inflating: maize_leaf_data/data/Common_Rust/Corn_Common_Rust (1038).JPG  \n",
            "  inflating: maize_leaf_data/data/Common_Rust/Corn_Common_Rust (1039).JPG  \n",
            "  inflating: maize_leaf_data/data/Common_Rust/Corn_Common_Rust (104).JPG  \n",
            "  inflating: maize_leaf_data/data/Common_Rust/Corn_Common_Rust (1040).JPG  \n",
            "  inflating: maize_leaf_data/data/Common_Rust/Corn_Common_Rust (1041).JPG  \n",
            "  inflating: maize_leaf_data/data/Common_Rust/Corn_Common_Rust (1042).JPG  \n",
            "  inflating: maize_leaf_data/data/Common_Rust/Corn_Common_Rust (1043).JPG  \n",
            "  inflating: maize_leaf_data/data/Common_Rust/Corn_Common_Rust (1044).JPG  \n",
            "  inflating: maize_leaf_data/data/Common_Rust/Corn_Common_Rust (1045).JPG  \n",
            "  inflating: maize_leaf_data/data/Common_Rust/Corn_Common_Rust (1046).JPG  \n",
            "  inflating: maize_leaf_data/data/Common_Rust/Corn_Common_Rust (1047).JPG  \n",
            "  inflating: maize_leaf_data/data/Common_Rust/Corn_Common_Rust (1048).JPG  \n",
            "  inflating: maize_leaf_data/data/Common_Rust/Corn_Common_Rust (1049).JPG  \n",
            "  inflating: maize_leaf_data/data/Common_Rust/Corn_Common_Rust (105).JPG  \n",
            "  inflating: maize_leaf_data/data/Common_Rust/Corn_Common_Rust (1050).JPG  \n",
            "  inflating: maize_leaf_data/data/Common_Rust/Corn_Common_Rust (1051).JPG  \n",
            "  inflating: maize_leaf_data/data/Common_Rust/Corn_Common_Rust (1052).JPG  \n",
            "  inflating: maize_leaf_data/data/Common_Rust/Corn_Common_Rust (1053).JPG  \n",
            "  inflating: maize_leaf_data/data/Common_Rust/Corn_Common_Rust (1054).JPG  \n",
            "  inflating: maize_leaf_data/data/Common_Rust/Corn_Common_Rust (1055).JPG  \n",
            "  inflating: maize_leaf_data/data/Common_Rust/Corn_Common_Rust (1056).JPG  \n",
            "  inflating: maize_leaf_data/data/Common_Rust/Corn_Common_Rust (1057).JPG  \n",
            "  inflating: maize_leaf_data/data/Common_Rust/Corn_Common_Rust (1058).JPG  \n",
            "  inflating: maize_leaf_data/data/Common_Rust/Corn_Common_Rust (1059).JPG  \n",
            "  inflating: maize_leaf_data/data/Common_Rust/Corn_Common_Rust (106).JPG  \n",
            "  inflating: maize_leaf_data/data/Common_Rust/Corn_Common_Rust (1060).JPG  \n",
            "  inflating: maize_leaf_data/data/Common_Rust/Corn_Common_Rust (1061).JPG  \n",
            "  inflating: maize_leaf_data/data/Common_Rust/Corn_Common_Rust (1062).JPG  \n",
            "  inflating: maize_leaf_data/data/Common_Rust/Corn_Common_Rust (1063).JPG  \n",
            "  inflating: maize_leaf_data/data/Common_Rust/Corn_Common_Rust (1064).JPG  \n",
            "  inflating: maize_leaf_data/data/Common_Rust/Corn_Common_Rust (1065).JPG  \n",
            "  inflating: maize_leaf_data/data/Common_Rust/Corn_Common_Rust (1066).JPG  \n",
            "  inflating: maize_leaf_data/data/Common_Rust/Corn_Common_Rust (1067).JPG  \n",
            "  inflating: maize_leaf_data/data/Common_Rust/Corn_Common_Rust (1068).JPG  \n",
            "  inflating: maize_leaf_data/data/Common_Rust/Corn_Common_Rust (1069).JPG  \n",
            "  inflating: maize_leaf_data/data/Common_Rust/Corn_Common_Rust (107).JPG  \n",
            "  inflating: maize_leaf_data/data/Common_Rust/Corn_Common_Rust (1070).JPG  \n",
            "  inflating: maize_leaf_data/data/Common_Rust/Corn_Common_Rust (1071).JPG  \n",
            "  inflating: maize_leaf_data/data/Common_Rust/Corn_Common_Rust (1072).JPG  \n",
            "  inflating: maize_leaf_data/data/Common_Rust/Corn_Common_Rust (1073).JPG  \n",
            "  inflating: maize_leaf_data/data/Common_Rust/Corn_Common_Rust (1074).JPG  \n",
            "  inflating: maize_leaf_data/data/Common_Rust/Corn_Common_Rust (1075).JPG  \n",
            "  inflating: maize_leaf_data/data/Common_Rust/Corn_Common_Rust (1076).JPG  \n",
            "  inflating: maize_leaf_data/data/Common_Rust/Corn_Common_Rust (1077).JPG  \n",
            "  inflating: maize_leaf_data/data/Common_Rust/Corn_Common_Rust (1078).JPG  \n",
            "  inflating: maize_leaf_data/data/Common_Rust/Corn_Common_Rust (1079).JPG  \n",
            "  inflating: maize_leaf_data/data/Common_Rust/Corn_Common_Rust (108).JPG  \n",
            "  inflating: maize_leaf_data/data/Common_Rust/Corn_Common_Rust (1080).JPG  \n",
            "  inflating: maize_leaf_data/data/Common_Rust/Corn_Common_Rust (1081).JPG  \n",
            "  inflating: maize_leaf_data/data/Common_Rust/Corn_Common_Rust (1082).JPG  \n",
            "  inflating: maize_leaf_data/data/Common_Rust/Corn_Common_Rust (1083).JPG  \n",
            "  inflating: maize_leaf_data/data/Common_Rust/Corn_Common_Rust (1084).JPG  \n",
            "  inflating: maize_leaf_data/data/Common_Rust/Corn_Common_Rust (1085).JPG  \n",
            "  inflating: maize_leaf_data/data/Common_Rust/Corn_Common_Rust (1086).JPG  \n",
            "  inflating: maize_leaf_data/data/Common_Rust/Corn_Common_Rust (1087).JPG  \n",
            "  inflating: maize_leaf_data/data/Common_Rust/Corn_Common_Rust (1088).JPG  \n",
            "  inflating: maize_leaf_data/data/Common_Rust/Corn_Common_Rust (1089).JPG  \n",
            "  inflating: maize_leaf_data/data/Common_Rust/Corn_Common_Rust (109).JPG  \n",
            "  inflating: maize_leaf_data/data/Common_Rust/Corn_Common_Rust (1090).JPG  \n",
            "  inflating: maize_leaf_data/data/Common_Rust/Corn_Common_Rust (1091).JPG  \n",
            "  inflating: maize_leaf_data/data/Common_Rust/Corn_Common_Rust (1092).JPG  \n",
            "  inflating: maize_leaf_data/data/Common_Rust/Corn_Common_Rust (1093).JPG  \n",
            "  inflating: maize_leaf_data/data/Common_Rust/Corn_Common_Rust (1094).JPG  \n",
            "  inflating: maize_leaf_data/data/Common_Rust/Corn_Common_Rust (1095).JPG  \n",
            "  inflating: maize_leaf_data/data/Common_Rust/Corn_Common_Rust (1096).JPG  \n",
            "  inflating: maize_leaf_data/data/Common_Rust/Corn_Common_Rust (1097).JPG  \n",
            "  inflating: maize_leaf_data/data/Common_Rust/Corn_Common_Rust (1098).JPG  \n",
            "  inflating: maize_leaf_data/data/Common_Rust/Corn_Common_Rust (1099).JPG  \n",
            "  inflating: maize_leaf_data/data/Common_Rust/Corn_Common_Rust (11).jpg  \n",
            "  inflating: maize_leaf_data/data/Common_Rust/Corn_Common_Rust (110).JPG  \n",
            "  inflating: maize_leaf_data/data/Common_Rust/Corn_Common_Rust (1100).JPG  \n",
            "  inflating: maize_leaf_data/data/Common_Rust/Corn_Common_Rust (1101).JPG  \n",
            "  inflating: maize_leaf_data/data/Common_Rust/Corn_Common_Rust (1102).JPG  \n",
            "  inflating: maize_leaf_data/data/Common_Rust/Corn_Common_Rust (1103).JPG  \n",
            "  inflating: maize_leaf_data/data/Common_Rust/Corn_Common_Rust (1104).JPG  \n",
            "  inflating: maize_leaf_data/data/Common_Rust/Corn_Common_Rust (1105).JPG  \n",
            "  inflating: maize_leaf_data/data/Common_Rust/Corn_Common_Rust (1106).JPG  \n",
            "  inflating: maize_leaf_data/data/Common_Rust/Corn_Common_Rust (1107).JPG  \n",
            "  inflating: maize_leaf_data/data/Common_Rust/Corn_Common_Rust (1108).JPG  \n",
            "  inflating: maize_leaf_data/data/Common_Rust/Corn_Common_Rust (1109).JPG  \n",
            "  inflating: maize_leaf_data/data/Common_Rust/Corn_Common_Rust (111).JPG  \n",
            "  inflating: maize_leaf_data/data/Common_Rust/Corn_Common_Rust (1110).JPG  \n",
            "  inflating: maize_leaf_data/data/Common_Rust/Corn_Common_Rust (1111).JPG  \n",
            "  inflating: maize_leaf_data/data/Common_Rust/Corn_Common_Rust (1112).JPG  \n",
            "  inflating: maize_leaf_data/data/Common_Rust/Corn_Common_Rust (1113).JPG  \n",
            "  inflating: maize_leaf_data/data/Common_Rust/Corn_Common_Rust (1114).JPG  \n",
            "  inflating: maize_leaf_data/data/Common_Rust/Corn_Common_Rust (1115).JPG  \n",
            "  inflating: maize_leaf_data/data/Common_Rust/Corn_Common_Rust (1116).JPG  \n",
            "  inflating: maize_leaf_data/data/Common_Rust/Corn_Common_Rust (1117).JPG  \n",
            "  inflating: maize_leaf_data/data/Common_Rust/Corn_Common_Rust (1118).JPG  \n",
            "  inflating: maize_leaf_data/data/Common_Rust/Corn_Common_Rust (1119).JPG  \n",
            "  inflating: maize_leaf_data/data/Common_Rust/Corn_Common_Rust (112).JPG  \n",
            "  inflating: maize_leaf_data/data/Common_Rust/Corn_Common_Rust (1120).JPG  \n",
            "  inflating: maize_leaf_data/data/Common_Rust/Corn_Common_Rust (1121).JPG  \n",
            "  inflating: maize_leaf_data/data/Common_Rust/Corn_Common_Rust (1122).JPG  \n",
            "  inflating: maize_leaf_data/data/Common_Rust/Corn_Common_Rust (1123).JPG  \n",
            "  inflating: maize_leaf_data/data/Common_Rust/Corn_Common_Rust (1124).JPG  \n",
            "  inflating: maize_leaf_data/data/Common_Rust/Corn_Common_Rust (1125).JPG  \n",
            "  inflating: maize_leaf_data/data/Common_Rust/Corn_Common_Rust (1126).JPG  \n",
            "  inflating: maize_leaf_data/data/Common_Rust/Corn_Common_Rust (1127).JPG  \n",
            "  inflating: maize_leaf_data/data/Common_Rust/Corn_Common_Rust (1128).JPG  \n",
            "  inflating: maize_leaf_data/data/Common_Rust/Corn_Common_Rust (1129).JPG  \n",
            "  inflating: maize_leaf_data/data/Common_Rust/Corn_Common_Rust (113).JPG  \n",
            "  inflating: maize_leaf_data/data/Common_Rust/Corn_Common_Rust (1130).JPG  \n",
            "  inflating: maize_leaf_data/data/Common_Rust/Corn_Common_Rust (1131).JPG  \n",
            "  inflating: maize_leaf_data/data/Common_Rust/Corn_Common_Rust (1132).JPG  \n",
            "  inflating: maize_leaf_data/data/Common_Rust/Corn_Common_Rust (1133).JPG  \n",
            "  inflating: maize_leaf_data/data/Common_Rust/Corn_Common_Rust (1134).JPG  \n",
            "  inflating: maize_leaf_data/data/Common_Rust/Corn_Common_Rust (1135).JPG  \n",
            "  inflating: maize_leaf_data/data/Common_Rust/Corn_Common_Rust (1136).JPG  \n",
            "  inflating: maize_leaf_data/data/Common_Rust/Corn_Common_Rust (1137).JPG  \n",
            "  inflating: maize_leaf_data/data/Common_Rust/Corn_Common_Rust (1138).JPG  \n",
            "  inflating: maize_leaf_data/data/Common_Rust/Corn_Common_Rust (1139).JPG  \n",
            "  inflating: maize_leaf_data/data/Common_Rust/Corn_Common_Rust (114).JPG  \n",
            "  inflating: maize_leaf_data/data/Common_Rust/Corn_Common_Rust (1140).JPG  \n",
            "  inflating: maize_leaf_data/data/Common_Rust/Corn_Common_Rust (1141).JPG  \n",
            "  inflating: maize_leaf_data/data/Common_Rust/Corn_Common_Rust (1142).JPG  \n",
            "  inflating: maize_leaf_data/data/Common_Rust/Corn_Common_Rust (1143).JPG  \n",
            "  inflating: maize_leaf_data/data/Common_Rust/Corn_Common_Rust (1144).JPG  \n",
            "  inflating: maize_leaf_data/data/Common_Rust/Corn_Common_Rust (1145).JPG  \n",
            "  inflating: maize_leaf_data/data/Common_Rust/Corn_Common_Rust (1146).JPG  \n",
            "  inflating: maize_leaf_data/data/Common_Rust/Corn_Common_Rust (1147).JPG  \n",
            "  inflating: maize_leaf_data/data/Common_Rust/Corn_Common_Rust (1148).JPG  \n",
            "  inflating: maize_leaf_data/data/Common_Rust/Corn_Common_Rust (1149).JPG  \n",
            "  inflating: maize_leaf_data/data/Common_Rust/Corn_Common_Rust (115).JPG  \n",
            "  inflating: maize_leaf_data/data/Common_Rust/Corn_Common_Rust (1150).JPG  \n",
            "  inflating: maize_leaf_data/data/Common_Rust/Corn_Common_Rust (1151).JPG  \n",
            "  inflating: maize_leaf_data/data/Common_Rust/Corn_Common_Rust (1152).JPG  \n",
            "  inflating: maize_leaf_data/data/Common_Rust/Corn_Common_Rust (1153).JPG  \n",
            "  inflating: maize_leaf_data/data/Common_Rust/Corn_Common_Rust (1154).JPG  \n",
            "  inflating: maize_leaf_data/data/Common_Rust/Corn_Common_Rust (1155).JPG  \n",
            "  inflating: maize_leaf_data/data/Common_Rust/Corn_Common_Rust (1156).JPG  \n",
            "  inflating: maize_leaf_data/data/Common_Rust/Corn_Common_Rust (1157).JPG  \n",
            "  inflating: maize_leaf_data/data/Common_Rust/Corn_Common_Rust (1158).JPG  \n",
            "  inflating: maize_leaf_data/data/Common_Rust/Corn_Common_Rust (1159).JPG  \n",
            "  inflating: maize_leaf_data/data/Common_Rust/Corn_Common_Rust (116).JPG  \n",
            "  inflating: maize_leaf_data/data/Common_Rust/Corn_Common_Rust (1160).JPG  \n",
            "  inflating: maize_leaf_data/data/Common_Rust/Corn_Common_Rust (1161).JPG  \n",
            "  inflating: maize_leaf_data/data/Common_Rust/Corn_Common_Rust (1162).JPG  \n",
            "  inflating: maize_leaf_data/data/Common_Rust/Corn_Common_Rust (1163).JPG  \n",
            "  inflating: maize_leaf_data/data/Common_Rust/Corn_Common_Rust (1164).JPG  \n",
            "  inflating: maize_leaf_data/data/Common_Rust/Corn_Common_Rust (1165).JPG  \n",
            "  inflating: maize_leaf_data/data/Common_Rust/Corn_Common_Rust (1166).JPG  \n",
            "  inflating: maize_leaf_data/data/Common_Rust/Corn_Common_Rust (1167).JPG  \n",
            "  inflating: maize_leaf_data/data/Common_Rust/Corn_Common_Rust (1168).JPG  \n",
            "  inflating: maize_leaf_data/data/Common_Rust/Corn_Common_Rust (1169).JPG  \n",
            "  inflating: maize_leaf_data/data/Common_Rust/Corn_Common_Rust (117).JPG  \n",
            "  inflating: maize_leaf_data/data/Common_Rust/Corn_Common_Rust (1170).JPG  \n",
            "  inflating: maize_leaf_data/data/Common_Rust/Corn_Common_Rust (1171).JPG  \n",
            "  inflating: maize_leaf_data/data/Common_Rust/Corn_Common_Rust (1172).JPG  \n",
            "  inflating: maize_leaf_data/data/Common_Rust/Corn_Common_Rust (1173).JPG  \n",
            "  inflating: maize_leaf_data/data/Common_Rust/Corn_Common_Rust (1174).JPG  \n",
            "  inflating: maize_leaf_data/data/Common_Rust/Corn_Common_Rust (1175).JPG  \n",
            "  inflating: maize_leaf_data/data/Common_Rust/Corn_Common_Rust (1176).JPG  \n",
            "  inflating: maize_leaf_data/data/Common_Rust/Corn_Common_Rust (1177).JPG  \n",
            "  inflating: maize_leaf_data/data/Common_Rust/Corn_Common_Rust (1178).JPG  \n",
            "  inflating: maize_leaf_data/data/Common_Rust/Corn_Common_Rust (1179).JPG  \n",
            "  inflating: maize_leaf_data/data/Common_Rust/Corn_Common_Rust (118).JPG  \n",
            "  inflating: maize_leaf_data/data/Common_Rust/Corn_Common_Rust (1180).JPG  \n",
            "  inflating: maize_leaf_data/data/Common_Rust/Corn_Common_Rust (1181).JPG  \n",
            "  inflating: maize_leaf_data/data/Common_Rust/Corn_Common_Rust (1182).JPG  \n",
            "  inflating: maize_leaf_data/data/Common_Rust/Corn_Common_Rust (1183).JPG  \n",
            "  inflating: maize_leaf_data/data/Common_Rust/Corn_Common_Rust (1184).JPG  \n",
            "  inflating: maize_leaf_data/data/Common_Rust/Corn_Common_Rust (1185).JPG  \n",
            "  inflating: maize_leaf_data/data/Common_Rust/Corn_Common_Rust (1186).JPG  \n",
            "  inflating: maize_leaf_data/data/Common_Rust/Corn_Common_Rust (1187).JPG  \n",
            "  inflating: maize_leaf_data/data/Common_Rust/Corn_Common_Rust (1188).JPG  \n",
            "  inflating: maize_leaf_data/data/Common_Rust/Corn_Common_Rust (1189).JPG  \n",
            "  inflating: maize_leaf_data/data/Common_Rust/Corn_Common_Rust (119).JPG  \n",
            "  inflating: maize_leaf_data/data/Common_Rust/Corn_Common_Rust (1190).JPG  \n",
            "  inflating: maize_leaf_data/data/Common_Rust/Corn_Common_Rust (1191).JPG  \n",
            "  inflating: maize_leaf_data/data/Common_Rust/Corn_Common_Rust (1192).JPG  \n",
            "  inflating: maize_leaf_data/data/Common_Rust/Corn_Common_Rust (1193).JPG  \n",
            "  inflating: maize_leaf_data/data/Common_Rust/Corn_Common_Rust (1194).JPG  \n",
            "  inflating: maize_leaf_data/data/Common_Rust/Corn_Common_Rust (1195).JPG  \n",
            "  inflating: maize_leaf_data/data/Common_Rust/Corn_Common_Rust (1196).JPG  \n",
            "  inflating: maize_leaf_data/data/Common_Rust/Corn_Common_Rust (1197).JPG  \n",
            "  inflating: maize_leaf_data/data/Common_Rust/Corn_Common_Rust (1198).JPG  \n",
            "  inflating: maize_leaf_data/data/Common_Rust/Corn_Common_Rust (1199).JPG  \n",
            "  inflating: maize_leaf_data/data/Common_Rust/Corn_Common_Rust (12).jpg  \n",
            "  inflating: maize_leaf_data/data/Common_Rust/Corn_Common_Rust (120).JPG  \n",
            "  inflating: maize_leaf_data/data/Common_Rust/Corn_Common_Rust (1200).JPG  \n",
            "  inflating: maize_leaf_data/data/Common_Rust/Corn_Common_Rust (1201).JPG  \n",
            "  inflating: maize_leaf_data/data/Common_Rust/Corn_Common_Rust (1202).JPG  \n",
            "  inflating: maize_leaf_data/data/Common_Rust/Corn_Common_Rust (1203).JPG  \n",
            "  inflating: maize_leaf_data/data/Common_Rust/Corn_Common_Rust (1204).JPG  \n",
            "  inflating: maize_leaf_data/data/Common_Rust/Corn_Common_Rust (1205).JPG  \n",
            "  inflating: maize_leaf_data/data/Common_Rust/Corn_Common_Rust (1206).JPG  \n",
            "  inflating: maize_leaf_data/data/Common_Rust/Corn_Common_Rust (1207).JPG  \n",
            "  inflating: maize_leaf_data/data/Common_Rust/Corn_Common_Rust (1208).JPG  \n",
            "  inflating: maize_leaf_data/data/Common_Rust/Corn_Common_Rust (1209).JPG  \n",
            "  inflating: maize_leaf_data/data/Common_Rust/Corn_Common_Rust (121).JPG  \n",
            "  inflating: maize_leaf_data/data/Common_Rust/Corn_Common_Rust (1210).JPG  \n",
            "  inflating: maize_leaf_data/data/Common_Rust/Corn_Common_Rust (1211).JPG  \n",
            "  inflating: maize_leaf_data/data/Common_Rust/Corn_Common_Rust (1212).JPG  \n",
            "  inflating: maize_leaf_data/data/Common_Rust/Corn_Common_Rust (1213).JPG  \n",
            "  inflating: maize_leaf_data/data/Common_Rust/Corn_Common_Rust (1214).JPG  \n",
            "  inflating: maize_leaf_data/data/Common_Rust/Corn_Common_Rust (1215).JPG  \n",
            "  inflating: maize_leaf_data/data/Common_Rust/Corn_Common_Rust (1216).JPG  \n",
            "  inflating: maize_leaf_data/data/Common_Rust/Corn_Common_Rust (1217).JPG  \n",
            "  inflating: maize_leaf_data/data/Common_Rust/Corn_Common_Rust (1218).JPG  \n",
            "  inflating: maize_leaf_data/data/Common_Rust/Corn_Common_Rust (1219).JPG  \n",
            "  inflating: maize_leaf_data/data/Common_Rust/Corn_Common_Rust (122).JPG  \n",
            "  inflating: maize_leaf_data/data/Common_Rust/Corn_Common_Rust (1220).JPG  \n",
            "  inflating: maize_leaf_data/data/Common_Rust/Corn_Common_Rust (1221).JPG  \n",
            "  inflating: maize_leaf_data/data/Common_Rust/Corn_Common_Rust (1222).JPG  \n",
            "  inflating: maize_leaf_data/data/Common_Rust/Corn_Common_Rust (1223).JPG  \n",
            "  inflating: maize_leaf_data/data/Common_Rust/Corn_Common_Rust (1224).JPG  \n",
            "  inflating: maize_leaf_data/data/Common_Rust/Corn_Common_Rust (1225).JPG  \n",
            "  inflating: maize_leaf_data/data/Common_Rust/Corn_Common_Rust (1226).JPG  \n",
            "  inflating: maize_leaf_data/data/Common_Rust/Corn_Common_Rust (1227).JPG  \n",
            "  inflating: maize_leaf_data/data/Common_Rust/Corn_Common_Rust (1228).JPG  \n",
            "  inflating: maize_leaf_data/data/Common_Rust/Corn_Common_Rust (1229).JPG  \n",
            "  inflating: maize_leaf_data/data/Common_Rust/Corn_Common_Rust (123).JPG  \n",
            "  inflating: maize_leaf_data/data/Common_Rust/Corn_Common_Rust (1230).JPG  \n",
            "  inflating: maize_leaf_data/data/Common_Rust/Corn_Common_Rust (1231).JPG  \n",
            "  inflating: maize_leaf_data/data/Common_Rust/Corn_Common_Rust (1232).JPG  \n",
            "  inflating: maize_leaf_data/data/Common_Rust/Corn_Common_Rust (1233).JPG  \n",
            "  inflating: maize_leaf_data/data/Common_Rust/Corn_Common_Rust (1234).JPG  \n",
            "  inflating: maize_leaf_data/data/Common_Rust/Corn_Common_Rust (1235).JPG  \n",
            "  inflating: maize_leaf_data/data/Common_Rust/Corn_Common_Rust (1236).JPG  \n",
            "  inflating: maize_leaf_data/data/Common_Rust/Corn_Common_Rust (1237).JPG  \n",
            "  inflating: maize_leaf_data/data/Common_Rust/Corn_Common_Rust (1238).JPG  \n",
            "  inflating: maize_leaf_data/data/Common_Rust/Corn_Common_Rust (1239).JPG  \n",
            "  inflating: maize_leaf_data/data/Common_Rust/Corn_Common_Rust (124).JPG  \n",
            "  inflating: maize_leaf_data/data/Common_Rust/Corn_Common_Rust (1240).JPG  \n",
            "  inflating: maize_leaf_data/data/Common_Rust/Corn_Common_Rust (1241).JPG  \n",
            "  inflating: maize_leaf_data/data/Common_Rust/Corn_Common_Rust (1242).JPG  \n",
            "  inflating: maize_leaf_data/data/Common_Rust/Corn_Common_Rust (1243).JPG  \n",
            "  inflating: maize_leaf_data/data/Common_Rust/Corn_Common_Rust (1244).JPG  \n",
            "  inflating: maize_leaf_data/data/Common_Rust/Corn_Common_Rust (1245).JPG  \n",
            "  inflating: maize_leaf_data/data/Common_Rust/Corn_Common_Rust (1246).JPG  \n",
            "  inflating: maize_leaf_data/data/Common_Rust/Corn_Common_Rust (1247).JPG  \n",
            "  inflating: maize_leaf_data/data/Common_Rust/Corn_Common_Rust (1248).JPG  \n",
            "  inflating: maize_leaf_data/data/Common_Rust/Corn_Common_Rust (1249).JPG  \n",
            "  inflating: maize_leaf_data/data/Common_Rust/Corn_Common_Rust (125).JPG  \n",
            "  inflating: maize_leaf_data/data/Common_Rust/Corn_Common_Rust (1250).JPG  \n",
            "  inflating: maize_leaf_data/data/Common_Rust/Corn_Common_Rust (1251).JPG  \n",
            "  inflating: maize_leaf_data/data/Common_Rust/Corn_Common_Rust (1252).JPG  \n",
            "  inflating: maize_leaf_data/data/Common_Rust/Corn_Common_Rust (1253).JPG  \n",
            "  inflating: maize_leaf_data/data/Common_Rust/Corn_Common_Rust (1254).JPG  \n",
            "  inflating: maize_leaf_data/data/Common_Rust/Corn_Common_Rust (1255).JPG  \n",
            "  inflating: maize_leaf_data/data/Common_Rust/Corn_Common_Rust (1256).JPG  \n",
            "  inflating: maize_leaf_data/data/Common_Rust/Corn_Common_Rust (1257).JPG  \n",
            "  inflating: maize_leaf_data/data/Common_Rust/Corn_Common_Rust (1258).JPG  \n",
            "  inflating: maize_leaf_data/data/Common_Rust/Corn_Common_Rust (1259).JPG  \n",
            "  inflating: maize_leaf_data/data/Common_Rust/Corn_Common_Rust (126).JPG  \n",
            "  inflating: maize_leaf_data/data/Common_Rust/Corn_Common_Rust (1260).JPG  \n",
            "  inflating: maize_leaf_data/data/Common_Rust/Corn_Common_Rust (1261).JPG  \n",
            "  inflating: maize_leaf_data/data/Common_Rust/Corn_Common_Rust (1262).JPG  \n",
            "  inflating: maize_leaf_data/data/Common_Rust/Corn_Common_Rust (1263).JPG  \n",
            "  inflating: maize_leaf_data/data/Common_Rust/Corn_Common_Rust (1264).jpg  \n",
            "  inflating: maize_leaf_data/data/Common_Rust/Corn_Common_Rust (1265).jpg  \n",
            "  inflating: maize_leaf_data/data/Common_Rust/Corn_Common_Rust (1266).jpg  \n",
            "  inflating: maize_leaf_data/data/Common_Rust/Corn_Common_Rust (1267).jpg  \n",
            "  inflating: maize_leaf_data/data/Common_Rust/Corn_Common_Rust (1268).jpg  \n",
            "  inflating: maize_leaf_data/data/Common_Rust/Corn_Common_Rust (1269).jpg  \n",
            "  inflating: maize_leaf_data/data/Common_Rust/Corn_Common_Rust (127).JPG  \n",
            "  inflating: maize_leaf_data/data/Common_Rust/Corn_Common_Rust (1270).jpg  \n",
            "  inflating: maize_leaf_data/data/Common_Rust/Corn_Common_Rust (1271).jpg  \n",
            "  inflating: maize_leaf_data/data/Common_Rust/Corn_Common_Rust (1272).jpg  \n",
            "  inflating: maize_leaf_data/data/Common_Rust/Corn_Common_Rust (1273).jpg  \n",
            "  inflating: maize_leaf_data/data/Common_Rust/Corn_Common_Rust (1274).jpg  \n",
            "  inflating: maize_leaf_data/data/Common_Rust/Corn_Common_Rust (1275).jpg  \n",
            "  inflating: maize_leaf_data/data/Common_Rust/Corn_Common_Rust (1276).jpg  \n",
            "  inflating: maize_leaf_data/data/Common_Rust/Corn_Common_Rust (1277).jpg  \n",
            "  inflating: maize_leaf_data/data/Common_Rust/Corn_Common_Rust (1278).jpg  \n",
            "  inflating: maize_leaf_data/data/Common_Rust/Corn_Common_Rust (1279).jpg  \n",
            "  inflating: maize_leaf_data/data/Common_Rust/Corn_Common_Rust (128).JPG  \n",
            "  inflating: maize_leaf_data/data/Common_Rust/Corn_Common_Rust (1280).jpg  \n",
            "  inflating: maize_leaf_data/data/Common_Rust/Corn_Common_Rust (1281).jpg  \n",
            "  inflating: maize_leaf_data/data/Common_Rust/Corn_Common_Rust (1282).jpg  \n",
            "  inflating: maize_leaf_data/data/Common_Rust/Corn_Common_Rust (1283).jpg  \n",
            "  inflating: maize_leaf_data/data/Common_Rust/Corn_Common_Rust (1284).jpg  \n",
            "  inflating: maize_leaf_data/data/Common_Rust/Corn_Common_Rust (1285).jpg  \n",
            "  inflating: maize_leaf_data/data/Common_Rust/Corn_Common_Rust (1286).jpg  \n",
            "  inflating: maize_leaf_data/data/Common_Rust/Corn_Common_Rust (1287).jpg  \n",
            "  inflating: maize_leaf_data/data/Common_Rust/Corn_Common_Rust (1288).jpg  \n",
            "  inflating: maize_leaf_data/data/Common_Rust/Corn_Common_Rust (1289).jpg  \n",
            "  inflating: maize_leaf_data/data/Common_Rust/Corn_Common_Rust (129).JPG  \n",
            "  inflating: maize_leaf_data/data/Common_Rust/Corn_Common_Rust (1290).jpg  \n",
            "  inflating: maize_leaf_data/data/Common_Rust/Corn_Common_Rust (1291).jpg  \n",
            "  inflating: maize_leaf_data/data/Common_Rust/Corn_Common_Rust (1292).jpg  \n",
            "  inflating: maize_leaf_data/data/Common_Rust/Corn_Common_Rust (1293).jpg  \n",
            "  inflating: maize_leaf_data/data/Common_Rust/Corn_Common_Rust (1294).jpg  \n",
            "  inflating: maize_leaf_data/data/Common_Rust/Corn_Common_Rust (1295).jpg  \n",
            "  inflating: maize_leaf_data/data/Common_Rust/Corn_Common_Rust (1296).jpg  \n",
            "  inflating: maize_leaf_data/data/Common_Rust/Corn_Common_Rust (1297).jpg  \n",
            "  inflating: maize_leaf_data/data/Common_Rust/Corn_Common_Rust (1298).jpg  \n",
            "  inflating: maize_leaf_data/data/Common_Rust/Corn_Common_Rust (1299).jpg  \n",
            "  inflating: maize_leaf_data/data/Common_Rust/Corn_Common_Rust (13).jpg  \n",
            "  inflating: maize_leaf_data/data/Common_Rust/Corn_Common_Rust (130).JPG  \n",
            "  inflating: maize_leaf_data/data/Common_Rust/Corn_Common_Rust (1300).jpg  \n",
            "  inflating: maize_leaf_data/data/Common_Rust/Corn_Common_Rust (1301).jpg  \n",
            "  inflating: maize_leaf_data/data/Common_Rust/Corn_Common_Rust (1302).jpg  \n",
            "  inflating: maize_leaf_data/data/Common_Rust/Corn_Common_Rust (1303).jpg  \n",
            "  inflating: maize_leaf_data/data/Common_Rust/Corn_Common_Rust (1304).jpg  \n",
            "  inflating: maize_leaf_data/data/Common_Rust/Corn_Common_Rust (1305).jpg  \n",
            "  inflating: maize_leaf_data/data/Common_Rust/Corn_Common_Rust (1306).jpg  \n",
            "  inflating: maize_leaf_data/data/Common_Rust/Corn_Common_Rust (131).JPG  \n",
            "  inflating: maize_leaf_data/data/Common_Rust/Corn_Common_Rust (132).JPG  \n",
            "  inflating: maize_leaf_data/data/Common_Rust/Corn_Common_Rust (133).JPG  \n",
            "  inflating: maize_leaf_data/data/Common_Rust/Corn_Common_Rust (134).JPG  \n",
            "  inflating: maize_leaf_data/data/Common_Rust/Corn_Common_Rust (135).JPG  \n",
            "  inflating: maize_leaf_data/data/Common_Rust/Corn_Common_Rust (136).JPG  \n",
            "  inflating: maize_leaf_data/data/Common_Rust/Corn_Common_Rust (137).JPG  \n",
            "  inflating: maize_leaf_data/data/Common_Rust/Corn_Common_Rust (138).JPG  \n",
            "  inflating: maize_leaf_data/data/Common_Rust/Corn_Common_Rust (139).JPG  \n",
            "  inflating: maize_leaf_data/data/Common_Rust/Corn_Common_Rust (14).jpg  \n",
            "  inflating: maize_leaf_data/data/Common_Rust/Corn_Common_Rust (140).JPG  \n",
            "  inflating: maize_leaf_data/data/Common_Rust/Corn_Common_Rust (141).JPG  \n",
            "  inflating: maize_leaf_data/data/Common_Rust/Corn_Common_Rust (142).JPG  \n",
            "  inflating: maize_leaf_data/data/Common_Rust/Corn_Common_Rust (143).JPG  \n",
            "  inflating: maize_leaf_data/data/Common_Rust/Corn_Common_Rust (144).JPG  \n",
            "  inflating: maize_leaf_data/data/Common_Rust/Corn_Common_Rust (145).JPG  \n",
            "  inflating: maize_leaf_data/data/Common_Rust/Corn_Common_Rust (146).JPG  \n",
            "  inflating: maize_leaf_data/data/Common_Rust/Corn_Common_Rust (147).JPG  \n",
            "  inflating: maize_leaf_data/data/Common_Rust/Corn_Common_Rust (148).JPG  \n",
            "  inflating: maize_leaf_data/data/Common_Rust/Corn_Common_Rust (149).JPG  \n",
            "  inflating: maize_leaf_data/data/Common_Rust/Corn_Common_Rust (15).jpg  \n",
            "  inflating: maize_leaf_data/data/Common_Rust/Corn_Common_Rust (150).JPG  \n",
            "  inflating: maize_leaf_data/data/Common_Rust/Corn_Common_Rust (151).JPG  \n",
            "  inflating: maize_leaf_data/data/Common_Rust/Corn_Common_Rust (152).JPG  \n",
            "  inflating: maize_leaf_data/data/Common_Rust/Corn_Common_Rust (153).JPG  \n",
            "  inflating: maize_leaf_data/data/Common_Rust/Corn_Common_Rust (154).JPG  \n",
            "  inflating: maize_leaf_data/data/Common_Rust/Corn_Common_Rust (155).JPG  \n",
            "  inflating: maize_leaf_data/data/Common_Rust/Corn_Common_Rust (156).JPG  \n",
            "  inflating: maize_leaf_data/data/Common_Rust/Corn_Common_Rust (157).JPG  \n",
            "  inflating: maize_leaf_data/data/Common_Rust/Corn_Common_Rust (158).JPG  \n",
            "  inflating: maize_leaf_data/data/Common_Rust/Corn_Common_Rust (159).JPG  \n",
            "  inflating: maize_leaf_data/data/Common_Rust/Corn_Common_Rust (16).jpg  \n",
            "  inflating: maize_leaf_data/data/Common_Rust/Corn_Common_Rust (160).JPG  \n",
            "  inflating: maize_leaf_data/data/Common_Rust/Corn_Common_Rust (161).JPG  \n",
            "  inflating: maize_leaf_data/data/Common_Rust/Corn_Common_Rust (162).JPG  \n",
            "  inflating: maize_leaf_data/data/Common_Rust/Corn_Common_Rust (163).JPG  \n",
            "  inflating: maize_leaf_data/data/Common_Rust/Corn_Common_Rust (164).JPG  \n",
            "  inflating: maize_leaf_data/data/Common_Rust/Corn_Common_Rust (165).JPG  \n",
            "  inflating: maize_leaf_data/data/Common_Rust/Corn_Common_Rust (166).JPG  \n",
            "  inflating: maize_leaf_data/data/Common_Rust/Corn_Common_Rust (167).JPG  \n",
            "  inflating: maize_leaf_data/data/Common_Rust/Corn_Common_Rust (168).JPG  \n",
            "  inflating: maize_leaf_data/data/Common_Rust/Corn_Common_Rust (169).JPG  \n",
            "  inflating: maize_leaf_data/data/Common_Rust/Corn_Common_Rust (17).jpg  \n",
            "  inflating: maize_leaf_data/data/Common_Rust/Corn_Common_Rust (170).JPG  \n",
            "  inflating: maize_leaf_data/data/Common_Rust/Corn_Common_Rust (171).JPG  \n",
            "  inflating: maize_leaf_data/data/Common_Rust/Corn_Common_Rust (172).JPG  \n",
            "  inflating: maize_leaf_data/data/Common_Rust/Corn_Common_Rust (173).JPG  \n",
            "  inflating: maize_leaf_data/data/Common_Rust/Corn_Common_Rust (174).JPG  \n",
            "  inflating: maize_leaf_data/data/Common_Rust/Corn_Common_Rust (175).JPG  \n",
            "  inflating: maize_leaf_data/data/Common_Rust/Corn_Common_Rust (176).JPG  \n",
            "  inflating: maize_leaf_data/data/Common_Rust/Corn_Common_Rust (177).JPG  \n",
            "  inflating: maize_leaf_data/data/Common_Rust/Corn_Common_Rust (178).JPG  \n",
            "  inflating: maize_leaf_data/data/Common_Rust/Corn_Common_Rust (179).JPG  \n",
            "  inflating: maize_leaf_data/data/Common_Rust/Corn_Common_Rust (18).jpg  \n",
            "  inflating: maize_leaf_data/data/Common_Rust/Corn_Common_Rust (180).JPG  \n",
            "  inflating: maize_leaf_data/data/Common_Rust/Corn_Common_Rust (181).JPG  \n",
            "  inflating: maize_leaf_data/data/Common_Rust/Corn_Common_Rust (182).JPG  \n",
            "  inflating: maize_leaf_data/data/Common_Rust/Corn_Common_Rust (183).JPG  \n",
            "  inflating: maize_leaf_data/data/Common_Rust/Corn_Common_Rust (184).JPG  \n",
            "  inflating: maize_leaf_data/data/Common_Rust/Corn_Common_Rust (185).JPG  \n",
            "  inflating: maize_leaf_data/data/Common_Rust/Corn_Common_Rust (186).JPG  \n",
            "  inflating: maize_leaf_data/data/Common_Rust/Corn_Common_Rust (187).JPG  \n",
            "  inflating: maize_leaf_data/data/Common_Rust/Corn_Common_Rust (188).JPG  \n",
            "  inflating: maize_leaf_data/data/Common_Rust/Corn_Common_Rust (189).JPG  \n",
            "  inflating: maize_leaf_data/data/Common_Rust/Corn_Common_Rust (19).jpg  \n",
            "  inflating: maize_leaf_data/data/Common_Rust/Corn_Common_Rust (190).JPG  \n",
            "  inflating: maize_leaf_data/data/Common_Rust/Corn_Common_Rust (191).JPG  \n",
            "  inflating: maize_leaf_data/data/Common_Rust/Corn_Common_Rust (192).JPG  \n",
            "  inflating: maize_leaf_data/data/Common_Rust/Corn_Common_Rust (193).JPG  \n",
            "  inflating: maize_leaf_data/data/Common_Rust/Corn_Common_Rust (194).JPG  \n",
            "  inflating: maize_leaf_data/data/Common_Rust/Corn_Common_Rust (195).JPG  \n",
            "  inflating: maize_leaf_data/data/Common_Rust/Corn_Common_Rust (196).JPG  \n",
            "  inflating: maize_leaf_data/data/Common_Rust/Corn_Common_Rust (197).JPG  \n",
            "  inflating: maize_leaf_data/data/Common_Rust/Corn_Common_Rust (198).JPG  \n",
            "  inflating: maize_leaf_data/data/Common_Rust/Corn_Common_Rust (199).JPG  \n",
            "  inflating: maize_leaf_data/data/Common_Rust/Corn_Common_Rust (2).jpg  \n",
            "  inflating: maize_leaf_data/data/Common_Rust/Corn_Common_Rust (20).jpg  \n",
            "  inflating: maize_leaf_data/data/Common_Rust/Corn_Common_Rust (200).JPG  \n",
            "  inflating: maize_leaf_data/data/Common_Rust/Corn_Common_Rust (201).JPG  \n",
            "  inflating: maize_leaf_data/data/Common_Rust/Corn_Common_Rust (202).JPG  \n",
            "  inflating: maize_leaf_data/data/Common_Rust/Corn_Common_Rust (203).JPG  \n",
            "  inflating: maize_leaf_data/data/Common_Rust/Corn_Common_Rust (204).JPG  \n",
            "  inflating: maize_leaf_data/data/Common_Rust/Corn_Common_Rust (205).JPG  \n",
            "  inflating: maize_leaf_data/data/Common_Rust/Corn_Common_Rust (206).JPG  \n",
            "  inflating: maize_leaf_data/data/Common_Rust/Corn_Common_Rust (207).JPG  \n",
            "  inflating: maize_leaf_data/data/Common_Rust/Corn_Common_Rust (208).JPG  \n",
            "  inflating: maize_leaf_data/data/Common_Rust/Corn_Common_Rust (209).JPG  \n",
            "  inflating: maize_leaf_data/data/Common_Rust/Corn_Common_Rust (21).jpg  \n",
            "  inflating: maize_leaf_data/data/Common_Rust/Corn_Common_Rust (210).JPG  \n",
            "  inflating: maize_leaf_data/data/Common_Rust/Corn_Common_Rust (211).JPG  \n",
            "  inflating: maize_leaf_data/data/Common_Rust/Corn_Common_Rust (212).JPG  \n",
            "  inflating: maize_leaf_data/data/Common_Rust/Corn_Common_Rust (213).JPG  \n",
            "  inflating: maize_leaf_data/data/Common_Rust/Corn_Common_Rust (214).JPG  \n",
            "  inflating: maize_leaf_data/data/Common_Rust/Corn_Common_Rust (215).JPG  \n",
            "  inflating: maize_leaf_data/data/Common_Rust/Corn_Common_Rust (216).JPG  \n",
            "  inflating: maize_leaf_data/data/Common_Rust/Corn_Common_Rust (217).JPG  \n",
            "  inflating: maize_leaf_data/data/Common_Rust/Corn_Common_Rust (218).JPG  \n",
            "  inflating: maize_leaf_data/data/Common_Rust/Corn_Common_Rust (219).JPG  \n",
            "  inflating: maize_leaf_data/data/Common_Rust/Corn_Common_Rust (22).jpg  \n",
            "  inflating: maize_leaf_data/data/Common_Rust/Corn_Common_Rust (220).JPG  \n",
            "  inflating: maize_leaf_data/data/Common_Rust/Corn_Common_Rust (221).JPG  \n",
            "  inflating: maize_leaf_data/data/Common_Rust/Corn_Common_Rust (222).JPG  \n",
            "  inflating: maize_leaf_data/data/Common_Rust/Corn_Common_Rust (223).JPG  \n",
            "  inflating: maize_leaf_data/data/Common_Rust/Corn_Common_Rust (224).JPG  \n",
            "  inflating: maize_leaf_data/data/Common_Rust/Corn_Common_Rust (225).JPG  \n",
            "  inflating: maize_leaf_data/data/Common_Rust/Corn_Common_Rust (226).JPG  \n",
            "  inflating: maize_leaf_data/data/Common_Rust/Corn_Common_Rust (227).JPG  \n",
            "  inflating: maize_leaf_data/data/Common_Rust/Corn_Common_Rust (228).JPG  \n",
            "  inflating: maize_leaf_data/data/Common_Rust/Corn_Common_Rust (229).JPG  \n",
            "  inflating: maize_leaf_data/data/Common_Rust/Corn_Common_Rust (23).jpg  \n",
            "  inflating: maize_leaf_data/data/Common_Rust/Corn_Common_Rust (230).JPG  \n",
            "  inflating: maize_leaf_data/data/Common_Rust/Corn_Common_Rust (231).JPG  \n",
            "  inflating: maize_leaf_data/data/Common_Rust/Corn_Common_Rust (232).JPG  \n",
            "  inflating: maize_leaf_data/data/Common_Rust/Corn_Common_Rust (233).JPG  \n",
            "  inflating: maize_leaf_data/data/Common_Rust/Corn_Common_Rust (234).JPG  \n",
            "  inflating: maize_leaf_data/data/Common_Rust/Corn_Common_Rust (235).JPG  \n",
            "  inflating: maize_leaf_data/data/Common_Rust/Corn_Common_Rust (236).JPG  \n",
            "  inflating: maize_leaf_data/data/Common_Rust/Corn_Common_Rust (237).JPG  \n",
            "  inflating: maize_leaf_data/data/Common_Rust/Corn_Common_Rust (238).JPG  \n",
            "  inflating: maize_leaf_data/data/Common_Rust/Corn_Common_Rust (239).JPG  \n",
            "  inflating: maize_leaf_data/data/Common_Rust/Corn_Common_Rust (24).jpg  \n",
            "  inflating: maize_leaf_data/data/Common_Rust/Corn_Common_Rust (240).JPG  \n",
            "  inflating: maize_leaf_data/data/Common_Rust/Corn_Common_Rust (241).JPG  \n",
            "  inflating: maize_leaf_data/data/Common_Rust/Corn_Common_Rust (242).JPG  \n",
            "  inflating: maize_leaf_data/data/Common_Rust/Corn_Common_Rust (243).JPG  \n",
            "  inflating: maize_leaf_data/data/Common_Rust/Corn_Common_Rust (244).JPG  \n",
            "  inflating: maize_leaf_data/data/Common_Rust/Corn_Common_Rust (245).JPG  \n",
            "  inflating: maize_leaf_data/data/Common_Rust/Corn_Common_Rust (246).JPG  \n",
            "  inflating: maize_leaf_data/data/Common_Rust/Corn_Common_Rust (247).JPG  \n",
            "  inflating: maize_leaf_data/data/Common_Rust/Corn_Common_Rust (248).JPG  \n",
            "  inflating: maize_leaf_data/data/Common_Rust/Corn_Common_Rust (249).JPG  \n",
            "  inflating: maize_leaf_data/data/Common_Rust/Corn_Common_Rust (25).jpg  \n",
            "  inflating: maize_leaf_data/data/Common_Rust/Corn_Common_Rust (250).JPG  \n",
            "  inflating: maize_leaf_data/data/Common_Rust/Corn_Common_Rust (251).JPG  \n",
            "  inflating: maize_leaf_data/data/Common_Rust/Corn_Common_Rust (252).JPG  \n",
            "  inflating: maize_leaf_data/data/Common_Rust/Corn_Common_Rust (253).JPG  \n",
            "  inflating: maize_leaf_data/data/Common_Rust/Corn_Common_Rust (254).JPG  \n",
            "  inflating: maize_leaf_data/data/Common_Rust/Corn_Common_Rust (255).JPG  \n",
            "  inflating: maize_leaf_data/data/Common_Rust/Corn_Common_Rust (256).JPG  \n",
            "  inflating: maize_leaf_data/data/Common_Rust/Corn_Common_Rust (257).JPG  \n",
            "  inflating: maize_leaf_data/data/Common_Rust/Corn_Common_Rust (258).JPG  \n",
            "  inflating: maize_leaf_data/data/Common_Rust/Corn_Common_Rust (259).JPG  \n",
            "  inflating: maize_leaf_data/data/Common_Rust/Corn_Common_Rust (26).jpg  \n",
            "  inflating: maize_leaf_data/data/Common_Rust/Corn_Common_Rust (260).JPG  \n",
            "  inflating: maize_leaf_data/data/Common_Rust/Corn_Common_Rust (261).JPG  \n",
            "  inflating: maize_leaf_data/data/Common_Rust/Corn_Common_Rust (262).JPG  \n",
            "  inflating: maize_leaf_data/data/Common_Rust/Corn_Common_Rust (263).JPG  \n",
            "  inflating: maize_leaf_data/data/Common_Rust/Corn_Common_Rust (264).JPG  \n",
            "  inflating: maize_leaf_data/data/Common_Rust/Corn_Common_Rust (265).JPG  \n",
            "  inflating: maize_leaf_data/data/Common_Rust/Corn_Common_Rust (266).JPG  \n",
            "  inflating: maize_leaf_data/data/Common_Rust/Corn_Common_Rust (267).JPG  \n",
            "  inflating: maize_leaf_data/data/Common_Rust/Corn_Common_Rust (268).JPG  \n",
            "  inflating: maize_leaf_data/data/Common_Rust/Corn_Common_Rust (269).JPG  \n",
            "  inflating: maize_leaf_data/data/Common_Rust/Corn_Common_Rust (27).jpg  \n",
            "  inflating: maize_leaf_data/data/Common_Rust/Corn_Common_Rust (270).JPG  \n",
            "  inflating: maize_leaf_data/data/Common_Rust/Corn_Common_Rust (271).JPG  \n",
            "  inflating: maize_leaf_data/data/Common_Rust/Corn_Common_Rust (272).JPG  \n",
            "  inflating: maize_leaf_data/data/Common_Rust/Corn_Common_Rust (273).JPG  \n",
            "  inflating: maize_leaf_data/data/Common_Rust/Corn_Common_Rust (274).JPG  \n",
            "  inflating: maize_leaf_data/data/Common_Rust/Corn_Common_Rust (275).JPG  \n",
            "  inflating: maize_leaf_data/data/Common_Rust/Corn_Common_Rust (276).JPG  \n",
            "  inflating: maize_leaf_data/data/Common_Rust/Corn_Common_Rust (277).JPG  \n",
            "  inflating: maize_leaf_data/data/Common_Rust/Corn_Common_Rust (278).JPG  \n",
            "  inflating: maize_leaf_data/data/Common_Rust/Corn_Common_Rust (279).JPG  \n",
            "  inflating: maize_leaf_data/data/Common_Rust/Corn_Common_Rust (28).jpg  \n",
            "  inflating: maize_leaf_data/data/Common_Rust/Corn_Common_Rust (280).JPG  \n",
            "  inflating: maize_leaf_data/data/Common_Rust/Corn_Common_Rust (281).JPG  \n",
            "  inflating: maize_leaf_data/data/Common_Rust/Corn_Common_Rust (282).JPG  \n",
            "  inflating: maize_leaf_data/data/Common_Rust/Corn_Common_Rust (283).JPG  \n",
            "  inflating: maize_leaf_data/data/Common_Rust/Corn_Common_Rust (284).JPG  \n",
            "  inflating: maize_leaf_data/data/Common_Rust/Corn_Common_Rust (285).JPG  \n",
            "  inflating: maize_leaf_data/data/Common_Rust/Corn_Common_Rust (286).JPG  \n",
            "  inflating: maize_leaf_data/data/Common_Rust/Corn_Common_Rust (287).JPG  \n",
            "  inflating: maize_leaf_data/data/Common_Rust/Corn_Common_Rust (288).JPG  \n",
            "  inflating: maize_leaf_data/data/Common_Rust/Corn_Common_Rust (289).JPG  \n",
            "  inflating: maize_leaf_data/data/Common_Rust/Corn_Common_Rust (29).jpg  \n",
            "  inflating: maize_leaf_data/data/Common_Rust/Corn_Common_Rust (290).JPG  \n",
            "  inflating: maize_leaf_data/data/Common_Rust/Corn_Common_Rust (291).JPG  \n",
            "  inflating: maize_leaf_data/data/Common_Rust/Corn_Common_Rust (292).JPG  \n",
            "  inflating: maize_leaf_data/data/Common_Rust/Corn_Common_Rust (293).JPG  \n",
            "  inflating: maize_leaf_data/data/Common_Rust/Corn_Common_Rust (294).JPG  \n",
            "  inflating: maize_leaf_data/data/Common_Rust/Corn_Common_Rust (295).JPG  \n",
            "  inflating: maize_leaf_data/data/Common_Rust/Corn_Common_Rust (296).JPG  \n",
            "  inflating: maize_leaf_data/data/Common_Rust/Corn_Common_Rust (297).JPG  \n",
            "  inflating: maize_leaf_data/data/Common_Rust/Corn_Common_Rust (298).JPG  \n",
            "  inflating: maize_leaf_data/data/Common_Rust/Corn_Common_Rust (299).JPG  \n",
            "  inflating: maize_leaf_data/data/Common_Rust/Corn_Common_Rust (3).jpg  \n",
            "  inflating: maize_leaf_data/data/Common_Rust/Corn_Common_Rust (30).jpg  \n",
            "  inflating: maize_leaf_data/data/Common_Rust/Corn_Common_Rust (300).JPG  \n",
            "  inflating: maize_leaf_data/data/Common_Rust/Corn_Common_Rust (301).JPG  \n",
            "  inflating: maize_leaf_data/data/Common_Rust/Corn_Common_Rust (302).JPG  \n",
            "  inflating: maize_leaf_data/data/Common_Rust/Corn_Common_Rust (303).JPG  \n",
            "  inflating: maize_leaf_data/data/Common_Rust/Corn_Common_Rust (304).JPG  \n",
            "  inflating: maize_leaf_data/data/Common_Rust/Corn_Common_Rust (305).JPG  \n",
            "  inflating: maize_leaf_data/data/Common_Rust/Corn_Common_Rust (306).JPG  \n",
            "  inflating: maize_leaf_data/data/Common_Rust/Corn_Common_Rust (307).JPG  \n",
            "  inflating: maize_leaf_data/data/Common_Rust/Corn_Common_Rust (308).JPG  \n",
            "  inflating: maize_leaf_data/data/Common_Rust/Corn_Common_Rust (309).JPG  \n",
            "  inflating: maize_leaf_data/data/Common_Rust/Corn_Common_Rust (31).jpg  \n",
            "  inflating: maize_leaf_data/data/Common_Rust/Corn_Common_Rust (310).JPG  \n",
            "  inflating: maize_leaf_data/data/Common_Rust/Corn_Common_Rust (311).JPG  \n",
            "  inflating: maize_leaf_data/data/Common_Rust/Corn_Common_Rust (312).JPG  \n",
            "  inflating: maize_leaf_data/data/Common_Rust/Corn_Common_Rust (313).JPG  \n",
            "  inflating: maize_leaf_data/data/Common_Rust/Corn_Common_Rust (314).JPG  \n",
            "  inflating: maize_leaf_data/data/Common_Rust/Corn_Common_Rust (315).JPG  \n",
            "  inflating: maize_leaf_data/data/Common_Rust/Corn_Common_Rust (316).JPG  \n",
            "  inflating: maize_leaf_data/data/Common_Rust/Corn_Common_Rust (317).JPG  \n",
            "  inflating: maize_leaf_data/data/Common_Rust/Corn_Common_Rust (318).JPG  \n",
            "  inflating: maize_leaf_data/data/Common_Rust/Corn_Common_Rust (319).JPG  \n",
            "  inflating: maize_leaf_data/data/Common_Rust/Corn_Common_Rust (32).jpg  \n",
            "  inflating: maize_leaf_data/data/Common_Rust/Corn_Common_Rust (320).JPG  \n",
            "  inflating: maize_leaf_data/data/Common_Rust/Corn_Common_Rust (321).JPG  \n",
            "  inflating: maize_leaf_data/data/Common_Rust/Corn_Common_Rust (322).JPG  \n",
            "  inflating: maize_leaf_data/data/Common_Rust/Corn_Common_Rust (323).JPG  \n",
            "  inflating: maize_leaf_data/data/Common_Rust/Corn_Common_Rust (324).JPG  \n",
            "  inflating: maize_leaf_data/data/Common_Rust/Corn_Common_Rust (325).JPG  \n",
            "  inflating: maize_leaf_data/data/Common_Rust/Corn_Common_Rust (326).JPG  \n",
            "  inflating: maize_leaf_data/data/Common_Rust/Corn_Common_Rust (327).JPG  \n",
            "  inflating: maize_leaf_data/data/Common_Rust/Corn_Common_Rust (328).JPG  \n",
            "  inflating: maize_leaf_data/data/Common_Rust/Corn_Common_Rust (329).JPG  \n",
            "  inflating: maize_leaf_data/data/Common_Rust/Corn_Common_Rust (33).jpg  \n",
            "  inflating: maize_leaf_data/data/Common_Rust/Corn_Common_Rust (330).JPG  \n",
            "  inflating: maize_leaf_data/data/Common_Rust/Corn_Common_Rust (331).JPG  \n",
            "  inflating: maize_leaf_data/data/Common_Rust/Corn_Common_Rust (332).JPG  \n",
            "  inflating: maize_leaf_data/data/Common_Rust/Corn_Common_Rust (333).JPG  \n",
            "  inflating: maize_leaf_data/data/Common_Rust/Corn_Common_Rust (334).JPG  \n",
            "  inflating: maize_leaf_data/data/Common_Rust/Corn_Common_Rust (335).JPG  \n",
            "  inflating: maize_leaf_data/data/Common_Rust/Corn_Common_Rust (336).JPG  \n",
            "  inflating: maize_leaf_data/data/Common_Rust/Corn_Common_Rust (337).JPG  \n",
            "  inflating: maize_leaf_data/data/Common_Rust/Corn_Common_Rust (338).JPG  \n",
            "  inflating: maize_leaf_data/data/Common_Rust/Corn_Common_Rust (339).JPG  \n",
            "  inflating: maize_leaf_data/data/Common_Rust/Corn_Common_Rust (34).jpg  \n",
            "  inflating: maize_leaf_data/data/Common_Rust/Corn_Common_Rust (340).JPG  \n",
            "  inflating: maize_leaf_data/data/Common_Rust/Corn_Common_Rust (341).JPG  \n",
            "  inflating: maize_leaf_data/data/Common_Rust/Corn_Common_Rust (342).JPG  \n",
            "  inflating: maize_leaf_data/data/Common_Rust/Corn_Common_Rust (343).JPG  \n",
            "  inflating: maize_leaf_data/data/Common_Rust/Corn_Common_Rust (344).JPG  \n",
            "  inflating: maize_leaf_data/data/Common_Rust/Corn_Common_Rust (345).JPG  \n",
            "  inflating: maize_leaf_data/data/Common_Rust/Corn_Common_Rust (346).JPG  \n",
            "  inflating: maize_leaf_data/data/Common_Rust/Corn_Common_Rust (347).JPG  \n",
            "  inflating: maize_leaf_data/data/Common_Rust/Corn_Common_Rust (348).JPG  \n",
            "  inflating: maize_leaf_data/data/Common_Rust/Corn_Common_Rust (349).JPG  \n",
            "  inflating: maize_leaf_data/data/Common_Rust/Corn_Common_Rust (35).jpg  \n",
            "  inflating: maize_leaf_data/data/Common_Rust/Corn_Common_Rust (350).JPG  \n",
            "  inflating: maize_leaf_data/data/Common_Rust/Corn_Common_Rust (351).JPG  \n",
            "  inflating: maize_leaf_data/data/Common_Rust/Corn_Common_Rust (352).JPG  \n",
            "  inflating: maize_leaf_data/data/Common_Rust/Corn_Common_Rust (353).JPG  \n",
            "  inflating: maize_leaf_data/data/Common_Rust/Corn_Common_Rust (354).JPG  \n",
            "  inflating: maize_leaf_data/data/Common_Rust/Corn_Common_Rust (355).JPG  \n",
            "  inflating: maize_leaf_data/data/Common_Rust/Corn_Common_Rust (356).JPG  \n",
            "  inflating: maize_leaf_data/data/Common_Rust/Corn_Common_Rust (357).JPG  \n",
            "  inflating: maize_leaf_data/data/Common_Rust/Corn_Common_Rust (358).JPG  \n",
            "  inflating: maize_leaf_data/data/Common_Rust/Corn_Common_Rust (359).JPG  \n",
            "  inflating: maize_leaf_data/data/Common_Rust/Corn_Common_Rust (36).jpg  \n",
            "  inflating: maize_leaf_data/data/Common_Rust/Corn_Common_Rust (360).JPG  \n",
            "  inflating: maize_leaf_data/data/Common_Rust/Corn_Common_Rust (361).JPG  \n",
            "  inflating: maize_leaf_data/data/Common_Rust/Corn_Common_Rust (362).JPG  \n",
            "  inflating: maize_leaf_data/data/Common_Rust/Corn_Common_Rust (363).JPG  \n",
            "  inflating: maize_leaf_data/data/Common_Rust/Corn_Common_Rust (364).JPG  \n",
            "  inflating: maize_leaf_data/data/Common_Rust/Corn_Common_Rust (365).JPG  \n",
            "  inflating: maize_leaf_data/data/Common_Rust/Corn_Common_Rust (366).JPG  \n",
            "  inflating: maize_leaf_data/data/Common_Rust/Corn_Common_Rust (367).JPG  \n",
            "  inflating: maize_leaf_data/data/Common_Rust/Corn_Common_Rust (368).JPG  \n",
            "  inflating: maize_leaf_data/data/Common_Rust/Corn_Common_Rust (369).JPG  \n",
            "  inflating: maize_leaf_data/data/Common_Rust/Corn_Common_Rust (37).jpg  \n",
            "  inflating: maize_leaf_data/data/Common_Rust/Corn_Common_Rust (370).JPG  \n",
            "  inflating: maize_leaf_data/data/Common_Rust/Corn_Common_Rust (371).JPG  \n",
            "  inflating: maize_leaf_data/data/Common_Rust/Corn_Common_Rust (372).JPG  \n",
            "  inflating: maize_leaf_data/data/Common_Rust/Corn_Common_Rust (373).JPG  \n",
            "  inflating: maize_leaf_data/data/Common_Rust/Corn_Common_Rust (374).JPG  \n",
            "  inflating: maize_leaf_data/data/Common_Rust/Corn_Common_Rust (375).JPG  \n",
            "  inflating: maize_leaf_data/data/Common_Rust/Corn_Common_Rust (376).JPG  \n",
            "  inflating: maize_leaf_data/data/Common_Rust/Corn_Common_Rust (377).JPG  \n",
            "  inflating: maize_leaf_data/data/Common_Rust/Corn_Common_Rust (378).JPG  \n",
            "  inflating: maize_leaf_data/data/Common_Rust/Corn_Common_Rust (379).JPG  \n",
            "  inflating: maize_leaf_data/data/Common_Rust/Corn_Common_Rust (38).jpg  \n",
            "  inflating: maize_leaf_data/data/Common_Rust/Corn_Common_Rust (380).JPG  \n",
            "  inflating: maize_leaf_data/data/Common_Rust/Corn_Common_Rust (381).JPG  \n",
            "  inflating: maize_leaf_data/data/Common_Rust/Corn_Common_Rust (382).JPG  \n",
            "  inflating: maize_leaf_data/data/Common_Rust/Corn_Common_Rust (383).JPG  \n",
            "  inflating: maize_leaf_data/data/Common_Rust/Corn_Common_Rust (384).JPG  \n",
            "  inflating: maize_leaf_data/data/Common_Rust/Corn_Common_Rust (385).JPG  \n",
            "  inflating: maize_leaf_data/data/Common_Rust/Corn_Common_Rust (386).JPG  \n",
            "  inflating: maize_leaf_data/data/Common_Rust/Corn_Common_Rust (387).JPG  \n",
            "  inflating: maize_leaf_data/data/Common_Rust/Corn_Common_Rust (388).JPG  \n",
            "  inflating: maize_leaf_data/data/Common_Rust/Corn_Common_Rust (389).JPG  \n",
            "  inflating: maize_leaf_data/data/Common_Rust/Corn_Common_Rust (39).jpg  \n",
            "  inflating: maize_leaf_data/data/Common_Rust/Corn_Common_Rust (390).JPG  \n",
            "  inflating: maize_leaf_data/data/Common_Rust/Corn_Common_Rust (391).JPG  \n",
            "  inflating: maize_leaf_data/data/Common_Rust/Corn_Common_Rust (392).JPG  \n",
            "  inflating: maize_leaf_data/data/Common_Rust/Corn_Common_Rust (393).JPG  \n",
            "  inflating: maize_leaf_data/data/Common_Rust/Corn_Common_Rust (394).JPG  \n",
            "  inflating: maize_leaf_data/data/Common_Rust/Corn_Common_Rust (395).JPG  \n",
            "  inflating: maize_leaf_data/data/Common_Rust/Corn_Common_Rust (396).JPG  \n",
            "  inflating: maize_leaf_data/data/Common_Rust/Corn_Common_Rust (397).JPG  \n",
            "  inflating: maize_leaf_data/data/Common_Rust/Corn_Common_Rust (398).JPG  \n",
            "  inflating: maize_leaf_data/data/Common_Rust/Corn_Common_Rust (399).JPG  \n",
            "  inflating: maize_leaf_data/data/Common_Rust/Corn_Common_Rust (4).jpg  \n",
            "  inflating: maize_leaf_data/data/Common_Rust/Corn_Common_Rust (40).jpg  \n",
            "  inflating: maize_leaf_data/data/Common_Rust/Corn_Common_Rust (400).JPG  \n",
            "  inflating: maize_leaf_data/data/Common_Rust/Corn_Common_Rust (401).JPG  \n",
            "  inflating: maize_leaf_data/data/Common_Rust/Corn_Common_Rust (402).JPG  \n",
            "  inflating: maize_leaf_data/data/Common_Rust/Corn_Common_Rust (403).JPG  \n",
            "  inflating: maize_leaf_data/data/Common_Rust/Corn_Common_Rust (404).JPG  \n",
            "  inflating: maize_leaf_data/data/Common_Rust/Corn_Common_Rust (405).JPG  \n",
            "  inflating: maize_leaf_data/data/Common_Rust/Corn_Common_Rust (406).JPG  \n",
            "  inflating: maize_leaf_data/data/Common_Rust/Corn_Common_Rust (407).JPG  \n",
            "  inflating: maize_leaf_data/data/Common_Rust/Corn_Common_Rust (408).JPG  \n",
            "  inflating: maize_leaf_data/data/Common_Rust/Corn_Common_Rust (409).JPG  \n",
            "  inflating: maize_leaf_data/data/Common_Rust/Corn_Common_Rust (41).jpg  \n",
            "  inflating: maize_leaf_data/data/Common_Rust/Corn_Common_Rust (410).JPG  \n",
            "  inflating: maize_leaf_data/data/Common_Rust/Corn_Common_Rust (411).JPG  \n",
            "  inflating: maize_leaf_data/data/Common_Rust/Corn_Common_Rust (412).JPG  \n",
            "  inflating: maize_leaf_data/data/Common_Rust/Corn_Common_Rust (413).JPG  \n",
            "  inflating: maize_leaf_data/data/Common_Rust/Corn_Common_Rust (414).JPG  \n",
            "  inflating: maize_leaf_data/data/Common_Rust/Corn_Common_Rust (415).JPG  \n",
            "  inflating: maize_leaf_data/data/Common_Rust/Corn_Common_Rust (416).JPG  \n",
            "  inflating: maize_leaf_data/data/Common_Rust/Corn_Common_Rust (417).JPG  \n",
            "  inflating: maize_leaf_data/data/Common_Rust/Corn_Common_Rust (418).JPG  \n",
            "  inflating: maize_leaf_data/data/Common_Rust/Corn_Common_Rust (419).JPG  \n",
            "  inflating: maize_leaf_data/data/Common_Rust/Corn_Common_Rust (42).jpg  \n",
            "  inflating: maize_leaf_data/data/Common_Rust/Corn_Common_Rust (420).JPG  \n",
            "  inflating: maize_leaf_data/data/Common_Rust/Corn_Common_Rust (421).JPG  \n",
            "  inflating: maize_leaf_data/data/Common_Rust/Corn_Common_Rust (422).JPG  \n",
            "  inflating: maize_leaf_data/data/Common_Rust/Corn_Common_Rust (423).JPG  \n",
            "  inflating: maize_leaf_data/data/Common_Rust/Corn_Common_Rust (424).JPG  \n",
            "  inflating: maize_leaf_data/data/Common_Rust/Corn_Common_Rust (425).JPG  \n",
            "  inflating: maize_leaf_data/data/Common_Rust/Corn_Common_Rust (426).JPG  \n",
            "  inflating: maize_leaf_data/data/Common_Rust/Corn_Common_Rust (427).JPG  \n",
            "  inflating: maize_leaf_data/data/Common_Rust/Corn_Common_Rust (428).JPG  \n",
            "  inflating: maize_leaf_data/data/Common_Rust/Corn_Common_Rust (429).JPG  \n",
            "  inflating: maize_leaf_data/data/Common_Rust/Corn_Common_Rust (43).jpg  \n",
            "  inflating: maize_leaf_data/data/Common_Rust/Corn_Common_Rust (430).JPG  \n",
            "  inflating: maize_leaf_data/data/Common_Rust/Corn_Common_Rust (431).JPG  \n",
            "  inflating: maize_leaf_data/data/Common_Rust/Corn_Common_Rust (432).JPG  \n",
            "  inflating: maize_leaf_data/data/Common_Rust/Corn_Common_Rust (433).JPG  \n",
            "  inflating: maize_leaf_data/data/Common_Rust/Corn_Common_Rust (434).JPG  \n",
            "  inflating: maize_leaf_data/data/Common_Rust/Corn_Common_Rust (435).JPG  \n",
            "  inflating: maize_leaf_data/data/Common_Rust/Corn_Common_Rust (436).JPG  \n",
            "  inflating: maize_leaf_data/data/Common_Rust/Corn_Common_Rust (437).JPG  \n",
            "  inflating: maize_leaf_data/data/Common_Rust/Corn_Common_Rust (438).JPG  \n",
            "  inflating: maize_leaf_data/data/Common_Rust/Corn_Common_Rust (439).JPG  \n",
            "  inflating: maize_leaf_data/data/Common_Rust/Corn_Common_Rust (44).jpg  \n",
            "  inflating: maize_leaf_data/data/Common_Rust/Corn_Common_Rust (440).JPG  \n",
            "  inflating: maize_leaf_data/data/Common_Rust/Corn_Common_Rust (441).JPG  \n",
            "  inflating: maize_leaf_data/data/Common_Rust/Corn_Common_Rust (442).JPG  \n",
            "  inflating: maize_leaf_data/data/Common_Rust/Corn_Common_Rust (443).JPG  \n",
            "  inflating: maize_leaf_data/data/Common_Rust/Corn_Common_Rust (444).JPG  \n",
            "  inflating: maize_leaf_data/data/Common_Rust/Corn_Common_Rust (445).JPG  \n",
            "  inflating: maize_leaf_data/data/Common_Rust/Corn_Common_Rust (446).JPG  \n",
            "  inflating: maize_leaf_data/data/Common_Rust/Corn_Common_Rust (447).JPG  \n",
            "  inflating: maize_leaf_data/data/Common_Rust/Corn_Common_Rust (448).JPG  \n",
            "  inflating: maize_leaf_data/data/Common_Rust/Corn_Common_Rust (449).JPG  \n",
            "  inflating: maize_leaf_data/data/Common_Rust/Corn_Common_Rust (45).jpg  \n",
            "  inflating: maize_leaf_data/data/Common_Rust/Corn_Common_Rust (450).JPG  \n",
            "  inflating: maize_leaf_data/data/Common_Rust/Corn_Common_Rust (451).JPG  \n",
            "  inflating: maize_leaf_data/data/Common_Rust/Corn_Common_Rust (452).JPG  \n",
            "  inflating: maize_leaf_data/data/Common_Rust/Corn_Common_Rust (453).JPG  \n",
            "  inflating: maize_leaf_data/data/Common_Rust/Corn_Common_Rust (454).JPG  \n",
            "  inflating: maize_leaf_data/data/Common_Rust/Corn_Common_Rust (455).JPG  \n",
            "  inflating: maize_leaf_data/data/Common_Rust/Corn_Common_Rust (456).JPG  \n",
            "  inflating: maize_leaf_data/data/Common_Rust/Corn_Common_Rust (457).JPG  \n",
            "  inflating: maize_leaf_data/data/Common_Rust/Corn_Common_Rust (458).JPG  \n",
            "  inflating: maize_leaf_data/data/Common_Rust/Corn_Common_Rust (459).JPG  \n",
            "  inflating: maize_leaf_data/data/Common_Rust/Corn_Common_Rust (46).jpg  \n",
            "  inflating: maize_leaf_data/data/Common_Rust/Corn_Common_Rust (460).JPG  \n",
            "  inflating: maize_leaf_data/data/Common_Rust/Corn_Common_Rust (461).JPG  \n",
            "  inflating: maize_leaf_data/data/Common_Rust/Corn_Common_Rust (462).JPG  \n",
            "  inflating: maize_leaf_data/data/Common_Rust/Corn_Common_Rust (463).JPG  \n",
            "  inflating: maize_leaf_data/data/Common_Rust/Corn_Common_Rust (464).JPG  \n",
            "  inflating: maize_leaf_data/data/Common_Rust/Corn_Common_Rust (465).JPG  \n",
            "  inflating: maize_leaf_data/data/Common_Rust/Corn_Common_Rust (466).JPG  \n",
            "  inflating: maize_leaf_data/data/Common_Rust/Corn_Common_Rust (467).JPG  \n",
            "  inflating: maize_leaf_data/data/Common_Rust/Corn_Common_Rust (468).JPG  \n",
            "  inflating: maize_leaf_data/data/Common_Rust/Corn_Common_Rust (469).JPG  \n",
            "  inflating: maize_leaf_data/data/Common_Rust/Corn_Common_Rust (47).jpg  \n",
            "  inflating: maize_leaf_data/data/Common_Rust/Corn_Common_Rust (470).JPG  \n",
            "  inflating: maize_leaf_data/data/Common_Rust/Corn_Common_Rust (471).JPG  \n",
            "  inflating: maize_leaf_data/data/Common_Rust/Corn_Common_Rust (472).JPG  \n",
            "  inflating: maize_leaf_data/data/Common_Rust/Corn_Common_Rust (473).JPG  \n",
            "  inflating: maize_leaf_data/data/Common_Rust/Corn_Common_Rust (474).JPG  \n",
            "  inflating: maize_leaf_data/data/Common_Rust/Corn_Common_Rust (475).JPG  \n",
            "  inflating: maize_leaf_data/data/Common_Rust/Corn_Common_Rust (476).JPG  \n",
            "  inflating: maize_leaf_data/data/Common_Rust/Corn_Common_Rust (477).JPG  \n",
            "  inflating: maize_leaf_data/data/Common_Rust/Corn_Common_Rust (478).JPG  \n",
            "  inflating: maize_leaf_data/data/Common_Rust/Corn_Common_Rust (479).JPG  \n",
            "  inflating: maize_leaf_data/data/Common_Rust/Corn_Common_Rust (48).jpg  \n",
            "  inflating: maize_leaf_data/data/Common_Rust/Corn_Common_Rust (480).JPG  \n",
            "  inflating: maize_leaf_data/data/Common_Rust/Corn_Common_Rust (481).JPG  \n",
            "  inflating: maize_leaf_data/data/Common_Rust/Corn_Common_Rust (482).JPG  \n",
            "  inflating: maize_leaf_data/data/Common_Rust/Corn_Common_Rust (483).JPG  \n",
            "  inflating: maize_leaf_data/data/Common_Rust/Corn_Common_Rust (484).JPG  \n",
            "  inflating: maize_leaf_data/data/Common_Rust/Corn_Common_Rust (485).JPG  \n",
            "  inflating: maize_leaf_data/data/Common_Rust/Corn_Common_Rust (486).JPG  \n",
            "  inflating: maize_leaf_data/data/Common_Rust/Corn_Common_Rust (487).JPG  \n",
            "  inflating: maize_leaf_data/data/Common_Rust/Corn_Common_Rust (488).JPG  \n",
            "  inflating: maize_leaf_data/data/Common_Rust/Corn_Common_Rust (489).JPG  \n",
            "  inflating: maize_leaf_data/data/Common_Rust/Corn_Common_Rust (49).jpg  \n",
            "  inflating: maize_leaf_data/data/Common_Rust/Corn_Common_Rust (490).JPG  \n",
            "  inflating: maize_leaf_data/data/Common_Rust/Corn_Common_Rust (491).JPG  \n",
            "  inflating: maize_leaf_data/data/Common_Rust/Corn_Common_Rust (492).JPG  \n",
            "  inflating: maize_leaf_data/data/Common_Rust/Corn_Common_Rust (493).JPG  \n",
            "  inflating: maize_leaf_data/data/Common_Rust/Corn_Common_Rust (494).JPG  \n",
            "  inflating: maize_leaf_data/data/Common_Rust/Corn_Common_Rust (495).JPG  \n",
            "  inflating: maize_leaf_data/data/Common_Rust/Corn_Common_Rust (496).JPG  \n",
            "  inflating: maize_leaf_data/data/Common_Rust/Corn_Common_Rust (497).JPG  \n",
            "  inflating: maize_leaf_data/data/Common_Rust/Corn_Common_Rust (498).JPG  \n",
            "  inflating: maize_leaf_data/data/Common_Rust/Corn_Common_Rust (499).JPG  \n",
            "  inflating: maize_leaf_data/data/Common_Rust/Corn_Common_Rust (5).jpg  \n",
            "  inflating: maize_leaf_data/data/Common_Rust/Corn_Common_Rust (50).jpg  \n",
            "  inflating: maize_leaf_data/data/Common_Rust/Corn_Common_Rust (500).JPG  \n",
            "  inflating: maize_leaf_data/data/Common_Rust/Corn_Common_Rust (501).JPG  \n",
            "  inflating: maize_leaf_data/data/Common_Rust/Corn_Common_Rust (502).JPG  \n",
            "  inflating: maize_leaf_data/data/Common_Rust/Corn_Common_Rust (503).JPG  \n",
            "  inflating: maize_leaf_data/data/Common_Rust/Corn_Common_Rust (504).JPG  \n",
            "  inflating: maize_leaf_data/data/Common_Rust/Corn_Common_Rust (505).JPG  \n",
            "  inflating: maize_leaf_data/data/Common_Rust/Corn_Common_Rust (506).JPG  \n",
            "  inflating: maize_leaf_data/data/Common_Rust/Corn_Common_Rust (507).JPG  \n",
            "  inflating: maize_leaf_data/data/Common_Rust/Corn_Common_Rust (508).JPG  \n",
            "  inflating: maize_leaf_data/data/Common_Rust/Corn_Common_Rust (509).JPG  \n",
            "  inflating: maize_leaf_data/data/Common_Rust/Corn_Common_Rust (51).jpg  \n",
            "  inflating: maize_leaf_data/data/Common_Rust/Corn_Common_Rust (510).JPG  \n",
            "  inflating: maize_leaf_data/data/Common_Rust/Corn_Common_Rust (511).JPG  \n",
            "  inflating: maize_leaf_data/data/Common_Rust/Corn_Common_Rust (512).JPG  \n",
            "  inflating: maize_leaf_data/data/Common_Rust/Corn_Common_Rust (513).JPG  \n",
            "  inflating: maize_leaf_data/data/Common_Rust/Corn_Common_Rust (514).JPG  \n",
            "  inflating: maize_leaf_data/data/Common_Rust/Corn_Common_Rust (515).JPG  \n",
            "  inflating: maize_leaf_data/data/Common_Rust/Corn_Common_Rust (516).JPG  \n",
            "  inflating: maize_leaf_data/data/Common_Rust/Corn_Common_Rust (517).JPG  \n",
            "  inflating: maize_leaf_data/data/Common_Rust/Corn_Common_Rust (518).JPG  \n",
            "  inflating: maize_leaf_data/data/Common_Rust/Corn_Common_Rust (519).JPG  \n",
            "  inflating: maize_leaf_data/data/Common_Rust/Corn_Common_Rust (52).jpg  \n",
            "  inflating: maize_leaf_data/data/Common_Rust/Corn_Common_Rust (520).JPG  \n",
            "  inflating: maize_leaf_data/data/Common_Rust/Corn_Common_Rust (521).JPG  \n",
            "  inflating: maize_leaf_data/data/Common_Rust/Corn_Common_Rust (522).JPG  \n",
            "  inflating: maize_leaf_data/data/Common_Rust/Corn_Common_Rust (523).JPG  \n",
            "  inflating: maize_leaf_data/data/Common_Rust/Corn_Common_Rust (524).JPG  \n",
            "  inflating: maize_leaf_data/data/Common_Rust/Corn_Common_Rust (525).JPG  \n",
            "  inflating: maize_leaf_data/data/Common_Rust/Corn_Common_Rust (526).JPG  \n",
            "  inflating: maize_leaf_data/data/Common_Rust/Corn_Common_Rust (527).JPG  \n",
            "  inflating: maize_leaf_data/data/Common_Rust/Corn_Common_Rust (528).JPG  \n",
            "  inflating: maize_leaf_data/data/Common_Rust/Corn_Common_Rust (529).JPG  \n",
            "  inflating: maize_leaf_data/data/Common_Rust/Corn_Common_Rust (53).jpg  \n",
            "  inflating: maize_leaf_data/data/Common_Rust/Corn_Common_Rust (530).JPG  \n",
            "  inflating: maize_leaf_data/data/Common_Rust/Corn_Common_Rust (531).JPG  \n",
            "  inflating: maize_leaf_data/data/Common_Rust/Corn_Common_Rust (532).JPG  \n",
            "  inflating: maize_leaf_data/data/Common_Rust/Corn_Common_Rust (533).JPG  \n",
            "  inflating: maize_leaf_data/data/Common_Rust/Corn_Common_Rust (534).JPG  \n",
            "  inflating: maize_leaf_data/data/Common_Rust/Corn_Common_Rust (535).JPG  \n",
            "  inflating: maize_leaf_data/data/Common_Rust/Corn_Common_Rust (536).JPG  \n",
            "  inflating: maize_leaf_data/data/Common_Rust/Corn_Common_Rust (537).JPG  \n",
            "  inflating: maize_leaf_data/data/Common_Rust/Corn_Common_Rust (538).JPG  \n",
            "  inflating: maize_leaf_data/data/Common_Rust/Corn_Common_Rust (539).JPG  \n",
            "  inflating: maize_leaf_data/data/Common_Rust/Corn_Common_Rust (54).jpg  \n",
            "  inflating: maize_leaf_data/data/Common_Rust/Corn_Common_Rust (540).JPG  \n",
            "  inflating: maize_leaf_data/data/Common_Rust/Corn_Common_Rust (541).JPG  \n",
            "  inflating: maize_leaf_data/data/Common_Rust/Corn_Common_Rust (542).JPG  \n",
            "  inflating: maize_leaf_data/data/Common_Rust/Corn_Common_Rust (543).JPG  \n",
            "  inflating: maize_leaf_data/data/Common_Rust/Corn_Common_Rust (544).JPG  \n",
            "  inflating: maize_leaf_data/data/Common_Rust/Corn_Common_Rust (545).JPG  \n",
            "  inflating: maize_leaf_data/data/Common_Rust/Corn_Common_Rust (546).JPG  \n",
            "  inflating: maize_leaf_data/data/Common_Rust/Corn_Common_Rust (547).JPG  \n",
            "  inflating: maize_leaf_data/data/Common_Rust/Corn_Common_Rust (548).JPG  \n",
            "  inflating: maize_leaf_data/data/Common_Rust/Corn_Common_Rust (549).JPG  \n",
            "  inflating: maize_leaf_data/data/Common_Rust/Corn_Common_Rust (55).jpg  \n",
            "  inflating: maize_leaf_data/data/Common_Rust/Corn_Common_Rust (550).JPG  \n",
            "  inflating: maize_leaf_data/data/Common_Rust/Corn_Common_Rust (551).JPG  \n",
            "  inflating: maize_leaf_data/data/Common_Rust/Corn_Common_Rust (552).JPG  \n",
            "  inflating: maize_leaf_data/data/Common_Rust/Corn_Common_Rust (553).JPG  \n",
            "  inflating: maize_leaf_data/data/Common_Rust/Corn_Common_Rust (554).JPG  \n",
            "  inflating: maize_leaf_data/data/Common_Rust/Corn_Common_Rust (555).JPG  \n",
            "  inflating: maize_leaf_data/data/Common_Rust/Corn_Common_Rust (556).JPG  \n",
            "  inflating: maize_leaf_data/data/Common_Rust/Corn_Common_Rust (557).JPG  \n",
            "  inflating: maize_leaf_data/data/Common_Rust/Corn_Common_Rust (558).JPG  \n",
            "  inflating: maize_leaf_data/data/Common_Rust/Corn_Common_Rust (559).JPG  \n",
            "  inflating: maize_leaf_data/data/Common_Rust/Corn_Common_Rust (56).jpg  \n",
            "  inflating: maize_leaf_data/data/Common_Rust/Corn_Common_Rust (560).JPG  \n",
            "  inflating: maize_leaf_data/data/Common_Rust/Corn_Common_Rust (561).JPG  \n",
            "  inflating: maize_leaf_data/data/Common_Rust/Corn_Common_Rust (562).JPG  \n",
            "  inflating: maize_leaf_data/data/Common_Rust/Corn_Common_Rust (563).JPG  \n",
            "  inflating: maize_leaf_data/data/Common_Rust/Corn_Common_Rust (564).JPG  \n",
            "  inflating: maize_leaf_data/data/Common_Rust/Corn_Common_Rust (565).JPG  \n",
            "  inflating: maize_leaf_data/data/Common_Rust/Corn_Common_Rust (566).JPG  \n",
            "  inflating: maize_leaf_data/data/Common_Rust/Corn_Common_Rust (567).JPG  \n",
            "  inflating: maize_leaf_data/data/Common_Rust/Corn_Common_Rust (568).JPG  \n",
            "  inflating: maize_leaf_data/data/Common_Rust/Corn_Common_Rust (569).JPG  \n",
            "  inflating: maize_leaf_data/data/Common_Rust/Corn_Common_Rust (57).jpg  \n",
            "  inflating: maize_leaf_data/data/Common_Rust/Corn_Common_Rust (570).JPG  \n",
            "  inflating: maize_leaf_data/data/Common_Rust/Corn_Common_Rust (571).JPG  \n",
            "  inflating: maize_leaf_data/data/Common_Rust/Corn_Common_Rust (572).JPG  \n",
            "  inflating: maize_leaf_data/data/Common_Rust/Corn_Common_Rust (573).JPG  \n",
            "  inflating: maize_leaf_data/data/Common_Rust/Corn_Common_Rust (574).JPG  \n",
            "  inflating: maize_leaf_data/data/Common_Rust/Corn_Common_Rust (575).JPG  \n",
            "  inflating: maize_leaf_data/data/Common_Rust/Corn_Common_Rust (576).JPG  \n",
            "  inflating: maize_leaf_data/data/Common_Rust/Corn_Common_Rust (577).JPG  \n",
            "  inflating: maize_leaf_data/data/Common_Rust/Corn_Common_Rust (578).JPG  \n",
            "  inflating: maize_leaf_data/data/Common_Rust/Corn_Common_Rust (579).JPG  \n",
            "  inflating: maize_leaf_data/data/Common_Rust/Corn_Common_Rust (58).jpg  \n",
            "  inflating: maize_leaf_data/data/Common_Rust/Corn_Common_Rust (580).JPG  \n",
            "  inflating: maize_leaf_data/data/Common_Rust/Corn_Common_Rust (581).JPG  \n",
            "  inflating: maize_leaf_data/data/Common_Rust/Corn_Common_Rust (582).JPG  \n",
            "  inflating: maize_leaf_data/data/Common_Rust/Corn_Common_Rust (583).JPG  \n",
            "  inflating: maize_leaf_data/data/Common_Rust/Corn_Common_Rust (584).JPG  \n",
            "  inflating: maize_leaf_data/data/Common_Rust/Corn_Common_Rust (585).JPG  \n",
            "  inflating: maize_leaf_data/data/Common_Rust/Corn_Common_Rust (586).JPG  \n",
            "  inflating: maize_leaf_data/data/Common_Rust/Corn_Common_Rust (587).JPG  \n",
            "  inflating: maize_leaf_data/data/Common_Rust/Corn_Common_Rust (588).JPG  \n",
            "  inflating: maize_leaf_data/data/Common_Rust/Corn_Common_Rust (589).JPG  \n",
            "  inflating: maize_leaf_data/data/Common_Rust/Corn_Common_Rust (59).jpg  \n",
            "  inflating: maize_leaf_data/data/Common_Rust/Corn_Common_Rust (590).JPG  \n",
            "  inflating: maize_leaf_data/data/Common_Rust/Corn_Common_Rust (591).JPG  \n",
            "  inflating: maize_leaf_data/data/Common_Rust/Corn_Common_Rust (592).JPG  \n",
            "  inflating: maize_leaf_data/data/Common_Rust/Corn_Common_Rust (593).JPG  \n",
            "  inflating: maize_leaf_data/data/Common_Rust/Corn_Common_Rust (594).JPG  \n",
            "  inflating: maize_leaf_data/data/Common_Rust/Corn_Common_Rust (595).JPG  \n",
            "  inflating: maize_leaf_data/data/Common_Rust/Corn_Common_Rust (596).JPG  \n",
            "  inflating: maize_leaf_data/data/Common_Rust/Corn_Common_Rust (597).JPG  \n",
            "  inflating: maize_leaf_data/data/Common_Rust/Corn_Common_Rust (598).JPG  \n",
            "  inflating: maize_leaf_data/data/Common_Rust/Corn_Common_Rust (599).JPG  \n",
            "  inflating: maize_leaf_data/data/Common_Rust/Corn_Common_Rust (6).jpg  \n",
            "  inflating: maize_leaf_data/data/Common_Rust/Corn_Common_Rust (60).jpg  \n",
            "  inflating: maize_leaf_data/data/Common_Rust/Corn_Common_Rust (600).JPG  \n",
            "  inflating: maize_leaf_data/data/Common_Rust/Corn_Common_Rust (601).JPG  \n",
            "  inflating: maize_leaf_data/data/Common_Rust/Corn_Common_Rust (602).JPG  \n",
            "  inflating: maize_leaf_data/data/Common_Rust/Corn_Common_Rust (603).JPG  \n",
            "  inflating: maize_leaf_data/data/Common_Rust/Corn_Common_Rust (604).JPG  \n",
            "  inflating: maize_leaf_data/data/Common_Rust/Corn_Common_Rust (605).JPG  \n",
            "  inflating: maize_leaf_data/data/Common_Rust/Corn_Common_Rust (606).JPG  \n",
            "  inflating: maize_leaf_data/data/Common_Rust/Corn_Common_Rust (607).JPG  \n",
            "  inflating: maize_leaf_data/data/Common_Rust/Corn_Common_Rust (608).JPG  \n",
            "  inflating: maize_leaf_data/data/Common_Rust/Corn_Common_Rust (609).JPG  \n",
            "  inflating: maize_leaf_data/data/Common_Rust/Corn_Common_Rust (61).jpg  \n",
            "  inflating: maize_leaf_data/data/Common_Rust/Corn_Common_Rust (610).JPG  \n",
            "  inflating: maize_leaf_data/data/Common_Rust/Corn_Common_Rust (611).JPG  \n",
            "  inflating: maize_leaf_data/data/Common_Rust/Corn_Common_Rust (612).JPG  \n",
            "  inflating: maize_leaf_data/data/Common_Rust/Corn_Common_Rust (613).JPG  \n",
            "  inflating: maize_leaf_data/data/Common_Rust/Corn_Common_Rust (614).JPG  \n",
            "  inflating: maize_leaf_data/data/Common_Rust/Corn_Common_Rust (615).JPG  \n",
            "  inflating: maize_leaf_data/data/Common_Rust/Corn_Common_Rust (616).JPG  \n",
            "  inflating: maize_leaf_data/data/Common_Rust/Corn_Common_Rust (617).JPG  \n",
            "  inflating: maize_leaf_data/data/Common_Rust/Corn_Common_Rust (618).JPG  \n",
            "  inflating: maize_leaf_data/data/Common_Rust/Corn_Common_Rust (619).JPG  \n",
            "  inflating: maize_leaf_data/data/Common_Rust/Corn_Common_Rust (62).jpg  \n",
            "  inflating: maize_leaf_data/data/Common_Rust/Corn_Common_Rust (620).JPG  \n",
            "  inflating: maize_leaf_data/data/Common_Rust/Corn_Common_Rust (621).JPG  \n",
            "  inflating: maize_leaf_data/data/Common_Rust/Corn_Common_Rust (622).JPG  \n",
            "  inflating: maize_leaf_data/data/Common_Rust/Corn_Common_Rust (623).JPG  \n",
            "  inflating: maize_leaf_data/data/Common_Rust/Corn_Common_Rust (624).JPG  \n",
            "  inflating: maize_leaf_data/data/Common_Rust/Corn_Common_Rust (625).JPG  \n",
            "  inflating: maize_leaf_data/data/Common_Rust/Corn_Common_Rust (626).JPG  \n",
            "  inflating: maize_leaf_data/data/Common_Rust/Corn_Common_Rust (627).JPG  \n",
            "  inflating: maize_leaf_data/data/Common_Rust/Corn_Common_Rust (628).JPG  \n",
            "  inflating: maize_leaf_data/data/Common_Rust/Corn_Common_Rust (629).JPG  \n",
            "  inflating: maize_leaf_data/data/Common_Rust/Corn_Common_Rust (63).jpg  \n",
            "  inflating: maize_leaf_data/data/Common_Rust/Corn_Common_Rust (630).JPG  \n",
            "  inflating: maize_leaf_data/data/Common_Rust/Corn_Common_Rust (631).JPG  \n",
            "  inflating: maize_leaf_data/data/Common_Rust/Corn_Common_Rust (632).JPG  \n",
            "  inflating: maize_leaf_data/data/Common_Rust/Corn_Common_Rust (633).JPG  \n",
            "  inflating: maize_leaf_data/data/Common_Rust/Corn_Common_Rust (634).JPG  \n",
            "  inflating: maize_leaf_data/data/Common_Rust/Corn_Common_Rust (635).JPG  \n",
            "  inflating: maize_leaf_data/data/Common_Rust/Corn_Common_Rust (636).JPG  \n",
            "  inflating: maize_leaf_data/data/Common_Rust/Corn_Common_Rust (637).JPG  \n",
            "  inflating: maize_leaf_data/data/Common_Rust/Corn_Common_Rust (638).JPG  \n",
            "  inflating: maize_leaf_data/data/Common_Rust/Corn_Common_Rust (639).JPG  \n",
            "  inflating: maize_leaf_data/data/Common_Rust/Corn_Common_Rust (64).jpg  \n",
            "  inflating: maize_leaf_data/data/Common_Rust/Corn_Common_Rust (640).JPG  \n",
            "  inflating: maize_leaf_data/data/Common_Rust/Corn_Common_Rust (641).JPG  \n",
            "  inflating: maize_leaf_data/data/Common_Rust/Corn_Common_Rust (642).JPG  \n",
            "  inflating: maize_leaf_data/data/Common_Rust/Corn_Common_Rust (643).JPG  \n",
            "  inflating: maize_leaf_data/data/Common_Rust/Corn_Common_Rust (644).JPG  \n",
            "  inflating: maize_leaf_data/data/Common_Rust/Corn_Common_Rust (645).JPG  \n",
            "  inflating: maize_leaf_data/data/Common_Rust/Corn_Common_Rust (646).JPG  \n",
            "  inflating: maize_leaf_data/data/Common_Rust/Corn_Common_Rust (647).JPG  \n",
            "  inflating: maize_leaf_data/data/Common_Rust/Corn_Common_Rust (648).JPG  \n",
            "  inflating: maize_leaf_data/data/Common_Rust/Corn_Common_Rust (649).JPG  \n",
            "  inflating: maize_leaf_data/data/Common_Rust/Corn_Common_Rust (65).jpg  \n",
            "  inflating: maize_leaf_data/data/Common_Rust/Corn_Common_Rust (650).JPG  \n",
            "  inflating: maize_leaf_data/data/Common_Rust/Corn_Common_Rust (651).JPG  \n",
            "  inflating: maize_leaf_data/data/Common_Rust/Corn_Common_Rust (652).JPG  \n",
            "  inflating: maize_leaf_data/data/Common_Rust/Corn_Common_Rust (653).JPG  \n",
            "  inflating: maize_leaf_data/data/Common_Rust/Corn_Common_Rust (654).JPG  \n",
            "  inflating: maize_leaf_data/data/Common_Rust/Corn_Common_Rust (655).JPG  \n",
            "  inflating: maize_leaf_data/data/Common_Rust/Corn_Common_Rust (656).JPG  \n",
            "  inflating: maize_leaf_data/data/Common_Rust/Corn_Common_Rust (657).JPG  \n",
            "  inflating: maize_leaf_data/data/Common_Rust/Corn_Common_Rust (658).JPG  \n",
            "  inflating: maize_leaf_data/data/Common_Rust/Corn_Common_Rust (659).JPG  \n",
            "  inflating: maize_leaf_data/data/Common_Rust/Corn_Common_Rust (66).jpg  \n",
            "  inflating: maize_leaf_data/data/Common_Rust/Corn_Common_Rust (660).JPG  \n",
            "  inflating: maize_leaf_data/data/Common_Rust/Corn_Common_Rust (661).JPG  \n",
            "  inflating: maize_leaf_data/data/Common_Rust/Corn_Common_Rust (662).JPG  \n",
            "  inflating: maize_leaf_data/data/Common_Rust/Corn_Common_Rust (663).JPG  \n",
            "  inflating: maize_leaf_data/data/Common_Rust/Corn_Common_Rust (664).JPG  \n",
            "  inflating: maize_leaf_data/data/Common_Rust/Corn_Common_Rust (665).JPG  \n",
            "  inflating: maize_leaf_data/data/Common_Rust/Corn_Common_Rust (666).JPG  \n",
            "  inflating: maize_leaf_data/data/Common_Rust/Corn_Common_Rust (667).JPG  \n",
            "  inflating: maize_leaf_data/data/Common_Rust/Corn_Common_Rust (668).JPG  \n",
            "  inflating: maize_leaf_data/data/Common_Rust/Corn_Common_Rust (669).JPG  \n",
            "  inflating: maize_leaf_data/data/Common_Rust/Corn_Common_Rust (67).jpg  \n",
            "  inflating: maize_leaf_data/data/Common_Rust/Corn_Common_Rust (670).JPG  \n",
            "  inflating: maize_leaf_data/data/Common_Rust/Corn_Common_Rust (671).JPG  \n",
            "  inflating: maize_leaf_data/data/Common_Rust/Corn_Common_Rust (672).JPG  \n",
            "  inflating: maize_leaf_data/data/Common_Rust/Corn_Common_Rust (673).JPG  \n",
            "  inflating: maize_leaf_data/data/Common_Rust/Corn_Common_Rust (674).JPG  \n",
            "  inflating: maize_leaf_data/data/Common_Rust/Corn_Common_Rust (675).JPG  \n",
            "  inflating: maize_leaf_data/data/Common_Rust/Corn_Common_Rust (676).JPG  \n",
            "  inflating: maize_leaf_data/data/Common_Rust/Corn_Common_Rust (677).JPG  \n",
            "  inflating: maize_leaf_data/data/Common_Rust/Corn_Common_Rust (678).JPG  \n",
            "  inflating: maize_leaf_data/data/Common_Rust/Corn_Common_Rust (679).JPG  \n",
            "  inflating: maize_leaf_data/data/Common_Rust/Corn_Common_Rust (68).jpg  \n",
            "  inflating: maize_leaf_data/data/Common_Rust/Corn_Common_Rust (680).JPG  \n",
            "  inflating: maize_leaf_data/data/Common_Rust/Corn_Common_Rust (681).JPG  \n",
            "  inflating: maize_leaf_data/data/Common_Rust/Corn_Common_Rust (682).JPG  \n",
            "  inflating: maize_leaf_data/data/Common_Rust/Corn_Common_Rust (683).JPG  \n",
            "  inflating: maize_leaf_data/data/Common_Rust/Corn_Common_Rust (684).JPG  \n",
            "  inflating: maize_leaf_data/data/Common_Rust/Corn_Common_Rust (685).JPG  \n",
            "  inflating: maize_leaf_data/data/Common_Rust/Corn_Common_Rust (686).JPG  \n",
            "  inflating: maize_leaf_data/data/Common_Rust/Corn_Common_Rust (687).JPG  \n",
            "  inflating: maize_leaf_data/data/Common_Rust/Corn_Common_Rust (688).JPG  \n",
            "  inflating: maize_leaf_data/data/Common_Rust/Corn_Common_Rust (689).JPG  \n",
            "  inflating: maize_leaf_data/data/Common_Rust/Corn_Common_Rust (69).jpg  \n",
            "  inflating: maize_leaf_data/data/Common_Rust/Corn_Common_Rust (690).JPG  \n",
            "  inflating: maize_leaf_data/data/Common_Rust/Corn_Common_Rust (691).JPG  \n",
            "  inflating: maize_leaf_data/data/Common_Rust/Corn_Common_Rust (692).JPG  \n",
            "  inflating: maize_leaf_data/data/Common_Rust/Corn_Common_Rust (693).JPG  \n",
            "  inflating: maize_leaf_data/data/Common_Rust/Corn_Common_Rust (694).JPG  \n",
            "  inflating: maize_leaf_data/data/Common_Rust/Corn_Common_Rust (695).JPG  \n",
            "  inflating: maize_leaf_data/data/Common_Rust/Corn_Common_Rust (696).JPG  \n",
            "  inflating: maize_leaf_data/data/Common_Rust/Corn_Common_Rust (697).JPG  \n",
            "  inflating: maize_leaf_data/data/Common_Rust/Corn_Common_Rust (698).JPG  \n",
            "  inflating: maize_leaf_data/data/Common_Rust/Corn_Common_Rust (699).JPG  \n",
            "  inflating: maize_leaf_data/data/Common_Rust/Corn_Common_Rust (7).jpg  \n",
            "  inflating: maize_leaf_data/data/Common_Rust/Corn_Common_Rust (70).jpg  \n",
            "  inflating: maize_leaf_data/data/Common_Rust/Corn_Common_Rust (700).JPG  \n",
            "  inflating: maize_leaf_data/data/Common_Rust/Corn_Common_Rust (701).JPG  \n",
            "  inflating: maize_leaf_data/data/Common_Rust/Corn_Common_Rust (702).JPG  \n",
            "  inflating: maize_leaf_data/data/Common_Rust/Corn_Common_Rust (703).JPG  \n",
            "  inflating: maize_leaf_data/data/Common_Rust/Corn_Common_Rust (704).JPG  \n",
            "  inflating: maize_leaf_data/data/Common_Rust/Corn_Common_Rust (705).JPG  \n",
            "  inflating: maize_leaf_data/data/Common_Rust/Corn_Common_Rust (706).JPG  \n",
            "  inflating: maize_leaf_data/data/Common_Rust/Corn_Common_Rust (707).JPG  \n",
            "  inflating: maize_leaf_data/data/Common_Rust/Corn_Common_Rust (708).JPG  \n",
            "  inflating: maize_leaf_data/data/Common_Rust/Corn_Common_Rust (709).JPG  \n",
            "  inflating: maize_leaf_data/data/Common_Rust/Corn_Common_Rust (71).jpg  \n",
            "  inflating: maize_leaf_data/data/Common_Rust/Corn_Common_Rust (710).JPG  \n",
            "  inflating: maize_leaf_data/data/Common_Rust/Corn_Common_Rust (711).JPG  \n",
            "  inflating: maize_leaf_data/data/Common_Rust/Corn_Common_Rust (712).JPG  \n",
            "  inflating: maize_leaf_data/data/Common_Rust/Corn_Common_Rust (713).JPG  \n",
            "  inflating: maize_leaf_data/data/Common_Rust/Corn_Common_Rust (714).JPG  \n",
            "  inflating: maize_leaf_data/data/Common_Rust/Corn_Common_Rust (715).JPG  \n",
            "  inflating: maize_leaf_data/data/Common_Rust/Corn_Common_Rust (716).JPG  \n",
            "  inflating: maize_leaf_data/data/Common_Rust/Corn_Common_Rust (717).JPG  \n",
            "  inflating: maize_leaf_data/data/Common_Rust/Corn_Common_Rust (718).JPG  \n",
            "  inflating: maize_leaf_data/data/Common_Rust/Corn_Common_Rust (719).JPG  \n",
            "  inflating: maize_leaf_data/data/Common_Rust/Corn_Common_Rust (72).JPG  \n",
            "  inflating: maize_leaf_data/data/Common_Rust/Corn_Common_Rust (720).JPG  \n",
            "  inflating: maize_leaf_data/data/Common_Rust/Corn_Common_Rust (721).JPG  \n",
            "  inflating: maize_leaf_data/data/Common_Rust/Corn_Common_Rust (722).JPG  \n",
            "  inflating: maize_leaf_data/data/Common_Rust/Corn_Common_Rust (723).JPG  \n",
            "  inflating: maize_leaf_data/data/Common_Rust/Corn_Common_Rust (724).JPG  \n",
            "  inflating: maize_leaf_data/data/Common_Rust/Corn_Common_Rust (725).JPG  \n",
            "  inflating: maize_leaf_data/data/Common_Rust/Corn_Common_Rust (726).JPG  \n",
            "  inflating: maize_leaf_data/data/Common_Rust/Corn_Common_Rust (727).JPG  \n",
            "  inflating: maize_leaf_data/data/Common_Rust/Corn_Common_Rust (728).JPG  \n",
            "  inflating: maize_leaf_data/data/Common_Rust/Corn_Common_Rust (729).JPG  \n",
            "  inflating: maize_leaf_data/data/Common_Rust/Corn_Common_Rust (73).JPG  \n",
            "  inflating: maize_leaf_data/data/Common_Rust/Corn_Common_Rust (730).JPG  \n",
            "  inflating: maize_leaf_data/data/Common_Rust/Corn_Common_Rust (731).JPG  \n",
            "  inflating: maize_leaf_data/data/Common_Rust/Corn_Common_Rust (732).JPG  \n",
            "  inflating: maize_leaf_data/data/Common_Rust/Corn_Common_Rust (733).JPG  \n",
            "  inflating: maize_leaf_data/data/Common_Rust/Corn_Common_Rust (734).JPG  \n",
            "  inflating: maize_leaf_data/data/Common_Rust/Corn_Common_Rust (735).JPG  \n",
            "  inflating: maize_leaf_data/data/Common_Rust/Corn_Common_Rust (736).JPG  \n",
            "  inflating: maize_leaf_data/data/Common_Rust/Corn_Common_Rust (737).JPG  \n",
            "  inflating: maize_leaf_data/data/Common_Rust/Corn_Common_Rust (738).JPG  \n",
            "  inflating: maize_leaf_data/data/Common_Rust/Corn_Common_Rust (739).JPG  \n",
            "  inflating: maize_leaf_data/data/Common_Rust/Corn_Common_Rust (74).JPG  \n",
            "  inflating: maize_leaf_data/data/Common_Rust/Corn_Common_Rust (740).JPG  \n",
            "  inflating: maize_leaf_data/data/Common_Rust/Corn_Common_Rust (741).JPG  \n",
            "  inflating: maize_leaf_data/data/Common_Rust/Corn_Common_Rust (742).JPG  \n",
            "  inflating: maize_leaf_data/data/Common_Rust/Corn_Common_Rust (743).JPG  \n",
            "  inflating: maize_leaf_data/data/Common_Rust/Corn_Common_Rust (744).JPG  \n",
            "  inflating: maize_leaf_data/data/Common_Rust/Corn_Common_Rust (745).JPG  \n",
            "  inflating: maize_leaf_data/data/Common_Rust/Corn_Common_Rust (746).JPG  \n",
            "  inflating: maize_leaf_data/data/Common_Rust/Corn_Common_Rust (747).JPG  \n",
            "  inflating: maize_leaf_data/data/Common_Rust/Corn_Common_Rust (748).JPG  \n",
            "  inflating: maize_leaf_data/data/Common_Rust/Corn_Common_Rust (749).JPG  \n",
            "  inflating: maize_leaf_data/data/Common_Rust/Corn_Common_Rust (75).JPG  \n",
            "  inflating: maize_leaf_data/data/Common_Rust/Corn_Common_Rust (750).JPG  \n",
            "  inflating: maize_leaf_data/data/Common_Rust/Corn_Common_Rust (751).JPG  \n",
            "  inflating: maize_leaf_data/data/Common_Rust/Corn_Common_Rust (752).JPG  \n",
            "  inflating: maize_leaf_data/data/Common_Rust/Corn_Common_Rust (753).JPG  \n",
            "  inflating: maize_leaf_data/data/Common_Rust/Corn_Common_Rust (754).JPG  \n",
            "  inflating: maize_leaf_data/data/Common_Rust/Corn_Common_Rust (755).JPG  \n",
            "  inflating: maize_leaf_data/data/Common_Rust/Corn_Common_Rust (756).JPG  \n",
            "  inflating: maize_leaf_data/data/Common_Rust/Corn_Common_Rust (757).JPG  \n",
            "  inflating: maize_leaf_data/data/Common_Rust/Corn_Common_Rust (758).JPG  \n",
            "  inflating: maize_leaf_data/data/Common_Rust/Corn_Common_Rust (759).JPG  \n",
            "  inflating: maize_leaf_data/data/Common_Rust/Corn_Common_Rust (76).JPG  \n",
            "  inflating: maize_leaf_data/data/Common_Rust/Corn_Common_Rust (760).JPG  \n",
            "  inflating: maize_leaf_data/data/Common_Rust/Corn_Common_Rust (761).JPG  \n",
            "  inflating: maize_leaf_data/data/Common_Rust/Corn_Common_Rust (762).JPG  \n",
            "  inflating: maize_leaf_data/data/Common_Rust/Corn_Common_Rust (763).JPG  \n",
            "  inflating: maize_leaf_data/data/Common_Rust/Corn_Common_Rust (764).JPG  \n",
            "  inflating: maize_leaf_data/data/Common_Rust/Corn_Common_Rust (765).JPG  \n",
            "  inflating: maize_leaf_data/data/Common_Rust/Corn_Common_Rust (766).JPG  \n",
            "  inflating: maize_leaf_data/data/Common_Rust/Corn_Common_Rust (767).JPG  \n",
            "  inflating: maize_leaf_data/data/Common_Rust/Corn_Common_Rust (768).JPG  \n",
            "  inflating: maize_leaf_data/data/Common_Rust/Corn_Common_Rust (769).JPG  \n",
            "  inflating: maize_leaf_data/data/Common_Rust/Corn_Common_Rust (77).JPG  \n",
            "  inflating: maize_leaf_data/data/Common_Rust/Corn_Common_Rust (770).JPG  \n",
            "  inflating: maize_leaf_data/data/Common_Rust/Corn_Common_Rust (771).JPG  \n",
            "  inflating: maize_leaf_data/data/Common_Rust/Corn_Common_Rust (772).JPG  \n",
            "  inflating: maize_leaf_data/data/Common_Rust/Corn_Common_Rust (773).JPG  \n",
            "  inflating: maize_leaf_data/data/Common_Rust/Corn_Common_Rust (774).JPG  \n",
            "  inflating: maize_leaf_data/data/Common_Rust/Corn_Common_Rust (775).JPG  \n",
            "  inflating: maize_leaf_data/data/Common_Rust/Corn_Common_Rust (776).JPG  \n",
            "  inflating: maize_leaf_data/data/Common_Rust/Corn_Common_Rust (777).JPG  \n",
            "  inflating: maize_leaf_data/data/Common_Rust/Corn_Common_Rust (778).JPG  \n",
            "  inflating: maize_leaf_data/data/Common_Rust/Corn_Common_Rust (779).JPG  \n",
            "  inflating: maize_leaf_data/data/Common_Rust/Corn_Common_Rust (78).JPG  \n",
            "  inflating: maize_leaf_data/data/Common_Rust/Corn_Common_Rust (780).JPG  \n",
            "  inflating: maize_leaf_data/data/Common_Rust/Corn_Common_Rust (781).JPG  \n",
            "  inflating: maize_leaf_data/data/Common_Rust/Corn_Common_Rust (782).JPG  \n",
            "  inflating: maize_leaf_data/data/Common_Rust/Corn_Common_Rust (783).JPG  \n",
            "  inflating: maize_leaf_data/data/Common_Rust/Corn_Common_Rust (784).JPG  \n",
            "  inflating: maize_leaf_data/data/Common_Rust/Corn_Common_Rust (785).JPG  \n",
            "  inflating: maize_leaf_data/data/Common_Rust/Corn_Common_Rust (786).JPG  \n",
            "  inflating: maize_leaf_data/data/Common_Rust/Corn_Common_Rust (787).JPG  \n",
            "  inflating: maize_leaf_data/data/Common_Rust/Corn_Common_Rust (788).JPG  \n",
            "  inflating: maize_leaf_data/data/Common_Rust/Corn_Common_Rust (789).JPG  \n",
            "  inflating: maize_leaf_data/data/Common_Rust/Corn_Common_Rust (79).JPG  \n",
            "  inflating: maize_leaf_data/data/Common_Rust/Corn_Common_Rust (790).JPG  \n",
            "  inflating: maize_leaf_data/data/Common_Rust/Corn_Common_Rust (791).JPG  \n",
            "  inflating: maize_leaf_data/data/Common_Rust/Corn_Common_Rust (792).JPG  \n",
            "  inflating: maize_leaf_data/data/Common_Rust/Corn_Common_Rust (793).JPG  \n",
            "  inflating: maize_leaf_data/data/Common_Rust/Corn_Common_Rust (794).JPG  \n",
            "  inflating: maize_leaf_data/data/Common_Rust/Corn_Common_Rust (795).JPG  \n",
            "  inflating: maize_leaf_data/data/Common_Rust/Corn_Common_Rust (796).JPG  \n",
            "  inflating: maize_leaf_data/data/Common_Rust/Corn_Common_Rust (797).JPG  \n",
            "  inflating: maize_leaf_data/data/Common_Rust/Corn_Common_Rust (798).JPG  \n",
            "  inflating: maize_leaf_data/data/Common_Rust/Corn_Common_Rust (799).JPG  \n",
            "  inflating: maize_leaf_data/data/Common_Rust/Corn_Common_Rust (8).jpg  \n",
            "  inflating: maize_leaf_data/data/Common_Rust/Corn_Common_Rust (80).JPG  \n",
            "  inflating: maize_leaf_data/data/Common_Rust/Corn_Common_Rust (800).JPG  \n",
            "  inflating: maize_leaf_data/data/Common_Rust/Corn_Common_Rust (801).JPG  \n",
            "  inflating: maize_leaf_data/data/Common_Rust/Corn_Common_Rust (802).JPG  \n",
            "  inflating: maize_leaf_data/data/Common_Rust/Corn_Common_Rust (803).JPG  \n",
            "  inflating: maize_leaf_data/data/Common_Rust/Corn_Common_Rust (804).JPG  \n",
            "  inflating: maize_leaf_data/data/Common_Rust/Corn_Common_Rust (805).JPG  \n",
            "  inflating: maize_leaf_data/data/Common_Rust/Corn_Common_Rust (806).JPG  \n",
            "  inflating: maize_leaf_data/data/Common_Rust/Corn_Common_Rust (807).JPG  \n",
            "  inflating: maize_leaf_data/data/Common_Rust/Corn_Common_Rust (808).JPG  \n",
            "  inflating: maize_leaf_data/data/Common_Rust/Corn_Common_Rust (809).JPG  \n",
            "  inflating: maize_leaf_data/data/Common_Rust/Corn_Common_Rust (81).JPG  \n",
            "  inflating: maize_leaf_data/data/Common_Rust/Corn_Common_Rust (810).JPG  \n",
            "  inflating: maize_leaf_data/data/Common_Rust/Corn_Common_Rust (811).JPG  \n",
            "  inflating: maize_leaf_data/data/Common_Rust/Corn_Common_Rust (812).JPG  \n",
            "  inflating: maize_leaf_data/data/Common_Rust/Corn_Common_Rust (813).JPG  \n",
            "  inflating: maize_leaf_data/data/Common_Rust/Corn_Common_Rust (814).JPG  \n",
            "  inflating: maize_leaf_data/data/Common_Rust/Corn_Common_Rust (815).JPG  \n",
            "  inflating: maize_leaf_data/data/Common_Rust/Corn_Common_Rust (816).JPG  \n",
            "  inflating: maize_leaf_data/data/Common_Rust/Corn_Common_Rust (817).JPG  \n",
            "  inflating: maize_leaf_data/data/Common_Rust/Corn_Common_Rust (818).JPG  \n",
            "  inflating: maize_leaf_data/data/Common_Rust/Corn_Common_Rust (819).JPG  \n",
            "  inflating: maize_leaf_data/data/Common_Rust/Corn_Common_Rust (82).JPG  \n",
            "  inflating: maize_leaf_data/data/Common_Rust/Corn_Common_Rust (820).JPG  \n",
            "  inflating: maize_leaf_data/data/Common_Rust/Corn_Common_Rust (821).JPG  \n",
            "  inflating: maize_leaf_data/data/Common_Rust/Corn_Common_Rust (822).JPG  \n",
            "  inflating: maize_leaf_data/data/Common_Rust/Corn_Common_Rust (823).JPG  \n",
            "  inflating: maize_leaf_data/data/Common_Rust/Corn_Common_Rust (824).JPG  \n",
            "  inflating: maize_leaf_data/data/Common_Rust/Corn_Common_Rust (825).JPG  \n",
            "  inflating: maize_leaf_data/data/Common_Rust/Corn_Common_Rust (826).JPG  \n",
            "  inflating: maize_leaf_data/data/Common_Rust/Corn_Common_Rust (827).JPG  \n",
            "  inflating: maize_leaf_data/data/Common_Rust/Corn_Common_Rust (828).JPG  \n",
            "  inflating: maize_leaf_data/data/Common_Rust/Corn_Common_Rust (829).JPG  \n",
            "  inflating: maize_leaf_data/data/Common_Rust/Corn_Common_Rust (83).JPG  \n",
            "  inflating: maize_leaf_data/data/Common_Rust/Corn_Common_Rust (830).JPG  \n",
            "  inflating: maize_leaf_data/data/Common_Rust/Corn_Common_Rust (831).JPG  \n",
            "  inflating: maize_leaf_data/data/Common_Rust/Corn_Common_Rust (832).JPG  \n",
            "  inflating: maize_leaf_data/data/Common_Rust/Corn_Common_Rust (833).JPG  \n",
            "  inflating: maize_leaf_data/data/Common_Rust/Corn_Common_Rust (834).JPG  \n",
            "  inflating: maize_leaf_data/data/Common_Rust/Corn_Common_Rust (835).JPG  \n",
            "  inflating: maize_leaf_data/data/Common_Rust/Corn_Common_Rust (836).JPG  \n",
            "  inflating: maize_leaf_data/data/Common_Rust/Corn_Common_Rust (837).JPG  \n",
            "  inflating: maize_leaf_data/data/Common_Rust/Corn_Common_Rust (838).JPG  \n",
            "  inflating: maize_leaf_data/data/Common_Rust/Corn_Common_Rust (839).JPG  \n",
            "  inflating: maize_leaf_data/data/Common_Rust/Corn_Common_Rust (84).JPG  \n",
            "  inflating: maize_leaf_data/data/Common_Rust/Corn_Common_Rust (840).JPG  \n",
            "  inflating: maize_leaf_data/data/Common_Rust/Corn_Common_Rust (841).JPG  \n",
            "  inflating: maize_leaf_data/data/Common_Rust/Corn_Common_Rust (842).JPG  \n",
            "  inflating: maize_leaf_data/data/Common_Rust/Corn_Common_Rust (843).JPG  \n",
            "  inflating: maize_leaf_data/data/Common_Rust/Corn_Common_Rust (844).JPG  \n",
            "  inflating: maize_leaf_data/data/Common_Rust/Corn_Common_Rust (845).JPG  \n",
            "  inflating: maize_leaf_data/data/Common_Rust/Corn_Common_Rust (846).JPG  \n",
            "  inflating: maize_leaf_data/data/Common_Rust/Corn_Common_Rust (847).JPG  \n",
            "  inflating: maize_leaf_data/data/Common_Rust/Corn_Common_Rust (848).JPG  \n",
            "  inflating: maize_leaf_data/data/Common_Rust/Corn_Common_Rust (849).JPG  \n",
            "  inflating: maize_leaf_data/data/Common_Rust/Corn_Common_Rust (85).JPG  \n",
            "  inflating: maize_leaf_data/data/Common_Rust/Corn_Common_Rust (850).JPG  \n",
            "  inflating: maize_leaf_data/data/Common_Rust/Corn_Common_Rust (851).JPG  \n",
            "  inflating: maize_leaf_data/data/Common_Rust/Corn_Common_Rust (852).JPG  \n",
            "  inflating: maize_leaf_data/data/Common_Rust/Corn_Common_Rust (853).JPG  \n",
            "  inflating: maize_leaf_data/data/Common_Rust/Corn_Common_Rust (854).JPG  \n",
            "  inflating: maize_leaf_data/data/Common_Rust/Corn_Common_Rust (855).JPG  \n",
            "  inflating: maize_leaf_data/data/Common_Rust/Corn_Common_Rust (856).JPG  \n",
            "  inflating: maize_leaf_data/data/Common_Rust/Corn_Common_Rust (857).JPG  \n",
            "  inflating: maize_leaf_data/data/Common_Rust/Corn_Common_Rust (858).JPG  \n",
            "  inflating: maize_leaf_data/data/Common_Rust/Corn_Common_Rust (859).JPG  \n",
            "  inflating: maize_leaf_data/data/Common_Rust/Corn_Common_Rust (86).JPG  \n",
            "  inflating: maize_leaf_data/data/Common_Rust/Corn_Common_Rust (860).JPG  \n",
            "  inflating: maize_leaf_data/data/Common_Rust/Corn_Common_Rust (861).JPG  \n",
            "  inflating: maize_leaf_data/data/Common_Rust/Corn_Common_Rust (862).JPG  \n",
            "  inflating: maize_leaf_data/data/Common_Rust/Corn_Common_Rust (863).JPG  \n",
            "  inflating: maize_leaf_data/data/Common_Rust/Corn_Common_Rust (864).JPG  \n",
            "  inflating: maize_leaf_data/data/Common_Rust/Corn_Common_Rust (865).JPG  \n",
            "  inflating: maize_leaf_data/data/Common_Rust/Corn_Common_Rust (866).JPG  \n",
            "  inflating: maize_leaf_data/data/Common_Rust/Corn_Common_Rust (867).JPG  \n",
            "  inflating: maize_leaf_data/data/Common_Rust/Corn_Common_Rust (868).JPG  \n",
            "  inflating: maize_leaf_data/data/Common_Rust/Corn_Common_Rust (869).JPG  \n",
            "  inflating: maize_leaf_data/data/Common_Rust/Corn_Common_Rust (87).JPG  \n",
            "  inflating: maize_leaf_data/data/Common_Rust/Corn_Common_Rust (870).JPG  \n",
            "  inflating: maize_leaf_data/data/Common_Rust/Corn_Common_Rust (871).JPG  \n",
            "  inflating: maize_leaf_data/data/Common_Rust/Corn_Common_Rust (872).JPG  \n",
            "  inflating: maize_leaf_data/data/Common_Rust/Corn_Common_Rust (873).JPG  \n",
            "  inflating: maize_leaf_data/data/Common_Rust/Corn_Common_Rust (874).JPG  \n",
            "  inflating: maize_leaf_data/data/Common_Rust/Corn_Common_Rust (875).JPG  \n",
            "  inflating: maize_leaf_data/data/Common_Rust/Corn_Common_Rust (876).JPG  \n",
            "  inflating: maize_leaf_data/data/Common_Rust/Corn_Common_Rust (877).JPG  \n",
            "  inflating: maize_leaf_data/data/Common_Rust/Corn_Common_Rust (878).JPG  \n",
            "  inflating: maize_leaf_data/data/Common_Rust/Corn_Common_Rust (879).JPG  \n",
            "  inflating: maize_leaf_data/data/Common_Rust/Corn_Common_Rust (88).JPG  \n",
            "  inflating: maize_leaf_data/data/Common_Rust/Corn_Common_Rust (880).JPG  \n",
            "  inflating: maize_leaf_data/data/Common_Rust/Corn_Common_Rust (881).JPG  \n",
            "  inflating: maize_leaf_data/data/Common_Rust/Corn_Common_Rust (882).JPG  \n",
            "  inflating: maize_leaf_data/data/Common_Rust/Corn_Common_Rust (883).JPG  \n",
            "  inflating: maize_leaf_data/data/Common_Rust/Corn_Common_Rust (884).JPG  \n",
            "  inflating: maize_leaf_data/data/Common_Rust/Corn_Common_Rust (885).JPG  \n",
            "  inflating: maize_leaf_data/data/Common_Rust/Corn_Common_Rust (886).JPG  \n",
            "  inflating: maize_leaf_data/data/Common_Rust/Corn_Common_Rust (887).JPG  \n",
            "  inflating: maize_leaf_data/data/Common_Rust/Corn_Common_Rust (888).JPG  \n",
            "  inflating: maize_leaf_data/data/Common_Rust/Corn_Common_Rust (889).JPG  \n",
            "  inflating: maize_leaf_data/data/Common_Rust/Corn_Common_Rust (89).JPG  \n",
            "  inflating: maize_leaf_data/data/Common_Rust/Corn_Common_Rust (890).JPG  \n",
            "  inflating: maize_leaf_data/data/Common_Rust/Corn_Common_Rust (891).JPG  \n",
            "  inflating: maize_leaf_data/data/Common_Rust/Corn_Common_Rust (892).JPG  \n",
            "  inflating: maize_leaf_data/data/Common_Rust/Corn_Common_Rust (893).JPG  \n",
            "  inflating: maize_leaf_data/data/Common_Rust/Corn_Common_Rust (894).JPG  \n",
            "  inflating: maize_leaf_data/data/Common_Rust/Corn_Common_Rust (895).JPG  \n",
            "  inflating: maize_leaf_data/data/Common_Rust/Corn_Common_Rust (896).JPG  \n",
            "  inflating: maize_leaf_data/data/Common_Rust/Corn_Common_Rust (897).JPG  \n",
            "  inflating: maize_leaf_data/data/Common_Rust/Corn_Common_Rust (898).JPG  \n",
            "  inflating: maize_leaf_data/data/Common_Rust/Corn_Common_Rust (899).JPG  \n",
            "  inflating: maize_leaf_data/data/Common_Rust/Corn_Common_Rust (9).jpg  \n",
            "  inflating: maize_leaf_data/data/Common_Rust/Corn_Common_Rust (90).JPG  \n",
            "  inflating: maize_leaf_data/data/Common_Rust/Corn_Common_Rust (900).JPG  \n",
            "  inflating: maize_leaf_data/data/Common_Rust/Corn_Common_Rust (901).JPG  \n",
            "  inflating: maize_leaf_data/data/Common_Rust/Corn_Common_Rust (902).JPG  \n",
            "  inflating: maize_leaf_data/data/Common_Rust/Corn_Common_Rust (903).JPG  \n",
            "  inflating: maize_leaf_data/data/Common_Rust/Corn_Common_Rust (904).JPG  \n",
            "  inflating: maize_leaf_data/data/Common_Rust/Corn_Common_Rust (905).JPG  \n",
            "  inflating: maize_leaf_data/data/Common_Rust/Corn_Common_Rust (906).JPG  \n",
            "  inflating: maize_leaf_data/data/Common_Rust/Corn_Common_Rust (907).JPG  \n",
            "  inflating: maize_leaf_data/data/Common_Rust/Corn_Common_Rust (908).JPG  \n",
            "  inflating: maize_leaf_data/data/Common_Rust/Corn_Common_Rust (909).JPG  \n",
            "  inflating: maize_leaf_data/data/Common_Rust/Corn_Common_Rust (91).JPG  \n",
            "  inflating: maize_leaf_data/data/Common_Rust/Corn_Common_Rust (910).JPG  \n",
            "  inflating: maize_leaf_data/data/Common_Rust/Corn_Common_Rust (911).JPG  \n",
            "  inflating: maize_leaf_data/data/Common_Rust/Corn_Common_Rust (912).JPG  \n",
            "  inflating: maize_leaf_data/data/Common_Rust/Corn_Common_Rust (913).JPG  \n",
            "  inflating: maize_leaf_data/data/Common_Rust/Corn_Common_Rust (914).JPG  \n",
            "  inflating: maize_leaf_data/data/Common_Rust/Corn_Common_Rust (915).JPG  \n",
            "  inflating: maize_leaf_data/data/Common_Rust/Corn_Common_Rust (916).JPG  \n",
            "  inflating: maize_leaf_data/data/Common_Rust/Corn_Common_Rust (917).JPG  \n",
            "  inflating: maize_leaf_data/data/Common_Rust/Corn_Common_Rust (918).JPG  \n",
            "  inflating: maize_leaf_data/data/Common_Rust/Corn_Common_Rust (919).JPG  \n",
            "  inflating: maize_leaf_data/data/Common_Rust/Corn_Common_Rust (92).JPG  \n",
            "  inflating: maize_leaf_data/data/Common_Rust/Corn_Common_Rust (920).JPG  \n",
            "  inflating: maize_leaf_data/data/Common_Rust/Corn_Common_Rust (921).JPG  \n",
            "  inflating: maize_leaf_data/data/Common_Rust/Corn_Common_Rust (922).JPG  \n",
            "  inflating: maize_leaf_data/data/Common_Rust/Corn_Common_Rust (923).JPG  \n",
            "  inflating: maize_leaf_data/data/Common_Rust/Corn_Common_Rust (924).JPG  \n",
            "  inflating: maize_leaf_data/data/Common_Rust/Corn_Common_Rust (925).JPG  \n",
            "  inflating: maize_leaf_data/data/Common_Rust/Corn_Common_Rust (926).JPG  \n",
            "  inflating: maize_leaf_data/data/Common_Rust/Corn_Common_Rust (927).JPG  \n",
            "  inflating: maize_leaf_data/data/Common_Rust/Corn_Common_Rust (928).JPG  \n",
            "  inflating: maize_leaf_data/data/Common_Rust/Corn_Common_Rust (929).JPG  \n",
            "  inflating: maize_leaf_data/data/Common_Rust/Corn_Common_Rust (93).JPG  \n",
            "  inflating: maize_leaf_data/data/Common_Rust/Corn_Common_Rust (930).JPG  \n",
            "  inflating: maize_leaf_data/data/Common_Rust/Corn_Common_Rust (931).JPG  \n",
            "  inflating: maize_leaf_data/data/Common_Rust/Corn_Common_Rust (932).JPG  \n",
            "  inflating: maize_leaf_data/data/Common_Rust/Corn_Common_Rust (933).JPG  \n",
            "  inflating: maize_leaf_data/data/Common_Rust/Corn_Common_Rust (934).JPG  \n",
            "  inflating: maize_leaf_data/data/Common_Rust/Corn_Common_Rust (935).JPG  \n",
            "  inflating: maize_leaf_data/data/Common_Rust/Corn_Common_Rust (936).JPG  \n",
            "  inflating: maize_leaf_data/data/Common_Rust/Corn_Common_Rust (937).JPG  \n",
            "  inflating: maize_leaf_data/data/Common_Rust/Corn_Common_Rust (938).JPG  \n",
            "  inflating: maize_leaf_data/data/Common_Rust/Corn_Common_Rust (939).JPG  \n",
            "  inflating: maize_leaf_data/data/Common_Rust/Corn_Common_Rust (94).JPG  \n",
            "  inflating: maize_leaf_data/data/Common_Rust/Corn_Common_Rust (940).JPG  \n",
            "  inflating: maize_leaf_data/data/Common_Rust/Corn_Common_Rust (941).JPG  \n",
            "  inflating: maize_leaf_data/data/Common_Rust/Corn_Common_Rust (942).JPG  \n",
            "  inflating: maize_leaf_data/data/Common_Rust/Corn_Common_Rust (943).JPG  \n",
            "  inflating: maize_leaf_data/data/Common_Rust/Corn_Common_Rust (944).JPG  \n",
            "  inflating: maize_leaf_data/data/Common_Rust/Corn_Common_Rust (945).JPG  \n",
            "  inflating: maize_leaf_data/data/Common_Rust/Corn_Common_Rust (946).JPG  \n",
            "  inflating: maize_leaf_data/data/Common_Rust/Corn_Common_Rust (947).JPG  \n",
            "  inflating: maize_leaf_data/data/Common_Rust/Corn_Common_Rust (948).JPG  \n",
            "  inflating: maize_leaf_data/data/Common_Rust/Corn_Common_Rust (949).JPG  \n",
            "  inflating: maize_leaf_data/data/Common_Rust/Corn_Common_Rust (95).JPG  \n",
            "  inflating: maize_leaf_data/data/Common_Rust/Corn_Common_Rust (950).JPG  \n",
            "  inflating: maize_leaf_data/data/Common_Rust/Corn_Common_Rust (951).JPG  \n",
            "  inflating: maize_leaf_data/data/Common_Rust/Corn_Common_Rust (952).JPG  \n",
            "  inflating: maize_leaf_data/data/Common_Rust/Corn_Common_Rust (953).JPG  \n",
            "  inflating: maize_leaf_data/data/Common_Rust/Corn_Common_Rust (954).JPG  \n",
            "  inflating: maize_leaf_data/data/Common_Rust/Corn_Common_Rust (955).JPG  \n",
            "  inflating: maize_leaf_data/data/Common_Rust/Corn_Common_Rust (956).JPG  \n",
            "  inflating: maize_leaf_data/data/Common_Rust/Corn_Common_Rust (957).JPG  \n",
            "  inflating: maize_leaf_data/data/Common_Rust/Corn_Common_Rust (958).JPG  \n",
            "  inflating: maize_leaf_data/data/Common_Rust/Corn_Common_Rust (959).JPG  \n",
            "  inflating: maize_leaf_data/data/Common_Rust/Corn_Common_Rust (96).JPG  \n",
            "  inflating: maize_leaf_data/data/Common_Rust/Corn_Common_Rust (960).JPG  \n",
            "  inflating: maize_leaf_data/data/Common_Rust/Corn_Common_Rust (961).JPG  \n",
            "  inflating: maize_leaf_data/data/Common_Rust/Corn_Common_Rust (962).JPG  \n",
            "  inflating: maize_leaf_data/data/Common_Rust/Corn_Common_Rust (963).JPG  \n",
            "  inflating: maize_leaf_data/data/Common_Rust/Corn_Common_Rust (964).JPG  \n",
            "  inflating: maize_leaf_data/data/Common_Rust/Corn_Common_Rust (965).JPG  \n",
            "  inflating: maize_leaf_data/data/Common_Rust/Corn_Common_Rust (966).JPG  \n",
            "  inflating: maize_leaf_data/data/Common_Rust/Corn_Common_Rust (967).JPG  \n",
            "  inflating: maize_leaf_data/data/Common_Rust/Corn_Common_Rust (968).JPG  \n",
            "  inflating: maize_leaf_data/data/Common_Rust/Corn_Common_Rust (969).JPG  \n",
            "  inflating: maize_leaf_data/data/Common_Rust/Corn_Common_Rust (97).JPG  \n",
            "  inflating: maize_leaf_data/data/Common_Rust/Corn_Common_Rust (970).JPG  \n",
            "  inflating: maize_leaf_data/data/Common_Rust/Corn_Common_Rust (971).JPG  \n",
            "  inflating: maize_leaf_data/data/Common_Rust/Corn_Common_Rust (972).JPG  \n",
            "  inflating: maize_leaf_data/data/Common_Rust/Corn_Common_Rust (973).JPG  \n",
            "  inflating: maize_leaf_data/data/Common_Rust/Corn_Common_Rust (974).JPG  \n",
            "  inflating: maize_leaf_data/data/Common_Rust/Corn_Common_Rust (975).JPG  \n",
            "  inflating: maize_leaf_data/data/Common_Rust/Corn_Common_Rust (976).JPG  \n",
            "  inflating: maize_leaf_data/data/Common_Rust/Corn_Common_Rust (977).JPG  \n",
            "  inflating: maize_leaf_data/data/Common_Rust/Corn_Common_Rust (978).JPG  \n",
            "  inflating: maize_leaf_data/data/Common_Rust/Corn_Common_Rust (979).JPG  \n",
            "  inflating: maize_leaf_data/data/Common_Rust/Corn_Common_Rust (98).JPG  \n",
            "  inflating: maize_leaf_data/data/Common_Rust/Corn_Common_Rust (980).JPG  \n",
            "  inflating: maize_leaf_data/data/Common_Rust/Corn_Common_Rust (981).JPG  \n",
            "  inflating: maize_leaf_data/data/Common_Rust/Corn_Common_Rust (982).JPG  \n",
            "  inflating: maize_leaf_data/data/Common_Rust/Corn_Common_Rust (983).JPG  \n",
            "  inflating: maize_leaf_data/data/Common_Rust/Corn_Common_Rust (984).JPG  \n",
            "  inflating: maize_leaf_data/data/Common_Rust/Corn_Common_Rust (985).JPG  \n",
            "  inflating: maize_leaf_data/data/Common_Rust/Corn_Common_Rust (986).JPG  \n",
            "  inflating: maize_leaf_data/data/Common_Rust/Corn_Common_Rust (987).JPG  \n",
            "  inflating: maize_leaf_data/data/Common_Rust/Corn_Common_Rust (988).JPG  \n",
            "  inflating: maize_leaf_data/data/Common_Rust/Corn_Common_Rust (989).JPG  \n",
            "  inflating: maize_leaf_data/data/Common_Rust/Corn_Common_Rust (99).JPG  \n",
            "  inflating: maize_leaf_data/data/Common_Rust/Corn_Common_Rust (990).JPG  \n",
            "  inflating: maize_leaf_data/data/Common_Rust/Corn_Common_Rust (991).JPG  \n",
            "  inflating: maize_leaf_data/data/Common_Rust/Corn_Common_Rust (992).JPG  \n",
            "  inflating: maize_leaf_data/data/Common_Rust/Corn_Common_Rust (993).JPG  \n",
            "  inflating: maize_leaf_data/data/Common_Rust/Corn_Common_Rust (994).JPG  \n",
            "  inflating: maize_leaf_data/data/Common_Rust/Corn_Common_Rust (995).JPG  \n",
            "  inflating: maize_leaf_data/data/Common_Rust/Corn_Common_Rust (996).JPG  \n",
            "  inflating: maize_leaf_data/data/Common_Rust/Corn_Common_Rust (997).JPG  \n",
            "  inflating: maize_leaf_data/data/Common_Rust/Corn_Common_Rust (998).JPG  \n",
            "  inflating: maize_leaf_data/data/Common_Rust/Corn_Common_Rust (999).JPG  \n",
            "  inflating: maize_leaf_data/data/Gray_Leaf_Spot/Corn_Gray_Spot (1).jpg  \n",
            "  inflating: maize_leaf_data/data/Gray_Leaf_Spot/Corn_Gray_Spot (10).jpg  \n",
            "  inflating: maize_leaf_data/data/Gray_Leaf_Spot/Corn_Gray_Spot (100).JPG  \n",
            "  inflating: maize_leaf_data/data/Gray_Leaf_Spot/Corn_Gray_Spot (101).JPG  \n",
            "  inflating: maize_leaf_data/data/Gray_Leaf_Spot/Corn_Gray_Spot (102).JPG  \n",
            "  inflating: maize_leaf_data/data/Gray_Leaf_Spot/Corn_Gray_Spot (103).JPG  \n",
            "  inflating: maize_leaf_data/data/Gray_Leaf_Spot/Corn_Gray_Spot (104).JPG  \n",
            "  inflating: maize_leaf_data/data/Gray_Leaf_Spot/Corn_Gray_Spot (105).JPG  \n",
            "  inflating: maize_leaf_data/data/Gray_Leaf_Spot/Corn_Gray_Spot (106).JPG  \n",
            "  inflating: maize_leaf_data/data/Gray_Leaf_Spot/Corn_Gray_Spot (107).JPG  \n",
            "  inflating: maize_leaf_data/data/Gray_Leaf_Spot/Corn_Gray_Spot (108).JPG  \n",
            "  inflating: maize_leaf_data/data/Gray_Leaf_Spot/Corn_Gray_Spot (109).JPG  \n",
            "  inflating: maize_leaf_data/data/Gray_Leaf_Spot/Corn_Gray_Spot (11).jpg  \n",
            "  inflating: maize_leaf_data/data/Gray_Leaf_Spot/Corn_Gray_Spot (110).JPG  \n",
            "  inflating: maize_leaf_data/data/Gray_Leaf_Spot/Corn_Gray_Spot (111).JPG  \n",
            "  inflating: maize_leaf_data/data/Gray_Leaf_Spot/Corn_Gray_Spot (112).JPG  \n",
            "  inflating: maize_leaf_data/data/Gray_Leaf_Spot/Corn_Gray_Spot (113).jpg  \n",
            "  inflating: maize_leaf_data/data/Gray_Leaf_Spot/Corn_Gray_Spot (114).jpg  \n",
            "  inflating: maize_leaf_data/data/Gray_Leaf_Spot/Corn_Gray_Spot (115).JPG  \n",
            "  inflating: maize_leaf_data/data/Gray_Leaf_Spot/Corn_Gray_Spot (116).JPG  \n",
            "  inflating: maize_leaf_data/data/Gray_Leaf_Spot/Corn_Gray_Spot (117).JPG  \n",
            "  inflating: maize_leaf_data/data/Gray_Leaf_Spot/Corn_Gray_Spot (118).JPG  \n",
            "  inflating: maize_leaf_data/data/Gray_Leaf_Spot/Corn_Gray_Spot (119).JPG  \n",
            "  inflating: maize_leaf_data/data/Gray_Leaf_Spot/Corn_Gray_Spot (12).jpg  \n",
            "  inflating: maize_leaf_data/data/Gray_Leaf_Spot/Corn_Gray_Spot (120).JPG  \n",
            "  inflating: maize_leaf_data/data/Gray_Leaf_Spot/Corn_Gray_Spot (121).JPG  \n",
            "  inflating: maize_leaf_data/data/Gray_Leaf_Spot/Corn_Gray_Spot (122).JPG  \n",
            "  inflating: maize_leaf_data/data/Gray_Leaf_Spot/Corn_Gray_Spot (123).JPG  \n",
            "  inflating: maize_leaf_data/data/Gray_Leaf_Spot/Corn_Gray_Spot (124).JPG  \n",
            "  inflating: maize_leaf_data/data/Gray_Leaf_Spot/Corn_Gray_Spot (125).jpg  \n",
            "  inflating: maize_leaf_data/data/Gray_Leaf_Spot/Corn_Gray_Spot (126).JPG  \n",
            "  inflating: maize_leaf_data/data/Gray_Leaf_Spot/Corn_Gray_Spot (127).JPG  \n",
            "  inflating: maize_leaf_data/data/Gray_Leaf_Spot/Corn_Gray_Spot (128).JPG  \n",
            "  inflating: maize_leaf_data/data/Gray_Leaf_Spot/Corn_Gray_Spot (129).JPG  \n",
            "  inflating: maize_leaf_data/data/Gray_Leaf_Spot/Corn_Gray_Spot (13).jpg  \n",
            "  inflating: maize_leaf_data/data/Gray_Leaf_Spot/Corn_Gray_Spot (130).JPG  \n",
            "  inflating: maize_leaf_data/data/Gray_Leaf_Spot/Corn_Gray_Spot (131).JPG  \n",
            "  inflating: maize_leaf_data/data/Gray_Leaf_Spot/Corn_Gray_Spot (132).jpg  \n",
            "  inflating: maize_leaf_data/data/Gray_Leaf_Spot/Corn_Gray_Spot (133).JPG  \n",
            "  inflating: maize_leaf_data/data/Gray_Leaf_Spot/Corn_Gray_Spot (134).JPG  \n",
            "  inflating: maize_leaf_data/data/Gray_Leaf_Spot/Corn_Gray_Spot (135).JPG  \n",
            "  inflating: maize_leaf_data/data/Gray_Leaf_Spot/Corn_Gray_Spot (136).JPG  \n",
            "  inflating: maize_leaf_data/data/Gray_Leaf_Spot/Corn_Gray_Spot (137).JPG  \n",
            "  inflating: maize_leaf_data/data/Gray_Leaf_Spot/Corn_Gray_Spot (138).JPG  \n",
            "  inflating: maize_leaf_data/data/Gray_Leaf_Spot/Corn_Gray_Spot (139).JPG  \n",
            "  inflating: maize_leaf_data/data/Gray_Leaf_Spot/Corn_Gray_Spot (14).jpg  \n",
            "  inflating: maize_leaf_data/data/Gray_Leaf_Spot/Corn_Gray_Spot (140).JPG  \n",
            "  inflating: maize_leaf_data/data/Gray_Leaf_Spot/Corn_Gray_Spot (141).JPG  \n",
            "  inflating: maize_leaf_data/data/Gray_Leaf_Spot/Corn_Gray_Spot (142).JPG  \n",
            "  inflating: maize_leaf_data/data/Gray_Leaf_Spot/Corn_Gray_Spot (143).JPG  \n",
            "  inflating: maize_leaf_data/data/Gray_Leaf_Spot/Corn_Gray_Spot (144).JPG  \n",
            "  inflating: maize_leaf_data/data/Gray_Leaf_Spot/Corn_Gray_Spot (145).JPG  \n",
            "  inflating: maize_leaf_data/data/Gray_Leaf_Spot/Corn_Gray_Spot (146).JPG  \n",
            "  inflating: maize_leaf_data/data/Gray_Leaf_Spot/Corn_Gray_Spot (147).jpg  \n",
            "  inflating: maize_leaf_data/data/Gray_Leaf_Spot/Corn_Gray_Spot (148).JPG  \n",
            "  inflating: maize_leaf_data/data/Gray_Leaf_Spot/Corn_Gray_Spot (149).JPG  \n",
            "  inflating: maize_leaf_data/data/Gray_Leaf_Spot/Corn_Gray_Spot (15).jpg  \n",
            "  inflating: maize_leaf_data/data/Gray_Leaf_Spot/Corn_Gray_Spot (150).JPG  \n",
            "  inflating: maize_leaf_data/data/Gray_Leaf_Spot/Corn_Gray_Spot (151).jpg  \n",
            "  inflating: maize_leaf_data/data/Gray_Leaf_Spot/Corn_Gray_Spot (152).JPG  \n",
            "  inflating: maize_leaf_data/data/Gray_Leaf_Spot/Corn_Gray_Spot (153).JPG  \n",
            "  inflating: maize_leaf_data/data/Gray_Leaf_Spot/Corn_Gray_Spot (154).JPG  \n",
            "  inflating: maize_leaf_data/data/Gray_Leaf_Spot/Corn_Gray_Spot (155).JPG  \n",
            "  inflating: maize_leaf_data/data/Gray_Leaf_Spot/Corn_Gray_Spot (156).JPG  \n",
            "  inflating: maize_leaf_data/data/Gray_Leaf_Spot/Corn_Gray_Spot (157).jpg  \n",
            "  inflating: maize_leaf_data/data/Gray_Leaf_Spot/Corn_Gray_Spot (158).JPG  \n",
            "  inflating: maize_leaf_data/data/Gray_Leaf_Spot/Corn_Gray_Spot (159).JPG  \n",
            "  inflating: maize_leaf_data/data/Gray_Leaf_Spot/Corn_Gray_Spot (16).jpg  \n",
            "  inflating: maize_leaf_data/data/Gray_Leaf_Spot/Corn_Gray_Spot (160).JPG  \n",
            "  inflating: maize_leaf_data/data/Gray_Leaf_Spot/Corn_Gray_Spot (161).JPG  \n",
            "  inflating: maize_leaf_data/data/Gray_Leaf_Spot/Corn_Gray_Spot (162).JPG  \n",
            "  inflating: maize_leaf_data/data/Gray_Leaf_Spot/Corn_Gray_Spot (163).JPG  \n",
            "  inflating: maize_leaf_data/data/Gray_Leaf_Spot/Corn_Gray_Spot (164).JPG  \n",
            "  inflating: maize_leaf_data/data/Gray_Leaf_Spot/Corn_Gray_Spot (165).JPG  \n",
            "  inflating: maize_leaf_data/data/Gray_Leaf_Spot/Corn_Gray_Spot (166).JPG  \n",
            "  inflating: maize_leaf_data/data/Gray_Leaf_Spot/Corn_Gray_Spot (167).JPG  \n",
            "  inflating: maize_leaf_data/data/Gray_Leaf_Spot/Corn_Gray_Spot (168).JPG  \n",
            "  inflating: maize_leaf_data/data/Gray_Leaf_Spot/Corn_Gray_Spot (169).JPG  \n",
            "  inflating: maize_leaf_data/data/Gray_Leaf_Spot/Corn_Gray_Spot (17).jpg  \n",
            "  inflating: maize_leaf_data/data/Gray_Leaf_Spot/Corn_Gray_Spot (170).JPG  \n",
            "  inflating: maize_leaf_data/data/Gray_Leaf_Spot/Corn_Gray_Spot (171).JPG  \n",
            "  inflating: maize_leaf_data/data/Gray_Leaf_Spot/Corn_Gray_Spot (172).JPG  \n",
            "  inflating: maize_leaf_data/data/Gray_Leaf_Spot/Corn_Gray_Spot (173).JPG  \n",
            "  inflating: maize_leaf_data/data/Gray_Leaf_Spot/Corn_Gray_Spot (174).jpg  \n",
            "  inflating: maize_leaf_data/data/Gray_Leaf_Spot/Corn_Gray_Spot (175).jpg  \n",
            "  inflating: maize_leaf_data/data/Gray_Leaf_Spot/Corn_Gray_Spot (176).JPG  \n",
            "  inflating: maize_leaf_data/data/Gray_Leaf_Spot/Corn_Gray_Spot (177).JPG  \n",
            "  inflating: maize_leaf_data/data/Gray_Leaf_Spot/Corn_Gray_Spot (178).JPG  \n",
            "  inflating: maize_leaf_data/data/Gray_Leaf_Spot/Corn_Gray_Spot (179).JPG  \n",
            "  inflating: maize_leaf_data/data/Gray_Leaf_Spot/Corn_Gray_Spot (18).jpg  \n",
            "  inflating: maize_leaf_data/data/Gray_Leaf_Spot/Corn_Gray_Spot (180).JPG  \n",
            "  inflating: maize_leaf_data/data/Gray_Leaf_Spot/Corn_Gray_Spot (181).JPG  \n",
            "  inflating: maize_leaf_data/data/Gray_Leaf_Spot/Corn_Gray_Spot (182).JPG  \n",
            "  inflating: maize_leaf_data/data/Gray_Leaf_Spot/Corn_Gray_Spot (183).JPG  \n",
            "  inflating: maize_leaf_data/data/Gray_Leaf_Spot/Corn_Gray_Spot (184).JPG  \n",
            "  inflating: maize_leaf_data/data/Gray_Leaf_Spot/Corn_Gray_Spot (185).JPG  \n",
            "  inflating: maize_leaf_data/data/Gray_Leaf_Spot/Corn_Gray_Spot (186).JPG  \n",
            "  inflating: maize_leaf_data/data/Gray_Leaf_Spot/Corn_Gray_Spot (187).JPG  \n",
            "  inflating: maize_leaf_data/data/Gray_Leaf_Spot/Corn_Gray_Spot (188).JPG  \n",
            "  inflating: maize_leaf_data/data/Gray_Leaf_Spot/Corn_Gray_Spot (189).JPG  \n",
            "  inflating: maize_leaf_data/data/Gray_Leaf_Spot/Corn_Gray_Spot (19).jpg  \n",
            "  inflating: maize_leaf_data/data/Gray_Leaf_Spot/Corn_Gray_Spot (190).JPG  \n",
            "  inflating: maize_leaf_data/data/Gray_Leaf_Spot/Corn_Gray_Spot (191).JPG  \n",
            "  inflating: maize_leaf_data/data/Gray_Leaf_Spot/Corn_Gray_Spot (192).JPG  \n",
            "  inflating: maize_leaf_data/data/Gray_Leaf_Spot/Corn_Gray_Spot (193).JPG  \n",
            "  inflating: maize_leaf_data/data/Gray_Leaf_Spot/Corn_Gray_Spot (194).JPG  \n",
            "  inflating: maize_leaf_data/data/Gray_Leaf_Spot/Corn_Gray_Spot (195).JPG  \n",
            "  inflating: maize_leaf_data/data/Gray_Leaf_Spot/Corn_Gray_Spot (196).JPG  \n",
            "  inflating: maize_leaf_data/data/Gray_Leaf_Spot/Corn_Gray_Spot (197).JPG  \n",
            "  inflating: maize_leaf_data/data/Gray_Leaf_Spot/Corn_Gray_Spot (198).JPG  \n",
            "  inflating: maize_leaf_data/data/Gray_Leaf_Spot/Corn_Gray_Spot (199).JPG  \n",
            "  inflating: maize_leaf_data/data/Gray_Leaf_Spot/Corn_Gray_Spot (2).jpg  \n",
            "  inflating: maize_leaf_data/data/Gray_Leaf_Spot/Corn_Gray_Spot (20).jpg  \n",
            "  inflating: maize_leaf_data/data/Gray_Leaf_Spot/Corn_Gray_Spot (200).JPG  \n",
            "  inflating: maize_leaf_data/data/Gray_Leaf_Spot/Corn_Gray_Spot (201).JPG  \n",
            "  inflating: maize_leaf_data/data/Gray_Leaf_Spot/Corn_Gray_Spot (202).JPG  \n",
            "  inflating: maize_leaf_data/data/Gray_Leaf_Spot/Corn_Gray_Spot (203).JPG  \n",
            "  inflating: maize_leaf_data/data/Gray_Leaf_Spot/Corn_Gray_Spot (204).JPG  \n",
            "  inflating: maize_leaf_data/data/Gray_Leaf_Spot/Corn_Gray_Spot (205).JPG  \n",
            "  inflating: maize_leaf_data/data/Gray_Leaf_Spot/Corn_Gray_Spot (206).JPG  \n",
            "  inflating: maize_leaf_data/data/Gray_Leaf_Spot/Corn_Gray_Spot (207).JPG  \n",
            "  inflating: maize_leaf_data/data/Gray_Leaf_Spot/Corn_Gray_Spot (208).JPG  \n",
            "  inflating: maize_leaf_data/data/Gray_Leaf_Spot/Corn_Gray_Spot (209).jpg  \n",
            "  inflating: maize_leaf_data/data/Gray_Leaf_Spot/Corn_Gray_Spot (21).jpg  \n",
            "  inflating: maize_leaf_data/data/Gray_Leaf_Spot/Corn_Gray_Spot (210).JPG  \n",
            "  inflating: maize_leaf_data/data/Gray_Leaf_Spot/Corn_Gray_Spot (211).JPG  \n",
            "  inflating: maize_leaf_data/data/Gray_Leaf_Spot/Corn_Gray_Spot (212).JPG  \n",
            "  inflating: maize_leaf_data/data/Gray_Leaf_Spot/Corn_Gray_Spot (213).jpg  \n",
            "  inflating: maize_leaf_data/data/Gray_Leaf_Spot/Corn_Gray_Spot (214).JPG  \n",
            "  inflating: maize_leaf_data/data/Gray_Leaf_Spot/Corn_Gray_Spot (215).jpg  \n",
            "  inflating: maize_leaf_data/data/Gray_Leaf_Spot/Corn_Gray_Spot (216).jpg  \n",
            "  inflating: maize_leaf_data/data/Gray_Leaf_Spot/Corn_Gray_Spot (217).JPG  \n",
            "  inflating: maize_leaf_data/data/Gray_Leaf_Spot/Corn_Gray_Spot (218).JPG  \n",
            "  inflating: maize_leaf_data/data/Gray_Leaf_Spot/Corn_Gray_Spot (219).JPG  \n",
            "  inflating: maize_leaf_data/data/Gray_Leaf_Spot/Corn_Gray_Spot (22).jpg  \n",
            "  inflating: maize_leaf_data/data/Gray_Leaf_Spot/Corn_Gray_Spot (220).JPG  \n",
            "  inflating: maize_leaf_data/data/Gray_Leaf_Spot/Corn_Gray_Spot (221).JPG  \n",
            "  inflating: maize_leaf_data/data/Gray_Leaf_Spot/Corn_Gray_Spot (222).JPG  \n",
            "  inflating: maize_leaf_data/data/Gray_Leaf_Spot/Corn_Gray_Spot (223).jpg  \n",
            "  inflating: maize_leaf_data/data/Gray_Leaf_Spot/Corn_Gray_Spot (224).JPG  \n",
            "  inflating: maize_leaf_data/data/Gray_Leaf_Spot/Corn_Gray_Spot (225).jpg  \n",
            "  inflating: maize_leaf_data/data/Gray_Leaf_Spot/Corn_Gray_Spot (226).JPG  \n",
            "  inflating: maize_leaf_data/data/Gray_Leaf_Spot/Corn_Gray_Spot (227).JPG  \n",
            "  inflating: maize_leaf_data/data/Gray_Leaf_Spot/Corn_Gray_Spot (228).JPG  \n",
            "  inflating: maize_leaf_data/data/Gray_Leaf_Spot/Corn_Gray_Spot (229).JPG  \n",
            "  inflating: maize_leaf_data/data/Gray_Leaf_Spot/Corn_Gray_Spot (23).jpg  \n",
            "  inflating: maize_leaf_data/data/Gray_Leaf_Spot/Corn_Gray_Spot (230).JPG  \n",
            "  inflating: maize_leaf_data/data/Gray_Leaf_Spot/Corn_Gray_Spot (231).JPG  \n",
            "  inflating: maize_leaf_data/data/Gray_Leaf_Spot/Corn_Gray_Spot (232).JPG  \n",
            "  inflating: maize_leaf_data/data/Gray_Leaf_Spot/Corn_Gray_Spot (233).JPG  \n",
            "  inflating: maize_leaf_data/data/Gray_Leaf_Spot/Corn_Gray_Spot (234).JPG  \n",
            "  inflating: maize_leaf_data/data/Gray_Leaf_Spot/Corn_Gray_Spot (235).JPG  \n",
            "  inflating: maize_leaf_data/data/Gray_Leaf_Spot/Corn_Gray_Spot (236).JPG  \n",
            "  inflating: maize_leaf_data/data/Gray_Leaf_Spot/Corn_Gray_Spot (237).JPG  \n",
            "  inflating: maize_leaf_data/data/Gray_Leaf_Spot/Corn_Gray_Spot (238).JPG  \n",
            "  inflating: maize_leaf_data/data/Gray_Leaf_Spot/Corn_Gray_Spot (239).JPG  \n",
            "  inflating: maize_leaf_data/data/Gray_Leaf_Spot/Corn_Gray_Spot (24).jpg  \n",
            "  inflating: maize_leaf_data/data/Gray_Leaf_Spot/Corn_Gray_Spot (240).JPG  \n",
            "  inflating: maize_leaf_data/data/Gray_Leaf_Spot/Corn_Gray_Spot (241).JPG  \n",
            "  inflating: maize_leaf_data/data/Gray_Leaf_Spot/Corn_Gray_Spot (242).JPG  \n",
            "  inflating: maize_leaf_data/data/Gray_Leaf_Spot/Corn_Gray_Spot (243).JPG  \n",
            "  inflating: maize_leaf_data/data/Gray_Leaf_Spot/Corn_Gray_Spot (244).JPG  \n",
            "  inflating: maize_leaf_data/data/Gray_Leaf_Spot/Corn_Gray_Spot (245).JPG  \n",
            "  inflating: maize_leaf_data/data/Gray_Leaf_Spot/Corn_Gray_Spot (246).JPG  \n",
            "  inflating: maize_leaf_data/data/Gray_Leaf_Spot/Corn_Gray_Spot (247).JPG  \n",
            "  inflating: maize_leaf_data/data/Gray_Leaf_Spot/Corn_Gray_Spot (248).JPG  \n",
            "  inflating: maize_leaf_data/data/Gray_Leaf_Spot/Corn_Gray_Spot (249).JPG  \n",
            "  inflating: maize_leaf_data/data/Gray_Leaf_Spot/Corn_Gray_Spot (25).jpg  \n",
            "  inflating: maize_leaf_data/data/Gray_Leaf_Spot/Corn_Gray_Spot (250).JPG  \n",
            "  inflating: maize_leaf_data/data/Gray_Leaf_Spot/Corn_Gray_Spot (251).jpg  \n",
            "  inflating: maize_leaf_data/data/Gray_Leaf_Spot/Corn_Gray_Spot (252).JPG  \n",
            "  inflating: maize_leaf_data/data/Gray_Leaf_Spot/Corn_Gray_Spot (253).JPG  \n",
            "  inflating: maize_leaf_data/data/Gray_Leaf_Spot/Corn_Gray_Spot (254).JPG  \n",
            "  inflating: maize_leaf_data/data/Gray_Leaf_Spot/Corn_Gray_Spot (255).jpg  \n",
            "  inflating: maize_leaf_data/data/Gray_Leaf_Spot/Corn_Gray_Spot (256).jpg  \n",
            "  inflating: maize_leaf_data/data/Gray_Leaf_Spot/Corn_Gray_Spot (257).JPG  \n",
            "  inflating: maize_leaf_data/data/Gray_Leaf_Spot/Corn_Gray_Spot (258).JPG  \n",
            "  inflating: maize_leaf_data/data/Gray_Leaf_Spot/Corn_Gray_Spot (259).JPG  \n",
            "  inflating: maize_leaf_data/data/Gray_Leaf_Spot/Corn_Gray_Spot (26).jpg  \n",
            "  inflating: maize_leaf_data/data/Gray_Leaf_Spot/Corn_Gray_Spot (260).JPG  \n",
            "  inflating: maize_leaf_data/data/Gray_Leaf_Spot/Corn_Gray_Spot (261).JPG  \n",
            "  inflating: maize_leaf_data/data/Gray_Leaf_Spot/Corn_Gray_Spot (262).JPG  \n",
            "  inflating: maize_leaf_data/data/Gray_Leaf_Spot/Corn_Gray_Spot (263).JPG  \n",
            "  inflating: maize_leaf_data/data/Gray_Leaf_Spot/Corn_Gray_Spot (264).JPG  \n",
            "  inflating: maize_leaf_data/data/Gray_Leaf_Spot/Corn_Gray_Spot (265).jpg  \n",
            "  inflating: maize_leaf_data/data/Gray_Leaf_Spot/Corn_Gray_Spot (266).JPG  \n",
            "  inflating: maize_leaf_data/data/Gray_Leaf_Spot/Corn_Gray_Spot (267).JPG  \n",
            "  inflating: maize_leaf_data/data/Gray_Leaf_Spot/Corn_Gray_Spot (268).jpg  \n",
            "  inflating: maize_leaf_data/data/Gray_Leaf_Spot/Corn_Gray_Spot (269).JPG  \n",
            "  inflating: maize_leaf_data/data/Gray_Leaf_Spot/Corn_Gray_Spot (27).jpg  \n",
            "  inflating: maize_leaf_data/data/Gray_Leaf_Spot/Corn_Gray_Spot (270).JPG  \n",
            "  inflating: maize_leaf_data/data/Gray_Leaf_Spot/Corn_Gray_Spot (271).JPG  \n",
            "  inflating: maize_leaf_data/data/Gray_Leaf_Spot/Corn_Gray_Spot (272).jpg  \n",
            "  inflating: maize_leaf_data/data/Gray_Leaf_Spot/Corn_Gray_Spot (273).JPG  \n",
            "  inflating: maize_leaf_data/data/Gray_Leaf_Spot/Corn_Gray_Spot (274).JPG  \n",
            "  inflating: maize_leaf_data/data/Gray_Leaf_Spot/Corn_Gray_Spot (275).JPG  \n",
            "  inflating: maize_leaf_data/data/Gray_Leaf_Spot/Corn_Gray_Spot (276).JPG  \n",
            "  inflating: maize_leaf_data/data/Gray_Leaf_Spot/Corn_Gray_Spot (277).JPG  \n",
            "  inflating: maize_leaf_data/data/Gray_Leaf_Spot/Corn_Gray_Spot (278).JPG  \n",
            "  inflating: maize_leaf_data/data/Gray_Leaf_Spot/Corn_Gray_Spot (279).JPG  \n",
            "  inflating: maize_leaf_data/data/Gray_Leaf_Spot/Corn_Gray_Spot (28).jpg  \n",
            "  inflating: maize_leaf_data/data/Gray_Leaf_Spot/Corn_Gray_Spot (280).jpg  \n",
            "  inflating: maize_leaf_data/data/Gray_Leaf_Spot/Corn_Gray_Spot (281).JPG  \n",
            "  inflating: maize_leaf_data/data/Gray_Leaf_Spot/Corn_Gray_Spot (282).JPG  \n",
            "  inflating: maize_leaf_data/data/Gray_Leaf_Spot/Corn_Gray_Spot (283).JPG  \n",
            "  inflating: maize_leaf_data/data/Gray_Leaf_Spot/Corn_Gray_Spot (284).JPG  \n",
            "  inflating: maize_leaf_data/data/Gray_Leaf_Spot/Corn_Gray_Spot (285).JPG  \n",
            "  inflating: maize_leaf_data/data/Gray_Leaf_Spot/Corn_Gray_Spot (286).JPG  \n",
            "  inflating: maize_leaf_data/data/Gray_Leaf_Spot/Corn_Gray_Spot (287).jpg  \n",
            "  inflating: maize_leaf_data/data/Gray_Leaf_Spot/Corn_Gray_Spot (288).JPG  \n",
            "  inflating: maize_leaf_data/data/Gray_Leaf_Spot/Corn_Gray_Spot (289).JPG  \n",
            "  inflating: maize_leaf_data/data/Gray_Leaf_Spot/Corn_Gray_Spot (29).jpg  \n",
            "  inflating: maize_leaf_data/data/Gray_Leaf_Spot/Corn_Gray_Spot (290).JPG  \n",
            "  inflating: maize_leaf_data/data/Gray_Leaf_Spot/Corn_Gray_Spot (291).JPG  \n",
            "  inflating: maize_leaf_data/data/Gray_Leaf_Spot/Corn_Gray_Spot (292).jpg  \n",
            "  inflating: maize_leaf_data/data/Gray_Leaf_Spot/Corn_Gray_Spot (293).JPG  \n",
            "  inflating: maize_leaf_data/data/Gray_Leaf_Spot/Corn_Gray_Spot (294).JPG  \n",
            "  inflating: maize_leaf_data/data/Gray_Leaf_Spot/Corn_Gray_Spot (295).JPG  \n",
            "  inflating: maize_leaf_data/data/Gray_Leaf_Spot/Corn_Gray_Spot (296).JPG  \n",
            "  inflating: maize_leaf_data/data/Gray_Leaf_Spot/Corn_Gray_Spot (297).JPG  \n",
            "  inflating: maize_leaf_data/data/Gray_Leaf_Spot/Corn_Gray_Spot (298).JPG  \n",
            "  inflating: maize_leaf_data/data/Gray_Leaf_Spot/Corn_Gray_Spot (299).JPG  \n",
            "  inflating: maize_leaf_data/data/Gray_Leaf_Spot/Corn_Gray_Spot (3).jpg  \n",
            "  inflating: maize_leaf_data/data/Gray_Leaf_Spot/Corn_Gray_Spot (30).jpg  \n",
            "  inflating: maize_leaf_data/data/Gray_Leaf_Spot/Corn_Gray_Spot (300).JPG  \n",
            "  inflating: maize_leaf_data/data/Gray_Leaf_Spot/Corn_Gray_Spot (301).JPG  \n",
            "  inflating: maize_leaf_data/data/Gray_Leaf_Spot/Corn_Gray_Spot (302).JPG  \n",
            "  inflating: maize_leaf_data/data/Gray_Leaf_Spot/Corn_Gray_Spot (303).JPG  \n",
            "  inflating: maize_leaf_data/data/Gray_Leaf_Spot/Corn_Gray_Spot (304).JPG  \n",
            "  inflating: maize_leaf_data/data/Gray_Leaf_Spot/Corn_Gray_Spot (305).JPG  \n",
            "  inflating: maize_leaf_data/data/Gray_Leaf_Spot/Corn_Gray_Spot (306).JPG  \n",
            "  inflating: maize_leaf_data/data/Gray_Leaf_Spot/Corn_Gray_Spot (307).JPG  \n",
            "  inflating: maize_leaf_data/data/Gray_Leaf_Spot/Corn_Gray_Spot (308).JPG  \n",
            "  inflating: maize_leaf_data/data/Gray_Leaf_Spot/Corn_Gray_Spot (309).JPG  \n",
            "  inflating: maize_leaf_data/data/Gray_Leaf_Spot/Corn_Gray_Spot (31).jpg  \n",
            "  inflating: maize_leaf_data/data/Gray_Leaf_Spot/Corn_Gray_Spot (310).JPG  \n",
            "  inflating: maize_leaf_data/data/Gray_Leaf_Spot/Corn_Gray_Spot (311).jpg  \n",
            "  inflating: maize_leaf_data/data/Gray_Leaf_Spot/Corn_Gray_Spot (312).JPG  \n",
            "  inflating: maize_leaf_data/data/Gray_Leaf_Spot/Corn_Gray_Spot (313).JPG  \n",
            "  inflating: maize_leaf_data/data/Gray_Leaf_Spot/Corn_Gray_Spot (314).JPG  \n",
            "  inflating: maize_leaf_data/data/Gray_Leaf_Spot/Corn_Gray_Spot (315).JPG  \n",
            "  inflating: maize_leaf_data/data/Gray_Leaf_Spot/Corn_Gray_Spot (316).JPG  \n",
            "  inflating: maize_leaf_data/data/Gray_Leaf_Spot/Corn_Gray_Spot (317).JPG  \n",
            "  inflating: maize_leaf_data/data/Gray_Leaf_Spot/Corn_Gray_Spot (318).JPG  \n",
            "  inflating: maize_leaf_data/data/Gray_Leaf_Spot/Corn_Gray_Spot (319).JPG  \n",
            "  inflating: maize_leaf_data/data/Gray_Leaf_Spot/Corn_Gray_Spot (32).jpg  \n",
            "  inflating: maize_leaf_data/data/Gray_Leaf_Spot/Corn_Gray_Spot (320).JPG  \n",
            "  inflating: maize_leaf_data/data/Gray_Leaf_Spot/Corn_Gray_Spot (321).JPG  \n",
            "  inflating: maize_leaf_data/data/Gray_Leaf_Spot/Corn_Gray_Spot (322).JPG  \n",
            "  inflating: maize_leaf_data/data/Gray_Leaf_Spot/Corn_Gray_Spot (323).JPG  \n",
            "  inflating: maize_leaf_data/data/Gray_Leaf_Spot/Corn_Gray_Spot (324).JPG  \n",
            "  inflating: maize_leaf_data/data/Gray_Leaf_Spot/Corn_Gray_Spot (325).jpg  \n",
            "  inflating: maize_leaf_data/data/Gray_Leaf_Spot/Corn_Gray_Spot (326).JPG  \n",
            "  inflating: maize_leaf_data/data/Gray_Leaf_Spot/Corn_Gray_Spot (327).JPG  \n",
            "  inflating: maize_leaf_data/data/Gray_Leaf_Spot/Corn_Gray_Spot (328).JPG  \n",
            "  inflating: maize_leaf_data/data/Gray_Leaf_Spot/Corn_Gray_Spot (329).JPG  \n",
            "  inflating: maize_leaf_data/data/Gray_Leaf_Spot/Corn_Gray_Spot (33).jpg  \n",
            "  inflating: maize_leaf_data/data/Gray_Leaf_Spot/Corn_Gray_Spot (330).JPG  \n",
            "  inflating: maize_leaf_data/data/Gray_Leaf_Spot/Corn_Gray_Spot (331).JPG  \n",
            "  inflating: maize_leaf_data/data/Gray_Leaf_Spot/Corn_Gray_Spot (332).jpg  \n",
            "  inflating: maize_leaf_data/data/Gray_Leaf_Spot/Corn_Gray_Spot (333).JPG  \n",
            "  inflating: maize_leaf_data/data/Gray_Leaf_Spot/Corn_Gray_Spot (334).JPG  \n",
            "  inflating: maize_leaf_data/data/Gray_Leaf_Spot/Corn_Gray_Spot (335).jpg  \n",
            "  inflating: maize_leaf_data/data/Gray_Leaf_Spot/Corn_Gray_Spot (336).JPG  \n",
            "  inflating: maize_leaf_data/data/Gray_Leaf_Spot/Corn_Gray_Spot (337).jpg  \n",
            "  inflating: maize_leaf_data/data/Gray_Leaf_Spot/Corn_Gray_Spot (338).JPG  \n",
            "  inflating: maize_leaf_data/data/Gray_Leaf_Spot/Corn_Gray_Spot (339).JPG  \n",
            "  inflating: maize_leaf_data/data/Gray_Leaf_Spot/Corn_Gray_Spot (34).jpg  \n",
            "  inflating: maize_leaf_data/data/Gray_Leaf_Spot/Corn_Gray_Spot (340).JPG  \n",
            "  inflating: maize_leaf_data/data/Gray_Leaf_Spot/Corn_Gray_Spot (341).JPG  \n",
            "  inflating: maize_leaf_data/data/Gray_Leaf_Spot/Corn_Gray_Spot (342).JPG  \n",
            "  inflating: maize_leaf_data/data/Gray_Leaf_Spot/Corn_Gray_Spot (343).JPG  \n",
            "  inflating: maize_leaf_data/data/Gray_Leaf_Spot/Corn_Gray_Spot (344).JPG  \n",
            "  inflating: maize_leaf_data/data/Gray_Leaf_Spot/Corn_Gray_Spot (345).JPG  \n",
            "  inflating: maize_leaf_data/data/Gray_Leaf_Spot/Corn_Gray_Spot (346).JPG  \n",
            "  inflating: maize_leaf_data/data/Gray_Leaf_Spot/Corn_Gray_Spot (347).JPG  \n",
            "  inflating: maize_leaf_data/data/Gray_Leaf_Spot/Corn_Gray_Spot (348).jpg  \n",
            "  inflating: maize_leaf_data/data/Gray_Leaf_Spot/Corn_Gray_Spot (349).JPG  \n",
            "  inflating: maize_leaf_data/data/Gray_Leaf_Spot/Corn_Gray_Spot (35).jpg  \n",
            "  inflating: maize_leaf_data/data/Gray_Leaf_Spot/Corn_Gray_Spot (350).JPG  \n",
            "  inflating: maize_leaf_data/data/Gray_Leaf_Spot/Corn_Gray_Spot (351).JPG  \n",
            "  inflating: maize_leaf_data/data/Gray_Leaf_Spot/Corn_Gray_Spot (352).JPG  \n",
            "  inflating: maize_leaf_data/data/Gray_Leaf_Spot/Corn_Gray_Spot (353).jpg  \n",
            "  inflating: maize_leaf_data/data/Gray_Leaf_Spot/Corn_Gray_Spot (354).JPG  \n",
            "  inflating: maize_leaf_data/data/Gray_Leaf_Spot/Corn_Gray_Spot (355).JPG  \n",
            "  inflating: maize_leaf_data/data/Gray_Leaf_Spot/Corn_Gray_Spot (356).JPG  \n",
            "  inflating: maize_leaf_data/data/Gray_Leaf_Spot/Corn_Gray_Spot (357).jpg  \n",
            "  inflating: maize_leaf_data/data/Gray_Leaf_Spot/Corn_Gray_Spot (358).JPG  \n",
            "  inflating: maize_leaf_data/data/Gray_Leaf_Spot/Corn_Gray_Spot (359).JPG  \n",
            "  inflating: maize_leaf_data/data/Gray_Leaf_Spot/Corn_Gray_Spot (36).jpg  \n",
            "  inflating: maize_leaf_data/data/Gray_Leaf_Spot/Corn_Gray_Spot (360).JPG  \n",
            "  inflating: maize_leaf_data/data/Gray_Leaf_Spot/Corn_Gray_Spot (361).JPG  \n",
            "  inflating: maize_leaf_data/data/Gray_Leaf_Spot/Corn_Gray_Spot (362).jpg  \n",
            "  inflating: maize_leaf_data/data/Gray_Leaf_Spot/Corn_Gray_Spot (363).jpg  \n",
            "  inflating: maize_leaf_data/data/Gray_Leaf_Spot/Corn_Gray_Spot (364).JPG  \n",
            "  inflating: maize_leaf_data/data/Gray_Leaf_Spot/Corn_Gray_Spot (365).JPG  \n",
            "  inflating: maize_leaf_data/data/Gray_Leaf_Spot/Corn_Gray_Spot (366).JPG  \n",
            "  inflating: maize_leaf_data/data/Gray_Leaf_Spot/Corn_Gray_Spot (367).JPG  \n",
            "  inflating: maize_leaf_data/data/Gray_Leaf_Spot/Corn_Gray_Spot (368).jpg  \n",
            "  inflating: maize_leaf_data/data/Gray_Leaf_Spot/Corn_Gray_Spot (369).JPG  \n",
            "  inflating: maize_leaf_data/data/Gray_Leaf_Spot/Corn_Gray_Spot (37).jpg  \n",
            "  inflating: maize_leaf_data/data/Gray_Leaf_Spot/Corn_Gray_Spot (370).JPG  \n",
            "  inflating: maize_leaf_data/data/Gray_Leaf_Spot/Corn_Gray_Spot (371).JPG  \n",
            "  inflating: maize_leaf_data/data/Gray_Leaf_Spot/Corn_Gray_Spot (372).JPG  \n",
            "  inflating: maize_leaf_data/data/Gray_Leaf_Spot/Corn_Gray_Spot (373).JPG  \n",
            "  inflating: maize_leaf_data/data/Gray_Leaf_Spot/Corn_Gray_Spot (374).JPG  \n",
            "  inflating: maize_leaf_data/data/Gray_Leaf_Spot/Corn_Gray_Spot (375).JPG  \n",
            "  inflating: maize_leaf_data/data/Gray_Leaf_Spot/Corn_Gray_Spot (376).jpg  \n",
            "  inflating: maize_leaf_data/data/Gray_Leaf_Spot/Corn_Gray_Spot (377).jpg  \n",
            "  inflating: maize_leaf_data/data/Gray_Leaf_Spot/Corn_Gray_Spot (378).JPG  \n",
            "  inflating: maize_leaf_data/data/Gray_Leaf_Spot/Corn_Gray_Spot (379).JPG  \n",
            "  inflating: maize_leaf_data/data/Gray_Leaf_Spot/Corn_Gray_Spot (38).jpg  \n",
            "  inflating: maize_leaf_data/data/Gray_Leaf_Spot/Corn_Gray_Spot (380).JPG  \n",
            "  inflating: maize_leaf_data/data/Gray_Leaf_Spot/Corn_Gray_Spot (381).jpg  \n",
            "  inflating: maize_leaf_data/data/Gray_Leaf_Spot/Corn_Gray_Spot (382).JPG  \n",
            "  inflating: maize_leaf_data/data/Gray_Leaf_Spot/Corn_Gray_Spot (383).JPG  \n",
            "  inflating: maize_leaf_data/data/Gray_Leaf_Spot/Corn_Gray_Spot (384).JPG  \n",
            "  inflating: maize_leaf_data/data/Gray_Leaf_Spot/Corn_Gray_Spot (385).JPG  \n",
            "  inflating: maize_leaf_data/data/Gray_Leaf_Spot/Corn_Gray_Spot (386).JPG  \n",
            "  inflating: maize_leaf_data/data/Gray_Leaf_Spot/Corn_Gray_Spot (387).JPG  \n",
            "  inflating: maize_leaf_data/data/Gray_Leaf_Spot/Corn_Gray_Spot (388).JPG  \n",
            "  inflating: maize_leaf_data/data/Gray_Leaf_Spot/Corn_Gray_Spot (389).JPG  \n",
            "  inflating: maize_leaf_data/data/Gray_Leaf_Spot/Corn_Gray_Spot (39).jpg  \n",
            "  inflating: maize_leaf_data/data/Gray_Leaf_Spot/Corn_Gray_Spot (390).JPG  \n",
            "  inflating: maize_leaf_data/data/Gray_Leaf_Spot/Corn_Gray_Spot (391).JPG  \n",
            "  inflating: maize_leaf_data/data/Gray_Leaf_Spot/Corn_Gray_Spot (392).JPG  \n",
            "  inflating: maize_leaf_data/data/Gray_Leaf_Spot/Corn_Gray_Spot (393).jpg  \n",
            "  inflating: maize_leaf_data/data/Gray_Leaf_Spot/Corn_Gray_Spot (394).JPG  \n",
            "  inflating: maize_leaf_data/data/Gray_Leaf_Spot/Corn_Gray_Spot (395).JPG  \n",
            "  inflating: maize_leaf_data/data/Gray_Leaf_Spot/Corn_Gray_Spot (396).JPG  \n",
            "  inflating: maize_leaf_data/data/Gray_Leaf_Spot/Corn_Gray_Spot (397).jpg  \n",
            "  inflating: maize_leaf_data/data/Gray_Leaf_Spot/Corn_Gray_Spot (398).JPG  \n",
            "  inflating: maize_leaf_data/data/Gray_Leaf_Spot/Corn_Gray_Spot (399).JPG  \n",
            "  inflating: maize_leaf_data/data/Gray_Leaf_Spot/Corn_Gray_Spot (4).jpg  \n",
            "  inflating: maize_leaf_data/data/Gray_Leaf_Spot/Corn_Gray_Spot (40).jpg  \n",
            "  inflating: maize_leaf_data/data/Gray_Leaf_Spot/Corn_Gray_Spot (400).JPG  \n",
            "  inflating: maize_leaf_data/data/Gray_Leaf_Spot/Corn_Gray_Spot (401).JPG  \n",
            "  inflating: maize_leaf_data/data/Gray_Leaf_Spot/Corn_Gray_Spot (402).JPG  \n",
            "  inflating: maize_leaf_data/data/Gray_Leaf_Spot/Corn_Gray_Spot (403).JPG  \n",
            "  inflating: maize_leaf_data/data/Gray_Leaf_Spot/Corn_Gray_Spot (404).JPG  \n",
            "  inflating: maize_leaf_data/data/Gray_Leaf_Spot/Corn_Gray_Spot (405).JPG  \n",
            "  inflating: maize_leaf_data/data/Gray_Leaf_Spot/Corn_Gray_Spot (406).JPG  \n",
            "  inflating: maize_leaf_data/data/Gray_Leaf_Spot/Corn_Gray_Spot (407).JPG  \n",
            "  inflating: maize_leaf_data/data/Gray_Leaf_Spot/Corn_Gray_Spot (408).JPG  \n",
            "  inflating: maize_leaf_data/data/Gray_Leaf_Spot/Corn_Gray_Spot (409).jpg  \n",
            "  inflating: maize_leaf_data/data/Gray_Leaf_Spot/Corn_Gray_Spot (41).jpg  \n",
            "  inflating: maize_leaf_data/data/Gray_Leaf_Spot/Corn_Gray_Spot (410).JPG  \n",
            "  inflating: maize_leaf_data/data/Gray_Leaf_Spot/Corn_Gray_Spot (411).jpg  \n",
            "  inflating: maize_leaf_data/data/Gray_Leaf_Spot/Corn_Gray_Spot (412).JPG  \n",
            "  inflating: maize_leaf_data/data/Gray_Leaf_Spot/Corn_Gray_Spot (413).JPG  \n",
            "  inflating: maize_leaf_data/data/Gray_Leaf_Spot/Corn_Gray_Spot (414).JPG  \n",
            "  inflating: maize_leaf_data/data/Gray_Leaf_Spot/Corn_Gray_Spot (415).JPG  \n",
            "  inflating: maize_leaf_data/data/Gray_Leaf_Spot/Corn_Gray_Spot (416).JPG  \n",
            "  inflating: maize_leaf_data/data/Gray_Leaf_Spot/Corn_Gray_Spot (417).JPG  \n",
            "  inflating: maize_leaf_data/data/Gray_Leaf_Spot/Corn_Gray_Spot (418).JPG  \n",
            "  inflating: maize_leaf_data/data/Gray_Leaf_Spot/Corn_Gray_Spot (419).JPG  \n",
            "  inflating: maize_leaf_data/data/Gray_Leaf_Spot/Corn_Gray_Spot (42).jpg  \n",
            "  inflating: maize_leaf_data/data/Gray_Leaf_Spot/Corn_Gray_Spot (420).JPG  \n",
            "  inflating: maize_leaf_data/data/Gray_Leaf_Spot/Corn_Gray_Spot (421).JPG  \n",
            "  inflating: maize_leaf_data/data/Gray_Leaf_Spot/Corn_Gray_Spot (422).JPG  \n",
            "  inflating: maize_leaf_data/data/Gray_Leaf_Spot/Corn_Gray_Spot (423).JPG  \n",
            "  inflating: maize_leaf_data/data/Gray_Leaf_Spot/Corn_Gray_Spot (424).JPG  \n",
            "  inflating: maize_leaf_data/data/Gray_Leaf_Spot/Corn_Gray_Spot (425).JPG  \n",
            "  inflating: maize_leaf_data/data/Gray_Leaf_Spot/Corn_Gray_Spot (426).JPG  \n",
            "  inflating: maize_leaf_data/data/Gray_Leaf_Spot/Corn_Gray_Spot (427).JPG  \n",
            "  inflating: maize_leaf_data/data/Gray_Leaf_Spot/Corn_Gray_Spot (428).JPG  \n",
            "  inflating: maize_leaf_data/data/Gray_Leaf_Spot/Corn_Gray_Spot (429).JPG  \n",
            "  inflating: maize_leaf_data/data/Gray_Leaf_Spot/Corn_Gray_Spot (43).jpg  \n",
            "  inflating: maize_leaf_data/data/Gray_Leaf_Spot/Corn_Gray_Spot (430).jpg  \n",
            "  inflating: maize_leaf_data/data/Gray_Leaf_Spot/Corn_Gray_Spot (431).JPG  \n",
            "  inflating: maize_leaf_data/data/Gray_Leaf_Spot/Corn_Gray_Spot (432).JPG  \n",
            "  inflating: maize_leaf_data/data/Gray_Leaf_Spot/Corn_Gray_Spot (433).JPG  \n",
            "  inflating: maize_leaf_data/data/Gray_Leaf_Spot/Corn_Gray_Spot (434).JPG  \n",
            "  inflating: maize_leaf_data/data/Gray_Leaf_Spot/Corn_Gray_Spot (435).JPG  \n",
            "  inflating: maize_leaf_data/data/Gray_Leaf_Spot/Corn_Gray_Spot (436).JPG  \n",
            "  inflating: maize_leaf_data/data/Gray_Leaf_Spot/Corn_Gray_Spot (437).JPG  \n",
            "  inflating: maize_leaf_data/data/Gray_Leaf_Spot/Corn_Gray_Spot (438).JPG  \n",
            "  inflating: maize_leaf_data/data/Gray_Leaf_Spot/Corn_Gray_Spot (439).JPG  \n",
            "  inflating: maize_leaf_data/data/Gray_Leaf_Spot/Corn_Gray_Spot (44).jpg  \n",
            "  inflating: maize_leaf_data/data/Gray_Leaf_Spot/Corn_Gray_Spot (440).jpg  \n",
            "  inflating: maize_leaf_data/data/Gray_Leaf_Spot/Corn_Gray_Spot (441).JPG  \n",
            "  inflating: maize_leaf_data/data/Gray_Leaf_Spot/Corn_Gray_Spot (442).JPG  \n",
            "  inflating: maize_leaf_data/data/Gray_Leaf_Spot/Corn_Gray_Spot (443).JPG  \n",
            "  inflating: maize_leaf_data/data/Gray_Leaf_Spot/Corn_Gray_Spot (444).JPG  \n",
            "  inflating: maize_leaf_data/data/Gray_Leaf_Spot/Corn_Gray_Spot (445).JPG  \n",
            "  inflating: maize_leaf_data/data/Gray_Leaf_Spot/Corn_Gray_Spot (446).JPG  \n",
            "  inflating: maize_leaf_data/data/Gray_Leaf_Spot/Corn_Gray_Spot (447).JPG  \n",
            "  inflating: maize_leaf_data/data/Gray_Leaf_Spot/Corn_Gray_Spot (448).JPG  \n",
            "  inflating: maize_leaf_data/data/Gray_Leaf_Spot/Corn_Gray_Spot (449).JPG  \n",
            "  inflating: maize_leaf_data/data/Gray_Leaf_Spot/Corn_Gray_Spot (45).jpg  \n",
            "  inflating: maize_leaf_data/data/Gray_Leaf_Spot/Corn_Gray_Spot (450).JPG  \n",
            "  inflating: maize_leaf_data/data/Gray_Leaf_Spot/Corn_Gray_Spot (451).jpg  \n",
            "  inflating: maize_leaf_data/data/Gray_Leaf_Spot/Corn_Gray_Spot (452).JPG  \n",
            "  inflating: maize_leaf_data/data/Gray_Leaf_Spot/Corn_Gray_Spot (453).JPG  \n",
            "  inflating: maize_leaf_data/data/Gray_Leaf_Spot/Corn_Gray_Spot (454).JPG  \n",
            "  inflating: maize_leaf_data/data/Gray_Leaf_Spot/Corn_Gray_Spot (455).JPG  \n",
            "  inflating: maize_leaf_data/data/Gray_Leaf_Spot/Corn_Gray_Spot (456).JPG  \n",
            "  inflating: maize_leaf_data/data/Gray_Leaf_Spot/Corn_Gray_Spot (457).JPG  \n",
            "  inflating: maize_leaf_data/data/Gray_Leaf_Spot/Corn_Gray_Spot (458).JPG  \n",
            "  inflating: maize_leaf_data/data/Gray_Leaf_Spot/Corn_Gray_Spot (459).JPG  \n",
            "  inflating: maize_leaf_data/data/Gray_Leaf_Spot/Corn_Gray_Spot (46).jpg  \n",
            "  inflating: maize_leaf_data/data/Gray_Leaf_Spot/Corn_Gray_Spot (460).JPG  \n",
            "  inflating: maize_leaf_data/data/Gray_Leaf_Spot/Corn_Gray_Spot (461).JPG  \n",
            "  inflating: maize_leaf_data/data/Gray_Leaf_Spot/Corn_Gray_Spot (462).JPG  \n",
            "  inflating: maize_leaf_data/data/Gray_Leaf_Spot/Corn_Gray_Spot (463).JPG  \n",
            "  inflating: maize_leaf_data/data/Gray_Leaf_Spot/Corn_Gray_Spot (464).JPG  \n",
            "  inflating: maize_leaf_data/data/Gray_Leaf_Spot/Corn_Gray_Spot (465).JPG  \n",
            "  inflating: maize_leaf_data/data/Gray_Leaf_Spot/Corn_Gray_Spot (466).JPG  \n",
            "  inflating: maize_leaf_data/data/Gray_Leaf_Spot/Corn_Gray_Spot (467).JPG  \n",
            "  inflating: maize_leaf_data/data/Gray_Leaf_Spot/Corn_Gray_Spot (468).JPG  \n",
            "  inflating: maize_leaf_data/data/Gray_Leaf_Spot/Corn_Gray_Spot (469).JPG  \n",
            "  inflating: maize_leaf_data/data/Gray_Leaf_Spot/Corn_Gray_Spot (47).jpg  \n",
            "  inflating: maize_leaf_data/data/Gray_Leaf_Spot/Corn_Gray_Spot (470).JPG  \n",
            "  inflating: maize_leaf_data/data/Gray_Leaf_Spot/Corn_Gray_Spot (471).JPG  \n",
            "  inflating: maize_leaf_data/data/Gray_Leaf_Spot/Corn_Gray_Spot (472).JPG  \n",
            "  inflating: maize_leaf_data/data/Gray_Leaf_Spot/Corn_Gray_Spot (473).jpg  \n",
            "  inflating: maize_leaf_data/data/Gray_Leaf_Spot/Corn_Gray_Spot (474).jpg  \n",
            "  inflating: maize_leaf_data/data/Gray_Leaf_Spot/Corn_Gray_Spot (475).JPG  \n",
            "  inflating: maize_leaf_data/data/Gray_Leaf_Spot/Corn_Gray_Spot (476).JPG  \n",
            "  inflating: maize_leaf_data/data/Gray_Leaf_Spot/Corn_Gray_Spot (477).JPG  \n",
            "  inflating: maize_leaf_data/data/Gray_Leaf_Spot/Corn_Gray_Spot (478).JPG  \n",
            "  inflating: maize_leaf_data/data/Gray_Leaf_Spot/Corn_Gray_Spot (479).JPG  \n",
            "  inflating: maize_leaf_data/data/Gray_Leaf_Spot/Corn_Gray_Spot (48).jpg  \n",
            "  inflating: maize_leaf_data/data/Gray_Leaf_Spot/Corn_Gray_Spot (480).jpg  \n",
            "  inflating: maize_leaf_data/data/Gray_Leaf_Spot/Corn_Gray_Spot (481).JPG  \n",
            "  inflating: maize_leaf_data/data/Gray_Leaf_Spot/Corn_Gray_Spot (482).JPG  \n",
            "  inflating: maize_leaf_data/data/Gray_Leaf_Spot/Corn_Gray_Spot (483).JPG  \n",
            "  inflating: maize_leaf_data/data/Gray_Leaf_Spot/Corn_Gray_Spot (484).JPG  \n",
            "  inflating: maize_leaf_data/data/Gray_Leaf_Spot/Corn_Gray_Spot (485).JPG  \n",
            "  inflating: maize_leaf_data/data/Gray_Leaf_Spot/Corn_Gray_Spot (486).JPG  \n",
            "  inflating: maize_leaf_data/data/Gray_Leaf_Spot/Corn_Gray_Spot (487).JPG  \n",
            "  inflating: maize_leaf_data/data/Gray_Leaf_Spot/Corn_Gray_Spot (488).JPG  \n",
            "  inflating: maize_leaf_data/data/Gray_Leaf_Spot/Corn_Gray_Spot (489).JPG  \n",
            "  inflating: maize_leaf_data/data/Gray_Leaf_Spot/Corn_Gray_Spot (49).JPG  \n",
            "  inflating: maize_leaf_data/data/Gray_Leaf_Spot/Corn_Gray_Spot (490).JPG  \n",
            "  inflating: maize_leaf_data/data/Gray_Leaf_Spot/Corn_Gray_Spot (491).JPG  \n",
            "  inflating: maize_leaf_data/data/Gray_Leaf_Spot/Corn_Gray_Spot (492).JPG  \n",
            "  inflating: maize_leaf_data/data/Gray_Leaf_Spot/Corn_Gray_Spot (493).JPG  \n",
            "  inflating: maize_leaf_data/data/Gray_Leaf_Spot/Corn_Gray_Spot (494).JPG  \n",
            "  inflating: maize_leaf_data/data/Gray_Leaf_Spot/Corn_Gray_Spot (495).jpg  \n",
            "  inflating: maize_leaf_data/data/Gray_Leaf_Spot/Corn_Gray_Spot (496).JPG  \n",
            "  inflating: maize_leaf_data/data/Gray_Leaf_Spot/Corn_Gray_Spot (497).jpg  \n",
            "  inflating: maize_leaf_data/data/Gray_Leaf_Spot/Corn_Gray_Spot (498).JPG  \n",
            "  inflating: maize_leaf_data/data/Gray_Leaf_Spot/Corn_Gray_Spot (499).JPG  \n",
            "  inflating: maize_leaf_data/data/Gray_Leaf_Spot/Corn_Gray_Spot (5).jpg  \n",
            "  inflating: maize_leaf_data/data/Gray_Leaf_Spot/Corn_Gray_Spot (50).JPG  \n",
            "  inflating: maize_leaf_data/data/Gray_Leaf_Spot/Corn_Gray_Spot (500).JPG  \n",
            "  inflating: maize_leaf_data/data/Gray_Leaf_Spot/Corn_Gray_Spot (501).JPG  \n",
            "  inflating: maize_leaf_data/data/Gray_Leaf_Spot/Corn_Gray_Spot (502).JPG  \n",
            "  inflating: maize_leaf_data/data/Gray_Leaf_Spot/Corn_Gray_Spot (503).JPG  \n",
            "  inflating: maize_leaf_data/data/Gray_Leaf_Spot/Corn_Gray_Spot (504).JPG  \n",
            "  inflating: maize_leaf_data/data/Gray_Leaf_Spot/Corn_Gray_Spot (505).JPG  \n",
            "  inflating: maize_leaf_data/data/Gray_Leaf_Spot/Corn_Gray_Spot (506).JPG  \n",
            "  inflating: maize_leaf_data/data/Gray_Leaf_Spot/Corn_Gray_Spot (507).JPG  \n",
            "  inflating: maize_leaf_data/data/Gray_Leaf_Spot/Corn_Gray_Spot (508).jpg  \n",
            "  inflating: maize_leaf_data/data/Gray_Leaf_Spot/Corn_Gray_Spot (509).jpg  \n",
            "  inflating: maize_leaf_data/data/Gray_Leaf_Spot/Corn_Gray_Spot (51).JPG  \n",
            "  inflating: maize_leaf_data/data/Gray_Leaf_Spot/Corn_Gray_Spot (510).JPG  \n",
            "  inflating: maize_leaf_data/data/Gray_Leaf_Spot/Corn_Gray_Spot (511).JPG  \n",
            "  inflating: maize_leaf_data/data/Gray_Leaf_Spot/Corn_Gray_Spot (512).JPG  \n",
            "  inflating: maize_leaf_data/data/Gray_Leaf_Spot/Corn_Gray_Spot (513).JPG  \n",
            "  inflating: maize_leaf_data/data/Gray_Leaf_Spot/Corn_Gray_Spot (514).JPG  \n",
            "  inflating: maize_leaf_data/data/Gray_Leaf_Spot/Corn_Gray_Spot (515).JPG  \n",
            "  inflating: maize_leaf_data/data/Gray_Leaf_Spot/Corn_Gray_Spot (516).JPG  \n",
            "  inflating: maize_leaf_data/data/Gray_Leaf_Spot/Corn_Gray_Spot (517).JPG  \n",
            "  inflating: maize_leaf_data/data/Gray_Leaf_Spot/Corn_Gray_Spot (518).jpg  \n",
            "  inflating: maize_leaf_data/data/Gray_Leaf_Spot/Corn_Gray_Spot (519).JPG  \n",
            "  inflating: maize_leaf_data/data/Gray_Leaf_Spot/Corn_Gray_Spot (52).jpg  \n",
            "  inflating: maize_leaf_data/data/Gray_Leaf_Spot/Corn_Gray_Spot (520).JPG  \n",
            "  inflating: maize_leaf_data/data/Gray_Leaf_Spot/Corn_Gray_Spot (521).JPG  \n",
            "  inflating: maize_leaf_data/data/Gray_Leaf_Spot/Corn_Gray_Spot (522).jpg  \n",
            "  inflating: maize_leaf_data/data/Gray_Leaf_Spot/Corn_Gray_Spot (523).jpg  \n",
            "  inflating: maize_leaf_data/data/Gray_Leaf_Spot/Corn_Gray_Spot (524).JPG  \n",
            "  inflating: maize_leaf_data/data/Gray_Leaf_Spot/Corn_Gray_Spot (525).JPG  \n",
            "  inflating: maize_leaf_data/data/Gray_Leaf_Spot/Corn_Gray_Spot (526).JPG  \n",
            "  inflating: maize_leaf_data/data/Gray_Leaf_Spot/Corn_Gray_Spot (527).JPG  \n",
            "  inflating: maize_leaf_data/data/Gray_Leaf_Spot/Corn_Gray_Spot (528).JPG  \n",
            "  inflating: maize_leaf_data/data/Gray_Leaf_Spot/Corn_Gray_Spot (529).jpg  \n",
            "  inflating: maize_leaf_data/data/Gray_Leaf_Spot/Corn_Gray_Spot (53).JPG  \n",
            "  inflating: maize_leaf_data/data/Gray_Leaf_Spot/Corn_Gray_Spot (530).JPG  \n",
            "  inflating: maize_leaf_data/data/Gray_Leaf_Spot/Corn_Gray_Spot (531).JPG  \n",
            "  inflating: maize_leaf_data/data/Gray_Leaf_Spot/Corn_Gray_Spot (532).JPG  \n",
            "  inflating: maize_leaf_data/data/Gray_Leaf_Spot/Corn_Gray_Spot (533).JPG  \n",
            "  inflating: maize_leaf_data/data/Gray_Leaf_Spot/Corn_Gray_Spot (534).JPG  \n",
            "  inflating: maize_leaf_data/data/Gray_Leaf_Spot/Corn_Gray_Spot (535).JPG  \n",
            "  inflating: maize_leaf_data/data/Gray_Leaf_Spot/Corn_Gray_Spot (536).JPG  \n",
            "  inflating: maize_leaf_data/data/Gray_Leaf_Spot/Corn_Gray_Spot (537).JPG  \n",
            "  inflating: maize_leaf_data/data/Gray_Leaf_Spot/Corn_Gray_Spot (538).JPG  \n",
            "  inflating: maize_leaf_data/data/Gray_Leaf_Spot/Corn_Gray_Spot (539).JPG  \n",
            "  inflating: maize_leaf_data/data/Gray_Leaf_Spot/Corn_Gray_Spot (54).JPG  \n",
            "  inflating: maize_leaf_data/data/Gray_Leaf_Spot/Corn_Gray_Spot (540).jpg  \n",
            "  inflating: maize_leaf_data/data/Gray_Leaf_Spot/Corn_Gray_Spot (541).JPG  \n",
            "  inflating: maize_leaf_data/data/Gray_Leaf_Spot/Corn_Gray_Spot (542).jpg  \n",
            "  inflating: maize_leaf_data/data/Gray_Leaf_Spot/Corn_Gray_Spot (543).JPG  \n",
            "  inflating: maize_leaf_data/data/Gray_Leaf_Spot/Corn_Gray_Spot (544).JPG  \n",
            "  inflating: maize_leaf_data/data/Gray_Leaf_Spot/Corn_Gray_Spot (545).JPG  \n",
            "  inflating: maize_leaf_data/data/Gray_Leaf_Spot/Corn_Gray_Spot (546).jpg  \n",
            "  inflating: maize_leaf_data/data/Gray_Leaf_Spot/Corn_Gray_Spot (547).JPG  \n",
            "  inflating: maize_leaf_data/data/Gray_Leaf_Spot/Corn_Gray_Spot (548).JPG  \n",
            "  inflating: maize_leaf_data/data/Gray_Leaf_Spot/Corn_Gray_Spot (549).JPG  \n",
            "  inflating: maize_leaf_data/data/Gray_Leaf_Spot/Corn_Gray_Spot (55).jpg  \n",
            "  inflating: maize_leaf_data/data/Gray_Leaf_Spot/Corn_Gray_Spot (550).JPG  \n",
            "  inflating: maize_leaf_data/data/Gray_Leaf_Spot/Corn_Gray_Spot (551).JPG  \n",
            "  inflating: maize_leaf_data/data/Gray_Leaf_Spot/Corn_Gray_Spot (552).JPG  \n",
            "  inflating: maize_leaf_data/data/Gray_Leaf_Spot/Corn_Gray_Spot (553).JPG  \n",
            "  inflating: maize_leaf_data/data/Gray_Leaf_Spot/Corn_Gray_Spot (554).JPG  \n",
            "  inflating: maize_leaf_data/data/Gray_Leaf_Spot/Corn_Gray_Spot (555).JPG  \n",
            "  inflating: maize_leaf_data/data/Gray_Leaf_Spot/Corn_Gray_Spot (556).jpg  \n",
            "  inflating: maize_leaf_data/data/Gray_Leaf_Spot/Corn_Gray_Spot (557).jpg  \n",
            "  inflating: maize_leaf_data/data/Gray_Leaf_Spot/Corn_Gray_Spot (558).JPG  \n",
            "  inflating: maize_leaf_data/data/Gray_Leaf_Spot/Corn_Gray_Spot (559).JPG  \n",
            "  inflating: maize_leaf_data/data/Gray_Leaf_Spot/Corn_Gray_Spot (56).JPG  \n",
            "  inflating: maize_leaf_data/data/Gray_Leaf_Spot/Corn_Gray_Spot (560).JPG  \n",
            "  inflating: maize_leaf_data/data/Gray_Leaf_Spot/Corn_Gray_Spot (561).JPG  \n",
            "  inflating: maize_leaf_data/data/Gray_Leaf_Spot/Corn_Gray_Spot (562).jpg  \n",
            "  inflating: maize_leaf_data/data/Gray_Leaf_Spot/Corn_Gray_Spot (563).jpg  \n",
            "  inflating: maize_leaf_data/data/Gray_Leaf_Spot/Corn_Gray_Spot (564).jpg  \n",
            "  inflating: maize_leaf_data/data/Gray_Leaf_Spot/Corn_Gray_Spot (565).jpg  \n",
            "  inflating: maize_leaf_data/data/Gray_Leaf_Spot/Corn_Gray_Spot (566).jpg  \n",
            "  inflating: maize_leaf_data/data/Gray_Leaf_Spot/Corn_Gray_Spot (567).jpg  \n",
            "  inflating: maize_leaf_data/data/Gray_Leaf_Spot/Corn_Gray_Spot (568).jpg  \n",
            "  inflating: maize_leaf_data/data/Gray_Leaf_Spot/Corn_Gray_Spot (569).jpg  \n",
            "  inflating: maize_leaf_data/data/Gray_Leaf_Spot/Corn_Gray_Spot (57).JPG  \n",
            "  inflating: maize_leaf_data/data/Gray_Leaf_Spot/Corn_Gray_Spot (570).jpg  \n",
            "  inflating: maize_leaf_data/data/Gray_Leaf_Spot/Corn_Gray_Spot (571).jpg  \n",
            "  inflating: maize_leaf_data/data/Gray_Leaf_Spot/Corn_Gray_Spot (572).jpg  \n",
            "  inflating: maize_leaf_data/data/Gray_Leaf_Spot/Corn_Gray_Spot (573).jpg  \n",
            "  inflating: maize_leaf_data/data/Gray_Leaf_Spot/Corn_Gray_Spot (574).jpg  \n",
            "  inflating: maize_leaf_data/data/Gray_Leaf_Spot/Corn_Gray_Spot (58).JPG  \n",
            "  inflating: maize_leaf_data/data/Gray_Leaf_Spot/Corn_Gray_Spot (59).JPG  \n",
            "  inflating: maize_leaf_data/data/Gray_Leaf_Spot/Corn_Gray_Spot (6).jpg  \n",
            "  inflating: maize_leaf_data/data/Gray_Leaf_Spot/Corn_Gray_Spot (60).JPG  \n",
            "  inflating: maize_leaf_data/data/Gray_Leaf_Spot/Corn_Gray_Spot (61).JPG  \n",
            "  inflating: maize_leaf_data/data/Gray_Leaf_Spot/Corn_Gray_Spot (62).JPG  \n",
            "  inflating: maize_leaf_data/data/Gray_Leaf_Spot/Corn_Gray_Spot (63).JPG  \n",
            "  inflating: maize_leaf_data/data/Gray_Leaf_Spot/Corn_Gray_Spot (64).JPG  \n",
            "  inflating: maize_leaf_data/data/Gray_Leaf_Spot/Corn_Gray_Spot (65).JPG  \n",
            "  inflating: maize_leaf_data/data/Gray_Leaf_Spot/Corn_Gray_Spot (66).JPG  \n",
            "  inflating: maize_leaf_data/data/Gray_Leaf_Spot/Corn_Gray_Spot (67).JPG  \n",
            "  inflating: maize_leaf_data/data/Gray_Leaf_Spot/Corn_Gray_Spot (68).jpg  \n",
            "  inflating: maize_leaf_data/data/Gray_Leaf_Spot/Corn_Gray_Spot (69).JPG  \n",
            "  inflating: maize_leaf_data/data/Gray_Leaf_Spot/Corn_Gray_Spot (7).jpg  \n",
            "  inflating: maize_leaf_data/data/Gray_Leaf_Spot/Corn_Gray_Spot (70).JPG  \n",
            "  inflating: maize_leaf_data/data/Gray_Leaf_Spot/Corn_Gray_Spot (71).JPG  \n",
            "  inflating: maize_leaf_data/data/Gray_Leaf_Spot/Corn_Gray_Spot (72).JPG  \n",
            "  inflating: maize_leaf_data/data/Gray_Leaf_Spot/Corn_Gray_Spot (73).JPG  \n",
            "  inflating: maize_leaf_data/data/Gray_Leaf_Spot/Corn_Gray_Spot (74).JPG  \n",
            "  inflating: maize_leaf_data/data/Gray_Leaf_Spot/Corn_Gray_Spot (75).jpg  \n",
            "  inflating: maize_leaf_data/data/Gray_Leaf_Spot/Corn_Gray_Spot (76).JPG  \n",
            "  inflating: maize_leaf_data/data/Gray_Leaf_Spot/Corn_Gray_Spot (77).JPG  \n",
            "  inflating: maize_leaf_data/data/Gray_Leaf_Spot/Corn_Gray_Spot (78).JPG  \n",
            "  inflating: maize_leaf_data/data/Gray_Leaf_Spot/Corn_Gray_Spot (79).jpg  \n",
            "  inflating: maize_leaf_data/data/Gray_Leaf_Spot/Corn_Gray_Spot (8).jpg  \n",
            "  inflating: maize_leaf_data/data/Gray_Leaf_Spot/Corn_Gray_Spot (80).JPG  \n",
            "  inflating: maize_leaf_data/data/Gray_Leaf_Spot/Corn_Gray_Spot (81).JPG  \n",
            "  inflating: maize_leaf_data/data/Gray_Leaf_Spot/Corn_Gray_Spot (82).JPG  \n",
            "  inflating: maize_leaf_data/data/Gray_Leaf_Spot/Corn_Gray_Spot (83).JPG  \n",
            "  inflating: maize_leaf_data/data/Gray_Leaf_Spot/Corn_Gray_Spot (84).JPG  \n",
            "  inflating: maize_leaf_data/data/Gray_Leaf_Spot/Corn_Gray_Spot (85).JPG  \n",
            "  inflating: maize_leaf_data/data/Gray_Leaf_Spot/Corn_Gray_Spot (86).JPG  \n",
            "  inflating: maize_leaf_data/data/Gray_Leaf_Spot/Corn_Gray_Spot (87).JPG  \n",
            "  inflating: maize_leaf_data/data/Gray_Leaf_Spot/Corn_Gray_Spot (88).JPG  \n",
            "  inflating: maize_leaf_data/data/Gray_Leaf_Spot/Corn_Gray_Spot (89).JPG  \n",
            "  inflating: maize_leaf_data/data/Gray_Leaf_Spot/Corn_Gray_Spot (9).jpg  \n",
            "  inflating: maize_leaf_data/data/Gray_Leaf_Spot/Corn_Gray_Spot (90).JPG  \n",
            "  inflating: maize_leaf_data/data/Gray_Leaf_Spot/Corn_Gray_Spot (91).JPG  \n",
            "  inflating: maize_leaf_data/data/Gray_Leaf_Spot/Corn_Gray_Spot (92).JPG  \n",
            "  inflating: maize_leaf_data/data/Gray_Leaf_Spot/Corn_Gray_Spot (93).JPG  \n",
            "  inflating: maize_leaf_data/data/Gray_Leaf_Spot/Corn_Gray_Spot (94).JPG  \n",
            "  inflating: maize_leaf_data/data/Gray_Leaf_Spot/Corn_Gray_Spot (95).JPG  \n",
            "  inflating: maize_leaf_data/data/Gray_Leaf_Spot/Corn_Gray_Spot (96).JPG  \n",
            "  inflating: maize_leaf_data/data/Gray_Leaf_Spot/Corn_Gray_Spot (97).JPG  \n",
            "  inflating: maize_leaf_data/data/Gray_Leaf_Spot/Corn_Gray_Spot (98).jpg  \n",
            "  inflating: maize_leaf_data/data/Gray_Leaf_Spot/Corn_Gray_Spot (99).JPG  \n",
            "  inflating: maize_leaf_data/data/Healthy/Corn_Health (1).jpg  \n",
            "  inflating: maize_leaf_data/data/Healthy/Corn_Health (10).jpg  \n",
            "  inflating: maize_leaf_data/data/Healthy/Corn_Health (100).jpg  \n",
            "  inflating: maize_leaf_data/data/Healthy/Corn_Health (1000).jpg  \n",
            "  inflating: maize_leaf_data/data/Healthy/Corn_Health (1001).jpg  \n",
            "  inflating: maize_leaf_data/data/Healthy/Corn_Health (1002).jpg  \n",
            "  inflating: maize_leaf_data/data/Healthy/Corn_Health (1003).jpg  \n",
            "  inflating: maize_leaf_data/data/Healthy/Corn_Health (1004).jpg  \n",
            "  inflating: maize_leaf_data/data/Healthy/Corn_Health (1005).jpg  \n",
            "  inflating: maize_leaf_data/data/Healthy/Corn_Health (1006).jpg  \n",
            "  inflating: maize_leaf_data/data/Healthy/Corn_Health (1007).jpg  \n",
            "  inflating: maize_leaf_data/data/Healthy/Corn_Health (1008).jpg  \n",
            "  inflating: maize_leaf_data/data/Healthy/Corn_Health (1009).jpg  \n",
            "  inflating: maize_leaf_data/data/Healthy/Corn_Health (101).jpg  \n",
            "  inflating: maize_leaf_data/data/Healthy/Corn_Health (1010).jpg  \n",
            "  inflating: maize_leaf_data/data/Healthy/Corn_Health (1011).jpg  \n",
            "  inflating: maize_leaf_data/data/Healthy/Corn_Health (1012).JPG  \n",
            "  inflating: maize_leaf_data/data/Healthy/Corn_Health (1013).jpg  \n",
            "  inflating: maize_leaf_data/data/Healthy/Corn_Health (1014).jpg  \n",
            "  inflating: maize_leaf_data/data/Healthy/Corn_Health (1015).jpg  \n",
            "  inflating: maize_leaf_data/data/Healthy/Corn_Health (1016).jpg  \n",
            "  inflating: maize_leaf_data/data/Healthy/Corn_Health (1017).jpg  \n",
            "  inflating: maize_leaf_data/data/Healthy/Corn_Health (1018).jpg  \n",
            "  inflating: maize_leaf_data/data/Healthy/Corn_Health (1019).jpg  \n",
            "  inflating: maize_leaf_data/data/Healthy/Corn_Health (102).jpg  \n",
            "  inflating: maize_leaf_data/data/Healthy/Corn_Health (1020).jpg  \n",
            "  inflating: maize_leaf_data/data/Healthy/Corn_Health (1021).jpg  \n",
            "  inflating: maize_leaf_data/data/Healthy/Corn_Health (1022).jpg  \n",
            "  inflating: maize_leaf_data/data/Healthy/Corn_Health (1023).jpg  \n",
            "  inflating: maize_leaf_data/data/Healthy/Corn_Health (1024).jpg  \n",
            "  inflating: maize_leaf_data/data/Healthy/Corn_Health (1025).jpg  \n",
            "  inflating: maize_leaf_data/data/Healthy/Corn_Health (1026).jpg  \n",
            "  inflating: maize_leaf_data/data/Healthy/Corn_Health (1027).jpg  \n",
            "  inflating: maize_leaf_data/data/Healthy/Corn_Health (1028).JPG  \n",
            "  inflating: maize_leaf_data/data/Healthy/Corn_Health (1029).jpg  \n",
            "  inflating: maize_leaf_data/data/Healthy/Corn_Health (103).jpg  \n",
            "  inflating: maize_leaf_data/data/Healthy/Corn_Health (1030).jpg  \n",
            "  inflating: maize_leaf_data/data/Healthy/Corn_Health (1031).jpg  \n",
            "  inflating: maize_leaf_data/data/Healthy/Corn_Health (1032).jpg  \n",
            "  inflating: maize_leaf_data/data/Healthy/Corn_Health (1033).jpg  \n",
            "  inflating: maize_leaf_data/data/Healthy/Corn_Health (1034).jpg  \n",
            "  inflating: maize_leaf_data/data/Healthy/Corn_Health (1035).jpg  \n",
            "  inflating: maize_leaf_data/data/Healthy/Corn_Health (1036).jpg  \n",
            "  inflating: maize_leaf_data/data/Healthy/Corn_Health (1037).jpg  \n",
            "  inflating: maize_leaf_data/data/Healthy/Corn_Health (1038).jpg  \n",
            "  inflating: maize_leaf_data/data/Healthy/Corn_Health (1039).jpg  \n",
            "  inflating: maize_leaf_data/data/Healthy/Corn_Health (104).jpg  \n",
            "  inflating: maize_leaf_data/data/Healthy/Corn_Health (1040).jpg  \n",
            "  inflating: maize_leaf_data/data/Healthy/Corn_Health (1041).jpg  \n",
            "  inflating: maize_leaf_data/data/Healthy/Corn_Health (1042).jpg  \n",
            "  inflating: maize_leaf_data/data/Healthy/Corn_Health (1043).jpg  \n",
            "  inflating: maize_leaf_data/data/Healthy/Corn_Health (1044).jpg  \n",
            "  inflating: maize_leaf_data/data/Healthy/Corn_Health (1045).jpg  \n",
            "  inflating: maize_leaf_data/data/Healthy/Corn_Health (1046).jpg  \n",
            "  inflating: maize_leaf_data/data/Healthy/Corn_Health (1047).JPG  \n",
            "  inflating: maize_leaf_data/data/Healthy/Corn_Health (1048).jpg  \n",
            "  inflating: maize_leaf_data/data/Healthy/Corn_Health (1049).jpg  \n",
            "  inflating: maize_leaf_data/data/Healthy/Corn_Health (105).jpg  \n",
            "  inflating: maize_leaf_data/data/Healthy/Corn_Health (1050).jpg  \n",
            "  inflating: maize_leaf_data/data/Healthy/Corn_Health (1051).jpg  \n",
            "  inflating: maize_leaf_data/data/Healthy/Corn_Health (1052).jpg  \n",
            "  inflating: maize_leaf_data/data/Healthy/Corn_Health (1053).jpg  \n",
            "  inflating: maize_leaf_data/data/Healthy/Corn_Health (1054).jpg  \n",
            "  inflating: maize_leaf_data/data/Healthy/Corn_Health (1055).jpg  \n",
            "  inflating: maize_leaf_data/data/Healthy/Corn_Health (1056).jpg  \n",
            "  inflating: maize_leaf_data/data/Healthy/Corn_Health (1057).jpg  \n",
            "  inflating: maize_leaf_data/data/Healthy/Corn_Health (1058).jpg  \n",
            "  inflating: maize_leaf_data/data/Healthy/Corn_Health (1059).jpg  \n",
            "  inflating: maize_leaf_data/data/Healthy/Corn_Health (106).jpg  \n",
            "  inflating: maize_leaf_data/data/Healthy/Corn_Health (1060).jpg  \n",
            "  inflating: maize_leaf_data/data/Healthy/Corn_Health (1061).jpg  \n",
            "  inflating: maize_leaf_data/data/Healthy/Corn_Health (1062).jpg  \n",
            "  inflating: maize_leaf_data/data/Healthy/Corn_Health (1063).jpg  \n",
            "  inflating: maize_leaf_data/data/Healthy/Corn_Health (1064).jpg  \n",
            "  inflating: maize_leaf_data/data/Healthy/Corn_Health (1065).jpg  \n",
            "  inflating: maize_leaf_data/data/Healthy/Corn_Health (1066).jpg  \n",
            "  inflating: maize_leaf_data/data/Healthy/Corn_Health (1067).jpg  \n",
            "  inflating: maize_leaf_data/data/Healthy/Corn_Health (1068).jpg  \n",
            "  inflating: maize_leaf_data/data/Healthy/Corn_Health (1069).jpg  \n",
            "  inflating: maize_leaf_data/data/Healthy/Corn_Health (107).JPG  \n",
            "  inflating: maize_leaf_data/data/Healthy/Corn_Health (1070).jpg  \n",
            "  inflating: maize_leaf_data/data/Healthy/Corn_Health (1071).jpg  \n",
            "  inflating: maize_leaf_data/data/Healthy/Corn_Health (1072).jpg  \n",
            "  inflating: maize_leaf_data/data/Healthy/Corn_Health (1073).jpg  \n",
            "  inflating: maize_leaf_data/data/Healthy/Corn_Health (1074).jpg  \n",
            "  inflating: maize_leaf_data/data/Healthy/Corn_Health (1075).jpg  \n",
            "  inflating: maize_leaf_data/data/Healthy/Corn_Health (1076).jpg  \n",
            "  inflating: maize_leaf_data/data/Healthy/Corn_Health (1077).jpg  \n",
            "  inflating: maize_leaf_data/data/Healthy/Corn_Health (1078).jpg  \n",
            "  inflating: maize_leaf_data/data/Healthy/Corn_Health (1079).jpg  \n",
            "  inflating: maize_leaf_data/data/Healthy/Corn_Health (108).jpg  \n",
            "  inflating: maize_leaf_data/data/Healthy/Corn_Health (1080).jpg  \n",
            "  inflating: maize_leaf_data/data/Healthy/Corn_Health (1081).jpg  \n",
            "  inflating: maize_leaf_data/data/Healthy/Corn_Health (1082).jpg  \n",
            "  inflating: maize_leaf_data/data/Healthy/Corn_Health (1083).jpg  \n",
            "  inflating: maize_leaf_data/data/Healthy/Corn_Health (1084).jpg  \n",
            "  inflating: maize_leaf_data/data/Healthy/Corn_Health (1085).jpg  \n",
            "  inflating: maize_leaf_data/data/Healthy/Corn_Health (1086).jpg  \n",
            "  inflating: maize_leaf_data/data/Healthy/Corn_Health (1087).jpg  \n",
            "  inflating: maize_leaf_data/data/Healthy/Corn_Health (1088).jpg  \n",
            "  inflating: maize_leaf_data/data/Healthy/Corn_Health (1089).jpg  \n",
            "  inflating: maize_leaf_data/data/Healthy/Corn_Health (109).jpg  \n",
            "  inflating: maize_leaf_data/data/Healthy/Corn_Health (1090).jpg  \n",
            "  inflating: maize_leaf_data/data/Healthy/Corn_Health (1091).jpg  \n",
            "  inflating: maize_leaf_data/data/Healthy/Corn_Health (1092).jpg  \n",
            "  inflating: maize_leaf_data/data/Healthy/Corn_Health (1093).jpg  \n",
            "  inflating: maize_leaf_data/data/Healthy/Corn_Health (1094).jpg  \n",
            "  inflating: maize_leaf_data/data/Healthy/Corn_Health (1095).jpg  \n",
            "  inflating: maize_leaf_data/data/Healthy/Corn_Health (1096).jpg  \n",
            "  inflating: maize_leaf_data/data/Healthy/Corn_Health (1097).jpg  \n",
            "  inflating: maize_leaf_data/data/Healthy/Corn_Health (1098).jpg  \n",
            "  inflating: maize_leaf_data/data/Healthy/Corn_Health (1099).jpg  \n",
            "  inflating: maize_leaf_data/data/Healthy/Corn_Health (11).jpg  \n",
            "  inflating: maize_leaf_data/data/Healthy/Corn_Health (110).jpg  \n",
            "  inflating: maize_leaf_data/data/Healthy/Corn_Health (1100).jpg  \n",
            "  inflating: maize_leaf_data/data/Healthy/Corn_Health (1101).jpg  \n",
            "  inflating: maize_leaf_data/data/Healthy/Corn_Health (1102).jpg  \n",
            "  inflating: maize_leaf_data/data/Healthy/Corn_Health (1103).jpg  \n",
            "  inflating: maize_leaf_data/data/Healthy/Corn_Health (1104).jpg  \n",
            "  inflating: maize_leaf_data/data/Healthy/Corn_Health (1105).jpg  \n",
            "  inflating: maize_leaf_data/data/Healthy/Corn_Health (1106).jpg  \n",
            "  inflating: maize_leaf_data/data/Healthy/Corn_Health (1107).jpg  \n",
            "  inflating: maize_leaf_data/data/Healthy/Corn_Health (1108).jpg  \n",
            "  inflating: maize_leaf_data/data/Healthy/Corn_Health (1109).jpg  \n",
            "  inflating: maize_leaf_data/data/Healthy/Corn_Health (111).jpg  \n",
            "  inflating: maize_leaf_data/data/Healthy/Corn_Health (1110).jpg  \n",
            "  inflating: maize_leaf_data/data/Healthy/Corn_Health (1111).jpg  \n",
            "  inflating: maize_leaf_data/data/Healthy/Corn_Health (1112).jpg  \n",
            "  inflating: maize_leaf_data/data/Healthy/Corn_Health (1113).jpg  \n",
            "  inflating: maize_leaf_data/data/Healthy/Corn_Health (1114).jpg  \n",
            "  inflating: maize_leaf_data/data/Healthy/Corn_Health (1115).jpg  \n",
            "  inflating: maize_leaf_data/data/Healthy/Corn_Health (1116).jpg  \n",
            "  inflating: maize_leaf_data/data/Healthy/Corn_Health (1117).jpg  \n",
            "  inflating: maize_leaf_data/data/Healthy/Corn_Health (1118).jpg  \n",
            "  inflating: maize_leaf_data/data/Healthy/Corn_Health (1119).jpg  \n",
            "  inflating: maize_leaf_data/data/Healthy/Corn_Health (112).jpg  \n",
            "  inflating: maize_leaf_data/data/Healthy/Corn_Health (1120).jpg  \n",
            "  inflating: maize_leaf_data/data/Healthy/Corn_Health (1121).jpg  \n",
            "  inflating: maize_leaf_data/data/Healthy/Corn_Health (1122).jpg  \n",
            "  inflating: maize_leaf_data/data/Healthy/Corn_Health (1123).jpg  \n",
            "  inflating: maize_leaf_data/data/Healthy/Corn_Health (1124).jpg  \n",
            "  inflating: maize_leaf_data/data/Healthy/Corn_Health (1125).jpg  \n",
            "  inflating: maize_leaf_data/data/Healthy/Corn_Health (1126).jpg  \n",
            "  inflating: maize_leaf_data/data/Healthy/Corn_Health (1127).jpg  \n",
            "  inflating: maize_leaf_data/data/Healthy/Corn_Health (1128).jpg  \n",
            "  inflating: maize_leaf_data/data/Healthy/Corn_Health (1129).jpg  \n",
            "  inflating: maize_leaf_data/data/Healthy/Corn_Health (113).jpg  \n",
            "  inflating: maize_leaf_data/data/Healthy/Corn_Health (1130).jpg  \n",
            "  inflating: maize_leaf_data/data/Healthy/Corn_Health (1131).jpg  \n",
            "  inflating: maize_leaf_data/data/Healthy/Corn_Health (1132).jpg  \n",
            "  inflating: maize_leaf_data/data/Healthy/Corn_Health (1133).jpg  \n",
            "  inflating: maize_leaf_data/data/Healthy/Corn_Health (1134).jpg  \n",
            "  inflating: maize_leaf_data/data/Healthy/Corn_Health (1135).jpg  \n",
            "  inflating: maize_leaf_data/data/Healthy/Corn_Health (1136).jpg  \n",
            "  inflating: maize_leaf_data/data/Healthy/Corn_Health (1137).jpg  \n",
            "  inflating: maize_leaf_data/data/Healthy/Corn_Health (1138).jpg  \n",
            "  inflating: maize_leaf_data/data/Healthy/Corn_Health (1139).jpg  \n",
            "  inflating: maize_leaf_data/data/Healthy/Corn_Health (114).jpg  \n",
            "  inflating: maize_leaf_data/data/Healthy/Corn_Health (1140).jpg  \n",
            "  inflating: maize_leaf_data/data/Healthy/Corn_Health (1141).jpg  \n",
            "  inflating: maize_leaf_data/data/Healthy/Corn_Health (1142).jpg  \n",
            "  inflating: maize_leaf_data/data/Healthy/Corn_Health (1143).jpg  \n",
            "  inflating: maize_leaf_data/data/Healthy/Corn_Health (1144).jpg  \n",
            "  inflating: maize_leaf_data/data/Healthy/Corn_Health (1145).jpg  \n",
            "  inflating: maize_leaf_data/data/Healthy/Corn_Health (1146).jpg  \n",
            "  inflating: maize_leaf_data/data/Healthy/Corn_Health (1147).jpg  \n",
            "  inflating: maize_leaf_data/data/Healthy/Corn_Health (1148).jpg  \n",
            "  inflating: maize_leaf_data/data/Healthy/Corn_Health (1149).jpg  \n",
            "  inflating: maize_leaf_data/data/Healthy/Corn_Health (115).jpg  \n",
            "  inflating: maize_leaf_data/data/Healthy/Corn_Health (1150).jpg  \n",
            "  inflating: maize_leaf_data/data/Healthy/Corn_Health (1151).jpg  \n",
            "  inflating: maize_leaf_data/data/Healthy/Corn_Health (1152).jpg  \n",
            "  inflating: maize_leaf_data/data/Healthy/Corn_Health (1153).jpg  \n",
            "  inflating: maize_leaf_data/data/Healthy/Corn_Health (1154).jpg  \n",
            "  inflating: maize_leaf_data/data/Healthy/Corn_Health (1155).jpg  \n",
            "  inflating: maize_leaf_data/data/Healthy/Corn_Health (1156).jpg  \n",
            "  inflating: maize_leaf_data/data/Healthy/Corn_Health (1157).jpg  \n",
            "  inflating: maize_leaf_data/data/Healthy/Corn_Health (1158).jpg  \n",
            "  inflating: maize_leaf_data/data/Healthy/Corn_Health (1159).jpg  \n",
            "  inflating: maize_leaf_data/data/Healthy/Corn_Health (116).jpg  \n",
            "  inflating: maize_leaf_data/data/Healthy/Corn_Health (1160).jpg  \n",
            "  inflating: maize_leaf_data/data/Healthy/Corn_Health (1161).jpg  \n",
            "  inflating: maize_leaf_data/data/Healthy/Corn_Health (1162).jpg  \n",
            "  inflating: maize_leaf_data/data/Healthy/Corn_Health (117).jpg  \n",
            "  inflating: maize_leaf_data/data/Healthy/Corn_Health (118).jpg  \n",
            "  inflating: maize_leaf_data/data/Healthy/Corn_Health (119).jpg  \n",
            "  inflating: maize_leaf_data/data/Healthy/Corn_Health (12).jpg  \n",
            "  inflating: maize_leaf_data/data/Healthy/Corn_Health (120).jpg  \n",
            "  inflating: maize_leaf_data/data/Healthy/Corn_Health (121).jpg  \n",
            "  inflating: maize_leaf_data/data/Healthy/Corn_Health (122).jpg  \n",
            "  inflating: maize_leaf_data/data/Healthy/Corn_Health (123).jpg  \n",
            "  inflating: maize_leaf_data/data/Healthy/Corn_Health (124).jpg  \n",
            "  inflating: maize_leaf_data/data/Healthy/Corn_Health (125).jpg  \n",
            "  inflating: maize_leaf_data/data/Healthy/Corn_Health (126).jpg  \n",
            "  inflating: maize_leaf_data/data/Healthy/Corn_Health (127).jpg  \n",
            "  inflating: maize_leaf_data/data/Healthy/Corn_Health (128).jpg  \n",
            "  inflating: maize_leaf_data/data/Healthy/Corn_Health (129).jpg  \n",
            "  inflating: maize_leaf_data/data/Healthy/Corn_Health (13).jpg  \n",
            "  inflating: maize_leaf_data/data/Healthy/Corn_Health (130).jpg  \n",
            "  inflating: maize_leaf_data/data/Healthy/Corn_Health (131).jpg  \n",
            "  inflating: maize_leaf_data/data/Healthy/Corn_Health (132).jpg  \n",
            "  inflating: maize_leaf_data/data/Healthy/Corn_Health (133).jpg  \n",
            "  inflating: maize_leaf_data/data/Healthy/Corn_Health (134).jpg  \n",
            "  inflating: maize_leaf_data/data/Healthy/Corn_Health (135).jpg  \n",
            "  inflating: maize_leaf_data/data/Healthy/Corn_Health (136).jpg  \n",
            "  inflating: maize_leaf_data/data/Healthy/Corn_Health (137).jpg  \n",
            "  inflating: maize_leaf_data/data/Healthy/Corn_Health (138).jpg  \n",
            "  inflating: maize_leaf_data/data/Healthy/Corn_Health (139).jpg  \n",
            "  inflating: maize_leaf_data/data/Healthy/Corn_Health (14).jpg  \n",
            "  inflating: maize_leaf_data/data/Healthy/Corn_Health (140).jpg  \n",
            "  inflating: maize_leaf_data/data/Healthy/Corn_Health (141).jpg  \n",
            "  inflating: maize_leaf_data/data/Healthy/Corn_Health (142).jpg  \n",
            "  inflating: maize_leaf_data/data/Healthy/Corn_Health (143).jpg  \n",
            "  inflating: maize_leaf_data/data/Healthy/Corn_Health (144).jpg  \n",
            "  inflating: maize_leaf_data/data/Healthy/Corn_Health (145).jpg  \n",
            "  inflating: maize_leaf_data/data/Healthy/Corn_Health (146).jpg  \n",
            "  inflating: maize_leaf_data/data/Healthy/Corn_Health (147).jpg  \n",
            "  inflating: maize_leaf_data/data/Healthy/Corn_Health (148).jpg  \n",
            "  inflating: maize_leaf_data/data/Healthy/Corn_Health (149).jpg  \n",
            "  inflating: maize_leaf_data/data/Healthy/Corn_Health (15).jpg  \n",
            "  inflating: maize_leaf_data/data/Healthy/Corn_Health (150).jpg  \n",
            "  inflating: maize_leaf_data/data/Healthy/Corn_Health (151).jpg  \n",
            "  inflating: maize_leaf_data/data/Healthy/Corn_Health (152).jpg  \n",
            "  inflating: maize_leaf_data/data/Healthy/Corn_Health (153).jpg  \n",
            "  inflating: maize_leaf_data/data/Healthy/Corn_Health (154).jpg  \n",
            "  inflating: maize_leaf_data/data/Healthy/Corn_Health (155).jpg  \n",
            "  inflating: maize_leaf_data/data/Healthy/Corn_Health (156).jpg  \n",
            "  inflating: maize_leaf_data/data/Healthy/Corn_Health (157).jpg  \n",
            "  inflating: maize_leaf_data/data/Healthy/Corn_Health (158).jpg  \n",
            "  inflating: maize_leaf_data/data/Healthy/Corn_Health (159).jpg  \n",
            "  inflating: maize_leaf_data/data/Healthy/Corn_Health (16).jpg  \n",
            "  inflating: maize_leaf_data/data/Healthy/Corn_Health (160).jpg  \n",
            "  inflating: maize_leaf_data/data/Healthy/Corn_Health (161).jpg  \n",
            "  inflating: maize_leaf_data/data/Healthy/Corn_Health (162).jpg  \n",
            "  inflating: maize_leaf_data/data/Healthy/Corn_Health (163).jpg  \n",
            "  inflating: maize_leaf_data/data/Healthy/Corn_Health (164).jpg  \n",
            "  inflating: maize_leaf_data/data/Healthy/Corn_Health (165).jpg  \n",
            "  inflating: maize_leaf_data/data/Healthy/Corn_Health (166).jpg  \n",
            "  inflating: maize_leaf_data/data/Healthy/Corn_Health (167).jpg  \n",
            "  inflating: maize_leaf_data/data/Healthy/Corn_Health (168).jpg  \n",
            "  inflating: maize_leaf_data/data/Healthy/Corn_Health (169).jpg  \n",
            "  inflating: maize_leaf_data/data/Healthy/Corn_Health (17).jpg  \n",
            "  inflating: maize_leaf_data/data/Healthy/Corn_Health (170).jpg  \n",
            "  inflating: maize_leaf_data/data/Healthy/Corn_Health (171).jpg  \n",
            "  inflating: maize_leaf_data/data/Healthy/Corn_Health (172).jpg  \n",
            "  inflating: maize_leaf_data/data/Healthy/Corn_Health (173).jpg  \n",
            "  inflating: maize_leaf_data/data/Healthy/Corn_Health (174).jpg  \n",
            "  inflating: maize_leaf_data/data/Healthy/Corn_Health (175).jpg  \n",
            "  inflating: maize_leaf_data/data/Healthy/Corn_Health (176).JPG  \n",
            "  inflating: maize_leaf_data/data/Healthy/Corn_Health (177).jpg  \n",
            "  inflating: maize_leaf_data/data/Healthy/Corn_Health (178).jpg  \n",
            "  inflating: maize_leaf_data/data/Healthy/Corn_Health (179).jpg  \n",
            "  inflating: maize_leaf_data/data/Healthy/Corn_Health (18).jpg  \n",
            "  inflating: maize_leaf_data/data/Healthy/Corn_Health (180).jpg  \n",
            "  inflating: maize_leaf_data/data/Healthy/Corn_Health (181).jpg  \n",
            "  inflating: maize_leaf_data/data/Healthy/Corn_Health (182).jpg  \n",
            "  inflating: maize_leaf_data/data/Healthy/Corn_Health (183).jpg  \n",
            "  inflating: maize_leaf_data/data/Healthy/Corn_Health (184).jpg  \n",
            "  inflating: maize_leaf_data/data/Healthy/Corn_Health (185).jpg  \n",
            "  inflating: maize_leaf_data/data/Healthy/Corn_Health (186).jpg  \n",
            "  inflating: maize_leaf_data/data/Healthy/Corn_Health (187).jpg  \n",
            "  inflating: maize_leaf_data/data/Healthy/Corn_Health (188).jpg  \n",
            "  inflating: maize_leaf_data/data/Healthy/Corn_Health (189).jpg  \n",
            "  inflating: maize_leaf_data/data/Healthy/Corn_Health (19).jpg  \n",
            "  inflating: maize_leaf_data/data/Healthy/Corn_Health (190).jpg  \n",
            "  inflating: maize_leaf_data/data/Healthy/Corn_Health (191).jpg  \n",
            "  inflating: maize_leaf_data/data/Healthy/Corn_Health (192).jpg  \n",
            "  inflating: maize_leaf_data/data/Healthy/Corn_Health (193).jpg  \n",
            "  inflating: maize_leaf_data/data/Healthy/Corn_Health (194).jpg  \n",
            "  inflating: maize_leaf_data/data/Healthy/Corn_Health (195).jpg  \n",
            "  inflating: maize_leaf_data/data/Healthy/Corn_Health (196).jpg  \n",
            "  inflating: maize_leaf_data/data/Healthy/Corn_Health (197).jpg  \n",
            "  inflating: maize_leaf_data/data/Healthy/Corn_Health (198).jpg  \n",
            "  inflating: maize_leaf_data/data/Healthy/Corn_Health (199).JPG  \n",
            "  inflating: maize_leaf_data/data/Healthy/Corn_Health (2).jpg  \n",
            "  inflating: maize_leaf_data/data/Healthy/Corn_Health (20).jpg  \n",
            "  inflating: maize_leaf_data/data/Healthy/Corn_Health (200).jpg  \n",
            "  inflating: maize_leaf_data/data/Healthy/Corn_Health (201).jpg  \n",
            "  inflating: maize_leaf_data/data/Healthy/Corn_Health (202).jpg  \n",
            "  inflating: maize_leaf_data/data/Healthy/Corn_Health (203).jpg  \n",
            "  inflating: maize_leaf_data/data/Healthy/Corn_Health (204).jpg  \n",
            "  inflating: maize_leaf_data/data/Healthy/Corn_Health (205).jpg  \n",
            "  inflating: maize_leaf_data/data/Healthy/Corn_Health (206).jpg  \n",
            "  inflating: maize_leaf_data/data/Healthy/Corn_Health (207).jpg  \n",
            "  inflating: maize_leaf_data/data/Healthy/Corn_Health (208).jpg  \n",
            "  inflating: maize_leaf_data/data/Healthy/Corn_Health (209).jpg  \n",
            "  inflating: maize_leaf_data/data/Healthy/Corn_Health (21).jpg  \n",
            "  inflating: maize_leaf_data/data/Healthy/Corn_Health (210).jpg  \n",
            "  inflating: maize_leaf_data/data/Healthy/Corn_Health (211).jpg  \n",
            "  inflating: maize_leaf_data/data/Healthy/Corn_Health (212).jpg  \n",
            "  inflating: maize_leaf_data/data/Healthy/Corn_Health (213).jpg  \n",
            "  inflating: maize_leaf_data/data/Healthy/Corn_Health (214).jpg  \n",
            "  inflating: maize_leaf_data/data/Healthy/Corn_Health (215).jpg  \n",
            "  inflating: maize_leaf_data/data/Healthy/Corn_Health (216).jpg  \n",
            "  inflating: maize_leaf_data/data/Healthy/Corn_Health (217).jpg  \n",
            "  inflating: maize_leaf_data/data/Healthy/Corn_Health (218).jpg  \n",
            "  inflating: maize_leaf_data/data/Healthy/Corn_Health (219).jpg  \n",
            "  inflating: maize_leaf_data/data/Healthy/Corn_Health (22).jpg  \n",
            "  inflating: maize_leaf_data/data/Healthy/Corn_Health (220).jpg  \n",
            "  inflating: maize_leaf_data/data/Healthy/Corn_Health (221).jpg  \n",
            "  inflating: maize_leaf_data/data/Healthy/Corn_Health (222).jpg  \n",
            "  inflating: maize_leaf_data/data/Healthy/Corn_Health (223).jpg  \n",
            "  inflating: maize_leaf_data/data/Healthy/Corn_Health (224).jpg  \n",
            "  inflating: maize_leaf_data/data/Healthy/Corn_Health (225).jpg  \n",
            "  inflating: maize_leaf_data/data/Healthy/Corn_Health (226).jpg  \n",
            "  inflating: maize_leaf_data/data/Healthy/Corn_Health (227).jpg  \n",
            "  inflating: maize_leaf_data/data/Healthy/Corn_Health (228).jpg  \n",
            "  inflating: maize_leaf_data/data/Healthy/Corn_Health (229).jpg  \n",
            "  inflating: maize_leaf_data/data/Healthy/Corn_Health (23).jpg  \n",
            "  inflating: maize_leaf_data/data/Healthy/Corn_Health (230).jpg  \n",
            "  inflating: maize_leaf_data/data/Healthy/Corn_Health (231).jpg  \n",
            "  inflating: maize_leaf_data/data/Healthy/Corn_Health (232).jpg  \n",
            "  inflating: maize_leaf_data/data/Healthy/Corn_Health (233).jpg  \n",
            "  inflating: maize_leaf_data/data/Healthy/Corn_Health (234).jpg  \n",
            "  inflating: maize_leaf_data/data/Healthy/Corn_Health (235).jpg  \n",
            "  inflating: maize_leaf_data/data/Healthy/Corn_Health (236).jpg  \n",
            "  inflating: maize_leaf_data/data/Healthy/Corn_Health (237).jpg  \n",
            "  inflating: maize_leaf_data/data/Healthy/Corn_Health (238).jpg  \n",
            "  inflating: maize_leaf_data/data/Healthy/Corn_Health (239).jpg  \n",
            "  inflating: maize_leaf_data/data/Healthy/Corn_Health (24).jpg  \n",
            "  inflating: maize_leaf_data/data/Healthy/Corn_Health (240).jpg  \n",
            "  inflating: maize_leaf_data/data/Healthy/Corn_Health (241).jpg  \n",
            "  inflating: maize_leaf_data/data/Healthy/Corn_Health (242).jpg  \n",
            "  inflating: maize_leaf_data/data/Healthy/Corn_Health (243).jpg  \n",
            "  inflating: maize_leaf_data/data/Healthy/Corn_Health (244).jpg  \n",
            "  inflating: maize_leaf_data/data/Healthy/Corn_Health (245).jpg  \n",
            "  inflating: maize_leaf_data/data/Healthy/Corn_Health (246).jpg  \n",
            "  inflating: maize_leaf_data/data/Healthy/Corn_Health (247).jpg  \n",
            "  inflating: maize_leaf_data/data/Healthy/Corn_Health (248).jpg  \n",
            "  inflating: maize_leaf_data/data/Healthy/Corn_Health (249).jpg  \n",
            "  inflating: maize_leaf_data/data/Healthy/Corn_Health (25).jpg  \n",
            "  inflating: maize_leaf_data/data/Healthy/Corn_Health (250).jpg  \n",
            "  inflating: maize_leaf_data/data/Healthy/Corn_Health (251).jpg  \n",
            "  inflating: maize_leaf_data/data/Healthy/Corn_Health (252).jpg  \n",
            "  inflating: maize_leaf_data/data/Healthy/Corn_Health (253).jpg  \n",
            "  inflating: maize_leaf_data/data/Healthy/Corn_Health (254).jpg  \n",
            "  inflating: maize_leaf_data/data/Healthy/Corn_Health (255).jpg  \n",
            "  inflating: maize_leaf_data/data/Healthy/Corn_Health (256).jpg  \n",
            "  inflating: maize_leaf_data/data/Healthy/Corn_Health (257).jpg  \n",
            "  inflating: maize_leaf_data/data/Healthy/Corn_Health (258).jpg  \n",
            "  inflating: maize_leaf_data/data/Healthy/Corn_Health (259).jpg  \n",
            "  inflating: maize_leaf_data/data/Healthy/Corn_Health (26).jpg  \n",
            "  inflating: maize_leaf_data/data/Healthy/Corn_Health (260).jpg  \n",
            "  inflating: maize_leaf_data/data/Healthy/Corn_Health (261).jpg  \n",
            "  inflating: maize_leaf_data/data/Healthy/Corn_Health (262).jpg  \n",
            "  inflating: maize_leaf_data/data/Healthy/Corn_Health (263).jpg  \n",
            "  inflating: maize_leaf_data/data/Healthy/Corn_Health (264).jpg  \n",
            "  inflating: maize_leaf_data/data/Healthy/Corn_Health (265).jpg  \n",
            "  inflating: maize_leaf_data/data/Healthy/Corn_Health (266).jpg  \n",
            "  inflating: maize_leaf_data/data/Healthy/Corn_Health (267).jpg  \n",
            "  inflating: maize_leaf_data/data/Healthy/Corn_Health (268).jpg  \n",
            "  inflating: maize_leaf_data/data/Healthy/Corn_Health (269).jpg  \n",
            "  inflating: maize_leaf_data/data/Healthy/Corn_Health (27).jpg  \n",
            "  inflating: maize_leaf_data/data/Healthy/Corn_Health (270).jpg  \n",
            "  inflating: maize_leaf_data/data/Healthy/Corn_Health (271).jpg  \n",
            "  inflating: maize_leaf_data/data/Healthy/Corn_Health (272).jpg  \n",
            "  inflating: maize_leaf_data/data/Healthy/Corn_Health (273).jpg  \n",
            "  inflating: maize_leaf_data/data/Healthy/Corn_Health (274).jpg  \n",
            "  inflating: maize_leaf_data/data/Healthy/Corn_Health (275).jpg  \n",
            "  inflating: maize_leaf_data/data/Healthy/Corn_Health (276).JPG  \n",
            "  inflating: maize_leaf_data/data/Healthy/Corn_Health (277).jpg  \n",
            "  inflating: maize_leaf_data/data/Healthy/Corn_Health (278).jpg  \n",
            "  inflating: maize_leaf_data/data/Healthy/Corn_Health (279).jpg  \n",
            "  inflating: maize_leaf_data/data/Healthy/Corn_Health (28).jpg  \n",
            "  inflating: maize_leaf_data/data/Healthy/Corn_Health (280).jpg  \n",
            "  inflating: maize_leaf_data/data/Healthy/Corn_Health (281).jpg  \n",
            "  inflating: maize_leaf_data/data/Healthy/Corn_Health (282).jpg  \n",
            "  inflating: maize_leaf_data/data/Healthy/Corn_Health (283).JPG  \n",
            "  inflating: maize_leaf_data/data/Healthy/Corn_Health (284).jpg  \n",
            "  inflating: maize_leaf_data/data/Healthy/Corn_Health (285).jpg  \n",
            "  inflating: maize_leaf_data/data/Healthy/Corn_Health (286).jpg  \n",
            "  inflating: maize_leaf_data/data/Healthy/Corn_Health (287).jpg  \n",
            "  inflating: maize_leaf_data/data/Healthy/Corn_Health (288).jpg  \n",
            "  inflating: maize_leaf_data/data/Healthy/Corn_Health (289).jpg  \n",
            "  inflating: maize_leaf_data/data/Healthy/Corn_Health (29).jpg  \n",
            "  inflating: maize_leaf_data/data/Healthy/Corn_Health (290).jpg  \n",
            "  inflating: maize_leaf_data/data/Healthy/Corn_Health (291).jpg  \n",
            "  inflating: maize_leaf_data/data/Healthy/Corn_Health (292).jpg  \n",
            "  inflating: maize_leaf_data/data/Healthy/Corn_Health (293).jpg  \n",
            "  inflating: maize_leaf_data/data/Healthy/Corn_Health (294).jpg  \n",
            "  inflating: maize_leaf_data/data/Healthy/Corn_Health (295).jpg  \n",
            "  inflating: maize_leaf_data/data/Healthy/Corn_Health (296).jpg  \n",
            "  inflating: maize_leaf_data/data/Healthy/Corn_Health (297).jpg  \n",
            "  inflating: maize_leaf_data/data/Healthy/Corn_Health (298).jpg  \n",
            "  inflating: maize_leaf_data/data/Healthy/Corn_Health (299).jpg  \n",
            "  inflating: maize_leaf_data/data/Healthy/Corn_Health (3).jpg  \n",
            "  inflating: maize_leaf_data/data/Healthy/Corn_Health (30).jpg  \n",
            "  inflating: maize_leaf_data/data/Healthy/Corn_Health (300).jpg  \n",
            "  inflating: maize_leaf_data/data/Healthy/Corn_Health (301).jpg  \n",
            "  inflating: maize_leaf_data/data/Healthy/Corn_Health (302).jpg  \n",
            "  inflating: maize_leaf_data/data/Healthy/Corn_Health (303).jpg  \n",
            "  inflating: maize_leaf_data/data/Healthy/Corn_Health (304).jpg  \n",
            "  inflating: maize_leaf_data/data/Healthy/Corn_Health (305).jpg  \n",
            "  inflating: maize_leaf_data/data/Healthy/Corn_Health (306).jpg  \n",
            "  inflating: maize_leaf_data/data/Healthy/Corn_Health (307).jpg  \n",
            "  inflating: maize_leaf_data/data/Healthy/Corn_Health (308).jpg  \n",
            "  inflating: maize_leaf_data/data/Healthy/Corn_Health (309).jpg  \n",
            "  inflating: maize_leaf_data/data/Healthy/Corn_Health (31).jpg  \n",
            "  inflating: maize_leaf_data/data/Healthy/Corn_Health (310).JPG  \n",
            "  inflating: maize_leaf_data/data/Healthy/Corn_Health (311).jpg  \n",
            "  inflating: maize_leaf_data/data/Healthy/Corn_Health (312).JPG  \n",
            "  inflating: maize_leaf_data/data/Healthy/Corn_Health (313).jpg  \n",
            "  inflating: maize_leaf_data/data/Healthy/Corn_Health (314).jpg  \n",
            "  inflating: maize_leaf_data/data/Healthy/Corn_Health (315).jpg  \n",
            "  inflating: maize_leaf_data/data/Healthy/Corn_Health (316).jpg  \n",
            "  inflating: maize_leaf_data/data/Healthy/Corn_Health (317).jpg  \n",
            "  inflating: maize_leaf_data/data/Healthy/Corn_Health (318).jpg  \n",
            "  inflating: maize_leaf_data/data/Healthy/Corn_Health (319).jpg  \n",
            "  inflating: maize_leaf_data/data/Healthy/Corn_Health (32).jpg  \n",
            "  inflating: maize_leaf_data/data/Healthy/Corn_Health (320).jpg  \n",
            "  inflating: maize_leaf_data/data/Healthy/Corn_Health (321).jpg  \n",
            "  inflating: maize_leaf_data/data/Healthy/Corn_Health (322).jpg  \n",
            "  inflating: maize_leaf_data/data/Healthy/Corn_Health (323).jpg  \n",
            "  inflating: maize_leaf_data/data/Healthy/Corn_Health (324).jpg  \n",
            "  inflating: maize_leaf_data/data/Healthy/Corn_Health (325).jpg  \n",
            "  inflating: maize_leaf_data/data/Healthy/Corn_Health (326).jpg  \n",
            "  inflating: maize_leaf_data/data/Healthy/Corn_Health (327).jpg  \n",
            "  inflating: maize_leaf_data/data/Healthy/Corn_Health (328).jpg  \n",
            "  inflating: maize_leaf_data/data/Healthy/Corn_Health (329).jpg  \n",
            "  inflating: maize_leaf_data/data/Healthy/Corn_Health (33).jpg  \n",
            "  inflating: maize_leaf_data/data/Healthy/Corn_Health (330).jpg  \n",
            "  inflating: maize_leaf_data/data/Healthy/Corn_Health (331).jpg  \n",
            "  inflating: maize_leaf_data/data/Healthy/Corn_Health (332).jpg  \n",
            "  inflating: maize_leaf_data/data/Healthy/Corn_Health (333).jpg  \n",
            "  inflating: maize_leaf_data/data/Healthy/Corn_Health (334).jpg  \n",
            "  inflating: maize_leaf_data/data/Healthy/Corn_Health (335).jpg  \n",
            "  inflating: maize_leaf_data/data/Healthy/Corn_Health (336).jpg  \n",
            "  inflating: maize_leaf_data/data/Healthy/Corn_Health (337).jpg  \n",
            "  inflating: maize_leaf_data/data/Healthy/Corn_Health (338).jpg  \n",
            "  inflating: maize_leaf_data/data/Healthy/Corn_Health (339).jpg  \n",
            "  inflating: maize_leaf_data/data/Healthy/Corn_Health (34).jpg  \n",
            "  inflating: maize_leaf_data/data/Healthy/Corn_Health (340).jpg  \n",
            "  inflating: maize_leaf_data/data/Healthy/Corn_Health (341).jpg  \n",
            "  inflating: maize_leaf_data/data/Healthy/Corn_Health (342).jpg  \n",
            "  inflating: maize_leaf_data/data/Healthy/Corn_Health (343).jpg  \n",
            "  inflating: maize_leaf_data/data/Healthy/Corn_Health (344).jpg  \n",
            "  inflating: maize_leaf_data/data/Healthy/Corn_Health (345).jpg  \n",
            "  inflating: maize_leaf_data/data/Healthy/Corn_Health (346).jpg  \n",
            "  inflating: maize_leaf_data/data/Healthy/Corn_Health (347).jpg  \n",
            "  inflating: maize_leaf_data/data/Healthy/Corn_Health (348).jpg  \n",
            "  inflating: maize_leaf_data/data/Healthy/Corn_Health (349).jpg  \n",
            "  inflating: maize_leaf_data/data/Healthy/Corn_Health (35).jpg  \n",
            "  inflating: maize_leaf_data/data/Healthy/Corn_Health (350).jpg  \n",
            "  inflating: maize_leaf_data/data/Healthy/Corn_Health (351).jpg  \n",
            "  inflating: maize_leaf_data/data/Healthy/Corn_Health (352).jpg  \n",
            "  inflating: maize_leaf_data/data/Healthy/Corn_Health (353).jpg  \n",
            "  inflating: maize_leaf_data/data/Healthy/Corn_Health (354).jpg  \n",
            "  inflating: maize_leaf_data/data/Healthy/Corn_Health (355).jpg  \n",
            "  inflating: maize_leaf_data/data/Healthy/Corn_Health (356).jpg  \n",
            "  inflating: maize_leaf_data/data/Healthy/Corn_Health (357).jpg  \n",
            "  inflating: maize_leaf_data/data/Healthy/Corn_Health (358).jpg  \n",
            "  inflating: maize_leaf_data/data/Healthy/Corn_Health (359).jpg  \n",
            "  inflating: maize_leaf_data/data/Healthy/Corn_Health (36).jpg  \n",
            "  inflating: maize_leaf_data/data/Healthy/Corn_Health (360).jpg  \n",
            "  inflating: maize_leaf_data/data/Healthy/Corn_Health (361).jpg  \n",
            "  inflating: maize_leaf_data/data/Healthy/Corn_Health (362).jpg  \n",
            "  inflating: maize_leaf_data/data/Healthy/Corn_Health (363).jpg  \n",
            "  inflating: maize_leaf_data/data/Healthy/Corn_Health (364).jpg  \n",
            "  inflating: maize_leaf_data/data/Healthy/Corn_Health (365).jpg  \n",
            "  inflating: maize_leaf_data/data/Healthy/Corn_Health (366).jpg  \n",
            "  inflating: maize_leaf_data/data/Healthy/Corn_Health (367).jpg  \n",
            "  inflating: maize_leaf_data/data/Healthy/Corn_Health (368).jpg  \n",
            "  inflating: maize_leaf_data/data/Healthy/Corn_Health (369).jpg  \n",
            "  inflating: maize_leaf_data/data/Healthy/Corn_Health (37).jpg  \n",
            "  inflating: maize_leaf_data/data/Healthy/Corn_Health (370).jpg  \n",
            "  inflating: maize_leaf_data/data/Healthy/Corn_Health (371).jpg  \n",
            "  inflating: maize_leaf_data/data/Healthy/Corn_Health (372).jpg  \n",
            "  inflating: maize_leaf_data/data/Healthy/Corn_Health (373).jpg  \n",
            "  inflating: maize_leaf_data/data/Healthy/Corn_Health (374).jpg  \n",
            "  inflating: maize_leaf_data/data/Healthy/Corn_Health (375).jpg  \n",
            "  inflating: maize_leaf_data/data/Healthy/Corn_Health (376).jpg  \n",
            "  inflating: maize_leaf_data/data/Healthy/Corn_Health (377).jpg  \n",
            "  inflating: maize_leaf_data/data/Healthy/Corn_Health (378).jpg  \n",
            "  inflating: maize_leaf_data/data/Healthy/Corn_Health (379).jpg  \n",
            "  inflating: maize_leaf_data/data/Healthy/Corn_Health (38).jpg  \n",
            "  inflating: maize_leaf_data/data/Healthy/Corn_Health (380).jpg  \n",
            "  inflating: maize_leaf_data/data/Healthy/Corn_Health (381).jpg  \n",
            "  inflating: maize_leaf_data/data/Healthy/Corn_Health (382).jpg  \n",
            "  inflating: maize_leaf_data/data/Healthy/Corn_Health (383).jpg  \n",
            "  inflating: maize_leaf_data/data/Healthy/Corn_Health (384).jpg  \n",
            "  inflating: maize_leaf_data/data/Healthy/Corn_Health (385).jpg  \n",
            "  inflating: maize_leaf_data/data/Healthy/Corn_Health (386).jpg  \n",
            "  inflating: maize_leaf_data/data/Healthy/Corn_Health (387).jpg  \n",
            "  inflating: maize_leaf_data/data/Healthy/Corn_Health (388).jpg  \n",
            "  inflating: maize_leaf_data/data/Healthy/Corn_Health (389).jpg  \n",
            "  inflating: maize_leaf_data/data/Healthy/Corn_Health (39).jpg  \n",
            "  inflating: maize_leaf_data/data/Healthy/Corn_Health (390).jpg  \n",
            "  inflating: maize_leaf_data/data/Healthy/Corn_Health (391).jpg  \n",
            "  inflating: maize_leaf_data/data/Healthy/Corn_Health (392).jpg  \n",
            "  inflating: maize_leaf_data/data/Healthy/Corn_Health (393).jpg  \n",
            "  inflating: maize_leaf_data/data/Healthy/Corn_Health (394).jpg  \n",
            "  inflating: maize_leaf_data/data/Healthy/Corn_Health (395).jpg  \n",
            "  inflating: maize_leaf_data/data/Healthy/Corn_Health (396).jpg  \n",
            "  inflating: maize_leaf_data/data/Healthy/Corn_Health (397).jpg  \n",
            "  inflating: maize_leaf_data/data/Healthy/Corn_Health (398).jpg  \n",
            "  inflating: maize_leaf_data/data/Healthy/Corn_Health (399).jpg  \n",
            "  inflating: maize_leaf_data/data/Healthy/Corn_Health (4).jpg  \n",
            "  inflating: maize_leaf_data/data/Healthy/Corn_Health (40).jpg  \n",
            "  inflating: maize_leaf_data/data/Healthy/Corn_Health (400).jpg  \n",
            "  inflating: maize_leaf_data/data/Healthy/Corn_Health (401).jpg  \n",
            "  inflating: maize_leaf_data/data/Healthy/Corn_Health (402).jpg  \n",
            "  inflating: maize_leaf_data/data/Healthy/Corn_Health (403).jpg  \n",
            "  inflating: maize_leaf_data/data/Healthy/Corn_Health (404).jpg  \n",
            "  inflating: maize_leaf_data/data/Healthy/Corn_Health (405).JPG  \n",
            "  inflating: maize_leaf_data/data/Healthy/Corn_Health (406).jpg  \n",
            "  inflating: maize_leaf_data/data/Healthy/Corn_Health (407).jpg  \n",
            "  inflating: maize_leaf_data/data/Healthy/Corn_Health (408).jpg  \n",
            "  inflating: maize_leaf_data/data/Healthy/Corn_Health (409).jpg  \n",
            "  inflating: maize_leaf_data/data/Healthy/Corn_Health (41).jpg  \n",
            "  inflating: maize_leaf_data/data/Healthy/Corn_Health (410).jpg  \n",
            "  inflating: maize_leaf_data/data/Healthy/Corn_Health (411).jpg  \n",
            "  inflating: maize_leaf_data/data/Healthy/Corn_Health (412).jpg  \n",
            "  inflating: maize_leaf_data/data/Healthy/Corn_Health (413).jpg  \n",
            "  inflating: maize_leaf_data/data/Healthy/Corn_Health (414).jpg  \n",
            "  inflating: maize_leaf_data/data/Healthy/Corn_Health (415).jpg  \n",
            "  inflating: maize_leaf_data/data/Healthy/Corn_Health (416).jpg  \n",
            "  inflating: maize_leaf_data/data/Healthy/Corn_Health (417).jpg  \n",
            "  inflating: maize_leaf_data/data/Healthy/Corn_Health (418).jpg  \n",
            "  inflating: maize_leaf_data/data/Healthy/Corn_Health (419).jpg  \n",
            "  inflating: maize_leaf_data/data/Healthy/Corn_Health (42).jpg  \n",
            "  inflating: maize_leaf_data/data/Healthy/Corn_Health (420).jpg  \n",
            "  inflating: maize_leaf_data/data/Healthy/Corn_Health (421).jpg  \n",
            "  inflating: maize_leaf_data/data/Healthy/Corn_Health (422).jpg  \n",
            "  inflating: maize_leaf_data/data/Healthy/Corn_Health (423).jpg  \n",
            "  inflating: maize_leaf_data/data/Healthy/Corn_Health (424).jpg  \n",
            "  inflating: maize_leaf_data/data/Healthy/Corn_Health (425).jpg  \n",
            "  inflating: maize_leaf_data/data/Healthy/Corn_Health (426).jpg  \n",
            "  inflating: maize_leaf_data/data/Healthy/Corn_Health (427).jpg  \n",
            "  inflating: maize_leaf_data/data/Healthy/Corn_Health (428).jpg  \n",
            "  inflating: maize_leaf_data/data/Healthy/Corn_Health (429).jpg  \n",
            "  inflating: maize_leaf_data/data/Healthy/Corn_Health (43).jpg  \n",
            "  inflating: maize_leaf_data/data/Healthy/Corn_Health (430).jpg  \n",
            "  inflating: maize_leaf_data/data/Healthy/Corn_Health (431).jpg  \n",
            "  inflating: maize_leaf_data/data/Healthy/Corn_Health (432).jpg  \n",
            "  inflating: maize_leaf_data/data/Healthy/Corn_Health (433).jpg  \n",
            "  inflating: maize_leaf_data/data/Healthy/Corn_Health (434).jpg  \n",
            "  inflating: maize_leaf_data/data/Healthy/Corn_Health (435).JPG  \n",
            "  inflating: maize_leaf_data/data/Healthy/Corn_Health (436).jpg  \n",
            "  inflating: maize_leaf_data/data/Healthy/Corn_Health (437).jpg  \n",
            "  inflating: maize_leaf_data/data/Healthy/Corn_Health (438).jpg  \n",
            "  inflating: maize_leaf_data/data/Healthy/Corn_Health (439).jpg  \n",
            "  inflating: maize_leaf_data/data/Healthy/Corn_Health (44).jpg  \n",
            "  inflating: maize_leaf_data/data/Healthy/Corn_Health (440).jpg  \n",
            "  inflating: maize_leaf_data/data/Healthy/Corn_Health (441).jpg  \n",
            "  inflating: maize_leaf_data/data/Healthy/Corn_Health (442).jpg  \n",
            "  inflating: maize_leaf_data/data/Healthy/Corn_Health (443).jpg  \n",
            "  inflating: maize_leaf_data/data/Healthy/Corn_Health (444).jpg  \n",
            "  inflating: maize_leaf_data/data/Healthy/Corn_Health (445).jpg  \n",
            "  inflating: maize_leaf_data/data/Healthy/Corn_Health (446).jpg  \n",
            "  inflating: maize_leaf_data/data/Healthy/Corn_Health (447).jpg  \n",
            "  inflating: maize_leaf_data/data/Healthy/Corn_Health (448).jpg  \n",
            "  inflating: maize_leaf_data/data/Healthy/Corn_Health (449).jpg  \n",
            "  inflating: maize_leaf_data/data/Healthy/Corn_Health (45).jpg  \n",
            "  inflating: maize_leaf_data/data/Healthy/Corn_Health (450).jpg  \n",
            "  inflating: maize_leaf_data/data/Healthy/Corn_Health (451).jpg  \n",
            "  inflating: maize_leaf_data/data/Healthy/Corn_Health (452).jpg  \n",
            "  inflating: maize_leaf_data/data/Healthy/Corn_Health (453).jpg  \n",
            "  inflating: maize_leaf_data/data/Healthy/Corn_Health (454).jpg  \n",
            "  inflating: maize_leaf_data/data/Healthy/Corn_Health (455).jpg  \n",
            "  inflating: maize_leaf_data/data/Healthy/Corn_Health (456).jpg  \n",
            "  inflating: maize_leaf_data/data/Healthy/Corn_Health (457).jpg  \n",
            "  inflating: maize_leaf_data/data/Healthy/Corn_Health (458).jpg  \n",
            "  inflating: maize_leaf_data/data/Healthy/Corn_Health (459).JPG  \n",
            "  inflating: maize_leaf_data/data/Healthy/Corn_Health (46).jpg  \n",
            "  inflating: maize_leaf_data/data/Healthy/Corn_Health (460).jpg  \n",
            "  inflating: maize_leaf_data/data/Healthy/Corn_Health (461).jpg  \n",
            "  inflating: maize_leaf_data/data/Healthy/Corn_Health (462).JPG  \n",
            "  inflating: maize_leaf_data/data/Healthy/Corn_Health (463).jpg  \n",
            "  inflating: maize_leaf_data/data/Healthy/Corn_Health (464).jpg  \n",
            "  inflating: maize_leaf_data/data/Healthy/Corn_Health (465).jpg  \n",
            "  inflating: maize_leaf_data/data/Healthy/Corn_Health (466).jpg  \n",
            "  inflating: maize_leaf_data/data/Healthy/Corn_Health (467).jpg  \n",
            "  inflating: maize_leaf_data/data/Healthy/Corn_Health (468).jpg  \n",
            "  inflating: maize_leaf_data/data/Healthy/Corn_Health (469).jpg  \n",
            "  inflating: maize_leaf_data/data/Healthy/Corn_Health (47).jpg  \n",
            "  inflating: maize_leaf_data/data/Healthy/Corn_Health (470).jpg  \n",
            "  inflating: maize_leaf_data/data/Healthy/Corn_Health (471).jpg  \n",
            "  inflating: maize_leaf_data/data/Healthy/Corn_Health (472).jpg  \n",
            "  inflating: maize_leaf_data/data/Healthy/Corn_Health (473).jpg  \n",
            "  inflating: maize_leaf_data/data/Healthy/Corn_Health (474).jpg  \n",
            "  inflating: maize_leaf_data/data/Healthy/Corn_Health (475).jpg  \n",
            "  inflating: maize_leaf_data/data/Healthy/Corn_Health (476).jpg  \n",
            "  inflating: maize_leaf_data/data/Healthy/Corn_Health (477).jpg  \n",
            "  inflating: maize_leaf_data/data/Healthy/Corn_Health (478).jpg  \n",
            "  inflating: maize_leaf_data/data/Healthy/Corn_Health (479).JPG  \n",
            "  inflating: maize_leaf_data/data/Healthy/Corn_Health (48).jpg  \n",
            "  inflating: maize_leaf_data/data/Healthy/Corn_Health (480).jpg  \n",
            "  inflating: maize_leaf_data/data/Healthy/Corn_Health (481).JPG  \n",
            "  inflating: maize_leaf_data/data/Healthy/Corn_Health (482).jpg  \n",
            "  inflating: maize_leaf_data/data/Healthy/Corn_Health (483).jpg  \n",
            "  inflating: maize_leaf_data/data/Healthy/Corn_Health (484).jpg  \n",
            "  inflating: maize_leaf_data/data/Healthy/Corn_Health (485).jpg  \n",
            "  inflating: maize_leaf_data/data/Healthy/Corn_Health (486).jpg  \n",
            "  inflating: maize_leaf_data/data/Healthy/Corn_Health (487).jpg  \n",
            "  inflating: maize_leaf_data/data/Healthy/Corn_Health (488).jpg  \n",
            "  inflating: maize_leaf_data/data/Healthy/Corn_Health (489).jpg  \n",
            "  inflating: maize_leaf_data/data/Healthy/Corn_Health (49).jpg  \n",
            "  inflating: maize_leaf_data/data/Healthy/Corn_Health (490).jpg  \n",
            "  inflating: maize_leaf_data/data/Healthy/Corn_Health (491).jpg  \n",
            "  inflating: maize_leaf_data/data/Healthy/Corn_Health (492).jpg  \n",
            "  inflating: maize_leaf_data/data/Healthy/Corn_Health (493).jpg  \n",
            "  inflating: maize_leaf_data/data/Healthy/Corn_Health (494).jpg  \n",
            "  inflating: maize_leaf_data/data/Healthy/Corn_Health (495).jpg  \n",
            "  inflating: maize_leaf_data/data/Healthy/Corn_Health (496).jpg  \n",
            "  inflating: maize_leaf_data/data/Healthy/Corn_Health (497).jpg  \n",
            "  inflating: maize_leaf_data/data/Healthy/Corn_Health (498).jpg  \n",
            "  inflating: maize_leaf_data/data/Healthy/Corn_Health (499).jpg  \n",
            "  inflating: maize_leaf_data/data/Healthy/Corn_Health (5).jpg  \n",
            "  inflating: maize_leaf_data/data/Healthy/Corn_Health (50).jpg  \n",
            "  inflating: maize_leaf_data/data/Healthy/Corn_Health (500).jpg  \n",
            "  inflating: maize_leaf_data/data/Healthy/Corn_Health (501).jpg  \n",
            "  inflating: maize_leaf_data/data/Healthy/Corn_Health (502).jpg  \n",
            "  inflating: maize_leaf_data/data/Healthy/Corn_Health (503).jpg  \n",
            "  inflating: maize_leaf_data/data/Healthy/Corn_Health (504).jpg  \n",
            "  inflating: maize_leaf_data/data/Healthy/Corn_Health (505).jpg  \n",
            "  inflating: maize_leaf_data/data/Healthy/Corn_Health (506).jpg  \n",
            "  inflating: maize_leaf_data/data/Healthy/Corn_Health (507).jpg  \n",
            "  inflating: maize_leaf_data/data/Healthy/Corn_Health (508).jpg  \n",
            "  inflating: maize_leaf_data/data/Healthy/Corn_Health (509).jpg  \n",
            "  inflating: maize_leaf_data/data/Healthy/Corn_Health (51).jpg  \n",
            "  inflating: maize_leaf_data/data/Healthy/Corn_Health (510).jpg  \n",
            "  inflating: maize_leaf_data/data/Healthy/Corn_Health (511).jpg  \n",
            "  inflating: maize_leaf_data/data/Healthy/Corn_Health (512).jpg  \n",
            "  inflating: maize_leaf_data/data/Healthy/Corn_Health (513).jpg  \n",
            "  inflating: maize_leaf_data/data/Healthy/Corn_Health (514).jpg  \n",
            "  inflating: maize_leaf_data/data/Healthy/Corn_Health (515).jpg  \n",
            "  inflating: maize_leaf_data/data/Healthy/Corn_Health (516).jpg  \n",
            "  inflating: maize_leaf_data/data/Healthy/Corn_Health (517).jpg  \n",
            "  inflating: maize_leaf_data/data/Healthy/Corn_Health (518).jpg  \n",
            "  inflating: maize_leaf_data/data/Healthy/Corn_Health (519).jpg  \n",
            "  inflating: maize_leaf_data/data/Healthy/Corn_Health (52).jpg  \n",
            "  inflating: maize_leaf_data/data/Healthy/Corn_Health (520).jpg  \n",
            "  inflating: maize_leaf_data/data/Healthy/Corn_Health (521).jpg  \n",
            "  inflating: maize_leaf_data/data/Healthy/Corn_Health (522).jpg  \n",
            "  inflating: maize_leaf_data/data/Healthy/Corn_Health (523).jpg  \n",
            "  inflating: maize_leaf_data/data/Healthy/Corn_Health (524).jpg  \n",
            "  inflating: maize_leaf_data/data/Healthy/Corn_Health (525).jpg  \n",
            "  inflating: maize_leaf_data/data/Healthy/Corn_Health (526).jpg  \n",
            "  inflating: maize_leaf_data/data/Healthy/Corn_Health (527).jpg  \n",
            "  inflating: maize_leaf_data/data/Healthy/Corn_Health (528).jpg  \n",
            "  inflating: maize_leaf_data/data/Healthy/Corn_Health (529).jpg  \n",
            "  inflating: maize_leaf_data/data/Healthy/Corn_Health (53).jpg  \n",
            "  inflating: maize_leaf_data/data/Healthy/Corn_Health (530).jpg  \n",
            "  inflating: maize_leaf_data/data/Healthy/Corn_Health (531).jpg  \n",
            "  inflating: maize_leaf_data/data/Healthy/Corn_Health (532).jpg  \n",
            "  inflating: maize_leaf_data/data/Healthy/Corn_Health (533).jpg  \n",
            "  inflating: maize_leaf_data/data/Healthy/Corn_Health (534).jpg  \n",
            "  inflating: maize_leaf_data/data/Healthy/Corn_Health (535).jpg  \n",
            "  inflating: maize_leaf_data/data/Healthy/Corn_Health (536).jpg  \n",
            "  inflating: maize_leaf_data/data/Healthy/Corn_Health (537).jpg  \n",
            "  inflating: maize_leaf_data/data/Healthy/Corn_Health (538).jpg  \n",
            "  inflating: maize_leaf_data/data/Healthy/Corn_Health (539).jpg  \n",
            "  inflating: maize_leaf_data/data/Healthy/Corn_Health (54).jpg  \n",
            "  inflating: maize_leaf_data/data/Healthy/Corn_Health (540).jpg  \n",
            "  inflating: maize_leaf_data/data/Healthy/Corn_Health (541).jpg  \n",
            "  inflating: maize_leaf_data/data/Healthy/Corn_Health (542).jpg  \n",
            "  inflating: maize_leaf_data/data/Healthy/Corn_Health (543).jpg  \n",
            "  inflating: maize_leaf_data/data/Healthy/Corn_Health (544).jpg  \n",
            "  inflating: maize_leaf_data/data/Healthy/Corn_Health (545).jpg  \n",
            "  inflating: maize_leaf_data/data/Healthy/Corn_Health (546).jpg  \n",
            "  inflating: maize_leaf_data/data/Healthy/Corn_Health (547).jpg  \n",
            "  inflating: maize_leaf_data/data/Healthy/Corn_Health (548).jpg  \n",
            "  inflating: maize_leaf_data/data/Healthy/Corn_Health (549).jpg  \n",
            "  inflating: maize_leaf_data/data/Healthy/Corn_Health (55).jpg  \n",
            "  inflating: maize_leaf_data/data/Healthy/Corn_Health (550).jpg  \n",
            "  inflating: maize_leaf_data/data/Healthy/Corn_Health (551).jpg  \n",
            "  inflating: maize_leaf_data/data/Healthy/Corn_Health (552).jpg  \n",
            "  inflating: maize_leaf_data/data/Healthy/Corn_Health (553).jpg  \n",
            "  inflating: maize_leaf_data/data/Healthy/Corn_Health (554).jpg  \n",
            "  inflating: maize_leaf_data/data/Healthy/Corn_Health (555).jpg  \n",
            "  inflating: maize_leaf_data/data/Healthy/Corn_Health (556).jpg  \n",
            "  inflating: maize_leaf_data/data/Healthy/Corn_Health (557).jpg  \n",
            "  inflating: maize_leaf_data/data/Healthy/Corn_Health (558).jpg  \n",
            "  inflating: maize_leaf_data/data/Healthy/Corn_Health (559).jpg  \n",
            "  inflating: maize_leaf_data/data/Healthy/Corn_Health (56).jpg  \n",
            "  inflating: maize_leaf_data/data/Healthy/Corn_Health (560).jpg  \n",
            "  inflating: maize_leaf_data/data/Healthy/Corn_Health (561).jpg  \n",
            "  inflating: maize_leaf_data/data/Healthy/Corn_Health (562).jpg  \n",
            "  inflating: maize_leaf_data/data/Healthy/Corn_Health (563).jpg  \n",
            "  inflating: maize_leaf_data/data/Healthy/Corn_Health (564).jpg  \n",
            "  inflating: maize_leaf_data/data/Healthy/Corn_Health (565).jpg  \n",
            "  inflating: maize_leaf_data/data/Healthy/Corn_Health (566).jpg  \n",
            "  inflating: maize_leaf_data/data/Healthy/Corn_Health (567).jpg  \n",
            "  inflating: maize_leaf_data/data/Healthy/Corn_Health (568).jpg  \n",
            "  inflating: maize_leaf_data/data/Healthy/Corn_Health (569).jpg  \n",
            "  inflating: maize_leaf_data/data/Healthy/Corn_Health (57).jpg  \n",
            "  inflating: maize_leaf_data/data/Healthy/Corn_Health (570).jpg  \n",
            "  inflating: maize_leaf_data/data/Healthy/Corn_Health (571).jpg  \n",
            "  inflating: maize_leaf_data/data/Healthy/Corn_Health (572).jpg  \n",
            "  inflating: maize_leaf_data/data/Healthy/Corn_Health (573).jpg  \n",
            "  inflating: maize_leaf_data/data/Healthy/Corn_Health (574).jpg  \n",
            "  inflating: maize_leaf_data/data/Healthy/Corn_Health (575).jpg  \n",
            "  inflating: maize_leaf_data/data/Healthy/Corn_Health (576).jpg  \n",
            "  inflating: maize_leaf_data/data/Healthy/Corn_Health (577).jpg  \n",
            "  inflating: maize_leaf_data/data/Healthy/Corn_Health (578).jpg  \n",
            "  inflating: maize_leaf_data/data/Healthy/Corn_Health (579).jpg  \n",
            "  inflating: maize_leaf_data/data/Healthy/Corn_Health (58).jpg  \n",
            "  inflating: maize_leaf_data/data/Healthy/Corn_Health (580).jpg  \n",
            "  inflating: maize_leaf_data/data/Healthy/Corn_Health (581).jpg  \n",
            "  inflating: maize_leaf_data/data/Healthy/Corn_Health (582).jpg  \n",
            "  inflating: maize_leaf_data/data/Healthy/Corn_Health (583).jpg  \n",
            "  inflating: maize_leaf_data/data/Healthy/Corn_Health (584).jpg  \n",
            "  inflating: maize_leaf_data/data/Healthy/Corn_Health (585).jpg  \n",
            "  inflating: maize_leaf_data/data/Healthy/Corn_Health (586).jpg  \n",
            "  inflating: maize_leaf_data/data/Healthy/Corn_Health (587).jpg  \n",
            "  inflating: maize_leaf_data/data/Healthy/Corn_Health (588).jpg  \n",
            "  inflating: maize_leaf_data/data/Healthy/Corn_Health (589).jpg  \n",
            "  inflating: maize_leaf_data/data/Healthy/Corn_Health (59).jpg  \n",
            "  inflating: maize_leaf_data/data/Healthy/Corn_Health (590).jpg  \n",
            "  inflating: maize_leaf_data/data/Healthy/Corn_Health (591).jpg  \n",
            "  inflating: maize_leaf_data/data/Healthy/Corn_Health (592).jpg  \n",
            "  inflating: maize_leaf_data/data/Healthy/Corn_Health (593).jpg  \n",
            "  inflating: maize_leaf_data/data/Healthy/Corn_Health (594).jpg  \n",
            "  inflating: maize_leaf_data/data/Healthy/Corn_Health (595).jpg  \n",
            "  inflating: maize_leaf_data/data/Healthy/Corn_Health (596).jpg  \n",
            "  inflating: maize_leaf_data/data/Healthy/Corn_Health (597).jpg  \n",
            "  inflating: maize_leaf_data/data/Healthy/Corn_Health (598).jpg  \n",
            "  inflating: maize_leaf_data/data/Healthy/Corn_Health (599).jpg  \n",
            "  inflating: maize_leaf_data/data/Healthy/Corn_Health (6).jpg  \n",
            "  inflating: maize_leaf_data/data/Healthy/Corn_Health (60).jpg  \n",
            "  inflating: maize_leaf_data/data/Healthy/Corn_Health (600).jpg  \n",
            "  inflating: maize_leaf_data/data/Healthy/Corn_Health (601).jpg  \n",
            "  inflating: maize_leaf_data/data/Healthy/Corn_Health (602).jpg  \n",
            "  inflating: maize_leaf_data/data/Healthy/Corn_Health (603).jpg  \n",
            "  inflating: maize_leaf_data/data/Healthy/Corn_Health (604).jpg  \n",
            "  inflating: maize_leaf_data/data/Healthy/Corn_Health (605).jpg  \n",
            "  inflating: maize_leaf_data/data/Healthy/Corn_Health (606).jpg  \n",
            "  inflating: maize_leaf_data/data/Healthy/Corn_Health (607).jpg  \n",
            "  inflating: maize_leaf_data/data/Healthy/Corn_Health (608).jpg  \n",
            "  inflating: maize_leaf_data/data/Healthy/Corn_Health (609).jpg  \n",
            "  inflating: maize_leaf_data/data/Healthy/Corn_Health (61).jpg  \n",
            "  inflating: maize_leaf_data/data/Healthy/Corn_Health (610).jpg  \n",
            "  inflating: maize_leaf_data/data/Healthy/Corn_Health (611).jpg  \n",
            "  inflating: maize_leaf_data/data/Healthy/Corn_Health (612).jpg  \n",
            "  inflating: maize_leaf_data/data/Healthy/Corn_Health (613).jpg  \n",
            "  inflating: maize_leaf_data/data/Healthy/Corn_Health (614).jpg  \n",
            "  inflating: maize_leaf_data/data/Healthy/Corn_Health (615).jpg  \n",
            "  inflating: maize_leaf_data/data/Healthy/Corn_Health (616).jpg  \n",
            "  inflating: maize_leaf_data/data/Healthy/Corn_Health (617).JPG  \n",
            "  inflating: maize_leaf_data/data/Healthy/Corn_Health (618).jpg  \n",
            "  inflating: maize_leaf_data/data/Healthy/Corn_Health (619).jpg  \n",
            "  inflating: maize_leaf_data/data/Healthy/Corn_Health (62).jpg  \n",
            "  inflating: maize_leaf_data/data/Healthy/Corn_Health (620).jpg  \n",
            "  inflating: maize_leaf_data/data/Healthy/Corn_Health (621).jpg  \n",
            "  inflating: maize_leaf_data/data/Healthy/Corn_Health (622).jpg  \n",
            "  inflating: maize_leaf_data/data/Healthy/Corn_Health (623).jpg  \n",
            "  inflating: maize_leaf_data/data/Healthy/Corn_Health (624).jpg  \n",
            "  inflating: maize_leaf_data/data/Healthy/Corn_Health (625).jpg  \n",
            "  inflating: maize_leaf_data/data/Healthy/Corn_Health (626).jpg  \n",
            "  inflating: maize_leaf_data/data/Healthy/Corn_Health (627).jpg  \n",
            "  inflating: maize_leaf_data/data/Healthy/Corn_Health (628).jpg  \n",
            "  inflating: maize_leaf_data/data/Healthy/Corn_Health (629).jpg  \n",
            "  inflating: maize_leaf_data/data/Healthy/Corn_Health (63).jpg  \n",
            "  inflating: maize_leaf_data/data/Healthy/Corn_Health (630).jpg  \n",
            "  inflating: maize_leaf_data/data/Healthy/Corn_Health (631).jpg  \n",
            "  inflating: maize_leaf_data/data/Healthy/Corn_Health (632).jpg  \n",
            "  inflating: maize_leaf_data/data/Healthy/Corn_Health (633).jpg  \n",
            "  inflating: maize_leaf_data/data/Healthy/Corn_Health (634).jpg  \n",
            "  inflating: maize_leaf_data/data/Healthy/Corn_Health (635).jpg  \n",
            "  inflating: maize_leaf_data/data/Healthy/Corn_Health (636).jpg  \n",
            "  inflating: maize_leaf_data/data/Healthy/Corn_Health (637).jpg  \n",
            "  inflating: maize_leaf_data/data/Healthy/Corn_Health (638).jpg  \n",
            "  inflating: maize_leaf_data/data/Healthy/Corn_Health (639).jpg  \n",
            "  inflating: maize_leaf_data/data/Healthy/Corn_Health (64).jpg  \n",
            "  inflating: maize_leaf_data/data/Healthy/Corn_Health (640).jpg  \n",
            "  inflating: maize_leaf_data/data/Healthy/Corn_Health (641).jpg  \n",
            "  inflating: maize_leaf_data/data/Healthy/Corn_Health (642).jpg  \n",
            "  inflating: maize_leaf_data/data/Healthy/Corn_Health (643).jpg  \n",
            "  inflating: maize_leaf_data/data/Healthy/Corn_Health (644).jpg  \n",
            "  inflating: maize_leaf_data/data/Healthy/Corn_Health (645).jpg  \n",
            "  inflating: maize_leaf_data/data/Healthy/Corn_Health (646).jpg  \n",
            "  inflating: maize_leaf_data/data/Healthy/Corn_Health (647).jpg  \n",
            "  inflating: maize_leaf_data/data/Healthy/Corn_Health (648).jpg  \n",
            "  inflating: maize_leaf_data/data/Healthy/Corn_Health (649).jpg  \n",
            "  inflating: maize_leaf_data/data/Healthy/Corn_Health (65).jpg  \n",
            "  inflating: maize_leaf_data/data/Healthy/Corn_Health (650).jpg  \n",
            "  inflating: maize_leaf_data/data/Healthy/Corn_Health (651).jpg  \n",
            "  inflating: maize_leaf_data/data/Healthy/Corn_Health (652).jpg  \n",
            "  inflating: maize_leaf_data/data/Healthy/Corn_Health (653).jpg  \n",
            "  inflating: maize_leaf_data/data/Healthy/Corn_Health (654).jpg  \n",
            "  inflating: maize_leaf_data/data/Healthy/Corn_Health (655).jpg  \n",
            "  inflating: maize_leaf_data/data/Healthy/Corn_Health (656).jpg  \n",
            "  inflating: maize_leaf_data/data/Healthy/Corn_Health (657).jpg  \n",
            "  inflating: maize_leaf_data/data/Healthy/Corn_Health (658).jpg  \n",
            "  inflating: maize_leaf_data/data/Healthy/Corn_Health (659).jpg  \n",
            "  inflating: maize_leaf_data/data/Healthy/Corn_Health (66).jpg  \n",
            "  inflating: maize_leaf_data/data/Healthy/Corn_Health (660).jpg  \n",
            "  inflating: maize_leaf_data/data/Healthy/Corn_Health (661).jpg  \n",
            "  inflating: maize_leaf_data/data/Healthy/Corn_Health (662).jpg  \n",
            "  inflating: maize_leaf_data/data/Healthy/Corn_Health (663).jpg  \n",
            "  inflating: maize_leaf_data/data/Healthy/Corn_Health (664).jpg  \n",
            "  inflating: maize_leaf_data/data/Healthy/Corn_Health (665).jpg  \n",
            "  inflating: maize_leaf_data/data/Healthy/Corn_Health (666).jpg  \n",
            "  inflating: maize_leaf_data/data/Healthy/Corn_Health (667).jpg  \n",
            "  inflating: maize_leaf_data/data/Healthy/Corn_Health (668).jpg  \n",
            "  inflating: maize_leaf_data/data/Healthy/Corn_Health (669).jpg  \n",
            "  inflating: maize_leaf_data/data/Healthy/Corn_Health (67).jpg  \n",
            "  inflating: maize_leaf_data/data/Healthy/Corn_Health (670).jpg  \n",
            "  inflating: maize_leaf_data/data/Healthy/Corn_Health (671).jpg  \n",
            "  inflating: maize_leaf_data/data/Healthy/Corn_Health (672).jpg  \n",
            "  inflating: maize_leaf_data/data/Healthy/Corn_Health (673).jpg  \n",
            "  inflating: maize_leaf_data/data/Healthy/Corn_Health (674).jpg  \n",
            "  inflating: maize_leaf_data/data/Healthy/Corn_Health (675).jpg  \n",
            "  inflating: maize_leaf_data/data/Healthy/Corn_Health (676).jpg  \n",
            "  inflating: maize_leaf_data/data/Healthy/Corn_Health (677).jpg  \n",
            "  inflating: maize_leaf_data/data/Healthy/Corn_Health (678).jpg  \n",
            "  inflating: maize_leaf_data/data/Healthy/Corn_Health (679).jpg  \n",
            "  inflating: maize_leaf_data/data/Healthy/Corn_Health (68).jpg  \n",
            "  inflating: maize_leaf_data/data/Healthy/Corn_Health (680).jpg  \n",
            "  inflating: maize_leaf_data/data/Healthy/Corn_Health (681).jpg  \n",
            "  inflating: maize_leaf_data/data/Healthy/Corn_Health (682).jpg  \n",
            "  inflating: maize_leaf_data/data/Healthy/Corn_Health (683).jpg  \n",
            "  inflating: maize_leaf_data/data/Healthy/Corn_Health (684).jpg  \n",
            "  inflating: maize_leaf_data/data/Healthy/Corn_Health (685).jpg  \n",
            "  inflating: maize_leaf_data/data/Healthy/Corn_Health (686).jpg  \n",
            "  inflating: maize_leaf_data/data/Healthy/Corn_Health (687).jpg  \n",
            "  inflating: maize_leaf_data/data/Healthy/Corn_Health (688).jpg  \n",
            "  inflating: maize_leaf_data/data/Healthy/Corn_Health (689).jpg  \n",
            "  inflating: maize_leaf_data/data/Healthy/Corn_Health (69).jpg  \n",
            "  inflating: maize_leaf_data/data/Healthy/Corn_Health (690).jpg  \n",
            "  inflating: maize_leaf_data/data/Healthy/Corn_Health (691).jpg  \n",
            "  inflating: maize_leaf_data/data/Healthy/Corn_Health (692).jpg  \n",
            "  inflating: maize_leaf_data/data/Healthy/Corn_Health (693).jpg  \n",
            "  inflating: maize_leaf_data/data/Healthy/Corn_Health (694).jpg  \n",
            "  inflating: maize_leaf_data/data/Healthy/Corn_Health (695).jpg  \n",
            "  inflating: maize_leaf_data/data/Healthy/Corn_Health (696).jpg  \n",
            "  inflating: maize_leaf_data/data/Healthy/Corn_Health (697).jpg  \n",
            "  inflating: maize_leaf_data/data/Healthy/Corn_Health (698).jpg  \n",
            "  inflating: maize_leaf_data/data/Healthy/Corn_Health (699).jpg  \n",
            "  inflating: maize_leaf_data/data/Healthy/Corn_Health (7).jpg  \n",
            "  inflating: maize_leaf_data/data/Healthy/Corn_Health (70).jpg  \n",
            "  inflating: maize_leaf_data/data/Healthy/Corn_Health (700).jpg  \n",
            "  inflating: maize_leaf_data/data/Healthy/Corn_Health (701).jpg  \n",
            "  inflating: maize_leaf_data/data/Healthy/Corn_Health (702).jpg  \n",
            "  inflating: maize_leaf_data/data/Healthy/Corn_Health (703).jpg  \n",
            "  inflating: maize_leaf_data/data/Healthy/Corn_Health (704).jpg  \n",
            "  inflating: maize_leaf_data/data/Healthy/Corn_Health (705).JPG  \n",
            "  inflating: maize_leaf_data/data/Healthy/Corn_Health (706).jpg  \n",
            "  inflating: maize_leaf_data/data/Healthy/Corn_Health (707).jpg  \n",
            "  inflating: maize_leaf_data/data/Healthy/Corn_Health (708).jpg  \n",
            "  inflating: maize_leaf_data/data/Healthy/Corn_Health (709).jpg  \n",
            "  inflating: maize_leaf_data/data/Healthy/Corn_Health (71).jpg  \n",
            "  inflating: maize_leaf_data/data/Healthy/Corn_Health (710).jpg  \n",
            "  inflating: maize_leaf_data/data/Healthy/Corn_Health (711).jpg  \n",
            "  inflating: maize_leaf_data/data/Healthy/Corn_Health (712).jpg  \n",
            "  inflating: maize_leaf_data/data/Healthy/Corn_Health (713).jpg  \n",
            "  inflating: maize_leaf_data/data/Healthy/Corn_Health (714).jpg  \n",
            "  inflating: maize_leaf_data/data/Healthy/Corn_Health (715).jpg  \n",
            "  inflating: maize_leaf_data/data/Healthy/Corn_Health (716).jpg  \n",
            "  inflating: maize_leaf_data/data/Healthy/Corn_Health (717).jpg  \n",
            "  inflating: maize_leaf_data/data/Healthy/Corn_Health (718).jpg  \n",
            "  inflating: maize_leaf_data/data/Healthy/Corn_Health (719).jpg  \n",
            "  inflating: maize_leaf_data/data/Healthy/Corn_Health (72).jpg  \n",
            "  inflating: maize_leaf_data/data/Healthy/Corn_Health (720).jpg  \n",
            "  inflating: maize_leaf_data/data/Healthy/Corn_Health (721).jpg  \n",
            "  inflating: maize_leaf_data/data/Healthy/Corn_Health (722).jpg  \n",
            "  inflating: maize_leaf_data/data/Healthy/Corn_Health (723).jpg  \n",
            "  inflating: maize_leaf_data/data/Healthy/Corn_Health (724).jpg  \n",
            "  inflating: maize_leaf_data/data/Healthy/Corn_Health (725).jpg  \n",
            "  inflating: maize_leaf_data/data/Healthy/Corn_Health (726).jpg  \n",
            "  inflating: maize_leaf_data/data/Healthy/Corn_Health (727).jpg  \n",
            "  inflating: maize_leaf_data/data/Healthy/Corn_Health (728).jpg  \n",
            "  inflating: maize_leaf_data/data/Healthy/Corn_Health (729).jpg  \n",
            "  inflating: maize_leaf_data/data/Healthy/Corn_Health (73).jpg  \n",
            "  inflating: maize_leaf_data/data/Healthy/Corn_Health (730).jpg  \n",
            "  inflating: maize_leaf_data/data/Healthy/Corn_Health (731).jpg  \n",
            "  inflating: maize_leaf_data/data/Healthy/Corn_Health (732).jpg  \n",
            "  inflating: maize_leaf_data/data/Healthy/Corn_Health (733).jpg  \n",
            "  inflating: maize_leaf_data/data/Healthy/Corn_Health (734).jpg  \n",
            "  inflating: maize_leaf_data/data/Healthy/Corn_Health (735).jpg  \n",
            "  inflating: maize_leaf_data/data/Healthy/Corn_Health (736).jpg  \n",
            "  inflating: maize_leaf_data/data/Healthy/Corn_Health (737).jpg  \n",
            "  inflating: maize_leaf_data/data/Healthy/Corn_Health (738).jpg  \n",
            "  inflating: maize_leaf_data/data/Healthy/Corn_Health (739).jpg  \n",
            "  inflating: maize_leaf_data/data/Healthy/Corn_Health (74).jpg  \n",
            "  inflating: maize_leaf_data/data/Healthy/Corn_Health (740).jpg  \n",
            "  inflating: maize_leaf_data/data/Healthy/Corn_Health (741).jpg  \n",
            "  inflating: maize_leaf_data/data/Healthy/Corn_Health (742).jpg  \n",
            "  inflating: maize_leaf_data/data/Healthy/Corn_Health (743).jpg  \n",
            "  inflating: maize_leaf_data/data/Healthy/Corn_Health (744).jpg  \n",
            "  inflating: maize_leaf_data/data/Healthy/Corn_Health (745).jpg  \n",
            "  inflating: maize_leaf_data/data/Healthy/Corn_Health (746).jpg  \n",
            "  inflating: maize_leaf_data/data/Healthy/Corn_Health (747).jpg  \n",
            "  inflating: maize_leaf_data/data/Healthy/Corn_Health (748).jpg  \n",
            "  inflating: maize_leaf_data/data/Healthy/Corn_Health (749).jpg  \n",
            "  inflating: maize_leaf_data/data/Healthy/Corn_Health (75).jpg  \n",
            "  inflating: maize_leaf_data/data/Healthy/Corn_Health (750).jpg  \n",
            "  inflating: maize_leaf_data/data/Healthy/Corn_Health (751).jpg  \n",
            "  inflating: maize_leaf_data/data/Healthy/Corn_Health (752).jpg  \n",
            "  inflating: maize_leaf_data/data/Healthy/Corn_Health (753).jpg  \n",
            "  inflating: maize_leaf_data/data/Healthy/Corn_Health (754).jpg  \n",
            "  inflating: maize_leaf_data/data/Healthy/Corn_Health (755).jpg  \n",
            "  inflating: maize_leaf_data/data/Healthy/Corn_Health (756).jpg  \n",
            "  inflating: maize_leaf_data/data/Healthy/Corn_Health (757).jpg  \n",
            "  inflating: maize_leaf_data/data/Healthy/Corn_Health (758).jpg  \n",
            "  inflating: maize_leaf_data/data/Healthy/Corn_Health (759).jpg  \n",
            "  inflating: maize_leaf_data/data/Healthy/Corn_Health (76).jpg  \n",
            "  inflating: maize_leaf_data/data/Healthy/Corn_Health (760).jpg  \n",
            "  inflating: maize_leaf_data/data/Healthy/Corn_Health (761).jpg  \n",
            "  inflating: maize_leaf_data/data/Healthy/Corn_Health (762).jpg  \n",
            "  inflating: maize_leaf_data/data/Healthy/Corn_Health (763).jpg  \n",
            "  inflating: maize_leaf_data/data/Healthy/Corn_Health (764).jpg  \n",
            "  inflating: maize_leaf_data/data/Healthy/Corn_Health (765).jpg  \n",
            "  inflating: maize_leaf_data/data/Healthy/Corn_Health (766).jpg  \n",
            "  inflating: maize_leaf_data/data/Healthy/Corn_Health (767).jpg  \n",
            "  inflating: maize_leaf_data/data/Healthy/Corn_Health (768).jpg  \n",
            "  inflating: maize_leaf_data/data/Healthy/Corn_Health (769).jpg  \n",
            "  inflating: maize_leaf_data/data/Healthy/Corn_Health (77).jpg  \n",
            "  inflating: maize_leaf_data/data/Healthy/Corn_Health (770).jpg  \n",
            "  inflating: maize_leaf_data/data/Healthy/Corn_Health (771).jpg  \n",
            "  inflating: maize_leaf_data/data/Healthy/Corn_Health (772).jpg  \n",
            "  inflating: maize_leaf_data/data/Healthy/Corn_Health (773).jpg  \n",
            "  inflating: maize_leaf_data/data/Healthy/Corn_Health (774).jpg  \n",
            "  inflating: maize_leaf_data/data/Healthy/Corn_Health (775).jpg  \n",
            "  inflating: maize_leaf_data/data/Healthy/Corn_Health (776).jpg  \n",
            "  inflating: maize_leaf_data/data/Healthy/Corn_Health (777).jpg  \n",
            "  inflating: maize_leaf_data/data/Healthy/Corn_Health (778).jpg  \n",
            "  inflating: maize_leaf_data/data/Healthy/Corn_Health (779).jpg  \n",
            "  inflating: maize_leaf_data/data/Healthy/Corn_Health (78).jpg  \n",
            "  inflating: maize_leaf_data/data/Healthy/Corn_Health (780).jpg  \n",
            "  inflating: maize_leaf_data/data/Healthy/Corn_Health (781).jpg  \n",
            "  inflating: maize_leaf_data/data/Healthy/Corn_Health (782).jpg  \n",
            "  inflating: maize_leaf_data/data/Healthy/Corn_Health (783).jpg  \n",
            "  inflating: maize_leaf_data/data/Healthy/Corn_Health (784).jpg  \n",
            "  inflating: maize_leaf_data/data/Healthy/Corn_Health (785).jpg  \n",
            "  inflating: maize_leaf_data/data/Healthy/Corn_Health (786).jpg  \n",
            "  inflating: maize_leaf_data/data/Healthy/Corn_Health (787).jpg  \n",
            "  inflating: maize_leaf_data/data/Healthy/Corn_Health (788).jpg  \n",
            "  inflating: maize_leaf_data/data/Healthy/Corn_Health (789).jpg  \n",
            "  inflating: maize_leaf_data/data/Healthy/Corn_Health (79).jpg  \n",
            "  inflating: maize_leaf_data/data/Healthy/Corn_Health (790).jpg  \n",
            "  inflating: maize_leaf_data/data/Healthy/Corn_Health (791).jpg  \n",
            "  inflating: maize_leaf_data/data/Healthy/Corn_Health (792).jpg  \n",
            "  inflating: maize_leaf_data/data/Healthy/Corn_Health (793).jpg  \n",
            "  inflating: maize_leaf_data/data/Healthy/Corn_Health (794).jpg  \n",
            "  inflating: maize_leaf_data/data/Healthy/Corn_Health (795).jpg  \n",
            "  inflating: maize_leaf_data/data/Healthy/Corn_Health (796).jpg  \n",
            "  inflating: maize_leaf_data/data/Healthy/Corn_Health (797).jpg  \n",
            "  inflating: maize_leaf_data/data/Healthy/Corn_Health (798).jpg  \n",
            "  inflating: maize_leaf_data/data/Healthy/Corn_Health (799).jpg  \n",
            "  inflating: maize_leaf_data/data/Healthy/Corn_Health (8).jpg  \n",
            "  inflating: maize_leaf_data/data/Healthy/Corn_Health (80).jpg  \n",
            "  inflating: maize_leaf_data/data/Healthy/Corn_Health (800).jpg  \n",
            "  inflating: maize_leaf_data/data/Healthy/Corn_Health (801).jpg  \n",
            "  inflating: maize_leaf_data/data/Healthy/Corn_Health (802).jpg  \n",
            "  inflating: maize_leaf_data/data/Healthy/Corn_Health (803).jpg  \n",
            "  inflating: maize_leaf_data/data/Healthy/Corn_Health (804).jpg  \n",
            "  inflating: maize_leaf_data/data/Healthy/Corn_Health (805).jpg  \n",
            "  inflating: maize_leaf_data/data/Healthy/Corn_Health (806).jpg  \n",
            "  inflating: maize_leaf_data/data/Healthy/Corn_Health (807).jpg  \n",
            "  inflating: maize_leaf_data/data/Healthy/Corn_Health (808).jpg  \n",
            "  inflating: maize_leaf_data/data/Healthy/Corn_Health (809).jpg  \n",
            "  inflating: maize_leaf_data/data/Healthy/Corn_Health (81).jpg  \n",
            "  inflating: maize_leaf_data/data/Healthy/Corn_Health (810).jpg  \n",
            "  inflating: maize_leaf_data/data/Healthy/Corn_Health (811).jpg  \n",
            "  inflating: maize_leaf_data/data/Healthy/Corn_Health (812).jpg  \n",
            "  inflating: maize_leaf_data/data/Healthy/Corn_Health (813).jpg  \n",
            "  inflating: maize_leaf_data/data/Healthy/Corn_Health (814).jpg  \n",
            "  inflating: maize_leaf_data/data/Healthy/Corn_Health (815).jpg  \n",
            "  inflating: maize_leaf_data/data/Healthy/Corn_Health (816).jpg  \n",
            "  inflating: maize_leaf_data/data/Healthy/Corn_Health (817).jpg  \n",
            "  inflating: maize_leaf_data/data/Healthy/Corn_Health (818).jpg  \n",
            "  inflating: maize_leaf_data/data/Healthy/Corn_Health (819).jpg  \n",
            "  inflating: maize_leaf_data/data/Healthy/Corn_Health (82).jpg  \n",
            "  inflating: maize_leaf_data/data/Healthy/Corn_Health (820).jpg  \n",
            "  inflating: maize_leaf_data/data/Healthy/Corn_Health (821).jpg  \n",
            "  inflating: maize_leaf_data/data/Healthy/Corn_Health (822).jpg  \n",
            "  inflating: maize_leaf_data/data/Healthy/Corn_Health (823).jpg  \n",
            "  inflating: maize_leaf_data/data/Healthy/Corn_Health (824).jpg  \n",
            "  inflating: maize_leaf_data/data/Healthy/Corn_Health (825).jpg  \n",
            "  inflating: maize_leaf_data/data/Healthy/Corn_Health (826).jpg  \n",
            "  inflating: maize_leaf_data/data/Healthy/Corn_Health (827).jpg  \n",
            "  inflating: maize_leaf_data/data/Healthy/Corn_Health (828).jpg  \n",
            "  inflating: maize_leaf_data/data/Healthy/Corn_Health (829).jpg  \n",
            "  inflating: maize_leaf_data/data/Healthy/Corn_Health (83).jpg  \n",
            "  inflating: maize_leaf_data/data/Healthy/Corn_Health (830).jpg  \n",
            "  inflating: maize_leaf_data/data/Healthy/Corn_Health (831).jpg  \n",
            "  inflating: maize_leaf_data/data/Healthy/Corn_Health (832).jpg  \n",
            "  inflating: maize_leaf_data/data/Healthy/Corn_Health (833).jpg  \n",
            "  inflating: maize_leaf_data/data/Healthy/Corn_Health (834).jpg  \n",
            "  inflating: maize_leaf_data/data/Healthy/Corn_Health (835).jpg  \n",
            "  inflating: maize_leaf_data/data/Healthy/Corn_Health (836).jpg  \n",
            "  inflating: maize_leaf_data/data/Healthy/Corn_Health (837).jpg  \n",
            "  inflating: maize_leaf_data/data/Healthy/Corn_Health (838).jpg  \n",
            "  inflating: maize_leaf_data/data/Healthy/Corn_Health (839).jpg  \n",
            "  inflating: maize_leaf_data/data/Healthy/Corn_Health (84).jpg  \n",
            "  inflating: maize_leaf_data/data/Healthy/Corn_Health (840).jpg  \n",
            "  inflating: maize_leaf_data/data/Healthy/Corn_Health (841).jpg  \n",
            "  inflating: maize_leaf_data/data/Healthy/Corn_Health (842).jpg  \n",
            "  inflating: maize_leaf_data/data/Healthy/Corn_Health (843).jpg  \n",
            "  inflating: maize_leaf_data/data/Healthy/Corn_Health (844).jpg  \n",
            "  inflating: maize_leaf_data/data/Healthy/Corn_Health (845).JPG  \n",
            "  inflating: maize_leaf_data/data/Healthy/Corn_Health (846).jpg  \n",
            "  inflating: maize_leaf_data/data/Healthy/Corn_Health (847).jpg  \n",
            "  inflating: maize_leaf_data/data/Healthy/Corn_Health (848).jpg  \n",
            "  inflating: maize_leaf_data/data/Healthy/Corn_Health (849).jpg  \n",
            "  inflating: maize_leaf_data/data/Healthy/Corn_Health (85).jpg  \n",
            "  inflating: maize_leaf_data/data/Healthy/Corn_Health (850).jpg  \n",
            "  inflating: maize_leaf_data/data/Healthy/Corn_Health (851).jpg  \n",
            "  inflating: maize_leaf_data/data/Healthy/Corn_Health (852).jpg  \n",
            "  inflating: maize_leaf_data/data/Healthy/Corn_Health (853).jpg  \n",
            "  inflating: maize_leaf_data/data/Healthy/Corn_Health (854).jpg  \n",
            "  inflating: maize_leaf_data/data/Healthy/Corn_Health (855).jpg  \n",
            "  inflating: maize_leaf_data/data/Healthy/Corn_Health (856).jpg  \n",
            "  inflating: maize_leaf_data/data/Healthy/Corn_Health (857).jpg  \n",
            "  inflating: maize_leaf_data/data/Healthy/Corn_Health (858).jpg  \n",
            "  inflating: maize_leaf_data/data/Healthy/Corn_Health (859).jpg  \n",
            "  inflating: maize_leaf_data/data/Healthy/Corn_Health (86).jpg  \n",
            "  inflating: maize_leaf_data/data/Healthy/Corn_Health (860).jpg  \n",
            "  inflating: maize_leaf_data/data/Healthy/Corn_Health (861).jpg  \n",
            "  inflating: maize_leaf_data/data/Healthy/Corn_Health (862).jpg  \n",
            "  inflating: maize_leaf_data/data/Healthy/Corn_Health (863).jpg  \n",
            "  inflating: maize_leaf_data/data/Healthy/Corn_Health (864).jpg  \n",
            "  inflating: maize_leaf_data/data/Healthy/Corn_Health (865).jpg  \n",
            "  inflating: maize_leaf_data/data/Healthy/Corn_Health (866).jpg  \n",
            "  inflating: maize_leaf_data/data/Healthy/Corn_Health (867).jpg  \n",
            "  inflating: maize_leaf_data/data/Healthy/Corn_Health (868).jpg  \n",
            "  inflating: maize_leaf_data/data/Healthy/Corn_Health (869).jpg  \n",
            "  inflating: maize_leaf_data/data/Healthy/Corn_Health (87).jpg  \n",
            "  inflating: maize_leaf_data/data/Healthy/Corn_Health (870).jpg  \n",
            "  inflating: maize_leaf_data/data/Healthy/Corn_Health (871).jpg  \n",
            "  inflating: maize_leaf_data/data/Healthy/Corn_Health (872).jpg  \n",
            "  inflating: maize_leaf_data/data/Healthy/Corn_Health (873).jpg  \n",
            "  inflating: maize_leaf_data/data/Healthy/Corn_Health (874).jpg  \n",
            "  inflating: maize_leaf_data/data/Healthy/Corn_Health (875).jpg  \n",
            "  inflating: maize_leaf_data/data/Healthy/Corn_Health (876).jpg  \n",
            "  inflating: maize_leaf_data/data/Healthy/Corn_Health (877).jpg  \n",
            "  inflating: maize_leaf_data/data/Healthy/Corn_Health (878).jpg  \n",
            "  inflating: maize_leaf_data/data/Healthy/Corn_Health (879).jpg  \n",
            "  inflating: maize_leaf_data/data/Healthy/Corn_Health (88).jpg  \n",
            "  inflating: maize_leaf_data/data/Healthy/Corn_Health (880).jpg  \n",
            "  inflating: maize_leaf_data/data/Healthy/Corn_Health (881).jpg  \n",
            "  inflating: maize_leaf_data/data/Healthy/Corn_Health (882).jpg  \n",
            "  inflating: maize_leaf_data/data/Healthy/Corn_Health (883).jpg  \n",
            "  inflating: maize_leaf_data/data/Healthy/Corn_Health (884).jpg  \n",
            "  inflating: maize_leaf_data/data/Healthy/Corn_Health (885).jpg  \n",
            "  inflating: maize_leaf_data/data/Healthy/Corn_Health (886).jpg  \n",
            "  inflating: maize_leaf_data/data/Healthy/Corn_Health (887).JPG  \n",
            "  inflating: maize_leaf_data/data/Healthy/Corn_Health (888).jpg  \n",
            "  inflating: maize_leaf_data/data/Healthy/Corn_Health (889).jpg  \n",
            "  inflating: maize_leaf_data/data/Healthy/Corn_Health (89).jpg  \n",
            "  inflating: maize_leaf_data/data/Healthy/Corn_Health (890).jpg  \n",
            "  inflating: maize_leaf_data/data/Healthy/Corn_Health (891).jpg  \n",
            "  inflating: maize_leaf_data/data/Healthy/Corn_Health (892).jpg  \n",
            "  inflating: maize_leaf_data/data/Healthy/Corn_Health (893).jpg  \n",
            "  inflating: maize_leaf_data/data/Healthy/Corn_Health (894).jpg  \n",
            "  inflating: maize_leaf_data/data/Healthy/Corn_Health (895).jpg  \n",
            "  inflating: maize_leaf_data/data/Healthy/Corn_Health (896).jpg  \n",
            "  inflating: maize_leaf_data/data/Healthy/Corn_Health (897).jpg  \n",
            "  inflating: maize_leaf_data/data/Healthy/Corn_Health (898).jpg  \n",
            "  inflating: maize_leaf_data/data/Healthy/Corn_Health (899).jpg  \n",
            "  inflating: maize_leaf_data/data/Healthy/Corn_Health (9).jpg  \n",
            "  inflating: maize_leaf_data/data/Healthy/Corn_Health (90).jpg  \n",
            "  inflating: maize_leaf_data/data/Healthy/Corn_Health (900).jpg  \n",
            "  inflating: maize_leaf_data/data/Healthy/Corn_Health (901).jpg  \n",
            "  inflating: maize_leaf_data/data/Healthy/Corn_Health (902).jpg  \n",
            "  inflating: maize_leaf_data/data/Healthy/Corn_Health (903).jpg  \n",
            "  inflating: maize_leaf_data/data/Healthy/Corn_Health (904).jpg  \n",
            "  inflating: maize_leaf_data/data/Healthy/Corn_Health (905).jpg  \n",
            "  inflating: maize_leaf_data/data/Healthy/Corn_Health (906).jpg  \n",
            "  inflating: maize_leaf_data/data/Healthy/Corn_Health (907).jpg  \n",
            "  inflating: maize_leaf_data/data/Healthy/Corn_Health (908).jpg  \n",
            "  inflating: maize_leaf_data/data/Healthy/Corn_Health (909).jpg  \n",
            "  inflating: maize_leaf_data/data/Healthy/Corn_Health (91).jpg  \n",
            "  inflating: maize_leaf_data/data/Healthy/Corn_Health (910).jpg  \n",
            "  inflating: maize_leaf_data/data/Healthy/Corn_Health (911).jpg  \n",
            "  inflating: maize_leaf_data/data/Healthy/Corn_Health (912).jpg  \n",
            "  inflating: maize_leaf_data/data/Healthy/Corn_Health (913).jpg  \n",
            "  inflating: maize_leaf_data/data/Healthy/Corn_Health (914).jpg  \n",
            "  inflating: maize_leaf_data/data/Healthy/Corn_Health (915).jpg  \n",
            "  inflating: maize_leaf_data/data/Healthy/Corn_Health (916).jpg  \n",
            "  inflating: maize_leaf_data/data/Healthy/Corn_Health (917).jpg  \n",
            "  inflating: maize_leaf_data/data/Healthy/Corn_Health (918).jpg  \n",
            "  inflating: maize_leaf_data/data/Healthy/Corn_Health (919).jpg  \n",
            "  inflating: maize_leaf_data/data/Healthy/Corn_Health (92).jpg  \n",
            "  inflating: maize_leaf_data/data/Healthy/Corn_Health (920).jpg  \n",
            "  inflating: maize_leaf_data/data/Healthy/Corn_Health (921).jpg  \n",
            "  inflating: maize_leaf_data/data/Healthy/Corn_Health (922).jpg  \n",
            "  inflating: maize_leaf_data/data/Healthy/Corn_Health (923).jpg  \n",
            "  inflating: maize_leaf_data/data/Healthy/Corn_Health (924).jpg  \n",
            "  inflating: maize_leaf_data/data/Healthy/Corn_Health (925).jpg  \n",
            "  inflating: maize_leaf_data/data/Healthy/Corn_Health (926).jpg  \n",
            "  inflating: maize_leaf_data/data/Healthy/Corn_Health (927).jpg  \n",
            "  inflating: maize_leaf_data/data/Healthy/Corn_Health (928).jpg  \n",
            "  inflating: maize_leaf_data/data/Healthy/Corn_Health (929).jpg  \n",
            "  inflating: maize_leaf_data/data/Healthy/Corn_Health (93).jpg  \n",
            "  inflating: maize_leaf_data/data/Healthy/Corn_Health (930).jpg  \n",
            "  inflating: maize_leaf_data/data/Healthy/Corn_Health (931).jpg  \n",
            "  inflating: maize_leaf_data/data/Healthy/Corn_Health (932).jpg  \n",
            "  inflating: maize_leaf_data/data/Healthy/Corn_Health (933).jpg  \n",
            "  inflating: maize_leaf_data/data/Healthy/Corn_Health (934).jpg  \n",
            "  inflating: maize_leaf_data/data/Healthy/Corn_Health (935).jpg  \n",
            "  inflating: maize_leaf_data/data/Healthy/Corn_Health (936).jpg  \n",
            "  inflating: maize_leaf_data/data/Healthy/Corn_Health (937).jpg  \n",
            "  inflating: maize_leaf_data/data/Healthy/Corn_Health (938).jpg  \n",
            "  inflating: maize_leaf_data/data/Healthy/Corn_Health (939).jpg  \n",
            "  inflating: maize_leaf_data/data/Healthy/Corn_Health (94).jpg  \n",
            "  inflating: maize_leaf_data/data/Healthy/Corn_Health (940).jpg  \n",
            "  inflating: maize_leaf_data/data/Healthy/Corn_Health (941).jpg  \n",
            "  inflating: maize_leaf_data/data/Healthy/Corn_Health (942).jpg  \n",
            "  inflating: maize_leaf_data/data/Healthy/Corn_Health (943).jpg  \n",
            "  inflating: maize_leaf_data/data/Healthy/Corn_Health (944).jpg  \n",
            "  inflating: maize_leaf_data/data/Healthy/Corn_Health (945).jpg  \n",
            "  inflating: maize_leaf_data/data/Healthy/Corn_Health (946).jpg  \n",
            "  inflating: maize_leaf_data/data/Healthy/Corn_Health (947).jpg  \n",
            "  inflating: maize_leaf_data/data/Healthy/Corn_Health (948).jpg  \n",
            "  inflating: maize_leaf_data/data/Healthy/Corn_Health (949).jpg  \n",
            "  inflating: maize_leaf_data/data/Healthy/Corn_Health (95).jpg  \n",
            "  inflating: maize_leaf_data/data/Healthy/Corn_Health (950).jpg  \n",
            "  inflating: maize_leaf_data/data/Healthy/Corn_Health (951).jpg  \n",
            "  inflating: maize_leaf_data/data/Healthy/Corn_Health (952).jpg  \n",
            "  inflating: maize_leaf_data/data/Healthy/Corn_Health (953).jpg  \n",
            "  inflating: maize_leaf_data/data/Healthy/Corn_Health (954).jpg  \n",
            "  inflating: maize_leaf_data/data/Healthy/Corn_Health (955).jpg  \n",
            "  inflating: maize_leaf_data/data/Healthy/Corn_Health (956).jpg  \n",
            "  inflating: maize_leaf_data/data/Healthy/Corn_Health (957).jpg  \n",
            "  inflating: maize_leaf_data/data/Healthy/Corn_Health (958).jpg  \n",
            "  inflating: maize_leaf_data/data/Healthy/Corn_Health (959).jpg  \n",
            "  inflating: maize_leaf_data/data/Healthy/Corn_Health (96).jpg  \n",
            "  inflating: maize_leaf_data/data/Healthy/Corn_Health (960).jpg  \n",
            "  inflating: maize_leaf_data/data/Healthy/Corn_Health (961).jpg  \n",
            "  inflating: maize_leaf_data/data/Healthy/Corn_Health (962).jpg  \n",
            "  inflating: maize_leaf_data/data/Healthy/Corn_Health (963).jpg  \n",
            "  inflating: maize_leaf_data/data/Healthy/Corn_Health (964).jpg  \n",
            "  inflating: maize_leaf_data/data/Healthy/Corn_Health (965).jpg  \n",
            "  inflating: maize_leaf_data/data/Healthy/Corn_Health (966).jpg  \n",
            "  inflating: maize_leaf_data/data/Healthy/Corn_Health (967).jpg  \n",
            "  inflating: maize_leaf_data/data/Healthy/Corn_Health (968).jpg  \n",
            "  inflating: maize_leaf_data/data/Healthy/Corn_Health (969).jpg  \n",
            "  inflating: maize_leaf_data/data/Healthy/Corn_Health (97).jpg  \n",
            "  inflating: maize_leaf_data/data/Healthy/Corn_Health (970).jpg  \n",
            "  inflating: maize_leaf_data/data/Healthy/Corn_Health (971).jpg  \n",
            "  inflating: maize_leaf_data/data/Healthy/Corn_Health (972).jpg  \n",
            "  inflating: maize_leaf_data/data/Healthy/Corn_Health (973).jpg  \n",
            "  inflating: maize_leaf_data/data/Healthy/Corn_Health (974).jpg  \n",
            "  inflating: maize_leaf_data/data/Healthy/Corn_Health (975).jpg  \n",
            "  inflating: maize_leaf_data/data/Healthy/Corn_Health (976).jpg  \n",
            "  inflating: maize_leaf_data/data/Healthy/Corn_Health (977).jpg  \n",
            "  inflating: maize_leaf_data/data/Healthy/Corn_Health (978).jpg  \n",
            "  inflating: maize_leaf_data/data/Healthy/Corn_Health (979).jpg  \n",
            "  inflating: maize_leaf_data/data/Healthy/Corn_Health (98).jpg  \n",
            "  inflating: maize_leaf_data/data/Healthy/Corn_Health (980).jpg  \n",
            "  inflating: maize_leaf_data/data/Healthy/Corn_Health (981).jpg  \n",
            "  inflating: maize_leaf_data/data/Healthy/Corn_Health (982).JPG  \n",
            "  inflating: maize_leaf_data/data/Healthy/Corn_Health (983).jpg  \n",
            "  inflating: maize_leaf_data/data/Healthy/Corn_Health (984).jpg  \n",
            "  inflating: maize_leaf_data/data/Healthy/Corn_Health (985).jpg  \n",
            "  inflating: maize_leaf_data/data/Healthy/Corn_Health (986).jpg  \n",
            "  inflating: maize_leaf_data/data/Healthy/Corn_Health (987).jpg  \n",
            "  inflating: maize_leaf_data/data/Healthy/Corn_Health (988).jpg  \n",
            "  inflating: maize_leaf_data/data/Healthy/Corn_Health (989).jpg  \n",
            "  inflating: maize_leaf_data/data/Healthy/Corn_Health (99).jpg  \n",
            "  inflating: maize_leaf_data/data/Healthy/Corn_Health (990).jpg  \n",
            "  inflating: maize_leaf_data/data/Healthy/Corn_Health (991).jpg  \n",
            "  inflating: maize_leaf_data/data/Healthy/Corn_Health (992).jpg  \n",
            "  inflating: maize_leaf_data/data/Healthy/Corn_Health (993).jpg  \n",
            "  inflating: maize_leaf_data/data/Healthy/Corn_Health (994).jpg  \n",
            "  inflating: maize_leaf_data/data/Healthy/Corn_Health (995).jpg  \n",
            "  inflating: maize_leaf_data/data/Healthy/Corn_Health (996).jpg  \n",
            "  inflating: maize_leaf_data/data/Healthy/Corn_Health (997).jpg  \n",
            "  inflating: maize_leaf_data/data/Healthy/Corn_Health (998).jpg  \n",
            "  inflating: maize_leaf_data/data/Healthy/Corn_Health (999).jpg  \n",
            "Dataset URL: https://www.kaggle.com/datasets/carlangelopamplona/corn-leaf-private-testing-v3\n",
            "License(s): unknown\n",
            "Archive:  corn-leaf-private-testing-v3.zip\n",
            "  inflating: maize_leaf_data_testing/Blight/Corn_Blight (100).jpg  \n",
            "  inflating: maize_leaf_data_testing/Blight/Corn_Blight (1000).JPG  \n",
            "  inflating: maize_leaf_data_testing/Blight/Corn_Blight (1001).JPG  \n",
            "  inflating: maize_leaf_data_testing/Blight/Corn_Blight (1002).JPG  \n",
            "  inflating: maize_leaf_data_testing/Blight/Corn_Blight (1003).JPG  \n",
            "  inflating: maize_leaf_data_testing/Blight/Corn_Blight (1004).JPG  \n",
            "  inflating: maize_leaf_data_testing/Blight/Corn_Blight (1005).JPG  \n",
            "  inflating: maize_leaf_data_testing/Blight/Corn_Blight (1006).JPG  \n",
            "  inflating: maize_leaf_data_testing/Blight/Corn_Blight (1007).JPG  \n",
            "  inflating: maize_leaf_data_testing/Blight/Corn_Blight (1008).JPG  \n",
            "  inflating: maize_leaf_data_testing/Blight/Corn_Blight (1009).JPG  \n",
            "  inflating: maize_leaf_data_testing/Blight/Corn_Blight (1010).JPG  \n",
            "  inflating: maize_leaf_data_testing/Blight/Corn_Blight (1011).jpg  \n",
            "  inflating: maize_leaf_data_testing/Blight/Corn_Blight (1012).JPG  \n",
            "  inflating: maize_leaf_data_testing/Blight/Corn_Blight (1013).JPG  \n",
            "  inflating: maize_leaf_data_testing/Blight/Corn_Blight (1014).JPG  \n",
            "  inflating: maize_leaf_data_testing/Blight/Corn_Blight (1015).jpg  \n",
            "  inflating: maize_leaf_data_testing/Blight/Corn_Blight (1016).JPG  \n",
            "  inflating: maize_leaf_data_testing/Blight/Corn_Blight (1017).JPG  \n",
            "  inflating: maize_leaf_data_testing/Blight/Corn_Blight (1018).jpg  \n",
            "  inflating: maize_leaf_data_testing/Blight/Corn_Blight (1019).JPG  \n",
            "  inflating: maize_leaf_data_testing/Blight/Corn_Blight (1051).JPG  \n",
            "  inflating: maize_leaf_data_testing/Blight/Corn_Blight (1052).JPG  \n",
            "  inflating: maize_leaf_data_testing/Blight/Corn_Blight (1053).JPG  \n",
            "  inflating: maize_leaf_data_testing/Blight/Corn_Blight (1054).jpg  \n",
            "  inflating: maize_leaf_data_testing/Blight/Corn_Blight (1055).JPG  \n",
            "  inflating: maize_leaf_data_testing/Blight/Corn_Blight (1056).JPG  \n",
            "  inflating: maize_leaf_data_testing/Blight/Corn_Blight (1057).JPG  \n",
            "  inflating: maize_leaf_data_testing/Blight/Corn_Blight (1058).jpg  \n",
            "  inflating: maize_leaf_data_testing/Blight/Corn_Blight (1059).JPG  \n",
            "  inflating: maize_leaf_data_testing/Blight/Corn_Blight (1060).JPG  \n",
            "  inflating: maize_leaf_data_testing/Blight/Corn_Blight (1061).JPG  \n",
            "  inflating: maize_leaf_data_testing/Blight/Corn_Blight (1062).JPG  \n",
            "  inflating: maize_leaf_data_testing/Blight/Corn_Blight (1063).JPG  \n",
            "  inflating: maize_leaf_data_testing/Blight/Corn_Blight (1064).JPG  \n",
            "  inflating: maize_leaf_data_testing/Blight/Corn_Blight (1065).JPG  \n",
            "  inflating: maize_leaf_data_testing/Blight/Corn_Blight (1066).JPG  \n",
            "  inflating: maize_leaf_data_testing/Blight/Corn_Blight (1067).JPG  \n",
            "  inflating: maize_leaf_data_testing/Blight/Corn_Blight (1068).JPG  \n",
            "  inflating: maize_leaf_data_testing/Blight/Corn_Blight (1069).JPG  \n",
            "  inflating: maize_leaf_data_testing/Blight/Corn_Blight (1070).JPG  \n",
            "  inflating: maize_leaf_data_testing/Blight/Corn_Blight (1071).JPG  \n",
            "  inflating: maize_leaf_data_testing/Blight/Corn_Blight (1072).JPG  \n",
            "  inflating: maize_leaf_data_testing/Blight/Corn_Blight (1073).jpg  \n",
            "  inflating: maize_leaf_data_testing/Blight/Corn_Blight (1074).JPG  \n",
            "  inflating: maize_leaf_data_testing/Blight/Corn_Blight (1075).JPG  \n",
            "  inflating: maize_leaf_data_testing/Blight/Corn_Blight (1076).jpg  \n",
            "  inflating: maize_leaf_data_testing/Blight/Corn_Blight (1077).JPG  \n",
            "  inflating: maize_leaf_data_testing/Blight/Corn_Blight (1078).JPG  \n",
            "  inflating: maize_leaf_data_testing/Blight/Corn_Blight (1079).JPG  \n",
            "  inflating: maize_leaf_data_testing/Blight/Corn_Blight (1080).JPG  \n",
            "  inflating: maize_leaf_data_testing/Blight/Corn_Blight (1081).jpg  \n",
            "  inflating: maize_leaf_data_testing/Blight/Corn_Blight (1082).jpg  \n",
            "  inflating: maize_leaf_data_testing/Blight/Corn_Blight (1083).JPG  \n",
            "  inflating: maize_leaf_data_testing/Blight/Corn_Blight (1084).JPG  \n",
            "  inflating: maize_leaf_data_testing/Blight/Corn_Blight (1085).JPG  \n",
            "  inflating: maize_leaf_data_testing/Blight/Corn_Blight (1086).JPG  \n",
            "  inflating: maize_leaf_data_testing/Blight/Corn_Blight (1087).JPG  \n",
            "  inflating: maize_leaf_data_testing/Blight/Corn_Blight (1088).JPG  \n",
            "  inflating: maize_leaf_data_testing/Blight/Corn_Blight (1089).JPG  \n",
            "  inflating: maize_leaf_data_testing/Blight/Corn_Blight (1090).JPG  \n",
            "  inflating: maize_leaf_data_testing/Blight/Corn_Blight (1091).JPG  \n",
            "  inflating: maize_leaf_data_testing/Blight/Corn_Blight (1092).jpg  \n",
            "  inflating: maize_leaf_data_testing/Blight/Corn_Blight (1093).JPG  \n",
            "  inflating: maize_leaf_data_testing/Blight/Corn_Blight (1094).JPG  \n",
            "  inflating: maize_leaf_data_testing/Blight/Corn_Blight (1095).JPG  \n",
            "  inflating: maize_leaf_data_testing/Blight/Corn_Blight (1104).jpg  \n",
            "  inflating: maize_leaf_data_testing/Blight/Corn_Blight (112).JPG  \n",
            "  inflating: maize_leaf_data_testing/Blight/Corn_Blight (113).JPG  \n",
            "  inflating: maize_leaf_data_testing/Blight/Corn_Blight (114).JPG  \n",
            "  inflating: maize_leaf_data_testing/Blight/Corn_Blight (115).JPG  \n",
            "  inflating: maize_leaf_data_testing/Blight/Corn_Blight (116).JPG  \n",
            "  inflating: maize_leaf_data_testing/Blight/Corn_Blight (117).JPG  \n",
            "  inflating: maize_leaf_data_testing/Blight/Corn_Blight (118).JPG  \n",
            "  inflating: maize_leaf_data_testing/Blight/Corn_Blight (119).JPG  \n",
            "  inflating: maize_leaf_data_testing/Blight/Corn_Blight (120).JPG  \n",
            "  inflating: maize_leaf_data_testing/Blight/Corn_Blight (121).JPG  \n",
            "  inflating: maize_leaf_data_testing/Blight/Corn_Blight (122).JPG  \n",
            "  inflating: maize_leaf_data_testing/Blight/Corn_Blight (123).JPG  \n",
            "  inflating: maize_leaf_data_testing/Blight/Corn_Blight (124).JPG  \n",
            "  inflating: maize_leaf_data_testing/Blight/Corn_Blight (125).jpg  \n",
            "  inflating: maize_leaf_data_testing/Blight/Corn_Blight (126).JPG  \n",
            "  inflating: maize_leaf_data_testing/Blight/Corn_Blight (127).JPG  \n",
            "  inflating: maize_leaf_data_testing/Blight/Corn_Blight (128).JPG  \n",
            "  inflating: maize_leaf_data_testing/Blight/Corn_Blight (129).JPG  \n",
            "  inflating: maize_leaf_data_testing/Blight/Corn_Blight (130).jpg  \n",
            "  inflating: maize_leaf_data_testing/Blight/Corn_Blight (131).JPG  \n",
            "  inflating: maize_leaf_data_testing/Blight/Corn_Blight (132).JPG  \n",
            "  inflating: maize_leaf_data_testing/Blight/Corn_Blight (133).JPG  \n",
            "  inflating: maize_leaf_data_testing/Blight/Corn_Blight (134).jpg  \n",
            "  inflating: maize_leaf_data_testing/Blight/Corn_Blight (135).JPG  \n",
            "  inflating: maize_leaf_data_testing/Blight/Corn_Blight (136).JPG  \n",
            "  inflating: maize_leaf_data_testing/Blight/Corn_Blight (137).JPG  \n",
            "  inflating: maize_leaf_data_testing/Blight/Corn_Blight (138).JPG  \n",
            "  inflating: maize_leaf_data_testing/Blight/Corn_Blight (139).jpg  \n",
            "  inflating: maize_leaf_data_testing/Blight/Corn_Blight (140).JPG  \n",
            "  inflating: maize_leaf_data_testing/Blight/Corn_Blight (141).JPG  \n",
            "  inflating: maize_leaf_data_testing/Blight/Corn_Blight (142).JPG  \n",
            "  inflating: maize_leaf_data_testing/Blight/Corn_Blight (143).JPG  \n",
            "  inflating: maize_leaf_data_testing/Blight/Corn_Blight (144).jpg  \n",
            "  inflating: maize_leaf_data_testing/Blight/Corn_Blight (145).JPG  \n",
            "  inflating: maize_leaf_data_testing/Blight/Corn_Blight (146).JPG  \n",
            "  inflating: maize_leaf_data_testing/Blight/Corn_Blight (147).jpg  \n",
            "  inflating: maize_leaf_data_testing/Blight/Corn_Blight (148).JPG  \n",
            "  inflating: maize_leaf_data_testing/Blight/Corn_Blight (149).JPG  \n",
            "  inflating: maize_leaf_data_testing/Blight/Corn_Blight (150).JPG  \n",
            "  inflating: maize_leaf_data_testing/Blight/Corn_Blight (151).JPG  \n",
            "  inflating: maize_leaf_data_testing/Blight/Corn_Blight (152).JPG  \n",
            "  inflating: maize_leaf_data_testing/Blight/Corn_Blight (153).JPG  \n",
            "  inflating: maize_leaf_data_testing/Blight/Corn_Blight (154).JPG  \n",
            "  inflating: maize_leaf_data_testing/Blight/Corn_Blight (155).JPG  \n",
            "  inflating: maize_leaf_data_testing/Blight/Corn_Blight (156).JPG  \n",
            "  inflating: maize_leaf_data_testing/Blight/Corn_Blight (157).JPG  \n",
            "  inflating: maize_leaf_data_testing/Blight/Corn_Blight (158).JPG  \n",
            "  inflating: maize_leaf_data_testing/Blight/Corn_Blight (159).JPG  \n",
            "  inflating: maize_leaf_data_testing/Blight/Corn_Blight (160).JPG  \n",
            "  inflating: maize_leaf_data_testing/Blight/Corn_Blight (161).JPG  \n",
            "  inflating: maize_leaf_data_testing/Blight/Corn_Blight (162).jpg  \n",
            "  inflating: maize_leaf_data_testing/Blight/Corn_Blight (163).JPG  \n",
            "  inflating: maize_leaf_data_testing/Blight/Corn_Blight (164).JPG  \n",
            "  inflating: maize_leaf_data_testing/Blight/Corn_Blight (165).jpg  \n",
            "  inflating: maize_leaf_data_testing/Blight/Corn_Blight (166).JPG  \n",
            "  inflating: maize_leaf_data_testing/Blight/Corn_Blight (167).JPG  \n",
            "  inflating: maize_leaf_data_testing/Blight/Corn_Blight (168).JPG  \n",
            "  inflating: maize_leaf_data_testing/Blight/Corn_Blight (169).JPG  \n",
            "  inflating: maize_leaf_data_testing/Blight/Corn_Blight (170).JPG  \n",
            "  inflating: maize_leaf_data_testing/Blight/Corn_Blight (171).JPG  \n",
            "  inflating: maize_leaf_data_testing/Blight/Corn_Blight (172).JPG  \n",
            "  inflating: maize_leaf_data_testing/Blight/Corn_Blight (173).JPG  \n",
            "  inflating: maize_leaf_data_testing/Blight/Corn_Blight (174).JPG  \n",
            "  inflating: maize_leaf_data_testing/Blight/Corn_Blight (178).jpg  \n",
            "  inflating: maize_leaf_data_testing/Blight/Corn_Blight (192).JPG  \n",
            "  inflating: maize_leaf_data_testing/Blight/Corn_Blight (193).JPG  \n",
            "  inflating: maize_leaf_data_testing/Blight/Corn_Blight (203).JPG  \n",
            "  inflating: maize_leaf_data_testing/Blight/Corn_Blight (245).JPG  \n",
            "  inflating: maize_leaf_data_testing/Blight/Corn_Blight (248).JPG  \n",
            "  inflating: maize_leaf_data_testing/Blight/Corn_Blight (35).jpg  \n",
            "  inflating: maize_leaf_data_testing/Blight/Corn_Blight (43) - Copy.jpg  \n",
            "  inflating: maize_leaf_data_testing/Blight/Corn_Blight (43).jpg  \n",
            "  inflating: maize_leaf_data_testing/Blight/Corn_Blight (44).jpg  \n",
            "  inflating: maize_leaf_data_testing/Blight/Corn_Blight (46).jpg  \n",
            "  inflating: maize_leaf_data_testing/Blight/Corn_Blight (47).jpg  \n",
            "  inflating: maize_leaf_data_testing/Blight/Corn_Blight (51).jpg  \n",
            "  inflating: maize_leaf_data_testing/Blight/Corn_Blight (54).jpg  \n",
            "  inflating: maize_leaf_data_testing/Blight/Corn_Blight (55).jpg  \n",
            "  inflating: maize_leaf_data_testing/Blight/Corn_Blight (552).JPG  \n",
            "  inflating: maize_leaf_data_testing/Blight/Corn_Blight (56).jpg  \n",
            "  inflating: maize_leaf_data_testing/Blight/Corn_Blight (586).JPG  \n",
            "  inflating: maize_leaf_data_testing/Blight/Corn_Blight (587).JPG  \n",
            "  inflating: maize_leaf_data_testing/Blight/Corn_Blight (595).JPG  \n",
            "  inflating: maize_leaf_data_testing/Blight/Corn_Blight (596).JPG  \n",
            "  inflating: maize_leaf_data_testing/Blight/Corn_Blight (597).jpg  \n",
            "  inflating: maize_leaf_data_testing/Blight/Corn_Blight (598).JPG  \n",
            "  inflating: maize_leaf_data_testing/Blight/Corn_Blight (599).JPG  \n",
            "  inflating: maize_leaf_data_testing/Blight/Corn_Blight (600).jpg  \n",
            "  inflating: maize_leaf_data_testing/Blight/Corn_Blight (601).jpg  \n",
            "  inflating: maize_leaf_data_testing/Blight/Corn_Blight (602).JPG  \n",
            "  inflating: maize_leaf_data_testing/Blight/Corn_Blight (603).JPG  \n",
            "  inflating: maize_leaf_data_testing/Blight/Corn_Blight (604).JPG  \n",
            "  inflating: maize_leaf_data_testing/Blight/Corn_Blight (605).JPG  \n",
            "  inflating: maize_leaf_data_testing/Blight/Corn_Blight (606).JPG  \n",
            "  inflating: maize_leaf_data_testing/Blight/Corn_Blight (607).JPG  \n",
            "  inflating: maize_leaf_data_testing/Blight/Corn_Blight (608).JPG  \n",
            "  inflating: maize_leaf_data_testing/Blight/Corn_Blight (609).JPG  \n",
            "  inflating: maize_leaf_data_testing/Blight/Corn_Blight (610).JPG  \n",
            "  inflating: maize_leaf_data_testing/Blight/Corn_Blight (611).JPG  \n",
            "  inflating: maize_leaf_data_testing/Blight/Corn_Blight (612).JPG  \n",
            "  inflating: maize_leaf_data_testing/Blight/Corn_Blight (613).JPG  \n",
            "  inflating: maize_leaf_data_testing/Blight/Corn_Blight (614).JPG  \n",
            "  inflating: maize_leaf_data_testing/Blight/Corn_Blight (615).JPG  \n",
            "  inflating: maize_leaf_data_testing/Blight/Corn_Blight (616).JPG  \n",
            "  inflating: maize_leaf_data_testing/Blight/Corn_Blight (617).JPG  \n",
            "  inflating: maize_leaf_data_testing/Blight/Corn_Blight (618).JPG  \n",
            "  inflating: maize_leaf_data_testing/Blight/Corn_Blight (619).JPG  \n",
            "  inflating: maize_leaf_data_testing/Blight/Corn_Blight (620).JPG  \n",
            "  inflating: maize_leaf_data_testing/Blight/Corn_Blight (621).JPG  \n",
            "  inflating: maize_leaf_data_testing/Blight/Corn_Blight (622).JPG  \n",
            "  inflating: maize_leaf_data_testing/Blight/Corn_Blight (623).JPG  \n",
            "  inflating: maize_leaf_data_testing/Blight/Corn_Blight (624).JPG  \n",
            "  inflating: maize_leaf_data_testing/Blight/Corn_Blight (626).JPG  \n",
            "  inflating: maize_leaf_data_testing/Blight/Corn_Blight (913).jpg  \n",
            "  inflating: maize_leaf_data_testing/Blight/Corn_Blight (914).JPG  \n",
            "  inflating: maize_leaf_data_testing/Blight/Corn_Blight (915).jpg  \n",
            "  inflating: maize_leaf_data_testing/Blight/Corn_Blight (916).JPG  \n",
            "  inflating: maize_leaf_data_testing/Blight/Corn_Blight (917).JPG  \n",
            "  inflating: maize_leaf_data_testing/Blight/Corn_Blight (918).JPG  \n",
            "  inflating: maize_leaf_data_testing/Blight/Corn_Blight (919).JPG  \n",
            "  inflating: maize_leaf_data_testing/Blight/Corn_Blight (920).JPG  \n",
            "  inflating: maize_leaf_data_testing/Blight/Corn_Blight (921).JPG  \n",
            "  inflating: maize_leaf_data_testing/Blight/Corn_Blight (922).JPG  \n",
            "  inflating: maize_leaf_data_testing/Blight/Corn_Blight (923).JPG  \n",
            "  inflating: maize_leaf_data_testing/Blight/Corn_Blight (924).JPG  \n",
            "  inflating: maize_leaf_data_testing/Blight/Corn_Blight (925).JPG  \n",
            "  inflating: maize_leaf_data_testing/Blight/Corn_Blight (926).jpg  \n",
            "  inflating: maize_leaf_data_testing/Blight/Corn_Blight (927).JPG  \n",
            "  inflating: maize_leaf_data_testing/Blight/Corn_Blight (928).jpg  \n",
            "  inflating: maize_leaf_data_testing/Blight/Corn_Blight (929).JPG  \n",
            "  inflating: maize_leaf_data_testing/Blight/Corn_Blight (930).JPG  \n",
            "  inflating: maize_leaf_data_testing/Blight/Corn_Blight (931).JPG  \n",
            "  inflating: maize_leaf_data_testing/Blight/Corn_Blight (932).JPG  \n",
            "  inflating: maize_leaf_data_testing/Blight/Corn_Blight (933).jpg  \n",
            "  inflating: maize_leaf_data_testing/Blight/Corn_Blight (934).JPG  \n",
            "  inflating: maize_leaf_data_testing/Blight/Corn_Blight (935).JPG  \n",
            "  inflating: maize_leaf_data_testing/Blight/Corn_Blight (936).JPG  \n",
            "  inflating: maize_leaf_data_testing/Blight/Corn_Blight (937).JPG  \n",
            "  inflating: maize_leaf_data_testing/Blight/Corn_Blight (938).JPG  \n",
            "  inflating: maize_leaf_data_testing/Blight/Corn_Blight (939).JPG  \n",
            "  inflating: maize_leaf_data_testing/Blight/Corn_Blight (94).jpg  \n",
            "  inflating: maize_leaf_data_testing/Blight/Corn_Blight (940).JPG  \n",
            "  inflating: maize_leaf_data_testing/Blight/Corn_Blight (941).JPG  \n",
            "  inflating: maize_leaf_data_testing/Blight/Corn_Blight (942).JPG  \n",
            "  inflating: maize_leaf_data_testing/Blight/Corn_Blight (943).JPG  \n",
            "  inflating: maize_leaf_data_testing/Blight/Corn_Blight (944).JPG  \n",
            "  inflating: maize_leaf_data_testing/Blight/Corn_Blight (945).JPG  \n",
            "  inflating: maize_leaf_data_testing/Blight/Corn_Blight (946).JPG  \n",
            "  inflating: maize_leaf_data_testing/Blight/Corn_Blight (947).JPG  \n",
            "  inflating: maize_leaf_data_testing/Blight/Corn_Blight (948).JPG  \n",
            "  inflating: maize_leaf_data_testing/Blight/Corn_Blight (949).JPG  \n",
            "  inflating: maize_leaf_data_testing/Blight/Corn_Blight (95).jpg  \n",
            "  inflating: maize_leaf_data_testing/Blight/Corn_Blight (950).JPG  \n",
            "  inflating: maize_leaf_data_testing/Blight/Corn_Blight (951).JPG  \n",
            "  inflating: maize_leaf_data_testing/Blight/Corn_Blight (952).JPG  \n",
            "  inflating: maize_leaf_data_testing/Blight/Corn_Blight (953).JPG  \n",
            "  inflating: maize_leaf_data_testing/Blight/Corn_Blight (954).JPG  \n",
            "  inflating: maize_leaf_data_testing/Blight/Corn_Blight (955).JPG  \n",
            "  inflating: maize_leaf_data_testing/Blight/Corn_Blight (956).JPG  \n",
            "  inflating: maize_leaf_data_testing/Blight/Corn_Blight (957).jpg  \n",
            "  inflating: maize_leaf_data_testing/Blight/Corn_Blight (958).JPG  \n",
            "  inflating: maize_leaf_data_testing/Blight/Corn_Blight (959).jpg  \n",
            "  inflating: maize_leaf_data_testing/Blight/Corn_Blight (960).jpg  \n",
            "  inflating: maize_leaf_data_testing/Blight/Corn_Blight (961).JPG  \n",
            "  inflating: maize_leaf_data_testing/Blight/Corn_Blight (962).JPG  \n",
            "  inflating: maize_leaf_data_testing/Blight/Corn_Blight (963).JPG  \n",
            "  inflating: maize_leaf_data_testing/Blight/Corn_Blight (964).JPG  \n",
            "  inflating: maize_leaf_data_testing/Blight/Corn_Blight (965).JPG  \n",
            "  inflating: maize_leaf_data_testing/Blight/Corn_Blight (966).jpg  \n",
            "  inflating: maize_leaf_data_testing/Blight/Corn_Blight (967).JPG  \n",
            "  inflating: maize_leaf_data_testing/Blight/Corn_Blight (968).jpg  \n",
            "  inflating: maize_leaf_data_testing/Blight/Corn_Blight (969).JPG  \n",
            "  inflating: maize_leaf_data_testing/Blight/Corn_Blight (970).JPG  \n",
            "  inflating: maize_leaf_data_testing/Blight/Corn_Blight (971).JPG  \n",
            "  inflating: maize_leaf_data_testing/Blight/Corn_Blight (972).JPG  \n",
            "  inflating: maize_leaf_data_testing/Blight/Corn_Blight (973).jpg  \n",
            "  inflating: maize_leaf_data_testing/Blight/Corn_Blight (974).JPG  \n",
            "  inflating: maize_leaf_data_testing/Blight/Corn_Blight (975).JPG  \n",
            "  inflating: maize_leaf_data_testing/Blight/Corn_Blight (976).JPG  \n",
            "  inflating: maize_leaf_data_testing/Blight/Corn_Blight (977).JPG  \n",
            "  inflating: maize_leaf_data_testing/Blight/Corn_Blight (978).jpg  \n",
            "  inflating: maize_leaf_data_testing/Blight/Corn_Blight (979).JPG  \n",
            "  inflating: maize_leaf_data_testing/Blight/Corn_Blight (98).jpg  \n",
            "  inflating: maize_leaf_data_testing/Blight/Corn_Blight (980).JPG  \n",
            "  inflating: maize_leaf_data_testing/Blight/Corn_Blight (981).JPG  \n",
            "  inflating: maize_leaf_data_testing/Blight/Corn_Blight (982).JPG  \n",
            "  inflating: maize_leaf_data_testing/Blight/Corn_Blight (983).jpg  \n",
            "  inflating: maize_leaf_data_testing/Blight/Corn_Blight (984).JPG  \n",
            "  inflating: maize_leaf_data_testing/Blight/Corn_Blight (985).JPG  \n",
            "  inflating: maize_leaf_data_testing/Blight/Corn_Blight (986).JPG  \n",
            "  inflating: maize_leaf_data_testing/Blight/Corn_Blight (987).JPG  \n",
            "  inflating: maize_leaf_data_testing/Blight/Corn_Blight (988).JPG  \n",
            "  inflating: maize_leaf_data_testing/Blight/Corn_Blight (989).JPG  \n",
            "  inflating: maize_leaf_data_testing/Blight/Corn_Blight (99).jpg  \n",
            "  inflating: maize_leaf_data_testing/Blight/Corn_Blight (990).jpg  \n",
            "  inflating: maize_leaf_data_testing/Blight/Corn_Blight (991).JPG  \n",
            "  inflating: maize_leaf_data_testing/Blight/Corn_Blight (992).JPG  \n",
            "  inflating: maize_leaf_data_testing/Blight/Corn_Blight (993).JPG  \n",
            "  inflating: maize_leaf_data_testing/Blight/Corn_Blight (994).JPG  \n",
            "  inflating: maize_leaf_data_testing/Blight/Corn_Blight (995).JPG  \n",
            "  inflating: maize_leaf_data_testing/Blight/Corn_Blight (996).JPG  \n",
            "  inflating: maize_leaf_data_testing/Blight/Corn_Blight (997).JPG  \n",
            "  inflating: maize_leaf_data_testing/Blight/Corn_Blight (998).JPG  \n",
            "  inflating: maize_leaf_data_testing/Blight/Corn_Blight (999).JPG  \n",
            "  inflating: maize_leaf_data_testing/Blight/Corn_Common_Rust (52).jpg  \n",
            "  inflating: maize_leaf_data_testing/Blight/Corn_Common_Rust (53).jpg  \n",
            "  inflating: maize_leaf_data_testing/Blight/Corn_Common_Rust (58).jpg  \n",
            "  inflating: maize_leaf_data_testing/Blight/Corn_Common_Rust (59).jpg  \n",
            "  inflating: maize_leaf_data_testing/Blight/Corn_Common_Rust (63).jpg  \n",
            "  inflating: maize_leaf_data_testing/Blight/Corn_Common_Rust (64).jpg  \n",
            "  inflating: maize_leaf_data_testing/Blight/Corn_Common_Rust (68).jpg  \n",
            "  inflating: maize_leaf_data_testing/Blight/Corn_Common_Rust (70).jpg  \n",
            "  inflating: maize_leaf_data_testing/Blight/Corn_Common_Rust (9).jpg  \n",
            "  inflating: maize_leaf_data_testing/Blight/Corn_Health (1131).jpg  \n",
            "  inflating: maize_leaf_data_testing/Blight/Corn_Health (1141).jpg  \n",
            "  inflating: maize_leaf_data_testing/Blight/Corn_Health (1152).jpg  \n",
            "  inflating: maize_leaf_data_testing/Common_Rust/Corn_Blight (953).JPG  \n",
            "  inflating: maize_leaf_data_testing/Common_Rust/Corn_Blight (954).JPG  \n",
            "  inflating: maize_leaf_data_testing/Common_Rust/Corn_Blight (973).jpg  \n",
            "  inflating: maize_leaf_data_testing/Common_Rust/Corn_Blight (977).JPG  \n",
            "  inflating: maize_leaf_data_testing/Common_Rust/Corn_Blight (990).jpg  \n",
            "  inflating: maize_leaf_data_testing/Common_Rust/common_rust (1).jpg  \n",
            "  inflating: maize_leaf_data_testing/Common_Rust/common_rust (10).JPG  \n",
            "  inflating: maize_leaf_data_testing/Common_Rust/common_rust (100).JPG  \n",
            "  inflating: maize_leaf_data_testing/Common_Rust/common_rust (101).JPG  \n",
            "  inflating: maize_leaf_data_testing/Common_Rust/common_rust (102).JPG  \n",
            "  inflating: maize_leaf_data_testing/Common_Rust/common_rust (103).JPG  \n",
            "  inflating: maize_leaf_data_testing/Common_Rust/common_rust (104).JPG  \n",
            "  inflating: maize_leaf_data_testing/Common_Rust/common_rust (105).JPG  \n",
            "  inflating: maize_leaf_data_testing/Common_Rust/common_rust (106).JPG  \n",
            "  inflating: maize_leaf_data_testing/Common_Rust/common_rust (107).JPG  \n",
            "  inflating: maize_leaf_data_testing/Common_Rust/common_rust (108).JPG  \n",
            "  inflating: maize_leaf_data_testing/Common_Rust/common_rust (109).JPG  \n",
            "  inflating: maize_leaf_data_testing/Common_Rust/common_rust (11).JPG  \n",
            "  inflating: maize_leaf_data_testing/Common_Rust/common_rust (110).JPG  \n",
            "  inflating: maize_leaf_data_testing/Common_Rust/common_rust (111).JPG  \n",
            "  inflating: maize_leaf_data_testing/Common_Rust/common_rust (112).JPG  \n",
            "  inflating: maize_leaf_data_testing/Common_Rust/common_rust (113).JPG  \n",
            "  inflating: maize_leaf_data_testing/Common_Rust/common_rust (114).JPG  \n",
            "  inflating: maize_leaf_data_testing/Common_Rust/common_rust (115).JPG  \n",
            "  inflating: maize_leaf_data_testing/Common_Rust/common_rust (116).JPG  \n",
            "  inflating: maize_leaf_data_testing/Common_Rust/common_rust (117).JPG  \n",
            "  inflating: maize_leaf_data_testing/Common_Rust/common_rust (118).JPG  \n",
            "  inflating: maize_leaf_data_testing/Common_Rust/common_rust (119).JPG  \n",
            "  inflating: maize_leaf_data_testing/Common_Rust/common_rust (12).JPG  \n",
            "  inflating: maize_leaf_data_testing/Common_Rust/common_rust (120).JPG  \n",
            "  inflating: maize_leaf_data_testing/Common_Rust/common_rust (121).JPG  \n",
            "  inflating: maize_leaf_data_testing/Common_Rust/common_rust (122).JPG  \n",
            "  inflating: maize_leaf_data_testing/Common_Rust/common_rust (123).jpg  \n",
            "  inflating: maize_leaf_data_testing/Common_Rust/common_rust (124).jpg  \n",
            "  inflating: maize_leaf_data_testing/Common_Rust/common_rust (125).jpg  \n",
            "  inflating: maize_leaf_data_testing/Common_Rust/common_rust (126).jpg  \n",
            "  inflating: maize_leaf_data_testing/Common_Rust/common_rust (127).jpg  \n",
            "  inflating: maize_leaf_data_testing/Common_Rust/common_rust (128).jpg  \n",
            "  inflating: maize_leaf_data_testing/Common_Rust/common_rust (129).jpg  \n",
            "  inflating: maize_leaf_data_testing/Common_Rust/common_rust (13).JPG  \n",
            "  inflating: maize_leaf_data_testing/Common_Rust/common_rust (130).jpg  \n",
            "  inflating: maize_leaf_data_testing/Common_Rust/common_rust (131).jpg  \n",
            "  inflating: maize_leaf_data_testing/Common_Rust/common_rust (132).jpg  \n",
            "  inflating: maize_leaf_data_testing/Common_Rust/common_rust (133).jpg  \n",
            "  inflating: maize_leaf_data_testing/Common_Rust/common_rust (134).jpg  \n",
            "  inflating: maize_leaf_data_testing/Common_Rust/common_rust (135).jpg  \n",
            "  inflating: maize_leaf_data_testing/Common_Rust/common_rust (136).jpg  \n",
            "  inflating: maize_leaf_data_testing/Common_Rust/common_rust (137).jpg  \n",
            "  inflating: maize_leaf_data_testing/Common_Rust/common_rust (138).jpg  \n",
            "  inflating: maize_leaf_data_testing/Common_Rust/common_rust (139).jpg  \n",
            "  inflating: maize_leaf_data_testing/Common_Rust/common_rust (14).JPG  \n",
            "  inflating: maize_leaf_data_testing/Common_Rust/common_rust (140).jpg  \n",
            "  inflating: maize_leaf_data_testing/Common_Rust/common_rust (141).jpg  \n",
            "  inflating: maize_leaf_data_testing/Common_Rust/common_rust (142).jpg  \n",
            "  inflating: maize_leaf_data_testing/Common_Rust/common_rust (143).jpg  \n",
            "  inflating: maize_leaf_data_testing/Common_Rust/common_rust (144).jpg  \n",
            "  inflating: maize_leaf_data_testing/Common_Rust/common_rust (145).jpg  \n",
            "  inflating: maize_leaf_data_testing/Common_Rust/common_rust (146).jpg  \n",
            "  inflating: maize_leaf_data_testing/Common_Rust/common_rust (147).jpg  \n",
            "  inflating: maize_leaf_data_testing/Common_Rust/common_rust (148).jpg  \n",
            "  inflating: maize_leaf_data_testing/Common_Rust/common_rust (149).jpg  \n",
            "  inflating: maize_leaf_data_testing/Common_Rust/common_rust (15).JPG  \n",
            "  inflating: maize_leaf_data_testing/Common_Rust/common_rust (150).jpg  \n",
            "  inflating: maize_leaf_data_testing/Common_Rust/common_rust (151).jpg  \n",
            "  inflating: maize_leaf_data_testing/Common_Rust/common_rust (152).jpg  \n",
            "  inflating: maize_leaf_data_testing/Common_Rust/common_rust (153).jpg  \n",
            "  inflating: maize_leaf_data_testing/Common_Rust/common_rust (154).jpg  \n",
            "  inflating: maize_leaf_data_testing/Common_Rust/common_rust (155).jpg  \n",
            "  inflating: maize_leaf_data_testing/Common_Rust/common_rust (156).jpg  \n",
            "  inflating: maize_leaf_data_testing/Common_Rust/common_rust (157).jpg  \n",
            "  inflating: maize_leaf_data_testing/Common_Rust/common_rust (158).jpg  \n",
            "  inflating: maize_leaf_data_testing/Common_Rust/common_rust (159).jpg  \n",
            "  inflating: maize_leaf_data_testing/Common_Rust/common_rust (16).JPG  \n",
            "  inflating: maize_leaf_data_testing/Common_Rust/common_rust (160).jpg  \n",
            "  inflating: maize_leaf_data_testing/Common_Rust/common_rust (161).jpg  \n",
            "  inflating: maize_leaf_data_testing/Common_Rust/common_rust (162).jpg  \n",
            "  inflating: maize_leaf_data_testing/Common_Rust/common_rust (163).jpg  \n",
            "  inflating: maize_leaf_data_testing/Common_Rust/common_rust (164).jpg  \n",
            "  inflating: maize_leaf_data_testing/Common_Rust/common_rust (165).jpg  \n",
            "  inflating: maize_leaf_data_testing/Common_Rust/common_rust (166).jpg  \n",
            "  inflating: maize_leaf_data_testing/Common_Rust/common_rust (17).JPG  \n",
            "  inflating: maize_leaf_data_testing/Common_Rust/common_rust (18).JPG  \n",
            "  inflating: maize_leaf_data_testing/Common_Rust/common_rust (19).JPG  \n",
            "  inflating: maize_leaf_data_testing/Common_Rust/common_rust (2).jpg  \n",
            "  inflating: maize_leaf_data_testing/Common_Rust/common_rust (20).JPG  \n",
            "  inflating: maize_leaf_data_testing/Common_Rust/common_rust (21).JPG  \n",
            "  inflating: maize_leaf_data_testing/Common_Rust/common_rust (22).JPG  \n",
            "  inflating: maize_leaf_data_testing/Common_Rust/common_rust (23).JPG  \n",
            "  inflating: maize_leaf_data_testing/Common_Rust/common_rust (24).JPG  \n",
            "  inflating: maize_leaf_data_testing/Common_Rust/common_rust (25).JPG  \n",
            "  inflating: maize_leaf_data_testing/Common_Rust/common_rust (26).JPG  \n",
            "  inflating: maize_leaf_data_testing/Common_Rust/common_rust (27).JPG  \n",
            "  inflating: maize_leaf_data_testing/Common_Rust/common_rust (28).JPG  \n",
            "  inflating: maize_leaf_data_testing/Common_Rust/common_rust (29).JPG  \n",
            "  inflating: maize_leaf_data_testing/Common_Rust/common_rust (3).jpg  \n",
            "  inflating: maize_leaf_data_testing/Common_Rust/common_rust (30).JPG  \n",
            "  inflating: maize_leaf_data_testing/Common_Rust/common_rust (31).JPG  \n",
            "  inflating: maize_leaf_data_testing/Common_Rust/common_rust (32).JPG  \n",
            "  inflating: maize_leaf_data_testing/Common_Rust/common_rust (33).JPG  \n",
            "  inflating: maize_leaf_data_testing/Common_Rust/common_rust (34).JPG  \n",
            "  inflating: maize_leaf_data_testing/Common_Rust/common_rust (35).JPG  \n",
            "  inflating: maize_leaf_data_testing/Common_Rust/common_rust (36).JPG  \n",
            "  inflating: maize_leaf_data_testing/Common_Rust/common_rust (37).JPG  \n",
            "  inflating: maize_leaf_data_testing/Common_Rust/common_rust (38).JPG  \n",
            "  inflating: maize_leaf_data_testing/Common_Rust/common_rust (39).JPG  \n",
            "  inflating: maize_leaf_data_testing/Common_Rust/common_rust (4).jpg  \n",
            "  inflating: maize_leaf_data_testing/Common_Rust/common_rust (40).JPG  \n",
            "  inflating: maize_leaf_data_testing/Common_Rust/common_rust (41).JPG  \n",
            "  inflating: maize_leaf_data_testing/Common_Rust/common_rust (42).JPG  \n",
            "  inflating: maize_leaf_data_testing/Common_Rust/common_rust (43).JPG  \n",
            "  inflating: maize_leaf_data_testing/Common_Rust/common_rust (44).JPG  \n",
            "  inflating: maize_leaf_data_testing/Common_Rust/common_rust (45).JPG  \n",
            "  inflating: maize_leaf_data_testing/Common_Rust/common_rust (46).JPG  \n",
            "  inflating: maize_leaf_data_testing/Common_Rust/common_rust (47).JPG  \n",
            "  inflating: maize_leaf_data_testing/Common_Rust/common_rust (48).JPG  \n",
            "  inflating: maize_leaf_data_testing/Common_Rust/common_rust (49).JPG  \n",
            "  inflating: maize_leaf_data_testing/Common_Rust/common_rust (5).jpg  \n",
            "  inflating: maize_leaf_data_testing/Common_Rust/common_rust (50).JPG  \n",
            "  inflating: maize_leaf_data_testing/Common_Rust/common_rust (51).JPG  \n",
            "  inflating: maize_leaf_data_testing/Common_Rust/common_rust (52).JPG  \n",
            "  inflating: maize_leaf_data_testing/Common_Rust/common_rust (53).JPG  \n",
            "  inflating: maize_leaf_data_testing/Common_Rust/common_rust (54).JPG  \n",
            "  inflating: maize_leaf_data_testing/Common_Rust/common_rust (55).JPG  \n",
            "  inflating: maize_leaf_data_testing/Common_Rust/common_rust (56).JPG  \n",
            "  inflating: maize_leaf_data_testing/Common_Rust/common_rust (57).JPG  \n",
            "  inflating: maize_leaf_data_testing/Common_Rust/common_rust (58).JPG  \n",
            "  inflating: maize_leaf_data_testing/Common_Rust/common_rust (59).JPG  \n",
            "  inflating: maize_leaf_data_testing/Common_Rust/common_rust (6).jpg  \n",
            "  inflating: maize_leaf_data_testing/Common_Rust/common_rust (60).JPG  \n",
            "  inflating: maize_leaf_data_testing/Common_Rust/common_rust (61).JPG  \n",
            "  inflating: maize_leaf_data_testing/Common_Rust/common_rust (62).JPG  \n",
            "  inflating: maize_leaf_data_testing/Common_Rust/common_rust (63).JPG  \n",
            "  inflating: maize_leaf_data_testing/Common_Rust/common_rust (64).JPG  \n",
            "  inflating: maize_leaf_data_testing/Common_Rust/common_rust (65).JPG  \n",
            "  inflating: maize_leaf_data_testing/Common_Rust/common_rust (66).JPG  \n",
            "  inflating: maize_leaf_data_testing/Common_Rust/common_rust (67).JPG  \n",
            "  inflating: maize_leaf_data_testing/Common_Rust/common_rust (68).JPG  \n",
            "  inflating: maize_leaf_data_testing/Common_Rust/common_rust (69).JPG  \n",
            "  inflating: maize_leaf_data_testing/Common_Rust/common_rust (7).jpg  \n",
            "  inflating: maize_leaf_data_testing/Common_Rust/common_rust (70).JPG  \n",
            "  inflating: maize_leaf_data_testing/Common_Rust/common_rust (71).JPG  \n",
            "  inflating: maize_leaf_data_testing/Common_Rust/common_rust (72).JPG  \n",
            "  inflating: maize_leaf_data_testing/Common_Rust/common_rust (73).JPG  \n",
            "  inflating: maize_leaf_data_testing/Common_Rust/common_rust (74).JPG  \n",
            "  inflating: maize_leaf_data_testing/Common_Rust/common_rust (75).JPG  \n",
            "  inflating: maize_leaf_data_testing/Common_Rust/common_rust (76).JPG  \n",
            "  inflating: maize_leaf_data_testing/Common_Rust/common_rust (77).JPG  \n",
            "  inflating: maize_leaf_data_testing/Common_Rust/common_rust (78).JPG  \n",
            "  inflating: maize_leaf_data_testing/Common_Rust/common_rust (79).JPG  \n",
            "  inflating: maize_leaf_data_testing/Common_Rust/common_rust (8).jpg  \n",
            "  inflating: maize_leaf_data_testing/Common_Rust/common_rust (80).JPG  \n",
            "  inflating: maize_leaf_data_testing/Common_Rust/common_rust (81).JPG  \n",
            "  inflating: maize_leaf_data_testing/Common_Rust/common_rust (82).JPG  \n",
            "  inflating: maize_leaf_data_testing/Common_Rust/common_rust (83).JPG  \n",
            "  inflating: maize_leaf_data_testing/Common_Rust/common_rust (84).JPG  \n",
            "  inflating: maize_leaf_data_testing/Common_Rust/common_rust (85).JPG  \n",
            "  inflating: maize_leaf_data_testing/Common_Rust/common_rust (86).JPG  \n",
            "  inflating: maize_leaf_data_testing/Common_Rust/common_rust (87).JPG  \n",
            "  inflating: maize_leaf_data_testing/Common_Rust/common_rust (88).JPG  \n",
            "  inflating: maize_leaf_data_testing/Common_Rust/common_rust (89).JPG  \n",
            "  inflating: maize_leaf_data_testing/Common_Rust/common_rust (9).jpg  \n",
            "  inflating: maize_leaf_data_testing/Common_Rust/common_rust (90).JPG  \n",
            "  inflating: maize_leaf_data_testing/Common_Rust/common_rust (91).JPG  \n",
            "  inflating: maize_leaf_data_testing/Common_Rust/common_rust (92).JPG  \n",
            "  inflating: maize_leaf_data_testing/Common_Rust/common_rust (93).JPG  \n",
            "  inflating: maize_leaf_data_testing/Common_Rust/common_rust (94).JPG  \n",
            "  inflating: maize_leaf_data_testing/Common_Rust/common_rust (95).JPG  \n",
            "  inflating: maize_leaf_data_testing/Common_Rust/common_rust (96).JPG  \n",
            "  inflating: maize_leaf_data_testing/Common_Rust/common_rust (97).JPG  \n",
            "  inflating: maize_leaf_data_testing/Common_Rust/common_rust (98).JPG  \n",
            "  inflating: maize_leaf_data_testing/Common_Rust/common_rust (99).JPG  \n",
            "  inflating: maize_leaf_data_testing/Gray_Leaf_Spot/corn_gray_spot (1).jpg  \n",
            "  inflating: maize_leaf_data_testing/Gray_Leaf_Spot/corn_gray_spot (10).JPG  \n",
            "  inflating: maize_leaf_data_testing/Gray_Leaf_Spot/corn_gray_spot (100).JPG  \n",
            "  inflating: maize_leaf_data_testing/Gray_Leaf_Spot/corn_gray_spot (101).JPG  \n",
            "  inflating: maize_leaf_data_testing/Gray_Leaf_Spot/corn_gray_spot (102).JPG  \n",
            "  inflating: maize_leaf_data_testing/Gray_Leaf_Spot/corn_gray_spot (103).JPG  \n",
            "  inflating: maize_leaf_data_testing/Gray_Leaf_Spot/corn_gray_spot (104).JPG  \n",
            "  inflating: maize_leaf_data_testing/Gray_Leaf_Spot/corn_gray_spot (105).JPG  \n",
            "  inflating: maize_leaf_data_testing/Gray_Leaf_Spot/corn_gray_spot (106).JPG  \n",
            "  inflating: maize_leaf_data_testing/Gray_Leaf_Spot/corn_gray_spot (107).JPG  \n",
            "  inflating: maize_leaf_data_testing/Gray_Leaf_Spot/corn_gray_spot (108).jpg  \n",
            "  inflating: maize_leaf_data_testing/Gray_Leaf_Spot/corn_gray_spot (109).JPG  \n",
            "  inflating: maize_leaf_data_testing/Gray_Leaf_Spot/corn_gray_spot (11).jpg  \n",
            "  inflating: maize_leaf_data_testing/Gray_Leaf_Spot/corn_gray_spot (110).JPG  \n",
            "  inflating: maize_leaf_data_testing/Gray_Leaf_Spot/corn_gray_spot (111).JPG  \n",
            "  inflating: maize_leaf_data_testing/Gray_Leaf_Spot/corn_gray_spot (112).JPG  \n",
            "  inflating: maize_leaf_data_testing/Gray_Leaf_Spot/corn_gray_spot (113).JPG  \n",
            "  inflating: maize_leaf_data_testing/Gray_Leaf_Spot/corn_gray_spot (114).JPG  \n",
            "  inflating: maize_leaf_data_testing/Gray_Leaf_Spot/corn_gray_spot (115).JPG  \n",
            "  inflating: maize_leaf_data_testing/Gray_Leaf_Spot/corn_gray_spot (116).JPG  \n",
            "  inflating: maize_leaf_data_testing/Gray_Leaf_Spot/corn_gray_spot (117).JPG  \n",
            "  inflating: maize_leaf_data_testing/Gray_Leaf_Spot/corn_gray_spot (118).jpg  \n",
            "  inflating: maize_leaf_data_testing/Gray_Leaf_Spot/corn_gray_spot (119).JPG  \n",
            "  inflating: maize_leaf_data_testing/Gray_Leaf_Spot/corn_gray_spot (12).JPG  \n",
            "  inflating: maize_leaf_data_testing/Gray_Leaf_Spot/corn_gray_spot (120).JPG  \n",
            "  inflating: maize_leaf_data_testing/Gray_Leaf_Spot/corn_gray_spot (121).JPG  \n",
            "  inflating: maize_leaf_data_testing/Gray_Leaf_Spot/corn_gray_spot (122).JPG  \n",
            "  inflating: maize_leaf_data_testing/Gray_Leaf_Spot/corn_gray_spot (123).JPG  \n",
            "  inflating: maize_leaf_data_testing/Gray_Leaf_Spot/corn_gray_spot (124).JPG  \n",
            "  inflating: maize_leaf_data_testing/Gray_Leaf_Spot/corn_gray_spot (125).JPG  \n",
            "  inflating: maize_leaf_data_testing/Gray_Leaf_Spot/corn_gray_spot (126).JPG  \n",
            "  inflating: maize_leaf_data_testing/Gray_Leaf_Spot/corn_gray_spot (127).JPG  \n",
            "  inflating: maize_leaf_data_testing/Gray_Leaf_Spot/corn_gray_spot (128).JPG  \n",
            "  inflating: maize_leaf_data_testing/Gray_Leaf_Spot/corn_gray_spot (129).jpg  \n",
            "  inflating: maize_leaf_data_testing/Gray_Leaf_Spot/corn_gray_spot (13).JPG  \n",
            "  inflating: maize_leaf_data_testing/Gray_Leaf_Spot/corn_gray_spot (130).JPG  \n",
            "  inflating: maize_leaf_data_testing/Gray_Leaf_Spot/corn_gray_spot (131).JPG  \n",
            "  inflating: maize_leaf_data_testing/Gray_Leaf_Spot/corn_gray_spot (132).JPG  \n",
            "  inflating: maize_leaf_data_testing/Gray_Leaf_Spot/corn_gray_spot (133).JPG  \n",
            "  inflating: maize_leaf_data_testing/Gray_Leaf_Spot/corn_gray_spot (134).JPG  \n",
            "  inflating: maize_leaf_data_testing/Gray_Leaf_Spot/corn_gray_spot (135).jpg  \n",
            "  inflating: maize_leaf_data_testing/Gray_Leaf_Spot/corn_gray_spot (136).jpg  \n",
            "  inflating: maize_leaf_data_testing/Gray_Leaf_Spot/corn_gray_spot (137).jpg  \n",
            "  inflating: maize_leaf_data_testing/Gray_Leaf_Spot/corn_gray_spot (14).JPG  \n",
            "  inflating: maize_leaf_data_testing/Gray_Leaf_Spot/corn_gray_spot (15).JPG  \n",
            "  inflating: maize_leaf_data_testing/Gray_Leaf_Spot/corn_gray_spot (16).JPG  \n",
            "  inflating: maize_leaf_data_testing/Gray_Leaf_Spot/corn_gray_spot (17).JPG  \n",
            "  inflating: maize_leaf_data_testing/Gray_Leaf_Spot/corn_gray_spot (18).JPG  \n",
            "  inflating: maize_leaf_data_testing/Gray_Leaf_Spot/corn_gray_spot (19).JPG  \n",
            "  inflating: maize_leaf_data_testing/Gray_Leaf_Spot/corn_gray_spot (2).jpg  \n",
            "  inflating: maize_leaf_data_testing/Gray_Leaf_Spot/corn_gray_spot (20).JPG  \n",
            "  inflating: maize_leaf_data_testing/Gray_Leaf_Spot/corn_gray_spot (21).JPG  \n",
            "  inflating: maize_leaf_data_testing/Gray_Leaf_Spot/corn_gray_spot (22).jpg  \n",
            "  inflating: maize_leaf_data_testing/Gray_Leaf_Spot/corn_gray_spot (23).JPG  \n",
            "  inflating: maize_leaf_data_testing/Gray_Leaf_Spot/corn_gray_spot (24).JPG  \n",
            "  inflating: maize_leaf_data_testing/Gray_Leaf_Spot/corn_gray_spot (25).JPG  \n",
            "  inflating: maize_leaf_data_testing/Gray_Leaf_Spot/corn_gray_spot (26).JPG  \n",
            "  inflating: maize_leaf_data_testing/Gray_Leaf_Spot/corn_gray_spot (27).JPG  \n",
            "  inflating: maize_leaf_data_testing/Gray_Leaf_Spot/corn_gray_spot (28).JPG  \n",
            "  inflating: maize_leaf_data_testing/Gray_Leaf_Spot/corn_gray_spot (29).jpg  \n",
            "  inflating: maize_leaf_data_testing/Gray_Leaf_Spot/corn_gray_spot (3).jpg  \n",
            "  inflating: maize_leaf_data_testing/Gray_Leaf_Spot/corn_gray_spot (30).JPG  \n",
            "  inflating: maize_leaf_data_testing/Gray_Leaf_Spot/corn_gray_spot (31).JPG  \n",
            "  inflating: maize_leaf_data_testing/Gray_Leaf_Spot/corn_gray_spot (32).JPG  \n",
            "  inflating: maize_leaf_data_testing/Gray_Leaf_Spot/corn_gray_spot (33).jpg  \n",
            "  inflating: maize_leaf_data_testing/Gray_Leaf_Spot/corn_gray_spot (34).JPG  \n",
            "  inflating: maize_leaf_data_testing/Gray_Leaf_Spot/corn_gray_spot (35).JPG  \n",
            "  inflating: maize_leaf_data_testing/Gray_Leaf_Spot/corn_gray_spot (36).JPG  \n",
            "  inflating: maize_leaf_data_testing/Gray_Leaf_Spot/corn_gray_spot (37).JPG  \n",
            "  inflating: maize_leaf_data_testing/Gray_Leaf_Spot/corn_gray_spot (38).JPG  \n",
            "  inflating: maize_leaf_data_testing/Gray_Leaf_Spot/corn_gray_spot (39).JPG  \n",
            "  inflating: maize_leaf_data_testing/Gray_Leaf_Spot/corn_gray_spot (4).jpg  \n",
            "  inflating: maize_leaf_data_testing/Gray_Leaf_Spot/corn_gray_spot (40).JPG  \n",
            "  inflating: maize_leaf_data_testing/Gray_Leaf_Spot/corn_gray_spot (41).JPG  \n",
            "  inflating: maize_leaf_data_testing/Gray_Leaf_Spot/corn_gray_spot (42).JPG  \n",
            "  inflating: maize_leaf_data_testing/Gray_Leaf_Spot/corn_gray_spot (43).JPG  \n",
            "  inflating: maize_leaf_data_testing/Gray_Leaf_Spot/corn_gray_spot (44).JPG  \n",
            "  inflating: maize_leaf_data_testing/Gray_Leaf_Spot/corn_gray_spot (45).JPG  \n",
            "  inflating: maize_leaf_data_testing/Gray_Leaf_Spot/corn_gray_spot (46).JPG  \n",
            "  inflating: maize_leaf_data_testing/Gray_Leaf_Spot/corn_gray_spot (47).JPG  \n",
            "  inflating: maize_leaf_data_testing/Gray_Leaf_Spot/corn_gray_spot (48).JPG  \n",
            "  inflating: maize_leaf_data_testing/Gray_Leaf_Spot/corn_gray_spot (49).JPG  \n",
            "  inflating: maize_leaf_data_testing/Gray_Leaf_Spot/corn_gray_spot (5).jpg  \n",
            "  inflating: maize_leaf_data_testing/Gray_Leaf_Spot/corn_gray_spot (50).JPG  \n",
            "  inflating: maize_leaf_data_testing/Gray_Leaf_Spot/corn_gray_spot (51).JPG  \n",
            "  inflating: maize_leaf_data_testing/Gray_Leaf_Spot/corn_gray_spot (52).jpg  \n",
            "  inflating: maize_leaf_data_testing/Gray_Leaf_Spot/corn_gray_spot (53).JPG  \n",
            "  inflating: maize_leaf_data_testing/Gray_Leaf_Spot/corn_gray_spot (54).JPG  \n",
            "  inflating: maize_leaf_data_testing/Gray_Leaf_Spot/corn_gray_spot (55).JPG  \n",
            "  inflating: maize_leaf_data_testing/Gray_Leaf_Spot/corn_gray_spot (56).JPG  \n",
            "  inflating: maize_leaf_data_testing/Gray_Leaf_Spot/corn_gray_spot (57).JPG  \n",
            "  inflating: maize_leaf_data_testing/Gray_Leaf_Spot/corn_gray_spot (58).jpg  \n",
            "  inflating: maize_leaf_data_testing/Gray_Leaf_Spot/corn_gray_spot (59).JPG  \n",
            "  inflating: maize_leaf_data_testing/Gray_Leaf_Spot/corn_gray_spot (6).JPG  \n",
            "  inflating: maize_leaf_data_testing/Gray_Leaf_Spot/corn_gray_spot (60).JPG  \n",
            "  inflating: maize_leaf_data_testing/Gray_Leaf_Spot/corn_gray_spot (61).JPG  \n",
            "  inflating: maize_leaf_data_testing/Gray_Leaf_Spot/corn_gray_spot (62).JPG  \n",
            "  inflating: maize_leaf_data_testing/Gray_Leaf_Spot/corn_gray_spot (63).JPG  \n",
            "  inflating: maize_leaf_data_testing/Gray_Leaf_Spot/corn_gray_spot (64).JPG  \n",
            "  inflating: maize_leaf_data_testing/Gray_Leaf_Spot/corn_gray_spot (65).JPG  \n",
            "  inflating: maize_leaf_data_testing/Gray_Leaf_Spot/corn_gray_spot (66).JPG  \n",
            "  inflating: maize_leaf_data_testing/Gray_Leaf_Spot/corn_gray_spot (67).JPG  \n",
            "  inflating: maize_leaf_data_testing/Gray_Leaf_Spot/corn_gray_spot (68).JPG  \n",
            "  inflating: maize_leaf_data_testing/Gray_Leaf_Spot/corn_gray_spot (69).JPG  \n",
            "  inflating: maize_leaf_data_testing/Gray_Leaf_Spot/corn_gray_spot (7).JPG  \n",
            "  inflating: maize_leaf_data_testing/Gray_Leaf_Spot/corn_gray_spot (70).JPG  \n",
            "  inflating: maize_leaf_data_testing/Gray_Leaf_Spot/corn_gray_spot (71).JPG  \n",
            "  inflating: maize_leaf_data_testing/Gray_Leaf_Spot/corn_gray_spot (72).JPG  \n",
            "  inflating: maize_leaf_data_testing/Gray_Leaf_Spot/corn_gray_spot (73).JPG  \n",
            "  inflating: maize_leaf_data_testing/Gray_Leaf_Spot/corn_gray_spot (74).JPG  \n",
            "  inflating: maize_leaf_data_testing/Gray_Leaf_Spot/corn_gray_spot (75).JPG  \n",
            "  inflating: maize_leaf_data_testing/Gray_Leaf_Spot/corn_gray_spot (76).JPG  \n",
            "  inflating: maize_leaf_data_testing/Gray_Leaf_Spot/corn_gray_spot (77).jpg  \n",
            "  inflating: maize_leaf_data_testing/Gray_Leaf_Spot/corn_gray_spot (78).JPG  \n",
            "  inflating: maize_leaf_data_testing/Gray_Leaf_Spot/corn_gray_spot (79).JPG  \n",
            "  inflating: maize_leaf_data_testing/Gray_Leaf_Spot/corn_gray_spot (8).jpg  \n",
            "  inflating: maize_leaf_data_testing/Gray_Leaf_Spot/corn_gray_spot (80).JPG  \n",
            "  inflating: maize_leaf_data_testing/Gray_Leaf_Spot/corn_gray_spot (81).JPG  \n",
            "  inflating: maize_leaf_data_testing/Gray_Leaf_Spot/corn_gray_spot (82).JPG  \n",
            "  inflating: maize_leaf_data_testing/Gray_Leaf_Spot/corn_gray_spot (83).JPG  \n",
            "  inflating: maize_leaf_data_testing/Gray_Leaf_Spot/corn_gray_spot (84).JPG  \n",
            "  inflating: maize_leaf_data_testing/Gray_Leaf_Spot/corn_gray_spot (85).JPG  \n",
            "  inflating: maize_leaf_data_testing/Gray_Leaf_Spot/corn_gray_spot (86).JPG  \n",
            "  inflating: maize_leaf_data_testing/Gray_Leaf_Spot/corn_gray_spot (87).JPG  \n",
            "  inflating: maize_leaf_data_testing/Gray_Leaf_Spot/corn_gray_spot (88).JPG  \n",
            "  inflating: maize_leaf_data_testing/Gray_Leaf_Spot/corn_gray_spot (89).jpg  \n",
            "  inflating: maize_leaf_data_testing/Gray_Leaf_Spot/corn_gray_spot (9).JPG  \n",
            "  inflating: maize_leaf_data_testing/Gray_Leaf_Spot/corn_gray_spot (90).JPG  \n",
            "  inflating: maize_leaf_data_testing/Gray_Leaf_Spot/corn_gray_spot (91).JPG  \n",
            "  inflating: maize_leaf_data_testing/Gray_Leaf_Spot/corn_gray_spot (92).JPG  \n",
            "  inflating: maize_leaf_data_testing/Gray_Leaf_Spot/corn_gray_spot (93).JPG  \n",
            "  inflating: maize_leaf_data_testing/Gray_Leaf_Spot/corn_gray_spot (94).JPG  \n",
            "  inflating: maize_leaf_data_testing/Gray_Leaf_Spot/corn_gray_spot (95).JPG  \n",
            "  inflating: maize_leaf_data_testing/Gray_Leaf_Spot/corn_gray_spot (96).JPG  \n",
            "  inflating: maize_leaf_data_testing/Gray_Leaf_Spot/corn_gray_spot (97).JPG  \n",
            "  inflating: maize_leaf_data_testing/Gray_Leaf_Spot/corn_gray_spot (98).JPG  \n",
            "  inflating: maize_leaf_data_testing/Gray_Leaf_Spot/corn_gray_spot (99).JPG  \n",
            "  inflating: maize_leaf_data_testing/Healthy/healthy (1).jpg  \n",
            "  inflating: maize_leaf_data_testing/Healthy/healthy (283).jpg  \n",
            "  inflating: maize_leaf_data_testing/Healthy/healthy (284).jpg  \n",
            "  inflating: maize_leaf_data_testing/Healthy/healthy (285).jpg  \n",
            "  inflating: maize_leaf_data_testing/Healthy/healthy (286).jpg  \n",
            "  inflating: maize_leaf_data_testing/Healthy/healthy (287).jpg  \n",
            "  inflating: maize_leaf_data_testing/Healthy/healthy (288).jpg  \n",
            "  inflating: maize_leaf_data_testing/Healthy/healthy (289).jpg  \n",
            "  inflating: maize_leaf_data_testing/Healthy/healthy (290).jpg  \n",
            "  inflating: maize_leaf_data_testing/Healthy/healthy (291).jpg  \n",
            "  inflating: maize_leaf_data_testing/Healthy/healthy (292).jpg  \n",
            "  inflating: maize_leaf_data_testing/Healthy/healthy (293).jpg  \n",
            "  inflating: maize_leaf_data_testing/Healthy/healthy (294).jpg  \n",
            "  inflating: maize_leaf_data_testing/Healthy/healthy (295).jpg  \n",
            "  inflating: maize_leaf_data_testing/Healthy/healthy (296).jpg  \n",
            "  inflating: maize_leaf_data_testing/Healthy/healthy (297).jpg  \n",
            "  inflating: maize_leaf_data_testing/Healthy/healthy (298).jpg  \n",
            "  inflating: maize_leaf_data_testing/Healthy/healthy (299).jpg  \n",
            "  inflating: maize_leaf_data_testing/Healthy/healthy (300).jpg  \n",
            "  inflating: maize_leaf_data_testing/Healthy/healthy (301).jpg  \n",
            "  inflating: maize_leaf_data_testing/Healthy/healthy (302).jpg  \n",
            "  inflating: maize_leaf_data_testing/Healthy/healthy (303).jpg  \n",
            "  inflating: maize_leaf_data_testing/Healthy/healthy (304).jpg  \n",
            "  inflating: maize_leaf_data_testing/Healthy/healthy (305).jpg  \n",
            "  inflating: maize_leaf_data_testing/Healthy/healthy (306).jpg  \n",
            "  inflating: maize_leaf_data_testing/Healthy/healthy (307).jpg  \n",
            "  inflating: maize_leaf_data_testing/Healthy/healthy (308).jpg  \n",
            "  inflating: maize_leaf_data_testing/Healthy/healthy (309).jpg  \n",
            "  inflating: maize_leaf_data_testing/Healthy/healthy (310).jpg  \n",
            "  inflating: maize_leaf_data_testing/Healthy/healthy (311).jpg  \n",
            "  inflating: maize_leaf_data_testing/Healthy/healthy (312).jpg  \n",
            "  inflating: maize_leaf_data_testing/Healthy/healthy (313).jpg  \n",
            "  inflating: maize_leaf_data_testing/Healthy/healthy (314).jpg  \n",
            "  inflating: maize_leaf_data_testing/Healthy/healthy (315).jpg  \n",
            "  inflating: maize_leaf_data_testing/Healthy/healthy (316).jpg  \n",
            "  inflating: maize_leaf_data_testing/Healthy/healthy (317).JPG  \n",
            "  inflating: maize_leaf_data_testing/Healthy/healthy (318).JPG  \n",
            "  inflating: maize_leaf_data_testing/Healthy/healthy (319).JPG  \n",
            "  inflating: maize_leaf_data_testing/Healthy/healthy (320).JPG  \n",
            "  inflating: maize_leaf_data_testing/Healthy/healthy (321).jpg  \n",
            "  inflating: maize_leaf_data_testing/Healthy/healthy (322).jpg  \n",
            "  inflating: maize_leaf_data_testing/Healthy/healthy (323).jpg  \n",
            "  inflating: maize_leaf_data_testing/Healthy/healthy (324).jpg  \n",
            "  inflating: maize_leaf_data_testing/Healthy/healthy (325).jpg  \n",
            "  inflating: maize_leaf_data_testing/Healthy/healthy (326).jpg  \n",
            "  inflating: maize_leaf_data_testing/Healthy/healthy (327).jpg  \n",
            "  inflating: maize_leaf_data_testing/Healthy/healthy (328).jpg  \n",
            "  inflating: maize_leaf_data_testing/Healthy/healthy (329).jpg  \n",
            "  inflating: maize_leaf_data_testing/Healthy/healthy (330).jpg  \n",
            "  inflating: maize_leaf_data_testing/Healthy/healthy (331).jpg  \n",
            "  inflating: maize_leaf_data_testing/Healthy/healthy (332).jpg  \n",
            "  inflating: maize_leaf_data_testing/Healthy/healthy (333).jpg  \n",
            "  inflating: maize_leaf_data_testing/Healthy/healthy (334).jpg  \n",
            "  inflating: maize_leaf_data_testing/Healthy/healthy (335).jpg  \n",
            "  inflating: maize_leaf_data_testing/Healthy/healthy (336).jpg  \n",
            "  inflating: maize_leaf_data_testing/Healthy/healthy (337).jpg  \n",
            "  inflating: maize_leaf_data_testing/Healthy/healthy (338).jpg  \n",
            "  inflating: maize_leaf_data_testing/Healthy/healthy (339).jpg  \n",
            "  inflating: maize_leaf_data_testing/Healthy/healthy (340).jpg  \n",
            "  inflating: maize_leaf_data_testing/Healthy/healthy (341).jpg  \n",
            "  inflating: maize_leaf_data_testing/Healthy/healthy (342).jpg  \n",
            "  inflating: maize_leaf_data_testing/Healthy/healthy (343).jpg  \n",
            "  inflating: maize_leaf_data_testing/Healthy/healthy (344).jpg  \n",
            "  inflating: maize_leaf_data_testing/Healthy/healthy (345).jpg  \n",
            "  inflating: maize_leaf_data_testing/Healthy/healthy (346).jpg  \n",
            "  inflating: maize_leaf_data_testing/Healthy/healthy (347).jpg  \n",
            "  inflating: maize_leaf_data_testing/Healthy/healthy (348).jpg  \n",
            "  inflating: maize_leaf_data_testing/Healthy/healthy (349).jpg  \n",
            "  inflating: maize_leaf_data_testing/Healthy/healthy (350).jpg  \n",
            "  inflating: maize_leaf_data_testing/Healthy/healthy (351).jpg  \n",
            "  inflating: maize_leaf_data_testing/Healthy/healthy (352).jpg  \n",
            "  inflating: maize_leaf_data_testing/Healthy/healthy (353).jpg  \n",
            "  inflating: maize_leaf_data_testing/Healthy/healthy (354).jpg  \n",
            "  inflating: maize_leaf_data_testing/Healthy/healthy (355).jpg  \n",
            "  inflating: maize_leaf_data_testing/Healthy/healthy (356).jpg  \n",
            "  inflating: maize_leaf_data_testing/Healthy/healthy (357).jpg  \n",
            "  inflating: maize_leaf_data_testing/Healthy/healthy (358).jpg  \n",
            "  inflating: maize_leaf_data_testing/Healthy/healthy (359).jpg  \n",
            "  inflating: maize_leaf_data_testing/Healthy/healthy (360).jpg  \n",
            "  inflating: maize_leaf_data_testing/Healthy/healthy (361).jpg  \n",
            "  inflating: maize_leaf_data_testing/Healthy/healthy (362).jpg  \n",
            "  inflating: maize_leaf_data_testing/Healthy/healthy (363).jpg  \n",
            "  inflating: maize_leaf_data_testing/Healthy/healthy (364).jpg  \n",
            "  inflating: maize_leaf_data_testing/Healthy/healthy (365).jpg  \n",
            "  inflating: maize_leaf_data_testing/Healthy/healthy (366).jpg  \n",
            "  inflating: maize_leaf_data_testing/Healthy/healthy (367).jpg  \n",
            "  inflating: maize_leaf_data_testing/Healthy/healthy (368).jpg  \n",
            "  inflating: maize_leaf_data_testing/Healthy/healthy (369).jpg  \n",
            "  inflating: maize_leaf_data_testing/Healthy/healthy (370).jpg  \n",
            "  inflating: maize_leaf_data_testing/Healthy/healthy (371).jpg  \n",
            "  inflating: maize_leaf_data_testing/Healthy/healthy (372).jpg  \n",
            "  inflating: maize_leaf_data_testing/Healthy/healthy (373).jpg  \n",
            "  inflating: maize_leaf_data_testing/Healthy/healthy (374).JPG  \n",
            "  inflating: maize_leaf_data_testing/Healthy/healthy (375).jpg  \n",
            "  inflating: maize_leaf_data_testing/Healthy/healthy (376).jpg  \n",
            "  inflating: maize_leaf_data_testing/Healthy/healthy (377).jpg  \n",
            "  inflating: maize_leaf_data_testing/Healthy/healthy (378).jpg  \n",
            "  inflating: maize_leaf_data_testing/Healthy/healthy (379).jpg  \n",
            "  inflating: maize_leaf_data_testing/Healthy/healthy (380).jpg  \n",
            "  inflating: maize_leaf_data_testing/Healthy/healthy (381).JPG  \n",
            "  inflating: maize_leaf_data_testing/Healthy/healthy (382).jpg  \n",
            "  inflating: maize_leaf_data_testing/Healthy/healthy (383).jpg  \n",
            "  inflating: maize_leaf_data_testing/Healthy/healthy (384).jpg  \n",
            "  inflating: maize_leaf_data_testing/Healthy/healthy (385).jpg  \n",
            "  inflating: maize_leaf_data_testing/Healthy/healthy (386).jpg  \n",
            "  inflating: maize_leaf_data_testing/Healthy/healthy (387).jpg  \n",
            "  inflating: maize_leaf_data_testing/Healthy/healthy (388).jpg  \n",
            "  inflating: maize_leaf_data_testing/Healthy/healthy (389).jpg  \n",
            "  inflating: maize_leaf_data_testing/Healthy/healthy (390).jpg  \n",
            "  inflating: maize_leaf_data_testing/Healthy/healthy (391).jpg  \n",
            "  inflating: maize_leaf_data_testing/Healthy/healthy (392).jpg  \n",
            "  inflating: maize_leaf_data_testing/Healthy/healthy (393).jpg  \n",
            "  inflating: maize_leaf_data_testing/Healthy/healthy (394).jpg  \n",
            "  inflating: maize_leaf_data_testing/Healthy/healthy (395).jpg  \n",
            "  inflating: maize_leaf_data_testing/Healthy/healthy (396).jpg  \n",
            "  inflating: maize_leaf_data_testing/Healthy/healthy (397).jpg  \n",
            "  inflating: maize_leaf_data_testing/Healthy/healthy (398).jpg  \n",
            "  inflating: maize_leaf_data_testing/Healthy/healthy (399).jpg  \n",
            "  inflating: maize_leaf_data_testing/Healthy/healthy (400).jpg  \n",
            "  inflating: maize_leaf_data_testing/Healthy/healthy (401).jpg  \n",
            "  inflating: maize_leaf_data_testing/Healthy/healthy (402).jpg  \n",
            "  inflating: maize_leaf_data_testing/Healthy/healthy (403).jpg  \n",
            "  inflating: maize_leaf_data_testing/Healthy/healthy (404).jpg  \n",
            "  inflating: maize_leaf_data_testing/Healthy/healthy (405).jpg  \n",
            "  inflating: maize_leaf_data_testing/Healthy/healthy (406).jpg  \n",
            "  inflating: maize_leaf_data_testing/Healthy/healthy (407).jpg  \n",
            "  inflating: maize_leaf_data_testing/Healthy/healthy (408).JPG  \n",
            "  inflating: maize_leaf_data_testing/Healthy/healthy (409).jpg  \n",
            "  inflating: maize_leaf_data_testing/Healthy/healthy (410).JPG  \n",
            "  inflating: maize_leaf_data_testing/Healthy/healthy (411).jpg  \n",
            "  inflating: maize_leaf_data_testing/Healthy/healthy (412).jpg  \n",
            "  inflating: maize_leaf_data_testing/Healthy/healthy (413).jpg  \n",
            "  inflating: maize_leaf_data_testing/Healthy/healthy (414).jpg  \n",
            "  inflating: maize_leaf_data_testing/Healthy/healthy (415).jpg  \n",
            "  inflating: maize_leaf_data_testing/Healthy/healthy (416).jpg  \n",
            "  inflating: maize_leaf_data_testing/Healthy/healthy (417).jpg  \n",
            "  inflating: maize_leaf_data_testing/Healthy/healthy (418).jpg  \n",
            "  inflating: maize_leaf_data_testing/Healthy/healthy (419).jpg  \n",
            "  inflating: maize_leaf_data_testing/Healthy/healthy (420).jpg  \n",
            "  inflating: maize_leaf_data_testing/Healthy/healthy (421).jpg  \n",
            "  inflating: maize_leaf_data_testing/Healthy/healthy (422).jpg  \n",
            "  inflating: maize_leaf_data_testing/Healthy/healthy (423).jpg  \n",
            "  inflating: maize_leaf_data_testing/Healthy/healthy (424).jpg  \n",
            "  inflating: maize_leaf_data_testing/Healthy/healthy (425).jpg  \n",
            "  inflating: maize_leaf_data_testing/Healthy/healthy (426).jpg  \n",
            "  inflating: maize_leaf_data_testing/Healthy/healthy (427).jpg  \n",
            "  inflating: maize_leaf_data_testing/Healthy/healthy (428).jpg  \n",
            "  inflating: maize_leaf_data_testing/Healthy/healthy (429).jpg  \n",
            "  inflating: maize_leaf_data_testing/Healthy/healthy (430).jpg  \n",
            "  inflating: maize_leaf_data_testing/Healthy/healthy (431).jpg  \n",
            "  inflating: maize_leaf_data_testing/Healthy/healthy (432).jpg  \n",
            "  inflating: maize_leaf_data_testing/Healthy/healthy (433).jpg  \n",
            "  inflating: maize_leaf_data_testing/Healthy/healthy (434).jpg  \n",
            "  inflating: maize_leaf_data_testing/Healthy/healthy (435).jpg  \n",
            "  inflating: maize_leaf_data_testing/Healthy/healthy (436).jpg  \n",
            "  inflating: maize_leaf_data_testing/Healthy/healthy (437).jpg  \n",
            "  inflating: maize_leaf_data_testing/Healthy/healthy (438).jpg  \n",
            "  inflating: maize_leaf_data_testing/Healthy/healthy (439).jpg  \n",
            "  inflating: maize_leaf_data_testing/Healthy/healthy (440).jpg  \n",
            "  inflating: maize_leaf_data_testing/Healthy/healthy (441).jpg  \n",
            "  inflating: maize_leaf_data_testing/Healthy/healthy (442).jpg  \n",
            "  inflating: maize_leaf_data_testing/Healthy/healthy (443).jpg  \n",
            "  inflating: maize_leaf_data_testing/Healthy/healthy (444).jpg  \n",
            "  inflating: maize_leaf_data_testing/Healthy/healthy (445).jpg  \n",
            "  inflating: maize_leaf_data_testing/Healthy/healthy (446).jpg  \n",
            "  inflating: maize_leaf_data_testing/Healthy/healthy (447).jpg  \n",
            "  inflating: maize_leaf_data_testing/Healthy/healthy (448).jpg  \n",
            "  inflating: maize_leaf_data_testing/Healthy/healthy (449).jpg  \n",
            "  inflating: maize_leaf_data_testing/Healthy/healthy (450).jpg  \n",
            "  inflating: maize_leaf_data_testing/Healthy/healthy (451).jpg  \n",
            "  inflating: maize_leaf_data_testing/Healthy/healthy (452).jpg  \n",
            "  inflating: maize_leaf_data_testing/Healthy/healthy (453).jpg  \n",
            "  inflating: maize_leaf_data_testing/Healthy/healthy (454).jpg  \n",
            "  inflating: maize_leaf_data_testing/Healthy/healthy (455).jpg  \n",
            "  inflating: maize_leaf_data_testing/Healthy/healthy (456).jpg  \n",
            "  inflating: maize_leaf_data_testing/Healthy/healthy (457).jpg  \n",
            "  inflating: maize_leaf_data_testing/Healthy/healthy (458).jpg  \n",
            "  inflating: maize_leaf_data_testing/Healthy/healthy (459).jpg  \n",
            "  inflating: maize_leaf_data_testing/Healthy/healthy (460).jpg  \n",
            "  inflating: maize_leaf_data_testing/Healthy/healthy (461).jpg  \n",
            "  inflating: maize_leaf_data_testing/Healthy/healthy (462).jpg  \n",
            "  inflating: maize_leaf_data_testing/Healthy/healthy (463).jpg  \n",
            "  inflating: maize_leaf_data_testing/Healthy/healthy (464).jpg  \n",
            "  inflating: maize_leaf_data_testing/Healthy/healthy (465).jpg  \n",
            "  inflating: maize_leaf_data_testing/Healthy/healthy (466).jpg  \n",
            "  inflating: maize_leaf_data_testing/Healthy/healthy (467).jpg  \n",
            "  inflating: maize_leaf_data_testing/Healthy/healthy (468).jpg  \n",
            "  inflating: maize_leaf_data_testing/Healthy/healthy (469).jpg  \n",
            "  inflating: maize_leaf_data_testing/Healthy/healthy (470).jpg  \n",
            "  inflating: maize_leaf_data_testing/Healthy/healthy (471).jpg  \n",
            "  inflating: maize_leaf_data_testing/Healthy/healthy (472).jpg  \n",
            "  inflating: maize_leaf_data_testing/Healthy/healthy (473).jpg  \n",
            "  inflating: maize_leaf_data_testing/Healthy/healthy (474).jpg  \n",
            "  inflating: maize_leaf_data_testing/Healthy/healthy (475).jpg  \n",
            "  inflating: maize_leaf_data_testing/Healthy/healthy (476).jpg  \n",
            "  inflating: maize_leaf_data_testing/Healthy/healthy (477).jpg  \n",
            "  inflating: maize_leaf_data_testing/Healthy/healthy (478).jpg  \n",
            "  inflating: maize_leaf_data_testing/Healthy/healthy (479).jpg  \n",
            "  inflating: maize_leaf_data_testing/Healthy/healthy (480).jpg  \n",
            "  inflating: maize_leaf_data_testing/Healthy/healthy (481).jpg  \n",
            "  inflating: maize_leaf_data_testing/Healthy/healthy (482).jpg  \n",
            "  inflating: maize_leaf_data_testing/Healthy/healthy (483).jpg  \n",
            "  inflating: maize_leaf_data_testing/Healthy/healthy (484).jpg  \n",
            "  inflating: maize_leaf_data_testing/Healthy/healthy (485).jpg  \n",
            "  inflating: maize_leaf_data_testing/Healthy/healthy (486).jpg  \n",
            "  inflating: maize_leaf_data_testing/Healthy/healthy (487).jpg  \n",
            "  inflating: maize_leaf_data_testing/Healthy/healthy (488).jpg  \n",
            "  inflating: maize_leaf_data_testing/Healthy/healthy (489).jpg  \n",
            "  inflating: maize_leaf_data_testing/Healthy/healthy (490).jpg  \n",
            "  inflating: maize_leaf_data_testing/Healthy/healthy (491).jpg  \n",
            "  inflating: maize_leaf_data_testing/Healthy/healthy (492).jpg  \n",
            "  inflating: maize_leaf_data_testing/Healthy/healthy (493).jpg  \n",
            "  inflating: maize_leaf_data_testing/Healthy/healthy (494).jpg  \n",
            "  inflating: maize_leaf_data_testing/Healthy/healthy (495).jpg  \n",
            "  inflating: maize_leaf_data_testing/Healthy/healthy (496).jpg  \n",
            "  inflating: maize_leaf_data_testing/Healthy/healthy (497).jpg  \n",
            "  inflating: maize_leaf_data_testing/Healthy/healthy (498).jpg  \n",
            "  inflating: maize_leaf_data_testing/Healthy/healthy (499).jpg  \n",
            "  inflating: maize_leaf_data_testing/Healthy/healthy (500).jpg  \n",
            "  inflating: maize_leaf_data_testing/Healthy/healthy (501).jpg  \n",
            "  inflating: maize_leaf_data_testing/Healthy/healthy (502).jpg  \n",
            "  inflating: maize_leaf_data_testing/Healthy/healthy (503).jpg  \n",
            "  inflating: maize_leaf_data_testing/Healthy/healthy (504).jpg  \n",
            "  inflating: maize_leaf_data_testing/Healthy/healthy (505).jpg  \n",
            "  inflating: maize_leaf_data_testing/Healthy/healthy (506).jpg  \n",
            "  inflating: maize_leaf_data_testing/Healthy/healthy (507).jpg  \n",
            "  inflating: maize_leaf_data_testing/Healthy/healthy (508).jpg  \n",
            "  inflating: maize_leaf_data_testing/Healthy/healthy (509).jpg  \n",
            "  inflating: maize_leaf_data_testing/Healthy/healthy (510).jpg  \n",
            "  inflating: maize_leaf_data_testing/Healthy/healthy (511).jpg  \n",
            "  inflating: maize_leaf_data_testing/Healthy/healthy (512).jpg  \n",
            "  inflating: maize_leaf_data_testing/Healthy/healthy (513).jpg  \n",
            "  inflating: maize_leaf_data_testing/Healthy/healthy (514).jpg  \n",
            "  inflating: maize_leaf_data_testing/Healthy/healthy (515).jpg  \n",
            "  inflating: maize_leaf_data_testing/Healthy/healthy (516).jpg  \n",
            "  inflating: maize_leaf_data_testing/Healthy/healthy (517).jpg  \n",
            "  inflating: maize_leaf_data_testing/Healthy/healthy (518).jpg  \n",
            "  inflating: maize_leaf_data_testing/Healthy/healthy (519).jpg  \n",
            "  inflating: maize_leaf_data_testing/Healthy/healthy (520).jpg  \n",
            "  inflating: maize_leaf_data_testing/Healthy/healthy (521).jpg  \n",
            "  inflating: maize_leaf_data_testing/Healthy/healthy (522).jpg  \n",
            "  inflating: maize_leaf_data_testing/Healthy/healthy (523).jpg  \n",
            "  inflating: maize_leaf_data_testing/Healthy/healthy (524).jpg  \n",
            "  inflating: maize_leaf_data_testing/Healthy/healthy (525).jpg  \n",
            "  inflating: maize_leaf_data_testing/Healthy/healthy (526).jpg  \n",
            "  inflating: maize_leaf_data_testing/Healthy/healthy (527).jpg  \n",
            "  inflating: maize_leaf_data_testing/Healthy/healthy (528).jpg  \n",
            "  inflating: maize_leaf_data_testing/Healthy/healthy (529).jpg  \n",
            "  inflating: maize_leaf_data_testing/Healthy/healthy (530).jpg  \n",
            "  inflating: maize_leaf_data_testing/Healthy/healthy (531).jpg  \n",
            "  inflating: maize_leaf_data_testing/Healthy/healthy (532).jpg  \n",
            "  inflating: maize_leaf_data_testing/Healthy/healthy (533).jpg  \n",
            "  inflating: maize_leaf_data_testing/Healthy/healthy (534).jpg  \n",
            "  inflating: maize_leaf_data_testing/Healthy/healthy (535).jpg  \n",
            "  inflating: maize_leaf_data_testing/Healthy/healthy (536).jpg  \n",
            "  inflating: maize_leaf_data_testing/Healthy/healthy (537).jpg  \n",
            "  inflating: maize_leaf_data_testing/Healthy/healthy (538).jpg  \n",
            "  inflating: maize_leaf_data_testing/Healthy/healthy (539).jpg  \n",
            "  inflating: maize_leaf_data_testing/Healthy/healthy (540).jpg  \n",
            "  inflating: maize_leaf_data_testing/Healthy/healthy (541).jpg  \n",
            "  inflating: maize_leaf_data_testing/Healthy/healthy (542).jpg  \n",
            "  inflating: maize_leaf_data_testing/Healthy/healthy (543).jpg  \n",
            "  inflating: maize_leaf_data_testing/Healthy/healthy (544).jpg  \n",
            "  inflating: maize_leaf_data_testing/Healthy/healthy (545).jpg  \n",
            "  inflating: maize_leaf_data_testing/Healthy/healthy (546).jpg  \n",
            "  inflating: maize_leaf_data_testing/Healthy/healthy (547).jpg  \n",
            "  inflating: maize_leaf_data_testing/Healthy/healthy (548).jpg  \n",
            "  inflating: maize_leaf_data_testing/Healthy/healthy (549).jpg  \n",
            "  inflating: maize_leaf_data_testing/Healthy/healthy (550).jpg  \n",
            "  inflating: maize_leaf_data_testing/Healthy/healthy (551).jpg  \n",
            "  inflating: maize_leaf_data_testing/Healthy/healthy (552).jpg  \n",
            "  inflating: maize_leaf_data_testing/Healthy/healthy (553).jpg  \n",
            "  inflating: maize_leaf_data_testing/Healthy/healthy (554).jpg  \n",
            "  inflating: maize_leaf_data_testing/Healthy/healthy (555).jpg  \n",
            "  inflating: maize_leaf_data_testing/Healthy/healthy (556).jpg  \n",
            "  inflating: maize_leaf_data_testing/Healthy/healthy (557).jpg  \n",
            "  inflating: maize_leaf_data_testing/Healthy/healthy (558).jpg  \n",
            "  inflating: maize_leaf_data_testing/Healthy/healthy (559).jpg  \n",
            "  inflating: maize_leaf_data_testing/Healthy/healthy (560).jpg  \n",
            "  inflating: maize_leaf_data_testing/Healthy/healthy (561).jpg  \n",
            "  inflating: maize_leaf_data_testing/Healthy/healthy (562).jpg  \n",
            "  inflating: maize_leaf_data_testing/Healthy/healthy (563).jpg  \n",
            "  inflating: maize_leaf_data_testing/Healthy/healthy (564).jpg  \n",
            "  inflating: maize_leaf_data_testing/Healthy/healthy (565).jpg  \n",
            "  inflating: maize_leaf_data_testing/Healthy/healthy (566).jpg  \n",
            "  inflating: maize_leaf_data_testing/Healthy/healthy (567).jpg  \n",
            "  inflating: maize_leaf_data_testing/Healthy/healthy (568).jpg  \n"
          ]
        }
      ],
      "source": [
        "# Step 1: Download the dataset from Kaggle\n",
        "!pip install -q kaggle\n",
        "\n",
        "# Step 2: Set up Kaggle API Key (upload kaggle.json here in Colab for access)\n",
        "from google.colab import files\n",
        "files.upload()  # Upload kaggle.json file\n",
        "\n",
        "# Move kaggle.json to the correct directory\n",
        "!mkdir -p ~/.kaggle\n",
        "!mv kaggle.json ~/.kaggle/\n",
        "!chmod 600 ~/.kaggle/kaggle.json\n",
        "\n",
        "# Download and unzip the dataset\n",
        "!kaggle datasets download -d smaranjitghose/corn-or-maize-leaf-disease-dataset\n",
        "!unzip corn-or-maize-leaf-disease-dataset.zip -d maize_leaf_data\n",
        "\n",
        "# Download and unzip the dataset\n",
        "!kaggle datasets download -d carlangelopamplona/corn-leaf-private-testing-v3\n",
        "!unzip corn-leaf-private-testing-v3.zip -d maize_leaf_data_testing"
      ]
    },
    {
      "cell_type": "code",
      "execution_count": null,
      "metadata": {
        "colab": {
          "base_uri": "https://localhost:8080/",
          "height": 701
        },
        "id": "RTUKhfKP2ou4",
        "outputId": "21fe9da0-6480-463a-bbc1-bb26c48f5900"
      },
      "outputs": [
        {
          "data": {
            "text/html": [
              "\n",
              "     <input type=\"file\" id=\"files-b71523d1-3e25-47aa-b66b-0632600a23d6\" name=\"files[]\" multiple disabled\n",
              "        style=\"border:none\" />\n",
              "     <output id=\"result-b71523d1-3e25-47aa-b66b-0632600a23d6\">\n",
              "      Upload widget is only available when the cell has been executed in the\n",
              "      current browser session. Please rerun this cell to enable.\n",
              "      </output>\n",
              "      <script>// Copyright 2017 Google LLC\n",
              "//\n",
              "// Licensed under the Apache License, Version 2.0 (the \"License\");\n",
              "// you may not use this file except in compliance with the License.\n",
              "// You may obtain a copy of the License at\n",
              "//\n",
              "//      http://www.apache.org/licenses/LICENSE-2.0\n",
              "//\n",
              "// Unless required by applicable law or agreed to in writing, software\n",
              "// distributed under the License is distributed on an \"AS IS\" BASIS,\n",
              "// WITHOUT WARRANTIES OR CONDITIONS OF ANY KIND, either express or implied.\n",
              "// See the License for the specific language governing permissions and\n",
              "// limitations under the License.\n",
              "\n",
              "/**\n",
              " * @fileoverview Helpers for google.colab Python module.\n",
              " */\n",
              "(function(scope) {\n",
              "function span(text, styleAttributes = {}) {\n",
              "  const element = document.createElement('span');\n",
              "  element.textContent = text;\n",
              "  for (const key of Object.keys(styleAttributes)) {\n",
              "    element.style[key] = styleAttributes[key];\n",
              "  }\n",
              "  return element;\n",
              "}\n",
              "\n",
              "// Max number of bytes which will be uploaded at a time.\n",
              "const MAX_PAYLOAD_SIZE = 100 * 1024;\n",
              "\n",
              "function _uploadFiles(inputId, outputId) {\n",
              "  const steps = uploadFilesStep(inputId, outputId);\n",
              "  const outputElement = document.getElementById(outputId);\n",
              "  // Cache steps on the outputElement to make it available for the next call\n",
              "  // to uploadFilesContinue from Python.\n",
              "  outputElement.steps = steps;\n",
              "\n",
              "  return _uploadFilesContinue(outputId);\n",
              "}\n",
              "\n",
              "// This is roughly an async generator (not supported in the browser yet),\n",
              "// where there are multiple asynchronous steps and the Python side is going\n",
              "// to poll for completion of each step.\n",
              "// This uses a Promise to block the python side on completion of each step,\n",
              "// then passes the result of the previous step as the input to the next step.\n",
              "function _uploadFilesContinue(outputId) {\n",
              "  const outputElement = document.getElementById(outputId);\n",
              "  const steps = outputElement.steps;\n",
              "\n",
              "  const next = steps.next(outputElement.lastPromiseValue);\n",
              "  return Promise.resolve(next.value.promise).then((value) => {\n",
              "    // Cache the last promise value to make it available to the next\n",
              "    // step of the generator.\n",
              "    outputElement.lastPromiseValue = value;\n",
              "    return next.value.response;\n",
              "  });\n",
              "}\n",
              "\n",
              "/**\n",
              " * Generator function which is called between each async step of the upload\n",
              " * process.\n",
              " * @param {string} inputId Element ID of the input file picker element.\n",
              " * @param {string} outputId Element ID of the output display.\n",
              " * @return {!Iterable<!Object>} Iterable of next steps.\n",
              " */\n",
              "function* uploadFilesStep(inputId, outputId) {\n",
              "  const inputElement = document.getElementById(inputId);\n",
              "  inputElement.disabled = false;\n",
              "\n",
              "  const outputElement = document.getElementById(outputId);\n",
              "  outputElement.innerHTML = '';\n",
              "\n",
              "  const pickedPromise = new Promise((resolve) => {\n",
              "    inputElement.addEventListener('change', (e) => {\n",
              "      resolve(e.target.files);\n",
              "    });\n",
              "  });\n",
              "\n",
              "  const cancel = document.createElement('button');\n",
              "  inputElement.parentElement.appendChild(cancel);\n",
              "  cancel.textContent = 'Cancel upload';\n",
              "  const cancelPromise = new Promise((resolve) => {\n",
              "    cancel.onclick = () => {\n",
              "      resolve(null);\n",
              "    };\n",
              "  });\n",
              "\n",
              "  // Wait for the user to pick the files.\n",
              "  const files = yield {\n",
              "    promise: Promise.race([pickedPromise, cancelPromise]),\n",
              "    response: {\n",
              "      action: 'starting',\n",
              "    }\n",
              "  };\n",
              "\n",
              "  cancel.remove();\n",
              "\n",
              "  // Disable the input element since further picks are not allowed.\n",
              "  inputElement.disabled = true;\n",
              "\n",
              "  if (!files) {\n",
              "    return {\n",
              "      response: {\n",
              "        action: 'complete',\n",
              "      }\n",
              "    };\n",
              "  }\n",
              "\n",
              "  for (const file of files) {\n",
              "    const li = document.createElement('li');\n",
              "    li.append(span(file.name, {fontWeight: 'bold'}));\n",
              "    li.append(span(\n",
              "        `(${file.type || 'n/a'}) - ${file.size} bytes, ` +\n",
              "        `last modified: ${\n",
              "            file.lastModifiedDate ? file.lastModifiedDate.toLocaleDateString() :\n",
              "                                    'n/a'} - `));\n",
              "    const percent = span('0% done');\n",
              "    li.appendChild(percent);\n",
              "\n",
              "    outputElement.appendChild(li);\n",
              "\n",
              "    const fileDataPromise = new Promise((resolve) => {\n",
              "      const reader = new FileReader();\n",
              "      reader.onload = (e) => {\n",
              "        resolve(e.target.result);\n",
              "      };\n",
              "      reader.readAsArrayBuffer(file);\n",
              "    });\n",
              "    // Wait for the data to be ready.\n",
              "    let fileData = yield {\n",
              "      promise: fileDataPromise,\n",
              "      response: {\n",
              "        action: 'continue',\n",
              "      }\n",
              "    };\n",
              "\n",
              "    // Use a chunked sending to avoid message size limits. See b/62115660.\n",
              "    let position = 0;\n",
              "    do {\n",
              "      const length = Math.min(fileData.byteLength - position, MAX_PAYLOAD_SIZE);\n",
              "      const chunk = new Uint8Array(fileData, position, length);\n",
              "      position += length;\n",
              "\n",
              "      const base64 = btoa(String.fromCharCode.apply(null, chunk));\n",
              "      yield {\n",
              "        response: {\n",
              "          action: 'append',\n",
              "          file: file.name,\n",
              "          data: base64,\n",
              "        },\n",
              "      };\n",
              "\n",
              "      let percentDone = fileData.byteLength === 0 ?\n",
              "          100 :\n",
              "          Math.round((position / fileData.byteLength) * 100);\n",
              "      percent.textContent = `${percentDone}% done`;\n",
              "\n",
              "    } while (position < fileData.byteLength);\n",
              "  }\n",
              "\n",
              "  // All done.\n",
              "  yield {\n",
              "    response: {\n",
              "      action: 'complete',\n",
              "    }\n",
              "  };\n",
              "}\n",
              "\n",
              "scope.google = scope.google || {};\n",
              "scope.google.colab = scope.google.colab || {};\n",
              "scope.google.colab._files = {\n",
              "  _uploadFiles,\n",
              "  _uploadFilesContinue,\n",
              "};\n",
              "})(self);\n",
              "</script> "
            ],
            "text/plain": [
              "<IPython.core.display.HTML object>"
            ]
          },
          "metadata": {},
          "output_type": "display_data"
        },
        {
          "name": "stdout",
          "output_type": "stream",
          "text": [
            "Saving kaggle.json to kaggle.json\n",
            "Dataset URL: https://www.kaggle.com/datasets/smaranjitghose/corn-or-maize-leaf-disease-dataset\n",
            "License(s): copyright-authors\n",
            "corn-or-maize-leaf-disease-dataset.zip: Skipping, found more recently modified local copy (use --force to force download)\n",
            "replace maize_leaf_data/data/Blight/Corn_Blight (1).jpeg? [y]es, [n]o, [A]ll, [N]one, [r]ename: y\n",
            "replace maize_leaf_data/data/Blight/Corn_Blight (1).jpg? [y]es, [n]o, [A]ll, [N]one, [r]ename: a\n",
            "error:  invalid response [a]\n",
            "replace maize_leaf_data/data/Blight/Corn_Blight (1).jpg? [y]es, [n]o, [A]ll, [N]one, [r]ename: a\n",
            "error:  invalid response [a]\n",
            "replace maize_leaf_data/data/Blight/Corn_Blight (1).jpg? [y]es, [n]o, [A]ll, [N]one, [r]ename: A\n",
            "Dataset URL: https://www.kaggle.com/datasets/carlangelopamplona/corn-leaf-private-testing-v3\n",
            "License(s): unknown\n",
            "corn-leaf-private-testing-v3.zip: Skipping, found more recently modified local copy (use --force to force download)\n",
            "replace maize_leaf_data_testing/Blight/Corn_Blight (100).jpg? [y]es, [n]o, [A]ll, [N]one, [r]ename: N\n",
            "📁 Please upload your 'train.zip' file (zipped local folder)...\n"
          ]
        },
        {
          "data": {
            "text/html": [
              "\n",
              "     <input type=\"file\" id=\"files-f825b803-0c4d-4b89-9560-5469a26fdecd\" name=\"files[]\" multiple disabled\n",
              "        style=\"border:none\" />\n",
              "     <output id=\"result-f825b803-0c4d-4b89-9560-5469a26fdecd\">\n",
              "      Upload widget is only available when the cell has been executed in the\n",
              "      current browser session. Please rerun this cell to enable.\n",
              "      </output>\n",
              "      <script>// Copyright 2017 Google LLC\n",
              "//\n",
              "// Licensed under the Apache License, Version 2.0 (the \"License\");\n",
              "// you may not use this file except in compliance with the License.\n",
              "// You may obtain a copy of the License at\n",
              "//\n",
              "//      http://www.apache.org/licenses/LICENSE-2.0\n",
              "//\n",
              "// Unless required by applicable law or agreed to in writing, software\n",
              "// distributed under the License is distributed on an \"AS IS\" BASIS,\n",
              "// WITHOUT WARRANTIES OR CONDITIONS OF ANY KIND, either express or implied.\n",
              "// See the License for the specific language governing permissions and\n",
              "// limitations under the License.\n",
              "\n",
              "/**\n",
              " * @fileoverview Helpers for google.colab Python module.\n",
              " */\n",
              "(function(scope) {\n",
              "function span(text, styleAttributes = {}) {\n",
              "  const element = document.createElement('span');\n",
              "  element.textContent = text;\n",
              "  for (const key of Object.keys(styleAttributes)) {\n",
              "    element.style[key] = styleAttributes[key];\n",
              "  }\n",
              "  return element;\n",
              "}\n",
              "\n",
              "// Max number of bytes which will be uploaded at a time.\n",
              "const MAX_PAYLOAD_SIZE = 100 * 1024;\n",
              "\n",
              "function _uploadFiles(inputId, outputId) {\n",
              "  const steps = uploadFilesStep(inputId, outputId);\n",
              "  const outputElement = document.getElementById(outputId);\n",
              "  // Cache steps on the outputElement to make it available for the next call\n",
              "  // to uploadFilesContinue from Python.\n",
              "  outputElement.steps = steps;\n",
              "\n",
              "  return _uploadFilesContinue(outputId);\n",
              "}\n",
              "\n",
              "// This is roughly an async generator (not supported in the browser yet),\n",
              "// where there are multiple asynchronous steps and the Python side is going\n",
              "// to poll for completion of each step.\n",
              "// This uses a Promise to block the python side on completion of each step,\n",
              "// then passes the result of the previous step as the input to the next step.\n",
              "function _uploadFilesContinue(outputId) {\n",
              "  const outputElement = document.getElementById(outputId);\n",
              "  const steps = outputElement.steps;\n",
              "\n",
              "  const next = steps.next(outputElement.lastPromiseValue);\n",
              "  return Promise.resolve(next.value.promise).then((value) => {\n",
              "    // Cache the last promise value to make it available to the next\n",
              "    // step of the generator.\n",
              "    outputElement.lastPromiseValue = value;\n",
              "    return next.value.response;\n",
              "  });\n",
              "}\n",
              "\n",
              "/**\n",
              " * Generator function which is called between each async step of the upload\n",
              " * process.\n",
              " * @param {string} inputId Element ID of the input file picker element.\n",
              " * @param {string} outputId Element ID of the output display.\n",
              " * @return {!Iterable<!Object>} Iterable of next steps.\n",
              " */\n",
              "function* uploadFilesStep(inputId, outputId) {\n",
              "  const inputElement = document.getElementById(inputId);\n",
              "  inputElement.disabled = false;\n",
              "\n",
              "  const outputElement = document.getElementById(outputId);\n",
              "  outputElement.innerHTML = '';\n",
              "\n",
              "  const pickedPromise = new Promise((resolve) => {\n",
              "    inputElement.addEventListener('change', (e) => {\n",
              "      resolve(e.target.files);\n",
              "    });\n",
              "  });\n",
              "\n",
              "  const cancel = document.createElement('button');\n",
              "  inputElement.parentElement.appendChild(cancel);\n",
              "  cancel.textContent = 'Cancel upload';\n",
              "  const cancelPromise = new Promise((resolve) => {\n",
              "    cancel.onclick = () => {\n",
              "      resolve(null);\n",
              "    };\n",
              "  });\n",
              "\n",
              "  // Wait for the user to pick the files.\n",
              "  const files = yield {\n",
              "    promise: Promise.race([pickedPromise, cancelPromise]),\n",
              "    response: {\n",
              "      action: 'starting',\n",
              "    }\n",
              "  };\n",
              "\n",
              "  cancel.remove();\n",
              "\n",
              "  // Disable the input element since further picks are not allowed.\n",
              "  inputElement.disabled = true;\n",
              "\n",
              "  if (!files) {\n",
              "    return {\n",
              "      response: {\n",
              "        action: 'complete',\n",
              "      }\n",
              "    };\n",
              "  }\n",
              "\n",
              "  for (const file of files) {\n",
              "    const li = document.createElement('li');\n",
              "    li.append(span(file.name, {fontWeight: 'bold'}));\n",
              "    li.append(span(\n",
              "        `(${file.type || 'n/a'}) - ${file.size} bytes, ` +\n",
              "        `last modified: ${\n",
              "            file.lastModifiedDate ? file.lastModifiedDate.toLocaleDateString() :\n",
              "                                    'n/a'} - `));\n",
              "    const percent = span('0% done');\n",
              "    li.appendChild(percent);\n",
              "\n",
              "    outputElement.appendChild(li);\n",
              "\n",
              "    const fileDataPromise = new Promise((resolve) => {\n",
              "      const reader = new FileReader();\n",
              "      reader.onload = (e) => {\n",
              "        resolve(e.target.result);\n",
              "      };\n",
              "      reader.readAsArrayBuffer(file);\n",
              "    });\n",
              "    // Wait for the data to be ready.\n",
              "    let fileData = yield {\n",
              "      promise: fileDataPromise,\n",
              "      response: {\n",
              "        action: 'continue',\n",
              "      }\n",
              "    };\n",
              "\n",
              "    // Use a chunked sending to avoid message size limits. See b/62115660.\n",
              "    let position = 0;\n",
              "    do {\n",
              "      const length = Math.min(fileData.byteLength - position, MAX_PAYLOAD_SIZE);\n",
              "      const chunk = new Uint8Array(fileData, position, length);\n",
              "      position += length;\n",
              "\n",
              "      const base64 = btoa(String.fromCharCode.apply(null, chunk));\n",
              "      yield {\n",
              "        response: {\n",
              "          action: 'append',\n",
              "          file: file.name,\n",
              "          data: base64,\n",
              "        },\n",
              "      };\n",
              "\n",
              "      let percentDone = fileData.byteLength === 0 ?\n",
              "          100 :\n",
              "          Math.round((position / fileData.byteLength) * 100);\n",
              "      percent.textContent = `${percentDone}% done`;\n",
              "\n",
              "    } while (position < fileData.byteLength);\n",
              "  }\n",
              "\n",
              "  // All done.\n",
              "  yield {\n",
              "    response: {\n",
              "      action: 'complete',\n",
              "    }\n",
              "  };\n",
              "}\n",
              "\n",
              "scope.google = scope.google || {};\n",
              "scope.google.colab = scope.google.colab || {};\n",
              "scope.google.colab._files = {\n",
              "  _uploadFiles,\n",
              "  _uploadFilesContinue,\n",
              "};\n",
              "})(self);\n",
              "</script> "
            ],
            "text/plain": [
              "<IPython.core.display.HTML object>"
            ]
          },
          "metadata": {},
          "output_type": "display_data"
        },
        {
          "name": "stdout",
          "output_type": "stream",
          "text": [
            "Saving train.rar to train.rar\n"
          ]
        },
        {
          "ename": "FileNotFoundError",
          "evalue": "[Errno 2] No such file or directory: 'train.zip'",
          "output_type": "error",
          "traceback": [
            "\u001b[0;31m---------------------------------------------------------------------------\u001b[0m",
            "\u001b[0;31mFileNotFoundError\u001b[0m                         Traceback (most recent call last)",
            "\u001b[0;32m<ipython-input-4-cf554af98c28>\u001b[0m in \u001b[0;36m<cell line: 0>\u001b[0;34m()\u001b[0m\n\u001b[1;32m     27\u001b[0m \u001b[0;34m\u001b[0m\u001b[0m\n\u001b[1;32m     28\u001b[0m \u001b[0mlocal_zip\u001b[0m \u001b[0;34m=\u001b[0m \u001b[0;34m'train.zip'\u001b[0m  \u001b[0;31m# Ensure this matches your uploaded filename\u001b[0m\u001b[0;34m\u001b[0m\u001b[0;34m\u001b[0m\u001b[0m\n\u001b[0;32m---> 29\u001b[0;31m \u001b[0;32mwith\u001b[0m \u001b[0mzipfile\u001b[0m\u001b[0;34m.\u001b[0m\u001b[0mZipFile\u001b[0m\u001b[0;34m(\u001b[0m\u001b[0mlocal_zip\u001b[0m\u001b[0;34m,\u001b[0m \u001b[0;34m'r'\u001b[0m\u001b[0;34m)\u001b[0m \u001b[0;32mas\u001b[0m \u001b[0mzip_ref\u001b[0m\u001b[0;34m:\u001b[0m\u001b[0;34m\u001b[0m\u001b[0;34m\u001b[0m\u001b[0m\n\u001b[0m\u001b[1;32m     30\u001b[0m     \u001b[0mzip_ref\u001b[0m\u001b[0;34m.\u001b[0m\u001b[0mextractall\u001b[0m\u001b[0;34m(\u001b[0m\u001b[0;34m'local_train_data'\u001b[0m\u001b[0;34m)\u001b[0m\u001b[0;34m\u001b[0m\u001b[0;34m\u001b[0m\u001b[0m\n\u001b[1;32m     31\u001b[0m \u001b[0;34m\u001b[0m\u001b[0m\n",
            "\u001b[0;32m/usr/lib/python3.11/zipfile.py\u001b[0m in \u001b[0;36m__init__\u001b[0;34m(self, file, mode, compression, allowZip64, compresslevel, strict_timestamps, metadata_encoding)\u001b[0m\n\u001b[1;32m   1293\u001b[0m             \u001b[0;32mwhile\u001b[0m \u001b[0;32mTrue\u001b[0m\u001b[0;34m:\u001b[0m\u001b[0;34m\u001b[0m\u001b[0;34m\u001b[0m\u001b[0m\n\u001b[1;32m   1294\u001b[0m                 \u001b[0;32mtry\u001b[0m\u001b[0;34m:\u001b[0m\u001b[0;34m\u001b[0m\u001b[0;34m\u001b[0m\u001b[0m\n\u001b[0;32m-> 1295\u001b[0;31m                     \u001b[0mself\u001b[0m\u001b[0;34m.\u001b[0m\u001b[0mfp\u001b[0m \u001b[0;34m=\u001b[0m \u001b[0mio\u001b[0m\u001b[0;34m.\u001b[0m\u001b[0mopen\u001b[0m\u001b[0;34m(\u001b[0m\u001b[0mfile\u001b[0m\u001b[0;34m,\u001b[0m \u001b[0mfilemode\u001b[0m\u001b[0;34m)\u001b[0m\u001b[0;34m\u001b[0m\u001b[0;34m\u001b[0m\u001b[0m\n\u001b[0m\u001b[1;32m   1296\u001b[0m                 \u001b[0;32mexcept\u001b[0m \u001b[0mOSError\u001b[0m\u001b[0;34m:\u001b[0m\u001b[0;34m\u001b[0m\u001b[0;34m\u001b[0m\u001b[0m\n\u001b[1;32m   1297\u001b[0m                     \u001b[0;32mif\u001b[0m \u001b[0mfilemode\u001b[0m \u001b[0;32min\u001b[0m \u001b[0mmodeDict\u001b[0m\u001b[0;34m:\u001b[0m\u001b[0;34m\u001b[0m\u001b[0;34m\u001b[0m\u001b[0m\n",
            "\u001b[0;31mFileNotFoundError\u001b[0m: [Errno 2] No such file or directory: 'train.zip'"
          ]
        }
      ],
      "source": [
        "# Step 1: Install Kaggle API\n",
        "!pip install -q kaggle\n",
        "\n",
        "# Step 2: Set up Kaggle API Key\n",
        "from google.colab import files\n",
        "files.upload()  # Upload kaggle.json file\n",
        "\n",
        "# Step 3: Move kaggle.json to the correct directory\n",
        "!mkdir -p ~/.kaggle\n",
        "!mv kaggle.json ~/.kaggle/\n",
        "!chmod 600 ~/.kaggle/kaggle.json\n",
        "\n",
        "# Step 4: Download and unzip datasets from Kaggle\n",
        "!kaggle datasets download -d smaranjitghose/corn-or-maize-leaf-disease-dataset\n",
        "!unzip -q corn-or-maize-leaf-disease-dataset.zip -d maize_leaf_data\n",
        "\n",
        "!kaggle datasets download -d carlangelopamplona/corn-leaf-private-testing-v3\n",
        "!unzip -q corn-leaf-private-testing-v3.zip -d maize_leaf_data_testing\n",
        "\n",
        "# Step 5: Upload your local zipped 'train' dataset from Desktop\n",
        "print(\"📁 Please upload your 'train.zip' file (zipped local folder)...\")\n",
        "uploaded = files.upload()  # Upload train.zip\n",
        "\n",
        "# Step 6: Unzip your uploaded dataset\n",
        "import zipfile\n",
        "import os\n",
        "\n",
        "local_zip = 'train.zip'  # Ensure this matches your uploaded filename\n",
        "with zipfile.ZipFile(local_zip, 'r') as zip_ref:\n",
        "    zip_ref.extractall('local_train_data')\n",
        "\n",
        "# Step 7: List contents of your uploaded training folder\n",
        "print(\"✅ Your local training data is ready!\")\n",
        "print(os.listdir('local_train_data'))\n"
      ]
    },
    {
      "cell_type": "code",
      "execution_count": null,
      "metadata": {
        "colab": {
          "base_uri": "https://localhost:8080/",
          "height": 211
        },
        "id": "6oC1rv1XnhBt",
        "outputId": "3d517c85-54e3-4f98-c046-d2031570b1e9"
      },
      "outputs": [
        {
          "ename": "FileNotFoundError",
          "evalue": "[Errno 2] No such file or directory: '/content/maize_leaf_data/data/config.yaml'",
          "output_type": "error",
          "traceback": [
            "\u001b[0;31m---------------------------------------------------------------------------\u001b[0m",
            "\u001b[0;31mFileNotFoundError\u001b[0m                         Traceback (most recent call last)",
            "\u001b[0;32m<ipython-input-39-4ca3a3d7bc96>\u001b[0m in \u001b[0;36m<cell line: 0>\u001b[0;34m()\u001b[0m\n\u001b[1;32m      9\u001b[0m \u001b[0;34m\u001b[0m\u001b[0m\n\u001b[1;32m     10\u001b[0m \u001b[0;31m# Load configuration from the YAML file\u001b[0m\u001b[0;34m\u001b[0m\u001b[0;34m\u001b[0m\u001b[0m\n\u001b[0;32m---> 11\u001b[0;31m \u001b[0;32mwith\u001b[0m \u001b[0mopen\u001b[0m\u001b[0;34m(\u001b[0m\u001b[0myaml_file_path\u001b[0m\u001b[0;34m,\u001b[0m \u001b[0;34m\"r\"\u001b[0m\u001b[0;34m)\u001b[0m \u001b[0;32mas\u001b[0m \u001b[0mfile\u001b[0m\u001b[0;34m:\u001b[0m\u001b[0;34m\u001b[0m\u001b[0;34m\u001b[0m\u001b[0m\n\u001b[0m\u001b[1;32m     12\u001b[0m     \u001b[0mconfig\u001b[0m \u001b[0;34m=\u001b[0m \u001b[0myaml\u001b[0m\u001b[0;34m.\u001b[0m\u001b[0msafe_load\u001b[0m\u001b[0;34m(\u001b[0m\u001b[0mfile\u001b[0m\u001b[0;34m)\u001b[0m\u001b[0;34m\u001b[0m\u001b[0;34m\u001b[0m\u001b[0m\n\u001b[1;32m     13\u001b[0m \u001b[0;34m\u001b[0m\u001b[0m\n",
            "\u001b[0;31mFileNotFoundError\u001b[0m: [Errno 2] No such file or directory: '/content/maize_leaf_data/data/config.yaml'"
          ]
        }
      ],
      "source": [
        "import os\n",
        "import shutil\n",
        "from concurrent.futures import ThreadPoolExecutor\n",
        "from sklearn.model_selection import train_test_split\n",
        "\n",
        "# Define paths\n",
        "data_folder = '/content/maize_leaf_data/data'  # Replace with actual path\n",
        "testing_folder_source = '/content/maize_leaf_data_testing'  # Replace with actual path\n",
        "\n",
        "# Define train, validation, and test folders\n",
        "base_dir = \"/content/data/working/custom\"\n",
        "train_folder = os.path.join(base_dir, \"train\")\n",
        "val_folder = os.path.join(base_dir, \"val\")\n",
        "test_folder = os.path.join(base_dir, \"test\")\n",
        "extra_test_folder = \"/content/data/working/test\"  # Duplicate test set\n",
        "\n",
        "# Ensure all folders exist\n",
        "for folder in [train_folder, val_folder, test_folder, extra_test_folder]:\n",
        "    os.makedirs(folder, exist_ok=True)\n",
        "\n",
        "# Function to copy files with error handling\n",
        "def copy_file(src, dest):\n",
        "    try:\n",
        "        shutil.copy2(src, dest)\n",
        "    except Exception as e:\n",
        "        print(f\"Error copying {src} → {dest}: {e}\")\n",
        "\n",
        "# Function to copy dataset\n",
        "def copy_dataset(src_folder, dest_folder):\n",
        "    for item in os.listdir(src_folder):\n",
        "        src_path = os.path.join(src_folder, item)\n",
        "        dest_path = os.path.join(dest_folder, item)\n",
        "        if os.path.isdir(src_path):\n",
        "            shutil.copytree(src_path, dest_path, dirs_exist_ok=True)\n",
        "        else:\n",
        "            copy_file(src_path, dest_path)\n",
        "\n",
        "# Copy validation dataset from testing source\n",
        "copy_dataset(testing_folder_source, val_folder)\n",
        "\n",
        "# Retrieve class folders\n",
        "if not os.path.exists(data_folder):\n",
        "    raise FileNotFoundError(f\"Data folder not found: {data_folder}\")\n",
        "\n",
        "subfolders = [f.path for f in os.scandir(data_folder) if f.is_dir()]\n",
        "\n",
        "for subfolder in subfolders:\n",
        "    class_name = os.path.basename(subfolder)\n",
        "    files = [f.path for f in os.scandir(subfolder) if f.is_file()]\n",
        "\n",
        "    # Limit to 570 samples per class\n",
        "    files = files[:570] if len(files) > 570 else files\n",
        "\n",
        "    # Train (80%), Validation (10%), Test (10%) Split\n",
        "    train_files, temp_files = train_test_split(files, test_size=0.2, random_state=42)\n",
        "    val_files, test_files = train_test_split(temp_files, test_size=0.5, random_state=42)\n",
        "\n",
        "    # Create class-specific subdirectories\n",
        "    for folder in [train_folder, val_folder, test_folder, extra_test_folder]:\n",
        "        os.makedirs(os.path.join(folder, class_name), exist_ok=True)\n",
        "\n",
        "    # Function to handle parallel file copying\n",
        "    def parallel_copy(file_list, destination):\n",
        "        dest_folder = os.path.join(destination, class_name)\n",
        "        with ThreadPoolExecutor() as executor:\n",
        "            executor.map(lambda f: copy_file(f, dest_folder), file_list)\n",
        "\n",
        "    # Copy files in parallel\n",
        "    parallel_copy(train_files, train_folder)\n",
        "    parallel_copy(val_files, val_folder)\n",
        "    parallel_copy(test_files, test_folder)\n",
        "    parallel_copy(test_files, extra_test_folder)  # Duplicate test set\n",
        "\n",
        "print(\"✅ Data successfully split into train (80%), validation (10%), and test (10%) sets with 570 samples per class.\")\n"
      ]
    },
    {
      "cell_type": "code",
      "execution_count": null,
      "metadata": {
        "colab": {
          "base_uri": "https://localhost:8080/"
        },
        "id": "Y9dQUvYbh3jj",
        "outputId": "3a0de5a4-46e3-477f-b134-0dccbf12c9b7"
      },
      "outputs": [
        {
          "name": "stdout",
          "output_type": "stream",
          "text": [
            "Config file updated successfully.\n",
            "Train folder exists at: /content/data/working/custom/train\n",
            "Validation folder exists at: /content/data/working/custom/val\n"
          ]
        }
      ],
      "source": [
        "import os\n",
        "import yaml\n",
        "\n",
        "# Define the path to your YAML file\n",
        "yaml_file_path = '/content/maize_leaf_data/data/config.yaml'\n",
        "\n",
        "# Define the correct paths for train and validation folders\n",
        "train_folder_path = \"/content/data/working/custom/train\"\n",
        "val_folder_path = \"/content/data/working/custom/val\"\n",
        "\n",
        "# Function to update config.yaml with train_folder and val_folder if missing\n",
        "def update_config_with_folders(yaml_file_path, train_folder_path, val_folder_path):\n",
        "    try:\n",
        "        # Load the configuration from YAML\n",
        "        with open(yaml_file_path, 'r') as file:\n",
        "            config = yaml.safe_load(file)\n",
        "\n",
        "        # Ensure 'data' section exists\n",
        "        if 'data' not in config:\n",
        "            config['data'] = {}\n",
        "\n",
        "        # Check if 'train_folder' and 'val_folder' are missing or empty\n",
        "        if 'train_folder' not in config['data'] or not config['data']['train_folder']:\n",
        "            config['data']['train_folder'] = train_folder_path\n",
        "            print(f\"Updated 'train_folder' in config.yaml: {train_folder_path}\")\n",
        "\n",
        "        if 'val_folder' not in config['data'] or not config['data']['val_folder']:\n",
        "            config['data']['val_folder'] = val_folder_path\n",
        "            print(f\"Updated 'val_folder' in config.yaml: {val_folder_path}\")\n",
        "\n",
        "        # Save the updated configuration back to the YAML file\n",
        "        with open(yaml_file_path, 'w') as file:\n",
        "            yaml.dump(config, file, default_flow_style=False)\n",
        "\n",
        "        print(\"Config file updated successfully.\")\n",
        "\n",
        "    except yaml.YAMLError as e:\n",
        "        print(f\"Error reading or writing YAML file: {e}\")\n",
        "    except Exception as e:\n",
        "        print(f\"Error: {e}\")\n",
        "\n",
        "# Function to create the directories if they don't exist\n",
        "def create_directories_if_missing(train_folder_path, val_folder_path):\n",
        "    # Check if the directories exist, if not, create them\n",
        "    if not os.path.exists(train_folder_path):\n",
        "        os.makedirs(train_folder_path)\n",
        "        print(f\"Created 'train' folder at: {train_folder_path}\")\n",
        "\n",
        "    if not os.path.exists(val_folder_path):\n",
        "        os.makedirs(val_folder_path)\n",
        "        print(f\"Created 'val' folder at: {val_folder_path}\")\n",
        "\n",
        "# Step 1: Update config.yaml with the correct paths if missing\n",
        "update_config_with_folders(yaml_file_path, train_folder_path, val_folder_path)\n",
        "\n",
        "# Step 2: Create the directories if they don't exist\n",
        "create_directories_if_missing(train_folder_path, val_folder_path)\n",
        "\n",
        "# Step 3: Verify the directories\n",
        "if os.path.exists(train_folder_path) and os.path.exists(val_folder_path):\n",
        "    print(f\"Train folder exists at: {train_folder_path}\")\n",
        "    print(f\"Validation folder exists at: {val_folder_path}\")\n",
        "else:\n",
        "    print(\"One or both folders are missing.\")\n"
      ]
    },
    {
      "cell_type": "code",
      "execution_count": null,
      "metadata": {
        "colab": {
          "base_uri": "https://localhost:8080/"
        },
        "id": "YkVilOhSfh__",
        "outputId": "bf3302c7-18fb-4fc8-d392-ce3d3036cd9c"
      },
      "outputs": [
        {
          "name": "stdout",
          "output_type": "stream",
          "text": [
            "/content/maize_leaf_data/data/config.yaml not found. Creating a new config.yaml file.\n",
            "/content/maize_leaf_data/data/config.yaml created successfully.\n"
          ]
        }
      ],
      "source": [
        "import os\n",
        "\n",
        "# Define the path to the YAML configuration file\n",
        "yaml_file_path = '/content/maize_leaf_data/data/config.yaml'\n",
        "\n",
        "# Check if the file exists\n",
        "if not os.path.exists(yaml_file_path):\n",
        "    print(f\"{yaml_file_path} not found. Creating a new config.yaml file.\")\n",
        "    config_content = \"\"\"\n",
        "data:\n",
        "  source_folder: '/content/maize_leaf_data/data'  # Path to the main dataset\n",
        "  testing_folder_source: '/content/maize_leaf_data_testing'  # Path to the testing data source\n",
        "  base_dir: '/content/data/working/custom'  # Base directory for storing processed data\n",
        "  extra_test_folder: '/content/data/working/test'  # Path for duplicate test set\n",
        "\n",
        "split:\n",
        "  max_samples_per_class: 570  # Limit the number of samples per class\n",
        "  train_ratio: 0.8  # 80% training data\n",
        "  val_ratio: 0.1  # 10% validation data\n",
        "  test_ratio: 0.1  # 10% test data\n",
        "\"\"\"\n",
        "\n",
        "    # Create the directories if they don't exist\n",
        "    os.makedirs(os.path.dirname(yaml_file_path), exist_ok=True)\n",
        "\n",
        "    # Write the sample config content to the file\n",
        "    with open(yaml_file_path, 'w') as file:\n",
        "        file.write(config_content)\n",
        "    print(f\"{yaml_file_path} created successfully.\")\n"
      ]
    },
    {
      "cell_type": "code",
      "execution_count": null,
      "metadata": {
        "colab": {
          "base_uri": "https://localhost:8080/"
        },
        "id": "yOA--I5Zfodx",
        "outputId": "3cf8baff-0985-41a8-8258-70859f148885"
      },
      "outputs": [
        {
          "name": "stdout",
          "output_type": "stream",
          "text": [
            "✅ Data successfully split into train (80%), validation (10%), and test (10%) sets with 570 samples per class.\n"
          ]
        }
      ],
      "source": [
        "import os\n",
        "import shutil\n",
        "import yaml\n",
        "from concurrent.futures import ThreadPoolExecutor\n",
        "from sklearn.model_selection import train_test_split\n",
        "\n",
        "# Define the path to the YAML configuration file in the data folder\n",
        "yaml_file_path = '/content/maize_leaf_data/data/config.yaml'\n",
        "\n",
        "# Load configuration from the YAML file\n",
        "with open(yaml_file_path, \"r\") as file:\n",
        "    config = yaml.safe_load(file)\n",
        "\n",
        "# Retrieve configuration settings\n",
        "data_folder = config['data']['source_folder']\n",
        "testing_folder_source = config['data']['testing_folder_source']\n",
        "base_dir = config['data']['base_dir']\n",
        "extra_test_folder = config['data']['extra_test_folder']\n",
        "\n",
        "# Define paths for train, validation, and test folders\n",
        "train_folder = os.path.join(base_dir, \"train\")\n",
        "val_folder = os.path.join(base_dir, \"val\")\n",
        "test_folder = os.path.join(base_dir, \"test\")\n",
        "\n",
        "# Ensure all folders exist\n",
        "for folder in [train_folder, val_folder, test_folder, extra_test_folder]:\n",
        "    os.makedirs(folder, exist_ok=True)\n",
        "\n",
        "# Function to copy files with error handling\n",
        "def copy_file(src, dest):\n",
        "    try:\n",
        "        shutil.copy2(src, dest)\n",
        "    except Exception as e:\n",
        "        print(f\"Error copying {src} → {dest}: {e}\")\n",
        "\n",
        "# Function to copy dataset\n",
        "def copy_dataset(src_folder, dest_folder):\n",
        "    for item in os.listdir(src_folder):\n",
        "        src_path = os.path.join(src_folder, item)\n",
        "        dest_path = os.path.join(dest_folder, item)\n",
        "        if os.path.isdir(src_path):\n",
        "            shutil.copytree(src_path, dest_path, dirs_exist_ok=True)\n",
        "        else:\n",
        "            copy_file(src_path, dest_path)\n",
        "\n",
        "# Copy validation dataset from testing source\n",
        "copy_dataset(testing_folder_source, val_folder)\n",
        "\n",
        "# Retrieve class folders\n",
        "if not os.path.exists(data_folder):\n",
        "    raise FileNotFoundError(f\"Data folder not found: {data_folder}\")\n",
        "\n",
        "subfolders = [f.path for f in os.scandir(data_folder) if f.is_dir()]\n",
        "\n",
        "for subfolder in subfolders:\n",
        "    class_name = os.path.basename(subfolder)\n",
        "    files = [f.path for f in os.scandir(subfolder) if f.is_file()]\n",
        "\n",
        "    # Limit to the max samples per class\n",
        "    files = files[:config['split']['max_samples_per_class']] if len(files) > config['split']['max_samples_per_class'] else files\n",
        "\n",
        "    # Train (80%), Validation (10%), Test (10%) Split\n",
        "    train_files, temp_files = train_test_split(files, test_size=1 - config['split']['train_ratio'], random_state=42)\n",
        "    val_files, test_files = train_test_split(temp_files, test_size=config['split']['test_ratio'] / (config['split']['test_ratio'] + config['split']['val_ratio']), random_state=42)\n",
        "\n",
        "    # Create class-specific subdirectories\n",
        "    for folder in [train_folder, val_folder, test_folder, extra_test_folder]:\n",
        "        os.makedirs(os.path.join(folder, class_name), exist_ok=True)\n",
        "\n",
        "    # Function to handle parallel file copying\n",
        "    def parallel_copy(file_list, destination):\n",
        "        dest_folder = os.path.join(destination, class_name)\n",
        "        with ThreadPoolExecutor() as executor:\n",
        "            executor.map(lambda f: copy_file(f, dest_folder), file_list)\n",
        "\n",
        "    # Copy files in parallel\n",
        "    parallel_copy(train_files, train_folder)\n",
        "    parallel_copy(val_files, val_folder)\n",
        "    parallel_copy(test_files, test_folder)\n",
        "    parallel_copy(test_files, extra_test_folder)  # Duplicate test set\n",
        "\n",
        "print(\"✅ Data successfully split into train (80%), validation (10%), and test (10%) sets with 570 samples per class.\")\n"
      ]
    },
    {
      "cell_type": "code",
      "execution_count": null,
      "metadata": {
        "colab": {
          "base_uri": "https://localhost:8080/"
        },
        "id": "z4QkIecUhW8a",
        "outputId": "311e09d1-4903-4838-8e3d-20b15d0d3e62"
      },
      "outputs": [
        {
          "name": "stdout",
          "output_type": "stream",
          "text": [
            "Updated 'train_folder' in config.yaml.\n",
            "Updated 'val_folder' in config.yaml.\n",
            "Config file updated successfully.\n"
          ]
        }
      ],
      "source": [
        "import yaml\n",
        "\n",
        "# Define the path to your YAML file\n",
        "yaml_file_path = '/content/maize_leaf_data/data/config.yaml'\n",
        "\n",
        "# Function to update config.yaml with train_folder and val_folder if missing\n",
        "def update_config_with_folders(yaml_file_path):\n",
        "    try:\n",
        "        # Load the configuration from YAML\n",
        "        with open(yaml_file_path, 'r') as file:\n",
        "            config = yaml.safe_load(file)\n",
        "\n",
        "        # Ensure 'data' section exists\n",
        "        if 'data' not in config:\n",
        "            config['data'] = {}\n",
        "\n",
        "        # Check if 'train_folder' and 'val_folder' are missing or empty\n",
        "        if 'train_folder' not in config['data'] or not config['data']['train_folder']:\n",
        "            config['data']['train_folder'] = '/path/to/train_folder'  # Replace with the correct path\n",
        "            print(\"Updated 'train_folder' in config.yaml.\")\n",
        "\n",
        "        if 'val_folder' not in config['data'] or not config['data']['val_folder']:\n",
        "            config['data']['val_folder'] = '/path/to/val_folder'  # Replace with the correct path\n",
        "            print(\"Updated 'val_folder' in config.yaml.\")\n",
        "\n",
        "        # Save the updated configuration back to the YAML file\n",
        "        with open(yaml_file_path, 'w') as file:\n",
        "            yaml.dump(config, file, default_flow_style=False)\n",
        "\n",
        "        print(\"Config file updated successfully.\")\n",
        "\n",
        "    except yaml.YAMLError as e:\n",
        "        print(f\"Error reading or writing YAML file: {e}\")\n",
        "    except Exception as e:\n",
        "        print(f\"Error: {e}\")\n",
        "\n",
        "# Call the function to update the config file\n",
        "update_config_with_folders(yaml_file_path)\n"
      ]
    },
    {
      "cell_type": "code",
      "execution_count": null,
      "metadata": {
        "colab": {
          "base_uri": "https://localhost:8080/"
        },
        "id": "VsRHjMQPhFrU",
        "outputId": "71796ecb-a19c-4792-d28e-29b94e1789fe"
      },
      "outputs": [
        {
          "name": "stdout",
          "output_type": "stream",
          "text": [
            "Train Folder Path: /path/to/train_folder\n",
            "Validation Folder Path: /path/to/val_folder\n",
            "Warning: The 'train_folder' path does not exist: /path/to/train_folder\n",
            "Warning: The 'val_folder' path does not exist: /path/to/val_folder\n",
            "One or both folders are missing or invalid.\n"
          ]
        }
      ],
      "source": [
        "import yaml\n",
        "import os\n",
        "\n",
        "# Define the path to your YAML file\n",
        "yaml_file_path = '/content/maize_leaf_data/data/config.yaml'\n",
        "\n",
        "# Function to check if the required folders are defined in the YAML\n",
        "def check_folders_in_config(yaml_file_path):\n",
        "    try:\n",
        "        # Load the configuration from YAML\n",
        "        with open(yaml_file_path, 'r') as file:\n",
        "            config = yaml.safe_load(file)\n",
        "\n",
        "        # Check if 'train_folder' and 'val_folder' exist in the config and are not empty\n",
        "        if 'data' not in config:\n",
        "            raise KeyError(\"'data' section is missing in the config.yaml file.\")\n",
        "\n",
        "        if 'train_folder' not in config['data'] or not config['data']['train_folder']:\n",
        "            raise KeyError(\"Missing or empty 'train_folder' in the config.yaml file.\")\n",
        "\n",
        "        if 'val_folder' not in config['data'] or not config['data']['val_folder']:\n",
        "            raise KeyError(\"Missing or empty 'val_folder' in the config.yaml file.\")\n",
        "\n",
        "        # Print the folder paths if they are valid\n",
        "        print(f\"Train Folder Path: {config['data']['train_folder']}\")\n",
        "        print(f\"Validation Folder Path: {config['data']['val_folder']}\")\n",
        "\n",
        "        # Check if the folders exist\n",
        "        if not os.path.exists(config['data']['train_folder']):\n",
        "            print(f\"Warning: The 'train_folder' path does not exist: {config['data']['train_folder']}\")\n",
        "\n",
        "        if not os.path.exists(config['data']['val_folder']):\n",
        "            print(f\"Warning: The 'val_folder' path does not exist: {config['data']['val_folder']}\")\n",
        "\n",
        "        # If both folders exist, print success message\n",
        "        if os.path.exists(config['data']['train_folder']) and os.path.exists(config['data']['val_folder']):\n",
        "            print(\"Both 'train_folder' and 'val_folder' exist and are valid.\")\n",
        "        else:\n",
        "            print(\"One or both folders are missing or invalid.\")\n",
        "\n",
        "    except yaml.YAMLError as e:\n",
        "        print(f\"Error reading YAML file: {e}\")\n",
        "    except KeyError as e:\n",
        "        print(f\"Error: {e}\")\n",
        "\n",
        "# Call the function\n",
        "check_folders_in_config(yaml_file_path)\n"
      ]
    },
    {
      "cell_type": "code",
      "execution_count": null,
      "metadata": {
        "colab": {
          "base_uri": "https://localhost:8080/"
        },
        "id": "Y8-MVtO0nkSX",
        "outputId": "6bcc2afa-6b08-4b8a-a734-02d40570c279"
      },
      "outputs": [
        {
          "name": "stdout",
          "output_type": "stream",
          "text": [
            "Requirement already satisfied: wandb in /usr/local/lib/python3.11/dist-packages (0.19.9)\n",
            "Requirement already satisfied: click!=8.0.0,>=7.1 in /usr/local/lib/python3.11/dist-packages (from wandb) (8.1.8)\n",
            "Requirement already satisfied: docker-pycreds>=0.4.0 in /usr/local/lib/python3.11/dist-packages (from wandb) (0.4.0)\n",
            "Requirement already satisfied: gitpython!=3.1.29,>=1.0.0 in /usr/local/lib/python3.11/dist-packages (from wandb) (3.1.44)\n",
            "Requirement already satisfied: platformdirs in /usr/local/lib/python3.11/dist-packages (from wandb) (4.3.7)\n",
            "Requirement already satisfied: protobuf!=4.21.0,!=5.28.0,<6,>=3.19.0 in /usr/local/lib/python3.11/dist-packages (from wandb) (5.29.4)\n",
            "Requirement already satisfied: psutil>=5.0.0 in /usr/local/lib/python3.11/dist-packages (from wandb) (5.9.5)\n",
            "Requirement already satisfied: pydantic<3 in /usr/local/lib/python3.11/dist-packages (from wandb) (2.11.3)\n",
            "Requirement already satisfied: pyyaml in /usr/local/lib/python3.11/dist-packages (from wandb) (6.0.2)\n",
            "Requirement already satisfied: requests<3,>=2.0.0 in /usr/local/lib/python3.11/dist-packages (from wandb) (2.32.3)\n",
            "Requirement already satisfied: sentry-sdk>=2.0.0 in /usr/local/lib/python3.11/dist-packages (from wandb) (2.26.1)\n",
            "Requirement already satisfied: setproctitle in /usr/local/lib/python3.11/dist-packages (from wandb) (1.3.5)\n",
            "Requirement already satisfied: setuptools in /usr/local/lib/python3.11/dist-packages (from wandb) (75.2.0)\n",
            "Requirement already satisfied: typing-extensions<5,>=4.4 in /usr/local/lib/python3.11/dist-packages (from wandb) (4.13.2)\n",
            "Requirement already satisfied: six>=1.4.0 in /usr/local/lib/python3.11/dist-packages (from docker-pycreds>=0.4.0->wandb) (1.17.0)\n",
            "Requirement already satisfied: gitdb<5,>=4.0.1 in /usr/local/lib/python3.11/dist-packages (from gitpython!=3.1.29,>=1.0.0->wandb) (4.0.12)\n",
            "Requirement already satisfied: annotated-types>=0.6.0 in /usr/local/lib/python3.11/dist-packages (from pydantic<3->wandb) (0.7.0)\n",
            "Requirement already satisfied: pydantic-core==2.33.1 in /usr/local/lib/python3.11/dist-packages (from pydantic<3->wandb) (2.33.1)\n",
            "Requirement already satisfied: typing-inspection>=0.4.0 in /usr/local/lib/python3.11/dist-packages (from pydantic<3->wandb) (0.4.0)\n",
            "Requirement already satisfied: charset-normalizer<4,>=2 in /usr/local/lib/python3.11/dist-packages (from requests<3,>=2.0.0->wandb) (3.4.1)\n",
            "Requirement already satisfied: idna<4,>=2.5 in /usr/local/lib/python3.11/dist-packages (from requests<3,>=2.0.0->wandb) (3.10)\n",
            "Requirement already satisfied: urllib3<3,>=1.21.1 in /usr/local/lib/python3.11/dist-packages (from requests<3,>=2.0.0->wandb) (2.3.0)\n",
            "Requirement already satisfied: certifi>=2017.4.17 in /usr/local/lib/python3.11/dist-packages (from requests<3,>=2.0.0->wandb) (2025.1.31)\n",
            "Requirement already satisfied: smmap<6,>=3.0.1 in /usr/local/lib/python3.11/dist-packages (from gitdb<5,>=4.0.1->gitpython!=3.1.29,>=1.0.0->wandb) (5.0.2)\n"
          ]
        }
      ],
      "source": [
        "# Install the wandb (Weights & Biases) library for experiment tracking\n",
        "!pip install wandb"
      ]
    },
    {
      "cell_type": "markdown",
      "metadata": {
        "id": "p0C7tLQInmVv"
      },
      "source": [
        "from ultralytics import YOLO\n",
        "\n",
        "# Import wandb for experiment tracking\n",
        "import wandb\n",
        "\n",
        "# Initialize wandb in disabled mode (useful for testing or if you don't want to log to wandb)\n",
        "wandb.init(mode=\"disabled\")\n",
        "\n",
        "# Load a pretrained YOLO model (recommended for training)\n",
        "model = YOLO(\"yolov10n.pt\")\n",
        "\n",
        "# Train the model on the custom dataset for a specified number of epochs\n",
        "model.train(\n",
        "    data='/content/maize_leaf_ddata/data.yaml',\n",
        "    epochs=200,         # Increased epochs for better learning\n",
        "    patience=10,        # Stop early if no improvement after 10 epochs\n",
        "    batch=32,           # Adjust batch size based on GPU memory\n",
        "    weight_decay=5e-4,  # Helps prevent overfitting\n",
        "    device=0,           # Use GPU if available\n",
        "    imgsz=(256,256),    # Adjust image size based on model\n",
        ")\n",
        "metrics = model.val()\n"
      ]
    },
    {
      "cell_type": "code",
      "execution_count": null,
      "metadata": {
        "colab": {
          "background_save": true,
          "base_uri": "https://localhost:8080/"
        },
        "id": "cFse3vmQjaIi",
        "outputId": "82fd2c67-5be3-44d5-9a51-e64edde604a8"
      },
      "outputs": [
        {
          "name": "stdout",
          "output_type": "stream",
          "text": [
            "Ultralytics 8.3.111 🚀 Python-3.11.12 torch-2.6.0+cu124 CUDA:0 (Tesla T4, 15095MiB)\n",
            "\u001b[34m\u001b[1mengine/trainer: \u001b[0mtask=detect, mode=train, model=yolov10n.pt, data=/content/data/working/custom/data.yaml, epochs=100, time=None, patience=100, batch=16, imgsz=640, save=True, save_period=-1, cache=False, device=None, workers=8, project=None, name=train43, exist_ok=False, pretrained=True, optimizer=auto, verbose=True, seed=0, deterministic=True, single_cls=False, rect=False, cos_lr=False, close_mosaic=10, resume=False, amp=True, fraction=1.0, profile=False, freeze=None, multi_scale=False, overlap_mask=True, mask_ratio=4, dropout=0.0, val=True, split=val, save_json=False, conf=None, iou=0.7, max_det=300, half=False, dnn=False, plots=True, source=None, vid_stride=1, stream_buffer=False, visualize=False, augment=False, agnostic_nms=False, classes=None, retina_masks=False, embed=None, show=False, save_frames=False, save_txt=False, save_conf=False, save_crop=False, show_labels=True, show_conf=True, show_boxes=True, line_width=None, format=torchscript, keras=False, optimize=False, int8=False, dynamic=False, simplify=True, opset=None, workspace=None, nms=False, lr0=0.01, lrf=0.01, momentum=0.937, weight_decay=0.0005, warmup_epochs=3.0, warmup_momentum=0.8, warmup_bias_lr=0.1, box=7.5, cls=0.5, dfl=1.5, pose=12.0, kobj=1.0, nbs=64, hsv_h=0.015, hsv_s=0.7, hsv_v=0.4, degrees=0.0, translate=0.1, scale=0.5, shear=0.0, perspective=0.0, flipud=0.0, fliplr=0.5, bgr=0.0, mosaic=1.0, mixup=0.0, copy_paste=0.0, copy_paste_mode=flip, auto_augment=randaugment, erasing=0.4, cfg=None, tracker=botsort.yaml, save_dir=runs/detect/train43\n",
            "Overriding model.yaml nc=80 with nc=4\n",
            "\n",
            "                   from  n    params  module                                       arguments                     \n",
            "  0                  -1  1       464  ultralytics.nn.modules.conv.Conv             [3, 16, 3, 2]                 \n",
            "  1                  -1  1      4672  ultralytics.nn.modules.conv.Conv             [16, 32, 3, 2]                \n",
            "  2                  -1  1      7360  ultralytics.nn.modules.block.C2f             [32, 32, 1, True]             \n",
            "  3                  -1  1     18560  ultralytics.nn.modules.conv.Conv             [32, 64, 3, 2]                \n",
            "  4                  -1  2     49664  ultralytics.nn.modules.block.C2f             [64, 64, 2, True]             \n",
            "  5                  -1  1      9856  ultralytics.nn.modules.block.SCDown          [64, 128, 3, 2]               \n",
            "  6                  -1  2    197632  ultralytics.nn.modules.block.C2f             [128, 128, 2, True]           \n",
            "  7                  -1  1     36096  ultralytics.nn.modules.block.SCDown          [128, 256, 3, 2]              \n",
            "  8                  -1  1    460288  ultralytics.nn.modules.block.C2f             [256, 256, 1, True]           \n",
            "  9                  -1  1    164608  ultralytics.nn.modules.block.SPPF            [256, 256, 5]                 \n",
            " 10                  -1  1    249728  ultralytics.nn.modules.block.PSA             [256, 256]                    \n",
            " 11                  -1  1         0  torch.nn.modules.upsampling.Upsample         [None, 2, 'nearest']          \n",
            " 12             [-1, 6]  1         0  ultralytics.nn.modules.conv.Concat           [1]                           \n",
            " 13                  -1  1    148224  ultralytics.nn.modules.block.C2f             [384, 128, 1]                 \n",
            " 14                  -1  1         0  torch.nn.modules.upsampling.Upsample         [None, 2, 'nearest']          \n",
            " 15             [-1, 4]  1         0  ultralytics.nn.modules.conv.Concat           [1]                           \n",
            " 16                  -1  1     37248  ultralytics.nn.modules.block.C2f             [192, 64, 1]                  \n",
            " 17                  -1  1     36992  ultralytics.nn.modules.conv.Conv             [64, 64, 3, 2]                \n",
            " 18            [-1, 13]  1         0  ultralytics.nn.modules.conv.Concat           [1]                           \n",
            " 19                  -1  1    123648  ultralytics.nn.modules.block.C2f             [192, 128, 1]                 \n",
            " 20                  -1  1     18048  ultralytics.nn.modules.block.SCDown          [128, 128, 3, 2]              \n",
            " 21            [-1, 10]  1         0  ultralytics.nn.modules.conv.Concat           [1]                           \n",
            " 22                  -1  1    282624  ultralytics.nn.modules.block.C2fCIB          [384, 256, 1, True, True]     \n",
            " 23        [16, 19, 22]  1    862888  ultralytics.nn.modules.head.v10Detect        [4, [64, 128, 256]]           \n",
            "YOLOv10n summary: 223 layers, 2,708,600 parameters, 2,708,584 gradients, 8.4 GFLOPs\n",
            "\n",
            "Transferred 493/595 items from pretrained weights\n",
            "Freezing layer 'model.23.dfl.conv.weight'\n",
            "\u001b[34m\u001b[1mAMP: \u001b[0mrunning Automatic Mixed Precision (AMP) checks...\n",
            "\u001b[34m\u001b[1mAMP: \u001b[0mchecks passed ✅\n",
            "\u001b[34m\u001b[1mtrain: \u001b[0mFast image access ✅ (ping: 0.0±0.0 ms, read: 498.9±210.2 MB/s, size: 12.1 KB)\n"
          ]
        },
        {
          "name": "stderr",
          "output_type": "stream",
          "text": [
            "\u001b[34m\u001b[1mtrain: \u001b[0mScanning /content/data/working/custom/train/Blight... 0 images, 1824 backgrounds, 0 corrupt: 100%|██████████| 1824/1824 [00:00<00:00, 4535.70it/s]"
          ]
        },
        {
          "name": "stdout",
          "output_type": "stream",
          "text": [
            "\u001b[34m\u001b[1mtrain: \u001b[0mWARNING ⚠️ No labels found in /content/data/working/custom/train/Blight.cache. See https://docs.ultralytics.com/datasets for dataset formatting guidance.\n",
            "\u001b[34m\u001b[1mtrain: \u001b[0mNew cache created: /content/data/working/custom/train/Blight.cache\n",
            "WARNING ⚠️ No labels found in /content/data/working/custom/train/Blight.cache, training may not work correctly. See https://docs.ultralytics.com/datasets for dataset formatting guidance.\n",
            "\u001b[34m\u001b[1malbumentations: \u001b[0mBlur(p=0.01, blur_limit=(3, 7)), MedianBlur(p=0.01, blur_limit=(3, 7)), ToGray(p=0.01, num_output_channels=3, method='weighted_average'), CLAHE(p=0.01, clip_limit=(1.0, 4.0), tile_grid_size=(8, 8))\n"
          ]
        },
        {
          "name": "stderr",
          "output_type": "stream",
          "text": [
            "\n"
          ]
        },
        {
          "name": "stdout",
          "output_type": "stream",
          "text": [
            "\u001b[34m\u001b[1mval: \u001b[0mFast image access ✅ (ping: 0.0±0.0 ms, read: 754.1±1106.0 MB/s, size: 77.1 KB)\n"
          ]
        },
        {
          "name": "stderr",
          "output_type": "stream",
          "text": [
            "\u001b[34m\u001b[1mval: \u001b[0mScanning /content/data/working/custom/val/Blight... 0 images, 1093 backgrounds, 0 corrupt: 100%|██████████| 1093/1093 [00:00<00:00, 1700.97it/s]"
          ]
        },
        {
          "name": "stdout",
          "output_type": "stream",
          "text": [
            "\u001b[34m\u001b[1mval: \u001b[0mWARNING ⚠️ No labels found in /content/data/working/custom/val/Blight.cache. See https://docs.ultralytics.com/datasets for dataset formatting guidance.\n",
            "\u001b[34m\u001b[1mval: \u001b[0mNew cache created: /content/data/working/custom/val/Blight.cache\n",
            "WARNING ⚠️ No labels found in /content/data/working/custom/val/Blight.cache, training may not work correctly. See https://docs.ultralytics.com/datasets for dataset formatting guidance.\n"
          ]
        },
        {
          "name": "stderr",
          "output_type": "stream",
          "text": [
            "\n"
          ]
        },
        {
          "name": "stdout",
          "output_type": "stream",
          "text": [
            "Plotting labels to runs/detect/train43/labels.jpg... \n",
            "zero-size array to reduction operation maximum which has no identity\n",
            "\u001b[34m\u001b[1moptimizer:\u001b[0m 'optimizer=auto' found, ignoring 'lr0=0.01' and 'momentum=0.937' and determining best 'optimizer', 'lr0' and 'momentum' automatically... \n",
            "\u001b[34m\u001b[1moptimizer:\u001b[0m AdamW(lr=0.00125, momentum=0.9) with parameter groups 95 weight(decay=0.0), 108 weight(decay=0.0005), 107 bias(decay=0.0)\n",
            "Image sizes 640 train, 640 val\n",
            "Using 2 dataloader workers\n",
            "Logging results to \u001b[1mruns/detect/train43\u001b[0m\n",
            "Starting training for 100 epochs...\n",
            "\n",
            "      Epoch    GPU_mem   box_loss   cls_loss   dfl_loss  Instances       Size\n"
          ]
        },
        {
          "name": "stderr",
          "output_type": "stream",
          "text": [
            "      1/100      3.46G          0      218.6          0          0        640: 100%|██████████| 114/114 [00:38<00:00,  2.98it/s]\n",
            "                 Class     Images  Instances      Box(P          R      mAP50  mAP50-95): 100%|██████████| 35/35 [00:06<00:00,  5.33it/s]"
          ]
        },
        {
          "name": "stdout",
          "output_type": "stream",
          "text": [
            "                   all       1093          0          0          0          0          0\n",
            "WARNING ⚠️ no labels found in detect set, can not compute metrics without labels\n"
          ]
        },
        {
          "name": "stderr",
          "output_type": "stream",
          "text": [
            "\n",
            "/usr/local/lib/python3.11/dist-packages/ultralytics/utils/metrics.py:655: RuntimeWarning: Mean of empty slice.\n",
            "  i = smooth(f1_curve.mean(0), 0.1).argmax()  # max F1 index\n",
            "/usr/local/lib/python3.11/dist-packages/numpy/_core/_methods.py:130: RuntimeWarning: invalid value encountered in divide\n",
            "  ret = um.true_divide(\n"
          ]
        },
        {
          "name": "stdout",
          "output_type": "stream",
          "text": [
            "\n",
            "      Epoch    GPU_mem   box_loss   cls_loss   dfl_loss  Instances       Size\n"
          ]
        },
        {
          "name": "stderr",
          "output_type": "stream",
          "text": [
            "      2/100      3.46G          0      148.9          0          0        640: 100%|██████████| 114/114 [00:34<00:00,  3.28it/s]\n",
            "                 Class     Images  Instances      Box(P          R      mAP50  mAP50-95): 100%|██████████| 35/35 [00:07<00:00,  4.53it/s]"
          ]
        },
        {
          "name": "stdout",
          "output_type": "stream",
          "text": [
            "                   all       1093          0          0          0          0          0\n",
            "WARNING ⚠️ no labels found in detect set, can not compute metrics without labels\n"
          ]
        },
        {
          "name": "stderr",
          "output_type": "stream",
          "text": [
            "\n",
            "/usr/local/lib/python3.11/dist-packages/ultralytics/utils/metrics.py:655: RuntimeWarning: Mean of empty slice.\n",
            "  i = smooth(f1_curve.mean(0), 0.1).argmax()  # max F1 index\n",
            "/usr/local/lib/python3.11/dist-packages/numpy/_core/_methods.py:130: RuntimeWarning: invalid value encountered in divide\n",
            "  ret = um.true_divide(\n"
          ]
        },
        {
          "name": "stdout",
          "output_type": "stream",
          "text": [
            "\n",
            "      Epoch    GPU_mem   box_loss   cls_loss   dfl_loss  Instances       Size\n"
          ]
        },
        {
          "name": "stderr",
          "output_type": "stream",
          "text": [
            "      3/100      3.46G          0       83.3          0          0        640: 100%|██████████| 114/114 [00:33<00:00,  3.40it/s]\n",
            "                 Class     Images  Instances      Box(P          R      mAP50  mAP50-95): 100%|██████████| 35/35 [00:07<00:00,  4.62it/s]"
          ]
        },
        {
          "name": "stdout",
          "output_type": "stream",
          "text": [
            "                   all       1093          0          0          0          0          0\n",
            "WARNING ⚠️ no labels found in detect set, can not compute metrics without labels\n"
          ]
        },
        {
          "name": "stderr",
          "output_type": "stream",
          "text": [
            "\n",
            "/usr/local/lib/python3.11/dist-packages/ultralytics/utils/metrics.py:655: RuntimeWarning: Mean of empty slice.\n",
            "  i = smooth(f1_curve.mean(0), 0.1).argmax()  # max F1 index\n",
            "/usr/local/lib/python3.11/dist-packages/numpy/_core/_methods.py:130: RuntimeWarning: invalid value encountered in divide\n",
            "  ret = um.true_divide(\n"
          ]
        },
        {
          "name": "stdout",
          "output_type": "stream",
          "text": [
            "\n",
            "      Epoch    GPU_mem   box_loss   cls_loss   dfl_loss  Instances       Size\n"
          ]
        },
        {
          "name": "stderr",
          "output_type": "stream",
          "text": [
            "      4/100      3.46G          0      37.49          0          0        640: 100%|██████████| 114/114 [00:36<00:00,  3.15it/s]\n",
            "                 Class     Images  Instances      Box(P          R      mAP50  mAP50-95): 100%|██████████| 35/35 [00:09<00:00,  3.84it/s]"
          ]
        },
        {
          "name": "stdout",
          "output_type": "stream",
          "text": [
            "                   all       1093          0          0          0          0          0\n",
            "WARNING ⚠️ no labels found in detect set, can not compute metrics without labels\n"
          ]
        },
        {
          "name": "stderr",
          "output_type": "stream",
          "text": [
            "\n",
            "/usr/local/lib/python3.11/dist-packages/ultralytics/utils/metrics.py:655: RuntimeWarning: Mean of empty slice.\n",
            "  i = smooth(f1_curve.mean(0), 0.1).argmax()  # max F1 index\n",
            "/usr/local/lib/python3.11/dist-packages/numpy/_core/_methods.py:130: RuntimeWarning: invalid value encountered in divide\n",
            "  ret = um.true_divide(\n"
          ]
        },
        {
          "name": "stdout",
          "output_type": "stream",
          "text": [
            "\n",
            "      Epoch    GPU_mem   box_loss   cls_loss   dfl_loss  Instances       Size\n"
          ]
        },
        {
          "name": "stderr",
          "output_type": "stream",
          "text": [
            "      5/100      3.48G          0      13.01          0          0        640: 100%|██████████| 114/114 [00:34<00:00,  3.32it/s]\n",
            "                 Class     Images  Instances      Box(P          R      mAP50  mAP50-95): 100%|██████████| 35/35 [00:07<00:00,  4.89it/s]"
          ]
        },
        {
          "name": "stdout",
          "output_type": "stream",
          "text": [
            "                   all       1093          0          0          0          0          0\n",
            "WARNING ⚠️ no labels found in detect set, can not compute metrics without labels\n"
          ]
        },
        {
          "name": "stderr",
          "output_type": "stream",
          "text": [
            "\n",
            "/usr/local/lib/python3.11/dist-packages/ultralytics/utils/metrics.py:655: RuntimeWarning: Mean of empty slice.\n",
            "  i = smooth(f1_curve.mean(0), 0.1).argmax()  # max F1 index\n",
            "/usr/local/lib/python3.11/dist-packages/numpy/_core/_methods.py:130: RuntimeWarning: invalid value encountered in divide\n",
            "  ret = um.true_divide(\n"
          ]
        },
        {
          "name": "stdout",
          "output_type": "stream",
          "text": [
            "\n",
            "      Epoch    GPU_mem   box_loss   cls_loss   dfl_loss  Instances       Size\n"
          ]
        },
        {
          "name": "stderr",
          "output_type": "stream",
          "text": [
            "      6/100       3.5G          0       3.44          0          0        640: 100%|██████████| 114/114 [00:34<00:00,  3.27it/s]\n",
            "                 Class     Images  Instances      Box(P          R      mAP50  mAP50-95): 100%|██████████| 35/35 [00:06<00:00,  5.54it/s]\n"
          ]
        },
        {
          "ename": "RuntimeError",
          "evalue": "torch.cat(): expected a non-empty list of Tensors",
          "output_type": "error",
          "traceback": [
            "\u001b[0;31m---------------------------------------------------------------------------\u001b[0m",
            "\u001b[0;31mRuntimeError\u001b[0m                              Traceback (most recent call last)",
            "\u001b[0;32m<ipython-input-69-0084edc10561>\u001b[0m in \u001b[0;36m<cell line: 0>\u001b[0;34m()\u001b[0m\n\u001b[1;32m     10\u001b[0m \u001b[0;34m\u001b[0m\u001b[0m\n\u001b[1;32m     11\u001b[0m \u001b[0;31m# Train the model on the custom dataset for a specified number of epochs\u001b[0m\u001b[0;34m\u001b[0m\u001b[0;34m\u001b[0m\u001b[0m\n\u001b[0;32m---> 12\u001b[0;31m model.train( \n\u001b[0m\u001b[1;32m     13\u001b[0m     \u001b[0mdata\u001b[0m\u001b[0;34m=\u001b[0m\u001b[0;34m'/content/data/working/custom/data.yaml'\u001b[0m\u001b[0;34m,\u001b[0m\u001b[0;34m\u001b[0m\u001b[0;34m\u001b[0m\u001b[0m\n\u001b[1;32m     14\u001b[0m \u001b[0;34m\u001b[0m\u001b[0m\n",
            "\u001b[0;32m/usr/local/lib/python3.11/dist-packages/ultralytics/engine/model.py\u001b[0m in \u001b[0;36mtrain\u001b[0;34m(self, trainer, **kwargs)\u001b[0m\n\u001b[1;32m    789\u001b[0m \u001b[0;34m\u001b[0m\u001b[0m\n\u001b[1;32m    790\u001b[0m         \u001b[0mself\u001b[0m\u001b[0;34m.\u001b[0m\u001b[0mtrainer\u001b[0m\u001b[0;34m.\u001b[0m\u001b[0mhub_session\u001b[0m \u001b[0;34m=\u001b[0m \u001b[0mself\u001b[0m\u001b[0;34m.\u001b[0m\u001b[0msession\u001b[0m  \u001b[0;31m# attach optional HUB session\u001b[0m\u001b[0;34m\u001b[0m\u001b[0;34m\u001b[0m\u001b[0m\n\u001b[0;32m--> 791\u001b[0;31m         \u001b[0mself\u001b[0m\u001b[0;34m.\u001b[0m\u001b[0mtrainer\u001b[0m\u001b[0;34m.\u001b[0m\u001b[0mtrain\u001b[0m\u001b[0;34m(\u001b[0m\u001b[0;34m)\u001b[0m\u001b[0;34m\u001b[0m\u001b[0;34m\u001b[0m\u001b[0m\n\u001b[0m\u001b[1;32m    792\u001b[0m         \u001b[0;31m# Update model and cfg after training\u001b[0m\u001b[0;34m\u001b[0m\u001b[0;34m\u001b[0m\u001b[0m\n\u001b[1;32m    793\u001b[0m         \u001b[0;32mif\u001b[0m \u001b[0mRANK\u001b[0m \u001b[0;32min\u001b[0m \u001b[0;34m{\u001b[0m\u001b[0;34m-\u001b[0m\u001b[0;36m1\u001b[0m\u001b[0;34m,\u001b[0m \u001b[0;36m0\u001b[0m\u001b[0;34m}\u001b[0m\u001b[0;34m:\u001b[0m\u001b[0;34m\u001b[0m\u001b[0;34m\u001b[0m\u001b[0m\n",
            "\u001b[0;32m/usr/local/lib/python3.11/dist-packages/ultralytics/engine/trainer.py\u001b[0m in \u001b[0;36mtrain\u001b[0;34m(self)\u001b[0m\n\u001b[1;32m    209\u001b[0m \u001b[0;34m\u001b[0m\u001b[0m\n\u001b[1;32m    210\u001b[0m         \u001b[0;32melse\u001b[0m\u001b[0;34m:\u001b[0m\u001b[0;34m\u001b[0m\u001b[0;34m\u001b[0m\u001b[0m\n\u001b[0;32m--> 211\u001b[0;31m             \u001b[0mself\u001b[0m\u001b[0;34m.\u001b[0m\u001b[0m_do_train\u001b[0m\u001b[0;34m(\u001b[0m\u001b[0mworld_size\u001b[0m\u001b[0;34m)\u001b[0m\u001b[0;34m\u001b[0m\u001b[0;34m\u001b[0m\u001b[0m\n\u001b[0m\u001b[1;32m    212\u001b[0m \u001b[0;34m\u001b[0m\u001b[0m\n\u001b[1;32m    213\u001b[0m     \u001b[0;32mdef\u001b[0m \u001b[0m_setup_scheduler\u001b[0m\u001b[0;34m(\u001b[0m\u001b[0mself\u001b[0m\u001b[0;34m)\u001b[0m\u001b[0;34m:\u001b[0m\u001b[0;34m\u001b[0m\u001b[0;34m\u001b[0m\u001b[0m\n",
            "\u001b[0;32m/usr/local/lib/python3.11/dist-packages/ultralytics/engine/trainer.py\u001b[0m in \u001b[0;36m_do_train\u001b[0;34m(self, world_size)\u001b[0m\n\u001b[1;32m    436\u001b[0m                 \u001b[0;31m# Validation\u001b[0m\u001b[0;34m\u001b[0m\u001b[0;34m\u001b[0m\u001b[0m\n\u001b[1;32m    437\u001b[0m                 \u001b[0;32mif\u001b[0m \u001b[0mself\u001b[0m\u001b[0;34m.\u001b[0m\u001b[0margs\u001b[0m\u001b[0;34m.\u001b[0m\u001b[0mval\u001b[0m \u001b[0;32mor\u001b[0m \u001b[0mfinal_epoch\u001b[0m \u001b[0;32mor\u001b[0m \u001b[0mself\u001b[0m\u001b[0;34m.\u001b[0m\u001b[0mstopper\u001b[0m\u001b[0;34m.\u001b[0m\u001b[0mpossible_stop\u001b[0m \u001b[0;32mor\u001b[0m \u001b[0mself\u001b[0m\u001b[0;34m.\u001b[0m\u001b[0mstop\u001b[0m\u001b[0;34m:\u001b[0m\u001b[0;34m\u001b[0m\u001b[0;34m\u001b[0m\u001b[0m\n\u001b[0;32m--> 438\u001b[0;31m                     \u001b[0mself\u001b[0m\u001b[0;34m.\u001b[0m\u001b[0mmetrics\u001b[0m\u001b[0;34m,\u001b[0m \u001b[0mself\u001b[0m\u001b[0;34m.\u001b[0m\u001b[0mfitness\u001b[0m \u001b[0;34m=\u001b[0m \u001b[0mself\u001b[0m\u001b[0;34m.\u001b[0m\u001b[0mvalidate\u001b[0m\u001b[0;34m(\u001b[0m\u001b[0;34m)\u001b[0m\u001b[0;34m\u001b[0m\u001b[0;34m\u001b[0m\u001b[0m\n\u001b[0m\u001b[1;32m    439\u001b[0m                 \u001b[0mself\u001b[0m\u001b[0;34m.\u001b[0m\u001b[0msave_metrics\u001b[0m\u001b[0;34m(\u001b[0m\u001b[0mmetrics\u001b[0m\u001b[0;34m=\u001b[0m\u001b[0;34m{\u001b[0m\u001b[0;34m**\u001b[0m\u001b[0mself\u001b[0m\u001b[0;34m.\u001b[0m\u001b[0mlabel_loss_items\u001b[0m\u001b[0;34m(\u001b[0m\u001b[0mself\u001b[0m\u001b[0;34m.\u001b[0m\u001b[0mtloss\u001b[0m\u001b[0;34m)\u001b[0m\u001b[0;34m,\u001b[0m \u001b[0;34m**\u001b[0m\u001b[0mself\u001b[0m\u001b[0;34m.\u001b[0m\u001b[0mmetrics\u001b[0m\u001b[0;34m,\u001b[0m \u001b[0;34m**\u001b[0m\u001b[0mself\u001b[0m\u001b[0;34m.\u001b[0m\u001b[0mlr\u001b[0m\u001b[0;34m}\u001b[0m\u001b[0;34m)\u001b[0m\u001b[0;34m\u001b[0m\u001b[0;34m\u001b[0m\u001b[0m\n\u001b[1;32m    440\u001b[0m                 \u001b[0mself\u001b[0m\u001b[0;34m.\u001b[0m\u001b[0mstop\u001b[0m \u001b[0;34m|=\u001b[0m \u001b[0mself\u001b[0m\u001b[0;34m.\u001b[0m\u001b[0mstopper\u001b[0m\u001b[0;34m(\u001b[0m\u001b[0mepoch\u001b[0m \u001b[0;34m+\u001b[0m \u001b[0;36m1\u001b[0m\u001b[0;34m,\u001b[0m \u001b[0mself\u001b[0m\u001b[0;34m.\u001b[0m\u001b[0mfitness\u001b[0m\u001b[0;34m)\u001b[0m \u001b[0;32mor\u001b[0m \u001b[0mfinal_epoch\u001b[0m\u001b[0;34m\u001b[0m\u001b[0;34m\u001b[0m\u001b[0m\n",
            "\u001b[0;32m/usr/local/lib/python3.11/dist-packages/ultralytics/engine/trainer.py\u001b[0m in \u001b[0;36mvalidate\u001b[0;34m(self)\u001b[0m\n\u001b[1;32m    633\u001b[0m             \u001b[0;34m(\u001b[0m\u001b[0mtuple\u001b[0m\u001b[0;34m)\u001b[0m\u001b[0;34m:\u001b[0m \u001b[0mA\u001b[0m \u001b[0mtuple\u001b[0m \u001b[0mcontaining\u001b[0m \u001b[0mmetrics\u001b[0m \u001b[0mdictionary\u001b[0m \u001b[0;32mand\u001b[0m \u001b[0mfitness\u001b[0m \u001b[0mscore\u001b[0m\u001b[0;34m.\u001b[0m\u001b[0;34m\u001b[0m\u001b[0;34m\u001b[0m\u001b[0m\n\u001b[1;32m    634\u001b[0m         \"\"\"\n\u001b[0;32m--> 635\u001b[0;31m         \u001b[0mmetrics\u001b[0m \u001b[0;34m=\u001b[0m \u001b[0mself\u001b[0m\u001b[0;34m.\u001b[0m\u001b[0mvalidator\u001b[0m\u001b[0;34m(\u001b[0m\u001b[0mself\u001b[0m\u001b[0;34m)\u001b[0m\u001b[0;34m\u001b[0m\u001b[0;34m\u001b[0m\u001b[0m\n\u001b[0m\u001b[1;32m    636\u001b[0m         \u001b[0mfitness\u001b[0m \u001b[0;34m=\u001b[0m \u001b[0mmetrics\u001b[0m\u001b[0;34m.\u001b[0m\u001b[0mpop\u001b[0m\u001b[0;34m(\u001b[0m\u001b[0;34m\"fitness\"\u001b[0m\u001b[0;34m,\u001b[0m \u001b[0;34m-\u001b[0m\u001b[0mself\u001b[0m\u001b[0;34m.\u001b[0m\u001b[0mloss\u001b[0m\u001b[0;34m.\u001b[0m\u001b[0mdetach\u001b[0m\u001b[0;34m(\u001b[0m\u001b[0;34m)\u001b[0m\u001b[0;34m.\u001b[0m\u001b[0mcpu\u001b[0m\u001b[0;34m(\u001b[0m\u001b[0;34m)\u001b[0m\u001b[0;34m.\u001b[0m\u001b[0mnumpy\u001b[0m\u001b[0;34m(\u001b[0m\u001b[0;34m)\u001b[0m\u001b[0;34m)\u001b[0m  \u001b[0;31m# use loss as fitness measure if not found\u001b[0m\u001b[0;34m\u001b[0m\u001b[0;34m\u001b[0m\u001b[0m\n\u001b[1;32m    637\u001b[0m         \u001b[0;32mif\u001b[0m \u001b[0;32mnot\u001b[0m \u001b[0mself\u001b[0m\u001b[0;34m.\u001b[0m\u001b[0mbest_fitness\u001b[0m \u001b[0;32mor\u001b[0m \u001b[0mself\u001b[0m\u001b[0;34m.\u001b[0m\u001b[0mbest_fitness\u001b[0m \u001b[0;34m<\u001b[0m \u001b[0mfitness\u001b[0m\u001b[0;34m:\u001b[0m\u001b[0;34m\u001b[0m\u001b[0;34m\u001b[0m\u001b[0m\n",
            "\u001b[0;32m/usr/local/lib/python3.11/dist-packages/torch/utils/_contextlib.py\u001b[0m in \u001b[0;36mdecorate_context\u001b[0;34m(*args, **kwargs)\u001b[0m\n\u001b[1;32m    114\u001b[0m     \u001b[0;32mdef\u001b[0m \u001b[0mdecorate_context\u001b[0m\u001b[0;34m(\u001b[0m\u001b[0;34m*\u001b[0m\u001b[0margs\u001b[0m\u001b[0;34m,\u001b[0m \u001b[0;34m**\u001b[0m\u001b[0mkwargs\u001b[0m\u001b[0;34m)\u001b[0m\u001b[0;34m:\u001b[0m\u001b[0;34m\u001b[0m\u001b[0;34m\u001b[0m\u001b[0m\n\u001b[1;32m    115\u001b[0m         \u001b[0;32mwith\u001b[0m \u001b[0mctx_factory\u001b[0m\u001b[0;34m(\u001b[0m\u001b[0;34m)\u001b[0m\u001b[0;34m:\u001b[0m\u001b[0;34m\u001b[0m\u001b[0;34m\u001b[0m\u001b[0m\n\u001b[0;32m--> 116\u001b[0;31m             \u001b[0;32mreturn\u001b[0m \u001b[0mfunc\u001b[0m\u001b[0;34m(\u001b[0m\u001b[0;34m*\u001b[0m\u001b[0margs\u001b[0m\u001b[0;34m,\u001b[0m \u001b[0;34m**\u001b[0m\u001b[0mkwargs\u001b[0m\u001b[0;34m)\u001b[0m\u001b[0;34m\u001b[0m\u001b[0;34m\u001b[0m\u001b[0m\n\u001b[0m\u001b[1;32m    117\u001b[0m \u001b[0;34m\u001b[0m\u001b[0m\n\u001b[1;32m    118\u001b[0m     \u001b[0;32mreturn\u001b[0m \u001b[0mdecorate_context\u001b[0m\u001b[0;34m\u001b[0m\u001b[0;34m\u001b[0m\u001b[0m\n",
            "\u001b[0;32m/usr/local/lib/python3.11/dist-packages/ultralytics/engine/validator.py\u001b[0m in \u001b[0;36m__call__\u001b[0;34m(self, trainer, model)\u001b[0m\n\u001b[1;32m    229\u001b[0m \u001b[0;34m\u001b[0m\u001b[0m\n\u001b[1;32m    230\u001b[0m             \u001b[0mself\u001b[0m\u001b[0;34m.\u001b[0m\u001b[0mrun_callbacks\u001b[0m\u001b[0;34m(\u001b[0m\u001b[0;34m\"on_val_batch_end\"\u001b[0m\u001b[0;34m)\u001b[0m\u001b[0;34m\u001b[0m\u001b[0;34m\u001b[0m\u001b[0m\n\u001b[0;32m--> 231\u001b[0;31m         \u001b[0mstats\u001b[0m \u001b[0;34m=\u001b[0m \u001b[0mself\u001b[0m\u001b[0;34m.\u001b[0m\u001b[0mget_stats\u001b[0m\u001b[0;34m(\u001b[0m\u001b[0;34m)\u001b[0m\u001b[0;34m\u001b[0m\u001b[0;34m\u001b[0m\u001b[0m\n\u001b[0m\u001b[1;32m    232\u001b[0m         \u001b[0mself\u001b[0m\u001b[0;34m.\u001b[0m\u001b[0mcheck_stats\u001b[0m\u001b[0;34m(\u001b[0m\u001b[0mstats\u001b[0m\u001b[0;34m)\u001b[0m\u001b[0;34m\u001b[0m\u001b[0;34m\u001b[0m\u001b[0m\n\u001b[1;32m    233\u001b[0m         \u001b[0mself\u001b[0m\u001b[0;34m.\u001b[0m\u001b[0mspeed\u001b[0m \u001b[0;34m=\u001b[0m \u001b[0mdict\u001b[0m\u001b[0;34m(\u001b[0m\u001b[0mzip\u001b[0m\u001b[0;34m(\u001b[0m\u001b[0mself\u001b[0m\u001b[0;34m.\u001b[0m\u001b[0mspeed\u001b[0m\u001b[0;34m.\u001b[0m\u001b[0mkeys\u001b[0m\u001b[0;34m(\u001b[0m\u001b[0;34m)\u001b[0m\u001b[0;34m,\u001b[0m \u001b[0;34m(\u001b[0m\u001b[0mx\u001b[0m\u001b[0;34m.\u001b[0m\u001b[0mt\u001b[0m \u001b[0;34m/\u001b[0m \u001b[0mlen\u001b[0m\u001b[0;34m(\u001b[0m\u001b[0mself\u001b[0m\u001b[0;34m.\u001b[0m\u001b[0mdataloader\u001b[0m\u001b[0;34m.\u001b[0m\u001b[0mdataset\u001b[0m\u001b[0;34m)\u001b[0m \u001b[0;34m*\u001b[0m \u001b[0;36m1e3\u001b[0m \u001b[0;32mfor\u001b[0m \u001b[0mx\u001b[0m \u001b[0;32min\u001b[0m \u001b[0mdt\u001b[0m\u001b[0;34m)\u001b[0m\u001b[0;34m)\u001b[0m\u001b[0;34m)\u001b[0m\u001b[0;34m\u001b[0m\u001b[0;34m\u001b[0m\u001b[0m\n",
            "\u001b[0;32m/usr/local/lib/python3.11/dist-packages/ultralytics/models/yolo/detect/val.py\u001b[0m in \u001b[0;36mget_stats\u001b[0;34m(self)\u001b[0m\n\u001b[1;32m    245\u001b[0m             \u001b[0;34m(\u001b[0m\u001b[0mdict\u001b[0m\u001b[0;34m)\u001b[0m\u001b[0;34m:\u001b[0m \u001b[0mDictionary\u001b[0m \u001b[0mcontaining\u001b[0m \u001b[0mmetrics\u001b[0m \u001b[0mresults\u001b[0m\u001b[0;34m.\u001b[0m\u001b[0;34m\u001b[0m\u001b[0;34m\u001b[0m\u001b[0m\n\u001b[1;32m    246\u001b[0m         \"\"\"\n\u001b[0;32m--> 247\u001b[0;31m         \u001b[0mstats\u001b[0m \u001b[0;34m=\u001b[0m \u001b[0;34m{\u001b[0m\u001b[0mk\u001b[0m\u001b[0;34m:\u001b[0m \u001b[0mtorch\u001b[0m\u001b[0;34m.\u001b[0m\u001b[0mcat\u001b[0m\u001b[0;34m(\u001b[0m\u001b[0mv\u001b[0m\u001b[0;34m,\u001b[0m \u001b[0;36m0\u001b[0m\u001b[0;34m)\u001b[0m\u001b[0;34m.\u001b[0m\u001b[0mcpu\u001b[0m\u001b[0;34m(\u001b[0m\u001b[0;34m)\u001b[0m\u001b[0;34m.\u001b[0m\u001b[0mnumpy\u001b[0m\u001b[0;34m(\u001b[0m\u001b[0;34m)\u001b[0m \u001b[0;32mfor\u001b[0m \u001b[0mk\u001b[0m\u001b[0;34m,\u001b[0m \u001b[0mv\u001b[0m \u001b[0;32min\u001b[0m \u001b[0mself\u001b[0m\u001b[0;34m.\u001b[0m\u001b[0mstats\u001b[0m\u001b[0;34m.\u001b[0m\u001b[0mitems\u001b[0m\u001b[0;34m(\u001b[0m\u001b[0;34m)\u001b[0m\u001b[0;34m}\u001b[0m  \u001b[0;31m# to numpy\u001b[0m\u001b[0;34m\u001b[0m\u001b[0;34m\u001b[0m\u001b[0m\n\u001b[0m\u001b[1;32m    248\u001b[0m         \u001b[0mself\u001b[0m\u001b[0;34m.\u001b[0m\u001b[0mnt_per_class\u001b[0m \u001b[0;34m=\u001b[0m \u001b[0mnp\u001b[0m\u001b[0;34m.\u001b[0m\u001b[0mbincount\u001b[0m\u001b[0;34m(\u001b[0m\u001b[0mstats\u001b[0m\u001b[0;34m[\u001b[0m\u001b[0;34m\"target_cls\"\u001b[0m\u001b[0;34m]\u001b[0m\u001b[0;34m.\u001b[0m\u001b[0mastype\u001b[0m\u001b[0;34m(\u001b[0m\u001b[0mint\u001b[0m\u001b[0;34m)\u001b[0m\u001b[0;34m,\u001b[0m \u001b[0mminlength\u001b[0m\u001b[0;34m=\u001b[0m\u001b[0mself\u001b[0m\u001b[0;34m.\u001b[0m\u001b[0mnc\u001b[0m\u001b[0;34m)\u001b[0m\u001b[0;34m\u001b[0m\u001b[0;34m\u001b[0m\u001b[0m\n\u001b[1;32m    249\u001b[0m         \u001b[0mself\u001b[0m\u001b[0;34m.\u001b[0m\u001b[0mnt_per_image\u001b[0m \u001b[0;34m=\u001b[0m \u001b[0mnp\u001b[0m\u001b[0;34m.\u001b[0m\u001b[0mbincount\u001b[0m\u001b[0;34m(\u001b[0m\u001b[0mstats\u001b[0m\u001b[0;34m[\u001b[0m\u001b[0;34m\"target_img\"\u001b[0m\u001b[0;34m]\u001b[0m\u001b[0;34m.\u001b[0m\u001b[0mastype\u001b[0m\u001b[0;34m(\u001b[0m\u001b[0mint\u001b[0m\u001b[0;34m)\u001b[0m\u001b[0;34m,\u001b[0m \u001b[0mminlength\u001b[0m\u001b[0;34m=\u001b[0m\u001b[0mself\u001b[0m\u001b[0;34m.\u001b[0m\u001b[0mnc\u001b[0m\u001b[0;34m)\u001b[0m\u001b[0;34m\u001b[0m\u001b[0;34m\u001b[0m\u001b[0m\n",
            "\u001b[0;32m/usr/local/lib/python3.11/dist-packages/ultralytics/models/yolo/detect/val.py\u001b[0m in \u001b[0;36m<dictcomp>\u001b[0;34m(.0)\u001b[0m\n\u001b[1;32m    245\u001b[0m             \u001b[0;34m(\u001b[0m\u001b[0mdict\u001b[0m\u001b[0;34m)\u001b[0m\u001b[0;34m:\u001b[0m \u001b[0mDictionary\u001b[0m \u001b[0mcontaining\u001b[0m \u001b[0mmetrics\u001b[0m \u001b[0mresults\u001b[0m\u001b[0;34m.\u001b[0m\u001b[0;34m\u001b[0m\u001b[0;34m\u001b[0m\u001b[0m\n\u001b[1;32m    246\u001b[0m         \"\"\"\n\u001b[0;32m--> 247\u001b[0;31m         \u001b[0mstats\u001b[0m \u001b[0;34m=\u001b[0m \u001b[0;34m{\u001b[0m\u001b[0mk\u001b[0m\u001b[0;34m:\u001b[0m \u001b[0mtorch\u001b[0m\u001b[0;34m.\u001b[0m\u001b[0mcat\u001b[0m\u001b[0;34m(\u001b[0m\u001b[0mv\u001b[0m\u001b[0;34m,\u001b[0m \u001b[0;36m0\u001b[0m\u001b[0;34m)\u001b[0m\u001b[0;34m.\u001b[0m\u001b[0mcpu\u001b[0m\u001b[0;34m(\u001b[0m\u001b[0;34m)\u001b[0m\u001b[0;34m.\u001b[0m\u001b[0mnumpy\u001b[0m\u001b[0;34m(\u001b[0m\u001b[0;34m)\u001b[0m \u001b[0;32mfor\u001b[0m \u001b[0mk\u001b[0m\u001b[0;34m,\u001b[0m \u001b[0mv\u001b[0m \u001b[0;32min\u001b[0m \u001b[0mself\u001b[0m\u001b[0;34m.\u001b[0m\u001b[0mstats\u001b[0m\u001b[0;34m.\u001b[0m\u001b[0mitems\u001b[0m\u001b[0;34m(\u001b[0m\u001b[0;34m)\u001b[0m\u001b[0;34m}\u001b[0m  \u001b[0;31m# to numpy\u001b[0m\u001b[0;34m\u001b[0m\u001b[0;34m\u001b[0m\u001b[0m\n\u001b[0m\u001b[1;32m    248\u001b[0m         \u001b[0mself\u001b[0m\u001b[0;34m.\u001b[0m\u001b[0mnt_per_class\u001b[0m \u001b[0;34m=\u001b[0m \u001b[0mnp\u001b[0m\u001b[0;34m.\u001b[0m\u001b[0mbincount\u001b[0m\u001b[0;34m(\u001b[0m\u001b[0mstats\u001b[0m\u001b[0;34m[\u001b[0m\u001b[0;34m\"target_cls\"\u001b[0m\u001b[0;34m]\u001b[0m\u001b[0;34m.\u001b[0m\u001b[0mastype\u001b[0m\u001b[0;34m(\u001b[0m\u001b[0mint\u001b[0m\u001b[0;34m)\u001b[0m\u001b[0;34m,\u001b[0m \u001b[0mminlength\u001b[0m\u001b[0;34m=\u001b[0m\u001b[0mself\u001b[0m\u001b[0;34m.\u001b[0m\u001b[0mnc\u001b[0m\u001b[0;34m)\u001b[0m\u001b[0;34m\u001b[0m\u001b[0;34m\u001b[0m\u001b[0m\n\u001b[1;32m    249\u001b[0m         \u001b[0mself\u001b[0m\u001b[0;34m.\u001b[0m\u001b[0mnt_per_image\u001b[0m \u001b[0;34m=\u001b[0m \u001b[0mnp\u001b[0m\u001b[0;34m.\u001b[0m\u001b[0mbincount\u001b[0m\u001b[0;34m(\u001b[0m\u001b[0mstats\u001b[0m\u001b[0;34m[\u001b[0m\u001b[0;34m\"target_img\"\u001b[0m\u001b[0;34m]\u001b[0m\u001b[0;34m.\u001b[0m\u001b[0mastype\u001b[0m\u001b[0;34m(\u001b[0m\u001b[0mint\u001b[0m\u001b[0;34m)\u001b[0m\u001b[0;34m,\u001b[0m \u001b[0mminlength\u001b[0m\u001b[0;34m=\u001b[0m\u001b[0mself\u001b[0m\u001b[0;34m.\u001b[0m\u001b[0mnc\u001b[0m\u001b[0;34m)\u001b[0m\u001b[0;34m\u001b[0m\u001b[0;34m\u001b[0m\u001b[0m\n",
            "\u001b[0;31mRuntimeError\u001b[0m: torch.cat(): expected a non-empty list of Tensors"
          ]
        }
      ],
      "source": [
        "from ultralytics import YOLO\n",
        "\n",
        "# Import wandb for experiment tracking\n",
        "import wandb\n",
        "\n",
        "# Initialize wandb in disable\n",
        "\n",
        "# Load a pretrained YOLO model (recommended for training)\n",
        "model = YOLO(\"yolov10n.pt\")\n",
        "\n",
        "# Train the model on the custom dataset for a specified number of epochs\n",
        "model.train(\n",
        "    data='/content/data/working/custom/data.yaml',\n",
        "\n",
        ")\n",
        "metrics = model.val()\n"
      ]
    },
    {
      "cell_type": "code",
      "execution_count": null,
      "metadata": {
        "id": "sv60pqTqnXvR"
      },
      "outputs": [],
      "source": [
        "from google.colab import drive\n",
        "drive.mount('/content/drive')"
      ]
    },
    {
      "cell_type": "markdown",
      "metadata": {
        "id": "85YZaiYUj3nV"
      },
      "source": [
        "# New Section"
      ]
    },
    {
      "cell_type": "markdown",
      "metadata": {
        "id": "nB-Cneipj4RH"
      },
      "source": [
        "# New Section"
      ]
    },
    {
      "cell_type": "code",
      "execution_count": null,
      "metadata": {
        "colab": {
          "base_uri": "https://localhost:8080/"
        },
        "id": "vb46IFg5iXX5",
        "outputId": "2d255274-20ca-49fb-fc6c-0639c71f1349"
      },
      "outputs": [
        {
          "name": "stdout",
          "output_type": "stream",
          "text": [
            "Config file /content/maize_leaf_data/data/config.yaml updated successfully.\n",
            "Error: [Errno 2] No such file or directory: '/content/maize_leaf_data/data/another_config.yaml'\n",
            "Train folder exists at: /content/data/working/custom/train\n",
            "Validation folder exists at: /content/data/working/custom/val\n"
          ]
        }
      ],
      "source": [
        "import os\n",
        "import yaml\n",
        "\n",
        "# Define paths\n",
        "yaml_file_paths = [\n",
        "    '/content/maize_leaf_data/data/config.yaml',  # Example YAML paths (add more as needed)\n",
        "    '/content/maize_leaf_data/data/another_config.yaml',  # Another example\n",
        "]\n",
        "\n",
        "# Define the correct paths for train and validation folders\n",
        "train_folder_path = \"/content/data/working/custom/train\"\n",
        "val_folder_path = \"/content/data/working/custom/val\"\n",
        "\n",
        "# Function to update a single YAML file with the correct paths for 'train_folder' and 'val_folder'\n",
        "def update_config_with_folders(yaml_file_path, train_folder_path, val_folder_path):\n",
        "    try:\n",
        "        # Load the configuration from the YAML file\n",
        "        with open(yaml_file_path, 'r') as file:\n",
        "            config = yaml.safe_load(file)\n",
        "\n",
        "        # Ensure 'data' section exists\n",
        "        if 'data' not in config:\n",
        "            config['data'] = {}\n",
        "\n",
        "        # Ensure 'train_folder' is present\n",
        "        if 'train_folder' not in config['data'] or not config['data']['train_folder']:\n",
        "            config['data']['train_folder'] = train_folder_path\n",
        "            print(f\"Updated 'train_folder' in {yaml_file_path}: {train_folder_path}\")\n",
        "\n",
        "        # Ensure 'val_folder' is present\n",
        "        if 'val_folder' not in config['data'] or not config['data']['val_folder']:\n",
        "            config['data']['val_folder'] = val_folder_path\n",
        "            print(f\"Updated 'val_folder' in {yaml_file_path}: {val_folder_path}\")\n",
        "\n",
        "        # Save the updated configuration back to the YAML file\n",
        "        with open(yaml_file_path, 'w') as file:\n",
        "            yaml.dump(config, file, default_flow_style=False)\n",
        "\n",
        "        print(f\"Config file {yaml_file_path} updated successfully.\")\n",
        "\n",
        "    except yaml.YAMLError as e:\n",
        "        print(f\"Error reading or writing YAML file {yaml_file_path}: {e}\")\n",
        "    except Exception as e:\n",
        "        print(f\"Error: {e}\")\n",
        "\n",
        "# Function to create directories if they don't exist\n",
        "def create_directories_if_missing(train_folder_path, val_folder_path):\n",
        "    # Check if the directories exist, if not, create them\n",
        "    if not os.path.exists(train_folder_path):\n",
        "        os.makedirs(train_folder_path)\n",
        "        print(f\"Created 'train' folder at: {train_folder_path}\")\n",
        "\n",
        "    if not os.path.exists(val_folder_path):\n",
        "        os.makedirs(val_folder_path)\n",
        "        print(f\"Created 'val' folder at: {val_folder_path}\")\n",
        "\n",
        "# Main execution: Update all YAML files and ensure directories exist\n",
        "def main():\n",
        "    # Step 1: Update each YAML file with the correct train_folder and val_folder\n",
        "    for yaml_file_path in yaml_file_paths:\n",
        "        update_config_with_folders(yaml_file_path, train_folder_path, val_folder_path)\n",
        "\n",
        "    # Step 2: Create the directories if they don't exist\n",
        "    create_directories_if_missing(train_folder_path, val_folder_path)\n",
        "\n",
        "    # Step 3: Verify the directories\n",
        "    if os.path.exists(train_folder_path) and os.path.exists(val_folder_path):\n",
        "        print(f\"Train folder exists at: {train_folder_path}\")\n",
        "        print(f\"Validation folder exists at: {val_folder_path}\")\n",
        "    else:\n",
        "        print(\"One or both folders are missing.\")\n",
        "\n",
        "if __name__ == \"__main__\":\n",
        "    main()\n"
      ]
    },
    {
      "cell_type": "code",
      "execution_count": null,
      "metadata": {
        "colab": {
          "base_uri": "https://localhost:8080/"
        },
        "id": "zs6dwaeLi9Z0",
        "outputId": "630537de-e046-4766-9050-d1812cf1d933"
      },
      "outputs": [
        {
          "name": "stdout",
          "output_type": "stream",
          "text": [
            "Configuration in /content/maize_leaf_data/data/config.yaml updated successfully.\n"
          ]
        }
      ],
      "source": [
        "import yaml\n",
        "import os\n",
        "\n",
        "# Define paths for the YAML file and the train/val directories\n",
        "yaml_file_path = '/content/maize_leaf_data/data/config.yaml'  # Path to the YAML file\n",
        "train_folder_path = \"/content/data/working/custom/train\"  # Path for train folder\n",
        "val_folder_path = \"/content/data/working/custom/val\"  # Path for validation folder\n",
        "\n",
        "# Function to add 'train_folder' and 'val_folder' if they don't exist in the YAML\n",
        "def add_train_val_folders_to_yaml(yaml_file_path, train_folder_path, val_folder_path):\n",
        "    try:\n",
        "        # Check if YAML file exists\n",
        "        if not os.path.exists(yaml_file_path):\n",
        "            print(f\"YAML file {yaml_file_path} not found.\")\n",
        "            return\n",
        "\n",
        "        # Open the existing YAML file to read\n",
        "        with open(yaml_file_path, 'r') as file:\n",
        "            config = yaml.safe_load(file)  # Load the YAML file contents\n",
        "\n",
        "        # Ensure the 'data' section exists\n",
        "        if 'data' not in config:\n",
        "            config['data'] = {}\n",
        "\n",
        "        # Check if 'train_folder' is missing or empty, and add it\n",
        "        if 'train_folder' not in config['data'] or not config['data']['train_folder']:\n",
        "            config['data']['train_folder'] = train_folder_path\n",
        "            print(f\"Added 'train_folder' to {yaml_file_path}: {train_folder_path}\")\n",
        "\n",
        "        # Check if 'val_folder' is missing or empty, and add it\n",
        "        if 'val_folder' not in config['data'] or not config['data']['val_folder']:\n",
        "            config['data']['val_folder'] = val_folder_path\n",
        "            print(f\"Added 'val_folder' to {yaml_file_path}: {val_folder_path}\")\n",
        "\n",
        "        # Save the updated YAML configuration back to the file\n",
        "        with open(yaml_file_path, 'w') as file:\n",
        "            yaml.dump(config, file, default_flow_style=False)\n",
        "\n",
        "        print(f\"Configuration in {yaml_file_path} updated successfully.\")\n",
        "\n",
        "    except yaml.YAMLError as e:\n",
        "        print(f\"Error reading or writing YAML file {yaml_file_path}: {e}\")\n",
        "    except Exception as e:\n",
        "        print(f\"Error: {e}\")\n",
        "\n",
        "# Run the function to add train/val folders to the YAML\n",
        "add_train_val_folders_to_yaml(yaml_file_path, train_folder_path, val_folder_path)\n"
      ]
    },
    {
      "cell_type": "code",
      "execution_count": null,
      "metadata": {
        "colab": {
          "base_uri": "https://localhost:8080/"
        },
        "id": "YPLkaZVfeaqn",
        "outputId": "c033edce-fa12-40e8-fad8-6bd0592934cc"
      },
      "outputs": [
        {
          "name": "stdout",
          "output_type": "stream",
          "text": [
            "WARNING ⚠️ conflicting 'task=classify' passed with 'task=detect' model. Ignoring 'task=classify' and updating to 'task=detect' to match model.\n",
            "Ultralytics 8.3.111 🚀 Python-3.11.12 torch-2.6.0+cu124 CUDA:0 (Tesla T4, 15095MiB)\n",
            "\u001b[34m\u001b[1mengine/trainer: \u001b[0mtask=detect, mode=train, model=yolov10n.pt, data=/content/data/working/custom/data.yaml, epochs=10, time=None, patience=100, batch=16, imgsz=224, save=True, save_period=-1, cache=False, device=None, workers=8, project=None, name=maize_leaf_classifier7, exist_ok=False, pretrained=True, optimizer=auto, verbose=True, seed=0, deterministic=True, single_cls=False, rect=False, cos_lr=False, close_mosaic=10, resume=False, amp=True, fraction=1.0, profile=False, freeze=None, multi_scale=False, overlap_mask=True, mask_ratio=4, dropout=0.0, val=True, split=val, save_json=False, conf=None, iou=0.7, max_det=300, half=False, dnn=False, plots=True, source=None, vid_stride=1, stream_buffer=False, visualize=False, augment=False, agnostic_nms=False, classes=None, retina_masks=False, embed=None, show=False, save_frames=False, save_txt=False, save_conf=False, save_crop=False, show_labels=True, show_conf=True, show_boxes=True, line_width=None, format=torchscript, keras=False, optimize=False, int8=False, dynamic=False, simplify=True, opset=None, workspace=None, nms=False, lr0=0.01, lrf=0.01, momentum=0.937, weight_decay=0.0005, warmup_epochs=3.0, warmup_momentum=0.8, warmup_bias_lr=0.1, box=7.5, cls=0.5, dfl=1.5, pose=12.0, kobj=1.0, nbs=64, hsv_h=0.015, hsv_s=0.7, hsv_v=0.4, degrees=0.0, translate=0.1, scale=0.5, shear=0.0, perspective=0.0, flipud=0.0, fliplr=0.5, bgr=0.0, mosaic=1.0, mixup=0.0, copy_paste=0.0, copy_paste_mode=flip, auto_augment=randaugment, erasing=0.4, cfg=None, tracker=botsort.yaml, save_dir=runs/detect/maize_leaf_classifier7\n",
            "WARNING: All log messages before absl::InitializeLog() is called are written to STDERR\n",
            "E0000 00:00:1745056190.393589   46619 cuda_dnn.cc:8310] Unable to register cuDNN factory: Attempting to register factory for plugin cuDNN when one has already been registered\n",
            "E0000 00:00:1745056190.399988   46619 cuda_blas.cc:1418] Unable to register cuBLAS factory: Attempting to register factory for plugin cuBLAS when one has already been registered\n",
            "Overriding model.yaml nc=80 with nc=4\n",
            "\n",
            "                   from  n    params  module                                       arguments                     \n",
            "  0                  -1  1       464  ultralytics.nn.modules.conv.Conv             [3, 16, 3, 2]                 \n",
            "  1                  -1  1      4672  ultralytics.nn.modules.conv.Conv             [16, 32, 3, 2]                \n",
            "  2                  -1  1      7360  ultralytics.nn.modules.block.C2f             [32, 32, 1, True]             \n",
            "  3                  -1  1     18560  ultralytics.nn.modules.conv.Conv             [32, 64, 3, 2]                \n",
            "  4                  -1  2     49664  ultralytics.nn.modules.block.C2f             [64, 64, 2, True]             \n",
            "  5                  -1  1      9856  ultralytics.nn.modules.block.SCDown          [64, 128, 3, 2]               \n",
            "  6                  -1  2    197632  ultralytics.nn.modules.block.C2f             [128, 128, 2, True]           \n",
            "  7                  -1  1     36096  ultralytics.nn.modules.block.SCDown          [128, 256, 3, 2]              \n",
            "  8                  -1  1    460288  ultralytics.nn.modules.block.C2f             [256, 256, 1, True]           \n",
            "  9                  -1  1    164608  ultralytics.nn.modules.block.SPPF            [256, 256, 5]                 \n",
            " 10                  -1  1    249728  ultralytics.nn.modules.block.PSA             [256, 256]                    \n",
            " 11                  -1  1         0  torch.nn.modules.upsampling.Upsample         [None, 2, 'nearest']          \n",
            " 12             [-1, 6]  1         0  ultralytics.nn.modules.conv.Concat           [1]                           \n",
            " 13                  -1  1    148224  ultralytics.nn.modules.block.C2f             [384, 128, 1]                 \n",
            " 14                  -1  1         0  torch.nn.modules.upsampling.Upsample         [None, 2, 'nearest']          \n",
            " 15             [-1, 4]  1         0  ultralytics.nn.modules.conv.Concat           [1]                           \n",
            " 16                  -1  1     37248  ultralytics.nn.modules.block.C2f             [192, 64, 1]                  \n",
            " 17                  -1  1     36992  ultralytics.nn.modules.conv.Conv             [64, 64, 3, 2]                \n",
            " 18            [-1, 13]  1         0  ultralytics.nn.modules.conv.Concat           [1]                           \n",
            " 19                  -1  1    123648  ultralytics.nn.modules.block.C2f             [192, 128, 1]                 \n",
            " 20                  -1  1     18048  ultralytics.nn.modules.block.SCDown          [128, 128, 3, 2]              \n",
            " 21            [-1, 10]  1         0  ultralytics.nn.modules.conv.Concat           [1]                           \n",
            " 22                  -1  1    282624  ultralytics.nn.modules.block.C2fCIB          [384, 256, 1, True, True]     \n",
            " 23        [16, 19, 22]  1    862888  ultralytics.nn.modules.head.v10Detect        [4, [64, 128, 256]]           \n",
            "YOLOv10n summary: 223 layers, 2,708,600 parameters, 2,708,584 gradients, 8.4 GFLOPs\n",
            "\n",
            "Transferred 493/595 items from pretrained weights\n",
            "Freezing layer 'model.23.dfl.conv.weight'\n",
            "\u001b[34m\u001b[1mAMP: \u001b[0mrunning Automatic Mixed Precision (AMP) checks...\n",
            "\u001b[34m\u001b[1mAMP: \u001b[0mchecks passed ✅\n",
            "\u001b[34m\u001b[1mtrain: \u001b[0mFast image access ✅ (ping: 0.0±0.0 ms, read: 645.7±247.2 MB/s, size: 12.1 KB)\n",
            "\u001b[34m\u001b[1mtrain: \u001b[0mScanning /content/data/working/custom/train/Blight.cache... 0 images, 1824 backgrounds, 0 corrupt: 100% 1824/1824 [00:00<?, ?it/s]\n",
            "WARNING ⚠️ No labels found in /content/data/working/custom/train/Blight.cache, training may not work correctly. See https://docs.ultralytics.com/datasets for dataset formatting guidance.\n",
            "\u001b[34m\u001b[1malbumentations: \u001b[0mBlur(p=0.01, blur_limit=(3, 7)), MedianBlur(p=0.01, blur_limit=(3, 7)), ToGray(p=0.01, num_output_channels=3, method='weighted_average'), CLAHE(p=0.01, clip_limit=(1.0, 4.0), tile_grid_size=(8, 8))\n",
            "\u001b[34m\u001b[1mval: \u001b[0mFast image access ✅ (ping: 0.0±0.0 ms, read: 901.2±1209.5 MB/s, size: 77.1 KB)\n",
            "\u001b[34m\u001b[1mval: \u001b[0mScanning /content/data/working/custom/val/Blight.cache... 0 images, 1093 backgrounds, 0 corrupt: 100% 1093/1093 [00:00<?, ?it/s]\n",
            "WARNING ⚠️ No labels found in /content/data/working/custom/val/Blight.cache, training may not work correctly. See https://docs.ultralytics.com/datasets for dataset formatting guidance.\n",
            "Plotting labels to runs/detect/maize_leaf_classifier7/labels.jpg... \n",
            "zero-size array to reduction operation maximum which has no identity\n",
            "\u001b[34m\u001b[1moptimizer:\u001b[0m 'optimizer=auto' found, ignoring 'lr0=0.01' and 'momentum=0.937' and determining best 'optimizer', 'lr0' and 'momentum' automatically... \n",
            "\u001b[34m\u001b[1moptimizer:\u001b[0m AdamW(lr=0.00125, momentum=0.9) with parameter groups 95 weight(decay=0.0), 108 weight(decay=0.0005), 107 bias(decay=0.0)\n",
            "Image sizes 224 train, 224 val\n",
            "Using 2 dataloader workers\n",
            "Logging results to \u001b[1mruns/detect/maize_leaf_classifier7\u001b[0m\n",
            "Starting training for 10 epochs...\n",
            "Closing dataloader mosaic\n",
            "\u001b[34m\u001b[1malbumentations: \u001b[0mBlur(p=0.01, blur_limit=(3, 7)), MedianBlur(p=0.01, blur_limit=(3, 7)), ToGray(p=0.01, num_output_channels=3, method='weighted_average'), CLAHE(p=0.01, clip_limit=(1.0, 4.0), tile_grid_size=(8, 8))\n",
            "\n",
            "      Epoch    GPU_mem   box_loss   cls_loss   dfl_loss  Instances       Size\n",
            "       1/10     0.428G          0      26.64          0          0        224: 100% 114/114 [00:18<00:00,  6.10it/s]\n",
            "                 Class     Images  Instances      Box(P          R      mAP50  mAP50-95): 100% 35/35 [00:06<00:00,  5.45it/s]\n",
            "/usr/local/lib/python3.11/dist-packages/ultralytics/utils/metrics.py:655: RuntimeWarning: Mean of empty slice.\n",
            "  i = smooth(f1_curve.mean(0), 0.1).argmax()  # max F1 index\n",
            "/usr/local/lib/python3.11/dist-packages/numpy/_core/_methods.py:130: RuntimeWarning: invalid value encountered in divide\n",
            "  ret = um.true_divide(\n",
            "                   all       1093          0          0          0          0          0\n",
            "WARNING ⚠️ no labels found in detect set, can not compute metrics without labels\n",
            "\n",
            "      Epoch    GPU_mem   box_loss   cls_loss   dfl_loss  Instances       Size\n",
            "       2/10     0.443G          0         18          0          0        224: 100% 114/114 [00:15<00:00,  7.15it/s]\n",
            "                 Class     Images  Instances      Box(P          R      mAP50  mAP50-95): 100% 35/35 [00:03<00:00, 10.56it/s]\n",
            "/usr/local/lib/python3.11/dist-packages/ultralytics/utils/metrics.py:655: RuntimeWarning: Mean of empty slice.\n",
            "  i = smooth(f1_curve.mean(0), 0.1).argmax()  # max F1 index\n",
            "/usr/local/lib/python3.11/dist-packages/numpy/_core/_methods.py:130: RuntimeWarning: invalid value encountered in divide\n",
            "  ret = um.true_divide(\n",
            "                   all       1093          0          0          0          0          0\n",
            "WARNING ⚠️ no labels found in detect set, can not compute metrics without labels\n",
            "\n",
            "      Epoch    GPU_mem   box_loss   cls_loss   dfl_loss  Instances       Size\n",
            "       3/10     0.459G          0       11.4          0          0        224:  94% 107/114 [00:14<00:00,  7.48it/s]\n",
            "Traceback (most recent call last):\n",
            "  File \"/usr/local/bin/yolo\", line 8, in <module>\n",
            "    sys.exit(entrypoint())\n",
            "             ^^^^^^^^^^^^\n",
            "  File \"/usr/local/lib/python3.11/dist-packages/ultralytics/cfg/__init__.py\", line 989, in entrypoint\n",
            "    getattr(model, mode)(**overrides)  # default args from model\n",
            "    ^^^^^^^^^^^^^^^^^^^^^^^^^^^^^^^^^\n",
            "  File \"/usr/local/lib/python3.11/dist-packages/ultralytics/engine/model.py\", line 791, in train\n",
            "    self.trainer.train()\n",
            "  File \"/usr/local/lib/python3.11/dist-packages/ultralytics/engine/trainer.py\", line 211, in train\n",
            "    self._do_train(world_size)\n",
            "  File \"/usr/local/lib/python3.11/dist-packages/ultralytics/engine/trainer.py\", line 367, in _do_train\n",
            "    for i, batch in pbar:\n",
            "  File \"/usr/local/lib/python3.11/dist-packages/tqdm/std.py\", line 1181, in __iter__\n",
            "    for obj in iterable:\n",
            "  File \"/usr/local/lib/python3.11/dist-packages/ultralytics/data/build.py\", line 59, in __iter__\n",
            "    yield next(self.iterator)\n",
            "          ^^^^^^^^^^^^^^^^^^^\n",
            "  File \"/usr/local/lib/python3.11/dist-packages/torch/utils/data/dataloader.py\", line 708, in __next__\n",
            "    data = self._next_data()\n",
            "           ^^^^^^^^^^^^^^^^^\n",
            "  File \"/usr/local/lib/python3.11/dist-packages/torch/utils/data/dataloader.py\", line 1458, in _next_data\n",
            "    idx, data = self._get_data()\n",
            "                ^^^^^^^^^^^^^^^^\n",
            "  File \"/usr/local/lib/python3.11/dist-packages/torch/utils/data/dataloader.py\", line 1410, in _get_data\n",
            "    success, data = self._try_get_data()\n",
            "                    ^^^^^^^^^^^^^^^^^^^^\n",
            "  File \"/usr/local/lib/python3.11/dist-packages/torch/utils/data/dataloader.py\", line 1251, in _try_get_data\n",
            "    data = self._data_queue.get(timeout=timeout)\n",
            "           ^^^^^^^^^^^^^^^^^^^^^^^^^^^^^^^^^^^^^\n",
            "  File \"/usr/lib/python3.11/queue.py\", line 180, in get\n",
            "    self.not_empty.wait(remaining)\n",
            "  File \"/usr/lib/python3.11/threading.py\", line 331, in wait\n",
            "    gotit = waiter.acquire(True, timeout)\n",
            "            ^^^^^^^^^^^^^^^^^^^^^^^^^^^^^\n",
            "KeyboardInterrupt\n"
          ]
        }
      ],
      "source": [
        "!yolo task=classify mode=train model=yolov10n.pt data=/content/data/working/custom/data.yaml epochs=10 imgsz=224 name=maize_leaf_classifier\n"
      ]
    },
    {
      "cell_type": "code",
      "execution_count": null,
      "metadata": {
        "id": "GL0e4SyUGvIT"
      },
      "outputs": [],
      "source": [
        "# prompt: code to train yolov 10. use this sample\n",
        "\n",
        "# This code assumes the preceding code has already been executed and the necessary setup is complete.\n",
        "# You'll need to adapt file paths if your setup is different.\n",
        "\n",
        "# Example usage of the trained model (optional):\n",
        "# model = YOLO(\"runs/detect/train/weights/best.pt\")  # Replace with the actual path to your trained weights file\n",
        "# results = model.predict(source=\"path/to/your/images\", save=True)  # Replace with your image or video path\n"
      ]
    },
    {
      "cell_type": "code",
      "execution_count": null,
      "metadata": {
        "colab": {
          "base_uri": "https://localhost:8080/",
          "height": 1000
        },
        "id": "L_p43gigG-r7",
        "outputId": "d31d576a-810e-4d2e-aacb-ee0e4fa4f8ba"
      },
      "outputs": [
        {
          "ename": "SyntaxError",
          "evalue": "'\u001b[31m\u001b[1mtrain\u001b[0m' is not a valid YOLO argument. Similar arguments are i.e. ['pretrained=True', 'erasing=0.4', 'fraction=1.0'].\n\n    Arguments received: ['yolo', '-f', '/root/.local/share/jupyter/runtime/kernel-337181e7-2b70-4855-b6a1-4b6c9f8595bd.json']. Ultralytics 'yolo' commands use the following syntax:\n\n        yolo TASK MODE ARGS\n\n        Where   TASK (optional) is one of frozenset({'classify', 'pose', 'segment', 'obb', 'detect'})\n                MODE (required) is one of frozenset({'train', 'predict', 'track', 'benchmark', 'val', 'export'})\n                ARGS (optional) are any number of custom 'arg=value' pairs like 'imgsz=320' that override defaults.\n                    See all ARGS at https://docs.ultralytics.com/usage/cfg or with 'yolo cfg'\n\n    1. Train a detection model for 10 epochs with an initial learning_rate of 0.01\n        yolo train data=coco8.yaml model=yolo11n.pt epochs=10 lr0=0.01\n\n    2. Predict a YouTube video using a pretrained segmentation model at image size 320:\n        yolo predict model=yolo11n-seg.pt source='https://youtu.be/LNwODJXcvt4' imgsz=320\n\n    3. Val a pretrained detection model at batch-size 1 and image size 640:\n        yolo val model=yolo11n.pt data=coco8.yaml batch=1 imgsz=640\n\n    4. Export a YOLO11n classification model to ONNX format at image size 224 by 128 (no TASK required)\n        yolo export model=yolo11n-cls.pt format=onnx imgsz=224,128\n\n    5. Ultralytics solutions usage\n        yolo solutions count or in ['crop', 'blur', 'workout', 'heatmap', 'isegment', 'visioneye', 'speed', 'queue', 'analytics', 'inference', 'trackzone'] source=\"path/to/video.mp4\"\n\n    6. Run special commands:\n        yolo help\n        yolo checks\n        yolo version\n        yolo settings\n        yolo copy-cfg\n        yolo cfg\n        yolo solutions help\n\n    Docs: https://docs.ultralytics.com\n    Solutions: https://docs.ultralytics.com/solutions/\n    Community: https://community.ultralytics.com\n    GitHub: https://github.com/ultralytics/ultralytics\n     (<string>)",
          "output_type": "error",
          "traceback": [
            "Traceback \u001b[0;36m(most recent call last)\u001b[0m:\n",
            "  File \u001b[1;32m\"/usr/local/lib/python3.11/dist-packages/IPython/core/interactiveshell.py\"\u001b[0m, line \u001b[1;32m3553\u001b[0m, in \u001b[1;35mrun_code\u001b[0m\n    exec(code_obj, self.user_global_ns, self.user_ns)\n",
            "  File \u001b[1;32m\"<ipython-input-57-21661f32bd5c>\"\u001b[0m, line \u001b[1;32m13\u001b[0m, in \u001b[1;35m<cell line: 0>\u001b[0m\n    model.train(\n",
            "  File \u001b[1;32m\"/usr/local/lib/python3.11/dist-packages/ultralytics/engine/model.py\"\u001b[0m, line \u001b[1;32m785\u001b[0m, in \u001b[1;35mtrain\u001b[0m\n    self.trainer = (trainer or self._smart_load(\"trainer\"))(overrides=args, _callbacks=self.callbacks)\n",
            "  File \u001b[1;32m\"/usr/local/lib/python3.11/dist-packages/ultralytics/engine/trainer.py\"\u001b[0m, line \u001b[1;32m105\u001b[0m, in \u001b[1;35m__init__\u001b[0m\n    self.args = get_cfg(cfg, overrides)\n",
            "  File \u001b[1;32m\"/usr/local/lib/python3.11/dist-packages/ultralytics/cfg/__init__.py\"\u001b[0m, line \u001b[1;32m309\u001b[0m, in \u001b[1;35mget_cfg\u001b[0m\n    check_dict_alignment(cfg, overrides)\n",
            "\u001b[0;36m  File \u001b[0;32m\"/usr/local/lib/python3.11/dist-packages/ultralytics/cfg/__init__.py\"\u001b[0;36m, line \u001b[0;32m499\u001b[0;36m, in \u001b[0;35mcheck_dict_alignment\u001b[0;36m\u001b[0m\n\u001b[0;31m    raise SyntaxError(string + CLI_HELP_MSG) from e\u001b[0m\n",
            "\u001b[0;36m  File \u001b[0;32m\"<string>\"\u001b[0;36m, line \u001b[0;32munknown\u001b[0m\n\u001b[0;31mSyntaxError\u001b[0m\u001b[0;31m:\u001b[0m '\u001b[31m\u001b[1mtrain\u001b[0m' is not a valid YOLO argument. Similar arguments are i.e. ['pretrained=True', 'erasing=0.4', 'fraction=1.0'].\n\n    Arguments received: ['yolo', '-f', '/root/.local/share/jupyter/runtime/kernel-337181e7-2b70-4855-b6a1-4b6c9f8595bd.json']. Ultralytics 'yolo' commands use the following syntax:\n\n        yolo TASK MODE ARGS\n\n        Where   TASK (optional) is one of frozenset({'classify', 'pose', 'segment', 'obb', 'detect'})\n                MODE (required) is one of frozenset({'train', 'predict', 'track', 'benchmark', 'val', 'export'})\n                ARGS (optional) are any number of custom 'arg=value' pairs like 'imgsz=320' that override defaults.\n                    See all ARGS at https://docs.ultralytics.com/usage/cfg or with 'yolo cfg'\n\n    1. Train a detection model for 10 epochs with an initial learning_rate of 0.01\n        yolo train data=coco8.yaml model=yolo11n.pt epochs=10 lr0=0.01\n\n    2. Predict a YouTube video using a pretrained segmentation model at image size 320:\n        yolo predict model=yolo11n-seg.pt source='https://youtu.be/LNwODJXcvt4' imgsz=320\n\n    3. Val a pretrained detection model at batch-size 1 and image size 640:\n        yolo val model=yolo11n.pt data=coco8.yaml batch=1 imgsz=640\n\n    4. Export a YOLO11n classification model to ONNX format at image size 224 by 128 (no TASK required)\n        yolo export model=yolo11n-cls.pt format=onnx imgsz=224,128\n\n    5. Ultralytics solutions usage\n        yolo solutions count or in ['crop', 'blur', 'workout', 'heatmap', 'isegment', 'visioneye', 'speed', 'queue', 'analytics', 'inference', 'trackzone'] source=\"path/to/video.mp4\"\n\n    6. Run special commands:\n        yolo help\n        yolo checks\n        yolo version\n        yolo settings\n        yolo copy-cfg\n        yolo cfg\n        yolo solutions help\n\n    Docs: https://docs.ultralytics.com\n    Solutions: https://docs.ultralytics.com/solutions/\n    Community: https://community.ultralytics.com\n    GitHub: https://github.com/ultralytics/ultralytics\n    \n"
          ]
        }
      ],
      "source": [
        "from ultralytics import YOLO\n",
        "\n",
        "# Import wandb for experiment tracking\n",
        "import wandb\n",
        "\n",
        "# Initialize wandb in disabled mode (useful for testing or if you don't want to log to wandb)\n",
        "wandb.init(mode=\"disabled\")\n",
        "\n",
        "# Load a pretrained YOLO model (recommended for training)\n",
        "model = YOLO(\"yolov10n.pt\")\n",
        "\n",
        "# Train the model on the custom dataset for a specified number of epochs\n",
        "model.train(\n",
        "    data='/content/data/working/custom/data.yaml',\n",
        "\n",
        "    epochs=200,         # Increased epochs for better learning\n",
        "    patience=10,        # Stop early if no improvement after 10 epochs\n",
        "    batch=32,           # Adjust batch size based on GPU memory\n",
        "    weight_decay=5e-4,  # Helps prevent overfitting\n",
        "    device=0,           # Use GPU if available\n",
        "    imgsz=(256,256),    # Adjust image size based on model\n",
        ")\n",
        "metrics = model.val()\n"
      ]
    },
    {
      "cell_type": "code",
      "execution_count": null,
      "metadata": {
        "colab": {
          "base_uri": "https://localhost:8080/",
          "height": 1000
        },
        "id": "3THePqnu1gPN",
        "outputId": "e772e978-e75a-4265-f73a-1c4bf29a1a14"
      },
      "outputs": [
        {
          "name": "stdout",
          "output_type": "stream",
          "text": [
            "Ultralytics 8.3.111 🚀 Python-3.11.12 torch-2.6.0+cu124 CUDA:0 (Tesla T4, 15095MiB)\n",
            "\u001b[34m\u001b[1mengine/trainer: \u001b[0mtask=detect, mode=train, model=yolov10n.pt, data=/content/custom_dataset.yaml, epochs=200, time=None, patience=10, batch=32, imgsz=(256, 256), save=True, save_period=-1, cache=False, device=0, workers=8, project=None, name=train11, exist_ok=False, pretrained=True, optimizer=auto, verbose=True, seed=0, deterministic=True, single_cls=False, rect=False, cos_lr=False, close_mosaic=10, resume=False, amp=True, fraction=1.0, profile=False, freeze=None, multi_scale=False, overlap_mask=True, mask_ratio=4, dropout=0.0, val=True, split=val, save_json=False, conf=0.25, iou=0.7, max_det=300, half=False, dnn=False, plots=True, source=None, vid_stride=1, stream_buffer=False, visualize=False, augment=False, agnostic_nms=False, classes=None, retina_masks=False, embed=None, show=False, save_frames=False, save_txt=False, save_conf=False, save_crop=False, show_labels=True, show_conf=True, show_boxes=True, line_width=None, format=torchscript, keras=False, optimize=False, int8=False, dynamic=False, simplify=True, opset=None, workspace=None, nms=False, lr0=0.01, lrf=0.01, momentum=0.937, weight_decay=0.0005, warmup_epochs=3.0, warmup_momentum=0.8, warmup_bias_lr=0.1, box=7.5, cls=0.5, dfl=1.5, pose=12.0, kobj=1.0, nbs=64, hsv_h=0.015, hsv_s=0.7, hsv_v=0.4, degrees=0.0, translate=0.1, scale=0.5, shear=0.0, perspective=0.0, flipud=0.0, fliplr=0.5, bgr=0.0, mosaic=1.0, mixup=0.0, copy_paste=0.0, copy_paste_mode=flip, auto_augment=randaugment, erasing=0.4, cfg=None, tracker=botsort.yaml, save_dir=runs/detect/train11\n",
            "Overriding model.yaml nc=80 with nc=4\n",
            "\n",
            "                   from  n    params  module                                       arguments                     \n",
            "  0                  -1  1       464  ultralytics.nn.modules.conv.Conv             [3, 16, 3, 2]                 \n",
            "  1                  -1  1      4672  ultralytics.nn.modules.conv.Conv             [16, 32, 3, 2]                \n",
            "  2                  -1  1      7360  ultralytics.nn.modules.block.C2f             [32, 32, 1, True]             \n",
            "  3                  -1  1     18560  ultralytics.nn.modules.conv.Conv             [32, 64, 3, 2]                \n",
            "  4                  -1  2     49664  ultralytics.nn.modules.block.C2f             [64, 64, 2, True]             \n",
            "  5                  -1  1      9856  ultralytics.nn.modules.block.SCDown          [64, 128, 3, 2]               \n",
            "  6                  -1  2    197632  ultralytics.nn.modules.block.C2f             [128, 128, 2, True]           \n",
            "  7                  -1  1     36096  ultralytics.nn.modules.block.SCDown          [128, 256, 3, 2]              \n",
            "  8                  -1  1    460288  ultralytics.nn.modules.block.C2f             [256, 256, 1, True]           \n",
            "  9                  -1  1    164608  ultralytics.nn.modules.block.SPPF            [256, 256, 5]                 \n",
            " 10                  -1  1    249728  ultralytics.nn.modules.block.PSA             [256, 256]                    \n",
            " 11                  -1  1         0  torch.nn.modules.upsampling.Upsample         [None, 2, 'nearest']          \n",
            " 12             [-1, 6]  1         0  ultralytics.nn.modules.conv.Concat           [1]                           \n",
            " 13                  -1  1    148224  ultralytics.nn.modules.block.C2f             [384, 128, 1]                 \n",
            " 14                  -1  1         0  torch.nn.modules.upsampling.Upsample         [None, 2, 'nearest']          \n",
            " 15             [-1, 4]  1         0  ultralytics.nn.modules.conv.Concat           [1]                           \n",
            " 16                  -1  1     37248  ultralytics.nn.modules.block.C2f             [192, 64, 1]                  \n",
            " 17                  -1  1     36992  ultralytics.nn.modules.conv.Conv             [64, 64, 3, 2]                \n",
            " 18            [-1, 13]  1         0  ultralytics.nn.modules.conv.Concat           [1]                           \n",
            " 19                  -1  1    123648  ultralytics.nn.modules.block.C2f             [192, 128, 1]                 \n",
            " 20                  -1  1     18048  ultralytics.nn.modules.block.SCDown          [128, 128, 3, 2]              \n",
            " 21            [-1, 10]  1         0  ultralytics.nn.modules.conv.Concat           [1]                           \n",
            " 22                  -1  1    282624  ultralytics.nn.modules.block.C2fCIB          [384, 256, 1, True, True]     \n",
            " 23        [16, 19, 22]  1    862888  ultralytics.nn.modules.head.v10Detect        [4, [64, 128, 256]]           \n",
            "YOLOv10n summary: 223 layers, 2,708,600 parameters, 2,708,584 gradients, 8.4 GFLOPs\n",
            "\n",
            "Transferred 493/595 items from pretrained weights\n",
            "Freezing layer 'model.23.dfl.conv.weight'\n",
            "\u001b[34m\u001b[1mAMP: \u001b[0mrunning Automatic Mixed Precision (AMP) checks...\n",
            "\u001b[34m\u001b[1mAMP: \u001b[0mchecks passed ✅\n",
            "WARNING ⚠️ updating to 'imgsz=256'. 'train' and 'val' imgsz must be an integer, while 'predict' and 'export' imgsz may be a [h, w] list or an integer, i.e. 'yolo export imgsz=640,480' or 'yolo export imgsz=640'\n",
            "\u001b[34m\u001b[1mtrain: \u001b[0mFast image access ✅ (ping: 0.0±0.0 ms, read: 652.3±255.9 MB/s, size: 12.1 KB)\n"
          ]
        },
        {
          "name": "stderr",
          "output_type": "stream",
          "text": [
            "\u001b[34m\u001b[1mtrain: \u001b[0mScanning /content/data/working/custom/train/Blight.cache... 0 images, 1824 backgrounds, 0 corrupt: 100%|██████████| 1824/1824 [00:00<?, ?it/s]"
          ]
        },
        {
          "name": "stdout",
          "output_type": "stream",
          "text": [
            "WARNING ⚠️ No labels found in /content/data/working/custom/train/Blight.cache, training may not work correctly. See https://docs.ultralytics.com/datasets for dataset formatting guidance.\n",
            "\u001b[34m\u001b[1malbumentations: \u001b[0mBlur(p=0.01, blur_limit=(3, 7)), MedianBlur(p=0.01, blur_limit=(3, 7)), ToGray(p=0.01, num_output_channels=3, method='weighted_average'), CLAHE(p=0.01, clip_limit=(1.0, 4.0), tile_grid_size=(8, 8))\n"
          ]
        },
        {
          "name": "stderr",
          "output_type": "stream",
          "text": [
            "\n"
          ]
        },
        {
          "name": "stdout",
          "output_type": "stream",
          "text": [
            "\u001b[34m\u001b[1mval: \u001b[0mFast image access ✅ (ping: 0.0±0.0 ms, read: 747.4±916.8 MB/s, size: 77.1 KB)\n"
          ]
        },
        {
          "name": "stderr",
          "output_type": "stream",
          "text": [
            "\u001b[34m\u001b[1mval: \u001b[0mScanning /content/data/working/custom/val/Blight.cache... 0 images, 1093 backgrounds, 0 corrupt: 100%|██████████| 1093/1093 [00:00<?, ?it/s]"
          ]
        },
        {
          "name": "stdout",
          "output_type": "stream",
          "text": [
            "WARNING ⚠️ No labels found in /content/data/working/custom/val/Blight.cache, training may not work correctly. See https://docs.ultralytics.com/datasets for dataset formatting guidance.\n"
          ]
        },
        {
          "name": "stderr",
          "output_type": "stream",
          "text": [
            "\n"
          ]
        },
        {
          "name": "stdout",
          "output_type": "stream",
          "text": [
            "Plotting labels to runs/detect/train11/labels.jpg... \n",
            "zero-size array to reduction operation maximum which has no identity\n",
            "\u001b[34m\u001b[1moptimizer:\u001b[0m 'optimizer=auto' found, ignoring 'lr0=0.01' and 'momentum=0.937' and determining best 'optimizer', 'lr0' and 'momentum' automatically... \n",
            "\u001b[34m\u001b[1moptimizer:\u001b[0m AdamW(lr=0.00125, momentum=0.9) with parameter groups 95 weight(decay=0.0), 108 weight(decay=0.0005), 107 bias(decay=0.0)\n",
            "Image sizes 256 train, 256 val\n",
            "Using 2 dataloader workers\n",
            "Logging results to \u001b[1mruns/detect/train11\u001b[0m\n",
            "Starting training for 200 epochs...\n",
            "\n",
            "      Epoch    GPU_mem   box_loss   cls_loss   dfl_loss  Instances       Size\n"
          ]
        },
        {
          "name": "stderr",
          "output_type": "stream",
          "text": [
            "      1/200      4.36G          0      73.78          0          0        256: 100%|██████████| 57/57 [00:14<00:00,  3.91it/s]\n",
            "                 Class     Images  Instances      Box(P          R      mAP50  mAP50-95): 100%|██████████| 18/18 [00:03<00:00,  5.44it/s]"
          ]
        },
        {
          "name": "stdout",
          "output_type": "stream",
          "text": [
            "                   all       1093          0          0          0          0          0\n",
            "WARNING ⚠️ no labels found in detect set, can not compute metrics without labels\n"
          ]
        },
        {
          "name": "stderr",
          "output_type": "stream",
          "text": [
            "\n",
            "/usr/local/lib/python3.11/dist-packages/ultralytics/utils/metrics.py:655: RuntimeWarning: Mean of empty slice.\n",
            "  i = smooth(f1_curve.mean(0), 0.1).argmax()  # max F1 index\n",
            "/usr/local/lib/python3.11/dist-packages/numpy/_core/_methods.py:130: RuntimeWarning: invalid value encountered in divide\n",
            "  ret = um.true_divide(\n"
          ]
        },
        {
          "name": "stdout",
          "output_type": "stream",
          "text": [
            "\n",
            "      Epoch    GPU_mem   box_loss   cls_loss   dfl_loss  Instances       Size\n"
          ]
        },
        {
          "name": "stderr",
          "output_type": "stream",
          "text": [
            "      2/200      4.36G          0      50.54          0          0        256: 100%|██████████| 57/57 [00:11<00:00,  4.76it/s]\n",
            "                 Class     Images  Instances      Box(P          R      mAP50  mAP50-95): 100%|██████████| 18/18 [00:04<00:00,  4.25it/s]"
          ]
        },
        {
          "name": "stdout",
          "output_type": "stream",
          "text": [
            "                   all       1093          0          0          0          0          0\n",
            "WARNING ⚠️ no labels found in detect set, can not compute metrics without labels\n"
          ]
        },
        {
          "name": "stderr",
          "output_type": "stream",
          "text": [
            "\n",
            "/usr/local/lib/python3.11/dist-packages/ultralytics/utils/metrics.py:655: RuntimeWarning: Mean of empty slice.\n",
            "  i = smooth(f1_curve.mean(0), 0.1).argmax()  # max F1 index\n",
            "/usr/local/lib/python3.11/dist-packages/numpy/_core/_methods.py:130: RuntimeWarning: invalid value encountered in divide\n",
            "  ret = um.true_divide(\n"
          ]
        },
        {
          "name": "stdout",
          "output_type": "stream",
          "text": [
            "\n",
            "      Epoch    GPU_mem   box_loss   cls_loss   dfl_loss  Instances       Size\n"
          ]
        },
        {
          "name": "stderr",
          "output_type": "stream",
          "text": [
            "      3/200      4.36G          0       33.5          0          0        256: 100%|██████████| 57/57 [00:11<00:00,  4.93it/s]\n",
            "                 Class     Images  Instances      Box(P          R      mAP50  mAP50-95): 100%|██████████| 18/18 [00:03<00:00,  5.95it/s]\n"
          ]
        },
        {
          "ename": "RuntimeError",
          "evalue": "torch.cat(): expected a non-empty list of Tensors",
          "output_type": "error",
          "traceback": [
            "\u001b[0;31m---------------------------------------------------------------------------\u001b[0m",
            "\u001b[0;31mRuntimeError\u001b[0m                              Traceback (most recent call last)",
            "\u001b[0;32m<ipython-input-26-dc1f4d404f58>\u001b[0m in \u001b[0;36m<cell line: 0>\u001b[0;34m()\u001b[0m\n\u001b[1;32m     25\u001b[0m \u001b[0;34m\u001b[0m\u001b[0m\n\u001b[1;32m     26\u001b[0m \u001b[0;31m# Train the model using the YAML file\u001b[0m\u001b[0;34m\u001b[0m\u001b[0;34m\u001b[0m\u001b[0m\n\u001b[0;32m---> 27\u001b[0;31m model.train(\n\u001b[0m\u001b[1;32m     28\u001b[0m     \u001b[0mdata\u001b[0m\u001b[0;34m=\u001b[0m\u001b[0;34m'/content/custom_dataset.yaml'\u001b[0m\u001b[0;34m,\u001b[0m  \u001b[0;31m# Path to your YAML file\u001b[0m\u001b[0;34m\u001b[0m\u001b[0;34m\u001b[0m\u001b[0m\n\u001b[1;32m     29\u001b[0m     \u001b[0mepochs\u001b[0m\u001b[0;34m=\u001b[0m\u001b[0;36m200\u001b[0m\u001b[0;34m,\u001b[0m\u001b[0;34m\u001b[0m\u001b[0;34m\u001b[0m\u001b[0m\n",
            "\u001b[0;32m/usr/local/lib/python3.11/dist-packages/ultralytics/engine/model.py\u001b[0m in \u001b[0;36mtrain\u001b[0;34m(self, trainer, **kwargs)\u001b[0m\n\u001b[1;32m    789\u001b[0m \u001b[0;34m\u001b[0m\u001b[0m\n\u001b[1;32m    790\u001b[0m         \u001b[0mself\u001b[0m\u001b[0;34m.\u001b[0m\u001b[0mtrainer\u001b[0m\u001b[0;34m.\u001b[0m\u001b[0mhub_session\u001b[0m \u001b[0;34m=\u001b[0m \u001b[0mself\u001b[0m\u001b[0;34m.\u001b[0m\u001b[0msession\u001b[0m  \u001b[0;31m# attach optional HUB session\u001b[0m\u001b[0;34m\u001b[0m\u001b[0;34m\u001b[0m\u001b[0m\n\u001b[0;32m--> 791\u001b[0;31m         \u001b[0mself\u001b[0m\u001b[0;34m.\u001b[0m\u001b[0mtrainer\u001b[0m\u001b[0;34m.\u001b[0m\u001b[0mtrain\u001b[0m\u001b[0;34m(\u001b[0m\u001b[0;34m)\u001b[0m\u001b[0;34m\u001b[0m\u001b[0;34m\u001b[0m\u001b[0m\n\u001b[0m\u001b[1;32m    792\u001b[0m         \u001b[0;31m# Update model and cfg after training\u001b[0m\u001b[0;34m\u001b[0m\u001b[0;34m\u001b[0m\u001b[0m\n\u001b[1;32m    793\u001b[0m         \u001b[0;32mif\u001b[0m \u001b[0mRANK\u001b[0m \u001b[0;32min\u001b[0m \u001b[0;34m{\u001b[0m\u001b[0;34m-\u001b[0m\u001b[0;36m1\u001b[0m\u001b[0;34m,\u001b[0m \u001b[0;36m0\u001b[0m\u001b[0;34m}\u001b[0m\u001b[0;34m:\u001b[0m\u001b[0;34m\u001b[0m\u001b[0;34m\u001b[0m\u001b[0m\n",
            "\u001b[0;32m/usr/local/lib/python3.11/dist-packages/ultralytics/engine/trainer.py\u001b[0m in \u001b[0;36mtrain\u001b[0;34m(self)\u001b[0m\n\u001b[1;32m    209\u001b[0m \u001b[0;34m\u001b[0m\u001b[0m\n\u001b[1;32m    210\u001b[0m         \u001b[0;32melse\u001b[0m\u001b[0;34m:\u001b[0m\u001b[0;34m\u001b[0m\u001b[0;34m\u001b[0m\u001b[0m\n\u001b[0;32m--> 211\u001b[0;31m             \u001b[0mself\u001b[0m\u001b[0;34m.\u001b[0m\u001b[0m_do_train\u001b[0m\u001b[0;34m(\u001b[0m\u001b[0mworld_size\u001b[0m\u001b[0;34m)\u001b[0m\u001b[0;34m\u001b[0m\u001b[0;34m\u001b[0m\u001b[0m\n\u001b[0m\u001b[1;32m    212\u001b[0m \u001b[0;34m\u001b[0m\u001b[0m\n\u001b[1;32m    213\u001b[0m     \u001b[0;32mdef\u001b[0m \u001b[0m_setup_scheduler\u001b[0m\u001b[0;34m(\u001b[0m\u001b[0mself\u001b[0m\u001b[0;34m)\u001b[0m\u001b[0;34m:\u001b[0m\u001b[0;34m\u001b[0m\u001b[0;34m\u001b[0m\u001b[0m\n",
            "\u001b[0;32m/usr/local/lib/python3.11/dist-packages/ultralytics/engine/trainer.py\u001b[0m in \u001b[0;36m_do_train\u001b[0;34m(self, world_size)\u001b[0m\n\u001b[1;32m    436\u001b[0m                 \u001b[0;31m# Validation\u001b[0m\u001b[0;34m\u001b[0m\u001b[0;34m\u001b[0m\u001b[0m\n\u001b[1;32m    437\u001b[0m                 \u001b[0;32mif\u001b[0m \u001b[0mself\u001b[0m\u001b[0;34m.\u001b[0m\u001b[0margs\u001b[0m\u001b[0;34m.\u001b[0m\u001b[0mval\u001b[0m \u001b[0;32mor\u001b[0m \u001b[0mfinal_epoch\u001b[0m \u001b[0;32mor\u001b[0m \u001b[0mself\u001b[0m\u001b[0;34m.\u001b[0m\u001b[0mstopper\u001b[0m\u001b[0;34m.\u001b[0m\u001b[0mpossible_stop\u001b[0m \u001b[0;32mor\u001b[0m \u001b[0mself\u001b[0m\u001b[0;34m.\u001b[0m\u001b[0mstop\u001b[0m\u001b[0;34m:\u001b[0m\u001b[0;34m\u001b[0m\u001b[0;34m\u001b[0m\u001b[0m\n\u001b[0;32m--> 438\u001b[0;31m                     \u001b[0mself\u001b[0m\u001b[0;34m.\u001b[0m\u001b[0mmetrics\u001b[0m\u001b[0;34m,\u001b[0m \u001b[0mself\u001b[0m\u001b[0;34m.\u001b[0m\u001b[0mfitness\u001b[0m \u001b[0;34m=\u001b[0m \u001b[0mself\u001b[0m\u001b[0;34m.\u001b[0m\u001b[0mvalidate\u001b[0m\u001b[0;34m(\u001b[0m\u001b[0;34m)\u001b[0m\u001b[0;34m\u001b[0m\u001b[0;34m\u001b[0m\u001b[0m\n\u001b[0m\u001b[1;32m    439\u001b[0m                 \u001b[0mself\u001b[0m\u001b[0;34m.\u001b[0m\u001b[0msave_metrics\u001b[0m\u001b[0;34m(\u001b[0m\u001b[0mmetrics\u001b[0m\u001b[0;34m=\u001b[0m\u001b[0;34m{\u001b[0m\u001b[0;34m**\u001b[0m\u001b[0mself\u001b[0m\u001b[0;34m.\u001b[0m\u001b[0mlabel_loss_items\u001b[0m\u001b[0;34m(\u001b[0m\u001b[0mself\u001b[0m\u001b[0;34m.\u001b[0m\u001b[0mtloss\u001b[0m\u001b[0;34m)\u001b[0m\u001b[0;34m,\u001b[0m \u001b[0;34m**\u001b[0m\u001b[0mself\u001b[0m\u001b[0;34m.\u001b[0m\u001b[0mmetrics\u001b[0m\u001b[0;34m,\u001b[0m \u001b[0;34m**\u001b[0m\u001b[0mself\u001b[0m\u001b[0;34m.\u001b[0m\u001b[0mlr\u001b[0m\u001b[0;34m}\u001b[0m\u001b[0;34m)\u001b[0m\u001b[0;34m\u001b[0m\u001b[0;34m\u001b[0m\u001b[0m\n\u001b[1;32m    440\u001b[0m                 \u001b[0mself\u001b[0m\u001b[0;34m.\u001b[0m\u001b[0mstop\u001b[0m \u001b[0;34m|=\u001b[0m \u001b[0mself\u001b[0m\u001b[0;34m.\u001b[0m\u001b[0mstopper\u001b[0m\u001b[0;34m(\u001b[0m\u001b[0mepoch\u001b[0m \u001b[0;34m+\u001b[0m \u001b[0;36m1\u001b[0m\u001b[0;34m,\u001b[0m \u001b[0mself\u001b[0m\u001b[0;34m.\u001b[0m\u001b[0mfitness\u001b[0m\u001b[0;34m)\u001b[0m \u001b[0;32mor\u001b[0m \u001b[0mfinal_epoch\u001b[0m\u001b[0;34m\u001b[0m\u001b[0;34m\u001b[0m\u001b[0m\n",
            "\u001b[0;32m/usr/local/lib/python3.11/dist-packages/ultralytics/engine/trainer.py\u001b[0m in \u001b[0;36mvalidate\u001b[0;34m(self)\u001b[0m\n\u001b[1;32m    633\u001b[0m             \u001b[0;34m(\u001b[0m\u001b[0mtuple\u001b[0m\u001b[0;34m)\u001b[0m\u001b[0;34m:\u001b[0m \u001b[0mA\u001b[0m \u001b[0mtuple\u001b[0m \u001b[0mcontaining\u001b[0m \u001b[0mmetrics\u001b[0m \u001b[0mdictionary\u001b[0m \u001b[0;32mand\u001b[0m \u001b[0mfitness\u001b[0m \u001b[0mscore\u001b[0m\u001b[0;34m.\u001b[0m\u001b[0;34m\u001b[0m\u001b[0;34m\u001b[0m\u001b[0m\n\u001b[1;32m    634\u001b[0m         \"\"\"\n\u001b[0;32m--> 635\u001b[0;31m         \u001b[0mmetrics\u001b[0m \u001b[0;34m=\u001b[0m \u001b[0mself\u001b[0m\u001b[0;34m.\u001b[0m\u001b[0mvalidator\u001b[0m\u001b[0;34m(\u001b[0m\u001b[0mself\u001b[0m\u001b[0;34m)\u001b[0m\u001b[0;34m\u001b[0m\u001b[0;34m\u001b[0m\u001b[0m\n\u001b[0m\u001b[1;32m    636\u001b[0m         \u001b[0mfitness\u001b[0m \u001b[0;34m=\u001b[0m \u001b[0mmetrics\u001b[0m\u001b[0;34m.\u001b[0m\u001b[0mpop\u001b[0m\u001b[0;34m(\u001b[0m\u001b[0;34m\"fitness\"\u001b[0m\u001b[0;34m,\u001b[0m \u001b[0;34m-\u001b[0m\u001b[0mself\u001b[0m\u001b[0;34m.\u001b[0m\u001b[0mloss\u001b[0m\u001b[0;34m.\u001b[0m\u001b[0mdetach\u001b[0m\u001b[0;34m(\u001b[0m\u001b[0;34m)\u001b[0m\u001b[0;34m.\u001b[0m\u001b[0mcpu\u001b[0m\u001b[0;34m(\u001b[0m\u001b[0;34m)\u001b[0m\u001b[0;34m.\u001b[0m\u001b[0mnumpy\u001b[0m\u001b[0;34m(\u001b[0m\u001b[0;34m)\u001b[0m\u001b[0;34m)\u001b[0m  \u001b[0;31m# use loss as fitness measure if not found\u001b[0m\u001b[0;34m\u001b[0m\u001b[0;34m\u001b[0m\u001b[0m\n\u001b[1;32m    637\u001b[0m         \u001b[0;32mif\u001b[0m \u001b[0;32mnot\u001b[0m \u001b[0mself\u001b[0m\u001b[0;34m.\u001b[0m\u001b[0mbest_fitness\u001b[0m \u001b[0;32mor\u001b[0m \u001b[0mself\u001b[0m\u001b[0;34m.\u001b[0m\u001b[0mbest_fitness\u001b[0m \u001b[0;34m<\u001b[0m \u001b[0mfitness\u001b[0m\u001b[0;34m:\u001b[0m\u001b[0;34m\u001b[0m\u001b[0;34m\u001b[0m\u001b[0m\n",
            "\u001b[0;32m/usr/local/lib/python3.11/dist-packages/torch/utils/_contextlib.py\u001b[0m in \u001b[0;36mdecorate_context\u001b[0;34m(*args, **kwargs)\u001b[0m\n\u001b[1;32m    114\u001b[0m     \u001b[0;32mdef\u001b[0m \u001b[0mdecorate_context\u001b[0m\u001b[0;34m(\u001b[0m\u001b[0;34m*\u001b[0m\u001b[0margs\u001b[0m\u001b[0;34m,\u001b[0m \u001b[0;34m**\u001b[0m\u001b[0mkwargs\u001b[0m\u001b[0;34m)\u001b[0m\u001b[0;34m:\u001b[0m\u001b[0;34m\u001b[0m\u001b[0;34m\u001b[0m\u001b[0m\n\u001b[1;32m    115\u001b[0m         \u001b[0;32mwith\u001b[0m \u001b[0mctx_factory\u001b[0m\u001b[0;34m(\u001b[0m\u001b[0;34m)\u001b[0m\u001b[0;34m:\u001b[0m\u001b[0;34m\u001b[0m\u001b[0;34m\u001b[0m\u001b[0m\n\u001b[0;32m--> 116\u001b[0;31m             \u001b[0;32mreturn\u001b[0m \u001b[0mfunc\u001b[0m\u001b[0;34m(\u001b[0m\u001b[0;34m*\u001b[0m\u001b[0margs\u001b[0m\u001b[0;34m,\u001b[0m \u001b[0;34m**\u001b[0m\u001b[0mkwargs\u001b[0m\u001b[0;34m)\u001b[0m\u001b[0;34m\u001b[0m\u001b[0;34m\u001b[0m\u001b[0m\n\u001b[0m\u001b[1;32m    117\u001b[0m \u001b[0;34m\u001b[0m\u001b[0m\n\u001b[1;32m    118\u001b[0m     \u001b[0;32mreturn\u001b[0m \u001b[0mdecorate_context\u001b[0m\u001b[0;34m\u001b[0m\u001b[0;34m\u001b[0m\u001b[0m\n",
            "\u001b[0;32m/usr/local/lib/python3.11/dist-packages/ultralytics/engine/validator.py\u001b[0m in \u001b[0;36m__call__\u001b[0;34m(self, trainer, model)\u001b[0m\n\u001b[1;32m    229\u001b[0m \u001b[0;34m\u001b[0m\u001b[0m\n\u001b[1;32m    230\u001b[0m             \u001b[0mself\u001b[0m\u001b[0;34m.\u001b[0m\u001b[0mrun_callbacks\u001b[0m\u001b[0;34m(\u001b[0m\u001b[0;34m\"on_val_batch_end\"\u001b[0m\u001b[0;34m)\u001b[0m\u001b[0;34m\u001b[0m\u001b[0;34m\u001b[0m\u001b[0m\n\u001b[0;32m--> 231\u001b[0;31m         \u001b[0mstats\u001b[0m \u001b[0;34m=\u001b[0m \u001b[0mself\u001b[0m\u001b[0;34m.\u001b[0m\u001b[0mget_stats\u001b[0m\u001b[0;34m(\u001b[0m\u001b[0;34m)\u001b[0m\u001b[0;34m\u001b[0m\u001b[0;34m\u001b[0m\u001b[0m\n\u001b[0m\u001b[1;32m    232\u001b[0m         \u001b[0mself\u001b[0m\u001b[0;34m.\u001b[0m\u001b[0mcheck_stats\u001b[0m\u001b[0;34m(\u001b[0m\u001b[0mstats\u001b[0m\u001b[0;34m)\u001b[0m\u001b[0;34m\u001b[0m\u001b[0;34m\u001b[0m\u001b[0m\n\u001b[1;32m    233\u001b[0m         \u001b[0mself\u001b[0m\u001b[0;34m.\u001b[0m\u001b[0mspeed\u001b[0m \u001b[0;34m=\u001b[0m \u001b[0mdict\u001b[0m\u001b[0;34m(\u001b[0m\u001b[0mzip\u001b[0m\u001b[0;34m(\u001b[0m\u001b[0mself\u001b[0m\u001b[0;34m.\u001b[0m\u001b[0mspeed\u001b[0m\u001b[0;34m.\u001b[0m\u001b[0mkeys\u001b[0m\u001b[0;34m(\u001b[0m\u001b[0;34m)\u001b[0m\u001b[0;34m,\u001b[0m \u001b[0;34m(\u001b[0m\u001b[0mx\u001b[0m\u001b[0;34m.\u001b[0m\u001b[0mt\u001b[0m \u001b[0;34m/\u001b[0m \u001b[0mlen\u001b[0m\u001b[0;34m(\u001b[0m\u001b[0mself\u001b[0m\u001b[0;34m.\u001b[0m\u001b[0mdataloader\u001b[0m\u001b[0;34m.\u001b[0m\u001b[0mdataset\u001b[0m\u001b[0;34m)\u001b[0m \u001b[0;34m*\u001b[0m \u001b[0;36m1e3\u001b[0m \u001b[0;32mfor\u001b[0m \u001b[0mx\u001b[0m \u001b[0;32min\u001b[0m \u001b[0mdt\u001b[0m\u001b[0;34m)\u001b[0m\u001b[0;34m)\u001b[0m\u001b[0;34m)\u001b[0m\u001b[0;34m\u001b[0m\u001b[0;34m\u001b[0m\u001b[0m\n",
            "\u001b[0;32m/usr/local/lib/python3.11/dist-packages/ultralytics/models/yolo/detect/val.py\u001b[0m in \u001b[0;36mget_stats\u001b[0;34m(self)\u001b[0m\n\u001b[1;32m    245\u001b[0m             \u001b[0;34m(\u001b[0m\u001b[0mdict\u001b[0m\u001b[0;34m)\u001b[0m\u001b[0;34m:\u001b[0m \u001b[0mDictionary\u001b[0m \u001b[0mcontaining\u001b[0m \u001b[0mmetrics\u001b[0m \u001b[0mresults\u001b[0m\u001b[0;34m.\u001b[0m\u001b[0;34m\u001b[0m\u001b[0;34m\u001b[0m\u001b[0m\n\u001b[1;32m    246\u001b[0m         \"\"\"\n\u001b[0;32m--> 247\u001b[0;31m         \u001b[0mstats\u001b[0m \u001b[0;34m=\u001b[0m \u001b[0;34m{\u001b[0m\u001b[0mk\u001b[0m\u001b[0;34m:\u001b[0m \u001b[0mtorch\u001b[0m\u001b[0;34m.\u001b[0m\u001b[0mcat\u001b[0m\u001b[0;34m(\u001b[0m\u001b[0mv\u001b[0m\u001b[0;34m,\u001b[0m \u001b[0;36m0\u001b[0m\u001b[0;34m)\u001b[0m\u001b[0;34m.\u001b[0m\u001b[0mcpu\u001b[0m\u001b[0;34m(\u001b[0m\u001b[0;34m)\u001b[0m\u001b[0;34m.\u001b[0m\u001b[0mnumpy\u001b[0m\u001b[0;34m(\u001b[0m\u001b[0;34m)\u001b[0m \u001b[0;32mfor\u001b[0m \u001b[0mk\u001b[0m\u001b[0;34m,\u001b[0m \u001b[0mv\u001b[0m \u001b[0;32min\u001b[0m \u001b[0mself\u001b[0m\u001b[0;34m.\u001b[0m\u001b[0mstats\u001b[0m\u001b[0;34m.\u001b[0m\u001b[0mitems\u001b[0m\u001b[0;34m(\u001b[0m\u001b[0;34m)\u001b[0m\u001b[0;34m}\u001b[0m  \u001b[0;31m# to numpy\u001b[0m\u001b[0;34m\u001b[0m\u001b[0;34m\u001b[0m\u001b[0m\n\u001b[0m\u001b[1;32m    248\u001b[0m         \u001b[0mself\u001b[0m\u001b[0;34m.\u001b[0m\u001b[0mnt_per_class\u001b[0m \u001b[0;34m=\u001b[0m \u001b[0mnp\u001b[0m\u001b[0;34m.\u001b[0m\u001b[0mbincount\u001b[0m\u001b[0;34m(\u001b[0m\u001b[0mstats\u001b[0m\u001b[0;34m[\u001b[0m\u001b[0;34m\"target_cls\"\u001b[0m\u001b[0;34m]\u001b[0m\u001b[0;34m.\u001b[0m\u001b[0mastype\u001b[0m\u001b[0;34m(\u001b[0m\u001b[0mint\u001b[0m\u001b[0;34m)\u001b[0m\u001b[0;34m,\u001b[0m \u001b[0mminlength\u001b[0m\u001b[0;34m=\u001b[0m\u001b[0mself\u001b[0m\u001b[0;34m.\u001b[0m\u001b[0mnc\u001b[0m\u001b[0;34m)\u001b[0m\u001b[0;34m\u001b[0m\u001b[0;34m\u001b[0m\u001b[0m\n\u001b[1;32m    249\u001b[0m         \u001b[0mself\u001b[0m\u001b[0;34m.\u001b[0m\u001b[0mnt_per_image\u001b[0m \u001b[0;34m=\u001b[0m \u001b[0mnp\u001b[0m\u001b[0;34m.\u001b[0m\u001b[0mbincount\u001b[0m\u001b[0;34m(\u001b[0m\u001b[0mstats\u001b[0m\u001b[0;34m[\u001b[0m\u001b[0;34m\"target_img\"\u001b[0m\u001b[0;34m]\u001b[0m\u001b[0;34m.\u001b[0m\u001b[0mastype\u001b[0m\u001b[0;34m(\u001b[0m\u001b[0mint\u001b[0m\u001b[0;34m)\u001b[0m\u001b[0;34m,\u001b[0m \u001b[0mminlength\u001b[0m\u001b[0;34m=\u001b[0m\u001b[0mself\u001b[0m\u001b[0;34m.\u001b[0m\u001b[0mnc\u001b[0m\u001b[0;34m)\u001b[0m\u001b[0;34m\u001b[0m\u001b[0;34m\u001b[0m\u001b[0m\n",
            "\u001b[0;32m/usr/local/lib/python3.11/dist-packages/ultralytics/models/yolo/detect/val.py\u001b[0m in \u001b[0;36m<dictcomp>\u001b[0;34m(.0)\u001b[0m\n\u001b[1;32m    245\u001b[0m             \u001b[0;34m(\u001b[0m\u001b[0mdict\u001b[0m\u001b[0;34m)\u001b[0m\u001b[0;34m:\u001b[0m \u001b[0mDictionary\u001b[0m \u001b[0mcontaining\u001b[0m \u001b[0mmetrics\u001b[0m \u001b[0mresults\u001b[0m\u001b[0;34m.\u001b[0m\u001b[0;34m\u001b[0m\u001b[0;34m\u001b[0m\u001b[0m\n\u001b[1;32m    246\u001b[0m         \"\"\"\n\u001b[0;32m--> 247\u001b[0;31m         \u001b[0mstats\u001b[0m \u001b[0;34m=\u001b[0m \u001b[0;34m{\u001b[0m\u001b[0mk\u001b[0m\u001b[0;34m:\u001b[0m \u001b[0mtorch\u001b[0m\u001b[0;34m.\u001b[0m\u001b[0mcat\u001b[0m\u001b[0;34m(\u001b[0m\u001b[0mv\u001b[0m\u001b[0;34m,\u001b[0m \u001b[0;36m0\u001b[0m\u001b[0;34m)\u001b[0m\u001b[0;34m.\u001b[0m\u001b[0mcpu\u001b[0m\u001b[0;34m(\u001b[0m\u001b[0;34m)\u001b[0m\u001b[0;34m.\u001b[0m\u001b[0mnumpy\u001b[0m\u001b[0;34m(\u001b[0m\u001b[0;34m)\u001b[0m \u001b[0;32mfor\u001b[0m \u001b[0mk\u001b[0m\u001b[0;34m,\u001b[0m \u001b[0mv\u001b[0m \u001b[0;32min\u001b[0m \u001b[0mself\u001b[0m\u001b[0;34m.\u001b[0m\u001b[0mstats\u001b[0m\u001b[0;34m.\u001b[0m\u001b[0mitems\u001b[0m\u001b[0;34m(\u001b[0m\u001b[0;34m)\u001b[0m\u001b[0;34m}\u001b[0m  \u001b[0;31m# to numpy\u001b[0m\u001b[0;34m\u001b[0m\u001b[0;34m\u001b[0m\u001b[0m\n\u001b[0m\u001b[1;32m    248\u001b[0m         \u001b[0mself\u001b[0m\u001b[0;34m.\u001b[0m\u001b[0mnt_per_class\u001b[0m \u001b[0;34m=\u001b[0m \u001b[0mnp\u001b[0m\u001b[0;34m.\u001b[0m\u001b[0mbincount\u001b[0m\u001b[0;34m(\u001b[0m\u001b[0mstats\u001b[0m\u001b[0;34m[\u001b[0m\u001b[0;34m\"target_cls\"\u001b[0m\u001b[0;34m]\u001b[0m\u001b[0;34m.\u001b[0m\u001b[0mastype\u001b[0m\u001b[0;34m(\u001b[0m\u001b[0mint\u001b[0m\u001b[0;34m)\u001b[0m\u001b[0;34m,\u001b[0m \u001b[0mminlength\u001b[0m\u001b[0;34m=\u001b[0m\u001b[0mself\u001b[0m\u001b[0;34m.\u001b[0m\u001b[0mnc\u001b[0m\u001b[0;34m)\u001b[0m\u001b[0;34m\u001b[0m\u001b[0;34m\u001b[0m\u001b[0m\n\u001b[1;32m    249\u001b[0m         \u001b[0mself\u001b[0m\u001b[0;34m.\u001b[0m\u001b[0mnt_per_image\u001b[0m \u001b[0;34m=\u001b[0m \u001b[0mnp\u001b[0m\u001b[0;34m.\u001b[0m\u001b[0mbincount\u001b[0m\u001b[0;34m(\u001b[0m\u001b[0mstats\u001b[0m\u001b[0;34m[\u001b[0m\u001b[0;34m\"target_img\"\u001b[0m\u001b[0;34m]\u001b[0m\u001b[0;34m.\u001b[0m\u001b[0mastype\u001b[0m\u001b[0;34m(\u001b[0m\u001b[0mint\u001b[0m\u001b[0;34m)\u001b[0m\u001b[0;34m,\u001b[0m \u001b[0mminlength\u001b[0m\u001b[0;34m=\u001b[0m\u001b[0mself\u001b[0m\u001b[0;34m.\u001b[0m\u001b[0mnc\u001b[0m\u001b[0;34m)\u001b[0m\u001b[0;34m\u001b[0m\u001b[0;34m\u001b[0m\u001b[0m\n",
            "\u001b[0;31mRuntimeError\u001b[0m: torch.cat(): expected a non-empty list of Tensors"
          ]
        }
      ],
      "source": [
        "yaml_content = f\"\"\"\n",
        "path: /content/data/working/custom  # Root directory of your dataset\n",
        "\n",
        "train: train  # Subdirectory for training images\n",
        "val: val  # Subdirectory for validation images\n",
        "test: test  # Subdirectory for testing images\n",
        "\n",
        "# Number of classes in your dataset\n",
        "nc: 4\n",
        "\n",
        "# Class names\n",
        "names: ['Blight', 'Common_Rust', 'Gray_Leaf_Spot', 'Healthy']\n",
        "\"\"\"\n",
        "\n",
        "with open('/content/custom_dataset.yaml', 'w') as f:\n",
        "    f.write(yaml_content)\n",
        "\n",
        "# Model Training\n",
        "from ultralytics import YOLO\n",
        "import wandb\n",
        "\n",
        "wandb.init(mode=\"disabled\")\n",
        "\n",
        "model = YOLO(\"yolov10n.pt\")  # Load a pretrained YOLO model\n",
        "\n",
        "# Train the model using the YAML file\n",
        "model.train(\n",
        "    data='/content/custom_dataset.yaml',  # Path to your YAML file\n",
        "    epochs=200,\n",
        "    patience=10,\n",
        "    batch=32,\n",
        "    weight_decay=5e-4,\n",
        "    device=0,\n",
        "    imgsz=(256, 256),\n",
        "    conf=0.25 # set prediction confidence threshold\n",
        ")\n",
        "\n",
        "metrics = model.val()"
      ]
    },
    {
      "cell_type": "code",
      "execution_count": null,
      "metadata": {
        "colab": {
          "base_uri": "https://localhost:8080/",
          "height": 463
        },
        "id": "AvBzLK2l9UQF",
        "outputId": "920ee654-4938-40ec-835f-536265a99aed"
      },
      "outputs": [
        {
          "name": "stdout",
          "output_type": "stream",
          "text": [
            "Ultralytics 8.3.111 🚀 Python-3.11.12 torch-2.6.0+cu124 CUDA:0 (Tesla T4, 15095MiB)\n",
            "\u001b[34m\u001b[1mengine/trainer: \u001b[0mtask=detect, mode=train, model=yolov10n.pt, data=/content/data/working/custom, epochs=20, time=None, patience=100, batch=16, imgsz=640, save=True, save_period=-1, cache=False, device=None, workers=8, project=None, name=train12, exist_ok=False, pretrained=True, optimizer=auto, verbose=True, seed=0, deterministic=True, single_cls=False, rect=False, cos_lr=False, close_mosaic=10, resume=False, amp=True, fraction=1.0, profile=False, freeze=None, multi_scale=False, overlap_mask=True, mask_ratio=4, dropout=0.0, val=True, split=val, save_json=False, conf=None, iou=0.7, max_det=300, half=False, dnn=False, plots=True, source=None, vid_stride=1, stream_buffer=False, visualize=False, augment=False, agnostic_nms=False, classes=None, retina_masks=False, embed=None, show=False, save_frames=False, save_txt=False, save_conf=False, save_crop=False, show_labels=True, show_conf=True, show_boxes=True, line_width=None, format=torchscript, keras=False, optimize=False, int8=False, dynamic=False, simplify=True, opset=None, workspace=None, nms=False, lr0=0.01, lrf=0.01, momentum=0.937, weight_decay=0.0005, warmup_epochs=3.0, warmup_momentum=0.8, warmup_bias_lr=0.1, box=7.5, cls=0.5, dfl=1.5, pose=12.0, kobj=1.0, nbs=64, hsv_h=0.015, hsv_s=0.7, hsv_v=0.4, degrees=0.0, translate=0.1, scale=0.5, shear=0.0, perspective=0.0, flipud=0.0, fliplr=0.5, bgr=0.0, mosaic=1.0, mixup=0.0, copy_paste=0.0, copy_paste_mode=flip, auto_augment=randaugment, erasing=0.4, cfg=None, tracker=botsort.yaml, save_dir=runs/detect/train12\n"
          ]
        },
        {
          "ename": "RuntimeError",
          "evalue": "Dataset '/content/data/working/custom' error ❌ [Errno 21] Is a directory: '/content/data/working/custom'",
          "output_type": "error",
          "traceback": [
            "\u001b[0;31m---------------------------------------------------------------------------\u001b[0m",
            "\u001b[0;31mIsADirectoryError\u001b[0m                         Traceback (most recent call last)",
            "\u001b[0;32m/usr/local/lib/python3.11/dist-packages/ultralytics/engine/trainer.py\u001b[0m in \u001b[0;36mget_dataset\u001b[0;34m(self)\u001b[0m\n\u001b[1;32m    581\u001b[0m             }:\n\u001b[0;32m--> 582\u001b[0;31m                 \u001b[0mdata\u001b[0m \u001b[0;34m=\u001b[0m \u001b[0mcheck_det_dataset\u001b[0m\u001b[0;34m(\u001b[0m\u001b[0mself\u001b[0m\u001b[0;34m.\u001b[0m\u001b[0margs\u001b[0m\u001b[0;34m.\u001b[0m\u001b[0mdata\u001b[0m\u001b[0;34m)\u001b[0m\u001b[0;34m\u001b[0m\u001b[0;34m\u001b[0m\u001b[0m\n\u001b[0m\u001b[1;32m    583\u001b[0m                 \u001b[0;32mif\u001b[0m \u001b[0;34m\"yaml_file\"\u001b[0m \u001b[0;32min\u001b[0m \u001b[0mdata\u001b[0m\u001b[0;34m:\u001b[0m\u001b[0;34m\u001b[0m\u001b[0;34m\u001b[0m\u001b[0m\n",
            "\u001b[0;32m/usr/local/lib/python3.11/dist-packages/ultralytics/data/utils.py\u001b[0m in \u001b[0;36mcheck_det_dataset\u001b[0;34m(dataset, autodownload)\u001b[0m\n\u001b[1;32m    395\u001b[0m     \u001b[0mextract_dir\u001b[0m \u001b[0;34m=\u001b[0m \u001b[0;34m\"\"\u001b[0m\u001b[0;34m\u001b[0m\u001b[0;34m\u001b[0m\u001b[0m\n\u001b[0;32m--> 396\u001b[0;31m     \u001b[0;32mif\u001b[0m \u001b[0mzipfile\u001b[0m\u001b[0;34m.\u001b[0m\u001b[0mis_zipfile\u001b[0m\u001b[0;34m(\u001b[0m\u001b[0mfile\u001b[0m\u001b[0;34m)\u001b[0m \u001b[0;32mor\u001b[0m \u001b[0mis_tarfile\u001b[0m\u001b[0;34m(\u001b[0m\u001b[0mfile\u001b[0m\u001b[0;34m)\u001b[0m\u001b[0;34m:\u001b[0m\u001b[0;34m\u001b[0m\u001b[0;34m\u001b[0m\u001b[0m\n\u001b[0m\u001b[1;32m    397\u001b[0m         \u001b[0mnew_dir\u001b[0m \u001b[0;34m=\u001b[0m \u001b[0msafe_download\u001b[0m\u001b[0;34m(\u001b[0m\u001b[0mfile\u001b[0m\u001b[0;34m,\u001b[0m \u001b[0mdir\u001b[0m\u001b[0;34m=\u001b[0m\u001b[0mDATASETS_DIR\u001b[0m\u001b[0;34m,\u001b[0m \u001b[0munzip\u001b[0m\u001b[0;34m=\u001b[0m\u001b[0;32mTrue\u001b[0m\u001b[0;34m,\u001b[0m \u001b[0mdelete\u001b[0m\u001b[0;34m=\u001b[0m\u001b[0;32mFalse\u001b[0m\u001b[0;34m)\u001b[0m\u001b[0;34m\u001b[0m\u001b[0;34m\u001b[0m\u001b[0m\n",
            "\u001b[0;32m/usr/lib/python3.11/tarfile.py\u001b[0m in \u001b[0;36mis_tarfile\u001b[0;34m(name)\u001b[0m\n\u001b[1;32m   2821\u001b[0m         \u001b[0;32melse\u001b[0m\u001b[0;34m:\u001b[0m\u001b[0;34m\u001b[0m\u001b[0;34m\u001b[0m\u001b[0m\n\u001b[0;32m-> 2822\u001b[0;31m             \u001b[0mt\u001b[0m \u001b[0;34m=\u001b[0m \u001b[0mopen\u001b[0m\u001b[0;34m(\u001b[0m\u001b[0mname\u001b[0m\u001b[0;34m)\u001b[0m\u001b[0;34m\u001b[0m\u001b[0;34m\u001b[0m\u001b[0m\n\u001b[0m\u001b[1;32m   2823\u001b[0m         \u001b[0mt\u001b[0m\u001b[0;34m.\u001b[0m\u001b[0mclose\u001b[0m\u001b[0;34m(\u001b[0m\u001b[0;34m)\u001b[0m\u001b[0;34m\u001b[0m\u001b[0;34m\u001b[0m\u001b[0m\n",
            "\u001b[0;32m/usr/lib/python3.11/tarfile.py\u001b[0m in \u001b[0;36mopen\u001b[0;34m(cls, name, mode, fileobj, bufsize, **kwargs)\u001b[0m\n\u001b[1;32m   1833\u001b[0m                 \u001b[0;32mtry\u001b[0m\u001b[0;34m:\u001b[0m\u001b[0;34m\u001b[0m\u001b[0;34m\u001b[0m\u001b[0m\n\u001b[0;32m-> 1834\u001b[0;31m                     \u001b[0;32mreturn\u001b[0m \u001b[0mfunc\u001b[0m\u001b[0;34m(\u001b[0m\u001b[0mname\u001b[0m\u001b[0;34m,\u001b[0m \u001b[0;34m\"r\"\u001b[0m\u001b[0;34m,\u001b[0m \u001b[0mfileobj\u001b[0m\u001b[0;34m,\u001b[0m \u001b[0;34m**\u001b[0m\u001b[0mkwargs\u001b[0m\u001b[0;34m)\u001b[0m\u001b[0;34m\u001b[0m\u001b[0;34m\u001b[0m\u001b[0m\n\u001b[0m\u001b[1;32m   1835\u001b[0m                 \u001b[0;32mexcept\u001b[0m \u001b[0;34m(\u001b[0m\u001b[0mReadError\u001b[0m\u001b[0;34m,\u001b[0m \u001b[0mCompressionError\u001b[0m\u001b[0;34m)\u001b[0m \u001b[0;32mas\u001b[0m \u001b[0me\u001b[0m\u001b[0;34m:\u001b[0m\u001b[0;34m\u001b[0m\u001b[0;34m\u001b[0m\u001b[0m\n",
            "\u001b[0;32m/usr/lib/python3.11/tarfile.py\u001b[0m in \u001b[0;36mgzopen\u001b[0;34m(cls, name, mode, fileobj, compresslevel, **kwargs)\u001b[0m\n\u001b[1;32m   1899\u001b[0m         \u001b[0;32mtry\u001b[0m\u001b[0;34m:\u001b[0m\u001b[0;34m\u001b[0m\u001b[0;34m\u001b[0m\u001b[0m\n\u001b[0;32m-> 1900\u001b[0;31m             \u001b[0mfileobj\u001b[0m \u001b[0;34m=\u001b[0m \u001b[0mGzipFile\u001b[0m\u001b[0;34m(\u001b[0m\u001b[0mname\u001b[0m\u001b[0;34m,\u001b[0m \u001b[0mmode\u001b[0m \u001b[0;34m+\u001b[0m \u001b[0;34m\"b\"\u001b[0m\u001b[0;34m,\u001b[0m \u001b[0mcompresslevel\u001b[0m\u001b[0;34m,\u001b[0m \u001b[0mfileobj\u001b[0m\u001b[0;34m)\u001b[0m\u001b[0;34m\u001b[0m\u001b[0;34m\u001b[0m\u001b[0m\n\u001b[0m\u001b[1;32m   1901\u001b[0m         \u001b[0;32mexcept\u001b[0m \u001b[0mOSError\u001b[0m \u001b[0;32mas\u001b[0m \u001b[0me\u001b[0m\u001b[0;34m:\u001b[0m\u001b[0;34m\u001b[0m\u001b[0;34m\u001b[0m\u001b[0m\n",
            "\u001b[0;32m/usr/lib/python3.11/gzip.py\u001b[0m in \u001b[0;36m__init__\u001b[0;34m(self, filename, mode, compresslevel, fileobj, mtime)\u001b[0m\n\u001b[1;32m    173\u001b[0m         \u001b[0;32mif\u001b[0m \u001b[0mfileobj\u001b[0m \u001b[0;32mis\u001b[0m \u001b[0;32mNone\u001b[0m\u001b[0;34m:\u001b[0m\u001b[0;34m\u001b[0m\u001b[0;34m\u001b[0m\u001b[0m\n\u001b[0;32m--> 174\u001b[0;31m             \u001b[0mfileobj\u001b[0m \u001b[0;34m=\u001b[0m \u001b[0mself\u001b[0m\u001b[0;34m.\u001b[0m\u001b[0mmyfileobj\u001b[0m \u001b[0;34m=\u001b[0m \u001b[0mbuiltins\u001b[0m\u001b[0;34m.\u001b[0m\u001b[0mopen\u001b[0m\u001b[0;34m(\u001b[0m\u001b[0mfilename\u001b[0m\u001b[0;34m,\u001b[0m \u001b[0mmode\u001b[0m \u001b[0;32mor\u001b[0m \u001b[0;34m'rb'\u001b[0m\u001b[0;34m)\u001b[0m\u001b[0;34m\u001b[0m\u001b[0;34m\u001b[0m\u001b[0m\n\u001b[0m\u001b[1;32m    175\u001b[0m         \u001b[0;32mif\u001b[0m \u001b[0mfilename\u001b[0m \u001b[0;32mis\u001b[0m \u001b[0;32mNone\u001b[0m\u001b[0;34m:\u001b[0m\u001b[0;34m\u001b[0m\u001b[0;34m\u001b[0m\u001b[0m\n",
            "\u001b[0;31mIsADirectoryError\u001b[0m: [Errno 21] Is a directory: '/content/data/working/custom'",
            "\nThe above exception was the direct cause of the following exception:\n",
            "\u001b[0;31mRuntimeError\u001b[0m                              Traceback (most recent call last)",
            "\u001b[0;32m<ipython-input-30-e149c1ae0b02>\u001b[0m in \u001b[0;36m<cell line: 0>\u001b[0;34m()\u001b[0m\n\u001b[1;32m     11\u001b[0m \u001b[0;34m\u001b[0m\u001b[0m\n\u001b[1;32m     12\u001b[0m \u001b[0;31m# Train the model on the custom dataset for a specified number of epochs\u001b[0m\u001b[0;34m\u001b[0m\u001b[0;34m\u001b[0m\u001b[0m\n\u001b[0;32m---> 13\u001b[0;31m \u001b[0mmodel\u001b[0m\u001b[0;34m.\u001b[0m\u001b[0mtrain\u001b[0m\u001b[0;34m(\u001b[0m\u001b[0mdata\u001b[0m\u001b[0;34m=\u001b[0m\u001b[0;34m'/content/data/working/custom'\u001b[0m\u001b[0;34m,\u001b[0m \u001b[0mepochs\u001b[0m\u001b[0;34m=\u001b[0m\u001b[0;36m20\u001b[0m\u001b[0;34m)\u001b[0m\u001b[0;34m\u001b[0m\u001b[0;34m\u001b[0m\u001b[0m\n\u001b[0m\u001b[1;32m     14\u001b[0m \u001b[0mmetrics\u001b[0m \u001b[0;34m=\u001b[0m \u001b[0mmodel\u001b[0m\u001b[0;34m.\u001b[0m\u001b[0mval\u001b[0m\u001b[0;34m(\u001b[0m\u001b[0;34m)\u001b[0m\u001b[0;34m\u001b[0m\u001b[0;34m\u001b[0m\u001b[0m\n",
            "\u001b[0;32m/usr/local/lib/python3.11/dist-packages/ultralytics/engine/model.py\u001b[0m in \u001b[0;36mtrain\u001b[0;34m(self, trainer, **kwargs)\u001b[0m\n\u001b[1;32m    783\u001b[0m             \u001b[0margs\u001b[0m\u001b[0;34m[\u001b[0m\u001b[0;34m\"resume\"\u001b[0m\u001b[0;34m]\u001b[0m \u001b[0;34m=\u001b[0m \u001b[0mself\u001b[0m\u001b[0;34m.\u001b[0m\u001b[0mckpt_path\u001b[0m\u001b[0;34m\u001b[0m\u001b[0;34m\u001b[0m\u001b[0m\n\u001b[1;32m    784\u001b[0m \u001b[0;34m\u001b[0m\u001b[0m\n\u001b[0;32m--> 785\u001b[0;31m         \u001b[0mself\u001b[0m\u001b[0;34m.\u001b[0m\u001b[0mtrainer\u001b[0m \u001b[0;34m=\u001b[0m \u001b[0;34m(\u001b[0m\u001b[0mtrainer\u001b[0m \u001b[0;32mor\u001b[0m \u001b[0mself\u001b[0m\u001b[0;34m.\u001b[0m\u001b[0m_smart_load\u001b[0m\u001b[0;34m(\u001b[0m\u001b[0;34m\"trainer\"\u001b[0m\u001b[0;34m)\u001b[0m\u001b[0;34m)\u001b[0m\u001b[0;34m(\u001b[0m\u001b[0moverrides\u001b[0m\u001b[0;34m=\u001b[0m\u001b[0margs\u001b[0m\u001b[0;34m,\u001b[0m \u001b[0m_callbacks\u001b[0m\u001b[0;34m=\u001b[0m\u001b[0mself\u001b[0m\u001b[0;34m.\u001b[0m\u001b[0mcallbacks\u001b[0m\u001b[0;34m)\u001b[0m\u001b[0;34m\u001b[0m\u001b[0;34m\u001b[0m\u001b[0m\n\u001b[0m\u001b[1;32m    786\u001b[0m         \u001b[0;32mif\u001b[0m \u001b[0;32mnot\u001b[0m \u001b[0margs\u001b[0m\u001b[0;34m.\u001b[0m\u001b[0mget\u001b[0m\u001b[0;34m(\u001b[0m\u001b[0;34m\"resume\"\u001b[0m\u001b[0;34m)\u001b[0m\u001b[0;34m:\u001b[0m  \u001b[0;31m# manually set model only if not resuming\u001b[0m\u001b[0;34m\u001b[0m\u001b[0;34m\u001b[0m\u001b[0m\n\u001b[1;32m    787\u001b[0m             \u001b[0mself\u001b[0m\u001b[0;34m.\u001b[0m\u001b[0mtrainer\u001b[0m\u001b[0;34m.\u001b[0m\u001b[0mmodel\u001b[0m \u001b[0;34m=\u001b[0m \u001b[0mself\u001b[0m\u001b[0;34m.\u001b[0m\u001b[0mtrainer\u001b[0m\u001b[0;34m.\u001b[0m\u001b[0mget_model\u001b[0m\u001b[0;34m(\u001b[0m\u001b[0mweights\u001b[0m\u001b[0;34m=\u001b[0m\u001b[0mself\u001b[0m\u001b[0;34m.\u001b[0m\u001b[0mmodel\u001b[0m \u001b[0;32mif\u001b[0m \u001b[0mself\u001b[0m\u001b[0;34m.\u001b[0m\u001b[0mckpt\u001b[0m \u001b[0;32melse\u001b[0m \u001b[0;32mNone\u001b[0m\u001b[0;34m,\u001b[0m \u001b[0mcfg\u001b[0m\u001b[0;34m=\u001b[0m\u001b[0mself\u001b[0m\u001b[0;34m.\u001b[0m\u001b[0mmodel\u001b[0m\u001b[0;34m.\u001b[0m\u001b[0myaml\u001b[0m\u001b[0;34m)\u001b[0m\u001b[0;34m\u001b[0m\u001b[0;34m\u001b[0m\u001b[0m\n",
            "\u001b[0;32m/usr/local/lib/python3.11/dist-packages/ultralytics/engine/trainer.py\u001b[0m in \u001b[0;36m__init__\u001b[0;34m(self, cfg, overrides, _callbacks)\u001b[0m\n\u001b[1;32m    135\u001b[0m         \u001b[0mself\u001b[0m\u001b[0;34m.\u001b[0m\u001b[0mmodel\u001b[0m \u001b[0;34m=\u001b[0m \u001b[0mcheck_model_file_from_stem\u001b[0m\u001b[0;34m(\u001b[0m\u001b[0mself\u001b[0m\u001b[0;34m.\u001b[0m\u001b[0margs\u001b[0m\u001b[0;34m.\u001b[0m\u001b[0mmodel\u001b[0m\u001b[0;34m)\u001b[0m  \u001b[0;31m# add suffix, i.e. yolo11n -> yolo11n.pt\u001b[0m\u001b[0;34m\u001b[0m\u001b[0;34m\u001b[0m\u001b[0m\n\u001b[1;32m    136\u001b[0m         \u001b[0;32mwith\u001b[0m \u001b[0mtorch_distributed_zero_first\u001b[0m\u001b[0;34m(\u001b[0m\u001b[0mLOCAL_RANK\u001b[0m\u001b[0;34m)\u001b[0m\u001b[0;34m:\u001b[0m  \u001b[0;31m# avoid auto-downloading dataset multiple times\u001b[0m\u001b[0;34m\u001b[0m\u001b[0;34m\u001b[0m\u001b[0m\n\u001b[0;32m--> 137\u001b[0;31m             \u001b[0mself\u001b[0m\u001b[0;34m.\u001b[0m\u001b[0mtrainset\u001b[0m\u001b[0;34m,\u001b[0m \u001b[0mself\u001b[0m\u001b[0;34m.\u001b[0m\u001b[0mtestset\u001b[0m \u001b[0;34m=\u001b[0m \u001b[0mself\u001b[0m\u001b[0;34m.\u001b[0m\u001b[0mget_dataset\u001b[0m\u001b[0;34m(\u001b[0m\u001b[0;34m)\u001b[0m\u001b[0;34m\u001b[0m\u001b[0;34m\u001b[0m\u001b[0m\n\u001b[0m\u001b[1;32m    138\u001b[0m         \u001b[0mself\u001b[0m\u001b[0;34m.\u001b[0m\u001b[0mema\u001b[0m \u001b[0;34m=\u001b[0m \u001b[0;32mNone\u001b[0m\u001b[0;34m\u001b[0m\u001b[0;34m\u001b[0m\u001b[0m\n\u001b[1;32m    139\u001b[0m \u001b[0;34m\u001b[0m\u001b[0m\n",
            "\u001b[0;32m/usr/local/lib/python3.11/dist-packages/ultralytics/engine/trainer.py\u001b[0m in \u001b[0;36mget_dataset\u001b[0;34m(self)\u001b[0m\n\u001b[1;32m    584\u001b[0m                     \u001b[0mself\u001b[0m\u001b[0;34m.\u001b[0m\u001b[0margs\u001b[0m\u001b[0;34m.\u001b[0m\u001b[0mdata\u001b[0m \u001b[0;34m=\u001b[0m \u001b[0mdata\u001b[0m\u001b[0;34m[\u001b[0m\u001b[0;34m\"yaml_file\"\u001b[0m\u001b[0;34m]\u001b[0m  \u001b[0;31m# for validating 'yolo train data=url.zip' usage\u001b[0m\u001b[0;34m\u001b[0m\u001b[0;34m\u001b[0m\u001b[0m\n\u001b[1;32m    585\u001b[0m         \u001b[0;32mexcept\u001b[0m \u001b[0mException\u001b[0m \u001b[0;32mas\u001b[0m \u001b[0me\u001b[0m\u001b[0;34m:\u001b[0m\u001b[0;34m\u001b[0m\u001b[0;34m\u001b[0m\u001b[0m\n\u001b[0;32m--> 586\u001b[0;31m             \u001b[0;32mraise\u001b[0m \u001b[0mRuntimeError\u001b[0m\u001b[0;34m(\u001b[0m\u001b[0memojis\u001b[0m\u001b[0;34m(\u001b[0m\u001b[0;34mf\"Dataset '{clean_url(self.args.data)}' error ❌ {e}\"\u001b[0m\u001b[0;34m)\u001b[0m\u001b[0;34m)\u001b[0m \u001b[0;32mfrom\u001b[0m \u001b[0me\u001b[0m\u001b[0;34m\u001b[0m\u001b[0;34m\u001b[0m\u001b[0m\n\u001b[0m\u001b[1;32m    587\u001b[0m         \u001b[0mself\u001b[0m\u001b[0;34m.\u001b[0m\u001b[0mdata\u001b[0m \u001b[0;34m=\u001b[0m \u001b[0mdata\u001b[0m\u001b[0;34m\u001b[0m\u001b[0;34m\u001b[0m\u001b[0m\n\u001b[1;32m    588\u001b[0m         \u001b[0;32mif\u001b[0m \u001b[0mself\u001b[0m\u001b[0;34m.\u001b[0m\u001b[0margs\u001b[0m\u001b[0;34m.\u001b[0m\u001b[0msingle_cls\u001b[0m\u001b[0;34m:\u001b[0m\u001b[0;34m\u001b[0m\u001b[0;34m\u001b[0m\u001b[0m\n",
            "\u001b[0;31mRuntimeError\u001b[0m: Dataset '/content/data/working/custom' error ❌ [Errno 21] Is a directory: '/content/data/working/custom'"
          ]
        }
      ],
      "source": [
        "from ultralytics import YOLO\n",
        "\n",
        "# Import wandb for experiment tracking\n",
        "import wandb\n",
        "\n",
        "# Initialize wandb in disabled mode (useful for testing or if you don't want to log to wandb)\n",
        "wandb.init(mode=\"disabled\")\n",
        "\n",
        "# Load a pretrained YOLO model (recommended for training)\n",
        "model = YOLO('yolov10n.pt')\n",
        "\n",
        "# Train the model on the custom dataset for a specified number of epochs\n",
        "model.train(data='/content/data/working/custom', epochs=20)\n",
        "metrics = model.val()"
      ]
    },
    {
      "cell_type": "code",
      "execution_count": null,
      "metadata": {
        "colab": {
          "base_uri": "https://localhost:8080/"
        },
        "id": "Pj8hHKgc_w5j",
        "outputId": "4cf4ace0-0caf-4e26-b78a-fdcbbfce25ff"
      },
      "outputs": [
        {
          "name": "stdout",
          "output_type": "stream",
          "text": [
            "Top-1 Accuracy: 0.9296\n",
            "Top-5 Accuracy: 1.0000\n"
          ]
        }
      ],
      "source": [
        "print(f\"Top-1 Accuracy: {metrics.top1:.4f}\")\n",
        "print(f\"Top-5 Accuracy: {metrics.top5:.4f}\")"
      ]
    },
    {
      "cell_type": "code",
      "execution_count": null,
      "metadata": {
        "colab": {
          "base_uri": "https://localhost:8080/",
          "height": 1000
        },
        "id": "YTFumuFyweOT",
        "outputId": "73844d57-067e-45c9-e3e7-4dd5e9c677f1"
      },
      "outputs": [
        {
          "ename": "SyntaxError",
          "evalue": "'\u001b[31m\u001b[1mscheduler\u001b[0m' is not a valid YOLO argument. \n\n    Arguments received: ['yolo', '-f', '/root/.local/share/jupyter/runtime/kernel-08d83988-0e06-43c1-8649-5dc02993c86f.json']. Ultralytics 'yolo' commands use the following syntax:\n\n        yolo TASK MODE ARGS\n\n        Where   TASK (optional) is one of frozenset({'obb', 'classify', 'segment', 'detect', 'pose'})\n                MODE (required) is one of frozenset({'export', 'predict', 'val', 'train', 'track', 'benchmark'})\n                ARGS (optional) are any number of custom 'arg=value' pairs like 'imgsz=320' that override defaults.\n                    See all ARGS at https://docs.ultralytics.com/usage/cfg or with 'yolo cfg'\n\n    1. Train a detection model for 10 epochs with an initial learning_rate of 0.01\n        yolo train data=coco8.yaml model=yolo11n.pt epochs=10 lr0=0.01\n\n    2. Predict a YouTube video using a pretrained segmentation model at image size 320:\n        yolo predict model=yolo11n-seg.pt source='https://youtu.be/LNwODJXcvt4' imgsz=320\n\n    3. Val a pretrained detection model at batch-size 1 and image size 640:\n        yolo val model=yolo11n.pt data=coco8.yaml batch=1 imgsz=640\n\n    4. Export a YOLO11n classification model to ONNX format at image size 224 by 128 (no TASK required)\n        yolo export model=yolo11n-cls.pt format=onnx imgsz=224,128\n\n    5. Ultralytics solutions usage\n        yolo solutions count or in ['crop', 'blur', 'workout', 'heatmap', 'isegment', 'visioneye', 'speed', 'queue', 'analytics', 'inference', 'trackzone'] source=\"path/to/video/file.mp4\"\n\n    6. Run special commands:\n        yolo help\n        yolo checks\n        yolo version\n        yolo settings\n        yolo copy-cfg\n        yolo cfg\n        yolo solutions help\n\n    Docs: https://docs.ultralytics.com\n    Solutions: https://docs.ultralytics.com/solutions/\n    Community: https://community.ultralytics.com\n    GitHub: https://github.com/ultralytics/ultralytics\n     (<string>)",
          "output_type": "error",
          "traceback": [
            "Traceback \u001b[0;36m(most recent call last)\u001b[0m:\n",
            "  File \u001b[1;32m\"/usr/local/lib/python3.11/dist-packages/IPython/core/interactiveshell.py\"\u001b[0m, line \u001b[1;32m3553\u001b[0m, in \u001b[1;35mrun_code\u001b[0m\n    exec(code_obj, self.user_global_ns, self.user_ns)\n",
            "  File \u001b[1;32m\"<ipython-input-14-abe1086097b8>\"\u001b[0m, line \u001b[1;32m40\u001b[0m, in \u001b[1;35m<cell line: 0>\u001b[0m\n    model.train(\n",
            "  File \u001b[1;32m\"/usr/local/lib/python3.11/dist-packages/ultralytics/engine/model.py\"\u001b[0m, line \u001b[1;32m785\u001b[0m, in \u001b[1;35mtrain\u001b[0m\n    self.trainer = (trainer or self._smart_load(\"trainer\"))(overrides=args, _callbacks=self.callbacks)\n",
            "  File \u001b[1;32m\"/usr/local/lib/python3.11/dist-packages/ultralytics/models/yolo/classify/train.py\"\u001b[0m, line \u001b[1;32m57\u001b[0m, in \u001b[1;35m__init__\u001b[0m\n    super().__init__(cfg, overrides, _callbacks)\n",
            "  File \u001b[1;32m\"/usr/local/lib/python3.11/dist-packages/ultralytics/engine/trainer.py\"\u001b[0m, line \u001b[1;32m105\u001b[0m, in \u001b[1;35m__init__\u001b[0m\n    self.args = get_cfg(cfg, overrides)\n",
            "  File \u001b[1;32m\"/usr/local/lib/python3.11/dist-packages/ultralytics/cfg/__init__.py\"\u001b[0m, line \u001b[1;32m310\u001b[0m, in \u001b[1;35mget_cfg\u001b[0m\n    check_dict_alignment(cfg, overrides)\n",
            "\u001b[0;36m  File \u001b[0;32m\"/usr/local/lib/python3.11/dist-packages/ultralytics/cfg/__init__.py\"\u001b[0;36m, line \u001b[0;32m497\u001b[0;36m, in \u001b[0;35mcheck_dict_alignment\u001b[0;36m\u001b[0m\n\u001b[0;31m    raise SyntaxError(string + CLI_HELP_MSG) from e\u001b[0m\n",
            "\u001b[0;36m  File \u001b[0;32m\"<string>\"\u001b[0;36m, line \u001b[0;32munknown\u001b[0m\n\u001b[0;31mSyntaxError\u001b[0m\u001b[0;31m:\u001b[0m '\u001b[31m\u001b[1mscheduler\u001b[0m' is not a valid YOLO argument. \n\n    Arguments received: ['yolo', '-f', '/root/.local/share/jupyter/runtime/kernel-08d83988-0e06-43c1-8649-5dc02993c86f.json']. Ultralytics 'yolo' commands use the following syntax:\n\n        yolo TASK MODE ARGS\n\n        Where   TASK (optional) is one of frozenset({'obb', 'classify', 'segment', 'detect', 'pose'})\n                MODE (required) is one of frozenset({'export', 'predict', 'val', 'train', 'track', 'benchmark'})\n                ARGS (optional) are any number of custom 'arg=value' pairs like 'imgsz=320' that override defaults.\n                    See all ARGS at https://docs.ultralytics.com/usage/cfg or with 'yolo cfg'\n\n    1. Train a detection model for 10 epochs with an initial learning_rate of 0.01\n        yolo train data=coco8.yaml model=yolo11n.pt epochs=10 lr0=0.01\n\n    2. Predict a YouTube video using a pretrained segmentation model at image size 320:\n        yolo predict model=yolo11n-seg.pt source='https://youtu.be/LNwODJXcvt4' imgsz=320\n\n    3. Val a pretrained detection model at batch-size 1 and image size 640:\n        yolo val model=yolo11n.pt data=coco8.yaml batch=1 imgsz=640\n\n    4. Export a YOLO11n classification model to ONNX format at image size 224 by 128 (no TASK required)\n        yolo export model=yolo11n-cls.pt format=onnx imgsz=224,128\n\n    5. Ultralytics solutions usage\n        yolo solutions count or in ['crop', 'blur', 'workout', 'heatmap', 'isegment', 'visioneye', 'speed', 'queue', 'analytics', 'inference', 'trackzone'] source=\"path/to/video/file.mp4\"\n\n    6. Run special commands:\n        yolo help\n        yolo checks\n        yolo version\n        yolo settings\n        yolo copy-cfg\n        yolo cfg\n        yolo solutions help\n\n    Docs: https://docs.ultralytics.com\n    Solutions: https://docs.ultralytics.com/solutions/\n    Community: https://community.ultralytics.com\n    GitHub: https://github.com/ultralytics/ultralytics\n    \n"
          ]
        }
      ],
      "source": [
        "import torch\n",
        "import torch.nn as nn\n",
        "import wandb\n",
        "from ultralytics import YOLO\n",
        "import torchvision.transforms as transforms\n",
        "import albumentations as A\n",
        "from albumentations.pytorch import ToTensorV2\n",
        "from torch.optim.lr_scheduler import CosineAnnealingLR\n",
        "\n",
        "# Initialize wandb for experiment tracking\n",
        "wandb.init(project=\"yolo-cnn-optimization\", mode=\"online\")  # Enable logging\n",
        "\n",
        "# Load a pretrained YOLO model\n",
        "model = YOLO(\"yolo11x-cls.pt\")\n",
        "\n",
        "# Define an additional CNN feature extraction model\n",
        "class CustomCNN(nn.Module):\n",
        "    def __init__(self):\n",
        "        super(CustomCNN, self).__init__()\n",
        "        self.conv1 = nn.Conv2d(3, 64, kernel_size=3, stride=1, padding=1)\n",
        "        self.bn1 = nn.BatchNorm2d(64)\n",
        "        self.relu = nn.ReLU()\n",
        "        self.pool = nn.MaxPool2d(kernel_size=2, stride=2)\n",
        "        self.conv2 = nn.Conv2d(64, 128, kernel_size=3, stride=1, padding=1)\n",
        "        self.bn2 = nn.BatchNorm2d(128)\n",
        "        self.fc = nn.Linear(128 * 64 * 64, 512)  # Adjust based on img size\n",
        "\n",
        "    def forward(self, x):\n",
        "        x = self.pool(self.relu(self.bn1(self.conv1(x))))\n",
        "        x = self.pool(self.relu(self.bn2(self.conv2(x))))\n",
        "        x = x.view(x.size(0), -1)\n",
        "        x = self.fc(x)\n",
        "        return x\n",
        "\n",
        "# Initialize the CNN model\n",
        "cnn_model = CustomCNN()\n",
        "\n",
        "\n",
        "# Train the model with advanced settings\n",
        "model.train(\n",
        "    data='/content/data/working/custom',\n",
        "    epochs=300,            # Increased for better learning\n",
        "    patience=20,           # Allow more room for improvements\n",
        "    batch=64,              # Increase batch size if GPU allows\n",
        "    weight_decay=1e-4,     # Regularization\n",
        "    device=0,              # Use GPU if available\n",
        "    imgsz=256,      # Keep image size fixed\n",
        "    optimizer='AdamW',     # Better optimization\n",
        "    lr0=1e-4,              # Fine-tuned learning rate\n",
        "    scheduler='cosine',    # Cosine Annealing Scheduler\n",
        ")\n",
        "\n",
        "# Validation Metrics\n",
        "metrics = model.val()\n",
        "\n",
        "# Log results in wandb\n",
        "wandb.log({\"accuracy\": metrics['accuracy'], \"loss\": metrics['loss']})\n",
        "\n",
        "# Close wandb\n",
        "wandb.finish()\n",
        "\n",
        "import torch\n",
        "import torch.nn as nn\n",
        "import wandb\n",
        "from ultralytics import YOLO\n",
        "import torchvision.transforms as transforms\n",
        "import albumentations as A\n",
        "from albumentations.pytorch import ToTensorV2\n",
        "from torch.optim.lr_scheduler import CosineAnnealingLR\n",
        "\n",
        "# Initialize wandb for experiment tracking\n",
        "wandb.init(project=\"yolo-cnn-optimization\", mode=\"online\")  # Enable logging\n",
        "\n",
        "# Load a pretrained YOLO model\n",
        "model = YOLO(\"yolo11x-cls.pt\")\n",
        "\n",
        "# Define an additional CNN feature extraction model\n",
        "class CustomCNN(nn.Module):\n",
        "    def __init__(self):\n",
        "        super(CustomCNN, self).__init__()\n",
        "        self.conv1 = nn.Conv2d(3, 64, kernel_size=3, stride=1, padding=1)\n",
        "        self.bn1 = nn.BatchNorm2d(64)\n",
        "        self.relu = nn.ReLU()\n",
        "        self.pool = nn.MaxPool2d(kernel_size=2, stride=2)\n",
        "        self.conv2 = nn.Conv2d(64, 128, kernel_size=3, stride=1, padding=1)\n",
        "        self.bn2 = nn.BatchNorm2d(128)\n",
        "        self.fc = nn.Linear(128 * 64 * 64, 512)  # Adjust based on img size\n",
        "\n",
        "    def forward(self, x):\n",
        "        x = self.pool(self.relu(self.bn1(self.conv1(x))))\n",
        "        x = self.pool(self.relu(self.bn2(self.conv2(x))))\n",
        "        x = x.view(x.size(0), -1)\n",
        "        x = self.fc(x)\n",
        "        return x\n",
        "\n",
        "# Initialize the CNN model\n",
        "cnn_model = CustomCNN()\n",
        "\n",
        "\n",
        "# Train the model with advanced settings\n",
        "model.train(\n",
        "    data='/content/data/working/custom',\n",
        "    epochs=300,            # Increased for better learning\n",
        "    patience=20,           # Allow more room for improvements\n",
        "    batch=64,              # Increase batch size if GPU allows\n",
        "    weight_decay=1e-4,     # Regularization\n",
        "    device=0,              # Use GPU if available\n",
        "    imgsz=256,             # Keep image size fixed\n",
        "    optimizer='AdamW',     # Better optimization\n",
        "    lr0=1e-4,              # Fine-tuned learning rate\n",
        "    scheduler=CosineAnnealingLR,    # Cosine Annealing Scheduler\n",
        ")\n",
        "\n",
        "# Validation Metrics\n",
        "metrics = model.val()\n",
        "\n",
        "# Log results in wandb\n",
        "wandb.log({\"accuracy\": metrics.get('accuracy', 0), \"loss\": metrics.get('loss', 0)})\n",
        "\n",
        "# Close wandb\n",
        "wandb.finish()"
      ]
    },
    {
      "cell_type": "code",
      "execution_count": null,
      "metadata": {
        "colab": {
          "base_uri": "https://localhost:8080/",
          "height": 1000
        },
        "id": "aNlW0dxbBKb3",
        "outputId": "12f1a030-e526-45f2-8692-6692cbeac1b0"
      },
      "outputs": [
        {
          "name": "stdout",
          "output_type": "stream",
          "text": [
            "Ultralytics 8.3.94 🚀 Python-3.11.11 torch-2.6.0+cu124 CUDA:0 (Tesla T4, 15095MiB)\n",
            "\u001b[34m\u001b[1mengine/trainer: \u001b[0mtask=classify, mode=train, model=yolo11n-cls.pt, data=/content/data/working/custom, epochs=20, time=None, patience=100, batch=16, imgsz=224, save=True, save_period=-1, cache=False, device=None, workers=8, project=None, name=train7, exist_ok=False, pretrained=True, optimizer=auto, verbose=True, seed=0, deterministic=True, single_cls=False, rect=False, cos_lr=False, close_mosaic=10, resume=False, amp=True, fraction=1.0, profile=False, freeze=None, multi_scale=False, overlap_mask=True, mask_ratio=4, dropout=0.0, val=True, split=val, save_json=False, save_hybrid=False, conf=None, iou=0.7, max_det=300, half=False, dnn=False, plots=True, source=None, vid_stride=1, stream_buffer=False, visualize=False, augment=False, agnostic_nms=False, classes=None, retina_masks=False, embed=None, show=False, save_frames=False, save_txt=False, save_conf=False, save_crop=False, show_labels=True, show_conf=True, show_boxes=True, line_width=None, format=torchscript, keras=False, optimize=False, int8=False, dynamic=False, simplify=True, opset=None, workspace=None, nms=False, lr0=0.01, lrf=0.01, momentum=0.937, weight_decay=0.0005, warmup_epochs=3.0, warmup_momentum=0.8, warmup_bias_lr=0.1, box=7.5, cls=0.5, dfl=1.5, pose=12.0, kobj=1.0, nbs=64, hsv_h=0.015, hsv_s=0.7, hsv_v=0.4, degrees=0.0, translate=0.1, scale=0.5, shear=0.0, perspective=0.0, flipud=0.0, fliplr=0.5, bgr=0.0, mosaic=1.0, mixup=0.0, copy_paste=0.0, copy_paste_mode=flip, auto_augment=randaugment, erasing=0.4, crop_fraction=1.0, cfg=None, tracker=botsort.yaml, save_dir=runs/classify/train7\n",
            "\u001b[34m\u001b[1mtrain:\u001b[0m /content/data/working/custom/train... found 1824 images in 4 classes ✅ \n",
            "\u001b[34m\u001b[1mval:\u001b[0m /content/data/working/custom/val... found 1093 images in 4 classes ✅ \n",
            "\u001b[34m\u001b[1mtest:\u001b[0m /content/data/working/custom/test... found 228 images in 4 classes ✅ \n",
            "Overriding model.yaml nc=80 with nc=4\n",
            "\n",
            "                   from  n    params  module                                       arguments                     \n",
            "  0                  -1  1       464  ultralytics.nn.modules.conv.Conv             [3, 16, 3, 2]                 \n",
            "  1                  -1  1      4672  ultralytics.nn.modules.conv.Conv             [16, 32, 3, 2]                \n",
            "  2                  -1  1      6640  ultralytics.nn.modules.block.C3k2            [32, 64, 1, False, 0.25]      \n",
            "  3                  -1  1     36992  ultralytics.nn.modules.conv.Conv             [64, 64, 3, 2]                \n",
            "  4                  -1  1     26080  ultralytics.nn.modules.block.C3k2            [64, 128, 1, False, 0.25]     \n",
            "  5                  -1  1    147712  ultralytics.nn.modules.conv.Conv             [128, 128, 3, 2]              \n",
            "  6                  -1  1     87040  ultralytics.nn.modules.block.C3k2            [128, 128, 1, True]           \n",
            "  7                  -1  1    295424  ultralytics.nn.modules.conv.Conv             [128, 256, 3, 2]              \n",
            "  8                  -1  1    346112  ultralytics.nn.modules.block.C3k2            [256, 256, 1, True]           \n",
            "  9                  -1  1    249728  ultralytics.nn.modules.block.C2PSA           [256, 256, 1]                 \n",
            " 10                  -1  1    335364  ultralytics.nn.modules.head.Classify         [256, 4]                      \n",
            "YOLO11n-cls summary: 86 layers, 1,536,228 parameters, 1,536,228 gradients, 3.3 GFLOPs\n",
            "Transferred 234/236 items from pretrained weights\n",
            "\u001b[34m\u001b[1mTensorBoard: \u001b[0mStart with 'tensorboard --logdir runs/classify/train7', view at http://localhost:6006/\n",
            "\u001b[34m\u001b[1mAMP: \u001b[0mrunning Automatic Mixed Precision (AMP) checks...\n",
            "\u001b[34m\u001b[1mAMP: \u001b[0mchecks passed ✅\n"
          ]
        },
        {
          "name": "stderr",
          "output_type": "stream",
          "text": [
            "\u001b[34m\u001b[1mtrain: \u001b[0mScanning /content/data/working/custom/train... 1824 images, 0 corrupt: 100%|██████████| 1824/1824 [00:00<?, ?it/s]\n",
            "\u001b[34m\u001b[1mval: \u001b[0mScanning /content/data/working/custom/val... 1093 images, 0 corrupt: 100%|██████████| 1093/1093 [00:00<?, ?it/s]\n"
          ]
        },
        {
          "name": "stdout",
          "output_type": "stream",
          "text": [
            "\u001b[34m\u001b[1moptimizer:\u001b[0m 'optimizer=auto' found, ignoring 'lr0=0.01' and 'momentum=0.937' and determining best 'optimizer', 'lr0' and 'momentum' automatically... \n",
            "\u001b[34m\u001b[1moptimizer:\u001b[0m AdamW(lr=0.00125, momentum=0.9) with parameter groups 39 weight(decay=0.0), 40 weight(decay=0.0005), 40 bias(decay=0.0)\n",
            "\u001b[34m\u001b[1mTensorBoard: \u001b[0mmodel graph visualization added ✅\n",
            "Image sizes 224 train, 224 val\n",
            "Using 2 dataloader workers\n",
            "Logging results to \u001b[1mruns/classify/train7\u001b[0m\n",
            "Starting training for 20 epochs...\n",
            "\n",
            "      Epoch    GPU_mem       loss  Instances       Size\n"
          ]
        },
        {
          "name": "stderr",
          "output_type": "stream",
          "text": [
            "       1/20     0.301G     0.6696         16        224: 100%|██████████| 114/114 [00:15<00:00,  7.47it/s]\n",
            "               classes   top1_acc   top5_acc: 100%|██████████| 35/35 [00:06<00:00,  5.36it/s]"
          ]
        },
        {
          "name": "stdout",
          "output_type": "stream",
          "text": [
            "                   all      0.864          1\n"
          ]
        },
        {
          "name": "stderr",
          "output_type": "stream",
          "text": [
            "\n"
          ]
        },
        {
          "name": "stdout",
          "output_type": "stream",
          "text": [
            "\n",
            "      Epoch    GPU_mem       loss  Instances       Size\n"
          ]
        },
        {
          "name": "stderr",
          "output_type": "stream",
          "text": [
            "       2/20     0.309G     0.3353         16        224: 100%|██████████| 114/114 [00:15<00:00,  7.60it/s]\n",
            "               classes   top1_acc   top5_acc: 100%|██████████| 35/35 [00:06<00:00,  5.26it/s]"
          ]
        },
        {
          "name": "stdout",
          "output_type": "stream",
          "text": [
            "                   all      0.873          1\n"
          ]
        },
        {
          "name": "stderr",
          "output_type": "stream",
          "text": [
            "\n"
          ]
        },
        {
          "name": "stdout",
          "output_type": "stream",
          "text": [
            "\n",
            "      Epoch    GPU_mem       loss  Instances       Size\n"
          ]
        },
        {
          "name": "stderr",
          "output_type": "stream",
          "text": [
            "       3/20     0.309G     0.3655         16        224: 100%|██████████| 114/114 [00:15<00:00,  7.48it/s]\n",
            "               classes   top1_acc   top5_acc: 100%|██████████| 35/35 [00:08<00:00,  4.00it/s]"
          ]
        },
        {
          "name": "stdout",
          "output_type": "stream",
          "text": [
            "                   all      0.898          1\n"
          ]
        },
        {
          "name": "stderr",
          "output_type": "stream",
          "text": [
            "\n"
          ]
        },
        {
          "name": "stdout",
          "output_type": "stream",
          "text": [
            "\n",
            "      Epoch    GPU_mem       loss  Instances       Size\n"
          ]
        },
        {
          "name": "stderr",
          "output_type": "stream",
          "text": [
            "       4/20     0.309G     0.3709         16        224: 100%|██████████| 114/114 [00:15<00:00,  7.60it/s]\n",
            "               classes   top1_acc   top5_acc: 100%|██████████| 35/35 [00:07<00:00,  4.76it/s]"
          ]
        },
        {
          "name": "stdout",
          "output_type": "stream",
          "text": [
            "                   all       0.88          1\n"
          ]
        },
        {
          "name": "stderr",
          "output_type": "stream",
          "text": [
            "\n"
          ]
        },
        {
          "name": "stdout",
          "output_type": "stream",
          "text": [
            "\n",
            "      Epoch    GPU_mem       loss  Instances       Size\n"
          ]
        },
        {
          "name": "stderr",
          "output_type": "stream",
          "text": [
            "       5/20     0.309G     0.3267         16        224: 100%|██████████| 114/114 [00:15<00:00,  7.40it/s]\n",
            "               classes   top1_acc   top5_acc: 100%|██████████| 35/35 [00:06<00:00,  5.24it/s]"
          ]
        },
        {
          "name": "stdout",
          "output_type": "stream",
          "text": [
            "                   all      0.908          1\n"
          ]
        },
        {
          "name": "stderr",
          "output_type": "stream",
          "text": [
            "\n"
          ]
        },
        {
          "name": "stdout",
          "output_type": "stream",
          "text": [
            "\n",
            "      Epoch    GPU_mem       loss  Instances       Size\n"
          ]
        },
        {
          "name": "stderr",
          "output_type": "stream",
          "text": [
            "       6/20     0.309G     0.2567         16        224: 100%|██████████| 114/114 [00:14<00:00,  7.71it/s]\n",
            "               classes   top1_acc   top5_acc: 100%|██████████| 35/35 [00:06<00:00,  5.30it/s]"
          ]
        },
        {
          "name": "stdout",
          "output_type": "stream",
          "text": [
            "                   all      0.886          1\n"
          ]
        },
        {
          "name": "stderr",
          "output_type": "stream",
          "text": [
            "\n"
          ]
        },
        {
          "name": "stdout",
          "output_type": "stream",
          "text": [
            "\n",
            "      Epoch    GPU_mem       loss  Instances       Size\n"
          ]
        },
        {
          "name": "stderr",
          "output_type": "stream",
          "text": [
            "       7/20     0.309G     0.2679         16        224: 100%|██████████| 114/114 [00:14<00:00,  7.93it/s]\n",
            "               classes   top1_acc   top5_acc: 100%|██████████| 35/35 [00:07<00:00,  4.44it/s]"
          ]
        },
        {
          "name": "stdout",
          "output_type": "stream",
          "text": [
            "                   all      0.893          1\n"
          ]
        },
        {
          "name": "stderr",
          "output_type": "stream",
          "text": [
            "\n"
          ]
        },
        {
          "name": "stdout",
          "output_type": "stream",
          "text": [
            "\n",
            "      Epoch    GPU_mem       loss  Instances       Size\n"
          ]
        },
        {
          "name": "stderr",
          "output_type": "stream",
          "text": [
            "       8/20     0.318G     0.2243         16        224: 100%|██████████| 114/114 [00:14<00:00,  7.84it/s]\n",
            "               classes   top1_acc   top5_acc: 100%|██████████| 35/35 [00:07<00:00,  4.68it/s]"
          ]
        },
        {
          "name": "stdout",
          "output_type": "stream",
          "text": [
            "                   all      0.894          1\n"
          ]
        },
        {
          "name": "stderr",
          "output_type": "stream",
          "text": [
            "\n"
          ]
        },
        {
          "name": "stdout",
          "output_type": "stream",
          "text": [
            "\n",
            "      Epoch    GPU_mem       loss  Instances       Size\n"
          ]
        },
        {
          "name": "stderr",
          "output_type": "stream",
          "text": [
            "       9/20     0.326G     0.2271         16        224: 100%|██████████| 114/114 [00:14<00:00,  7.84it/s]\n",
            "               classes   top1_acc   top5_acc: 100%|██████████| 35/35 [00:06<00:00,  5.42it/s]"
          ]
        },
        {
          "name": "stdout",
          "output_type": "stream",
          "text": [
            "                   all       0.92          1\n"
          ]
        },
        {
          "name": "stderr",
          "output_type": "stream",
          "text": [
            "\n"
          ]
        },
        {
          "name": "stdout",
          "output_type": "stream",
          "text": [
            "\n",
            "      Epoch    GPU_mem       loss  Instances       Size\n"
          ]
        },
        {
          "name": "stderr",
          "output_type": "stream",
          "text": [
            "      10/20     0.336G     0.2189         16        224: 100%|██████████| 114/114 [00:15<00:00,  7.43it/s]\n",
            "               classes   top1_acc   top5_acc: 100%|██████████| 35/35 [00:06<00:00,  5.06it/s]"
          ]
        },
        {
          "name": "stdout",
          "output_type": "stream",
          "text": [
            "                   all      0.918          1\n"
          ]
        },
        {
          "name": "stderr",
          "output_type": "stream",
          "text": [
            "\n"
          ]
        },
        {
          "name": "stdout",
          "output_type": "stream",
          "text": [
            "\n",
            "      Epoch    GPU_mem       loss  Instances       Size\n"
          ]
        },
        {
          "name": "stderr",
          "output_type": "stream",
          "text": [
            "      11/20     0.336G     0.1991         16        224: 100%|██████████| 114/114 [00:14<00:00,  7.79it/s]\n",
            "               classes   top1_acc   top5_acc: 100%|██████████| 35/35 [00:07<00:00,  4.78it/s]"
          ]
        },
        {
          "name": "stdout",
          "output_type": "stream",
          "text": [
            "                   all      0.911          1\n"
          ]
        },
        {
          "name": "stderr",
          "output_type": "stream",
          "text": [
            "\n"
          ]
        },
        {
          "name": "stdout",
          "output_type": "stream",
          "text": [
            "\n",
            "      Epoch    GPU_mem       loss  Instances       Size\n"
          ]
        },
        {
          "name": "stderr",
          "output_type": "stream",
          "text": [
            "      12/20     0.336G     0.1878         16        224: 100%|██████████| 114/114 [00:14<00:00,  7.75it/s]\n",
            "               classes   top1_acc   top5_acc: 100%|██████████| 35/35 [00:06<00:00,  5.20it/s]"
          ]
        },
        {
          "name": "stdout",
          "output_type": "stream",
          "text": [
            "                   all      0.888          1\n"
          ]
        },
        {
          "name": "stderr",
          "output_type": "stream",
          "text": [
            "\n"
          ]
        },
        {
          "name": "stdout",
          "output_type": "stream",
          "text": [
            "\n",
            "      Epoch    GPU_mem       loss  Instances       Size\n"
          ]
        },
        {
          "name": "stderr",
          "output_type": "stream",
          "text": [
            "      13/20     0.336G     0.1583         16        224: 100%|██████████| 114/114 [00:14<00:00,  7.69it/s]\n",
            "               classes   top1_acc   top5_acc: 100%|██████████| 35/35 [00:06<00:00,  5.31it/s]"
          ]
        },
        {
          "name": "stdout",
          "output_type": "stream",
          "text": [
            "                   all       0.93          1\n"
          ]
        },
        {
          "name": "stderr",
          "output_type": "stream",
          "text": [
            "\n"
          ]
        },
        {
          "name": "stdout",
          "output_type": "stream",
          "text": [
            "\n",
            "      Epoch    GPU_mem       loss  Instances       Size\n"
          ]
        },
        {
          "name": "stderr",
          "output_type": "stream",
          "text": [
            "      14/20     0.336G     0.1466         16        224: 100%|██████████| 114/114 [00:14<00:00,  7.85it/s]\n",
            "               classes   top1_acc   top5_acc: 100%|██████████| 35/35 [00:07<00:00,  4.81it/s]"
          ]
        },
        {
          "name": "stdout",
          "output_type": "stream",
          "text": [
            "                   all      0.915          1\n"
          ]
        },
        {
          "name": "stderr",
          "output_type": "stream",
          "text": [
            "\n"
          ]
        },
        {
          "name": "stdout",
          "output_type": "stream",
          "text": [
            "\n",
            "      Epoch    GPU_mem       loss  Instances       Size\n"
          ]
        },
        {
          "name": "stderr",
          "output_type": "stream",
          "text": [
            "      15/20     0.336G     0.1352         16        224: 100%|██████████| 114/114 [00:14<00:00,  7.77it/s]\n",
            "               classes   top1_acc   top5_acc: 100%|██████████| 35/35 [00:07<00:00,  4.80it/s]"
          ]
        },
        {
          "name": "stdout",
          "output_type": "stream",
          "text": [
            "                   all      0.915          1\n"
          ]
        },
        {
          "name": "stderr",
          "output_type": "stream",
          "text": [
            "\n"
          ]
        },
        {
          "name": "stdout",
          "output_type": "stream",
          "text": [
            "\n",
            "      Epoch    GPU_mem       loss  Instances       Size\n"
          ]
        },
        {
          "name": "stderr",
          "output_type": "stream",
          "text": [
            "      16/20     0.336G     0.1064         16        224: 100%|██████████| 114/114 [00:14<00:00,  7.64it/s]\n",
            "               classes   top1_acc   top5_acc: 100%|██████████| 35/35 [00:06<00:00,  5.41it/s]"
          ]
        },
        {
          "name": "stdout",
          "output_type": "stream",
          "text": [
            "                   all      0.917          1\n"
          ]
        },
        {
          "name": "stderr",
          "output_type": "stream",
          "text": [
            "\n"
          ]
        },
        {
          "name": "stdout",
          "output_type": "stream",
          "text": [
            "\n",
            "      Epoch    GPU_mem       loss  Instances       Size\n"
          ]
        },
        {
          "name": "stderr",
          "output_type": "stream",
          "text": [
            "      17/20     0.336G     0.1318         16        224: 100%|██████████| 114/114 [00:14<00:00,  8.03it/s]\n",
            "               classes   top1_acc   top5_acc: 100%|██████████| 35/35 [00:07<00:00,  4.47it/s]"
          ]
        },
        {
          "name": "stdout",
          "output_type": "stream",
          "text": [
            "                   all      0.918          1\n"
          ]
        },
        {
          "name": "stderr",
          "output_type": "stream",
          "text": [
            "\n"
          ]
        },
        {
          "name": "stdout",
          "output_type": "stream",
          "text": [
            "\n",
            "      Epoch    GPU_mem       loss  Instances       Size\n"
          ]
        },
        {
          "name": "stderr",
          "output_type": "stream",
          "text": [
            "      18/20     0.336G     0.1003         16        224: 100%|██████████| 114/114 [00:14<00:00,  7.74it/s]\n",
            "               classes   top1_acc   top5_acc: 100%|██████████| 35/35 [00:07<00:00,  4.75it/s]"
          ]
        },
        {
          "name": "stdout",
          "output_type": "stream",
          "text": [
            "                   all      0.915          1\n"
          ]
        },
        {
          "name": "stderr",
          "output_type": "stream",
          "text": [
            "\n"
          ]
        },
        {
          "name": "stdout",
          "output_type": "stream",
          "text": [
            "\n",
            "      Epoch    GPU_mem       loss  Instances       Size\n"
          ]
        },
        {
          "name": "stderr",
          "output_type": "stream",
          "text": [
            "      19/20     0.336G     0.1046         16        224: 100%|██████████| 114/114 [00:14<00:00,  8.03it/s]\n",
            "               classes   top1_acc   top5_acc: 100%|██████████| 35/35 [00:06<00:00,  5.23it/s]"
          ]
        },
        {
          "name": "stdout",
          "output_type": "stream",
          "text": [
            "                   all      0.925          1\n"
          ]
        },
        {
          "name": "stderr",
          "output_type": "stream",
          "text": [
            "\n"
          ]
        },
        {
          "name": "stdout",
          "output_type": "stream",
          "text": [
            "\n",
            "      Epoch    GPU_mem       loss  Instances       Size\n"
          ]
        },
        {
          "name": "stderr",
          "output_type": "stream",
          "text": [
            "      20/20     0.336G    0.09343         16        224: 100%|██████████| 114/114 [00:15<00:00,  7.18it/s]\n",
            "               classes   top1_acc   top5_acc: 100%|██████████| 35/35 [00:06<00:00,  5.68it/s]"
          ]
        },
        {
          "name": "stdout",
          "output_type": "stream",
          "text": [
            "                   all      0.921          1\n"
          ]
        },
        {
          "name": "stderr",
          "output_type": "stream",
          "text": [
            "\n"
          ]
        },
        {
          "name": "stdout",
          "output_type": "stream",
          "text": [
            "\n",
            "20 epochs completed in 0.125 hours.\n",
            "Optimizer stripped from runs/classify/train7/weights/last.pt, 3.2MB\n",
            "Optimizer stripped from runs/classify/train7/weights/best.pt, 3.2MB\n",
            "\n",
            "Validating runs/classify/train7/weights/best.pt...\n",
            "Ultralytics 8.3.94 🚀 Python-3.11.11 torch-2.6.0+cu124 CUDA:0 (Tesla T4, 15095MiB)\n",
            "YOLO11n-cls summary (fused): 47 layers, 1,531,148 parameters, 0 gradients, 3.2 GFLOPs\n",
            "\u001b[34m\u001b[1mtrain:\u001b[0m /content/data/working/custom/train... found 1824 images in 4 classes ✅ \n",
            "\u001b[34m\u001b[1mval:\u001b[0m /content/data/working/custom/val... found 1093 images in 4 classes ✅ \n",
            "\u001b[34m\u001b[1mtest:\u001b[0m /content/data/working/custom/test... found 228 images in 4 classes ✅ \n"
          ]
        },
        {
          "name": "stderr",
          "output_type": "stream",
          "text": [
            "               classes   top1_acc   top5_acc: 100%|██████████| 35/35 [00:07<00:00,  4.51it/s]\n"
          ]
        },
        {
          "name": "stdout",
          "output_type": "stream",
          "text": [
            "                   all       0.93          1\n",
            "Speed: 0.1ms preprocess, 0.6ms inference, 0.0ms loss, 0.0ms postprocess per image\n",
            "Results saved to \u001b[1mruns/classify/train7\u001b[0m\n",
            "Ultralytics 8.3.94 🚀 Python-3.11.11 torch-2.6.0+cu124 CUDA:0 (Tesla T4, 15095MiB)\n",
            "YOLO11n-cls summary (fused): 47 layers, 1,531,148 parameters, 0 gradients, 3.2 GFLOPs\n",
            "\u001b[34m\u001b[1mtrain:\u001b[0m /content/data/working/custom/train... found 1824 images in 4 classes ✅ \n",
            "\u001b[34m\u001b[1mval:\u001b[0m /content/data/working/custom/val... found 1093 images in 4 classes ✅ \n",
            "\u001b[34m\u001b[1mtest:\u001b[0m /content/data/working/custom/test... found 228 images in 4 classes ✅ \n"
          ]
        },
        {
          "name": "stderr",
          "output_type": "stream",
          "text": [
            "\u001b[34m\u001b[1mval: \u001b[0mScanning /content/data/working/custom/val... 1093 images, 0 corrupt: 100%|██████████| 1093/1093 [00:00<?, ?it/s]\n",
            "               classes   top1_acc   top5_acc: 100%|██████████| 69/69 [00:08<00:00,  8.06it/s]\n"
          ]
        },
        {
          "name": "stdout",
          "output_type": "stream",
          "text": [
            "                   all       0.93          1\n",
            "Speed: 0.1ms preprocess, 0.8ms inference, 0.0ms loss, 0.0ms postprocess per image\n",
            "Results saved to \u001b[1mruns/classify/train72\u001b[0m\n"
          ]
        },
        {
          "ename": "AttributeError",
          "evalue": "'ClassifyMetrics' object has no attribute 'results'. See valid attributes below.\n\n    Class for computing classification metrics including top-1 and top-5 accuracy.\n\n    Attributes:\n        top1 (float): The top-1 accuracy.\n        top5 (float): The top-5 accuracy.\n        speed (dict): A dictionary containing the time taken for each step in the pipeline.\n        task (str): The task type, set to 'classify'.\n    ",
          "output_type": "error",
          "traceback": [
            "\u001b[0;31m---------------------------------------------------------------------------\u001b[0m",
            "\u001b[0;31mAttributeError\u001b[0m                            Traceback (most recent call last)",
            "\u001b[0;32m<ipython-input-6-57fba30a0f82>\u001b[0m in \u001b[0;36m<cell line: 0>\u001b[0;34m()\u001b[0m\n\u001b[1;32m     19\u001b[0m \u001b[0;34m\u001b[0m\u001b[0m\n\u001b[1;32m     20\u001b[0m \u001b[0;31m# Extract ground truth labels and predictions\u001b[0m\u001b[0;34m\u001b[0m\u001b[0;34m\u001b[0m\u001b[0m\n\u001b[0;32m---> 21\u001b[0;31m \u001b[0my_true\u001b[0m \u001b[0;34m=\u001b[0m \u001b[0mnp\u001b[0m\u001b[0;34m.\u001b[0m\u001b[0marray\u001b[0m\u001b[0;34m(\u001b[0m\u001b[0mmetrics\u001b[0m\u001b[0;34m.\u001b[0m\u001b[0mresults\u001b[0m\u001b[0;34m[\u001b[0m\u001b[0;34m:\u001b[0m\u001b[0;34m,\u001b[0m \u001b[0;36m1\u001b[0m\u001b[0;34m]\u001b[0m\u001b[0;34m,\u001b[0m \u001b[0mdtype\u001b[0m\u001b[0;34m=\u001b[0m\u001b[0mint\u001b[0m\u001b[0;34m)\u001b[0m  \u001b[0;31m# True labels\u001b[0m\u001b[0;34m\u001b[0m\u001b[0;34m\u001b[0m\u001b[0m\n\u001b[0m\u001b[1;32m     22\u001b[0m \u001b[0my_pred\u001b[0m \u001b[0;34m=\u001b[0m \u001b[0mnp\u001b[0m\u001b[0;34m.\u001b[0m\u001b[0marray\u001b[0m\u001b[0;34m(\u001b[0m\u001b[0mmetrics\u001b[0m\u001b[0;34m.\u001b[0m\u001b[0mresults\u001b[0m\u001b[0;34m[\u001b[0m\u001b[0;34m:\u001b[0m\u001b[0;34m,\u001b[0m \u001b[0;36m2\u001b[0m\u001b[0;34m]\u001b[0m\u001b[0;34m,\u001b[0m \u001b[0mdtype\u001b[0m\u001b[0;34m=\u001b[0m\u001b[0mint\u001b[0m\u001b[0;34m)\u001b[0m  \u001b[0;31m# Predicted labels\u001b[0m\u001b[0;34m\u001b[0m\u001b[0;34m\u001b[0m\u001b[0m\n\u001b[1;32m     23\u001b[0m \u001b[0;34m\u001b[0m\u001b[0m\n",
            "\u001b[0;32m/usr/local/lib/python3.11/dist-packages/ultralytics/utils/__init__.py\u001b[0m in \u001b[0;36m__getattr__\u001b[0;34m(self, attr)\u001b[0m\n\u001b[1;32m    238\u001b[0m         \u001b[0;34m\"\"\"Custom attribute access error message with helpful information.\"\"\"\u001b[0m\u001b[0;34m\u001b[0m\u001b[0;34m\u001b[0m\u001b[0m\n\u001b[1;32m    239\u001b[0m         \u001b[0mname\u001b[0m \u001b[0;34m=\u001b[0m \u001b[0mself\u001b[0m\u001b[0;34m.\u001b[0m\u001b[0m__class__\u001b[0m\u001b[0;34m.\u001b[0m\u001b[0m__name__\u001b[0m\u001b[0;34m\u001b[0m\u001b[0;34m\u001b[0m\u001b[0m\n\u001b[0;32m--> 240\u001b[0;31m         \u001b[0;32mraise\u001b[0m \u001b[0mAttributeError\u001b[0m\u001b[0;34m(\u001b[0m\u001b[0;34mf\"'{name}' object has no attribute '{attr}'. See valid attributes below.\\n{self.__doc__}\"\u001b[0m\u001b[0;34m)\u001b[0m\u001b[0;34m\u001b[0m\u001b[0;34m\u001b[0m\u001b[0m\n\u001b[0m\u001b[1;32m    241\u001b[0m \u001b[0;34m\u001b[0m\u001b[0m\n\u001b[1;32m    242\u001b[0m \u001b[0;34m\u001b[0m\u001b[0m\n",
            "\u001b[0;31mAttributeError\u001b[0m: 'ClassifyMetrics' object has no attribute 'results'. See valid attributes below.\n\n    Class for computing classification metrics including top-1 and top-5 accuracy.\n\n    Attributes:\n        top1 (float): The top-1 accuracy.\n        top5 (float): The top-5 accuracy.\n        speed (dict): A dictionary containing the time taken for each step in the pipeline.\n        task (str): The task type, set to 'classify'.\n    "
          ]
        }
      ],
      "source": [
        "from ultralytics import YOLO\n",
        "import wandb\n",
        "import numpy as np\n",
        "import matplotlib.pyplot as plt\n",
        "import seaborn as sns\n",
        "from sklearn.metrics import classification_report, confusion_matrix, accuracy_score\n",
        "\n",
        "# Initialize wandb in disabled mode\n",
        "wandb.init(mode=\"disabled\")\n",
        "\n",
        "# Load a pretrained YOLO model\n",
        "model = YOLO('yolo11n-cls.pt')\n",
        "\n",
        "# Train the model\n",
        "model.train(data='/content/data/working/custom', epochs=20)\n",
        "\n",
        "# Validate the model\n",
        "metrics = model.val()\n",
        "\n",
        "# Extract ground truth labels and predictions\n",
        "y_true = np.array(metrics.results[:, 1], dtype=int)  # True labels\n",
        "y_pred = np.array(metrics.results[:, 2], dtype=int)  # Predicted labels\n",
        "\n",
        "# Compute accuracy\n",
        "accuracy = accuracy_score(y_true, y_pred)\n",
        "\n",
        "# Compute classification report\n",
        "report = classification_report(y_true, y_pred, digits=4)\n",
        "\n",
        "# Compute confusion matrix\n",
        "cm = confusion_matrix(y_true, y_pred)\n",
        "\n",
        "# Print Accuracy, Precision, Recall, and F1-score\n",
        "print(f\"Accuracy: {accuracy:.4f}\")\n",
        "print(\"Classification Report:\\n\", report)\n",
        "\n",
        "# Plot confusion matrix\n",
        "plt.figure(figsize=(8, 6))\n",
        "sns.heatmap(cm, annot=True, fmt=\"d\", cmap=\"Blues\", xticklabels=np.unique(y_true), yticklabels=np.unique(y_true))\n",
        "plt.xlabel(\"Predicted Labels\")\n",
        "plt.ylabel(\"True Labels\")\n",
        "plt.title(\"Confusion Matrix\")\n",
        "plt.show()\n"
      ]
    },
    {
      "cell_type": "code",
      "execution_count": null,
      "metadata": {
        "colab": {
          "base_uri": "https://localhost:8080/",
          "height": 176
        },
        "id": "lcnuhtzGx4Ia",
        "outputId": "67845fc0-67fd-4270-da0e-575314693e98"
      },
      "outputs": [
        {
          "ename": "AttributeError",
          "evalue": "'tuple' object has no attribute 'shape'",
          "output_type": "error",
          "traceback": [
            "\u001b[0;31m---------------------------------------------------------------------------\u001b[0m",
            "\u001b[0;31mAttributeError\u001b[0m                            Traceback (most recent call last)",
            "\u001b[0;32m<ipython-input-29-ea54a4e0d51e>\u001b[0m in \u001b[0;36m<cell line: 0>\u001b[0;34m()\u001b[0m\n\u001b[1;32m      9\u001b[0m \u001b[0msample_image\u001b[0m \u001b[0;34m=\u001b[0m \u001b[0mtorch\u001b[0m\u001b[0;34m.\u001b[0m\u001b[0mrandn\u001b[0m\u001b[0;34m(\u001b[0m\u001b[0;36m1\u001b[0m\u001b[0;34m,\u001b[0m \u001b[0;36m3\u001b[0m\u001b[0;34m,\u001b[0m \u001b[0;36m256\u001b[0m\u001b[0;34m,\u001b[0m \u001b[0;36m256\u001b[0m\u001b[0;34m)\u001b[0m  \u001b[0;31m# Dummy image tensor\u001b[0m\u001b[0;34m\u001b[0m\u001b[0;34m\u001b[0m\u001b[0m\n\u001b[1;32m     10\u001b[0m \u001b[0mfeatures\u001b[0m \u001b[0;34m=\u001b[0m \u001b[0mextract_features\u001b[0m\u001b[0;34m(\u001b[0m\u001b[0myolo_model\u001b[0m\u001b[0;34m,\u001b[0m \u001b[0msample_image\u001b[0m\u001b[0;34m)\u001b[0m\u001b[0;34m\u001b[0m\u001b[0;34m\u001b[0m\u001b[0m\n\u001b[0;32m---> 11\u001b[0;31m \u001b[0mprint\u001b[0m\u001b[0;34m(\u001b[0m\u001b[0mfeatures\u001b[0m\u001b[0;34m.\u001b[0m\u001b[0mshape\u001b[0m\u001b[0;34m)\u001b[0m  \u001b[0;31m# Check the output dimensions\u001b[0m\u001b[0;34m\u001b[0m\u001b[0;34m\u001b[0m\u001b[0m\n\u001b[0m",
            "\u001b[0;31mAttributeError\u001b[0m: 'tuple' object has no attribute 'shape'"
          ]
        }
      ],
      "source": [
        "def extract_features(yolo_model, images):\n",
        "    \"\"\"Extract feature embeddings from an intermediate YOLO classification layer.\"\"\"\n",
        "    with torch.no_grad():\n",
        "        # Pass images through the YOLO model\n",
        "        features = yolo_model.model(images)  # Forward pass\n",
        "        return features  # May need to access specific layers\n",
        "\n",
        "# Test feature extraction\n",
        "sample_image = torch.randn(1, 3, 256, 256)  # Dummy image tensor\n",
        "features = extract_features(yolo_model, sample_image)\n",
        "print(features.shape)  # Check the output dimensions\n"
      ]
    },
    {
      "cell_type": "code",
      "execution_count": null,
      "metadata": {
        "colab": {
          "base_uri": "https://localhost:8080/"
        },
        "id": "Wh8MvA3du2iy",
        "outputId": "044fd12b-98d2-4f9b-9bd4-b77d8e70c948"
      },
      "outputs": [
        {
          "name": "stdout",
          "output_type": "stream",
          "text": [
            "[[        294           7          15           0]\n",
            " [          9         218           0          10]\n",
            " [         21           2         175           5]\n",
            " [          3           1           4         329]]\n"
          ]
        }
      ],
      "source": [
        "# Get the confusion matrix\n",
        "confusion_matrix = metrics.confusion_matrix.matrix\n",
        "print(confusion_matrix)"
      ]
    },
    {
      "cell_type": "code",
      "execution_count": null,
      "metadata": {
        "colab": {
          "base_uri": "https://localhost:8080/"
        },
        "id": "iIZfXUQED2ZW",
        "outputId": "065a05e9-eeb8-423c-bf5c-b46911efbbd9"
      },
      "outputs": [
        {
          "name": "stdout",
          "output_type": "stream",
          "text": [
            "[[        294           7          15           0]\n",
            " [          9         218           0          10]\n",
            " [         21           2         175           5]\n",
            " [          3           1           4         329]]\n"
          ]
        }
      ],
      "source": [
        "# prompt: confusion matrix code in figure\n",
        "\n",
        "import matplotlib.pyplot as plt\n",
        "import numpy as np\n",
        "# ... (Your existing code) ...\n",
        "confusion_matrix = metrics.confusion_matrix.matrix\n",
        "print(confusion_matrix)\n",
        "\n",
        "# Assuming you have y_true and y_pred from your model evaluation\n",
        "\n",
        "# Compute confusion matrix\n",
        "\n",
        "plt.show()\n"
      ]
    },
    {
      "cell_type": "code",
      "execution_count": null,
      "metadata": {
        "colab": {
          "base_uri": "https://localhost:8080/"
        },
        "id": "kd7g2mbVnpBp",
        "outputId": "0e62229f-4660-4fd1-e2c8-3ab6f29c7087"
      },
      "outputs": [
        {
          "name": "stdout",
          "output_type": "stream",
          "text": [
            "Precision: [    0.89908     0.95614     0.90206      0.9564]\n",
            "Recall: [    0.93038     0.91983     0.86207     0.97626]\n",
            "Accuracy: 0.929551692589204\n",
            "F1 Score: [    0.91446     0.93763     0.88161     0.96623]\n"
          ]
        }
      ],
      "source": [
        "# Import the numpy library for numerical operations\n",
        "import numpy as np\n",
        "\n",
        "# Define a function to calculate precision, recall, accuracy, and F1 score from a confusion matrix\n",
        "def calculate_metrics(confusion_matrix):\n",
        "    # Convert confusion matrix to a numpy array\n",
        "    cm = np.array(confusion_matrix)\n",
        "\n",
        "    # Calculate true positives (diagonal elements of the confusion matrix)\n",
        "    true_positives = np.diag(cm)\n",
        "    # Calculate false positives (sum of columns minus true positives)\n",
        "    false_positives = np.sum(cm, axis=0) - true_positives\n",
        "    # Calculate false negatives (sum of rows minus true positives)\n",
        "    false_negatives = np.sum(cm, axis=1) - true_positives\n",
        "\n",
        "    # Calculate precision for each class\n",
        "    precision = true_positives / (true_positives + false_positives)\n",
        "    # Calculate recall for each class\n",
        "    recall = true_positives / (true_positives + false_negatives)\n",
        "\n",
        "    # Avoid division by zero by setting NaN values to 0\n",
        "    precision = np.nan_to_num(precision)\n",
        "    recall = np.nan_to_num(recall)\n",
        "\n",
        "    # Calculate overall accuracy\n",
        "    accuracy = np.sum(true_positives) / np.sum(cm)\n",
        "\n",
        "    # Calculate F1 score for each class\n",
        "    f1_score = 2 * (precision * recall) / (precision + recall)\n",
        "\n",
        "    # Return the calculated metrics\n",
        "    return precision, recall, accuracy, f1_score\n",
        "\n",
        "# Calculate metrics using the given confusion matrix\n",
        "precision, recall, accuracy, f1_score = calculate_metrics(confusion_matrix)\n",
        "\n",
        "# Print the calculated metrics\n",
        "print(f'Precision: {precision}')\n",
        "print(f'Recall: {recall}')\n",
        "print(f'Accuracy: {accuracy}')\n",
        "print(f'F1 Score: {f1_score}')"
      ]
    },
    {
      "cell_type": "code",
      "execution_count": null,
      "metadata": {
        "colab": {
          "base_uri": "https://localhost:8080/",
          "height": 564
        },
        "id": "AXju4avinrtG",
        "outputId": "3ed33ae1-d270-4c74-d478-fca54842abe5"
      },
      "outputs": [
        {
          "data": {
            "image/png": "[encoded data removed]",
            "text/plain": [
              "<Figure size 1000x600 with 1 Axes>"
            ]
          },
          "metadata": {},
          "output_type": "display_data"
        }
      ],
      "source": [
        "# Import necessary libraries for plotting and numerical operations\n",
        "import matplotlib.pyplot as plt\n",
        "import numpy as np\n",
        "\n",
        "# Define the classes for the confusion matrix\n",
        "classes = ['Blight', 'Common_Rust', 'Gray_Leaf_Spot', 'Healthy']\n",
        "\n",
        "# Assign previously calculated metrics to variables\n",
        "Precision = precision\n",
        "Recall = recall\n",
        "Accuracy = accuracy\n",
        "f1_score = f1_score\n",
        "\n",
        "# Set the width of the bars in the bar plot\n",
        "bar_width = 0.25\n",
        "\n",
        "# Set the positions of the bars on the x-axis\n",
        "r1 = np.arange(len(classes))\n",
        "r2 = [x + bar_width for x in r1]\n",
        "r3 = [x + bar_width for x in r2]\n",
        "\n",
        "# Create the bar plot\n",
        "plt.figure(figsize=(10, 6))\n",
        "bars1 = plt.bar(r1, precision, color='b', width=bar_width, edgecolor='grey', label='Precision')\n",
        "bars2 = plt.bar(r2, recall, color='g', width=bar_width, edgecolor='grey', label='Recall')\n",
        "bars3 = plt.bar(r3, f1_score, color='r', width=bar_width, edgecolor='grey', label='F1 Score')\n",
        "\n",
        "# Add title and labels to the plot\n",
        "plt.title(f'Performance Metrics (Accuracy: {accuracy:.2f})')\n",
        "plt.xlabel('Classes', fontweight='bold')\n",
        "plt.ylabel('Scores', fontweight='bold')\n",
        "plt.xticks([r + bar_width for r in range(len(classes))], classes)\n",
        "\n",
        "# Add values on top of the bars for better readability\n",
        "for bar in bars1:\n",
        "    yval = bar.get_height()\n",
        "    plt.text(bar.get_x() + bar.get_width()/2.0, yval + 0.02, round(yval, 2), ha='center', va='bottom')\n",
        "\n",
        "for bar in bars2:\n",
        "    yval = bar.get_height()\n",
        "    plt.text(bar.get_x() + bar.get_width()/2.0, yval + 0.02, round(yval, 2), ha='center', va='bottom')\n",
        "\n",
        "for bar in bars3:\n",
        "    yval = bar.get_height()\n",
        "    plt.text(bar.get_x() + bar.get_width()/2.0, yval + 0.02, round(yval, 2), ha='center', va='bottom')\n",
        "\n",
        "# Add legend to the plot\n",
        "plt.legend()\n",
        "\n",
        "# Show the plot\n",
        "plt.show()"
      ]
    },
    {
      "cell_type": "code",
      "execution_count": null,
      "metadata": {
        "colab": {
          "base_uri": "https://localhost:8080/",
          "height": 862
        },
        "id": "2G_KW4QTFEEb",
        "outputId": "cd9b052d-5d80-41c6-db36-308261c1ff22"
      },
      "outputs": [
        {
          "name": "stdout",
          "output_type": "stream",
          "text": [
            "Ultralytics 8.3.94 🚀 Python-3.11.11 torch-2.6.0+cu124 CUDA:0 (Tesla T4, 15095MiB)\n",
            "\u001b[34m\u001b[1mengine/trainer: \u001b[0mtask=classify, mode=train, model=yolo11x-cls.pt, data=/content/data/working/custom, epochs=20, time=None, patience=100, batch=16, imgsz=224, save=True, save_period=-1, cache=False, device=None, workers=8, project=None, name=train12, exist_ok=False, pretrained=True, optimizer=auto, verbose=True, seed=0, deterministic=True, single_cls=False, rect=False, cos_lr=False, close_mosaic=10, resume=False, amp=True, fraction=1.0, profile=False, freeze=None, multi_scale=False, overlap_mask=True, mask_ratio=4, dropout=0.0, val=True, split=val, save_json=False, save_hybrid=False, conf=None, iou=0.7, max_det=300, half=False, dnn=False, plots=True, source=None, vid_stride=1, stream_buffer=False, visualize=False, augment=False, agnostic_nms=False, classes=None, retina_masks=False, embed=None, show=False, save_frames=False, save_txt=False, save_conf=False, save_crop=False, show_labels=True, show_conf=True, show_boxes=True, line_width=None, format=torchscript, keras=False, optimize=False, int8=False, dynamic=False, simplify=True, opset=None, workspace=None, nms=False, lr0=0.01, lrf=0.01, momentum=0.937, weight_decay=0.0005, warmup_epochs=3.0, warmup_momentum=0.8, warmup_bias_lr=0.1, box=7.5, cls=0.5, dfl=1.5, pose=12.0, kobj=1.0, nbs=64, hsv_h=0.015, hsv_s=0.7, hsv_v=0.4, degrees=0.0, translate=0.1, scale=0.5, shear=0.0, perspective=0.0, flipud=0.0, fliplr=0.5, bgr=0.0, mosaic=1.0, mixup=0.0, copy_paste=0.0, copy_paste_mode=flip, auto_augment=randaugment, erasing=0.4, crop_fraction=1.0, cfg=None, tracker=botsort.yaml, save_dir=runs/classify/train12\n",
            "\u001b[34m\u001b[1mtrain:\u001b[0m /content/data/working/custom/train... found 1824 images in 4 classes ✅ \n",
            "\u001b[34m\u001b[1mval:\u001b[0m /content/data/working/custom/val... found 1093 images in 4 classes ✅ \n",
            "\u001b[34m\u001b[1mtest:\u001b[0m /content/data/working/custom/test... found 228 images in 4 classes ✅ \n",
            "Overriding model.yaml nc=80 with nc=4\n",
            "\n",
            "                   from  n    params  module                                       arguments                     \n",
            "  0                  -1  1      2784  ultralytics.nn.modules.conv.Conv             [3, 96, 3, 2]                 \n",
            "  1                  -1  1    166272  ultralytics.nn.modules.conv.Conv             [96, 192, 3, 2]               \n",
            "  2                  -1  2    389760  ultralytics.nn.modules.block.C3k2            [192, 384, 2, True, 0.25]     \n",
            "  3                  -1  1   1327872  ultralytics.nn.modules.conv.Conv             [384, 384, 3, 2]              \n",
            "  4                  -1  2   1553664  ultralytics.nn.modules.block.C3k2            [384, 768, 2, True, 0.25]     \n",
            "  5                  -1  1   5309952  ultralytics.nn.modules.conv.Conv             [768, 768, 3, 2]              \n",
            "  6                  -1  2   5022720  ultralytics.nn.modules.block.C3k2            [768, 768, 2, True]           \n",
            "  7                  -1  1   5309952  ultralytics.nn.modules.conv.Conv             [768, 768, 3, 2]              \n",
            "  8                  -1  2   5022720  ultralytics.nn.modules.block.C3k2            [768, 768, 2, True]           \n",
            "  9                  -1  2   3264768  ultralytics.nn.modules.block.C2PSA           [768, 768, 2]                 \n",
            " 10                  -1  1    990724  ultralytics.nn.modules.head.Classify         [768, 4]                      \n",
            "YOLO11x-cls summary: 176 layers, 28,361,188 parameters, 28,361,188 gradients, 111.0 GFLOPs\n",
            "Transferred 492/494 items from pretrained weights\n",
            "\u001b[34m\u001b[1mTensorBoard: \u001b[0mStart with 'tensorboard --logdir runs/classify/train12', view at http://localhost:6006/\n",
            "\u001b[34m\u001b[1mAMP: \u001b[0mrunning Automatic Mixed Precision (AMP) checks...\n",
            "\u001b[34m\u001b[1mAMP: \u001b[0mchecks passed ✅\n"
          ]
        },
        {
          "name": "stderr",
          "output_type": "stream",
          "text": [
            "\u001b[34m\u001b[1mtrain: \u001b[0mScanning /content/data/working/custom/train... 1824 images, 0 corrupt: 100%|██████████| 1824/1824 [00:00<?, ?it/s]\n",
            "\u001b[34m\u001b[1mval: \u001b[0mScanning /content/data/working/custom/val... 1093 images, 0 corrupt: 100%|██████████| 1093/1093 [00:00<?, ?it/s]\n"
          ]
        },
        {
          "name": "stdout",
          "output_type": "stream",
          "text": [
            "\u001b[34m\u001b[1moptimizer:\u001b[0m 'optimizer=auto' found, ignoring 'lr0=0.01' and 'momentum=0.937' and determining best 'optimizer', 'lr0' and 'momentum' automatically... \n",
            "\u001b[34m\u001b[1moptimizer:\u001b[0m AdamW(lr=0.00125, momentum=0.9) with parameter groups 82 weight(decay=0.0), 83 weight(decay=0.0005), 83 bias(decay=0.0)\n"
          ]
        },
        {
          "ename": "KeyboardInterrupt",
          "evalue": "",
          "output_type": "error",
          "traceback": [
            "\u001b[0;31m---------------------------------------------------------------------------\u001b[0m",
            "\u001b[0;31mKeyboardInterrupt\u001b[0m                         Traceback (most recent call last)",
            "\u001b[0;32m<ipython-input-32-bdcabd24886a>\u001b[0m in \u001b[0;36m<cell line: 0>\u001b[0;34m()\u001b[0m\n\u001b[1;32m     13\u001b[0m \u001b[0;34m\u001b[0m\u001b[0m\n\u001b[1;32m     14\u001b[0m \u001b[0;31m# Train the model\u001b[0m\u001b[0;34m\u001b[0m\u001b[0;34m\u001b[0m\u001b[0m\n\u001b[0;32m---> 15\u001b[0;31m \u001b[0mmodel\u001b[0m\u001b[0;34m.\u001b[0m\u001b[0mtrain\u001b[0m\u001b[0;34m(\u001b[0m\u001b[0mdata\u001b[0m\u001b[0;34m=\u001b[0m\u001b[0;34m'/content/data/working/custom'\u001b[0m\u001b[0;34m,\u001b[0m \u001b[0mepochs\u001b[0m\u001b[0;34m=\u001b[0m\u001b[0;36m20\u001b[0m\u001b[0;34m)\u001b[0m\u001b[0;34m\u001b[0m\u001b[0;34m\u001b[0m\u001b[0m\n\u001b[0m\u001b[1;32m     16\u001b[0m \u001b[0;34m\u001b[0m\u001b[0m\n\u001b[1;32m     17\u001b[0m \u001b[0;31m# Validate the model\u001b[0m\u001b[0;34m\u001b[0m\u001b[0;34m\u001b[0m\u001b[0m\n",
            "\u001b[0;32m/usr/local/lib/python3.11/dist-packages/ultralytics/engine/model.py\u001b[0m in \u001b[0;36mtrain\u001b[0;34m(self, trainer, **kwargs)\u001b[0m\n\u001b[1;32m    789\u001b[0m \u001b[0;34m\u001b[0m\u001b[0m\n\u001b[1;32m    790\u001b[0m         \u001b[0mself\u001b[0m\u001b[0;34m.\u001b[0m\u001b[0mtrainer\u001b[0m\u001b[0;34m.\u001b[0m\u001b[0mhub_session\u001b[0m \u001b[0;34m=\u001b[0m \u001b[0mself\u001b[0m\u001b[0;34m.\u001b[0m\u001b[0msession\u001b[0m  \u001b[0;31m# attach optional HUB session\u001b[0m\u001b[0;34m\u001b[0m\u001b[0;34m\u001b[0m\u001b[0m\n\u001b[0;32m--> 791\u001b[0;31m         \u001b[0mself\u001b[0m\u001b[0;34m.\u001b[0m\u001b[0mtrainer\u001b[0m\u001b[0;34m.\u001b[0m\u001b[0mtrain\u001b[0m\u001b[0;34m(\u001b[0m\u001b[0;34m)\u001b[0m\u001b[0;34m\u001b[0m\u001b[0;34m\u001b[0m\u001b[0m\n\u001b[0m\u001b[1;32m    792\u001b[0m         \u001b[0;31m# Update model and cfg after training\u001b[0m\u001b[0;34m\u001b[0m\u001b[0;34m\u001b[0m\u001b[0m\n\u001b[1;32m    793\u001b[0m         \u001b[0;32mif\u001b[0m \u001b[0mRANK\u001b[0m \u001b[0;32min\u001b[0m \u001b[0;34m{\u001b[0m\u001b[0;34m-\u001b[0m\u001b[0;36m1\u001b[0m\u001b[0;34m,\u001b[0m \u001b[0;36m0\u001b[0m\u001b[0;34m}\u001b[0m\u001b[0;34m:\u001b[0m\u001b[0;34m\u001b[0m\u001b[0;34m\u001b[0m\u001b[0m\n",
            "\u001b[0;32m/usr/local/lib/python3.11/dist-packages/ultralytics/engine/trainer.py\u001b[0m in \u001b[0;36mtrain\u001b[0;34m(self)\u001b[0m\n\u001b[1;32m    209\u001b[0m \u001b[0;34m\u001b[0m\u001b[0m\n\u001b[1;32m    210\u001b[0m         \u001b[0;32melse\u001b[0m\u001b[0;34m:\u001b[0m\u001b[0;34m\u001b[0m\u001b[0;34m\u001b[0m\u001b[0m\n\u001b[0;32m--> 211\u001b[0;31m             \u001b[0mself\u001b[0m\u001b[0;34m.\u001b[0m\u001b[0m_do_train\u001b[0m\u001b[0;34m(\u001b[0m\u001b[0mworld_size\u001b[0m\u001b[0;34m)\u001b[0m\u001b[0;34m\u001b[0m\u001b[0;34m\u001b[0m\u001b[0m\n\u001b[0m\u001b[1;32m    212\u001b[0m \u001b[0;34m\u001b[0m\u001b[0m\n\u001b[1;32m    213\u001b[0m     \u001b[0;32mdef\u001b[0m \u001b[0m_setup_scheduler\u001b[0m\u001b[0;34m(\u001b[0m\u001b[0mself\u001b[0m\u001b[0;34m)\u001b[0m\u001b[0;34m:\u001b[0m\u001b[0;34m\u001b[0m\u001b[0;34m\u001b[0m\u001b[0m\n",
            "\u001b[0;32m/usr/local/lib/python3.11/dist-packages/ultralytics/engine/trainer.py\u001b[0m in \u001b[0;36m_do_train\u001b[0;34m(self, world_size)\u001b[0m\n\u001b[1;32m    332\u001b[0m         \u001b[0mself\u001b[0m\u001b[0;34m.\u001b[0m\u001b[0mepoch_time_start\u001b[0m \u001b[0;34m=\u001b[0m \u001b[0mtime\u001b[0m\u001b[0;34m.\u001b[0m\u001b[0mtime\u001b[0m\u001b[0;34m(\u001b[0m\u001b[0;34m)\u001b[0m\u001b[0;34m\u001b[0m\u001b[0;34m\u001b[0m\u001b[0m\n\u001b[1;32m    333\u001b[0m         \u001b[0mself\u001b[0m\u001b[0;34m.\u001b[0m\u001b[0mtrain_time_start\u001b[0m \u001b[0;34m=\u001b[0m \u001b[0mtime\u001b[0m\u001b[0;34m.\u001b[0m\u001b[0mtime\u001b[0m\u001b[0;34m(\u001b[0m\u001b[0;34m)\u001b[0m\u001b[0;34m\u001b[0m\u001b[0;34m\u001b[0m\u001b[0m\n\u001b[0;32m--> 334\u001b[0;31m         \u001b[0mself\u001b[0m\u001b[0;34m.\u001b[0m\u001b[0mrun_callbacks\u001b[0m\u001b[0;34m(\u001b[0m\u001b[0;34m\"on_train_start\"\u001b[0m\u001b[0;34m)\u001b[0m\u001b[0;34m\u001b[0m\u001b[0;34m\u001b[0m\u001b[0m\n\u001b[0m\u001b[1;32m    335\u001b[0m         LOGGER.info(\n\u001b[1;32m    336\u001b[0m             \u001b[0;34mf\"Image sizes {self.args.imgsz} train, {self.args.imgsz} val\\n\"\u001b[0m\u001b[0;34m\u001b[0m\u001b[0;34m\u001b[0m\u001b[0m\n",
            "\u001b[0;32m/usr/local/lib/python3.11/dist-packages/ultralytics/engine/trainer.py\u001b[0m in \u001b[0;36mrun_callbacks\u001b[0;34m(self, event)\u001b[0m\n\u001b[1;32m    170\u001b[0m         \u001b[0;34m\"\"\"Run all existing callbacks associated with a particular event.\"\"\"\u001b[0m\u001b[0;34m\u001b[0m\u001b[0;34m\u001b[0m\u001b[0m\n\u001b[1;32m    171\u001b[0m         \u001b[0;32mfor\u001b[0m \u001b[0mcallback\u001b[0m \u001b[0;32min\u001b[0m \u001b[0mself\u001b[0m\u001b[0;34m.\u001b[0m\u001b[0mcallbacks\u001b[0m\u001b[0;34m.\u001b[0m\u001b[0mget\u001b[0m\u001b[0;34m(\u001b[0m\u001b[0mevent\u001b[0m\u001b[0;34m,\u001b[0m \u001b[0;34m[\u001b[0m\u001b[0;34m]\u001b[0m\u001b[0;34m)\u001b[0m\u001b[0;34m:\u001b[0m\u001b[0;34m\u001b[0m\u001b[0;34m\u001b[0m\u001b[0m\n\u001b[0;32m--> 172\u001b[0;31m             \u001b[0mcallback\u001b[0m\u001b[0;34m(\u001b[0m\u001b[0mself\u001b[0m\u001b[0;34m)\u001b[0m\u001b[0;34m\u001b[0m\u001b[0;34m\u001b[0m\u001b[0m\n\u001b[0m\u001b[1;32m    173\u001b[0m \u001b[0;34m\u001b[0m\u001b[0m\n\u001b[1;32m    174\u001b[0m     \u001b[0;32mdef\u001b[0m \u001b[0mtrain\u001b[0m\u001b[0;34m(\u001b[0m\u001b[0mself\u001b[0m\u001b[0;34m)\u001b[0m\u001b[0;34m:\u001b[0m\u001b[0;34m\u001b[0m\u001b[0;34m\u001b[0m\u001b[0m\n",
            "\u001b[0;32m/usr/local/lib/python3.11/dist-packages/ultralytics/utils/callbacks/tensorboard.py\u001b[0m in \u001b[0;36mon_train_start\u001b[0;34m(trainer)\u001b[0m\n\u001b[1;32m     81\u001b[0m     \u001b[0;34m\"\"\"Log TensorBoard graph.\"\"\"\u001b[0m\u001b[0;34m\u001b[0m\u001b[0;34m\u001b[0m\u001b[0m\n\u001b[1;32m     82\u001b[0m     \u001b[0;32mif\u001b[0m \u001b[0mWRITER\u001b[0m\u001b[0;34m:\u001b[0m\u001b[0;34m\u001b[0m\u001b[0;34m\u001b[0m\u001b[0m\n\u001b[0;32m---> 83\u001b[0;31m         \u001b[0m_log_tensorboard_graph\u001b[0m\u001b[0;34m(\u001b[0m\u001b[0mtrainer\u001b[0m\u001b[0;34m)\u001b[0m\u001b[0;34m\u001b[0m\u001b[0;34m\u001b[0m\u001b[0m\n\u001b[0m\u001b[1;32m     84\u001b[0m \u001b[0;34m\u001b[0m\u001b[0m\n\u001b[1;32m     85\u001b[0m \u001b[0;34m\u001b[0m\u001b[0m\n",
            "\u001b[0;32m/usr/local/lib/python3.11/dist-packages/ultralytics/utils/callbacks/tensorboard.py\u001b[0m in \u001b[0;36m_log_tensorboard_graph\u001b[0;34m(trainer)\u001b[0m\n\u001b[1;32m     46\u001b[0m         \u001b[0;32mtry\u001b[0m\u001b[0;34m:\u001b[0m\u001b[0;34m\u001b[0m\u001b[0;34m\u001b[0m\u001b[0m\n\u001b[1;32m     47\u001b[0m             \u001b[0mtrainer\u001b[0m\u001b[0;34m.\u001b[0m\u001b[0mmodel\u001b[0m\u001b[0;34m.\u001b[0m\u001b[0meval\u001b[0m\u001b[0;34m(\u001b[0m\u001b[0;34m)\u001b[0m  \u001b[0;31m# place in .eval() mode to avoid BatchNorm statistics changes\u001b[0m\u001b[0;34m\u001b[0m\u001b[0;34m\u001b[0m\u001b[0m\n\u001b[0;32m---> 48\u001b[0;31m             \u001b[0mWRITER\u001b[0m\u001b[0;34m.\u001b[0m\u001b[0madd_graph\u001b[0m\u001b[0;34m(\u001b[0m\u001b[0mtorch\u001b[0m\u001b[0;34m.\u001b[0m\u001b[0mjit\u001b[0m\u001b[0;34m.\u001b[0m\u001b[0mtrace\u001b[0m\u001b[0;34m(\u001b[0m\u001b[0mde_parallel\u001b[0m\u001b[0;34m(\u001b[0m\u001b[0mtrainer\u001b[0m\u001b[0;34m.\u001b[0m\u001b[0mmodel\u001b[0m\u001b[0;34m)\u001b[0m\u001b[0;34m,\u001b[0m \u001b[0mim\u001b[0m\u001b[0;34m,\u001b[0m \u001b[0mstrict\u001b[0m\u001b[0;34m=\u001b[0m\u001b[0;32mFalse\u001b[0m\u001b[0;34m)\u001b[0m\u001b[0;34m,\u001b[0m \u001b[0;34m[\u001b[0m\u001b[0;34m]\u001b[0m\u001b[0;34m)\u001b[0m\u001b[0;34m\u001b[0m\u001b[0;34m\u001b[0m\u001b[0m\n\u001b[0m\u001b[1;32m     49\u001b[0m             \u001b[0mLOGGER\u001b[0m\u001b[0;34m.\u001b[0m\u001b[0minfo\u001b[0m\u001b[0;34m(\u001b[0m\u001b[0;34mf\"{PREFIX}model graph visualization added ✅\"\u001b[0m\u001b[0;34m)\u001b[0m\u001b[0;34m\u001b[0m\u001b[0;34m\u001b[0m\u001b[0m\n\u001b[1;32m     50\u001b[0m             \u001b[0;32mreturn\u001b[0m\u001b[0;34m\u001b[0m\u001b[0;34m\u001b[0m\u001b[0m\n",
            "\u001b[0;32m/usr/local/lib/python3.11/dist-packages/torch/jit/_trace.py\u001b[0m in \u001b[0;36mtrace\u001b[0;34m(func, example_inputs, optimize, check_trace, check_inputs, check_tolerance, strict, _force_outplace, _module_class, _compilation_unit, example_kwarg_inputs, _store_inputs)\u001b[0m\n\u001b[1;32m    998\u001b[0m     )\n\u001b[1;32m    999\u001b[0m \u001b[0;34m\u001b[0m\u001b[0m\n\u001b[0;32m-> 1000\u001b[0;31m     traced_func = _trace_impl(\n\u001b[0m\u001b[1;32m   1001\u001b[0m         \u001b[0mfunc\u001b[0m\u001b[0;34m,\u001b[0m\u001b[0;34m\u001b[0m\u001b[0;34m\u001b[0m\u001b[0m\n\u001b[1;32m   1002\u001b[0m         \u001b[0mexample_inputs\u001b[0m\u001b[0;34m,\u001b[0m\u001b[0;34m\u001b[0m\u001b[0;34m\u001b[0m\u001b[0m\n",
            "\u001b[0;32m/usr/local/lib/python3.11/dist-packages/torch/jit/_trace.py\u001b[0m in \u001b[0;36m_trace_impl\u001b[0;34m(func, example_inputs, optimize, check_trace, check_inputs, check_tolerance, strict, _force_outplace, _module_class, _compilation_unit, example_kwarg_inputs, _store_inputs)\u001b[0m\n\u001b[1;32m    694\u001b[0m             \u001b[0;32melse\u001b[0m\u001b[0;34m:\u001b[0m\u001b[0;34m\u001b[0m\u001b[0;34m\u001b[0m\u001b[0m\n\u001b[1;32m    695\u001b[0m                 \u001b[0;32mraise\u001b[0m \u001b[0mRuntimeError\u001b[0m\u001b[0;34m(\u001b[0m\u001b[0;34m\"example_kwarg_inputs should be a dict\"\u001b[0m\u001b[0;34m)\u001b[0m\u001b[0;34m\u001b[0m\u001b[0;34m\u001b[0m\u001b[0m\n\u001b[0;32m--> 696\u001b[0;31m         return trace_module(\n\u001b[0m\u001b[1;32m    697\u001b[0m             \u001b[0mfunc\u001b[0m\u001b[0;34m,\u001b[0m\u001b[0;34m\u001b[0m\u001b[0;34m\u001b[0m\u001b[0m\n\u001b[1;32m    698\u001b[0m             \u001b[0;34m{\u001b[0m\u001b[0;34m\"forward\"\u001b[0m\u001b[0;34m:\u001b[0m \u001b[0mexample_inputs\u001b[0m\u001b[0;34m}\u001b[0m\u001b[0;34m,\u001b[0m\u001b[0;34m\u001b[0m\u001b[0;34m\u001b[0m\u001b[0m\n",
            "\u001b[0;32m/usr/local/lib/python3.11/dist-packages/torch/jit/_trace.py\u001b[0m in \u001b[0;36mtrace_module\u001b[0;34m(mod, inputs, optimize, check_trace, check_inputs, check_tolerance, strict, _force_outplace, _module_class, _compilation_unit, example_inputs_is_kwarg, _store_inputs)\u001b[0m\n\u001b[1;32m   1302\u001b[0m                     )\n\u001b[1;32m   1303\u001b[0m                 \u001b[0;32melse\u001b[0m\u001b[0;34m:\u001b[0m\u001b[0;34m\u001b[0m\u001b[0;34m\u001b[0m\u001b[0m\n\u001b[0;32m-> 1304\u001b[0;31m                     _check_trace(\n\u001b[0m\u001b[1;32m   1305\u001b[0m                         \u001b[0;34m[\u001b[0m\u001b[0minputs\u001b[0m\u001b[0;34m]\u001b[0m\u001b[0;34m,\u001b[0m\u001b[0;34m\u001b[0m\u001b[0;34m\u001b[0m\u001b[0m\n\u001b[1;32m   1306\u001b[0m                         \u001b[0mfunc\u001b[0m\u001b[0;34m,\u001b[0m\u001b[0;34m\u001b[0m\u001b[0;34m\u001b[0m\u001b[0m\n",
            "\u001b[0;32m/usr/local/lib/python3.11/dist-packages/torch/utils/_contextlib.py\u001b[0m in \u001b[0;36mdecorate_context\u001b[0;34m(*args, **kwargs)\u001b[0m\n\u001b[1;32m    114\u001b[0m     \u001b[0;32mdef\u001b[0m \u001b[0mdecorate_context\u001b[0m\u001b[0;34m(\u001b[0m\u001b[0;34m*\u001b[0m\u001b[0margs\u001b[0m\u001b[0;34m,\u001b[0m \u001b[0;34m**\u001b[0m\u001b[0mkwargs\u001b[0m\u001b[0;34m)\u001b[0m\u001b[0;34m:\u001b[0m\u001b[0;34m\u001b[0m\u001b[0;34m\u001b[0m\u001b[0m\n\u001b[1;32m    115\u001b[0m         \u001b[0;32mwith\u001b[0m \u001b[0mctx_factory\u001b[0m\u001b[0;34m(\u001b[0m\u001b[0;34m)\u001b[0m\u001b[0;34m:\u001b[0m\u001b[0;34m\u001b[0m\u001b[0;34m\u001b[0m\u001b[0m\n\u001b[0;32m--> 116\u001b[0;31m             \u001b[0;32mreturn\u001b[0m \u001b[0mfunc\u001b[0m\u001b[0;34m(\u001b[0m\u001b[0;34m*\u001b[0m\u001b[0margs\u001b[0m\u001b[0;34m,\u001b[0m \u001b[0;34m**\u001b[0m\u001b[0mkwargs\u001b[0m\u001b[0;34m)\u001b[0m\u001b[0;34m\u001b[0m\u001b[0;34m\u001b[0m\u001b[0m\n\u001b[0m\u001b[1;32m    117\u001b[0m \u001b[0;34m\u001b[0m\u001b[0m\n\u001b[1;32m    118\u001b[0m     \u001b[0;32mreturn\u001b[0m \u001b[0mdecorate_context\u001b[0m\u001b[0;34m\u001b[0m\u001b[0;34m\u001b[0m\u001b[0m\n",
            "\u001b[0;32m/usr/local/lib/python3.11/dist-packages/torch/jit/_trace.py\u001b[0m in \u001b[0;36m_check_trace\u001b[0;34m(check_inputs, func, traced_func, check_tolerance, strict, force_outplace, is_trace_module, _module_class, example_inputs_is_kwarg)\u001b[0m\n\u001b[1;32m    578\u001b[0m             \u001b[0;32mreturn\u001b[0m \u001b[0mall_ok\u001b[0m\u001b[0;34m\u001b[0m\u001b[0;34m\u001b[0m\u001b[0m\n\u001b[1;32m    579\u001b[0m \u001b[0;34m\u001b[0m\u001b[0m\n\u001b[0;32m--> 580\u001b[0;31m         \u001b[0mtraced_outs\u001b[0m \u001b[0;34m=\u001b[0m \u001b[0mrun_mod_and_filter_tensor_outputs\u001b[0m\u001b[0;34m(\u001b[0m\u001b[0mtraced_func\u001b[0m\u001b[0;34m,\u001b[0m \u001b[0minputs\u001b[0m\u001b[0;34m,\u001b[0m \u001b[0;34m\"trace\"\u001b[0m\u001b[0;34m)\u001b[0m\u001b[0;34m\u001b[0m\u001b[0;34m\u001b[0m\u001b[0m\n\u001b[0m\u001b[1;32m    581\u001b[0m         \u001b[0mfn_outs\u001b[0m \u001b[0;34m=\u001b[0m \u001b[0mrun_mod_and_filter_tensor_outputs\u001b[0m\u001b[0;34m(\u001b[0m\u001b[0mfunc\u001b[0m\u001b[0;34m,\u001b[0m \u001b[0minputs\u001b[0m\u001b[0;34m,\u001b[0m \u001b[0;34m\"Python function\"\u001b[0m\u001b[0;34m)\u001b[0m\u001b[0;34m\u001b[0m\u001b[0;34m\u001b[0m\u001b[0m\n\u001b[1;32m    582\u001b[0m         \u001b[0;32mif\u001b[0m \u001b[0mcompare_outputs\u001b[0m\u001b[0;34m(\u001b[0m\u001b[0mtraced_outs\u001b[0m\u001b[0;34m,\u001b[0m \u001b[0mfn_outs\u001b[0m\u001b[0;34m,\u001b[0m \u001b[0;34m\"Python function\"\u001b[0m\u001b[0;34m)\u001b[0m\u001b[0;34m:\u001b[0m\u001b[0;34m\u001b[0m\u001b[0;34m\u001b[0m\u001b[0m\n",
            "\u001b[0;32m/usr/local/lib/python3.11/dist-packages/torch/jit/_trace.py\u001b[0m in \u001b[0;36mrun_mod_and_filter_tensor_outputs\u001b[0;34m(mod, inputs, running_what)\u001b[0m\n\u001b[1;32m    473\u001b[0m                     \u001b[0mouts\u001b[0m \u001b[0;34m=\u001b[0m \u001b[0mwrap_retval\u001b[0m\u001b[0;34m(\u001b[0m\u001b[0mmod\u001b[0m\u001b[0;34m(\u001b[0m\u001b[0;34m**\u001b[0m\u001b[0minputs\u001b[0m\u001b[0;34m)\u001b[0m\u001b[0;34m)\u001b[0m\u001b[0;34m\u001b[0m\u001b[0;34m\u001b[0m\u001b[0m\n\u001b[1;32m    474\u001b[0m                 \u001b[0;32melse\u001b[0m\u001b[0;34m:\u001b[0m\u001b[0;34m\u001b[0m\u001b[0;34m\u001b[0m\u001b[0m\n\u001b[0;32m--> 475\u001b[0;31m                     \u001b[0mouts\u001b[0m \u001b[0;34m=\u001b[0m \u001b[0mwrap_retval\u001b[0m\u001b[0;34m(\u001b[0m\u001b[0mmod\u001b[0m\u001b[0;34m(\u001b[0m\u001b[0;34m*\u001b[0m\u001b[0m_clone_inputs\u001b[0m\u001b[0;34m(\u001b[0m\u001b[0minputs\u001b[0m\u001b[0;34m)\u001b[0m\u001b[0;34m)\u001b[0m\u001b[0;34m)\u001b[0m\u001b[0;34m\u001b[0m\u001b[0;34m\u001b[0m\u001b[0m\n\u001b[0m\u001b[1;32m    476\u001b[0m                 \u001b[0mouts\u001b[0m \u001b[0;34m=\u001b[0m \u001b[0;34m[\u001b[0m\u001b[0mout\u001b[0m \u001b[0;32mfor\u001b[0m \u001b[0mout\u001b[0m \u001b[0;32min\u001b[0m \u001b[0mouts\u001b[0m \u001b[0;32mif\u001b[0m \u001b[0misinstance\u001b[0m\u001b[0;34m(\u001b[0m\u001b[0mout\u001b[0m\u001b[0;34m,\u001b[0m \u001b[0mtorch\u001b[0m\u001b[0;34m.\u001b[0m\u001b[0mTensor\u001b[0m\u001b[0;34m)\u001b[0m\u001b[0;34m]\u001b[0m\u001b[0;34m\u001b[0m\u001b[0;34m\u001b[0m\u001b[0m\n\u001b[1;32m    477\u001b[0m                 \u001b[0;32mreturn\u001b[0m \u001b[0mouts\u001b[0m\u001b[0;34m\u001b[0m\u001b[0;34m\u001b[0m\u001b[0m\n",
            "\u001b[0;31mKeyboardInterrupt\u001b[0m: "
          ]
        }
      ],
      "source": [
        "from ultralytics import YOLO\n",
        "import wandb\n",
        "import numpy as np\n",
        "import matplotlib.pyplot as plt\n",
        "import seaborn as sns\n",
        "from sklearn.metrics import classification_report, confusion_matrix, accuracy_score\n",
        "\n",
        "# Initialize wandb in disabled mode\n",
        "wandb.init(mode=\"disabled\")\n",
        "\n",
        "# Load a pretrained YOLO model\n",
        "model = YOLO('yolo11x-cls.pt')\n",
        "\n",
        "# Train the model\n",
        "model.train(data='/content/data/working/custom', epochs=20)\n",
        "\n",
        "# Validate the model\n",
        "metrics = model.val()\n",
        "\n",
        "\n",
        "\n",
        "\n",
        "\n"
      ]
    },
    {
      "cell_type": "code",
      "execution_count": null,
      "metadata": {
        "colab": {
          "base_uri": "https://localhost:8080/",
          "height": 1000
        },
        "id": "ZXeFq40-PWIR",
        "outputId": "8541b69c-12ad-42f0-cc36-4c61f70da9aa"
      },
      "outputs": [
        {
          "name": "stdout",
          "output_type": "stream",
          "text": [
            "Ultralytics 8.3.94 🚀 Python-3.11.11 torch-2.6.0+cu124 CUDA:0 (Tesla T4, 15095MiB)\n",
            "\u001b[34m\u001b[1mengine/trainer: \u001b[0mtask=classify, mode=train, model=yolo11n-cls.pt, data=/content/data/working/custom, epochs=10, time=None, patience=20, batch=64, imgsz=256, save=True, save_period=-1, cache=False, device=0, workers=8, project=None, name=train13, exist_ok=False, pretrained=True, optimizer=AdamW, verbose=True, seed=0, deterministic=True, single_cls=False, rect=False, cos_lr=False, close_mosaic=10, resume=False, amp=True, fraction=1.0, profile=False, freeze=None, multi_scale=False, overlap_mask=True, mask_ratio=4, dropout=0.0, val=True, split=val, save_json=False, save_hybrid=False, conf=None, iou=0.7, max_det=300, half=False, dnn=False, plots=True, source=None, vid_stride=1, stream_buffer=False, visualize=False, augment=True, agnostic_nms=False, classes=None, retina_masks=False, embed=None, show=False, save_frames=False, save_txt=False, save_conf=False, save_crop=False, show_labels=True, show_conf=True, show_boxes=True, line_width=None, format=torchscript, keras=False, optimize=False, int8=False, dynamic=False, simplify=True, opset=None, workspace=None, nms=False, lr0=0.0001, lrf=0.01, momentum=0.937, weight_decay=0.0001, warmup_epochs=3.0, warmup_momentum=0.8, warmup_bias_lr=0.1, box=7.5, cls=0.5, dfl=1.5, pose=12.0, kobj=1.0, nbs=64, hsv_h=0.015, hsv_s=0.7, hsv_v=0.4, degrees=0.0, translate=0.1, scale=0.5, shear=0.0, perspective=0.0, flipud=0.0, fliplr=0.5, bgr=0.0, mosaic=1.0, mixup=0.0, copy_paste=0.0, copy_paste_mode=flip, auto_augment=randaugment, erasing=0.4, crop_fraction=1.0, cfg=None, tracker=botsort.yaml, save_dir=runs/classify/train13\n",
            "\u001b[34m\u001b[1mtrain:\u001b[0m /content/data/working/custom/train... found 1824 images in 4 classes ✅ \n",
            "\u001b[34m\u001b[1mval:\u001b[0m /content/data/working/custom/val... found 1093 images in 4 classes ✅ \n",
            "\u001b[34m\u001b[1mtest:\u001b[0m /content/data/working/custom/test... found 228 images in 4 classes ✅ \n",
            "Overriding model.yaml nc=80 with nc=4\n",
            "\n",
            "                   from  n    params  module                                       arguments                     \n",
            "  0                  -1  1       464  ultralytics.nn.modules.conv.Conv             [3, 16, 3, 2]                 \n",
            "  1                  -1  1      4672  ultralytics.nn.modules.conv.Conv             [16, 32, 3, 2]                \n",
            "  2                  -1  1      6640  ultralytics.nn.modules.block.C3k2            [32, 64, 1, False, 0.25]      \n",
            "  3                  -1  1     36992  ultralytics.nn.modules.conv.Conv             [64, 64, 3, 2]                \n",
            "  4                  -1  1     26080  ultralytics.nn.modules.block.C3k2            [64, 128, 1, False, 0.25]     \n",
            "  5                  -1  1    147712  ultralytics.nn.modules.conv.Conv             [128, 128, 3, 2]              \n",
            "  6                  -1  1     87040  ultralytics.nn.modules.block.C3k2            [128, 128, 1, True]           \n",
            "  7                  -1  1    295424  ultralytics.nn.modules.conv.Conv             [128, 256, 3, 2]              \n",
            "  8                  -1  1    346112  ultralytics.nn.modules.block.C3k2            [256, 256, 1, True]           \n",
            "  9                  -1  1    249728  ultralytics.nn.modules.block.C2PSA           [256, 256, 1]                 \n",
            " 10                  -1  1    335364  ultralytics.nn.modules.head.Classify         [256, 4]                      \n",
            "YOLO11n-cls summary: 86 layers, 1,536,228 parameters, 1,536,228 gradients, 3.3 GFLOPs\n",
            "Transferred 234/236 items from pretrained weights\n",
            "\u001b[34m\u001b[1mTensorBoard: \u001b[0mStart with 'tensorboard --logdir runs/classify/train13', view at http://localhost:6006/\n",
            "\u001b[34m\u001b[1mAMP: \u001b[0mrunning Automatic Mixed Precision (AMP) checks...\n",
            "\u001b[34m\u001b[1mAMP: \u001b[0mchecks passed ✅\n"
          ]
        },
        {
          "name": "stderr",
          "output_type": "stream",
          "text": [
            "\u001b[34m\u001b[1mtrain: \u001b[0mScanning /content/data/working/custom/train... 1824 images, 0 corrupt: 100%|██████████| 1824/1824 [00:00<?, ?it/s]\n",
            "\u001b[34m\u001b[1mval: \u001b[0mScanning /content/data/working/custom/val... 1093 images, 0 corrupt: 100%|██████████| 1093/1093 [00:00<?, ?it/s]\n"
          ]
        },
        {
          "name": "stdout",
          "output_type": "stream",
          "text": [
            "\u001b[34m\u001b[1moptimizer:\u001b[0m AdamW(lr=0.0001, momentum=0.937) with parameter groups 39 weight(decay=0.0), 40 weight(decay=0.0001), 40 bias(decay=0.0)\n",
            "\u001b[34m\u001b[1mTensorBoard: \u001b[0mmodel graph visualization added ✅\n",
            "Image sizes 256 train, 256 val\n",
            "Using 2 dataloader workers\n",
            "Logging results to \u001b[1mruns/classify/train13\u001b[0m\n",
            "Starting training for 10 epochs...\n",
            "\n",
            "      Epoch    GPU_mem       loss  Instances       Size\n"
          ]
        },
        {
          "name": "stderr",
          "output_type": "stream",
          "text": [
            "       1/10      2.77G     0.6313         32        256: 100%|██████████| 29/29 [00:15<00:00,  1.87it/s]\n",
            "               classes   top1_acc   top5_acc: 100%|██████████| 9/9 [00:06<00:00,  1.41it/s]"
          ]
        },
        {
          "name": "stdout",
          "output_type": "stream",
          "text": [
            "                   all      0.741          1\n"
          ]
        },
        {
          "name": "stderr",
          "output_type": "stream",
          "text": [
            "\n"
          ]
        },
        {
          "name": "stdout",
          "output_type": "stream",
          "text": [
            "\n",
            "      Epoch    GPU_mem       loss  Instances       Size\n"
          ]
        },
        {
          "name": "stderr",
          "output_type": "stream",
          "text": [
            "       2/10      2.77G     0.3378         32        256: 100%|██████████| 29/29 [00:14<00:00,  1.94it/s]\n",
            "               classes   top1_acc   top5_acc: 100%|██████████| 9/9 [00:04<00:00,  1.97it/s]"
          ]
        },
        {
          "name": "stdout",
          "output_type": "stream",
          "text": [
            "                   all      0.826          1\n"
          ]
        },
        {
          "name": "stderr",
          "output_type": "stream",
          "text": [
            "\n"
          ]
        },
        {
          "name": "stdout",
          "output_type": "stream",
          "text": [
            "\n",
            "      Epoch    GPU_mem       loss  Instances       Size\n"
          ]
        },
        {
          "name": "stderr",
          "output_type": "stream",
          "text": [
            "       3/10      2.77G     0.2741         32        256: 100%|██████████| 29/29 [00:16<00:00,  1.75it/s]\n",
            "               classes   top1_acc   top5_acc: 100%|██████████| 9/9 [00:04<00:00,  1.92it/s]"
          ]
        },
        {
          "name": "stdout",
          "output_type": "stream",
          "text": [
            "                   all      0.886          1\n"
          ]
        },
        {
          "name": "stderr",
          "output_type": "stream",
          "text": [
            "\n"
          ]
        },
        {
          "name": "stdout",
          "output_type": "stream",
          "text": [
            "\n",
            "      Epoch    GPU_mem       loss  Instances       Size\n"
          ]
        },
        {
          "name": "stderr",
          "output_type": "stream",
          "text": [
            "       4/10      2.77G     0.2214         32        256: 100%|██████████| 29/29 [00:15<00:00,  1.93it/s]\n",
            "               classes   top1_acc   top5_acc: 100%|██████████| 9/9 [00:05<00:00,  1.68it/s]"
          ]
        },
        {
          "name": "stdout",
          "output_type": "stream",
          "text": [
            "                   all      0.892          1\n"
          ]
        },
        {
          "name": "stderr",
          "output_type": "stream",
          "text": [
            "\n"
          ]
        },
        {
          "name": "stdout",
          "output_type": "stream",
          "text": [
            "\n",
            "      Epoch    GPU_mem       loss  Instances       Size\n"
          ]
        },
        {
          "name": "stderr",
          "output_type": "stream",
          "text": [
            "       5/10      2.77G     0.2029         32        256: 100%|██████████| 29/29 [00:19<00:00,  1.50it/s]\n",
            "               classes   top1_acc   top5_acc: 100%|██████████| 9/9 [00:05<00:00,  1.66it/s]"
          ]
        },
        {
          "name": "stdout",
          "output_type": "stream",
          "text": [
            "                   all      0.899          1\n"
          ]
        },
        {
          "name": "stderr",
          "output_type": "stream",
          "text": [
            "\n"
          ]
        },
        {
          "name": "stdout",
          "output_type": "stream",
          "text": [
            "\n",
            "      Epoch    GPU_mem       loss  Instances       Size\n"
          ]
        },
        {
          "name": "stderr",
          "output_type": "stream",
          "text": [
            "       6/10      2.77G     0.1888         32        256: 100%|██████████| 29/29 [00:15<00:00,  1.83it/s]\n",
            "               classes   top1_acc   top5_acc: 100%|██████████| 9/9 [00:04<00:00,  1.81it/s]"
          ]
        },
        {
          "name": "stdout",
          "output_type": "stream",
          "text": [
            "                   all      0.896          1\n"
          ]
        },
        {
          "name": "stderr",
          "output_type": "stream",
          "text": [
            "\n"
          ]
        },
        {
          "name": "stdout",
          "output_type": "stream",
          "text": [
            "\n",
            "      Epoch    GPU_mem       loss  Instances       Size\n"
          ]
        },
        {
          "name": "stderr",
          "output_type": "stream",
          "text": [
            "       7/10      2.77G     0.1788         32        256: 100%|██████████| 29/29 [00:15<00:00,  1.86it/s]\n",
            "               classes   top1_acc   top5_acc: 100%|██████████| 9/9 [00:06<00:00,  1.43it/s]"
          ]
        },
        {
          "name": "stdout",
          "output_type": "stream",
          "text": [
            "                   all      0.898          1\n"
          ]
        },
        {
          "name": "stderr",
          "output_type": "stream",
          "text": [
            "\n"
          ]
        },
        {
          "name": "stdout",
          "output_type": "stream",
          "text": [
            "\n",
            "      Epoch    GPU_mem       loss  Instances       Size\n"
          ]
        },
        {
          "name": "stderr",
          "output_type": "stream",
          "text": [
            "       8/10      2.77G     0.1708         32        256: 100%|██████████| 29/29 [00:14<00:00,  1.97it/s]\n",
            "               classes   top1_acc   top5_acc: 100%|██████████| 9/9 [00:06<00:00,  1.31it/s]"
          ]
        },
        {
          "name": "stdout",
          "output_type": "stream",
          "text": [
            "                   all      0.903          1\n"
          ]
        },
        {
          "name": "stderr",
          "output_type": "stream",
          "text": [
            "\n"
          ]
        },
        {
          "name": "stdout",
          "output_type": "stream",
          "text": [
            "\n",
            "      Epoch    GPU_mem       loss  Instances       Size\n"
          ]
        },
        {
          "name": "stderr",
          "output_type": "stream",
          "text": [
            "       9/10      2.77G     0.1784         32        256: 100%|██████████| 29/29 [00:13<00:00,  2.10it/s]\n",
            "               classes   top1_acc   top5_acc: 100%|██████████| 9/9 [00:04<00:00,  2.00it/s]"
          ]
        },
        {
          "name": "stdout",
          "output_type": "stream",
          "text": [
            "                   all      0.904          1\n"
          ]
        },
        {
          "name": "stderr",
          "output_type": "stream",
          "text": [
            "\n"
          ]
        },
        {
          "name": "stdout",
          "output_type": "stream",
          "text": [
            "\n",
            "      Epoch    GPU_mem       loss  Instances       Size\n"
          ]
        },
        {
          "name": "stderr",
          "output_type": "stream",
          "text": [
            "      10/10      2.77G      0.173         32        256: 100%|██████████| 29/29 [00:15<00:00,  1.88it/s]\n",
            "               classes   top1_acc   top5_acc: 100%|██████████| 9/9 [00:06<00:00,  1.45it/s]"
          ]
        },
        {
          "name": "stdout",
          "output_type": "stream",
          "text": [
            "                   all      0.906          1\n"
          ]
        },
        {
          "name": "stderr",
          "output_type": "stream",
          "text": [
            "\n"
          ]
        },
        {
          "name": "stdout",
          "output_type": "stream",
          "text": [
            "\n",
            "10 epochs completed in 0.062 hours.\n",
            "Optimizer stripped from runs/classify/train13/weights/last.pt, 3.2MB\n",
            "Optimizer stripped from runs/classify/train13/weights/best.pt, 3.2MB\n",
            "\n",
            "Validating runs/classify/train13/weights/best.pt...\n",
            "Ultralytics 8.3.94 🚀 Python-3.11.11 torch-2.6.0+cu124 CUDA:0 (Tesla T4, 15095MiB)\n",
            "YOLO11n-cls summary (fused): 47 layers, 1,531,148 parameters, 0 gradients, 3.2 GFLOPs\n",
            "\u001b[34m\u001b[1mtrain:\u001b[0m /content/data/working/custom/train... found 1824 images in 4 classes ✅ \n",
            "\u001b[34m\u001b[1mval:\u001b[0m /content/data/working/custom/val... found 1093 images in 4 classes ✅ \n",
            "\u001b[34m\u001b[1mtest:\u001b[0m /content/data/working/custom/test... found 228 images in 4 classes ✅ \n"
          ]
        },
        {
          "name": "stderr",
          "output_type": "stream",
          "text": [
            "\r               classes   top1_acc   top5_acc:   0%|          | 0/9 [00:00<?, ?it/s]"
          ]
        },
        {
          "name": "stdout",
          "output_type": "stream",
          "text": [
            "WARNING ⚠️ ClassificationModel does not support 'augment=True' prediction. Reverting to single-scale prediction.\n"
          ]
        },
        {
          "name": "stderr",
          "output_type": "stream",
          "text": [
            "\r               classes   top1_acc   top5_acc:  11%|█         | 1/9 [00:00<00:01,  6.45it/s]"
          ]
        },
        {
          "name": "stdout",
          "output_type": "stream",
          "text": [
            "WARNING ⚠️ ClassificationModel does not support 'augment=True' prediction. Reverting to single-scale prediction.\n"
          ]
        },
        {
          "name": "stderr",
          "output_type": "stream",
          "text": [
            "\r               classes   top1_acc   top5_acc:  22%|██▏       | 2/9 [00:00<00:01,  3.82it/s]"
          ]
        },
        {
          "name": "stdout",
          "output_type": "stream",
          "text": [
            "WARNING ⚠️ ClassificationModel does not support 'augment=True' prediction. Reverting to single-scale prediction.\n"
          ]
        },
        {
          "name": "stderr",
          "output_type": "stream",
          "text": [
            "\r               classes   top1_acc   top5_acc:  33%|███▎      | 3/9 [00:02<00:07,  1.24s/it]"
          ]
        },
        {
          "name": "stdout",
          "output_type": "stream",
          "text": [
            "WARNING ⚠️ ClassificationModel does not support 'augment=True' prediction. Reverting to single-scale prediction.\n"
          ]
        },
        {
          "name": "stderr",
          "output_type": "stream",
          "text": [
            "\r               classes   top1_acc   top5_acc:  44%|████▍     | 4/9 [00:03<00:04,  1.01it/s]"
          ]
        },
        {
          "name": "stdout",
          "output_type": "stream",
          "text": [
            "WARNING ⚠️ ClassificationModel does not support 'augment=True' prediction. Reverting to single-scale prediction.\n"
          ]
        },
        {
          "name": "stderr",
          "output_type": "stream",
          "text": [
            "\r               classes   top1_acc   top5_acc:  56%|█████▌    | 5/9 [00:04<00:03,  1.22it/s]"
          ]
        },
        {
          "name": "stdout",
          "output_type": "stream",
          "text": [
            "WARNING ⚠️ ClassificationModel does not support 'augment=True' prediction. Reverting to single-scale prediction.\n"
          ]
        },
        {
          "name": "stderr",
          "output_type": "stream",
          "text": [
            "\r               classes   top1_acc   top5_acc:  67%|██████▋   | 6/9 [00:04<00:02,  1.38it/s]"
          ]
        },
        {
          "name": "stdout",
          "output_type": "stream",
          "text": [
            "WARNING ⚠️ ClassificationModel does not support 'augment=True' prediction. Reverting to single-scale prediction.\n"
          ]
        },
        {
          "name": "stderr",
          "output_type": "stream",
          "text": [
            "\r               classes   top1_acc   top5_acc:  78%|███████▊  | 7/9 [00:05<00:01,  1.08it/s]"
          ]
        },
        {
          "name": "stdout",
          "output_type": "stream",
          "text": [
            "WARNING ⚠️ ClassificationModel does not support 'augment=True' prediction. Reverting to single-scale prediction.\n",
            "WARNING ⚠️ ClassificationModel does not support 'augment=True' prediction. Reverting to single-scale prediction.\n"
          ]
        },
        {
          "name": "stderr",
          "output_type": "stream",
          "text": [
            "               classes   top1_acc   top5_acc: 100%|██████████| 9/9 [00:06<00:00,  1.43it/s]\n"
          ]
        },
        {
          "name": "stdout",
          "output_type": "stream",
          "text": [
            "                   all      0.906          1\n",
            "Speed: 0.1ms preprocess, 0.3ms inference, 0.0ms loss, 0.0ms postprocess per image\n",
            "Results saved to \u001b[1mruns/classify/train13\u001b[0m\n"
          ]
        }
      ],
      "source": [
        "from ultralytics import YOLO\n",
        "import wandb\n",
        "import numpy as np\n",
        "import matplotlib.pyplot as plt\n",
        "import seaborn as sns\n",
        "from sklearn.metrics import classification_report, confusion_matrix, accuracy_score\n",
        "\n",
        "# Initialize wandb in disabled mode\n",
        "\n",
        "\n",
        "\n",
        "\n",
        "# Initialize wandb for experiment tracking\n",
        "wandb.init(project=\"yolo-cnn-optimization\", mode=\"online\")  # Enable logging\n",
        "\n",
        "# Load a pretrained YOLO model (consider a stronger model like yolox-m or yolox-l)\n",
        "model = YOLO(\"yolo11n-cls.pt\")\n",
        "\n",
        "# Train the model with advanced settings\n",
        "model.train(\n",
        "    data='/content/data/working/custom',\n",
        "    epochs=10,            # Increased for better learning\n",
        "    patience=20,           # Allow more room for improvements\n",
        "    batch=64,              # Increase batch size if GPU allows\n",
        "    weight_decay=1e-4,     # Regularization\n",
        "    device=0,              # Use GPU if available\n",
        "    imgsz=256,             # Keep image size fixed\n",
        "    optimizer='AdamW',     # Better optimization\n",
        "    lr0=1e-4,              # Fine-tuned learning rate\n",
        "\n",
        "    augment=True,\n",
        "\n",
        "\n",
        ")\n",
        "\n",
        "# Validation Metrics\n",
        "metrics = model.val()\n",
        "\n",
        "# Log results in wandb\n",
        "\n",
        "\n",
        "# Close wandb\n",
        "wandb.finish()\n",
        "\n",
        "# ... (Rest of your existing code) ...\n"
      ]
    },
    {
      "cell_type": "code",
      "execution_count": null,
      "metadata": {
        "id": "6cMlFFqDQWnF"
      },
      "outputs": [],
      "source": [
        "# prompt: A is not defined. from ultralytics import YOLO\n",
        "# import wandb\n",
        "# import numpy as np\n",
        "# import matplotlib.pyplot as plt\n",
        "# import seaborn as sns\n",
        "# from sklearn.metrics import classification_report, confusion_matrix, accuracy_score\n",
        "# # Initialize wandb in disabled mode\n",
        "# # Initialize wandb for experiment tracking\n",
        "# wandb.init(project=\"yolo-cnn-optimization\", mode=\"online\")  # Enable logging\n",
        "# # Load a pretrained YOLO model (consider a stronger model like yolox-m or yolox-l)\n",
        "# model = YOLO(\"yolo11x-cls.pt\")\n",
        "# # Define image augmentations\n",
        "# train_transforms = A.Compose([\n",
        "#     A.Resize(256, 256),  # Resize to a fixed size\n",
        "#     A.HorizontalFlip(p=0.5),  # Horizontal flipping\n",
        "#     A.RandomBrightnessContrast(p=0.2),  # Adjust brightness and contrast\n",
        "#     A.ShiftScaleRotate(shift_limit=0.0625, scale_limit=0.1, rotate_limit=15, p=0.5),  # Geometric transformations\n",
        "#     A.CoarseDropout(max_holes=1, max_height=32, max_width=32, p=0.2),  # Randomly remove parts of the image\n",
        "#     ToTensorV2(),  # Convert to PyTorch tensor\n",
        "# ])\n",
        "# val_transforms = A.Compose([\n",
        "#     A.Resize(256, 256),\n",
        "#     ToTensorV2(),\n",
        "# ])\n",
        "# # Train the model with advanced settings\n",
        "# model.train(\n",
        "#     data='/content/data/working/custom',\n",
        "#     epochs=10,            # Increased for better learning\n",
        "#     patience=20,           # Allow more room for improvements\n",
        "#     batch=64,              # Increase batch size if GPU allows\n",
        "#     weight_decay=1e-4,     # Regularization\n",
        "#     device=0,              # Use GPU if available\n",
        "#     imgsz=256,             # Keep image size fixed\n",
        "#     optimizer='AdamW',     # Better optimization\n",
        "#     lr0=1e-4,              # Fine-tuned learning rate\n",
        "#     scheduler=CosineAnnealingLR,    # Cosine Annealing Scheduler\n",
        "#     augment=True,\n",
        "#     transforms=train_transforms, # Apply augmentations\n",
        "#     val_transforms=val_transforms  # Apply different transformations for validation\n",
        "# )\n",
        "# # Validation Metrics\n",
        "# metrics = model.val()\n",
        "# # Log results in wandb\n",
        "# wandb.log({\"accuracy\": metrics.get('accuracy', 0), \"loss\": metrics.get('loss', 0)})\n",
        "# # Close wandb\n",
        "# wand\n",
        "\n",
        "import matplotlib.pyplot as plt\n",
        "import numpy as np\n",
        "# ... (Your existing code) ...\n",
        "\n",
        "# Initialize wandb in disabled mode\n",
        "wandb.init(mode=\"disabled\")\n",
        "\n",
        "# Load a pretrained YOLO model\n",
        "model = YOLO('yolo11n-cls.pt')\n",
        "\n",
        "# Train the model\n",
        "model.train(data='/content/data/working/custom', epochs=20)\n",
        "\n",
        "# Validate the model\n",
        "metrics = model.val()\n",
        "\n",
        "# Extract ground truth labels and predictions\n",
        "y_true = np.array(metrics.results[:, 1], dtype=int)  # True labels\n",
        "y_pred = np.array(metrics.results[:, 2], dtype=int)  # Predicted labels\n",
        "\n",
        "# Compute accuracy\n",
        "accuracy = accuracy_score(y_true, y_pred)\n",
        "\n",
        "# Compute classification report\n",
        "report = classification_report(y_true, y_pred, digits=4)\n",
        "\n",
        "# Compute confusion matrix\n",
        "cm = confusion_matrix(y_true, y_pred)\n",
        "\n",
        "# Print Accuracy, Precision, Recall, and F1-score\n",
        "print(f\"Accuracy: {accuracy:.4f}\")\n",
        "print(\"Classification Report:\\n\", report)\n",
        "\n",
        "# Plot confusion matrix\n",
        "plt.figure(figsize=(8, 6))\n",
        "sns.heatmap(cm, annot=True, fmt=\"d\", cmap=\"Blues\", xticklabels=np.unique(y_true), yticklabels=np.unique(y_true))\n",
        "plt.xlabel(\"Predicted Labels\")\n",
        "plt.ylabel(\"True Labels\")\n",
        "plt.title(\"Confusion Matrix\")\n",
        "plt.show()\n",
        "\n",
        "# ... (Rest of your existing code) ...\n"
      ]
    },
    {
      "cell_type": "code",
      "execution_count": null,
      "metadata": {
        "colab": {
          "base_uri": "https://localhost:8080/"
        },
        "id": "xpvXALNePi4x",
        "outputId": "f130f7b6-e234-44c9-8a22-fde5692f2604"
      },
      "outputs": [
        {
          "name": "stdout",
          "output_type": "stream",
          "text": [
            "Ultralytics 8.3.94 🚀 Python-3.11.11 torch-2.6.0+cu124 CUDA:0 (Tesla T4, 15095MiB)\n",
            "\u001b[34m\u001b[1mengine/trainer: \u001b[0mtask=classify, mode=train, model=yolo11x-cls.pt, data=/content/data/working/custom, epochs=20, time=None, patience=100, batch=16, imgsz=224, save=True, save_period=-1, cache=False, device=None, workers=8, project=None, name=train10, exist_ok=False, pretrained=True, optimizer=auto, verbose=True, seed=0, deterministic=True, single_cls=False, rect=False, cos_lr=False, close_mosaic=10, resume=False, amp=True, fraction=1.0, profile=False, freeze=None, multi_scale=False, overlap_mask=True, mask_ratio=4, dropout=0.0, val=True, split=val, save_json=False, save_hybrid=False, conf=None, iou=0.7, max_det=300, half=False, dnn=False, plots=True, source=None, vid_stride=1, stream_buffer=False, visualize=False, augment=False, agnostic_nms=False, classes=None, retina_masks=False, embed=None, show=False, save_frames=False, save_txt=False, save_conf=False, save_crop=False, show_labels=True, show_conf=True, show_boxes=True, line_width=None, format=torchscript, keras=False, optimize=False, int8=False, dynamic=False, simplify=True, opset=None, workspace=None, nms=False, lr0=0.01, lrf=0.01, momentum=0.937, weight_decay=0.0005, warmup_epochs=3.0, warmup_momentum=0.8, warmup_bias_lr=0.1, box=7.5, cls=0.5, dfl=1.5, pose=12.0, kobj=1.0, nbs=64, hsv_h=0.015, hsv_s=0.7, hsv_v=0.4, degrees=0.0, translate=0.1, scale=0.5, shear=0.0, perspective=0.0, flipud=0.0, fliplr=0.5, bgr=0.0, mosaic=1.0, mixup=0.0, copy_paste=0.0, copy_paste_mode=flip, auto_augment=randaugment, erasing=0.4, crop_fraction=1.0, cfg=None, tracker=botsort.yaml, save_dir=runs/classify/train10\n",
            "\u001b[34m\u001b[1mtrain:\u001b[0m /content/data/working/custom/train... found 1824 images in 4 classes ✅ \n",
            "\u001b[34m\u001b[1mval:\u001b[0m /content/data/working/custom/val... found 1093 images in 4 classes ✅ \n",
            "\u001b[34m\u001b[1mtest:\u001b[0m /content/data/working/custom/test... found 228 images in 4 classes ✅ \n",
            "Overriding model.yaml nc=80 with nc=4\n",
            "\n",
            "                   from  n    params  module                                       arguments                     \n",
            "  0                  -1  1      2784  ultralytics.nn.modules.conv.Conv             [3, 96, 3, 2]                 \n",
            "  1                  -1  1    166272  ultralytics.nn.modules.conv.Conv             [96, 192, 3, 2]               \n",
            "  2                  -1  2    389760  ultralytics.nn.modules.block.C3k2            [192, 384, 2, True, 0.25]     \n",
            "  3                  -1  1   1327872  ultralytics.nn.modules.conv.Conv             [384, 384, 3, 2]              \n",
            "  4                  -1  2   1553664  ultralytics.nn.modules.block.C3k2            [384, 768, 2, True, 0.25]     \n",
            "  5                  -1  1   5309952  ultralytics.nn.modules.conv.Conv             [768, 768, 3, 2]              \n",
            "  6                  -1  2   5022720  ultralytics.nn.modules.block.C3k2            [768, 768, 2, True]           \n",
            "  7                  -1  1   5309952  ultralytics.nn.modules.conv.Conv             [768, 768, 3, 2]              \n",
            "  8                  -1  2   5022720  ultralytics.nn.modules.block.C3k2            [768, 768, 2, True]           \n",
            "  9                  -1  2   3264768  ultralytics.nn.modules.block.C2PSA           [768, 768, 2]                 \n",
            " 10                  -1  1    990724  ultralytics.nn.modules.head.Classify         [768, 4]                      \n",
            "YOLO11x-cls summary: 176 layers, 28,361,188 parameters, 28,361,188 gradients, 111.0 GFLOPs\n",
            "Transferred 492/494 items from pretrained weights\n",
            "\u001b[34m\u001b[1mTensorBoard: \u001b[0mStart with 'tensorboard --logdir runs/classify/train10', view at http://localhost:6006/\n",
            "\u001b[34m\u001b[1mAMP: \u001b[0mrunning Automatic Mixed Precision (AMP) checks...\n",
            "\u001b[34m\u001b[1mAMP: \u001b[0mchecks passed ✅\n"
          ]
        },
        {
          "name": "stderr",
          "output_type": "stream",
          "text": [
            "\u001b[34m\u001b[1mtrain: \u001b[0mScanning /content/data/working/custom/train... 1824 images, 0 corrupt: 100%|██████████| 1824/1824 [00:00<?, ?it/s]\n",
            "\u001b[34m\u001b[1mval: \u001b[0mScanning /content/data/working/custom/val... 1093 images, 0 corrupt: 100%|██████████| 1093/1093 [00:00<?, ?it/s]\n"
          ]
        },
        {
          "name": "stdout",
          "output_type": "stream",
          "text": [
            "\u001b[34m\u001b[1moptimizer:\u001b[0m 'optimizer=auto' found, ignoring 'lr0=0.01' and 'momentum=0.937' and determining best 'optimizer', 'lr0' and 'momentum' automatically... \n",
            "\u001b[34m\u001b[1moptimizer:\u001b[0m AdamW(lr=0.00125, momentum=0.9) with parameter groups 82 weight(decay=0.0), 83 weight(decay=0.0005), 83 bias(decay=0.0)\n",
            "\u001b[34m\u001b[1mTensorBoard: \u001b[0mmodel graph visualization added ✅\n",
            "Image sizes 224 train, 224 val\n",
            "Using 2 dataloader workers\n",
            "Logging results to \u001b[1mruns/classify/train10\u001b[0m\n",
            "Starting training for 20 epochs...\n",
            "\n",
            "      Epoch    GPU_mem       loss  Instances       Size\n"
          ]
        },
        {
          "name": "stderr",
          "output_type": "stream",
          "text": [
            "       1/20      1.91G     0.5838         16        224: 100%|██████████| 114/114 [00:20<00:00,  5.61it/s]\n",
            "               classes   top1_acc   top5_acc: 100%|██████████| 35/35 [00:06<00:00,  5.49it/s]"
          ]
        },
        {
          "name": "stdout",
          "output_type": "stream",
          "text": [
            "                   all      0.817          1\n"
          ]
        },
        {
          "name": "stderr",
          "output_type": "stream",
          "text": [
            "\n"
          ]
        },
        {
          "name": "stdout",
          "output_type": "stream",
          "text": [
            "\n",
            "      Epoch    GPU_mem       loss  Instances       Size\n"
          ]
        },
        {
          "name": "stderr",
          "output_type": "stream",
          "text": [
            "       2/20      2.22G     0.4519         16        224: 100%|██████████| 114/114 [00:17<00:00,  6.58it/s]\n",
            "               classes   top1_acc   top5_acc: 100%|██████████| 35/35 [00:07<00:00,  4.60it/s]"
          ]
        },
        {
          "name": "stdout",
          "output_type": "stream",
          "text": [
            "                   all      0.804          1\n"
          ]
        },
        {
          "name": "stderr",
          "output_type": "stream",
          "text": [
            "\n"
          ]
        },
        {
          "name": "stdout",
          "output_type": "stream",
          "text": [
            "\n",
            "      Epoch    GPU_mem       loss  Instances       Size\n"
          ]
        },
        {
          "name": "stderr",
          "output_type": "stream",
          "text": [
            "       3/20      2.28G     0.4649         16        224: 100%|██████████| 114/114 [00:17<00:00,  6.46it/s]\n",
            "               classes   top1_acc   top5_acc: 100%|██████████| 35/35 [00:06<00:00,  5.03it/s]"
          ]
        },
        {
          "name": "stdout",
          "output_type": "stream",
          "text": [
            "                   all      0.786          1\n"
          ]
        },
        {
          "name": "stderr",
          "output_type": "stream",
          "text": [
            "\n"
          ]
        },
        {
          "name": "stdout",
          "output_type": "stream",
          "text": [
            "\n",
            "      Epoch    GPU_mem       loss  Instances       Size\n"
          ]
        },
        {
          "name": "stderr",
          "output_type": "stream",
          "text": [
            "       4/20      2.34G     0.4948         16        224: 100%|██████████| 114/114 [00:18<00:00,  6.31it/s]\n",
            "               classes   top1_acc   top5_acc: 100%|██████████| 35/35 [00:06<00:00,  5.45it/s]"
          ]
        },
        {
          "name": "stdout",
          "output_type": "stream",
          "text": [
            "                   all      0.804          1\n"
          ]
        },
        {
          "name": "stderr",
          "output_type": "stream",
          "text": [
            "\n"
          ]
        },
        {
          "name": "stdout",
          "output_type": "stream",
          "text": [
            "\n",
            "      Epoch    GPU_mem       loss  Instances       Size\n"
          ]
        },
        {
          "name": "stderr",
          "output_type": "stream",
          "text": [
            "       5/20      2.56G     0.4208         16        224: 100%|██████████| 114/114 [00:18<00:00,  6.28it/s]\n",
            "               classes   top1_acc   top5_acc: 100%|██████████| 35/35 [00:06<00:00,  5.50it/s]"
          ]
        },
        {
          "name": "stdout",
          "output_type": "stream",
          "text": [
            "                   all      0.845          1\n"
          ]
        },
        {
          "name": "stderr",
          "output_type": "stream",
          "text": [
            "\n"
          ]
        },
        {
          "name": "stdout",
          "output_type": "stream",
          "text": [
            "\n",
            "      Epoch    GPU_mem       loss  Instances       Size\n"
          ]
        },
        {
          "name": "stderr",
          "output_type": "stream",
          "text": [
            "       6/20      2.56G     0.3913         16        224: 100%|██████████| 114/114 [00:18<00:00,  6.13it/s]\n",
            "               classes   top1_acc   top5_acc: 100%|██████████| 35/35 [00:06<00:00,  5.53it/s]"
          ]
        },
        {
          "name": "stdout",
          "output_type": "stream",
          "text": [
            "                   all      0.826          1\n"
          ]
        },
        {
          "name": "stderr",
          "output_type": "stream",
          "text": [
            "\n"
          ]
        },
        {
          "name": "stdout",
          "output_type": "stream",
          "text": [
            "\n",
            "      Epoch    GPU_mem       loss  Instances       Size\n"
          ]
        },
        {
          "name": "stderr",
          "output_type": "stream",
          "text": [
            "       7/20      2.69G     0.3427         16        224: 100%|██████████| 114/114 [00:18<00:00,  6.09it/s]\n",
            "               classes   top1_acc   top5_acc: 100%|██████████| 35/35 [00:06<00:00,  5.35it/s]"
          ]
        },
        {
          "name": "stdout",
          "output_type": "stream",
          "text": [
            "                   all      0.889          1\n"
          ]
        },
        {
          "name": "stderr",
          "output_type": "stream",
          "text": [
            "\n"
          ]
        },
        {
          "name": "stdout",
          "output_type": "stream",
          "text": [
            "\n",
            "      Epoch    GPU_mem       loss  Instances       Size\n"
          ]
        },
        {
          "name": "stderr",
          "output_type": "stream",
          "text": [
            "       8/20      2.69G     0.3159         16        224: 100%|██████████| 114/114 [00:18<00:00,  6.11it/s]\n",
            "               classes   top1_acc   top5_acc: 100%|██████████| 35/35 [00:06<00:00,  5.64it/s]"
          ]
        },
        {
          "name": "stdout",
          "output_type": "stream",
          "text": [
            "                   all      0.892          1\n"
          ]
        },
        {
          "name": "stderr",
          "output_type": "stream",
          "text": [
            "\n"
          ]
        },
        {
          "name": "stdout",
          "output_type": "stream",
          "text": [
            "\n",
            "      Epoch    GPU_mem       loss  Instances       Size\n"
          ]
        },
        {
          "name": "stderr",
          "output_type": "stream",
          "text": [
            "       9/20      2.77G     0.2997         16        224: 100%|██████████| 114/114 [00:18<00:00,  6.15it/s]\n",
            "               classes   top1_acc   top5_acc: 100%|██████████| 35/35 [00:06<00:00,  5.22it/s]"
          ]
        },
        {
          "name": "stdout",
          "output_type": "stream",
          "text": [
            "                   all        0.9          1\n"
          ]
        },
        {
          "name": "stderr",
          "output_type": "stream",
          "text": [
            "\n"
          ]
        },
        {
          "name": "stdout",
          "output_type": "stream",
          "text": [
            "\n",
            "      Epoch    GPU_mem       loss  Instances       Size\n"
          ]
        },
        {
          "name": "stderr",
          "output_type": "stream",
          "text": [
            "      10/20      2.77G     0.2659         16        224: 100%|██████████| 114/114 [00:17<00:00,  6.42it/s]\n",
            "               classes   top1_acc   top5_acc: 100%|██████████| 35/35 [00:07<00:00,  4.65it/s]"
          ]
        },
        {
          "name": "stdout",
          "output_type": "stream",
          "text": [
            "                   all        0.9          1\n"
          ]
        },
        {
          "name": "stderr",
          "output_type": "stream",
          "text": [
            "\n"
          ]
        },
        {
          "name": "stdout",
          "output_type": "stream",
          "text": [
            "\n",
            "      Epoch    GPU_mem       loss  Instances       Size\n"
          ]
        },
        {
          "name": "stderr",
          "output_type": "stream",
          "text": [
            "      11/20      2.77G       0.26         16        224: 100%|██████████| 114/114 [00:19<00:00,  5.97it/s]\n",
            "               classes   top1_acc   top5_acc: 100%|██████████| 35/35 [00:06<00:00,  5.54it/s]"
          ]
        },
        {
          "name": "stdout",
          "output_type": "stream",
          "text": [
            "                   all      0.911          1\n"
          ]
        },
        {
          "name": "stderr",
          "output_type": "stream",
          "text": [
            "\n"
          ]
        },
        {
          "name": "stdout",
          "output_type": "stream",
          "text": [
            "\n",
            "      Epoch    GPU_mem       loss  Instances       Size\n"
          ]
        },
        {
          "name": "stderr",
          "output_type": "stream",
          "text": [
            "      12/20      2.77G     0.2423         16        224: 100%|██████████| 114/114 [00:18<00:00,  6.28it/s]\n",
            "               classes   top1_acc   top5_acc: 100%|██████████| 35/35 [00:06<00:00,  5.64it/s]"
          ]
        },
        {
          "name": "stdout",
          "output_type": "stream",
          "text": [
            "                   all      0.911          1\n"
          ]
        },
        {
          "name": "stderr",
          "output_type": "stream",
          "text": [
            "\n"
          ]
        },
        {
          "name": "stdout",
          "output_type": "stream",
          "text": [
            "\n",
            "      Epoch    GPU_mem       loss  Instances       Size\n"
          ]
        },
        {
          "name": "stderr",
          "output_type": "stream",
          "text": [
            "      13/20      2.77G      0.237         16        224: 100%|██████████| 114/114 [00:17<00:00,  6.34it/s]\n",
            "               classes   top1_acc   top5_acc: 100%|██████████| 35/35 [00:06<00:00,  5.07it/s]"
          ]
        },
        {
          "name": "stdout",
          "output_type": "stream",
          "text": [
            "                   all      0.912          1\n"
          ]
        },
        {
          "name": "stderr",
          "output_type": "stream",
          "text": [
            "\n"
          ]
        },
        {
          "name": "stdout",
          "output_type": "stream",
          "text": [
            "\n",
            "      Epoch    GPU_mem       loss  Instances       Size\n"
          ]
        },
        {
          "name": "stderr",
          "output_type": "stream",
          "text": [
            "      14/20      2.77G     0.2099         16        224: 100%|██████████| 114/114 [00:18<00:00,  6.20it/s]\n",
            "               classes   top1_acc   top5_acc: 100%|██████████| 35/35 [00:06<00:00,  5.54it/s]"
          ]
        },
        {
          "name": "stdout",
          "output_type": "stream",
          "text": [
            "                   all       0.91          1\n"
          ]
        },
        {
          "name": "stderr",
          "output_type": "stream",
          "text": [
            "\n"
          ]
        },
        {
          "name": "stdout",
          "output_type": "stream",
          "text": [
            "\n",
            "      Epoch    GPU_mem       loss  Instances       Size\n"
          ]
        },
        {
          "name": "stderr",
          "output_type": "stream",
          "text": [
            "      15/20      2.77G     0.1837         16        224: 100%|██████████| 114/114 [00:18<00:00,  6.13it/s]\n",
            "               classes   top1_acc   top5_acc: 100%|██████████| 35/35 [00:06<00:00,  5.63it/s]"
          ]
        },
        {
          "name": "stdout",
          "output_type": "stream",
          "text": [
            "                   all      0.915          1\n"
          ]
        },
        {
          "name": "stderr",
          "output_type": "stream",
          "text": [
            "\n"
          ]
        },
        {
          "name": "stdout",
          "output_type": "stream",
          "text": [
            "\n",
            "      Epoch    GPU_mem       loss  Instances       Size\n"
          ]
        },
        {
          "name": "stderr",
          "output_type": "stream",
          "text": [
            "      16/20      2.79G     0.1725         16        224: 100%|██████████| 114/114 [00:18<00:00,  6.16it/s]\n",
            "               classes   top1_acc   top5_acc: 100%|██████████| 35/35 [00:06<00:00,  5.47it/s]"
          ]
        },
        {
          "name": "stdout",
          "output_type": "stream",
          "text": [
            "                   all      0.924          1\n"
          ]
        },
        {
          "name": "stderr",
          "output_type": "stream",
          "text": [
            "\n"
          ]
        },
        {
          "name": "stdout",
          "output_type": "stream",
          "text": [
            "\n",
            "      Epoch    GPU_mem       loss  Instances       Size\n"
          ]
        },
        {
          "name": "stderr",
          "output_type": "stream",
          "text": [
            "      17/20      2.79G     0.1837         16        224: 100%|██████████| 114/114 [00:17<00:00,  6.52it/s]\n",
            "               classes   top1_acc   top5_acc: 100%|██████████| 35/35 [00:07<00:00,  4.74it/s]"
          ]
        },
        {
          "name": "stdout",
          "output_type": "stream",
          "text": [
            "                   all      0.929          1\n"
          ]
        },
        {
          "name": "stderr",
          "output_type": "stream",
          "text": [
            "\n"
          ]
        },
        {
          "name": "stdout",
          "output_type": "stream",
          "text": [
            "\n",
            "      Epoch    GPU_mem       loss  Instances       Size\n"
          ]
        },
        {
          "name": "stderr",
          "output_type": "stream",
          "text": [
            "      18/20      3.01G     0.1624         16        224: 100%|██████████| 114/114 [00:17<00:00,  6.61it/s]\n",
            "               classes   top1_acc   top5_acc: 100%|██████████| 35/35 [00:07<00:00,  4.81it/s]"
          ]
        },
        {
          "name": "stdout",
          "output_type": "stream",
          "text": [
            "                   all      0.925          1\n"
          ]
        },
        {
          "name": "stderr",
          "output_type": "stream",
          "text": [
            "\n"
          ]
        },
        {
          "name": "stdout",
          "output_type": "stream",
          "text": [
            "\n",
            "      Epoch    GPU_mem       loss  Instances       Size\n"
          ]
        },
        {
          "name": "stderr",
          "output_type": "stream",
          "text": [
            "      19/20      3.01G     0.1615         16        224: 100%|██████████| 114/114 [00:17<00:00,  6.49it/s]\n",
            "               classes   top1_acc   top5_acc: 100%|██████████| 35/35 [00:07<00:00,  4.87it/s]"
          ]
        },
        {
          "name": "stdout",
          "output_type": "stream",
          "text": [
            "                   all      0.921          1\n"
          ]
        },
        {
          "name": "stderr",
          "output_type": "stream",
          "text": [
            "\n"
          ]
        },
        {
          "name": "stdout",
          "output_type": "stream",
          "text": [
            "\n",
            "      Epoch    GPU_mem       loss  Instances       Size\n"
          ]
        },
        {
          "name": "stderr",
          "output_type": "stream",
          "text": [
            "      20/20      3.14G     0.1629         16        224: 100%|██████████| 114/114 [00:18<00:00,  6.19it/s]\n",
            "               classes   top1_acc   top5_acc: 100%|██████████| 35/35 [00:06<00:00,  5.77it/s]"
          ]
        },
        {
          "name": "stdout",
          "output_type": "stream",
          "text": [
            "                   all      0.924          1\n"
          ]
        },
        {
          "name": "stderr",
          "output_type": "stream",
          "text": [
            "\n"
          ]
        },
        {
          "name": "stdout",
          "output_type": "stream",
          "text": [
            "\n",
            "20 epochs completed in 0.161 hours.\n",
            "Optimizer stripped from runs/classify/train10/weights/last.pt, 57.0MB\n",
            "Optimizer stripped from runs/classify/train10/weights/best.pt, 57.0MB\n",
            "\n",
            "Validating runs/classify/train10/weights/best.pt...\n",
            "Ultralytics 8.3.94 🚀 Python-3.11.11 torch-2.6.0+cu124 CUDA:0 (Tesla T4, 15095MiB)\n",
            "YOLO11x-cls summary (fused): 94 layers, 28,337,540 parameters, 0 gradients, 110.3 GFLOPs\n",
            "\u001b[34m\u001b[1mtrain:\u001b[0m /content/data/working/custom/train... found 1824 images in 4 classes ✅ \n",
            "\u001b[34m\u001b[1mval:\u001b[0m /content/data/working/custom/val... found 1093 images in 4 classes ✅ \n",
            "\u001b[34m\u001b[1mtest:\u001b[0m /content/data/working/custom/test... found 228 images in 4 classes ✅ \n"
          ]
        },
        {
          "name": "stderr",
          "output_type": "stream",
          "text": [
            "               classes   top1_acc   top5_acc: 100%|██████████| 35/35 [00:06<00:00,  5.32it/s]\n"
          ]
        },
        {
          "name": "stdout",
          "output_type": "stream",
          "text": [
            "                   all      0.929          1\n",
            "Speed: 0.1ms preprocess, 1.7ms inference, 0.0ms loss, 0.0ms postprocess per image\n",
            "Results saved to \u001b[1mruns/classify/train10\u001b[0m\n",
            "Ultralytics 8.3.94 🚀 Python-3.11.11 torch-2.6.0+cu124 CUDA:0 (Tesla T4, 15095MiB)\n",
            "YOLO11x-cls summary (fused): 94 layers, 28,337,540 parameters, 0 gradients, 110.3 GFLOPs\n",
            "\u001b[34m\u001b[1mtrain:\u001b[0m /content/data/working/custom/train... found 1824 images in 4 classes ✅ \n",
            "\u001b[34m\u001b[1mval:\u001b[0m /content/data/working/custom/val... found 1093 images in 4 classes ✅ \n",
            "\u001b[34m\u001b[1mtest:\u001b[0m /content/data/working/custom/test... found 228 images in 4 classes ✅ \n"
          ]
        },
        {
          "name": "stderr",
          "output_type": "stream",
          "text": [
            "\u001b[34m\u001b[1mval: \u001b[0mScanning /content/data/working/custom/val... 1093 images, 0 corrupt: 100%|██████████| 1093/1093 [00:00<?, ?it/s]\n",
            "               classes   top1_acc   top5_acc: 100%|██████████| 69/69 [00:08<00:00,  8.17it/s]\n"
          ]
        },
        {
          "name": "stdout",
          "output_type": "stream",
          "text": [
            "                   all      0.928          1\n",
            "Speed: 0.1ms preprocess, 4.2ms inference, 0.0ms loss, 0.0ms postprocess per image\n",
            "Results saved to \u001b[1mruns/classify/train102\u001b[0m\n"
          ]
        }
      ],
      "source": [
        "from ultralytics import YOLO\n",
        "import wandb\n",
        "import numpy as np\n",
        "import matplotlib.pyplot as plt\n",
        "import seaborn as sns\n",
        "from sklearn.metrics import classification_report, confusion_matrix, accuracy_score\n",
        "\n",
        "# Initialize wandb in disabled mode\n",
        "wandb.init(mode=\"disabled\")\n",
        "\n",
        "# Load a pretrained YOLO model\n",
        "model = YOLO('yolo11x-cls.pt')\n",
        "\n",
        "# Train the model\n",
        "model.train(data='/content/data/working/custom', epochs=20)\n",
        "\n",
        "# Validate the model\n",
        "metrics = model.val()\n",
        "\n",
        "\n",
        "\n",
        "\n",
        "\n"
      ]
    },
    {
      "cell_type": "code",
      "execution_count": null,
      "metadata": {
        "colab": {
          "base_uri": "https://localhost:8080/"
        },
        "id": "dPKI0jV1Pghr",
        "outputId": "f130f7b6-e234-44c9-8a22-fde5692f2604"
      },
      "outputs": [
        {
          "name": "stdout",
          "output_type": "stream",
          "text": [
            "Ultralytics 8.3.94 🚀 Python-3.11.11 torch-2.6.0+cu124 CUDA:0 (Tesla T4, 15095MiB)\n",
            "\u001b[34m\u001b[1mengine/trainer: \u001b[0mtask=classify, mode=train, model=yolo11x-cls.pt, data=/content/data/working/custom, epochs=20, time=None, patience=100, batch=16, imgsz=224, save=True, save_period=-1, cache=False, device=None, workers=8, project=None, name=train10, exist_ok=False, pretrained=True, optimizer=auto, verbose=True, seed=0, deterministic=True, single_cls=False, rect=False, cos_lr=False, close_mosaic=10, resume=False, amp=True, fraction=1.0, profile=False, freeze=None, multi_scale=False, overlap_mask=True, mask_ratio=4, dropout=0.0, val=True, split=val, save_json=False, save_hybrid=False, conf=None, iou=0.7, max_det=300, half=False, dnn=False, plots=True, source=None, vid_stride=1, stream_buffer=False, visualize=False, augment=False, agnostic_nms=False, classes=None, retina_masks=False, embed=None, show=False, save_frames=False, save_txt=False, save_conf=False, save_crop=False, show_labels=True, show_conf=True, show_boxes=True, line_width=None, format=torchscript, keras=False, optimize=False, int8=False, dynamic=False, simplify=True, opset=None, workspace=None, nms=False, lr0=0.01, lrf=0.01, momentum=0.937, weight_decay=0.0005, warmup_epochs=3.0, warmup_momentum=0.8, warmup_bias_lr=0.1, box=7.5, cls=0.5, dfl=1.5, pose=12.0, kobj=1.0, nbs=64, hsv_h=0.015, hsv_s=0.7, hsv_v=0.4, degrees=0.0, translate=0.1, scale=0.5, shear=0.0, perspective=0.0, flipud=0.0, fliplr=0.5, bgr=0.0, mosaic=1.0, mixup=0.0, copy_paste=0.0, copy_paste_mode=flip, auto_augment=randaugment, erasing=0.4, crop_fraction=1.0, cfg=None, tracker=botsort.yaml, save_dir=runs/classify/train10\n",
            "\u001b[34m\u001b[1mtrain:\u001b[0m /content/data/working/custom/train... found 1824 images in 4 classes ✅ \n",
            "\u001b[34m\u001b[1mval:\u001b[0m /content/data/working/custom/val... found 1093 images in 4 classes ✅ \n",
            "\u001b[34m\u001b[1mtest:\u001b[0m /content/data/working/custom/test... found 228 images in 4 classes ✅ \n",
            "Overriding model.yaml nc=80 with nc=4\n",
            "\n",
            "                   from  n    params  module                                       arguments                     \n",
            "  0                  -1  1      2784  ultralytics.nn.modules.conv.Conv             [3, 96, 3, 2]                 \n",
            "  1                  -1  1    166272  ultralytics.nn.modules.conv.Conv             [96, 192, 3, 2]               \n",
            "  2                  -1  2    389760  ultralytics.nn.modules.block.C3k2            [192, 384, 2, True, 0.25]     \n",
            "  3                  -1  1   1327872  ultralytics.nn.modules.conv.Conv             [384, 384, 3, 2]              \n",
            "  4                  -1  2   1553664  ultralytics.nn.modules.block.C3k2            [384, 768, 2, True, 0.25]     \n",
            "  5                  -1  1   5309952  ultralytics.nn.modules.conv.Conv             [768, 768, 3, 2]              \n",
            "  6                  -1  2   5022720  ultralytics.nn.modules.block.C3k2            [768, 768, 2, True]           \n",
            "  7                  -1  1   5309952  ultralytics.nn.modules.conv.Conv             [768, 768, 3, 2]              \n",
            "  8                  -1  2   5022720  ultralytics.nn.modules.block.C3k2            [768, 768, 2, True]           \n",
            "  9                  -1  2   3264768  ultralytics.nn.modules.block.C2PSA           [768, 768, 2]                 \n",
            " 10                  -1  1    990724  ultralytics.nn.modules.head.Classify         [768, 4]                      \n",
            "YOLO11x-cls summary: 176 layers, 28,361,188 parameters, 28,361,188 gradients, 111.0 GFLOPs\n",
            "Transferred 492/494 items from pretrained weights\n",
            "\u001b[34m\u001b[1mTensorBoard: \u001b[0mStart with 'tensorboard --logdir runs/classify/train10', view at http://localhost:6006/\n",
            "\u001b[34m\u001b[1mAMP: \u001b[0mrunning Automatic Mixed Precision (AMP) checks...\n",
            "\u001b[34m\u001b[1mAMP: \u001b[0mchecks passed ✅\n"
          ]
        },
        {
          "name": "stderr",
          "output_type": "stream",
          "text": [
            "\u001b[34m\u001b[1mtrain: \u001b[0mScanning /content/data/working/custom/train... 1824 images, 0 corrupt: 100%|██████████| 1824/1824 [00:00<?, ?it/s]\n",
            "\u001b[34m\u001b[1mval: \u001b[0mScanning /content/data/working/custom/val... 1093 images, 0 corrupt: 100%|██████████| 1093/1093 [00:00<?, ?it/s]\n"
          ]
        },
        {
          "name": "stdout",
          "output_type": "stream",
          "text": [
            "\u001b[34m\u001b[1moptimizer:\u001b[0m 'optimizer=auto' found, ignoring 'lr0=0.01' and 'momentum=0.937' and determining best 'optimizer', 'lr0' and 'momentum' automatically... \n",
            "\u001b[34m\u001b[1moptimizer:\u001b[0m AdamW(lr=0.00125, momentum=0.9) with parameter groups 82 weight(decay=0.0), 83 weight(decay=0.0005), 83 bias(decay=0.0)\n",
            "\u001b[34m\u001b[1mTensorBoard: \u001b[0mmodel graph visualization added ✅\n",
            "Image sizes 224 train, 224 val\n",
            "Using 2 dataloader workers\n",
            "Logging results to \u001b[1mruns/classify/train10\u001b[0m\n",
            "Starting training for 20 epochs...\n",
            "\n",
            "      Epoch    GPU_mem       loss  Instances       Size\n"
          ]
        },
        {
          "name": "stderr",
          "output_type": "stream",
          "text": [
            "       1/20      1.91G     0.5838         16        224: 100%|██████████| 114/114 [00:20<00:00,  5.61it/s]\n",
            "               classes   top1_acc   top5_acc: 100%|██████████| 35/35 [00:06<00:00,  5.49it/s]"
          ]
        },
        {
          "name": "stdout",
          "output_type": "stream",
          "text": [
            "                   all      0.817          1\n"
          ]
        },
        {
          "name": "stderr",
          "output_type": "stream",
          "text": [
            "\n"
          ]
        },
        {
          "name": "stdout",
          "output_type": "stream",
          "text": [
            "\n",
            "      Epoch    GPU_mem       loss  Instances       Size\n"
          ]
        },
        {
          "name": "stderr",
          "output_type": "stream",
          "text": [
            "       2/20      2.22G     0.4519         16        224: 100%|██████████| 114/114 [00:17<00:00,  6.58it/s]\n",
            "               classes   top1_acc   top5_acc: 100%|██████████| 35/35 [00:07<00:00,  4.60it/s]"
          ]
        },
        {
          "name": "stdout",
          "output_type": "stream",
          "text": [
            "                   all      0.804          1\n"
          ]
        },
        {
          "name": "stderr",
          "output_type": "stream",
          "text": [
            "\n"
          ]
        },
        {
          "name": "stdout",
          "output_type": "stream",
          "text": [
            "\n",
            "      Epoch    GPU_mem       loss  Instances       Size\n"
          ]
        },
        {
          "name": "stderr",
          "output_type": "stream",
          "text": [
            "       3/20      2.28G     0.4649         16        224: 100%|██████████| 114/114 [00:17<00:00,  6.46it/s]\n",
            "               classes   top1_acc   top5_acc: 100%|██████████| 35/35 [00:06<00:00,  5.03it/s]"
          ]
        },
        {
          "name": "stdout",
          "output_type": "stream",
          "text": [
            "                   all      0.786          1\n"
          ]
        },
        {
          "name": "stderr",
          "output_type": "stream",
          "text": [
            "\n"
          ]
        },
        {
          "name": "stdout",
          "output_type": "stream",
          "text": [
            "\n",
            "      Epoch    GPU_mem       loss  Instances       Size\n"
          ]
        },
        {
          "name": "stderr",
          "output_type": "stream",
          "text": [
            "       4/20      2.34G     0.4948         16        224: 100%|██████████| 114/114 [00:18<00:00,  6.31it/s]\n",
            "               classes   top1_acc   top5_acc: 100%|██████████| 35/35 [00:06<00:00,  5.45it/s]"
          ]
        },
        {
          "name": "stdout",
          "output_type": "stream",
          "text": [
            "                   all      0.804          1\n"
          ]
        },
        {
          "name": "stderr",
          "output_type": "stream",
          "text": [
            "\n"
          ]
        },
        {
          "name": "stdout",
          "output_type": "stream",
          "text": [
            "\n",
            "      Epoch    GPU_mem       loss  Instances       Size\n"
          ]
        },
        {
          "name": "stderr",
          "output_type": "stream",
          "text": [
            "       5/20      2.56G     0.4208         16        224: 100%|██████████| 114/114 [00:18<00:00,  6.28it/s]\n",
            "               classes   top1_acc   top5_acc: 100%|██████████| 35/35 [00:06<00:00,  5.50it/s]"
          ]
        },
        {
          "name": "stdout",
          "output_type": "stream",
          "text": [
            "                   all      0.845          1\n"
          ]
        },
        {
          "name": "stderr",
          "output_type": "stream",
          "text": [
            "\n"
          ]
        },
        {
          "name": "stdout",
          "output_type": "stream",
          "text": [
            "\n",
            "      Epoch    GPU_mem       loss  Instances       Size\n"
          ]
        },
        {
          "name": "stderr",
          "output_type": "stream",
          "text": [
            "       6/20      2.56G     0.3913         16        224: 100%|██████████| 114/114 [00:18<00:00,  6.13it/s]\n",
            "               classes   top1_acc   top5_acc: 100%|██████████| 35/35 [00:06<00:00,  5.53it/s]"
          ]
        },
        {
          "name": "stdout",
          "output_type": "stream",
          "text": [
            "                   all      0.826          1\n"
          ]
        },
        {
          "name": "stderr",
          "output_type": "stream",
          "text": [
            "\n"
          ]
        },
        {
          "name": "stdout",
          "output_type": "stream",
          "text": [
            "\n",
            "      Epoch    GPU_mem       loss  Instances       Size\n"
          ]
        },
        {
          "name": "stderr",
          "output_type": "stream",
          "text": [
            "       7/20      2.69G     0.3427         16        224: 100%|██████████| 114/114 [00:18<00:00,  6.09it/s]\n",
            "               classes   top1_acc   top5_acc: 100%|██████████| 35/35 [00:06<00:00,  5.35it/s]"
          ]
        },
        {
          "name": "stdout",
          "output_type": "stream",
          "text": [
            "                   all      0.889          1\n"
          ]
        },
        {
          "name": "stderr",
          "output_type": "stream",
          "text": [
            "\n"
          ]
        },
        {
          "name": "stdout",
          "output_type": "stream",
          "text": [
            "\n",
            "      Epoch    GPU_mem       loss  Instances       Size\n"
          ]
        },
        {
          "name": "stderr",
          "output_type": "stream",
          "text": [
            "       8/20      2.69G     0.3159         16        224: 100%|██████████| 114/114 [00:18<00:00,  6.11it/s]\n",
            "               classes   top1_acc   top5_acc: 100%|██████████| 35/35 [00:06<00:00,  5.64it/s]"
          ]
        },
        {
          "name": "stdout",
          "output_type": "stream",
          "text": [
            "                   all      0.892          1\n"
          ]
        },
        {
          "name": "stderr",
          "output_type": "stream",
          "text": [
            "\n"
          ]
        },
        {
          "name": "stdout",
          "output_type": "stream",
          "text": [
            "\n",
            "      Epoch    GPU_mem       loss  Instances       Size\n"
          ]
        },
        {
          "name": "stderr",
          "output_type": "stream",
          "text": [
            "       9/20      2.77G     0.2997         16        224: 100%|██████████| 114/114 [00:18<00:00,  6.15it/s]\n",
            "               classes   top1_acc   top5_acc: 100%|██████████| 35/35 [00:06<00:00,  5.22it/s]"
          ]
        },
        {
          "name": "stdout",
          "output_type": "stream",
          "text": [
            "                   all        0.9          1\n"
          ]
        },
        {
          "name": "stderr",
          "output_type": "stream",
          "text": [
            "\n"
          ]
        },
        {
          "name": "stdout",
          "output_type": "stream",
          "text": [
            "\n",
            "      Epoch    GPU_mem       loss  Instances       Size\n"
          ]
        },
        {
          "name": "stderr",
          "output_type": "stream",
          "text": [
            "      10/20      2.77G     0.2659         16        224: 100%|██████████| 114/114 [00:17<00:00,  6.42it/s]\n",
            "               classes   top1_acc   top5_acc: 100%|██████████| 35/35 [00:07<00:00,  4.65it/s]"
          ]
        },
        {
          "name": "stdout",
          "output_type": "stream",
          "text": [
            "                   all        0.9          1\n"
          ]
        },
        {
          "name": "stderr",
          "output_type": "stream",
          "text": [
            "\n"
          ]
        },
        {
          "name": "stdout",
          "output_type": "stream",
          "text": [
            "\n",
            "      Epoch    GPU_mem       loss  Instances       Size\n"
          ]
        },
        {
          "name": "stderr",
          "output_type": "stream",
          "text": [
            "      11/20      2.77G       0.26         16        224: 100%|██████████| 114/114 [00:19<00:00,  5.97it/s]\n",
            "               classes   top1_acc   top5_acc: 100%|██████████| 35/35 [00:06<00:00,  5.54it/s]"
          ]
        },
        {
          "name": "stdout",
          "output_type": "stream",
          "text": [
            "                   all      0.911          1\n"
          ]
        },
        {
          "name": "stderr",
          "output_type": "stream",
          "text": [
            "\n"
          ]
        },
        {
          "name": "stdout",
          "output_type": "stream",
          "text": [
            "\n",
            "      Epoch    GPU_mem       loss  Instances       Size\n"
          ]
        },
        {
          "name": "stderr",
          "output_type": "stream",
          "text": [
            "      12/20      2.77G     0.2423         16        224: 100%|██████████| 114/114 [00:18<00:00,  6.28it/s]\n",
            "               classes   top1_acc   top5_acc: 100%|██████████| 35/35 [00:06<00:00,  5.64it/s]"
          ]
        },
        {
          "name": "stdout",
          "output_type": "stream",
          "text": [
            "                   all      0.911          1\n"
          ]
        },
        {
          "name": "stderr",
          "output_type": "stream",
          "text": [
            "\n"
          ]
        },
        {
          "name": "stdout",
          "output_type": "stream",
          "text": [
            "\n",
            "      Epoch    GPU_mem       loss  Instances       Size\n"
          ]
        },
        {
          "name": "stderr",
          "output_type": "stream",
          "text": [
            "      13/20      2.77G      0.237         16        224: 100%|██████████| 114/114 [00:17<00:00,  6.34it/s]\n",
            "               classes   top1_acc   top5_acc: 100%|██████████| 35/35 [00:06<00:00,  5.07it/s]"
          ]
        },
        {
          "name": "stdout",
          "output_type": "stream",
          "text": [
            "                   all      0.912          1\n"
          ]
        },
        {
          "name": "stderr",
          "output_type": "stream",
          "text": [
            "\n"
          ]
        },
        {
          "name": "stdout",
          "output_type": "stream",
          "text": [
            "\n",
            "      Epoch    GPU_mem       loss  Instances       Size\n"
          ]
        },
        {
          "name": "stderr",
          "output_type": "stream",
          "text": [
            "      14/20      2.77G     0.2099         16        224: 100%|██████████| 114/114 [00:18<00:00,  6.20it/s]\n",
            "               classes   top1_acc   top5_acc: 100%|██████████| 35/35 [00:06<00:00,  5.54it/s]"
          ]
        },
        {
          "name": "stdout",
          "output_type": "stream",
          "text": [
            "                   all       0.91          1\n"
          ]
        },
        {
          "name": "stderr",
          "output_type": "stream",
          "text": [
            "\n"
          ]
        },
        {
          "name": "stdout",
          "output_type": "stream",
          "text": [
            "\n",
            "      Epoch    GPU_mem       loss  Instances       Size\n"
          ]
        },
        {
          "name": "stderr",
          "output_type": "stream",
          "text": [
            "      15/20      2.77G     0.1837         16        224: 100%|██████████| 114/114 [00:18<00:00,  6.13it/s]\n",
            "               classes   top1_acc   top5_acc: 100%|██████████| 35/35 [00:06<00:00,  5.63it/s]"
          ]
        },
        {
          "name": "stdout",
          "output_type": "stream",
          "text": [
            "                   all      0.915          1\n"
          ]
        },
        {
          "name": "stderr",
          "output_type": "stream",
          "text": [
            "\n"
          ]
        },
        {
          "name": "stdout",
          "output_type": "stream",
          "text": [
            "\n",
            "      Epoch    GPU_mem       loss  Instances       Size\n"
          ]
        },
        {
          "name": "stderr",
          "output_type": "stream",
          "text": [
            "      16/20      2.79G     0.1725         16        224: 100%|██████████| 114/114 [00:18<00:00,  6.16it/s]\n",
            "               classes   top1_acc   top5_acc: 100%|██████████| 35/35 [00:06<00:00,  5.47it/s]"
          ]
        },
        {
          "name": "stdout",
          "output_type": "stream",
          "text": [
            "                   all      0.924          1\n"
          ]
        },
        {
          "name": "stderr",
          "output_type": "stream",
          "text": [
            "\n"
          ]
        },
        {
          "name": "stdout",
          "output_type": "stream",
          "text": [
            "\n",
            "      Epoch    GPU_mem       loss  Instances       Size\n"
          ]
        },
        {
          "name": "stderr",
          "output_type": "stream",
          "text": [
            "      17/20      2.79G     0.1837         16        224: 100%|██████████| 114/114 [00:17<00:00,  6.52it/s]\n",
            "               classes   top1_acc   top5_acc: 100%|██████████| 35/35 [00:07<00:00,  4.74it/s]"
          ]
        },
        {
          "name": "stdout",
          "output_type": "stream",
          "text": [
            "                   all      0.929          1\n"
          ]
        },
        {
          "name": "stderr",
          "output_type": "stream",
          "text": [
            "\n"
          ]
        },
        {
          "name": "stdout",
          "output_type": "stream",
          "text": [
            "\n",
            "      Epoch    GPU_mem       loss  Instances       Size\n"
          ]
        },
        {
          "name": "stderr",
          "output_type": "stream",
          "text": [
            "      18/20      3.01G     0.1624         16        224: 100%|██████████| 114/114 [00:17<00:00,  6.61it/s]\n",
            "               classes   top1_acc   top5_acc: 100%|██████████| 35/35 [00:07<00:00,  4.81it/s]"
          ]
        },
        {
          "name": "stdout",
          "output_type": "stream",
          "text": [
            "                   all      0.925          1\n"
          ]
        },
        {
          "name": "stderr",
          "output_type": "stream",
          "text": [
            "\n"
          ]
        },
        {
          "name": "stdout",
          "output_type": "stream",
          "text": [
            "\n",
            "      Epoch    GPU_mem       loss  Instances       Size\n"
          ]
        },
        {
          "name": "stderr",
          "output_type": "stream",
          "text": [
            "      19/20      3.01G     0.1615         16        224: 100%|██████████| 114/114 [00:17<00:00,  6.49it/s]\n",
            "               classes   top1_acc   top5_acc: 100%|██████████| 35/35 [00:07<00:00,  4.87it/s]"
          ]
        },
        {
          "name": "stdout",
          "output_type": "stream",
          "text": [
            "                   all      0.921          1\n"
          ]
        },
        {
          "name": "stderr",
          "output_type": "stream",
          "text": [
            "\n"
          ]
        },
        {
          "name": "stdout",
          "output_type": "stream",
          "text": [
            "\n",
            "      Epoch    GPU_mem       loss  Instances       Size\n"
          ]
        },
        {
          "name": "stderr",
          "output_type": "stream",
          "text": [
            "      20/20      3.14G     0.1629         16        224: 100%|██████████| 114/114 [00:18<00:00,  6.19it/s]\n",
            "               classes   top1_acc   top5_acc: 100%|██████████| 35/35 [00:06<00:00,  5.77it/s]"
          ]
        },
        {
          "name": "stdout",
          "output_type": "stream",
          "text": [
            "                   all      0.924          1\n"
          ]
        },
        {
          "name": "stderr",
          "output_type": "stream",
          "text": [
            "\n"
          ]
        },
        {
          "name": "stdout",
          "output_type": "stream",
          "text": [
            "\n",
            "20 epochs completed in 0.161 hours.\n",
            "Optimizer stripped from runs/classify/train10/weights/last.pt, 57.0MB\n",
            "Optimizer stripped from runs/classify/train10/weights/best.pt, 57.0MB\n",
            "\n",
            "Validating runs/classify/train10/weights/best.pt...\n",
            "Ultralytics 8.3.94 🚀 Python-3.11.11 torch-2.6.0+cu124 CUDA:0 (Tesla T4, 15095MiB)\n",
            "YOLO11x-cls summary (fused): 94 layers, 28,337,540 parameters, 0 gradients, 110.3 GFLOPs\n",
            "\u001b[34m\u001b[1mtrain:\u001b[0m /content/data/working/custom/train... found 1824 images in 4 classes ✅ \n",
            "\u001b[34m\u001b[1mval:\u001b[0m /content/data/working/custom/val... found 1093 images in 4 classes ✅ \n",
            "\u001b[34m\u001b[1mtest:\u001b[0m /content/data/working/custom/test... found 228 images in 4 classes ✅ \n"
          ]
        },
        {
          "name": "stderr",
          "output_type": "stream",
          "text": [
            "               classes   top1_acc   top5_acc: 100%|██████████| 35/35 [00:06<00:00,  5.32it/s]\n"
          ]
        },
        {
          "name": "stdout",
          "output_type": "stream",
          "text": [
            "                   all      0.929          1\n",
            "Speed: 0.1ms preprocess, 1.7ms inference, 0.0ms loss, 0.0ms postprocess per image\n",
            "Results saved to \u001b[1mruns/classify/train10\u001b[0m\n",
            "Ultralytics 8.3.94 🚀 Python-3.11.11 torch-2.6.0+cu124 CUDA:0 (Tesla T4, 15095MiB)\n",
            "YOLO11x-cls summary (fused): 94 layers, 28,337,540 parameters, 0 gradients, 110.3 GFLOPs\n",
            "\u001b[34m\u001b[1mtrain:\u001b[0m /content/data/working/custom/train... found 1824 images in 4 classes ✅ \n",
            "\u001b[34m\u001b[1mval:\u001b[0m /content/data/working/custom/val... found 1093 images in 4 classes ✅ \n",
            "\u001b[34m\u001b[1mtest:\u001b[0m /content/data/working/custom/test... found 228 images in 4 classes ✅ \n"
          ]
        },
        {
          "name": "stderr",
          "output_type": "stream",
          "text": [
            "\u001b[34m\u001b[1mval: \u001b[0mScanning /content/data/working/custom/val... 1093 images, 0 corrupt: 100%|██████████| 1093/1093 [00:00<?, ?it/s]\n",
            "               classes   top1_acc   top5_acc: 100%|██████████| 69/69 [00:08<00:00,  8.17it/s]\n"
          ]
        },
        {
          "name": "stdout",
          "output_type": "stream",
          "text": [
            "                   all      0.928          1\n",
            "Speed: 0.1ms preprocess, 4.2ms inference, 0.0ms loss, 0.0ms postprocess per image\n",
            "Results saved to \u001b[1mruns/classify/train102\u001b[0m\n"
          ]
        }
      ],
      "source": [
        "from ultralytics import YOLO\n",
        "import wandb\n",
        "import numpy as np\n",
        "import matplotlib.pyplot as plt\n",
        "import seaborn as sns\n",
        "from sklearn.metrics import classification_report, confusion_matrix, accuracy_score\n",
        "\n",
        "# Initialize wandb in disabled mode\n",
        "wandb.init(mode=\"disabled\")\n",
        "\n",
        "# Load a pretrained YOLO model\n",
        "model = YOLO('yolo11x-cls.pt')\n",
        "\n",
        "# Train the model\n",
        "model.train(data='/content/data/working/custom', epochs=20)\n",
        "\n",
        "# Validate the model\n",
        "metrics = model.val()\n",
        "\n",
        "\n",
        "\n",
        "\n",
        "\n"
      ]
    },
    {
      "cell_type": "code",
      "execution_count": null,
      "metadata": {
        "colab": {
          "base_uri": "https://localhost:8080/",
          "height": 1000
        },
        "id": "HaVIVHXlFuBe",
        "outputId": "648b10b3-705a-4a97-ac45-41c940729371"
      },
      "outputs": [
        {
          "name": "stdout",
          "output_type": "stream",
          "text": [
            "Ultralytics 8.3.111 🚀 Python-3.11.12 torch-2.6.0+cu124 CUDA:0 (Tesla T4, 15095MiB)\n",
            "\u001b[34m\u001b[1mengine/trainer: \u001b[0mtask=classify, mode=train, model=yolo11n-cls.pt, data=/content/data/working/custom, epochs=10, time=None, patience=100, batch=16, imgsz=224, save=True, save_period=-1, cache=False, device=None, workers=8, project=None, name=train7, exist_ok=False, pretrained=True, optimizer=auto, verbose=True, seed=0, deterministic=True, single_cls=False, rect=False, cos_lr=False, close_mosaic=10, resume=False, amp=True, fraction=1.0, profile=False, freeze=None, multi_scale=False, overlap_mask=True, mask_ratio=4, dropout=0.0, val=True, split=val, save_json=False, conf=None, iou=0.7, max_det=300, half=False, dnn=False, plots=True, source=None, vid_stride=1, stream_buffer=False, visualize=False, augment=False, agnostic_nms=False, classes=None, retina_masks=False, embed=None, show=False, save_frames=False, save_txt=False, save_conf=False, save_crop=False, show_labels=True, show_conf=True, show_boxes=True, line_width=None, format=torchscript, keras=False, optimize=False, int8=False, dynamic=False, simplify=True, opset=None, workspace=None, nms=False, lr0=0.01, lrf=0.01, momentum=0.937, weight_decay=0.0005, warmup_epochs=3.0, warmup_momentum=0.8, warmup_bias_lr=0.1, box=7.5, cls=0.5, dfl=1.5, pose=12.0, kobj=1.0, nbs=64, hsv_h=0.015, hsv_s=0.7, hsv_v=0.4, degrees=0.0, translate=0.1, scale=0.5, shear=0.0, perspective=0.0, flipud=0.0, fliplr=0.5, bgr=0.0, mosaic=1.0, mixup=0.0, copy_paste=0.0, copy_paste_mode=flip, auto_augment=randaugment, erasing=0.4, cfg=None, tracker=botsort.yaml, save_dir=runs/classify/train7\n",
            "\u001b[34m\u001b[1mtrain:\u001b[0m /content/data/working/custom/train... found 1824 images in 4 classes ✅ \n",
            "\u001b[34m\u001b[1mval:\u001b[0m /content/data/working/custom/val... found 1093 images in 4 classes ✅ \n",
            "\u001b[34m\u001b[1mtest:\u001b[0m /content/data/working/custom/test... found 228 images in 4 classes ✅ \n",
            "Overriding model.yaml nc=80 with nc=4\n",
            "\n",
            "                   from  n    params  module                                       arguments                     \n",
            "  0                  -1  1       464  ultralytics.nn.modules.conv.Conv             [3, 16, 3, 2]                 \n",
            "  1                  -1  1      4672  ultralytics.nn.modules.conv.Conv             [16, 32, 3, 2]                \n",
            "  2                  -1  1      6640  ultralytics.nn.modules.block.C3k2            [32, 64, 1, False, 0.25]      \n",
            "  3                  -1  1     36992  ultralytics.nn.modules.conv.Conv             [64, 64, 3, 2]                \n",
            "  4                  -1  1     26080  ultralytics.nn.modules.block.C3k2            [64, 128, 1, False, 0.25]     \n",
            "  5                  -1  1    147712  ultralytics.nn.modules.conv.Conv             [128, 128, 3, 2]              \n",
            "  6                  -1  1     87040  ultralytics.nn.modules.block.C3k2            [128, 128, 1, True]           \n",
            "  7                  -1  1    295424  ultralytics.nn.modules.conv.Conv             [128, 256, 3, 2]              \n",
            "  8                  -1  1    346112  ultralytics.nn.modules.block.C3k2            [256, 256, 1, True]           \n",
            "  9                  -1  1    249728  ultralytics.nn.modules.block.C2PSA           [256, 256, 1]                 \n",
            " 10                  -1  1    335364  ultralytics.nn.modules.head.Classify         [256, 4]                      \n",
            "YOLO11n-cls summary: 86 layers, 1,536,228 parameters, 1,536,228 gradients, 3.3 GFLOPs\n",
            "Transferred 234/236 items from pretrained weights\n",
            "\u001b[34m\u001b[1mAMP: \u001b[0mrunning Automatic Mixed Precision (AMP) checks...\n",
            "\u001b[34m\u001b[1mAMP: \u001b[0mchecks passed ✅\n",
            "\u001b[34m\u001b[1mtrain: \u001b[0mFast image access ✅ (ping: 0.0±0.0 ms, read: 675.6±260.0 MB/s, size: 116.2 KB)\n"
          ]
        },
        {
          "name": "stderr",
          "output_type": "stream",
          "text": [
            "\u001b[34m\u001b[1mtrain: \u001b[0mScanning /content/data/working/custom/train... 1824 images, 0 corrupt: 100%|██████████| 1824/1824 [00:00<?, ?it/s]\n"
          ]
        },
        {
          "name": "stdout",
          "output_type": "stream",
          "text": [
            "\u001b[34m\u001b[1mval: \u001b[0mFast image access ✅ (ping: 0.0±0.0 ms, read: 302.5±127.1 MB/s, size: 30.6 KB)\n"
          ]
        },
        {
          "name": "stderr",
          "output_type": "stream",
          "text": [
            "\u001b[34m\u001b[1mval: \u001b[0mScanning /content/data/working/custom/val... 1093 images, 0 corrupt: 100%|██████████| 1093/1093 [00:00<?, ?it/s]\n"
          ]
        },
        {
          "name": "stdout",
          "output_type": "stream",
          "text": [
            "\u001b[34m\u001b[1moptimizer:\u001b[0m 'optimizer=auto' found, ignoring 'lr0=0.01' and 'momentum=0.937' and determining best 'optimizer', 'lr0' and 'momentum' automatically... \n",
            "\u001b[34m\u001b[1moptimizer:\u001b[0m AdamW(lr=0.00125, momentum=0.9) with parameter groups 39 weight(decay=0.0), 40 weight(decay=0.0005), 40 bias(decay=0.0)\n",
            "Image sizes 224 train, 224 val\n",
            "Using 2 dataloader workers\n",
            "Logging results to \u001b[1mruns/classify/train7\u001b[0m\n",
            "Starting training for 10 epochs...\n",
            "\n",
            "      Epoch    GPU_mem       loss  Instances       Size\n"
          ]
        },
        {
          "name": "stderr",
          "output_type": "stream",
          "text": [
            "       1/10     0.297G     0.6862         16        224: 100%|██████████| 114/114 [00:16<00:00,  6.86it/s]\n",
            "               classes   top1_acc   top5_acc: 100%|██████████| 35/35 [00:07<00:00,  4.86it/s]"
          ]
        },
        {
          "name": "stdout",
          "output_type": "stream",
          "text": [
            "                   all      0.882          1\n"
          ]
        },
        {
          "name": "stderr",
          "output_type": "stream",
          "text": [
            "\n"
          ]
        },
        {
          "name": "stdout",
          "output_type": "stream",
          "text": [
            "\n",
            "      Epoch    GPU_mem       loss  Instances       Size\n"
          ]
        },
        {
          "name": "stderr",
          "output_type": "stream",
          "text": [
            "       2/10     0.305G     0.3498         16        224: 100%|██████████| 114/114 [00:14<00:00,  7.85it/s]\n",
            "               classes   top1_acc   top5_acc: 100%|██████████| 35/35 [00:07<00:00,  4.38it/s]"
          ]
        },
        {
          "name": "stdout",
          "output_type": "stream",
          "text": [
            "                   all      0.862          1\n"
          ]
        },
        {
          "name": "stderr",
          "output_type": "stream",
          "text": [
            "\n"
          ]
        },
        {
          "name": "stdout",
          "output_type": "stream",
          "text": [
            "\n",
            "      Epoch    GPU_mem       loss  Instances       Size\n"
          ]
        },
        {
          "name": "stderr",
          "output_type": "stream",
          "text": [
            "       3/10     0.305G      0.344         16        224: 100%|██████████| 114/114 [00:15<00:00,  7.46it/s]\n",
            "               classes   top1_acc   top5_acc: 100%|██████████| 35/35 [00:07<00:00,  4.86it/s]"
          ]
        },
        {
          "name": "stdout",
          "output_type": "stream",
          "text": [
            "                   all      0.831          1\n"
          ]
        },
        {
          "name": "stderr",
          "output_type": "stream",
          "text": [
            "\n"
          ]
        },
        {
          "name": "stdout",
          "output_type": "stream",
          "text": [
            "\n",
            "      Epoch    GPU_mem       loss  Instances       Size\n"
          ]
        },
        {
          "name": "stderr",
          "output_type": "stream",
          "text": [
            "       4/10     0.305G     0.3217         16        224: 100%|██████████| 114/114 [00:14<00:00,  7.71it/s]\n",
            "               classes   top1_acc   top5_acc: 100%|██████████| 35/35 [00:07<00:00,  4.98it/s]"
          ]
        },
        {
          "name": "stdout",
          "output_type": "stream",
          "text": [
            "                   all      0.908          1\n"
          ]
        },
        {
          "name": "stderr",
          "output_type": "stream",
          "text": [
            "\n"
          ]
        },
        {
          "name": "stdout",
          "output_type": "stream",
          "text": [
            "\n",
            "      Epoch    GPU_mem       loss  Instances       Size\n"
          ]
        },
        {
          "name": "stderr",
          "output_type": "stream",
          "text": [
            "       5/10     0.305G     0.2528         16        224: 100%|██████████| 114/114 [00:17<00:00,  6.58it/s]\n",
            "               classes   top1_acc   top5_acc: 100%|██████████| 35/35 [00:07<00:00,  4.66it/s]"
          ]
        },
        {
          "name": "stdout",
          "output_type": "stream",
          "text": [
            "                   all      0.863          1\n"
          ]
        },
        {
          "name": "stderr",
          "output_type": "stream",
          "text": [
            "\n"
          ]
        },
        {
          "name": "stdout",
          "output_type": "stream",
          "text": [
            "\n",
            "      Epoch    GPU_mem       loss  Instances       Size\n"
          ]
        },
        {
          "name": "stderr",
          "output_type": "stream",
          "text": [
            "       6/10     0.305G     0.2458         16        224: 100%|██████████| 114/114 [00:14<00:00,  7.76it/s]\n",
            "               classes   top1_acc   top5_acc: 100%|██████████| 35/35 [00:07<00:00,  4.45it/s]"
          ]
        },
        {
          "name": "stdout",
          "output_type": "stream",
          "text": [
            "                   all      0.918          1\n"
          ]
        },
        {
          "name": "stderr",
          "output_type": "stream",
          "text": [
            "\n"
          ]
        },
        {
          "name": "stdout",
          "output_type": "stream",
          "text": [
            "\n",
            "      Epoch    GPU_mem       loss  Instances       Size\n"
          ]
        },
        {
          "name": "stderr",
          "output_type": "stream",
          "text": [
            "       7/10     0.305G     0.1896         16        224: 100%|██████████| 114/114 [00:14<00:00,  7.64it/s]\n",
            "               classes   top1_acc   top5_acc: 100%|██████████| 35/35 [00:08<00:00,  4.12it/s]"
          ]
        },
        {
          "name": "stdout",
          "output_type": "stream",
          "text": [
            "                   all      0.917          1\n"
          ]
        },
        {
          "name": "stderr",
          "output_type": "stream",
          "text": [
            "\n"
          ]
        },
        {
          "name": "stdout",
          "output_type": "stream",
          "text": [
            "\n",
            "      Epoch    GPU_mem       loss  Instances       Size\n"
          ]
        },
        {
          "name": "stderr",
          "output_type": "stream",
          "text": [
            "       8/10     0.305G     0.1825         16        224: 100%|██████████| 114/114 [00:15<00:00,  7.32it/s]\n",
            "               classes   top1_acc   top5_acc: 100%|██████████| 35/35 [00:08<00:00,  4.31it/s]"
          ]
        },
        {
          "name": "stdout",
          "output_type": "stream",
          "text": [
            "                   all      0.925          1\n"
          ]
        },
        {
          "name": "stderr",
          "output_type": "stream",
          "text": [
            "\n"
          ]
        },
        {
          "name": "stdout",
          "output_type": "stream",
          "text": [
            "\n",
            "      Epoch    GPU_mem       loss  Instances       Size\n"
          ]
        },
        {
          "name": "stderr",
          "output_type": "stream",
          "text": [
            "       9/10     0.305G     0.1527         16        224: 100%|██████████| 114/114 [00:15<00:00,  7.49it/s]\n",
            "               classes   top1_acc   top5_acc: 100%|██████████| 35/35 [00:07<00:00,  4.70it/s]"
          ]
        },
        {
          "name": "stdout",
          "output_type": "stream",
          "text": [
            "                   all      0.931          1\n"
          ]
        },
        {
          "name": "stderr",
          "output_type": "stream",
          "text": [
            "\n"
          ]
        },
        {
          "name": "stdout",
          "output_type": "stream",
          "text": [
            "\n",
            "      Epoch    GPU_mem       loss  Instances       Size\n"
          ]
        },
        {
          "name": "stderr",
          "output_type": "stream",
          "text": [
            "      10/10     0.305G     0.1365         16        224: 100%|██████████| 114/114 [00:15<00:00,  7.58it/s]\n",
            "               classes   top1_acc   top5_acc: 100%|██████████| 35/35 [00:07<00:00,  4.78it/s]"
          ]
        },
        {
          "name": "stdout",
          "output_type": "stream",
          "text": [
            "                   all      0.937          1\n"
          ]
        },
        {
          "name": "stderr",
          "output_type": "stream",
          "text": [
            "\n"
          ]
        },
        {
          "name": "stdout",
          "output_type": "stream",
          "text": [
            "\n",
            "10 epochs completed in 0.065 hours.\n",
            "Optimizer stripped from runs/classify/train7/weights/last.pt, 3.2MB\n",
            "Optimizer stripped from runs/classify/train7/weights/best.pt, 3.2MB\n",
            "\n",
            "Validating runs/classify/train7/weights/best.pt...\n",
            "Ultralytics 8.3.111 🚀 Python-3.11.12 torch-2.6.0+cu124 CUDA:0 (Tesla T4, 15095MiB)\n",
            "YOLO11n-cls summary (fused): 47 layers, 1,531,148 parameters, 0 gradients, 3.2 GFLOPs\n",
            "\u001b[34m\u001b[1mtrain:\u001b[0m /content/data/working/custom/train... found 1824 images in 4 classes ✅ \n",
            "\u001b[34m\u001b[1mval:\u001b[0m /content/data/working/custom/val... found 1093 images in 4 classes ✅ \n",
            "\u001b[34m\u001b[1mtest:\u001b[0m /content/data/working/custom/test... found 228 images in 4 classes ✅ \n"
          ]
        },
        {
          "name": "stderr",
          "output_type": "stream",
          "text": [
            "               classes   top1_acc   top5_acc: 100%|██████████| 35/35 [00:08<00:00,  4.26it/s]\n"
          ]
        },
        {
          "name": "stdout",
          "output_type": "stream",
          "text": [
            "                   all      0.936          1\n",
            "Speed: 0.1ms preprocess, 0.6ms inference, 0.0ms loss, 0.0ms postprocess per image\n",
            "Results saved to \u001b[1mruns/classify/train7\u001b[0m\n",
            "Ultralytics 8.3.111 🚀 Python-3.11.12 torch-2.6.0+cu124 CUDA:0 (Tesla T4, 15095MiB)\n",
            "YOLO11n-cls summary (fused): 47 layers, 1,531,148 parameters, 0 gradients, 3.2 GFLOPs\n",
            "\u001b[34m\u001b[1mtrain:\u001b[0m /content/data/working/custom/train... found 1824 images in 4 classes ✅ \n",
            "\u001b[34m\u001b[1mval:\u001b[0m /content/data/working/custom/val... found 1093 images in 4 classes ✅ \n",
            "\u001b[34m\u001b[1mtest:\u001b[0m /content/data/working/custom/test... found 228 images in 4 classes ✅ \n",
            "\u001b[34m\u001b[1mval: \u001b[0mFast image access ✅ (ping: 0.0±0.0 ms, read: 598.1±242.3 MB/s, size: 30.6 KB)\n"
          ]
        },
        {
          "name": "stderr",
          "output_type": "stream",
          "text": [
            "\u001b[34m\u001b[1mval: \u001b[0mScanning /content/data/working/custom/val... 1093 images, 0 corrupt: 100%|██████████| 1093/1093 [00:00<?, ?it/s]\n",
            "               classes   top1_acc   top5_acc: 100%|██████████| 69/69 [00:08<00:00,  7.95it/s]\n"
          ]
        },
        {
          "name": "stdout",
          "output_type": "stream",
          "text": [
            "                   all      0.937          1\n",
            "Speed: 0.1ms preprocess, 0.8ms inference, 0.0ms loss, 0.0ms postprocess per image\n",
            "Results saved to \u001b[1mruns/classify/train72\u001b[0m\n"
          ]
        }
      ],
      "source": [
        "# prompt: debug. from ultralytics import YOLO\n",
        "# import wandb\n",
        "# import numpy as np\n",
        "# import matplotlib.pyplot as plt\n",
        "# import seaborn as sns\n",
        "# from sklearn.metrics import classification_report, confusion_matrix, accuracy_score\n",
        "# # Initialize wandb in disabled mode\n",
        "# wandb.init(mode=\"disabled\")\n",
        "# # Load a pretrained YOLO model\n",
        "# model = YOLO('yolo8.pt')\n",
        "# # Train the model\n",
        "# model.train(data='/content/data/working/custom', epochs=20)\n",
        "# # Validate the model\n",
        "# metrics = model.val(). switch to yolov 8\n",
        "\n",
        "# ... (Your existing code) ...\n",
        "\n",
        "# Initialize wandb in disabled mode\n",
        "wandb.init(mode=\"disabled\")\n",
        "\n",
        "# Load a pretrained YOLOv8 model\n",
        "model = YOLO(\"yolo11n-cls.pt\")  # Choose a YOLOv8 model\n",
        "\n",
        "# Train the model\n",
        "model.train(data='/content/data/working/custom', epochs=10)\n",
        "# Validate the model\n",
        "metrics = model.val()\n",
        "\n",
        "# ... (Rest of your code) ...\n"
      ]
    },
    {
      "cell_type": "code",
      "execution_count": null,
      "metadata": {
        "colab": {
          "base_uri": "https://localhost:8080/",
          "height": 1000
        },
        "id": "rbvU1CaaQtVq",
        "outputId": "3a83297a-da9e-403d-f3e8-2dba5135111a"
      },
      "outputs": [
        {
          "name": "stdout",
          "output_type": "stream",
          "text": [
            "Ultralytics 8.3.111 🚀 Python-3.11.12 torch-2.6.0+cu124 CUDA:0 (Tesla T4, 15095MiB)\n",
            "\u001b[34m\u001b[1mengine/trainer: \u001b[0mtask=classify, mode=train, model=yolov8n-cls.pt, data=/content/data/working/custom, epochs=5, time=None, patience=100, batch=16, imgsz=224, save=True, save_period=-1, cache=False, device=None, workers=8, project=None, name=train9, exist_ok=False, pretrained=True, optimizer=auto, verbose=True, seed=0, deterministic=True, single_cls=False, rect=False, cos_lr=False, close_mosaic=10, resume=False, amp=True, fraction=1.0, profile=False, freeze=None, multi_scale=False, overlap_mask=True, mask_ratio=4, dropout=0.0, val=True, split=val, save_json=False, conf=None, iou=0.7, max_det=300, half=False, dnn=False, plots=True, source=None, vid_stride=1, stream_buffer=False, visualize=False, augment=False, agnostic_nms=False, classes=None, retina_masks=False, embed=None, show=False, save_frames=False, save_txt=False, save_conf=False, save_crop=False, show_labels=True, show_conf=True, show_boxes=True, line_width=None, format=torchscript, keras=False, optimize=False, int8=False, dynamic=False, simplify=True, opset=None, workspace=None, nms=False, lr0=0.01, lrf=0.01, momentum=0.937, weight_decay=0.0005, warmup_epochs=3.0, warmup_momentum=0.8, warmup_bias_lr=0.1, box=7.5, cls=0.5, dfl=1.5, pose=12.0, kobj=1.0, nbs=64, hsv_h=0.015, hsv_s=0.7, hsv_v=0.4, degrees=0.0, translate=0.1, scale=0.5, shear=0.0, perspective=0.0, flipud=0.0, fliplr=0.5, bgr=0.0, mosaic=1.0, mixup=0.0, copy_paste=0.0, copy_paste_mode=flip, auto_augment=randaugment, erasing=0.4, cfg=None, tracker=botsort.yaml, save_dir=runs/classify/train9\n",
            "\u001b[34m\u001b[1mtrain:\u001b[0m /content/data/working/custom/train... found 1824 images in 4 classes ✅ \n",
            "\u001b[34m\u001b[1mval:\u001b[0m /content/data/working/custom/val... found 1093 images in 4 classes ✅ \n",
            "\u001b[34m\u001b[1mtest:\u001b[0m /content/data/working/custom/test... found 228 images in 4 classes ✅ \n",
            "Overriding model.yaml nc=1000 with nc=4\n",
            "\n",
            "                   from  n    params  module                                       arguments                     \n",
            "  0                  -1  1       464  ultralytics.nn.modules.conv.Conv             [3, 16, 3, 2]                 \n",
            "  1                  -1  1      4672  ultralytics.nn.modules.conv.Conv             [16, 32, 3, 2]                \n",
            "  2                  -1  1      7360  ultralytics.nn.modules.block.C2f             [32, 32, 1, True]             \n",
            "  3                  -1  1     18560  ultralytics.nn.modules.conv.Conv             [32, 64, 3, 2]                \n",
            "  4                  -1  2     49664  ultralytics.nn.modules.block.C2f             [64, 64, 2, True]             \n",
            "  5                  -1  1     73984  ultralytics.nn.modules.conv.Conv             [64, 128, 3, 2]               \n",
            "  6                  -1  2    197632  ultralytics.nn.modules.block.C2f             [128, 128, 2, True]           \n",
            "  7                  -1  1    295424  ultralytics.nn.modules.conv.Conv             [128, 256, 3, 2]              \n",
            "  8                  -1  1    460288  ultralytics.nn.modules.block.C2f             [256, 256, 1, True]           \n",
            "  9                  -1  1    335364  ultralytics.nn.modules.head.Classify         [256, 4]                      \n",
            "YOLOv8n-cls summary: 56 layers, 1,443,412 parameters, 1,443,412 gradients, 3.4 GFLOPs\n",
            "Transferred 156/158 items from pretrained weights\n",
            "\u001b[34m\u001b[1mAMP: \u001b[0mrunning Automatic Mixed Precision (AMP) checks...\n",
            "\u001b[34m\u001b[1mAMP: \u001b[0mchecks passed ✅\n",
            "\u001b[34m\u001b[1mtrain: \u001b[0mFast image access ✅ (ping: 0.0±0.0 ms, read: 1056.8±627.1 MB/s, size: 116.2 KB)\n"
          ]
        },
        {
          "name": "stderr",
          "output_type": "stream",
          "text": [
            "\u001b[34m\u001b[1mtrain: \u001b[0mScanning /content/data/working/custom/train... 1824 images, 0 corrupt: 100%|██████████| 1824/1824 [00:00<?, ?it/s]\n"
          ]
        },
        {
          "name": "stdout",
          "output_type": "stream",
          "text": [
            "\u001b[34m\u001b[1mval: \u001b[0mFast image access ✅ (ping: 0.0±0.0 ms, read: 281.8±131.3 MB/s, size: 30.6 KB)\n"
          ]
        },
        {
          "name": "stderr",
          "output_type": "stream",
          "text": [
            "\u001b[34m\u001b[1mval: \u001b[0mScanning /content/data/working/custom/val... 1093 images, 0 corrupt: 100%|██████████| 1093/1093 [00:00<?, ?it/s]\n"
          ]
        },
        {
          "name": "stdout",
          "output_type": "stream",
          "text": [
            "\u001b[34m\u001b[1moptimizer:\u001b[0m 'optimizer=auto' found, ignoring 'lr0=0.01' and 'momentum=0.937' and determining best 'optimizer', 'lr0' and 'momentum' automatically... \n",
            "\u001b[34m\u001b[1moptimizer:\u001b[0m AdamW(lr=0.00125, momentum=0.9) with parameter groups 26 weight(decay=0.0), 27 weight(decay=0.0005), 27 bias(decay=0.0)\n",
            "Image sizes 224 train, 224 val\n",
            "Using 2 dataloader workers\n",
            "Logging results to \u001b[1mruns/classify/train9\u001b[0m\n",
            "Starting training for 5 epochs...\n",
            "\n",
            "      Epoch    GPU_mem       loss  Instances       Size\n"
          ]
        },
        {
          "name": "stderr",
          "output_type": "stream",
          "text": [
            "        1/5     0.396G     0.8294         16        224: 100%|██████████| 114/114 [00:16<00:00,  6.99it/s]\n",
            "               classes   top1_acc   top5_acc: 100%|██████████| 35/35 [00:06<00:00,  5.28it/s]"
          ]
        },
        {
          "name": "stdout",
          "output_type": "stream",
          "text": [
            "                   all      0.845          1\n"
          ]
        },
        {
          "name": "stderr",
          "output_type": "stream",
          "text": [
            "\n"
          ]
        },
        {
          "name": "stdout",
          "output_type": "stream",
          "text": [
            "\n",
            "      Epoch    GPU_mem       loss  Instances       Size\n"
          ]
        },
        {
          "name": "stderr",
          "output_type": "stream",
          "text": [
            "        2/5     0.404G     0.3322         16        224: 100%|██████████| 114/114 [00:13<00:00,  8.49it/s]\n",
            "               classes   top1_acc   top5_acc: 100%|██████████| 35/35 [00:07<00:00,  4.48it/s]"
          ]
        },
        {
          "name": "stdout",
          "output_type": "stream",
          "text": [
            "                   all      0.896          1\n"
          ]
        },
        {
          "name": "stderr",
          "output_type": "stream",
          "text": [
            "\n"
          ]
        },
        {
          "name": "stdout",
          "output_type": "stream",
          "text": [
            "\n",
            "      Epoch    GPU_mem       loss  Instances       Size\n"
          ]
        },
        {
          "name": "stderr",
          "output_type": "stream",
          "text": [
            "        3/5     0.404G     0.2742         16        224: 100%|██████████| 114/114 [00:13<00:00,  8.39it/s]\n",
            "               classes   top1_acc   top5_acc: 100%|██████████| 35/35 [00:05<00:00,  6.18it/s]"
          ]
        },
        {
          "name": "stdout",
          "output_type": "stream",
          "text": [
            "                   all      0.887          1\n"
          ]
        },
        {
          "name": "stderr",
          "output_type": "stream",
          "text": [
            "\n"
          ]
        },
        {
          "name": "stdout",
          "output_type": "stream",
          "text": [
            "\n",
            "      Epoch    GPU_mem       loss  Instances       Size\n"
          ]
        },
        {
          "name": "stderr",
          "output_type": "stream",
          "text": [
            "        4/5     0.404G     0.2559         16        224: 100%|██████████| 114/114 [00:14<00:00,  7.75it/s]\n",
            "               classes   top1_acc   top5_acc: 100%|██████████| 35/35 [00:06<00:00,  5.17it/s]"
          ]
        },
        {
          "name": "stdout",
          "output_type": "stream",
          "text": [
            "                   all      0.881          1\n"
          ]
        },
        {
          "name": "stderr",
          "output_type": "stream",
          "text": [
            "\n"
          ]
        },
        {
          "name": "stdout",
          "output_type": "stream",
          "text": [
            "\n",
            "      Epoch    GPU_mem       loss  Instances       Size\n"
          ]
        },
        {
          "name": "stderr",
          "output_type": "stream",
          "text": [
            "        5/5     0.404G      0.218         16        224: 100%|██████████| 114/114 [00:13<00:00,  8.16it/s]\n",
            "               classes   top1_acc   top5_acc: 100%|██████████| 35/35 [00:07<00:00,  4.45it/s]"
          ]
        },
        {
          "name": "stdout",
          "output_type": "stream",
          "text": [
            "                   all      0.917          1\n"
          ]
        },
        {
          "name": "stderr",
          "output_type": "stream",
          "text": [
            "\n"
          ]
        },
        {
          "name": "stdout",
          "output_type": "stream",
          "text": [
            "\n",
            "5 epochs completed in 0.030 hours.\n",
            "Optimizer stripped from runs/classify/train9/weights/last.pt, 3.0MB\n",
            "Optimizer stripped from runs/classify/train9/weights/best.pt, 3.0MB\n",
            "\n",
            "Validating runs/classify/train9/weights/best.pt...\n",
            "Ultralytics 8.3.111 🚀 Python-3.11.12 torch-2.6.0+cu124 CUDA:0 (Tesla T4, 15095MiB)\n",
            "YOLOv8n-cls summary (fused): 30 layers, 1,440,004 parameters, 0 gradients, 3.3 GFLOPs\n",
            "\u001b[34m\u001b[1mtrain:\u001b[0m /content/data/working/custom/train... found 1824 images in 4 classes ✅ \n",
            "\u001b[34m\u001b[1mval:\u001b[0m /content/data/working/custom/val... found 1093 images in 4 classes ✅ \n",
            "\u001b[34m\u001b[1mtest:\u001b[0m /content/data/working/custom/test... found 228 images in 4 classes ✅ \n"
          ]
        },
        {
          "name": "stderr",
          "output_type": "stream",
          "text": [
            "               classes   top1_acc   top5_acc: 100%|██████████| 35/35 [00:07<00:00,  4.82it/s]\n"
          ]
        },
        {
          "name": "stdout",
          "output_type": "stream",
          "text": [
            "                   all      0.917          1\n",
            "Speed: 0.1ms preprocess, 0.5ms inference, 0.0ms loss, 0.0ms postprocess per image\n",
            "Results saved to \u001b[1mruns/classify/train9\u001b[0m\n",
            "Ultralytics 8.3.111 🚀 Python-3.11.12 torch-2.6.0+cu124 CUDA:0 (Tesla T4, 15095MiB)\n",
            "YOLOv8n-cls summary (fused): 30 layers, 1,440,004 parameters, 0 gradients, 3.3 GFLOPs\n",
            "\u001b[34m\u001b[1mtrain:\u001b[0m /content/data/working/custom/train... found 1824 images in 4 classes ✅ \n",
            "\u001b[34m\u001b[1mval:\u001b[0m /content/data/working/custom/val... found 1093 images in 4 classes ✅ \n",
            "\u001b[34m\u001b[1mtest:\u001b[0m /content/data/working/custom/test... found 228 images in 4 classes ✅ \n",
            "\u001b[34m\u001b[1mval: \u001b[0mFast image access ✅ (ping: 0.0±0.0 ms, read: 606.7±249.7 MB/s, size: 30.6 KB)\n"
          ]
        },
        {
          "name": "stderr",
          "output_type": "stream",
          "text": [
            "\u001b[34m\u001b[1mval: \u001b[0mScanning /content/data/working/custom/val... 1093 images, 0 corrupt: 100%|██████████| 1093/1093 [00:00<?, ?it/s]\n",
            "               classes   top1_acc   top5_acc: 100%|██████████| 69/69 [00:08<00:00,  8.58it/s]\n"
          ]
        },
        {
          "name": "stdout",
          "output_type": "stream",
          "text": [
            "                   all      0.917          1\n",
            "Speed: 0.1ms preprocess, 0.9ms inference, 0.0ms loss, 0.0ms postprocess per image\n",
            "Results saved to \u001b[1mruns/classify/train92\u001b[0m\n"
          ]
        }
      ],
      "source": [
        "# prompt: debug. from ultralytics import YOLO\n",
        "# import wandb\n",
        "# import numpy as np\n",
        "# import matplotlib.pyplot as plt\n",
        "# import seaborn as sns\n",
        "# from sklearn.metrics import classification_report, confusion_matrix, accuracy_score\n",
        "# # Initialize wandb in disabled mode\n",
        "# wandb.init(mode=\"disabled\")\n",
        "# # Load a pretrained YOLO model\n",
        "# model = YOLO('yolo8.pt')\n",
        "# # Train the model\n",
        "# model.train(data='/content/data/working/custom', epochs=20)\n",
        "# # Validate the model\n",
        "# metrics = model.val(). switch to yolov 8\n",
        "\n",
        "# ... (Your existing code) ...\n",
        "\n",
        "# Initialize wandb in disabled mode\n",
        "wandb.init(mode=\"disabled\")\n",
        "\n",
        "# Load a pretrained YOLOv8 model\n",
        "model = YOLO(\"yolov8n-cls.pt\")  # Choose a YOLOv8 model\n",
        "\n",
        "# Train the model\n",
        "model.train(data='/content/data/working/custom', epochs=5)\n",
        "# Validate the model\n",
        "metrics = model.val()\n",
        "\n",
        "# ... (Rest of your code) ...\n"
      ]
    },
    {
      "cell_type": "code",
      "execution_count": null,
      "metadata": {
        "id": "LYdPOHdJRrRB"
      },
      "outputs": [],
      "source": [
        "yaml_content = \"\"\"\n",
        "train: /content/data/working/custom/images/train\n",
        "val: /content/data/working/custom/images/val\n",
        "\n",
        "nc: 1\n",
        "names: ['your_class_name']\n",
        "\"\"\"\n",
        "\n",
        "with open('/content/data/working/custom/data.yaml', 'w') as f:\n",
        "    f.write(yaml_content)\n"
      ]
    },
    {
      "cell_type": "code",
      "execution_count": null,
      "metadata": {
        "colab": {
          "base_uri": "https://localhost:8080/"
        },
        "id": "uBjcERRqS6zD",
        "outputId": "e7b91e6a-08f9-41eb-a8c4-78e669229b0d"
      },
      "outputs": [
        {
          "name": "stdout",
          "output_type": "stream",
          "text": [
            "✅ Numeric label data.yaml created successfully.\n"
          ]
        }
      ],
      "source": [
        "yaml_content = \"\"\"\n",
        "train: /content/data/working/custom/train\n",
        "val: /content/data/working/custom/val\n",
        "test: /content/data/working/custom/test\n",
        "\n",
        "nc: 4\n",
        "names: ['0', '1', '2', '3']\n",
        "\"\"\"\n",
        "\n",
        "with open('/content/data/working/custom/data.yaml', 'w') as f:\n",
        "    f.write(yaml_content.strip())\n",
        "\n",
        "print(\"✅ Numeric label data.yaml created successfully.\")\n"
      ]
    },
    {
      "cell_type": "code",
      "execution_count": null,
      "metadata": {
        "colab": {
          "base_uri": "https://localhost:8080/"
        },
        "id": "1cMug7KrUa-c",
        "outputId": "852a3f94-e1a5-4f51-ba57-7a1f6dbdfec2"
      },
      "outputs": [
        {
          "name": "stdout",
          "output_type": "stream",
          "text": [
            "✅ Minimal data.yaml created successfully (no class names).\n"
          ]
        }
      ],
      "source": [
        "base_dir = \"/content/data/working/custom\"\n",
        "\n",
        "yaml_content = f\"\"\"\n",
        "train: {base_dir}/train\n",
        "val: {base_dir}/val\n",
        "test: {base_dir}/test\n",
        "\n",
        "nc: 4\n",
        "\"\"\"\n",
        "\n",
        "with open(f'{base_dir}/data.yaml', 'w') as f:\n",
        "    f.write(yaml_content.strip())\n",
        "\n",
        "print(\"✅ Minimal data.yaml created successfully (no class names).\")\n"
      ]
    },
    {
      "cell_type": "code",
      "execution_count": null,
      "metadata": {
        "colab": {
          "base_uri": "https://localhost:8080/"
        },
        "id": "OvjAVUM_Wqx9",
        "outputId": "bca8f1db-1b6b-4089-eecd-b1f97684343f"
      },
      "outputs": [
        {
          "name": "stdout",
          "output_type": "stream",
          "text": [
            "✅ data.yaml created successfully with 4 classes.\n"
          ]
        }
      ],
      "source": [
        "import os\n",
        "\n",
        "# Define the base directory for training images\n",
        "train_folder = \"/content/data/working/custom/train\"\n",
        "\n",
        "# Get the list of class folders (subdirectories)\n",
        "class_folders = [f for f in os.scandir(train_folder) if f.is_dir()]\n",
        "\n",
        "# Extract class names from folder names\n",
        "class_names = [f.name for f in class_folders]\n",
        "\n",
        "# Count the number of classes\n",
        "num_classes = len(class_names)\n",
        "\n",
        "# Generate YAML content with class names\n",
        "yaml_content = f\"\"\"\n",
        "train: {train_folder}\n",
        "val: /content/data/working/custom/val\n",
        "test: /content/data/working/custom/test\n",
        "\n",
        "nc: {num_classes}\n",
        "names: {class_names}\n",
        "\"\"\"\n",
        "\n",
        "# Save the generated YAML file\n",
        "yaml_path = \"/content/data/working/custom/data.yaml\"\n",
        "with open(yaml_path, 'w') as f:\n",
        "    f.write(yaml_content.strip())\n",
        "\n",
        "print(f\"✅ data.yaml created successfully with {num_classes} classes.\")\n"
      ]
    },
    {
      "cell_type": "code",
      "execution_count": null,
      "metadata": {
        "id": "rG7u2I57XPVI"
      },
      "outputs": [],
      "source": []
    },
    {
      "cell_type": "code",
      "execution_count": null,
      "metadata": {
        "colab": {
          "base_uri": "https://localhost:8080/"
        },
        "id": "PuHJ0xCNXP6L",
        "outputId": "da58ab00-849c-4d4f-8357-08e0f531b8d8"
      },
      "outputs": [
        {
          "name": "stdout",
          "output_type": "stream",
          "text": [
            "Class names in YAML: ['Blight', 'Common_Rust', 'Gray_Leaf_Spot', 'Healthy']\n",
            "Train class folders: ['Blight', 'Common_Rust', 'Gray_Leaf_Spot', 'Healthy']\n",
            "Validation class folders: ['Blight', 'Common_Rust', 'Gray_Leaf_Spot', 'Healthy']\n",
            "Do the train class folders match YAML?  True\n",
            "Do the validation class folders match YAML?  True\n",
            "Are all class directories present in YAML? True\n",
            "✅ Class names and dataset folders match correctly.\n"
          ]
        }
      ],
      "source": [
        "import os\n",
        "import yaml\n",
        "\n",
        "# Path to your data.yaml file\n",
        "yaml_file = '/content/data/working/custom/data.yaml'\n",
        "\n",
        "# Load data.yaml file to get class names\n",
        "with open(yaml_file, 'r') as file:\n",
        "    data = yaml.safe_load(file)\n",
        "\n",
        "# Extract class names from the yaml file\n",
        "yaml_class_names = data.get('names', [])\n",
        "num_classes = data.get('nc', 0)\n",
        "\n",
        "# Paths to the train and validation folders\n",
        "train_folder = '/content/data/working/custom/train'\n",
        "val_folder = '/content/data/working/custom/val'\n",
        "\n",
        "# Function to get the class directories from a folder\n",
        "def get_class_folders(folder):\n",
        "    return [d for d in os.listdir(folder) if os.path.isdir(os.path.join(folder, d))]\n",
        "\n",
        "# Get class directories in the train and validation folders\n",
        "train_class_folders = get_class_folders(train_folder)\n",
        "val_class_folders = get_class_folders(val_folder)\n",
        "\n",
        "# Combine both train and val classes\n",
        "all_class_folders = set(train_class_folders + val_class_folders)\n",
        "\n",
        "# Check if the class folders match the names in the yaml file\n",
        "matching_train_classes = set(train_class_folders) == set(yaml_class_names)\n",
        "matching_val_classes = set(val_class_folders) == set(yaml_class_names)\n",
        "\n",
        "# Check if all directories in the train and val folders are present in the yaml file's class names\n",
        "correct_classes_in_yaml = set(yaml_class_names) == all_class_folders\n",
        "\n",
        "# Output the results\n",
        "print(\"Class names in YAML:\", yaml_class_names)\n",
        "print(\"Train class folders:\", train_class_folders)\n",
        "print(\"Validation class folders:\", val_class_folders)\n",
        "print(\"Do the train class folders match YAML? \", matching_train_classes)\n",
        "print(\"Do the validation class folders match YAML? \", matching_val_classes)\n",
        "print(\"Are all class directories present in YAML?\", correct_classes_in_yaml)\n",
        "\n",
        "if matching_train_classes and matching_val_classes and correct_classes_in_yaml:\n",
        "    print(\"✅ Class names and dataset folders match correctly.\")\n",
        "else:\n",
        "    print(\"❌ There is a mismatch between the class names and dataset folder structure.\")\n",
        "\n"
      ]
    },
    {
      "cell_type": "code",
      "execution_count": null,
      "metadata": {
        "colab": {
          "base_uri": "https://localhost:8080/"
        },
        "id": "kcY8nHVvYXMK",
        "outputId": "d3dbab90-a57a-45df-98f0-c4b05123d836"
      },
      "outputs": [
        {
          "name": "stdout",
          "output_type": "stream",
          "text": [
            "WARNING ⚠️ conflicting 'task=classify' passed with 'task=detect' model. Ignoring 'task=classify' and updating to 'task=detect' to match model.\n",
            "Ultralytics 8.3.111 🚀 Python-3.11.12 torch-2.6.0+cu124 CUDA:0 (Tesla T4, 15095MiB)\n",
            "\u001b[34m\u001b[1mengine/trainer: \u001b[0mtask=detect, mode=train, model=yolov10n.pt, data=/content/data/working/custom/data.yaml, epochs=10, time=None, patience=100, batch=16, imgsz=224, save=True, save_period=-1, cache=False, device=None, workers=8, project=None, name=maize_leaf_classifier4, exist_ok=False, pretrained=True, optimizer=auto, verbose=True, seed=0, deterministic=True, single_cls=False, rect=False, cos_lr=False, close_mosaic=10, resume=False, amp=True, fraction=1.0, profile=False, freeze=None, multi_scale=False, overlap_mask=True, mask_ratio=4, dropout=0.0, val=True, split=val, save_json=False, conf=None, iou=0.7, max_det=300, half=False, dnn=False, plots=True, source=None, vid_stride=1, stream_buffer=False, visualize=False, augment=False, agnostic_nms=False, classes=None, retina_masks=False, embed=None, show=False, save_frames=False, save_txt=False, save_conf=False, save_crop=False, show_labels=True, show_conf=True, show_boxes=True, line_width=None, format=torchscript, keras=False, optimize=False, int8=False, dynamic=False, simplify=True, opset=None, workspace=None, nms=False, lr0=0.01, lrf=0.01, momentum=0.937, weight_decay=0.0005, warmup_epochs=3.0, warmup_momentum=0.8, warmup_bias_lr=0.1, box=7.5, cls=0.5, dfl=1.5, pose=12.0, kobj=1.0, nbs=64, hsv_h=0.015, hsv_s=0.7, hsv_v=0.4, degrees=0.0, translate=0.1, scale=0.5, shear=0.0, perspective=0.0, flipud=0.0, fliplr=0.5, bgr=0.0, mosaic=1.0, mixup=0.0, copy_paste=0.0, copy_paste_mode=flip, auto_augment=randaugment, erasing=0.4, cfg=None, tracker=botsort.yaml, save_dir=runs/detect/maize_leaf_classifier4\n",
            "WARNING: All log messages before absl::InitializeLog() is called are written to STDERR\n",
            "E0000 00:00:1745054969.540919   41363 cuda_dnn.cc:8310] Unable to register cuDNN factory: Attempting to register factory for plugin cuDNN when one has already been registered\n",
            "E0000 00:00:1745054969.547084   41363 cuda_blas.cc:1418] Unable to register cuBLAS factory: Attempting to register factory for plugin cuBLAS when one has already been registered\n",
            "Overriding model.yaml nc=80 with nc=4\n",
            "\n",
            "                   from  n    params  module                                       arguments                     \n",
            "  0                  -1  1       464  ultralytics.nn.modules.conv.Conv             [3, 16, 3, 2]                 \n",
            "  1                  -1  1      4672  ultralytics.nn.modules.conv.Conv             [16, 32, 3, 2]                \n",
            "  2                  -1  1      7360  ultralytics.nn.modules.block.C2f             [32, 32, 1, True]             \n",
            "  3                  -1  1     18560  ultralytics.nn.modules.conv.Conv             [32, 64, 3, 2]                \n",
            "  4                  -1  2     49664  ultralytics.nn.modules.block.C2f             [64, 64, 2, True]             \n",
            "  5                  -1  1      9856  ultralytics.nn.modules.block.SCDown          [64, 128, 3, 2]               \n",
            "  6                  -1  2    197632  ultralytics.nn.modules.block.C2f             [128, 128, 2, True]           \n",
            "  7                  -1  1     36096  ultralytics.nn.modules.block.SCDown          [128, 256, 3, 2]              \n",
            "  8                  -1  1    460288  ultralytics.nn.modules.block.C2f             [256, 256, 1, True]           \n",
            "  9                  -1  1    164608  ultralytics.nn.modules.block.SPPF            [256, 256, 5]                 \n",
            " 10                  -1  1    249728  ultralytics.nn.modules.block.PSA             [256, 256]                    \n",
            " 11                  -1  1         0  torch.nn.modules.upsampling.Upsample         [None, 2, 'nearest']          \n",
            " 12             [-1, 6]  1         0  ultralytics.nn.modules.conv.Concat           [1]                           \n",
            " 13                  -1  1    148224  ultralytics.nn.modules.block.C2f             [384, 128, 1]                 \n",
            " 14                  -1  1         0  torch.nn.modules.upsampling.Upsample         [None, 2, 'nearest']          \n",
            " 15             [-1, 4]  1         0  ultralytics.nn.modules.conv.Concat           [1]                           \n",
            " 16                  -1  1     37248  ultralytics.nn.modules.block.C2f             [192, 64, 1]                  \n",
            " 17                  -1  1     36992  ultralytics.nn.modules.conv.Conv             [64, 64, 3, 2]                \n",
            " 18            [-1, 13]  1         0  ultralytics.nn.modules.conv.Concat           [1]                           \n",
            " 19                  -1  1    123648  ultralytics.nn.modules.block.C2f             [192, 128, 1]                 \n",
            " 20                  -1  1     18048  ultralytics.nn.modules.block.SCDown          [128, 128, 3, 2]              \n",
            " 21            [-1, 10]  1         0  ultralytics.nn.modules.conv.Concat           [1]                           \n",
            " 22                  -1  1    282624  ultralytics.nn.modules.block.C2fCIB          [384, 256, 1, True, True]     \n",
            " 23        [16, 19, 22]  1    862888  ultralytics.nn.modules.head.v10Detect        [4, [64, 128, 256]]           \n",
            "YOLOv10n summary: 223 layers, 2,708,600 parameters, 2,708,584 gradients, 8.4 GFLOPs\n",
            "\n",
            "Transferred 493/595 items from pretrained weights\n",
            "Freezing layer 'model.23.dfl.conv.weight'\n",
            "\u001b[34m\u001b[1mAMP: \u001b[0mrunning Automatic Mixed Precision (AMP) checks...\n",
            "\u001b[34m\u001b[1mAMP: \u001b[0mchecks passed ✅\n",
            "\u001b[34m\u001b[1mtrain: \u001b[0mFast image access ✅ (ping: 0.0±0.0 ms, read: 662.6±266.0 MB/s, size: 12.1 KB)\n",
            "\u001b[34m\u001b[1mtrain: \u001b[0mScanning /content/data/working/custom/train/Blight.cache... 0 images, 1824 backgrounds, 0 corrupt: 100% 1824/1824 [00:00<?, ?it/s]\n",
            "WARNING ⚠️ No labels found in /content/data/working/custom/train/Blight.cache, training may not work correctly. See https://docs.ultralytics.com/datasets for dataset formatting guidance.\n",
            "\u001b[34m\u001b[1malbumentations: \u001b[0mBlur(p=0.01, blur_limit=(3, 7)), MedianBlur(p=0.01, blur_limit=(3, 7)), ToGray(p=0.01, num_output_channels=3, method='weighted_average'), CLAHE(p=0.01, clip_limit=(1.0, 4.0), tile_grid_size=(8, 8))\n",
            "\u001b[34m\u001b[1mval: \u001b[0mFast image access ✅ (ping: 0.0±0.0 ms, read: 762.4±994.2 MB/s, size: 77.1 KB)\n",
            "\u001b[34m\u001b[1mval: \u001b[0mScanning /content/data/working/custom/val/Blight.cache... 0 images, 1093 backgrounds, 0 corrupt: 100% 1093/1093 [00:00<?, ?it/s]\n",
            "WARNING ⚠️ No labels found in /content/data/working/custom/val/Blight.cache, training may not work correctly. See https://docs.ultralytics.com/datasets for dataset formatting guidance.\n",
            "Plotting labels to runs/detect/maize_leaf_classifier4/labels.jpg... \n",
            "zero-size array to reduction operation maximum which has no identity\n",
            "\u001b[34m\u001b[1moptimizer:\u001b[0m 'optimizer=auto' found, ignoring 'lr0=0.01' and 'momentum=0.937' and determining best 'optimizer', 'lr0' and 'momentum' automatically... \n",
            "\u001b[34m\u001b[1moptimizer:\u001b[0m AdamW(lr=0.00125, momentum=0.9) with parameter groups 95 weight(decay=0.0), 108 weight(decay=0.0005), 107 bias(decay=0.0)\n",
            "Image sizes 224 train, 224 val\n",
            "Using 2 dataloader workers\n",
            "Logging results to \u001b[1mruns/detect/maize_leaf_classifier4\u001b[0m\n",
            "Starting training for 10 epochs...\n",
            "Closing dataloader mosaic\n",
            "\u001b[34m\u001b[1malbumentations: \u001b[0mBlur(p=0.01, blur_limit=(3, 7)), MedianBlur(p=0.01, blur_limit=(3, 7)), ToGray(p=0.01, num_output_channels=3, method='weighted_average'), CLAHE(p=0.01, clip_limit=(1.0, 4.0), tile_grid_size=(8, 8))\n",
            "\n",
            "      Epoch    GPU_mem   box_loss   cls_loss   dfl_loss  Instances       Size\n",
            "       1/10      0.43G          0      26.64          0          0        224: 100% 114/114 [00:18<00:00,  6.21it/s]\n",
            "                 Class     Images  Instances      Box(P          R      mAP50  mAP50-95): 100% 35/35 [00:04<00:00,  8.35it/s]\n",
            "/usr/local/lib/python3.11/dist-packages/ultralytics/utils/metrics.py:655: RuntimeWarning: Mean of empty slice.\n",
            "  i = smooth(f1_curve.mean(0), 0.1).argmax()  # max F1 index\n",
            "/usr/local/lib/python3.11/dist-packages/numpy/_core/_methods.py:130: RuntimeWarning: invalid value encountered in divide\n",
            "  ret = um.true_divide(\n",
            "                   all       1093          0          0          0          0          0\n",
            "WARNING ⚠️ no labels found in detect set, can not compute metrics without labels\n",
            "\n",
            "      Epoch    GPU_mem   box_loss   cls_loss   dfl_loss  Instances       Size\n",
            "       2/10     0.443G          0         18          0          0        224: 100% 114/114 [00:15<00:00,  7.58it/s]\n",
            "                 Class     Images  Instances      Box(P          R      mAP50  mAP50-95): 100% 35/35 [00:04<00:00,  8.09it/s]\n",
            "/usr/local/lib/python3.11/dist-packages/ultralytics/utils/metrics.py:655: RuntimeWarning: Mean of empty slice.\n",
            "  i = smooth(f1_curve.mean(0), 0.1).argmax()  # max F1 index\n",
            "/usr/local/lib/python3.11/dist-packages/numpy/_core/_methods.py:130: RuntimeWarning: invalid value encountered in divide\n",
            "  ret = um.true_divide(\n",
            "                   all       1093          0          0          0          0          0\n",
            "WARNING ⚠️ no labels found in detect set, can not compute metrics without labels\n",
            "\n",
            "      Epoch    GPU_mem   box_loss   cls_loss   dfl_loss  Instances       Size\n",
            "       3/10     0.459G          0      11.22          0          0        224: 100% 114/114 [00:16<00:00,  7.02it/s]\n",
            "                 Class     Images  Instances      Box(P          R      mAP50  mAP50-95): 100% 35/35 [00:03<00:00, 10.85it/s]\n",
            "/usr/local/lib/python3.11/dist-packages/ultralytics/utils/metrics.py:655: RuntimeWarning: Mean of empty slice.\n",
            "  i = smooth(f1_curve.mean(0), 0.1).argmax()  # max F1 index\n",
            "/usr/local/lib/python3.11/dist-packages/numpy/_core/_methods.py:130: RuntimeWarning: invalid value encountered in divide\n",
            "  ret = um.true_divide(\n",
            "                   all       1093          0          0          0          0          0\n",
            "WARNING ⚠️ no labels found in detect set, can not compute metrics without labels\n",
            "\n",
            "      Epoch    GPU_mem   box_loss   cls_loss   dfl_loss  Instances       Size\n",
            "       4/10     0.469G          0        6.7          0          0        224:  68% 77/114 [00:10<00:05,  7.06it/s]\n",
            "Traceback (most recent call last):\n",
            "  File \"/usr/local/bin/yolo\", line 8, in <module>\n",
            "    sys.exit(entrypoint())\n",
            "             ^^^^^^^^^^^^\n",
            "  File \"/usr/local/lib/python3.11/dist-packages/ultralytics/cfg/__init__.py\", line 989, in entrypoint\n",
            "    getattr(model, mode)(**overrides)  # default args from model\n",
            "    ^^^^^^^^^^^^^^^^^^^^^^^^^^^^^^^^^\n",
            "  File \"/usr/local/lib/python3.11/dist-packages/ultralytics/engine/model.py\", line 791, in train\n",
            "    self.trainer.train()\n",
            "  File \"/usr/local/lib/python3.11/dist-packages/ultralytics/engine/trainer.py\", line 211, in train\n",
            "    self._do_train(world_size)\n",
            "  File \"/usr/local/lib/python3.11/dist-packages/ultralytics/engine/trainer.py\", line 394, in _do_train\n",
            "    self.scaler.scale(self.loss).backward()\n",
            "  File \"/usr/local/lib/python3.11/dist-packages/torch/_tensor.py\", line 626, in backward\n",
            "    torch.autograd.backward(\n",
            "  File \"/usr/local/lib/python3.11/dist-packages/torch/autograd/__init__.py\", line 347, in backward\n",
            "    _engine_run_backward(\n",
            "  File \"/usr/local/lib/python3.11/dist-packages/torch/autograd/graph.py\", line 823, in _engine_run_backward\n",
            "    return Variable._execution_engine.run_backward(  # Calls into the C++ engine to run the backward pass\n",
            "           ^^^^^^^^^^^^^^^^^^^^^^^^^^^^^^^^^^^^^^^^^^^^^^^^^^^^^^^^^^^^^^^^^^^^^^^^^^^^^^^^^^^^^^^^^^^^^^\n",
            "KeyboardInterrupt\n"
          ]
        }
      ],
      "source": [
        "!yolo task=classify mode=train model=yolov10n.pt data=/content/data/working/custom/data.yaml epochs=10 imgsz=224 name=maize_leaf_classifier\n"
      ]
    },
    {
      "cell_type": "code",
      "execution_count": null,
      "metadata": {
        "colab": {
          "base_uri": "https://localhost:8080/",
          "height": 1000
        },
        "id": "g0k7j6ohYxg_",
        "outputId": "b8f64f9d-15ae-4b3c-f30f-adfeb03f489d"
      },
      "outputs": [
        {
          "name": "stdout",
          "output_type": "stream",
          "text": [
            "Ultralytics 8.3.111 🚀 Python-3.11.12 torch-2.6.0+cu124 CUDA:0 (Tesla T4, 15095MiB)\n",
            "\u001b[34m\u001b[1mengine/trainer: \u001b[0mtask=detect, mode=train, model=yolov10n.pt, data=/content/data/working/custom/data.yaml, epochs=5, time=None, patience=100, batch=16, imgsz=640, save=True, save_period=-1, cache=False, device=None, workers=8, project=None, name=train23, exist_ok=False, pretrained=True, optimizer=auto, verbose=True, seed=0, deterministic=True, single_cls=False, rect=False, cos_lr=False, close_mosaic=10, resume=False, amp=True, fraction=1.0, profile=False, freeze=None, multi_scale=False, overlap_mask=True, mask_ratio=4, dropout=0.0, val=True, split=val, save_json=False, conf=None, iou=0.7, max_det=300, half=False, dnn=False, plots=True, source=None, vid_stride=1, stream_buffer=False, visualize=False, augment=False, agnostic_nms=False, classes=None, retina_masks=False, embed=None, show=False, save_frames=False, save_txt=False, save_conf=False, save_crop=False, show_labels=True, show_conf=True, show_boxes=True, line_width=None, format=torchscript, keras=False, optimize=False, int8=False, dynamic=False, simplify=True, opset=None, workspace=None, nms=False, lr0=0.01, lrf=0.01, momentum=0.937, weight_decay=0.0005, warmup_epochs=3.0, warmup_momentum=0.8, warmup_bias_lr=0.1, box=7.5, cls=0.5, dfl=1.5, pose=12.0, kobj=1.0, nbs=64, hsv_h=0.015, hsv_s=0.7, hsv_v=0.4, degrees=0.0, translate=0.1, scale=0.5, shear=0.0, perspective=0.0, flipud=0.0, fliplr=0.5, bgr=0.0, mosaic=1.0, mixup=0.0, copy_paste=0.0, copy_paste_mode=flip, auto_augment=randaugment, erasing=0.4, cfg=None, tracker=botsort.yaml, save_dir=runs/detect/train23\n",
            "Overriding model.yaml nc=80 with nc=4\n",
            "\n",
            "                   from  n    params  module                                       arguments                     \n",
            "  0                  -1  1       464  ultralytics.nn.modules.conv.Conv             [3, 16, 3, 2]                 \n",
            "  1                  -1  1      4672  ultralytics.nn.modules.conv.Conv             [16, 32, 3, 2]                \n",
            "  2                  -1  1      7360  ultralytics.nn.modules.block.C2f             [32, 32, 1, True]             \n",
            "  3                  -1  1     18560  ultralytics.nn.modules.conv.Conv             [32, 64, 3, 2]                \n",
            "  4                  -1  2     49664  ultralytics.nn.modules.block.C2f             [64, 64, 2, True]             \n",
            "  5                  -1  1      9856  ultralytics.nn.modules.block.SCDown          [64, 128, 3, 2]               \n",
            "  6                  -1  2    197632  ultralytics.nn.modules.block.C2f             [128, 128, 2, True]           \n",
            "  7                  -1  1     36096  ultralytics.nn.modules.block.SCDown          [128, 256, 3, 2]              \n",
            "  8                  -1  1    460288  ultralytics.nn.modules.block.C2f             [256, 256, 1, True]           \n",
            "  9                  -1  1    164608  ultralytics.nn.modules.block.SPPF            [256, 256, 5]                 \n",
            " 10                  -1  1    249728  ultralytics.nn.modules.block.PSA             [256, 256]                    \n",
            " 11                  -1  1         0  torch.nn.modules.upsampling.Upsample         [None, 2, 'nearest']          \n",
            " 12             [-1, 6]  1         0  ultralytics.nn.modules.conv.Concat           [1]                           \n",
            " 13                  -1  1    148224  ultralytics.nn.modules.block.C2f             [384, 128, 1]                 \n",
            " 14                  -1  1         0  torch.nn.modules.upsampling.Upsample         [None, 2, 'nearest']          \n",
            " 15             [-1, 4]  1         0  ultralytics.nn.modules.conv.Concat           [1]                           \n",
            " 16                  -1  1     37248  ultralytics.nn.modules.block.C2f             [192, 64, 1]                  \n",
            " 17                  -1  1     36992  ultralytics.nn.modules.conv.Conv             [64, 64, 3, 2]                \n",
            " 18            [-1, 13]  1         0  ultralytics.nn.modules.conv.Concat           [1]                           \n",
            " 19                  -1  1    123648  ultralytics.nn.modules.block.C2f             [192, 128, 1]                 \n",
            " 20                  -1  1     18048  ultralytics.nn.modules.block.SCDown          [128, 128, 3, 2]              \n",
            " 21            [-1, 10]  1         0  ultralytics.nn.modules.conv.Concat           [1]                           \n",
            " 22                  -1  1    282624  ultralytics.nn.modules.block.C2fCIB          [384, 256, 1, True, True]     \n",
            " 23        [16, 19, 22]  1    862888  ultralytics.nn.modules.head.v10Detect        [4, [64, 128, 256]]           \n",
            "YOLOv10n summary: 223 layers, 2,708,600 parameters, 2,708,584 gradients, 8.4 GFLOPs\n",
            "\n",
            "Transferred 493/595 items from pretrained weights\n",
            "Freezing layer 'model.23.dfl.conv.weight'\n",
            "\u001b[34m\u001b[1mAMP: \u001b[0mrunning Automatic Mixed Precision (AMP) checks...\n",
            "\u001b[34m\u001b[1mAMP: \u001b[0mchecks passed ✅\n",
            "\u001b[34m\u001b[1mtrain: \u001b[0mFast image access ✅ (ping: 0.0±0.0 ms, read: 632.4±249.4 MB/s, size: 12.1 KB)\n"
          ]
        },
        {
          "name": "stderr",
          "output_type": "stream",
          "text": [
            "\u001b[34m\u001b[1mtrain: \u001b[0mScanning /content/data/working/custom/train/Blight.cache... 0 images, 1824 backgrounds, 0 corrupt: 100%|██████████| 1824/1824 [00:00<?, ?it/s]"
          ]
        },
        {
          "name": "stdout",
          "output_type": "stream",
          "text": [
            "WARNING ⚠️ No labels found in /content/data/working/custom/train/Blight.cache, training may not work correctly. See https://docs.ultralytics.com/datasets for dataset formatting guidance.\n"
          ]
        },
        {
          "name": "stderr",
          "output_type": "stream",
          "text": [
            "\n"
          ]
        },
        {
          "name": "stdout",
          "output_type": "stream",
          "text": [
            "\u001b[34m\u001b[1malbumentations: \u001b[0mBlur(p=0.01, blur_limit=(3, 7)), MedianBlur(p=0.01, blur_limit=(3, 7)), ToGray(p=0.01, num_output_channels=3, method='weighted_average'), CLAHE(p=0.01, clip_limit=(1.0, 4.0), tile_grid_size=(8, 8))\n",
            "\u001b[34m\u001b[1mval: \u001b[0mFast image access ✅ (ping: 1.0±2.1 ms, read: 930.5±1221.0 MB/s, size: 77.1 KB)\n"
          ]
        },
        {
          "name": "stderr",
          "output_type": "stream",
          "text": [
            "\u001b[34m\u001b[1mval: \u001b[0mScanning /content/data/working/custom/val/Blight.cache... 0 images, 1093 backgrounds, 0 corrupt: 100%|██████████| 1093/1093 [00:00<?, ?it/s]"
          ]
        },
        {
          "name": "stdout",
          "output_type": "stream",
          "text": [
            "WARNING ⚠️ No labels found in /content/data/working/custom/val/Blight.cache, training may not work correctly. See https://docs.ultralytics.com/datasets for dataset formatting guidance.\n"
          ]
        },
        {
          "name": "stderr",
          "output_type": "stream",
          "text": [
            "\n"
          ]
        },
        {
          "name": "stdout",
          "output_type": "stream",
          "text": [
            "Plotting labels to runs/detect/train23/labels.jpg... \n",
            "zero-size array to reduction operation maximum which has no identity\n",
            "\u001b[34m\u001b[1moptimizer:\u001b[0m 'optimizer=auto' found, ignoring 'lr0=0.01' and 'momentum=0.937' and determining best 'optimizer', 'lr0' and 'momentum' automatically... \n",
            "\u001b[34m\u001b[1moptimizer:\u001b[0m AdamW(lr=0.00125, momentum=0.9) with parameter groups 95 weight(decay=0.0), 108 weight(decay=0.0005), 107 bias(decay=0.0)\n",
            "Image sizes 640 train, 640 val\n",
            "Using 2 dataloader workers\n",
            "Logging results to \u001b[1mruns/detect/train23\u001b[0m\n",
            "Starting training for 5 epochs...\n",
            "\n",
            "      Epoch    GPU_mem   box_loss   cls_loss   dfl_loss  Instances       Size\n"
          ]
        },
        {
          "name": "stderr",
          "output_type": "stream",
          "text": [
            "        1/5      2.66G          0      218.6          0          0        640: 100%|██████████| 114/114 [00:36<00:00,  3.09it/s]\n",
            "                 Class     Images  Instances      Box(P          R      mAP50  mAP50-95): 100%|██████████| 35/35 [00:08<00:00,  4.23it/s]"
          ]
        },
        {
          "name": "stdout",
          "output_type": "stream",
          "text": [
            "                   all       1093          0          0          0          0          0\n",
            "WARNING ⚠️ no labels found in detect set, can not compute metrics without labels\n"
          ]
        },
        {
          "name": "stderr",
          "output_type": "stream",
          "text": [
            "\n",
            "/usr/local/lib/python3.11/dist-packages/ultralytics/utils/metrics.py:655: RuntimeWarning: Mean of empty slice.\n",
            "  i = smooth(f1_curve.mean(0), 0.1).argmax()  # max F1 index\n",
            "/usr/local/lib/python3.11/dist-packages/numpy/_core/_methods.py:130: RuntimeWarning: invalid value encountered in divide\n",
            "  ret = um.true_divide(\n"
          ]
        },
        {
          "name": "stdout",
          "output_type": "stream",
          "text": [
            "\n",
            "      Epoch    GPU_mem   box_loss   cls_loss   dfl_loss  Instances       Size\n"
          ]
        },
        {
          "name": "stderr",
          "output_type": "stream",
          "text": [
            "        2/5      3.32G          0      155.3          0          0        640: 100%|██████████| 114/114 [00:32<00:00,  3.47it/s]\n",
            "                 Class     Images  Instances      Box(P          R      mAP50  mAP50-95): 100%|██████████| 35/35 [00:07<00:00,  4.69it/s]"
          ]
        },
        {
          "name": "stdout",
          "output_type": "stream",
          "text": [
            "                   all       1093          0          0          0          0          0\n",
            "WARNING ⚠️ no labels found in detect set, can not compute metrics without labels\n"
          ]
        },
        {
          "name": "stderr",
          "output_type": "stream",
          "text": [
            "\n",
            "/usr/local/lib/python3.11/dist-packages/ultralytics/utils/metrics.py:655: RuntimeWarning: Mean of empty slice.\n",
            "  i = smooth(f1_curve.mean(0), 0.1).argmax()  # max F1 index\n",
            "/usr/local/lib/python3.11/dist-packages/numpy/_core/_methods.py:130: RuntimeWarning: invalid value encountered in divide\n",
            "  ret = um.true_divide(\n"
          ]
        },
        {
          "name": "stdout",
          "output_type": "stream",
          "text": [
            "\n",
            "      Epoch    GPU_mem   box_loss   cls_loss   dfl_loss  Instances       Size\n"
          ]
        },
        {
          "name": "stderr",
          "output_type": "stream",
          "text": [
            "        3/5      3.33G          0      107.7          0          0        640: 100%|██████████| 114/114 [00:35<00:00,  3.23it/s]\n",
            "                 Class     Images  Instances      Box(P          R      mAP50  mAP50-95):  11%|█▏        | 4/35 [00:01<00:11,  2.79it/s]\n",
            "Exception in thread Thread-11 (_pin_memory_loop):\n",
            "Traceback (most recent call last):\n",
            "  File \"/usr/lib/python3.11/threading.py\", line 1045, in _bootstrap_inner\n",
            "    self.run()\n",
            "  File \"/usr/lib/python3.11/threading.py\", line 982, in run\n",
            "    self._target(*self._args, **self._kwargs)\n",
            "  File \"/usr/local/lib/python3.11/dist-packages/torch/utils/data/_utils/pin_memory.py\", line 59, in _pin_memory_loop\n",
            "    do_one_step()\n",
            "  File \"/usr/local/lib/python3.11/dist-packages/torch/utils/data/_utils/pin_memory.py\", line 35, in do_one_step\n",
            "    r = in_queue.get(timeout=MP_STATUS_CHECK_INTERVAL)\n",
            "        ^^^^^^^^^^^^^^^^^^^^^^^^^^^^^^^^^^^^^^^^^^^^^^\n",
            "  File \"/usr/lib/python3.11/multiprocessing/queues.py\", line 122, in get\n",
            "    return _ForkingPickler.loads(res)\n",
            "           ^^^^^^^^^^^^^^^^^^^^^^^^^^\n",
            "  File \"/usr/local/lib/python3.11/dist-packages/torch/multiprocessing/reductions.py\", line 541, in rebuild_storage_fd\n",
            "    fd = df.detach()\n",
            "         ^^^^^^^^^^^\n",
            "  File \"/usr/lib/python3.11/multiprocessing/resource_sharer.py\", line 57, in detach\n",
            "    with _resource_sharer.get_connection(self._id) as conn:\n",
            "         ^^^^^^^^^^^^^^^^^^^^^^^^^^^^^^^^^^^^^^^^^\n",
            "  File \"/usr/lib/python3.11/multiprocessing/resource_sharer.py\", line 86, in get_connection\n",
            "    c = Client(address, authkey=process.current_process().authkey)\n",
            "        ^^^^^^^^^^^^^^^^^^^^^^^^^^^^^^^^^^^^^^^^^^^^^^^^^^^^^^^^^^\n",
            "  File \"/usr/lib/python3.11/multiprocessing/connection.py\", line 519, in Client\n",
            "    c = SocketClient(address)\n",
            "        ^^^^^^^^^^^^^^^^^^^^^\n",
            "  File \"/usr/lib/python3.11/multiprocessing/connection.py\", line 647, in SocketClient\n",
            "    s.connect(address)\n",
            "FileNotFoundError: [Errno 2] No such file or directory\n"
          ]
        },
        {
          "ename": "KeyboardInterrupt",
          "evalue": "",
          "output_type": "error",
          "traceback": [
            "\u001b[0;31m---------------------------------------------------------------------------\u001b[0m",
            "\u001b[0;31mKeyboardInterrupt\u001b[0m                         Traceback (most recent call last)",
            "\u001b[0;32m<ipython-input-17-0a49e9001183>\u001b[0m in \u001b[0;36m<cell line: 0>\u001b[0;34m()\u001b[0m\n\u001b[1;32m     22\u001b[0m \u001b[0;34m\u001b[0m\u001b[0m\n\u001b[1;32m     23\u001b[0m \u001b[0;31m# Train the model\u001b[0m\u001b[0;34m\u001b[0m\u001b[0;34m\u001b[0m\u001b[0m\n\u001b[0;32m---> 24\u001b[0;31m \u001b[0mmodel\u001b[0m\u001b[0;34m.\u001b[0m\u001b[0mtrain\u001b[0m\u001b[0;34m(\u001b[0m\u001b[0mdata\u001b[0m\u001b[0;34m=\u001b[0m\u001b[0;34m'/content/data/working/custom/data.yaml'\u001b[0m\u001b[0;34m,\u001b[0m \u001b[0mepochs\u001b[0m\u001b[0;34m=\u001b[0m\u001b[0;36m5\u001b[0m\u001b[0;34m)\u001b[0m\u001b[0;34m\u001b[0m\u001b[0;34m\u001b[0m\u001b[0m\n\u001b[0m\u001b[1;32m     25\u001b[0m \u001b[0;31m# Validate the model\u001b[0m\u001b[0;34m\u001b[0m\u001b[0;34m\u001b[0m\u001b[0m\n\u001b[1;32m     26\u001b[0m \u001b[0mmetrics\u001b[0m \u001b[0;34m=\u001b[0m \u001b[0mmodel\u001b[0m\u001b[0;34m.\u001b[0m\u001b[0mval\u001b[0m\u001b[0;34m(\u001b[0m\u001b[0;34m)\u001b[0m\u001b[0;34m\u001b[0m\u001b[0;34m\u001b[0m\u001b[0m\n",
            "\u001b[0;32m/usr/local/lib/python3.11/dist-packages/ultralytics/engine/model.py\u001b[0m in \u001b[0;36mtrain\u001b[0;34m(self, trainer, **kwargs)\u001b[0m\n\u001b[1;32m    789\u001b[0m \u001b[0;34m\u001b[0m\u001b[0m\n\u001b[1;32m    790\u001b[0m         \u001b[0mself\u001b[0m\u001b[0;34m.\u001b[0m\u001b[0mtrainer\u001b[0m\u001b[0;34m.\u001b[0m\u001b[0mhub_session\u001b[0m \u001b[0;34m=\u001b[0m \u001b[0mself\u001b[0m\u001b[0;34m.\u001b[0m\u001b[0msession\u001b[0m  \u001b[0;31m# attach optional HUB session\u001b[0m\u001b[0;34m\u001b[0m\u001b[0;34m\u001b[0m\u001b[0m\n\u001b[0;32m--> 791\u001b[0;31m         \u001b[0mself\u001b[0m\u001b[0;34m.\u001b[0m\u001b[0mtrainer\u001b[0m\u001b[0;34m.\u001b[0m\u001b[0mtrain\u001b[0m\u001b[0;34m(\u001b[0m\u001b[0;34m)\u001b[0m\u001b[0;34m\u001b[0m\u001b[0;34m\u001b[0m\u001b[0m\n\u001b[0m\u001b[1;32m    792\u001b[0m         \u001b[0;31m# Update model and cfg after training\u001b[0m\u001b[0;34m\u001b[0m\u001b[0;34m\u001b[0m\u001b[0m\n\u001b[1;32m    793\u001b[0m         \u001b[0;32mif\u001b[0m \u001b[0mRANK\u001b[0m \u001b[0;32min\u001b[0m \u001b[0;34m{\u001b[0m\u001b[0;34m-\u001b[0m\u001b[0;36m1\u001b[0m\u001b[0;34m,\u001b[0m \u001b[0;36m0\u001b[0m\u001b[0;34m}\u001b[0m\u001b[0;34m:\u001b[0m\u001b[0;34m\u001b[0m\u001b[0;34m\u001b[0m\u001b[0m\n",
            "\u001b[0;32m/usr/local/lib/python3.11/dist-packages/ultralytics/engine/trainer.py\u001b[0m in \u001b[0;36mtrain\u001b[0;34m(self)\u001b[0m\n\u001b[1;32m    209\u001b[0m \u001b[0;34m\u001b[0m\u001b[0m\n\u001b[1;32m    210\u001b[0m         \u001b[0;32melse\u001b[0m\u001b[0;34m:\u001b[0m\u001b[0;34m\u001b[0m\u001b[0;34m\u001b[0m\u001b[0m\n\u001b[0;32m--> 211\u001b[0;31m             \u001b[0mself\u001b[0m\u001b[0;34m.\u001b[0m\u001b[0m_do_train\u001b[0m\u001b[0;34m(\u001b[0m\u001b[0mworld_size\u001b[0m\u001b[0;34m)\u001b[0m\u001b[0;34m\u001b[0m\u001b[0;34m\u001b[0m\u001b[0m\n\u001b[0m\u001b[1;32m    212\u001b[0m \u001b[0;34m\u001b[0m\u001b[0m\n\u001b[1;32m    213\u001b[0m     \u001b[0;32mdef\u001b[0m \u001b[0m_setup_scheduler\u001b[0m\u001b[0;34m(\u001b[0m\u001b[0mself\u001b[0m\u001b[0;34m)\u001b[0m\u001b[0;34m:\u001b[0m\u001b[0;34m\u001b[0m\u001b[0;34m\u001b[0m\u001b[0m\n",
            "\u001b[0;32m/usr/local/lib/python3.11/dist-packages/ultralytics/engine/trainer.py\u001b[0m in \u001b[0;36m_do_train\u001b[0;34m(self, world_size)\u001b[0m\n\u001b[1;32m    436\u001b[0m                 \u001b[0;31m# Validation\u001b[0m\u001b[0;34m\u001b[0m\u001b[0;34m\u001b[0m\u001b[0m\n\u001b[1;32m    437\u001b[0m                 \u001b[0;32mif\u001b[0m \u001b[0mself\u001b[0m\u001b[0;34m.\u001b[0m\u001b[0margs\u001b[0m\u001b[0;34m.\u001b[0m\u001b[0mval\u001b[0m \u001b[0;32mor\u001b[0m \u001b[0mfinal_epoch\u001b[0m \u001b[0;32mor\u001b[0m \u001b[0mself\u001b[0m\u001b[0;34m.\u001b[0m\u001b[0mstopper\u001b[0m\u001b[0;34m.\u001b[0m\u001b[0mpossible_stop\u001b[0m \u001b[0;32mor\u001b[0m \u001b[0mself\u001b[0m\u001b[0;34m.\u001b[0m\u001b[0mstop\u001b[0m\u001b[0;34m:\u001b[0m\u001b[0;34m\u001b[0m\u001b[0;34m\u001b[0m\u001b[0m\n\u001b[0;32m--> 438\u001b[0;31m                     \u001b[0mself\u001b[0m\u001b[0;34m.\u001b[0m\u001b[0mmetrics\u001b[0m\u001b[0;34m,\u001b[0m \u001b[0mself\u001b[0m\u001b[0;34m.\u001b[0m\u001b[0mfitness\u001b[0m \u001b[0;34m=\u001b[0m \u001b[0mself\u001b[0m\u001b[0;34m.\u001b[0m\u001b[0mvalidate\u001b[0m\u001b[0;34m(\u001b[0m\u001b[0;34m)\u001b[0m\u001b[0;34m\u001b[0m\u001b[0;34m\u001b[0m\u001b[0m\n\u001b[0m\u001b[1;32m    439\u001b[0m                 \u001b[0mself\u001b[0m\u001b[0;34m.\u001b[0m\u001b[0msave_metrics\u001b[0m\u001b[0;34m(\u001b[0m\u001b[0mmetrics\u001b[0m\u001b[0;34m=\u001b[0m\u001b[0;34m{\u001b[0m\u001b[0;34m**\u001b[0m\u001b[0mself\u001b[0m\u001b[0;34m.\u001b[0m\u001b[0mlabel_loss_items\u001b[0m\u001b[0;34m(\u001b[0m\u001b[0mself\u001b[0m\u001b[0;34m.\u001b[0m\u001b[0mtloss\u001b[0m\u001b[0;34m)\u001b[0m\u001b[0;34m,\u001b[0m \u001b[0;34m**\u001b[0m\u001b[0mself\u001b[0m\u001b[0;34m.\u001b[0m\u001b[0mmetrics\u001b[0m\u001b[0;34m,\u001b[0m \u001b[0;34m**\u001b[0m\u001b[0mself\u001b[0m\u001b[0;34m.\u001b[0m\u001b[0mlr\u001b[0m\u001b[0;34m}\u001b[0m\u001b[0;34m)\u001b[0m\u001b[0;34m\u001b[0m\u001b[0;34m\u001b[0m\u001b[0m\n\u001b[1;32m    440\u001b[0m                 \u001b[0mself\u001b[0m\u001b[0;34m.\u001b[0m\u001b[0mstop\u001b[0m \u001b[0;34m|=\u001b[0m \u001b[0mself\u001b[0m\u001b[0;34m.\u001b[0m\u001b[0mstopper\u001b[0m\u001b[0;34m(\u001b[0m\u001b[0mepoch\u001b[0m \u001b[0;34m+\u001b[0m \u001b[0;36m1\u001b[0m\u001b[0;34m,\u001b[0m \u001b[0mself\u001b[0m\u001b[0;34m.\u001b[0m\u001b[0mfitness\u001b[0m\u001b[0;34m)\u001b[0m \u001b[0;32mor\u001b[0m \u001b[0mfinal_epoch\u001b[0m\u001b[0;34m\u001b[0m\u001b[0;34m\u001b[0m\u001b[0m\n",
            "\u001b[0;32m/usr/local/lib/python3.11/dist-packages/ultralytics/engine/trainer.py\u001b[0m in \u001b[0;36mvalidate\u001b[0;34m(self)\u001b[0m\n\u001b[1;32m    633\u001b[0m             \u001b[0;34m(\u001b[0m\u001b[0mtuple\u001b[0m\u001b[0;34m)\u001b[0m\u001b[0;34m:\u001b[0m \u001b[0mA\u001b[0m \u001b[0mtuple\u001b[0m \u001b[0mcontaining\u001b[0m \u001b[0mmetrics\u001b[0m \u001b[0mdictionary\u001b[0m \u001b[0;32mand\u001b[0m \u001b[0mfitness\u001b[0m \u001b[0mscore\u001b[0m\u001b[0;34m.\u001b[0m\u001b[0;34m\u001b[0m\u001b[0;34m\u001b[0m\u001b[0m\n\u001b[1;32m    634\u001b[0m         \"\"\"\n\u001b[0;32m--> 635\u001b[0;31m         \u001b[0mmetrics\u001b[0m \u001b[0;34m=\u001b[0m \u001b[0mself\u001b[0m\u001b[0;34m.\u001b[0m\u001b[0mvalidator\u001b[0m\u001b[0;34m(\u001b[0m\u001b[0mself\u001b[0m\u001b[0;34m)\u001b[0m\u001b[0;34m\u001b[0m\u001b[0;34m\u001b[0m\u001b[0m\n\u001b[0m\u001b[1;32m    636\u001b[0m         \u001b[0mfitness\u001b[0m \u001b[0;34m=\u001b[0m \u001b[0mmetrics\u001b[0m\u001b[0;34m.\u001b[0m\u001b[0mpop\u001b[0m\u001b[0;34m(\u001b[0m\u001b[0;34m\"fitness\"\u001b[0m\u001b[0;34m,\u001b[0m \u001b[0;34m-\u001b[0m\u001b[0mself\u001b[0m\u001b[0;34m.\u001b[0m\u001b[0mloss\u001b[0m\u001b[0;34m.\u001b[0m\u001b[0mdetach\u001b[0m\u001b[0;34m(\u001b[0m\u001b[0;34m)\u001b[0m\u001b[0;34m.\u001b[0m\u001b[0mcpu\u001b[0m\u001b[0;34m(\u001b[0m\u001b[0;34m)\u001b[0m\u001b[0;34m.\u001b[0m\u001b[0mnumpy\u001b[0m\u001b[0;34m(\u001b[0m\u001b[0;34m)\u001b[0m\u001b[0;34m)\u001b[0m  \u001b[0;31m# use loss as fitness measure if not found\u001b[0m\u001b[0;34m\u001b[0m\u001b[0;34m\u001b[0m\u001b[0m\n\u001b[1;32m    637\u001b[0m         \u001b[0;32mif\u001b[0m \u001b[0;32mnot\u001b[0m \u001b[0mself\u001b[0m\u001b[0;34m.\u001b[0m\u001b[0mbest_fitness\u001b[0m \u001b[0;32mor\u001b[0m \u001b[0mself\u001b[0m\u001b[0;34m.\u001b[0m\u001b[0mbest_fitness\u001b[0m \u001b[0;34m<\u001b[0m \u001b[0mfitness\u001b[0m\u001b[0;34m:\u001b[0m\u001b[0;34m\u001b[0m\u001b[0;34m\u001b[0m\u001b[0m\n",
            "\u001b[0;32m/usr/local/lib/python3.11/dist-packages/torch/utils/_contextlib.py\u001b[0m in \u001b[0;36mdecorate_context\u001b[0;34m(*args, **kwargs)\u001b[0m\n\u001b[1;32m    114\u001b[0m     \u001b[0;32mdef\u001b[0m \u001b[0mdecorate_context\u001b[0m\u001b[0;34m(\u001b[0m\u001b[0;34m*\u001b[0m\u001b[0margs\u001b[0m\u001b[0;34m,\u001b[0m \u001b[0;34m**\u001b[0m\u001b[0mkwargs\u001b[0m\u001b[0;34m)\u001b[0m\u001b[0;34m:\u001b[0m\u001b[0;34m\u001b[0m\u001b[0;34m\u001b[0m\u001b[0m\n\u001b[1;32m    115\u001b[0m         \u001b[0;32mwith\u001b[0m \u001b[0mctx_factory\u001b[0m\u001b[0;34m(\u001b[0m\u001b[0;34m)\u001b[0m\u001b[0;34m:\u001b[0m\u001b[0;34m\u001b[0m\u001b[0;34m\u001b[0m\u001b[0m\n\u001b[0;32m--> 116\u001b[0;31m             \u001b[0;32mreturn\u001b[0m \u001b[0mfunc\u001b[0m\u001b[0;34m(\u001b[0m\u001b[0;34m*\u001b[0m\u001b[0margs\u001b[0m\u001b[0;34m,\u001b[0m \u001b[0;34m**\u001b[0m\u001b[0mkwargs\u001b[0m\u001b[0;34m)\u001b[0m\u001b[0;34m\u001b[0m\u001b[0;34m\u001b[0m\u001b[0m\n\u001b[0m\u001b[1;32m    117\u001b[0m \u001b[0;34m\u001b[0m\u001b[0m\n\u001b[1;32m    118\u001b[0m     \u001b[0;32mreturn\u001b[0m \u001b[0mdecorate_context\u001b[0m\u001b[0;34m\u001b[0m\u001b[0;34m\u001b[0m\u001b[0m\n",
            "\u001b[0;32m/usr/local/lib/python3.11/dist-packages/ultralytics/engine/validator.py\u001b[0m in \u001b[0;36m__call__\u001b[0;34m(self, trainer, model)\u001b[0m\n\u001b[1;32m    212\u001b[0m             \u001b[0;31m# Inference\u001b[0m\u001b[0;34m\u001b[0m\u001b[0;34m\u001b[0m\u001b[0m\n\u001b[1;32m    213\u001b[0m             \u001b[0;32mwith\u001b[0m \u001b[0mdt\u001b[0m\u001b[0;34m[\u001b[0m\u001b[0;36m1\u001b[0m\u001b[0;34m]\u001b[0m\u001b[0;34m:\u001b[0m\u001b[0;34m\u001b[0m\u001b[0;34m\u001b[0m\u001b[0m\n\u001b[0;32m--> 214\u001b[0;31m                 \u001b[0mpreds\u001b[0m \u001b[0;34m=\u001b[0m \u001b[0mmodel\u001b[0m\u001b[0;34m(\u001b[0m\u001b[0mbatch\u001b[0m\u001b[0;34m[\u001b[0m\u001b[0;34m\"img\"\u001b[0m\u001b[0;34m]\u001b[0m\u001b[0;34m,\u001b[0m \u001b[0maugment\u001b[0m\u001b[0;34m=\u001b[0m\u001b[0maugment\u001b[0m\u001b[0;34m)\u001b[0m\u001b[0;34m\u001b[0m\u001b[0;34m\u001b[0m\u001b[0m\n\u001b[0m\u001b[1;32m    215\u001b[0m \u001b[0;34m\u001b[0m\u001b[0m\n\u001b[1;32m    216\u001b[0m             \u001b[0;31m# Loss\u001b[0m\u001b[0;34m\u001b[0m\u001b[0;34m\u001b[0m\u001b[0m\n",
            "\u001b[0;32m/usr/local/lib/python3.11/dist-packages/torch/nn/modules/module.py\u001b[0m in \u001b[0;36m_wrapped_call_impl\u001b[0;34m(self, *args, **kwargs)\u001b[0m\n\u001b[1;32m   1737\u001b[0m             \u001b[0;32mreturn\u001b[0m \u001b[0mself\u001b[0m\u001b[0;34m.\u001b[0m\u001b[0m_compiled_call_impl\u001b[0m\u001b[0;34m(\u001b[0m\u001b[0;34m*\u001b[0m\u001b[0margs\u001b[0m\u001b[0;34m,\u001b[0m \u001b[0;34m**\u001b[0m\u001b[0mkwargs\u001b[0m\u001b[0;34m)\u001b[0m  \u001b[0;31m# type: ignore[misc]\u001b[0m\u001b[0;34m\u001b[0m\u001b[0;34m\u001b[0m\u001b[0m\n\u001b[1;32m   1738\u001b[0m         \u001b[0;32melse\u001b[0m\u001b[0;34m:\u001b[0m\u001b[0;34m\u001b[0m\u001b[0;34m\u001b[0m\u001b[0m\n\u001b[0;32m-> 1739\u001b[0;31m             \u001b[0;32mreturn\u001b[0m \u001b[0mself\u001b[0m\u001b[0;34m.\u001b[0m\u001b[0m_call_impl\u001b[0m\u001b[0;34m(\u001b[0m\u001b[0;34m*\u001b[0m\u001b[0margs\u001b[0m\u001b[0;34m,\u001b[0m \u001b[0;34m**\u001b[0m\u001b[0mkwargs\u001b[0m\u001b[0;34m)\u001b[0m\u001b[0;34m\u001b[0m\u001b[0;34m\u001b[0m\u001b[0m\n\u001b[0m\u001b[1;32m   1740\u001b[0m \u001b[0;34m\u001b[0m\u001b[0m\n\u001b[1;32m   1741\u001b[0m     \u001b[0;31m# torchrec tests the code consistency with the following code\u001b[0m\u001b[0;34m\u001b[0m\u001b[0;34m\u001b[0m\u001b[0m\n",
            "\u001b[0;32m/usr/local/lib/python3.11/dist-packages/torch/nn/modules/module.py\u001b[0m in \u001b[0;36m_call_impl\u001b[0;34m(self, *args, **kwargs)\u001b[0m\n\u001b[1;32m   1748\u001b[0m                 \u001b[0;32mor\u001b[0m \u001b[0m_global_backward_pre_hooks\u001b[0m \u001b[0;32mor\u001b[0m \u001b[0m_global_backward_hooks\u001b[0m\u001b[0;34m\u001b[0m\u001b[0;34m\u001b[0m\u001b[0m\n\u001b[1;32m   1749\u001b[0m                 or _global_forward_hooks or _global_forward_pre_hooks):\n\u001b[0;32m-> 1750\u001b[0;31m             \u001b[0;32mreturn\u001b[0m \u001b[0mforward_call\u001b[0m\u001b[0;34m(\u001b[0m\u001b[0;34m*\u001b[0m\u001b[0margs\u001b[0m\u001b[0;34m,\u001b[0m \u001b[0;34m**\u001b[0m\u001b[0mkwargs\u001b[0m\u001b[0;34m)\u001b[0m\u001b[0;34m\u001b[0m\u001b[0;34m\u001b[0m\u001b[0m\n\u001b[0m\u001b[1;32m   1751\u001b[0m \u001b[0;34m\u001b[0m\u001b[0m\n\u001b[1;32m   1752\u001b[0m         \u001b[0mresult\u001b[0m \u001b[0;34m=\u001b[0m \u001b[0;32mNone\u001b[0m\u001b[0;34m\u001b[0m\u001b[0;34m\u001b[0m\u001b[0m\n",
            "\u001b[0;32m/usr/local/lib/python3.11/dist-packages/ultralytics/nn/tasks.py\u001b[0m in \u001b[0;36mforward\u001b[0;34m(self, x, *args, **kwargs)\u001b[0m\n\u001b[1;32m    118\u001b[0m         \u001b[0;32mif\u001b[0m \u001b[0misinstance\u001b[0m\u001b[0;34m(\u001b[0m\u001b[0mx\u001b[0m\u001b[0;34m,\u001b[0m \u001b[0mdict\u001b[0m\u001b[0;34m)\u001b[0m\u001b[0;34m:\u001b[0m  \u001b[0;31m# for cases of training and validating while training.\u001b[0m\u001b[0;34m\u001b[0m\u001b[0;34m\u001b[0m\u001b[0m\n\u001b[1;32m    119\u001b[0m             \u001b[0;32mreturn\u001b[0m \u001b[0mself\u001b[0m\u001b[0;34m.\u001b[0m\u001b[0mloss\u001b[0m\u001b[0;34m(\u001b[0m\u001b[0mx\u001b[0m\u001b[0;34m,\u001b[0m \u001b[0;34m*\u001b[0m\u001b[0margs\u001b[0m\u001b[0;34m,\u001b[0m \u001b[0;34m**\u001b[0m\u001b[0mkwargs\u001b[0m\u001b[0;34m)\u001b[0m\u001b[0;34m\u001b[0m\u001b[0;34m\u001b[0m\u001b[0m\n\u001b[0;32m--> 120\u001b[0;31m         \u001b[0;32mreturn\u001b[0m \u001b[0mself\u001b[0m\u001b[0;34m.\u001b[0m\u001b[0mpredict\u001b[0m\u001b[0;34m(\u001b[0m\u001b[0mx\u001b[0m\u001b[0;34m,\u001b[0m \u001b[0;34m*\u001b[0m\u001b[0margs\u001b[0m\u001b[0;34m,\u001b[0m \u001b[0;34m**\u001b[0m\u001b[0mkwargs\u001b[0m\u001b[0;34m)\u001b[0m\u001b[0;34m\u001b[0m\u001b[0;34m\u001b[0m\u001b[0m\n\u001b[0m\u001b[1;32m    121\u001b[0m \u001b[0;34m\u001b[0m\u001b[0m\n\u001b[1;32m    122\u001b[0m     \u001b[0;32mdef\u001b[0m \u001b[0mpredict\u001b[0m\u001b[0;34m(\u001b[0m\u001b[0mself\u001b[0m\u001b[0;34m,\u001b[0m \u001b[0mx\u001b[0m\u001b[0;34m,\u001b[0m \u001b[0mprofile\u001b[0m\u001b[0;34m=\u001b[0m\u001b[0;32mFalse\u001b[0m\u001b[0;34m,\u001b[0m \u001b[0mvisualize\u001b[0m\u001b[0;34m=\u001b[0m\u001b[0;32mFalse\u001b[0m\u001b[0;34m,\u001b[0m \u001b[0maugment\u001b[0m\u001b[0;34m=\u001b[0m\u001b[0;32mFalse\u001b[0m\u001b[0;34m,\u001b[0m \u001b[0membed\u001b[0m\u001b[0;34m=\u001b[0m\u001b[0;32mNone\u001b[0m\u001b[0;34m)\u001b[0m\u001b[0;34m:\u001b[0m\u001b[0;34m\u001b[0m\u001b[0;34m\u001b[0m\u001b[0m\n",
            "\u001b[0;32m/usr/local/lib/python3.11/dist-packages/ultralytics/nn/tasks.py\u001b[0m in \u001b[0;36mpredict\u001b[0;34m(self, x, profile, visualize, augment, embed)\u001b[0m\n\u001b[1;32m    136\u001b[0m         \u001b[0;32mif\u001b[0m \u001b[0maugment\u001b[0m\u001b[0;34m:\u001b[0m\u001b[0;34m\u001b[0m\u001b[0;34m\u001b[0m\u001b[0m\n\u001b[1;32m    137\u001b[0m             \u001b[0;32mreturn\u001b[0m \u001b[0mself\u001b[0m\u001b[0;34m.\u001b[0m\u001b[0m_predict_augment\u001b[0m\u001b[0;34m(\u001b[0m\u001b[0mx\u001b[0m\u001b[0;34m)\u001b[0m\u001b[0;34m\u001b[0m\u001b[0;34m\u001b[0m\u001b[0m\n\u001b[0;32m--> 138\u001b[0;31m         \u001b[0;32mreturn\u001b[0m \u001b[0mself\u001b[0m\u001b[0;34m.\u001b[0m\u001b[0m_predict_once\u001b[0m\u001b[0;34m(\u001b[0m\u001b[0mx\u001b[0m\u001b[0;34m,\u001b[0m \u001b[0mprofile\u001b[0m\u001b[0;34m,\u001b[0m \u001b[0mvisualize\u001b[0m\u001b[0;34m,\u001b[0m \u001b[0membed\u001b[0m\u001b[0;34m)\u001b[0m\u001b[0;34m\u001b[0m\u001b[0;34m\u001b[0m\u001b[0m\n\u001b[0m\u001b[1;32m    139\u001b[0m \u001b[0;34m\u001b[0m\u001b[0m\n\u001b[1;32m    140\u001b[0m     \u001b[0;32mdef\u001b[0m \u001b[0m_predict_once\u001b[0m\u001b[0;34m(\u001b[0m\u001b[0mself\u001b[0m\u001b[0;34m,\u001b[0m \u001b[0mx\u001b[0m\u001b[0;34m,\u001b[0m \u001b[0mprofile\u001b[0m\u001b[0;34m=\u001b[0m\u001b[0;32mFalse\u001b[0m\u001b[0;34m,\u001b[0m \u001b[0mvisualize\u001b[0m\u001b[0;34m=\u001b[0m\u001b[0;32mFalse\u001b[0m\u001b[0;34m,\u001b[0m \u001b[0membed\u001b[0m\u001b[0;34m=\u001b[0m\u001b[0;32mNone\u001b[0m\u001b[0;34m)\u001b[0m\u001b[0;34m:\u001b[0m\u001b[0;34m\u001b[0m\u001b[0;34m\u001b[0m\u001b[0m\n",
            "\u001b[0;32m/usr/local/lib/python3.11/dist-packages/ultralytics/nn/tasks.py\u001b[0m in \u001b[0;36m_predict_once\u001b[0;34m(self, x, profile, visualize, embed)\u001b[0m\n\u001b[1;32m    157\u001b[0m             \u001b[0;32mif\u001b[0m \u001b[0mprofile\u001b[0m\u001b[0;34m:\u001b[0m\u001b[0;34m\u001b[0m\u001b[0;34m\u001b[0m\u001b[0m\n\u001b[1;32m    158\u001b[0m                 \u001b[0mself\u001b[0m\u001b[0;34m.\u001b[0m\u001b[0m_profile_one_layer\u001b[0m\u001b[0;34m(\u001b[0m\u001b[0mm\u001b[0m\u001b[0;34m,\u001b[0m \u001b[0mx\u001b[0m\u001b[0;34m,\u001b[0m \u001b[0mdt\u001b[0m\u001b[0;34m)\u001b[0m\u001b[0;34m\u001b[0m\u001b[0;34m\u001b[0m\u001b[0m\n\u001b[0;32m--> 159\u001b[0;31m             \u001b[0mx\u001b[0m \u001b[0;34m=\u001b[0m \u001b[0mm\u001b[0m\u001b[0;34m(\u001b[0m\u001b[0mx\u001b[0m\u001b[0;34m)\u001b[0m  \u001b[0;31m# run\u001b[0m\u001b[0;34m\u001b[0m\u001b[0;34m\u001b[0m\u001b[0m\n\u001b[0m\u001b[1;32m    160\u001b[0m             \u001b[0my\u001b[0m\u001b[0;34m.\u001b[0m\u001b[0mappend\u001b[0m\u001b[0;34m(\u001b[0m\u001b[0mx\u001b[0m \u001b[0;32mif\u001b[0m \u001b[0mm\u001b[0m\u001b[0;34m.\u001b[0m\u001b[0mi\u001b[0m \u001b[0;32min\u001b[0m \u001b[0mself\u001b[0m\u001b[0;34m.\u001b[0m\u001b[0msave\u001b[0m \u001b[0;32melse\u001b[0m \u001b[0;32mNone\u001b[0m\u001b[0;34m)\u001b[0m  \u001b[0;31m# save output\u001b[0m\u001b[0;34m\u001b[0m\u001b[0;34m\u001b[0m\u001b[0m\n\u001b[1;32m    161\u001b[0m             \u001b[0;32mif\u001b[0m \u001b[0mvisualize\u001b[0m\u001b[0;34m:\u001b[0m\u001b[0;34m\u001b[0m\u001b[0;34m\u001b[0m\u001b[0m\n",
            "\u001b[0;32m/usr/local/lib/python3.11/dist-packages/torch/nn/modules/module.py\u001b[0m in \u001b[0;36m_wrapped_call_impl\u001b[0;34m(self, *args, **kwargs)\u001b[0m\n\u001b[1;32m   1737\u001b[0m             \u001b[0;32mreturn\u001b[0m \u001b[0mself\u001b[0m\u001b[0;34m.\u001b[0m\u001b[0m_compiled_call_impl\u001b[0m\u001b[0;34m(\u001b[0m\u001b[0;34m*\u001b[0m\u001b[0margs\u001b[0m\u001b[0;34m,\u001b[0m \u001b[0;34m**\u001b[0m\u001b[0mkwargs\u001b[0m\u001b[0;34m)\u001b[0m  \u001b[0;31m# type: ignore[misc]\u001b[0m\u001b[0;34m\u001b[0m\u001b[0;34m\u001b[0m\u001b[0m\n\u001b[1;32m   1738\u001b[0m         \u001b[0;32melse\u001b[0m\u001b[0;34m:\u001b[0m\u001b[0;34m\u001b[0m\u001b[0;34m\u001b[0m\u001b[0m\n\u001b[0;32m-> 1739\u001b[0;31m             \u001b[0;32mreturn\u001b[0m \u001b[0mself\u001b[0m\u001b[0;34m.\u001b[0m\u001b[0m_call_impl\u001b[0m\u001b[0;34m(\u001b[0m\u001b[0;34m*\u001b[0m\u001b[0margs\u001b[0m\u001b[0;34m,\u001b[0m \u001b[0;34m**\u001b[0m\u001b[0mkwargs\u001b[0m\u001b[0;34m)\u001b[0m\u001b[0;34m\u001b[0m\u001b[0;34m\u001b[0m\u001b[0m\n\u001b[0m\u001b[1;32m   1740\u001b[0m \u001b[0;34m\u001b[0m\u001b[0m\n\u001b[1;32m   1741\u001b[0m     \u001b[0;31m# torchrec tests the code consistency with the following code\u001b[0m\u001b[0;34m\u001b[0m\u001b[0;34m\u001b[0m\u001b[0m\n",
            "\u001b[0;32m/usr/local/lib/python3.11/dist-packages/torch/nn/modules/module.py\u001b[0m in \u001b[0;36m_call_impl\u001b[0;34m(self, *args, **kwargs)\u001b[0m\n\u001b[1;32m   1748\u001b[0m                 \u001b[0;32mor\u001b[0m \u001b[0m_global_backward_pre_hooks\u001b[0m \u001b[0;32mor\u001b[0m \u001b[0m_global_backward_hooks\u001b[0m\u001b[0;34m\u001b[0m\u001b[0;34m\u001b[0m\u001b[0m\n\u001b[1;32m   1749\u001b[0m                 or _global_forward_hooks or _global_forward_pre_hooks):\n\u001b[0;32m-> 1750\u001b[0;31m             \u001b[0;32mreturn\u001b[0m \u001b[0mforward_call\u001b[0m\u001b[0;34m(\u001b[0m\u001b[0;34m*\u001b[0m\u001b[0margs\u001b[0m\u001b[0;34m,\u001b[0m \u001b[0;34m**\u001b[0m\u001b[0mkwargs\u001b[0m\u001b[0;34m)\u001b[0m\u001b[0;34m\u001b[0m\u001b[0;34m\u001b[0m\u001b[0m\n\u001b[0m\u001b[1;32m   1751\u001b[0m \u001b[0;34m\u001b[0m\u001b[0m\n\u001b[1;32m   1752\u001b[0m         \u001b[0mresult\u001b[0m \u001b[0;34m=\u001b[0m \u001b[0;32mNone\u001b[0m\u001b[0;34m\u001b[0m\u001b[0;34m\u001b[0m\u001b[0m\n",
            "\u001b[0;32m/usr/local/lib/python3.11/dist-packages/ultralytics/nn/modules/block.py\u001b[0m in \u001b[0;36mforward\u001b[0;34m(self, x)\u001b[0m\n\u001b[1;32m   1585\u001b[0m             \u001b[0;34m(\u001b[0m\u001b[0mtorch\u001b[0m\u001b[0;34m.\u001b[0m\u001b[0mTensor\u001b[0m\u001b[0;34m)\u001b[0m\u001b[0;34m:\u001b[0m \u001b[0mDownsampled\u001b[0m \u001b[0moutput\u001b[0m \u001b[0mtensor\u001b[0m\u001b[0;34m.\u001b[0m\u001b[0;34m\u001b[0m\u001b[0;34m\u001b[0m\u001b[0m\n\u001b[1;32m   1586\u001b[0m         \"\"\"\n\u001b[0;32m-> 1587\u001b[0;31m         \u001b[0;32mreturn\u001b[0m \u001b[0mself\u001b[0m\u001b[0;34m.\u001b[0m\u001b[0mcv2\u001b[0m\u001b[0;34m(\u001b[0m\u001b[0mself\u001b[0m\u001b[0;34m.\u001b[0m\u001b[0mcv1\u001b[0m\u001b[0;34m(\u001b[0m\u001b[0mx\u001b[0m\u001b[0;34m)\u001b[0m\u001b[0;34m)\u001b[0m\u001b[0;34m\u001b[0m\u001b[0;34m\u001b[0m\u001b[0m\n\u001b[0m\u001b[1;32m   1588\u001b[0m \u001b[0;34m\u001b[0m\u001b[0m\n\u001b[1;32m   1589\u001b[0m \u001b[0;34m\u001b[0m\u001b[0m\n",
            "\u001b[0;31mKeyboardInterrupt\u001b[0m: "
          ]
        }
      ],
      "source": [
        "# prompt: debug. from ultralytics import YOLO\n",
        "# import wandb\n",
        "# import numpy as np\n",
        "# import matplotlib.pyplot as plt\n",
        "# import seaborn as sns\n",
        "# from sklearn.metrics import classification_report, confusion_matrix, accuracy_score\n",
        "# # Initialize wandb in disabled mode\n",
        "# wandb.init(mode=\"disabled\")\n",
        "# # Load a pretrained YOLO model\n",
        "# model = YOLO('yolo8.pt')\n",
        "# # Train the model\n",
        "# model.train(data='/content/data/working/custom', epochs=20)\n",
        "# # Validate the model\n",
        "# metrics = model.val(). switch to yolov 8\n",
        "\n",
        "# ... (Your existing code) ...\n",
        "\n",
        "# Initialize wandb in disabled mode\n",
        "from ultralytics import YOLO\n",
        "# Load a pretrained YOLOv8 model\n",
        "model = YOLO(\"yolov10n.pt\")\n",
        "\n",
        "# Train the model\n",
        "model.train(data='/content/data/working/custom/data.yaml', epochs=5)\n",
        "# Validate the model\n",
        "metrics = model.val()\n",
        "\n",
        "# ... (Rest of your code) ...\n"
      ]
    },
    {
      "cell_type": "code",
      "execution_count": null,
      "metadata": {
        "colab": {
          "base_uri": "https://localhost:8080/"
        },
        "id": "PDLKrmH_Z5Sx",
        "outputId": "10ba53f0-4f67-4a8d-e712-440aa00ddba7"
      },
      "outputs": [
        {
          "name": "stdout",
          "output_type": "stream",
          "text": [
            "YAML Content:\n",
            "{'names': ['Blight', 'Common_Rust', 'Gray_Leaf_Spot', 'Healthy'], 'nc': 4, 'test': '/content/data/working/custom/test', 'train': '/content/data/working/custom/train', 'val': '/content/data/working/custom/val'}\n",
            "\n",
            "Class Names in YAML:\n",
            "['Blight', 'Common_Rust', 'Gray_Leaf_Spot', 'Healthy']\n",
            "\n",
            "Classes Folders in Dataset:\n",
            "['val', 'train', 'test']\n",
            "\n",
            "❌ Class names and dataset folders do not match.\n"
          ]
        }
      ],
      "source": [
        "import yaml\n",
        "import os\n",
        "\n",
        "# Path to the data.yaml file\n",
        "yaml_path = '/content/data/working/custom/data.yaml'\n",
        "\n",
        "# Function to read and check the content of the data.yaml file\n",
        "def check_yaml(yaml_path):\n",
        "    if os.path.exists(yaml_path):\n",
        "        with open(yaml_path, 'r') as f:\n",
        "            data = yaml.safe_load(f)\n",
        "\n",
        "        # Print the content of the YAML\n",
        "        print(\"YAML Content:\")\n",
        "        print(data)\n",
        "\n",
        "        # Check that the 'names' are defined and match folder names\n",
        "        if 'names' in data:\n",
        "            print(\"\\nClass Names in YAML:\")\n",
        "            print(data['names'])\n",
        "\n",
        "            # Check if the directories exist for each class name\n",
        "            base_dir = data.get('train', '').replace('train', '')\n",
        "            class_folders = [f.name for f in os.scandir(base_dir) if f.is_dir()]\n",
        "\n",
        "            print(\"\\nClasses Folders in Dataset:\")\n",
        "            print(class_folders)\n",
        "\n",
        "            # Compare class names in YAML with folders in the dataset\n",
        "            if sorted(data['names']) == sorted(class_folders):\n",
        "                print(\"\\n✅ Class names and dataset folders match correctly.\")\n",
        "            else:\n",
        "                print(\"\\n❌ Class names and dataset folders do not match.\")\n",
        "        else:\n",
        "            print(\"No class names found in the YAML file.\")\n",
        "    else:\n",
        "        print(f\"YAML file not found at {yaml_path}\")\n",
        "\n",
        "# Run the check on the data.yaml file\n",
        "check_yaml(yaml_path)\n"
      ]
    },
    {
      "cell_type": "code",
      "execution_count": null,
      "metadata": {
        "colab": {
          "base_uri": "https://localhost:8080/"
        },
        "id": "DxRXrtD1asz5",
        "outputId": "ac22f8a9-ec49-4c7f-a559-2f7c00f7bc99"
      },
      "outputs": [
        {
          "name": "stdout",
          "output_type": "stream",
          "text": [
            "YAML Content:\n",
            "{'names': ['Blight', 'Common_Rust', 'Gray_Leaf_Spot', 'Healthy'], 'nc': 4, 'test': '/content/data/working/custom/test', 'train': '/content/data/working/custom/train', 'val': '/content/data/working/custom/val'}\n",
            "\n",
            "Class Names in YAML:\n",
            "['Blight', 'Common_Rust', 'Gray_Leaf_Spot', 'Healthy']\n",
            "\n",
            "Classes Folders in Dataset:\n",
            "['val', 'train', 'test']\n",
            "\n",
            "❌ Class names and dataset folders do not match.\n"
          ]
        }
      ],
      "source": [
        "import yaml\n",
        "import os\n",
        "\n",
        "# Path to the data.yaml file\n",
        "yaml_path = '/content/data/working/custom/data.yaml'\n",
        "\n",
        "# Function to read and check the content of the data.yaml file\n",
        "def check_yaml(yaml_path):\n",
        "    if os.path.exists(yaml_path):\n",
        "        with open(yaml_path, 'r') as f:\n",
        "            data = yaml.safe_load(f)\n",
        "\n",
        "        # Print the content of the YAML\n",
        "        print(\"YAML Content:\")\n",
        "        print(data)\n",
        "\n",
        "        # Check that the 'names' are defined and match folder names\n",
        "        if 'names' in data:\n",
        "            print(\"\\nClass Names in YAML:\")\n",
        "            print(data['names'])\n",
        "\n",
        "            # Check if the directories exist for each class name\n",
        "            base_dir = data.get('train', '').replace('train', '')\n",
        "            class_folders = [f.name for f in os.scandir(base_dir) if f.is_dir()]\n",
        "\n",
        "            print(\"\\nClasses Folders in Dataset:\")\n",
        "            print(class_folders)\n",
        "\n",
        "            # Compare class names in YAML with folders in the dataset\n",
        "            if sorted(data['names']) == sorted(class_folders):\n",
        "                print(\"\\n✅ Class names and dataset folders match correctly.\")\n",
        "            else:\n",
        "                print(\"\\n❌ Class names and dataset folders do not match.\")\n",
        "        else:\n",
        "            print(\"No class names found in the YAML file.\")\n",
        "    else:\n",
        "        print(f\"YAML file not found at {yaml_path}\")\n",
        "\n",
        "# Run the check on the data.yaml file\n",
        "check_yaml(yaml_path)\n"
      ]
    },
    {
      "cell_type": "code",
      "execution_count": null,
      "metadata": {
        "colab": {
          "base_uri": "https://localhost:8080/"
        },
        "id": "kIwziK3Ja0o6",
        "outputId": "92562b85-a4fa-4517-8d9b-2b714ceff840"
      },
      "outputs": [
        {
          "name": "stdout",
          "output_type": "stream",
          "text": [
            "Class Folders in Dataset: ['Blight', 'Common_Rust', 'Gray_Leaf_Spot', 'Healthy']\n"
          ]
        }
      ],
      "source": [
        "import os\n",
        "\n",
        "# Define the base directory for your dataset\n",
        "base_dir = \"/content/data/working/custom\"\n",
        "train_folder = os.path.join(base_dir, \"train\")\n",
        "\n",
        "# List all subdirectories (class folders) in the 'train' folder\n",
        "class_folders = [f.name for f in os.scandir(train_folder) if f.is_dir()]\n",
        "\n",
        "# Print class folders found\n",
        "print(\"Class Folders in Dataset:\", class_folders)\n",
        "\n",
        "# Check if any class folders are found\n",
        "if not class_folders:\n",
        "    raise ValueError(\"No class folders found in the 'train' directory.\")\n"
      ]
    },
    {
      "cell_type": "code",
      "execution_count": null,
      "metadata": {
        "colab": {
          "base_uri": "https://localhost:8080/"
        },
        "id": "7FqlqzfPa3k6",
        "outputId": "63b757cd-41df-44c2-f03f-3740d5e22805"
      },
      "outputs": [
        {
          "name": "stdout",
          "output_type": "stream",
          "text": [
            "Class names in data.yaml: ['Blight', 'Common_Rust', 'Gray_Leaf_Spot', 'Healthy']\n"
          ]
        }
      ],
      "source": [
        "import yaml\n",
        "\n",
        "# Define the path to your data.yaml file\n",
        "yaml_file_path = os.path.join(base_dir, 'data.yaml')\n",
        "\n",
        "# Load the existing YAML content\n",
        "with open(yaml_file_path, 'r') as f:\n",
        "    yaml_data = yaml.safe_load(f)\n",
        "\n",
        "# Print current class names in the YAML file\n",
        "print(\"Class names in data.yaml:\", yaml_data.get('names'))\n"
      ]
    },
    {
      "cell_type": "code",
      "execution_count": null,
      "metadata": {
        "colab": {
          "base_uri": "https://localhost:8080/"
        },
        "id": "SCfWfrExbP-a",
        "outputId": "9ce20044-b503-4bcd-9334-a3062978bbdf"
      },
      "outputs": [
        {
          "name": "stdout",
          "output_type": "stream",
          "text": [
            "✅ data.yaml file updated successfully with 4 classes.\n"
          ]
        }
      ],
      "source": [
        "import yaml\n",
        "\n",
        "# Update the YAML file to match the correct folder names (if needed)\n",
        "yaml_file_path = os.path.join(base_dir, 'data.yaml')\n",
        "\n",
        "# Load the current YAML content\n",
        "with open(yaml_file_path, 'r') as f:\n",
        "    yaml_data = yaml.safe_load(f)\n",
        "\n",
        "# Update class names in YAML (if necessary)\n",
        "yaml_data['names'] = class_names_in_yaml  # Ensure the names match the folders\n",
        "\n",
        "# Save the updated YAML file\n",
        "with open(yaml_file_path, 'w') as f:\n",
        "    yaml.dump(yaml_data, f)\n",
        "\n",
        "print(f\"✅ data.yaml file updated successfully with {len(class_names_in_yaml)} classes.\")\n"
      ]
    },
    {
      "cell_type": "code",
      "execution_count": null,
      "metadata": {
        "colab": {
          "base_uri": "https://localhost:8080/"
        },
        "id": "o_7I8qehbeOS",
        "outputId": "0b52b2f0-6730-43e7-ecc4-065979bd60d2"
      },
      "outputs": [
        {
          "name": "stdout",
          "output_type": "stream",
          "text": [
            "✅ Class names and dataset folders match correctly.\n"
          ]
        }
      ],
      "source": [
        "import os\n",
        "import yaml\n",
        "\n",
        "# Define the base directory and paths to check\n",
        "base_dir = \"/content/data/working/custom\"\n",
        "train_folder = os.path.join(base_dir, \"train\")\n",
        "val_folder = os.path.join(base_dir, \"val\")\n",
        "test_folder = os.path.join(base_dir, \"test\")\n",
        "\n",
        "# Load the class names from data.yaml\n",
        "yaml_file_path = os.path.join(base_dir, \"data.yaml\")\n",
        "with open(yaml_file_path, 'r') as f:\n",
        "    yaml_data = yaml.safe_load(f)\n",
        "\n",
        "# Get the class names from the YAML file\n",
        "yaml_class_names = yaml_data['names']\n",
        "\n",
        "# Function to get class names (subfolder names) from a directory\n",
        "def get_class_folders(directory):\n",
        "    return [folder for folder in os.listdir(directory) if os.path.isdir(os.path.join(directory, folder))]\n",
        "\n",
        "# Check if the folder names match the class names in YAML for all directories (train, val, test)\n",
        "def check_class_folders():\n",
        "    train_classes = get_class_folders(train_folder)\n",
        "    val_classes = get_class_folders(val_folder)\n",
        "    test_classes = get_class_folders(test_folder)\n",
        "\n",
        "    # Compare folder names with class names\n",
        "    if set(train_classes) == set(yaml_class_names) and set(val_classes) == set(yaml_class_names) and set(test_classes) == set(yaml_class_names):\n",
        "        print(\"✅ Class names and dataset folders match correctly.\")\n",
        "    else:\n",
        "        print(\"❌ Class names and dataset folders do not match.\")\n",
        "        print(f\"Train folders: {train_classes}\")\n",
        "        print(f\"Validation folders: {val_classes}\")\n",
        "        print(f\"Test folders: {test_classes}\")\n",
        "        print(f\"Class names in YAML: {yaml_class_names}\")\n",
        "\n",
        "# Perform the check\n",
        "check_class_folders()\n",
        "\n"
      ]
    },
    {
      "cell_type": "code",
      "execution_count": null,
      "metadata": {
        "colab": {
          "base_uri": "https://localhost:8080/"
        },
        "id": "mUYoxceeaB6p",
        "outputId": "371cb428-a71d-4ef0-83de-47f1a57a6b7b"
      },
      "outputs": [
        {
          "name": "stdout",
          "output_type": "stream",
          "text": [
            "Class Folders in Dataset:\n",
            "['Blight', 'Common_Rust', 'Gray_Leaf_Spot', 'Healthy']\n"
          ]
        }
      ],
      "source": [
        "import os\n",
        "\n",
        "# Path to the train directory\n",
        "train_dir = \"/content/data/working/custom/train\"\n",
        "\n",
        "# List all folders (class names) in the train directory\n",
        "class_folders = [f.name for f in os.scandir(train_dir) if f.is_dir()]\n",
        "\n",
        "print(\"Class Folders in Dataset:\")\n",
        "print(class_folders)\n"
      ]
    },
    {
      "cell_type": "code",
      "execution_count": null,
      "metadata": {
        "colab": {
          "base_uri": "https://localhost:8080/"
        },
        "id": "wl7aE5ibaLki",
        "outputId": "90c69090-f855-414f-f00a-2a509406b1ca"
      },
      "outputs": [
        {
          "name": "stdout",
          "output_type": "stream",
          "text": [
            "✅ data.yaml file updated successfully with 4 classes.\n"
          ]
        }
      ],
      "source": [
        "import os\n",
        "import yaml\n",
        "\n",
        "# Define the path to your dataset folders\n",
        "base_dir = \"/content/data/working/custom\"\n",
        "train_folder = os.path.join(base_dir, \"train\")\n",
        "\n",
        "# Get the class names from the subdirectories in the train folder\n",
        "class_names = sorted([f.name for f in os.scandir(train_folder) if f.is_dir()])\n",
        "\n",
        "# Define the path to your data.yaml file\n",
        "yaml_file_path = os.path.join(base_dir, 'data.yaml')\n",
        "\n",
        "# Create the content for the YAML file\n",
        "yaml_content = {\n",
        "    'train': os.path.join(base_dir, 'train'),\n",
        "    'val': os.path.join(base_dir, 'val'),\n",
        "    'test': os.path.join(base_dir, 'test'),\n",
        "    'nc': len(class_names),  # Number of classes\n",
        "    'names': class_names     # Class names\n",
        "}\n",
        "\n",
        "# Write the updated content to the data.yaml file\n",
        "with open(yaml_file_path, 'w') as f:\n",
        "    yaml.dump(yaml_content, f)\n",
        "\n",
        "print(f\"✅ data.yaml file updated successfully with {len(class_names)} classes.\")\n"
      ]
    },
    {
      "cell_type": "code",
      "execution_count": null,
      "metadata": {
        "colab": {
          "base_uri": "https://localhost:8080/"
        },
        "id": "6zEnI-qjaoc4",
        "outputId": "95a9972a-b50f-4bb6-9a29-59c080ffd630"
      },
      "outputs": [
        {
          "name": "stdout",
          "output_type": "stream",
          "text": [
            "✅ data.yaml file updated successfully with 4 classes.\n"
          ]
        }
      ],
      "source": [
        "import os\n",
        "import yaml\n",
        "\n",
        "# Define the base directory for your dataset\n",
        "base_dir = \"/content/data/working/custom\"\n",
        "train_folder = os.path.join(base_dir, \"train\")\n",
        "\n",
        "# List all subdirectories (class folders) in the 'train' folder\n",
        "class_folders = [f.name for f in os.scandir(train_folder) if f.is_dir()]\n",
        "class_folders.sort()  # Sort to ensure the order is correct\n",
        "\n",
        "# Check if any class folders are found\n",
        "if not class_folders:\n",
        "    raise ValueError(\"No class folders found in the 'train' directory.\")\n",
        "\n",
        "# Define the path to your data.yaml file\n",
        "yaml_file_path = os.path.join(base_dir, 'data.yaml')\n",
        "\n",
        "# Check if the data.yaml file exists\n",
        "if not os.path.exists(yaml_file_path):\n",
        "    raise ValueError(f\"data.yaml file not found at {yaml_file_path}.\")\n",
        "\n",
        "# Load the existing YAML content\n",
        "with open(yaml_file_path, 'r') as f:\n",
        "    yaml_data = yaml.safe_load(f)\n",
        "\n",
        "# Update the class names and number of classes in the YAML file\n",
        "yaml_data['nc'] = len(class_folders)  # Update the number of classes\n",
        "yaml_data['names'] = class_folders   # Update the class names\n",
        "\n",
        "# Save the updated YAML content\n",
        "with open(yaml_file_path, 'w') as f:\n",
        "    yaml.dump(yaml_data, f)\n",
        "\n",
        "print(f\"✅ data.yaml file updated successfully with {len(class_folders)} classes.\")\n"
      ]
    },
    {
      "cell_type": "code",
      "execution_count": null,
      "metadata": {
        "id": "_l9CAqZ-b2Gr"
      },
      "outputs": [],
      "source": []
    },
    {
      "cell_type": "code",
      "execution_count": null,
      "metadata": {
        "colab": {
          "base_uri": "https://localhost:8080/"
        },
        "id": "opGkYB7Zb2o4",
        "outputId": "ead95064-7a5f-4de9-a5c5-b04ab6e7b952"
      },
      "outputs": [
        {
          "name": "stdout",
          "output_type": "stream",
          "text": [
            "WARNING ⚠️ conflicting 'task=classify' passed with 'task=detect' model. Ignoring 'task=classify' and updating to 'task=detect' to match model.\n",
            "Ultralytics 8.3.111 🚀 Python-3.11.12 torch-2.6.0+cu124 CUDA:0 (Tesla T4, 15095MiB)\n",
            "\u001b[34m\u001b[1mengine/trainer: \u001b[0mtask=detect, mode=train, model=yolov10n.pt, data=/content/data/working/custom/data.yaml, epochs=10, time=None, patience=100, batch=16, imgsz=224, save=True, save_period=-1, cache=False, device=None, workers=8, project=None, name=maize_leaf_classifier5, exist_ok=False, pretrained=True, optimizer=auto, verbose=True, seed=0, deterministic=True, single_cls=False, rect=False, cos_lr=False, close_mosaic=10, resume=False, amp=True, fraction=1.0, profile=False, freeze=None, multi_scale=False, overlap_mask=True, mask_ratio=4, dropout=0.0, val=True, split=val, save_json=False, conf=None, iou=0.7, max_det=300, half=False, dnn=False, plots=True, source=None, vid_stride=1, stream_buffer=False, visualize=False, augment=False, agnostic_nms=False, classes=None, retina_masks=False, embed=None, show=False, save_frames=False, save_txt=False, save_conf=False, save_crop=False, show_labels=True, show_conf=True, show_boxes=True, line_width=None, format=torchscript, keras=False, optimize=False, int8=False, dynamic=False, simplify=True, opset=None, workspace=None, nms=False, lr0=0.01, lrf=0.01, momentum=0.937, weight_decay=0.0005, warmup_epochs=3.0, warmup_momentum=0.8, warmup_bias_lr=0.1, box=7.5, cls=0.5, dfl=1.5, pose=12.0, kobj=1.0, nbs=64, hsv_h=0.015, hsv_s=0.7, hsv_v=0.4, degrees=0.0, translate=0.1, scale=0.5, shear=0.0, perspective=0.0, flipud=0.0, fliplr=0.5, bgr=0.0, mosaic=1.0, mixup=0.0, copy_paste=0.0, copy_paste_mode=flip, auto_augment=randaugment, erasing=0.4, cfg=None, tracker=botsort.yaml, save_dir=runs/detect/maize_leaf_classifier5\n",
            "WARNING: All log messages before absl::InitializeLog() is called are written to STDERR\n",
            "E0000 00:00:1745055886.259205   45268 cuda_dnn.cc:8310] Unable to register cuDNN factory: Attempting to register factory for plugin cuDNN when one has already been registered\n",
            "E0000 00:00:1745055886.266467   45268 cuda_blas.cc:1418] Unable to register cuBLAS factory: Attempting to register factory for plugin cuBLAS when one has already been registered\n",
            "Overriding model.yaml nc=80 with nc=4\n",
            "\n",
            "                   from  n    params  module                                       arguments                     \n",
            "  0                  -1  1       464  ultralytics.nn.modules.conv.Conv             [3, 16, 3, 2]                 \n",
            "  1                  -1  1      4672  ultralytics.nn.modules.conv.Conv             [16, 32, 3, 2]                \n",
            "  2                  -1  1      7360  ultralytics.nn.modules.block.C2f             [32, 32, 1, True]             \n",
            "  3                  -1  1     18560  ultralytics.nn.modules.conv.Conv             [32, 64, 3, 2]                \n",
            "  4                  -1  2     49664  ultralytics.nn.modules.block.C2f             [64, 64, 2, True]             \n",
            "  5                  -1  1      9856  ultralytics.nn.modules.block.SCDown          [64, 128, 3, 2]               \n",
            "  6                  -1  2    197632  ultralytics.nn.modules.block.C2f             [128, 128, 2, True]           \n",
            "  7                  -1  1     36096  ultralytics.nn.modules.block.SCDown          [128, 256, 3, 2]              \n",
            "  8                  -1  1    460288  ultralytics.nn.modules.block.C2f             [256, 256, 1, True]           \n",
            "  9                  -1  1    164608  ultralytics.nn.modules.block.SPPF            [256, 256, 5]                 \n",
            " 10                  -1  1    249728  ultralytics.nn.modules.block.PSA             [256, 256]                    \n",
            " 11                  -1  1         0  torch.nn.modules.upsampling.Upsample         [None, 2, 'nearest']          \n",
            " 12             [-1, 6]  1         0  ultralytics.nn.modules.conv.Concat           [1]                           \n",
            " 13                  -1  1    148224  ultralytics.nn.modules.block.C2f             [384, 128, 1]                 \n",
            " 14                  -1  1         0  torch.nn.modules.upsampling.Upsample         [None, 2, 'nearest']          \n",
            " 15             [-1, 4]  1         0  ultralytics.nn.modules.conv.Concat           [1]                           \n",
            " 16                  -1  1     37248  ultralytics.nn.modules.block.C2f             [192, 64, 1]                  \n",
            " 17                  -1  1     36992  ultralytics.nn.modules.conv.Conv             [64, 64, 3, 2]                \n",
            " 18            [-1, 13]  1         0  ultralytics.nn.modules.conv.Concat           [1]                           \n",
            " 19                  -1  1    123648  ultralytics.nn.modules.block.C2f             [192, 128, 1]                 \n",
            " 20                  -1  1     18048  ultralytics.nn.modules.block.SCDown          [128, 128, 3, 2]              \n",
            " 21            [-1, 10]  1         0  ultralytics.nn.modules.conv.Concat           [1]                           \n",
            " 22                  -1  1    282624  ultralytics.nn.modules.block.C2fCIB          [384, 256, 1, True, True]     \n",
            " 23        [16, 19, 22]  1    862888  ultralytics.nn.modules.head.v10Detect        [4, [64, 128, 256]]           \n",
            "YOLOv10n summary: 223 layers, 2,708,600 parameters, 2,708,584 gradients, 8.4 GFLOPs\n",
            "\n",
            "Transferred 493/595 items from pretrained weights\n",
            "Freezing layer 'model.23.dfl.conv.weight'\n",
            "\u001b[34m\u001b[1mAMP: \u001b[0mrunning Automatic Mixed Precision (AMP) checks...\n",
            "\u001b[34m\u001b[1mAMP: \u001b[0mchecks passed ✅\n",
            "\u001b[34m\u001b[1mtrain: \u001b[0mFast image access ✅ (ping: 0.0±0.0 ms, read: 626.6±244.6 MB/s, size: 12.1 KB)\n",
            "\u001b[34m\u001b[1mtrain: \u001b[0mScanning /content/data/working/custom/train/Blight.cache... 0 images, 1824 backgrounds, 0 corrupt: 100% 1824/1824 [00:00<?, ?it/s]\n",
            "WARNING ⚠️ No labels found in /content/data/working/custom/train/Blight.cache, training may not work correctly. See https://docs.ultralytics.com/datasets for dataset formatting guidance.\n",
            "\u001b[34m\u001b[1malbumentations: \u001b[0mBlur(p=0.01, blur_limit=(3, 7)), MedianBlur(p=0.01, blur_limit=(3, 7)), ToGray(p=0.01, num_output_channels=3, method='weighted_average'), CLAHE(p=0.01, clip_limit=(1.0, 4.0), tile_grid_size=(8, 8))\n",
            "\u001b[34m\u001b[1mval: \u001b[0mFast image access ✅ (ping: 1.3±3.0 ms, read: 1063.0±1024.5 MB/s, size: 77.1 KB)\n",
            "\u001b[34m\u001b[1mval: \u001b[0mScanning /content/data/working/custom/val/Blight.cache... 0 images, 1093 backgrounds, 0 corrupt: 100% 1093/1093 [00:00<?, ?it/s]\n",
            "WARNING ⚠️ No labels found in /content/data/working/custom/val/Blight.cache, training may not work correctly. See https://docs.ultralytics.com/datasets for dataset formatting guidance.\n",
            "Plotting labels to runs/detect/maize_leaf_classifier5/labels.jpg... \n",
            "zero-size array to reduction operation maximum which has no identity\n",
            "\u001b[34m\u001b[1moptimizer:\u001b[0m 'optimizer=auto' found, ignoring 'lr0=0.01' and 'momentum=0.937' and determining best 'optimizer', 'lr0' and 'momentum' automatically... \n",
            "\u001b[34m\u001b[1moptimizer:\u001b[0m AdamW(lr=0.00125, momentum=0.9) with parameter groups 95 weight(decay=0.0), 108 weight(decay=0.0005), 107 bias(decay=0.0)\n",
            "Image sizes 224 train, 224 val\n",
            "Using 2 dataloader workers\n",
            "Logging results to \u001b[1mruns/detect/maize_leaf_classifier5\u001b[0m\n",
            "Starting training for 10 epochs...\n",
            "Closing dataloader mosaic\n",
            "\u001b[34m\u001b[1malbumentations: \u001b[0mBlur(p=0.01, blur_limit=(3, 7)), MedianBlur(p=0.01, blur_limit=(3, 7)), ToGray(p=0.01, num_output_channels=3, method='weighted_average'), CLAHE(p=0.01, clip_limit=(1.0, 4.0), tile_grid_size=(8, 8))\n",
            "\n",
            "      Epoch    GPU_mem   box_loss   cls_loss   dfl_loss  Instances       Size\n",
            "       1/10     0.428G          0      26.64          0          0        224: 100% 114/114 [00:18<00:00,  6.21it/s]\n",
            "                 Class     Images  Instances      Box(P          R      mAP50  mAP50-95): 100% 35/35 [00:03<00:00,  9.59it/s]\n",
            "/usr/local/lib/python3.11/dist-packages/ultralytics/utils/metrics.py:655: RuntimeWarning: Mean of empty slice.\n",
            "  i = smooth(f1_curve.mean(0), 0.1).argmax()  # max F1 index\n",
            "/usr/local/lib/python3.11/dist-packages/numpy/_core/_methods.py:130: RuntimeWarning: invalid value encountered in divide\n",
            "  ret = um.true_divide(\n",
            "                   all       1093          0          0          0          0          0\n",
            "WARNING ⚠️ no labels found in detect set, can not compute metrics without labels\n",
            "\n",
            "      Epoch    GPU_mem   box_loss   cls_loss   dfl_loss  Instances       Size\n",
            "       2/10     0.443G          0         18          0          0        224: 100% 114/114 [00:16<00:00,  6.77it/s]\n",
            "                 Class     Images  Instances      Box(P          R      mAP50  mAP50-95): 100% 35/35 [00:03<00:00, 10.87it/s]\n",
            "/usr/local/lib/python3.11/dist-packages/ultralytics/utils/metrics.py:655: RuntimeWarning: Mean of empty slice.\n",
            "  i = smooth(f1_curve.mean(0), 0.1).argmax()  # max F1 index\n",
            "/usr/local/lib/python3.11/dist-packages/numpy/_core/_methods.py:130: RuntimeWarning: invalid value encountered in divide\n",
            "  ret = um.true_divide(\n",
            "                   all       1093          0          0          0          0          0\n",
            "WARNING ⚠️ no labels found in detect set, can not compute metrics without labels\n",
            "\n",
            "      Epoch    GPU_mem   box_loss   cls_loss   dfl_loss  Instances       Size\n",
            "       3/10     0.459G          0      11.22          0          0        224: 100% 114/114 [00:15<00:00,  7.14it/s]\n",
            "                 Class     Images  Instances      Box(P          R      mAP50  mAP50-95): 100% 35/35 [00:03<00:00,  9.60it/s]\n",
            "/usr/local/lib/python3.11/dist-packages/ultralytics/utils/metrics.py:655: RuntimeWarning: Mean of empty slice.\n",
            "  i = smooth(f1_curve.mean(0), 0.1).argmax()  # max F1 index\n",
            "/usr/local/lib/python3.11/dist-packages/numpy/_core/_methods.py:130: RuntimeWarning: invalid value encountered in divide\n",
            "  ret = um.true_divide(\n",
            "                   all       1093          0          0          0          0          0\n",
            "WARNING ⚠️ no labels found in detect set, can not compute metrics without labels\n",
            "\n",
            "      Epoch    GPU_mem   box_loss   cls_loss   dfl_loss  Instances       Size\n",
            "       4/10     0.469G          0      8.137          0          0        224:   7% 8/114 [00:01<00:24,  4.40it/s]\n",
            "Traceback (most recent call last):\n",
            "  File \"/usr/local/bin/yolo\", line 8, in <module>\n",
            "    sys.exit(entrypoint())\n",
            "             ^^^^^^^^^^^^\n",
            "  File \"/usr/local/lib/python3.11/dist-packages/ultralytics/cfg/__init__.py\", line 989, in entrypoint\n",
            "    getattr(model, mode)(**overrides)  # default args from model\n",
            "    ^^^^^^^^^^^^^^^^^^^^^^^^^^^^^^^^^\n",
            "  File \"/usr/local/lib/python3.11/dist-packages/ultralytics/engine/model.py\", line 791, in train\n",
            "    self.trainer.train()\n",
            "  File \"/usr/local/lib/python3.11/dist-packages/ultralytics/engine/trainer.py\", line 211, in train\n",
            "    self._do_train(world_size)\n",
            "  File \"/usr/local/lib/python3.11/dist-packages/ultralytics/engine/trainer.py\", line 394, in _do_train\n",
            "    self.scaler.scale(self.loss).backward()\n",
            "  File \"/usr/local/lib/python3.11/dist-packages/torch/_tensor.py\", line 626, in backward\n",
            "    torch.autograd.backward(\n",
            "  File \"/usr/local/lib/python3.11/dist-packages/torch/autograd/__init__.py\", line 347, in backward\n",
            "    _engine_run_backward(\n",
            "  File \"/usr/local/lib/python3.11/dist-packages/torch/autograd/graph.py\", line 823, in _engine_run_backward\n",
            "    return Variable._execution_engine.run_backward(  # Calls into the C++ engine to run the backward pass\n",
            "           ^^^^^^^^^^^^^^^^^^^^^^^^^^^^^^^^^^^^^^^^^^^^^^^^^^^^^^^^^^^^^^^^^^^^^^^^^^^^^^^^^^^^^^^^^^^^^^\n",
            "KeyboardInterrupt\n"
          ]
        }
      ],
      "source": [
        "!yolo task=classify mode=train model=yolov10n.pt data=/content/data/working/custom/data.yaml epochs=10 imgsz=224 name=maize_leaf_classifier\n"
      ]
    },
    {
      "cell_type": "code",
      "execution_count": null,
      "metadata": {
        "colab": {
          "base_uri": "https://localhost:8080/"
        },
        "id": "j2ASwAk9cQFi",
        "outputId": "28d50f49-7698-4413-9f18-bd7d623eaace"
      },
      "outputs": [
        {
          "name": "stdout",
          "output_type": "stream",
          "text": [
            "✅ YAML file created successfully at: /content/data/working/custom/data.yaml\n"
          ]
        }
      ],
      "source": [
        "import yaml\n",
        "\n",
        "# Define the paths and class names\n",
        "yaml_content = {\n",
        "    'train': '/content/data/working/custom/train',\n",
        "    'val': '/content/data/working/custom/val',\n",
        "    'test': '/content/data/working/custom/test',\n",
        "    'nc': 4,\n",
        "    'names': ['Blight', 'Common_Rust', 'Gray_Leaf_Spot', 'Healthy']\n",
        "}\n",
        "\n",
        "# Path to save the YAML file\n",
        "yaml_file_path = '/content/data/working/custom/data.yaml'\n",
        "\n",
        "# Write the YAML content to the file\n",
        "with open(yaml_file_path, 'w') as f:\n",
        "    yaml.dump(yaml_content, f)\n",
        "\n",
        "print(\"✅ YAML file created successfully at:\", yaml_file_path)\n"
      ]
    },
    {
      "cell_type": "code",
      "execution_count": null,
      "metadata": {
        "colab": {
          "base_uri": "https://localhost:8080/"
        },
        "id": "fsGEzzGlcZRF",
        "outputId": "c033edce-fa12-40e8-fad8-6bd0592934cc"
      },
      "outputs": [
        {
          "name": "stdout",
          "output_type": "stream",
          "text": [
            "WARNING ⚠️ conflicting 'task=classify' passed with 'task=detect' model. Ignoring 'task=classify' and updating to 'task=detect' to match model.\n",
            "Ultralytics 8.3.111 🚀 Python-3.11.12 torch-2.6.0+cu124 CUDA:0 (Tesla T4, 15095MiB)\n",
            "\u001b[34m\u001b[1mengine/trainer: \u001b[0mtask=detect, mode=train, model=yolov10n.pt, data=/content/data/working/custom/data.yaml, epochs=10, time=None, patience=100, batch=16, imgsz=224, save=True, save_period=-1, cache=False, device=None, workers=8, project=None, name=maize_leaf_classifier7, exist_ok=False, pretrained=True, optimizer=auto, verbose=True, seed=0, deterministic=True, single_cls=False, rect=False, cos_lr=False, close_mosaic=10, resume=False, amp=True, fraction=1.0, profile=False, freeze=None, multi_scale=False, overlap_mask=True, mask_ratio=4, dropout=0.0, val=True, split=val, save_json=False, conf=None, iou=0.7, max_det=300, half=False, dnn=False, plots=True, source=None, vid_stride=1, stream_buffer=False, visualize=False, augment=False, agnostic_nms=False, classes=None, retina_masks=False, embed=None, show=False, save_frames=False, save_txt=False, save_conf=False, save_crop=False, show_labels=True, show_conf=True, show_boxes=True, line_width=None, format=torchscript, keras=False, optimize=False, int8=False, dynamic=False, simplify=True, opset=None, workspace=None, nms=False, lr0=0.01, lrf=0.01, momentum=0.937, weight_decay=0.0005, warmup_epochs=3.0, warmup_momentum=0.8, warmup_bias_lr=0.1, box=7.5, cls=0.5, dfl=1.5, pose=12.0, kobj=1.0, nbs=64, hsv_h=0.015, hsv_s=0.7, hsv_v=0.4, degrees=0.0, translate=0.1, scale=0.5, shear=0.0, perspective=0.0, flipud=0.0, fliplr=0.5, bgr=0.0, mosaic=1.0, mixup=0.0, copy_paste=0.0, copy_paste_mode=flip, auto_augment=randaugment, erasing=0.4, cfg=None, tracker=botsort.yaml, save_dir=runs/detect/maize_leaf_classifier7\n",
            "WARNING: All log messages before absl::InitializeLog() is called are written to STDERR\n",
            "E0000 00:00:1745056190.393589   46619 cuda_dnn.cc:8310] Unable to register cuDNN factory: Attempting to register factory for plugin cuDNN when one has already been registered\n",
            "E0000 00:00:1745056190.399988   46619 cuda_blas.cc:1418] Unable to register cuBLAS factory: Attempting to register factory for plugin cuBLAS when one has already been registered\n",
            "Overriding model.yaml nc=80 with nc=4\n",
            "\n",
            "                   from  n    params  module                                       arguments                     \n",
            "  0                  -1  1       464  ultralytics.nn.modules.conv.Conv             [3, 16, 3, 2]                 \n",
            "  1                  -1  1      4672  ultralytics.nn.modules.conv.Conv             [16, 32, 3, 2]                \n",
            "  2                  -1  1      7360  ultralytics.nn.modules.block.C2f             [32, 32, 1, True]             \n",
            "  3                  -1  1     18560  ultralytics.nn.modules.conv.Conv             [32, 64, 3, 2]                \n",
            "  4                  -1  2     49664  ultralytics.nn.modules.block.C2f             [64, 64, 2, True]             \n",
            "  5                  -1  1      9856  ultralytics.nn.modules.block.SCDown          [64, 128, 3, 2]               \n",
            "  6                  -1  2    197632  ultralytics.nn.modules.block.C2f             [128, 128, 2, True]           \n",
            "  7                  -1  1     36096  ultralytics.nn.modules.block.SCDown          [128, 256, 3, 2]              \n",
            "  8                  -1  1    460288  ultralytics.nn.modules.block.C2f             [256, 256, 1, True]           \n",
            "  9                  -1  1    164608  ultralytics.nn.modules.block.SPPF            [256, 256, 5]                 \n",
            " 10                  -1  1    249728  ultralytics.nn.modules.block.PSA             [256, 256]                    \n",
            " 11                  -1  1         0  torch.nn.modules.upsampling.Upsample         [None, 2, 'nearest']          \n",
            " 12             [-1, 6]  1         0  ultralytics.nn.modules.conv.Concat           [1]                           \n",
            " 13                  -1  1    148224  ultralytics.nn.modules.block.C2f             [384, 128, 1]                 \n",
            " 14                  -1  1         0  torch.nn.modules.upsampling.Upsample         [None, 2, 'nearest']          \n",
            " 15             [-1, 4]  1         0  ultralytics.nn.modules.conv.Concat           [1]                           \n",
            " 16                  -1  1     37248  ultralytics.nn.modules.block.C2f             [192, 64, 1]                  \n",
            " 17                  -1  1     36992  ultralytics.nn.modules.conv.Conv             [64, 64, 3, 2]                \n",
            " 18            [-1, 13]  1         0  ultralytics.nn.modules.conv.Concat           [1]                           \n",
            " 19                  -1  1    123648  ultralytics.nn.modules.block.C2f             [192, 128, 1]                 \n",
            " 20                  -1  1     18048  ultralytics.nn.modules.block.SCDown          [128, 128, 3, 2]              \n",
            " 21            [-1, 10]  1         0  ultralytics.nn.modules.conv.Concat           [1]                           \n",
            " 22                  -1  1    282624  ultralytics.nn.modules.block.C2fCIB          [384, 256, 1, True, True]     \n",
            " 23        [16, 19, 22]  1    862888  ultralytics.nn.modules.head.v10Detect        [4, [64, 128, 256]]           \n",
            "YOLOv10n summary: 223 layers, 2,708,600 parameters, 2,708,584 gradients, 8.4 GFLOPs\n",
            "\n",
            "Transferred 493/595 items from pretrained weights\n",
            "Freezing layer 'model.23.dfl.conv.weight'\n",
            "\u001b[34m\u001b[1mAMP: \u001b[0mrunning Automatic Mixed Precision (AMP) checks...\n",
            "\u001b[34m\u001b[1mAMP: \u001b[0mchecks passed ✅\n",
            "\u001b[34m\u001b[1mtrain: \u001b[0mFast image access ✅ (ping: 0.0±0.0 ms, read: 645.7±247.2 MB/s, size: 12.1 KB)\n",
            "\u001b[34m\u001b[1mtrain: \u001b[0mScanning /content/data/working/custom/train/Blight.cache... 0 images, 1824 backgrounds, 0 corrupt: 100% 1824/1824 [00:00<?, ?it/s]\n",
            "WARNING ⚠️ No labels found in /content/data/working/custom/train/Blight.cache, training may not work correctly. See https://docs.ultralytics.com/datasets for dataset formatting guidance.\n",
            "\u001b[34m\u001b[1malbumentations: \u001b[0mBlur(p=0.01, blur_limit=(3, 7)), MedianBlur(p=0.01, blur_limit=(3, 7)), ToGray(p=0.01, num_output_channels=3, method='weighted_average'), CLAHE(p=0.01, clip_limit=(1.0, 4.0), tile_grid_size=(8, 8))\n",
            "\u001b[34m\u001b[1mval: \u001b[0mFast image access ✅ (ping: 0.0±0.0 ms, read: 901.2±1209.5 MB/s, size: 77.1 KB)\n",
            "\u001b[34m\u001b[1mval: \u001b[0mScanning /content/data/working/custom/val/Blight.cache... 0 images, 1093 backgrounds, 0 corrupt: 100% 1093/1093 [00:00<?, ?it/s]\n",
            "WARNING ⚠️ No labels found in /content/data/working/custom/val/Blight.cache, training may not work correctly. See https://docs.ultralytics.com/datasets for dataset formatting guidance.\n",
            "Plotting labels to runs/detect/maize_leaf_classifier7/labels.jpg... \n",
            "zero-size array to reduction operation maximum which has no identity\n",
            "\u001b[34m\u001b[1moptimizer:\u001b[0m 'optimizer=auto' found, ignoring 'lr0=0.01' and 'momentum=0.937' and determining best 'optimizer', 'lr0' and 'momentum' automatically... \n",
            "\u001b[34m\u001b[1moptimizer:\u001b[0m AdamW(lr=0.00125, momentum=0.9) with parameter groups 95 weight(decay=0.0), 108 weight(decay=0.0005), 107 bias(decay=0.0)\n",
            "Image sizes 224 train, 224 val\n",
            "Using 2 dataloader workers\n",
            "Logging results to \u001b[1mruns/detect/maize_leaf_classifier7\u001b[0m\n",
            "Starting training for 10 epochs...\n",
            "Closing dataloader mosaic\n",
            "\u001b[34m\u001b[1malbumentations: \u001b[0mBlur(p=0.01, blur_limit=(3, 7)), MedianBlur(p=0.01, blur_limit=(3, 7)), ToGray(p=0.01, num_output_channels=3, method='weighted_average'), CLAHE(p=0.01, clip_limit=(1.0, 4.0), tile_grid_size=(8, 8))\n",
            "\n",
            "      Epoch    GPU_mem   box_loss   cls_loss   dfl_loss  Instances       Size\n",
            "       1/10     0.428G          0      26.64          0          0        224: 100% 114/114 [00:18<00:00,  6.10it/s]\n",
            "                 Class     Images  Instances      Box(P          R      mAP50  mAP50-95): 100% 35/35 [00:06<00:00,  5.45it/s]\n",
            "/usr/local/lib/python3.11/dist-packages/ultralytics/utils/metrics.py:655: RuntimeWarning: Mean of empty slice.\n",
            "  i = smooth(f1_curve.mean(0), 0.1).argmax()  # max F1 index\n",
            "/usr/local/lib/python3.11/dist-packages/numpy/_core/_methods.py:130: RuntimeWarning: invalid value encountered in divide\n",
            "  ret = um.true_divide(\n",
            "                   all       1093          0          0          0          0          0\n",
            "WARNING ⚠️ no labels found in detect set, can not compute metrics without labels\n",
            "\n",
            "      Epoch    GPU_mem   box_loss   cls_loss   dfl_loss  Instances       Size\n",
            "       2/10     0.443G          0         18          0          0        224: 100% 114/114 [00:15<00:00,  7.15it/s]\n",
            "                 Class     Images  Instances      Box(P          R      mAP50  mAP50-95): 100% 35/35 [00:03<00:00, 10.56it/s]\n",
            "/usr/local/lib/python3.11/dist-packages/ultralytics/utils/metrics.py:655: RuntimeWarning: Mean of empty slice.\n",
            "  i = smooth(f1_curve.mean(0), 0.1).argmax()  # max F1 index\n",
            "/usr/local/lib/python3.11/dist-packages/numpy/_core/_methods.py:130: RuntimeWarning: invalid value encountered in divide\n",
            "  ret = um.true_divide(\n",
            "                   all       1093          0          0          0          0          0\n",
            "WARNING ⚠️ no labels found in detect set, can not compute metrics without labels\n",
            "\n",
            "      Epoch    GPU_mem   box_loss   cls_loss   dfl_loss  Instances       Size\n",
            "       3/10     0.459G          0       11.4          0          0        224:  94% 107/114 [00:14<00:00,  7.48it/s]\n",
            "Traceback (most recent call last):\n",
            "  File \"/usr/local/bin/yolo\", line 8, in <module>\n",
            "    sys.exit(entrypoint())\n",
            "             ^^^^^^^^^^^^\n",
            "  File \"/usr/local/lib/python3.11/dist-packages/ultralytics/cfg/__init__.py\", line 989, in entrypoint\n",
            "    getattr(model, mode)(**overrides)  # default args from model\n",
            "    ^^^^^^^^^^^^^^^^^^^^^^^^^^^^^^^^^\n",
            "  File \"/usr/local/lib/python3.11/dist-packages/ultralytics/engine/model.py\", line 791, in train\n",
            "    self.trainer.train()\n",
            "  File \"/usr/local/lib/python3.11/dist-packages/ultralytics/engine/trainer.py\", line 211, in train\n",
            "    self._do_train(world_size)\n",
            "  File \"/usr/local/lib/python3.11/dist-packages/ultralytics/engine/trainer.py\", line 367, in _do_train\n",
            "    for i, batch in pbar:\n",
            "  File \"/usr/local/lib/python3.11/dist-packages/tqdm/std.py\", line 1181, in __iter__\n",
            "    for obj in iterable:\n",
            "  File \"/usr/local/lib/python3.11/dist-packages/ultralytics/data/build.py\", line 59, in __iter__\n",
            "    yield next(self.iterator)\n",
            "          ^^^^^^^^^^^^^^^^^^^\n",
            "  File \"/usr/local/lib/python3.11/dist-packages/torch/utils/data/dataloader.py\", line 708, in __next__\n",
            "    data = self._next_data()\n",
            "           ^^^^^^^^^^^^^^^^^\n",
            "  File \"/usr/local/lib/python3.11/dist-packages/torch/utils/data/dataloader.py\", line 1458, in _next_data\n",
            "    idx, data = self._get_data()\n",
            "                ^^^^^^^^^^^^^^^^\n",
            "  File \"/usr/local/lib/python3.11/dist-packages/torch/utils/data/dataloader.py\", line 1410, in _get_data\n",
            "    success, data = self._try_get_data()\n",
            "                    ^^^^^^^^^^^^^^^^^^^^\n",
            "  File \"/usr/local/lib/python3.11/dist-packages/torch/utils/data/dataloader.py\", line 1251, in _try_get_data\n",
            "    data = self._data_queue.get(timeout=timeout)\n",
            "           ^^^^^^^^^^^^^^^^^^^^^^^^^^^^^^^^^^^^^\n",
            "  File \"/usr/lib/python3.11/queue.py\", line 180, in get\n",
            "    self.not_empty.wait(remaining)\n",
            "  File \"/usr/lib/python3.11/threading.py\", line 331, in wait\n",
            "    gotit = waiter.acquire(True, timeout)\n",
            "            ^^^^^^^^^^^^^^^^^^^^^^^^^^^^^\n",
            "KeyboardInterrupt\n"
          ]
        }
      ],
      "source": [
        "!yolo task=classify mode=train model=yolov10n.pt data=/content/data/working/custom/data.yaml epochs=10 imgsz=224 name=maize_leaf_classifier\n"
      ]
    },
    {
      "cell_type": "code",
      "execution_count": null,
      "metadata": {
        "colab": {
          "base_uri": "https://localhost:8080/"
        },
        "id": "vGbeyRgkdVL2",
        "outputId": "8ca200bd-52ec-4b8d-f988-7fa7aef49a8a"
      },
      "outputs": [
        {
          "name": "stdout",
          "output_type": "stream",
          "text": [
            "🔍 Checking images in the training folder...\n",
            "✅ Found 120 images in: /content/data/working/custom/train/Blight\n",
            "✅ Found 34 images in: /content/data/working/custom/train/Common_Rust\n",
            "✅ Found 98 images in: /content/data/working/custom/train/Gray_Leaf_Spot\n",
            "✅ Found 449 images in: /content/data/working/custom/train/Healthy\n",
            "🔍 Checking images in the validation folder...\n",
            "✅ Found 71 images in: /content/data/working/custom/val/Blight\n",
            "✅ Found 58 images in: /content/data/working/custom/val/Common_Rust\n",
            "✅ Found 38 images in: /content/data/working/custom/val/Gray_Leaf_Spot\n",
            "✅ Found 335 images in: /content/data/working/custom/val/Healthy\n",
            "🔍 Checking images in the test folder...\n",
            "✅ Found 15 images in: /content/data/working/custom/test/Blight\n",
            "✅ Found 4 images in: /content/data/working/custom/test/Common_Rust\n",
            "✅ Found 11 images in: /content/data/working/custom/test/Gray_Leaf_Spot\n",
            "✅ Found 57 images in: /content/data/working/custom/test/Healthy\n"
          ]
        }
      ],
      "source": [
        "import os\n",
        "\n",
        "# Define paths as per the data.yaml structure\n",
        "train_folder = '/content/data/working/custom/train'\n",
        "val_folder = '/content/data/working/custom/val'\n",
        "test_folder = '/content/data/working/custom/test'\n",
        "\n",
        "# Function to check if images exist in the given folder\n",
        "def check_images_in_folder(folder_path):\n",
        "    # List all subfolders (class folders)\n",
        "    subfolders = [f.path for f in os.scandir(folder_path) if f.is_dir()]\n",
        "\n",
        "    # For each class, check if images are present\n",
        "    for subfolder in subfolders:\n",
        "        images = [f.path for f in os.scandir(subfolder) if f.is_file() and f.name.endswith(('jpg', 'jpeg', 'png'))]\n",
        "        if not images:\n",
        "            print(f\"❌ No images found in: {subfolder}\")\n",
        "        else:\n",
        "            print(f\"✅ Found {len(images)} images in: {subfolder}\")\n",
        "\n",
        "# Check images in all dataset folders (train, val, test)\n",
        "print(\"🔍 Checking images in the training folder...\")\n",
        "check_images_in_folder(train_folder)\n",
        "\n",
        "print(\"🔍 Checking images in the validation folder...\")\n",
        "check_images_in_folder(val_folder)\n",
        "\n",
        "print(\"🔍 Checking images in the test folder...\")\n",
        "check_images_in_folder(test_folder)\n"
      ]
    },
    {
      "cell_type": "code",
      "execution_count": null,
      "metadata": {
        "id": "pzT2Hychn1wE"
      },
      "outputs": [],
      "source": [
        "# Import the YOLO class from the ultralytics library\n",
        "from ultralytics import YOLO\n",
        "\n",
        "# Load the trained YOLO model from the specified path\n",
        "model2 = YOLO(\"/content/runs/classify/train/weights/best.pt\")\n",
        "\n",
        "# Export the loaded model to TensorFlow Lite format for offline deployment to mobile\n",
        "model2.export(format='tflite')"
      ]
    },
    {
      "cell_type": "code",
      "execution_count": null,
      "metadata": {
        "id": "tgQlXLSQ9WAb"
      },
      "outputs": [],
      "source": [
        "# Save the model after training\n",
        "model.save('/content/maize_leaf_model.pt')"
      ]
    },
    {
      "cell_type": "code",
      "execution_count": null,
      "metadata": {
        "id": "UZ2sbTL1XQmF"
      },
      "outputs": [],
      "source": [
        "import shutil\n",
        "shutil.make_archive('/content/maize-leaf-runs', 'zip', '/content/runs')"
      ]
    }
  ],
  "metadata": {
    "accelerator": "GPU",
    "colab": {
      "gpuType": "T4",
      "provenance": [],
      "include_colab_link": true
    },
    "kernelspec": {
      "display_name": "Python 3",
      "name": "python3"
    },
    "language_info": {
      "name": "python"
    }
  },
  "nbformat": 4,
  "nbformat_minor": 0
}